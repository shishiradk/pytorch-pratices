{
  "nbformat": 4,
  "nbformat_minor": 0,
  "metadata": {
    "colab": {
      "provenance": [],
      "authorship_tag": "ABX9TyPaaHxdX9F9KtJF3dXoXaN3",
      "include_colab_link": true
    },
    "kernelspec": {
      "name": "python3",
      "display_name": "Python 3"
    },
    "language_info": {
      "name": "python"
    }
  },
  "cells": [
    {
      "cell_type": "markdown",
      "metadata": {
        "id": "view-in-github",
        "colab_type": "text"
      },
      "source": [
        "<a href=\"https://colab.research.google.com/github/shishiradk/pytorch-pratices/blob/main/03_Pytorch_Computer_Vision.ipynb\" target=\"_parent\"><img src=\"https://colab.research.google.com/assets/colab-badge.svg\" alt=\"Open In Colab\"/></a>"
      ]
    },
    {
      "cell_type": "markdown",
      "source": [
        "### Pytorch  Computer Vision"
      ],
      "metadata": {
        "id": "xYnOssEWwGEN"
      }
    },
    {
      "cell_type": "markdown",
      "source": [
        "## 0. Compuer vision libraries  in Pytorch\n",
        "\n",
        "* `torchvision` - base domain library for Pytorch computer vision\n",
        "* `torchvision.datasets`  - get  datasets and data loading functions for computer vision here\n",
        "* `torchvision.models` - get pretrained computer vision models that you can leverage for your own problems\n",
        "*  `torchvision.transforms` - functions for manipulating your vision data (images) to be suitable for se with an ML model\n",
        "* `torch.utils.data.Dataset`  - Base dataset class for Pytorch.\n",
        "* `torch.utils.data.dataloader` - Creates a Python iterable over a dataset"
      ],
      "metadata": {
        "id": "GLDP-1_1wUTZ"
      }
    },
    {
      "cell_type": "code",
      "execution_count": 1,
      "metadata": {
        "colab": {
          "base_uri": "https://localhost:8080/"
        },
        "id": "r0GgEZOqBX67",
        "outputId": "36b6840d-3a4a-4c7c-a8f5-06a6ff8754d3"
      },
      "outputs": [
        {
          "output_type": "stream",
          "name": "stdout",
          "text": [
            "2.8.0+cu126\n",
            "0.23.0+cu126\n"
          ]
        }
      ],
      "source": [
        "# import Pytorch\n",
        "import torch\n",
        "from torch import nn\n",
        "\n",
        "#import torchvision\n",
        "import torchvision\n",
        "\n",
        "from torchvision import datasets\n",
        "from torchvision import transforms\n",
        "from torchvision.transforms import ToTensor\n",
        "\n",
        "#import matplotlib for visualization\n",
        "print(torch.__version__)\n",
        "print(torchvision.__version__)"
      ]
    },
    {
      "cell_type": "code",
      "source": [],
      "metadata": {
        "id": "ZKDJ5-CBzzRO"
      },
      "execution_count": null,
      "outputs": []
    }
  ]
}