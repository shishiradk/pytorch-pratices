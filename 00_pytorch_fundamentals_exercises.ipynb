{
  "nbformat": 4,
  "nbformat_minor": 0,
  "metadata": {
    "colab": {
      "provenance": [],
      "gpuType": "T4",
      "include_colab_link": true
    },
    "kernelspec": {
      "name": "python3",
      "display_name": "Python 3"
    },
    "language_info": {
      "name": "python"
    },
    "accelerator": "GPU"
  },
  "cells": [
    {
      "cell_type": "markdown",
      "metadata": {
        "id": "view-in-github",
        "colab_type": "text"
      },
      "source": [
        "<a href=\"https://colab.research.google.com/github/shishiradk/pytorch-pratices/blob/main/00_pytorch_fundamentals_exercises.ipynb\" target=\"_parent\"><img src=\"https://colab.research.google.com/assets/colab-badge.svg\" alt=\"Open In Colab\"/></a>"
      ]
    },
    {
      "cell_type": "markdown",
      "source": [
        "# 00. PyTorch Fundamentals Exercises\n",
        "\n",
        "### 1. Documentation reading\n",
        "\n",
        "A big part of deep learning (and learning to code in general) is getting familiar with the documentation of a certain framework you're using. We'll be using the PyTorch documentation a lot throughout the rest of this course. So I'd recommend spending 10-minutes reading the following (it's okay if you don't get some things for now, the focus is not yet full understanding, it's awareness):\n",
        "  * The documentation on [`torch.Tensor`](https://pytorch.org/docs/stable/tensors.html#torch-tensor).\n",
        "  * The documentation on [`torch.cuda`](https://pytorch.org/docs/master/notes/cuda.html#cuda-semantics).\n",
        "\n"
      ],
      "metadata": {
        "id": "AzDBM_v4iMe7"
      }
    },
    {
      "cell_type": "code",
      "source": [
        "# No code solution (reading)"
      ],
      "metadata": {
        "id": "bGD0oD8Kizak"
      },
      "execution_count": null,
      "outputs": []
    },
    {
      "cell_type": "markdown",
      "source": [
        "### 2. Create a random tensor with shape `(7, 7)`.\n"
      ],
      "metadata": {
        "id": "__iXqqz-ioUJ"
      }
    },
    {
      "cell_type": "code",
      "source": [
        "import torch\n",
        "\n",
        "\n",
        "# Create random tensor\n",
        "\n",
        "tensor = torch.rand(7, 7)\n",
        "print(tensor)\n",
        "print(tensor.shape)\n"
      ],
      "metadata": {
        "id": "6pUq9Dc8i2L7",
        "colab": {
          "base_uri": "https://localhost:8080/"
        },
        "outputId": "656e87d4-ba04-49d8-9ce9-0114efba69ca"
      },
      "execution_count": 2,
      "outputs": [
        {
          "output_type": "stream",
          "name": "stdout",
          "text": [
            "tensor([[0.8143, 0.3573, 0.2897, 0.8847, 0.3163, 0.5937, 0.7217],\n",
            "        [0.2135, 0.7931, 0.1989, 0.4174, 0.2061, 0.3992, 0.2980],\n",
            "        [0.1377, 0.5045, 0.9822, 0.9318, 0.7040, 0.5522, 0.4526],\n",
            "        [0.6309, 0.2167, 0.7445, 0.5495, 0.8037, 0.6810, 0.9497],\n",
            "        [0.2415, 0.9801, 0.1960, 0.4032, 0.6370, 0.0373, 0.8240],\n",
            "        [0.6482, 0.4616, 0.7195, 0.4031, 0.8671, 0.0093, 0.0198],\n",
            "        [0.3476, 0.1628, 0.0648, 0.5627, 0.2733, 0.2033, 0.8336]])\n",
            "torch.Size([7, 7])\n"
          ]
        }
      ]
    },
    {
      "cell_type": "markdown",
      "source": [
        "### 3. Perform a matrix multiplication on the tensor from 2 with another random tensor with shape `(1, 7)` (hint: you may have to transpose the second tensor)."
      ],
      "metadata": {
        "id": "9-XxvRLfiqkR"
      }
    },
    {
      "cell_type": "code",
      "source": [
        "# Create another random tensor\n",
        "x = torch.rand(1,7)\n",
        "print(x)\n",
        "\n",
        "# Perform matrix multiplication\n",
        "y =torch.matmul(tensor,x.T)\n",
        "print(y)"
      ],
      "metadata": {
        "id": "NcLqR0Sbi_vT",
        "colab": {
          "base_uri": "https://localhost:8080/"
        },
        "outputId": "d3de5973-d8ea-428a-e2fa-9e2c1051f3f8"
      },
      "execution_count": 3,
      "outputs": [
        {
          "output_type": "stream",
          "name": "stdout",
          "text": [
            "tensor([[0.0723, 0.6064, 0.0155, 0.1990, 0.6534, 0.1945, 0.2705]])\n",
            "tensor([[0.9734],\n",
            "        [0.8754],\n",
            "        [1.2064],\n",
            "        [1.2125],\n",
            "        [1.3415],\n",
            "        [0.9919],\n",
            "        [0.6804]])\n"
          ]
        }
      ]
    },
    {
      "cell_type": "markdown",
      "source": [
        "### 4. Set the random seed to `0` and do 2 & 3 over again.\n",
        "\n",
        "The output should be:\n",
        "```\n",
        "(tensor([[1.8542],\n",
        "         [1.9611],\n",
        "         [2.2884],\n",
        "         [3.0481],\n",
        "         [1.7067],\n",
        "         [2.5290],\n",
        "         [1.7989]]), torch.Size([7, 1]))\n",
        "```"
      ],
      "metadata": {
        "id": "eiutdKUFiryU"
      }
    },
    {
      "cell_type": "code",
      "source": [
        "# Set manual seed\n",
        "RANDOM_SEED =0\n",
        "# torch.manual_seed(seed=RANDOM_SEED)\n",
        "\n",
        "# Create two random tensors\n",
        "random_tensor_C = torch.rand(3,4)\n",
        "random_tensor_D = torch.rand(3,4)\n",
        "\n",
        "# Matrix multiply tensors\n",
        "y = torch.matmul(random_tensor_C,random_tensor_D.T)\n",
        "y"
      ],
      "metadata": {
        "id": "D-lOWI_1jRMm",
        "colab": {
          "base_uri": "https://localhost:8080/"
        },
        "outputId": "0e289108-cc4a-4207-c2ad-038f3385d9ea"
      },
      "execution_count": 4,
      "outputs": [
        {
          "output_type": "execute_result",
          "data": {
            "text/plain": [
              "tensor([[0.7656, 0.8134, 0.4103],\n",
              "        [1.8788, 1.2471, 0.9134],\n",
              "        [1.6740, 1.1996, 0.9446]])"
            ]
          },
          "metadata": {},
          "execution_count": 4
        }
      ]
    },
    {
      "cell_type": "markdown",
      "source": [
        "### 5. Speaking of random seeds, we saw how to set it with `torch.manual_seed()` but is there a GPU equivalent? (hint: you'll need to look into the documentation for `torch.cuda` for this one)\n",
        "  * If there is, set the GPU random seed to `1234`."
      ],
      "metadata": {
        "id": "ezY6ks9Cis37"
      }
    },
    {
      "cell_type": "code",
      "source": [
        "# Set random seed on the GPU\n",
        "RANDOM_SEED = 1234\n",
        "torch.cuda.manual_seed(seed=RANDOM_SEED)"
      ],
      "metadata": {
        "id": "_LKWcfSTjp00"
      },
      "execution_count": 5,
      "outputs": []
    },
    {
      "cell_type": "markdown",
      "source": [
        "\n",
        "### 6. Create two random tensors of shape `(2, 3)` and send them both to the GPU (you'll need access to a GPU for this). Set `torch.manual_seed(1234)` when creating the tensors (this doesn't have to be the GPU random seed). The output should be something like:\n",
        "\n",
        "```\n",
        "Device: cuda\n",
        "(tensor([[0.0290, 0.4019, 0.2598],\n",
        "         [0.3666, 0.0583, 0.7006]], device='cuda:0'),\n",
        " tensor([[0.0518, 0.4681, 0.6738],\n",
        "         [0.3315, 0.7837, 0.5631]], device='cuda:0'))\n",
        "```"
      ],
      "metadata": {
        "id": "Ir9qSaj6it4n"
      }
    },
    {
      "cell_type": "code",
      "source": [
        "import torch\n",
        "# Set random seed\n",
        "RANDOM_SEED = 1234\n",
        "\n",
        "# Check for access to GPU\n",
        "device = \"cuda\" if torch.cuda.is_available() else \"cpu\"\n",
        "device\n",
        "\n",
        "# Create two random tensors on GPU\n",
        "y_on_gpu = torch.rand(2,3).to(device)\n",
        "print(y_on_gpu)\n",
        "print(y_on_gpu.shape)\n",
        "tensor_on_gpu= torch.rand(2,4).to(device)\n",
        "tensor_on_gpu\n"
      ],
      "metadata": {
        "id": "azXExiFZj5nm",
        "colab": {
          "base_uri": "https://localhost:8080/"
        },
        "outputId": "923a6eae-44a4-4866-d9e0-ff51fd851cf0"
      },
      "execution_count": 16,
      "outputs": [
        {
          "output_type": "stream",
          "name": "stdout",
          "text": [
            "tensor([[0.1844, 0.4492, 0.9772],\n",
            "        [0.2967, 0.5346, 0.1099]], device='cuda:0')\n",
            "torch.Size([2, 3])\n"
          ]
        },
        {
          "output_type": "execute_result",
          "data": {
            "text/plain": [
              "tensor([[0.3956, 0.1819, 0.6019, 0.1531],\n",
              "        [0.0603, 0.1019, 0.3581, 0.9530]], device='cuda:0')"
            ]
          },
          "metadata": {},
          "execution_count": 16
        }
      ]
    },
    {
      "cell_type": "markdown",
      "source": [
        "\n",
        "### 7. Perform a matrix multiplication on the tensors you created in 6 (again, you may have to adjust the shapes of one of the tensors).\n",
        "\n",
        "The output should look like:\n",
        "```\n",
        "(tensor([[0.3647, 0.4709],\n",
        "         [0.5184, 0.5617]], device='cuda:0'), torch.Size([2, 2]))\n",
        "```"
      ],
      "metadata": {
        "id": "5TlAxeiSiu1y"
      }
    },
    {
      "cell_type": "code",
      "source": [
        "# Perform matmul on tensor_A and tensor_B\n",
        "tensor_A = torch.rand(2,3)\n",
        "tensor_B =torch.rand(3,2)\n",
        "\n",
        "x=torch.matmul(tensor_A,tensor_B)\n",
        "print(x)\n",
        "x.shape\n"
      ],
      "metadata": {
        "id": "fAeG7ox0lHEO",
        "colab": {
          "base_uri": "https://localhost:8080/"
        },
        "outputId": "db0c88ef-3300-4c41-9c4b-9e58197db02c"
      },
      "execution_count": 20,
      "outputs": [
        {
          "output_type": "stream",
          "name": "stdout",
          "text": [
            "tensor([[1.1712, 1.0696],\n",
            "        [0.9420, 0.8232]])\n"
          ]
        },
        {
          "output_type": "execute_result",
          "data": {
            "text/plain": [
              "torch.Size([2, 2])"
            ]
          },
          "metadata": {},
          "execution_count": 20
        }
      ]
    },
    {
      "cell_type": "markdown",
      "source": [
        "### 8. Find the maximum and minimum values of the output of 7."
      ],
      "metadata": {
        "id": "G7qfa5CSivwg"
      }
    },
    {
      "cell_type": "code",
      "source": [
        "import torch\n",
        "\n",
        "x = torch.rand(7,7)\n",
        "# Find max\n",
        "\n",
        "max_value = torch.max(x)\n",
        "print(max_value)\n",
        "\n",
        "# Find min\n",
        "min_value = torch.min(x)\n",
        "print(min_value)"
      ],
      "metadata": {
        "id": "Fu8_3mZpllOd",
        "colab": {
          "base_uri": "https://localhost:8080/"
        },
        "outputId": "e3b75493-e7e5-4b18-e5d6-25e55e7dd1ef"
      },
      "execution_count": 22,
      "outputs": [
        {
          "output_type": "stream",
          "name": "stdout",
          "text": [
            "tensor(0.9647)\n",
            "tensor(0.0365)\n"
          ]
        }
      ]
    },
    {
      "cell_type": "markdown",
      "source": [
        "### 9. Find the maximum and minimum index values of the output of 7."
      ],
      "metadata": {
        "id": "wrTj5FgNiw47"
      }
    },
    {
      "cell_type": "code",
      "source": [
        "import torch\n",
        "\n",
        "x = torch.rand(7,7)\n",
        "# Find arg max\n",
        "max_value = torch.argmax(x)\n",
        "\n",
        "# Find arg min\n",
        "min_value = torch.argmin(x)\n",
        "\n",
        "max_coords = torch.unravel_index(max_value, x.shape)\n",
        "min_coords = torch.unravel_index(min_value, x.shape)\n",
        "\n",
        "print(\"\\nMax value:\", x[max_coords].item(), \"at index\", max_coords)\n",
        "print(\"Min value:\", x[min_coords].item(), \"at index\", min_coords)"
      ],
      "metadata": {
        "id": "CCEKt4K2lsfQ",
        "colab": {
          "base_uri": "https://localhost:8080/"
        },
        "outputId": "2303bf40-f285-4d0b-ae2f-0b6c7267d975"
      },
      "execution_count": 29,
      "outputs": [
        {
          "output_type": "stream",
          "name": "stdout",
          "text": [
            "\n",
            "Max value: 0.9950560927391052 at index (tensor(3), tensor(0))\n",
            "Min value: 0.006496071815490723 at index (tensor(2), tensor(5))\n"
          ]
        }
      ]
    },
    {
      "cell_type": "markdown",
      "source": [
        "\n",
        "### 10. Make a random tensor with shape `(1, 1, 1, 10)` and then create a new tensor with all the `1` dimensions removed to be left with a tensor of shape `(10)`. Set the seed to `7` when you create it and print out the first tensor and it's shape as well as the second tensor and it's shape.\n",
        "\n",
        "The output should look like:\n",
        "\n",
        "```\n",
        "tensor([[[[0.5349, 0.1988, 0.6592, 0.6569, 0.2328, 0.4251, 0.2071, 0.6297,\n",
        "           0.3653, 0.8513]]]]) torch.Size([1, 1, 1, 10])\n",
        "tensor([0.5349, 0.1988, 0.6592, 0.6569, 0.2328, 0.4251, 0.2071, 0.6297, 0.3653,\n",
        "        0.8513]) torch.Size([10])\n",
        "```"
      ],
      "metadata": {
        "id": "hmeybz4uixy7"
      }
    },
    {
      "cell_type": "code",
      "source": [
        "import torch\n",
        "# Set seed\n",
        "RANDOM_SEED = 1234\n",
        "\n",
        "# Create random tensor\n",
        "x = torch.rand(2,3)\n",
        "\n",
        "# Remove single dimensions\n",
        "x = torch.squeeze(x)\n",
        "\n",
        "# Print out tensors and their shapes\n",
        "print(x)\n",
        "x.shape"
      ],
      "metadata": {
        "id": "TQ9zbRzVl1jV",
        "colab": {
          "base_uri": "https://localhost:8080/"
        },
        "outputId": "d942fd4e-9fae-488d-8dd9-0d4bdf349a73"
      },
      "execution_count": 30,
      "outputs": [
        {
          "output_type": "stream",
          "name": "stdout",
          "text": [
            "tensor([[0.4975, 0.8972, 0.8245],\n",
            "        [0.4807, 0.4788, 0.3652]])\n"
          ]
        },
        {
          "output_type": "execute_result",
          "data": {
            "text/plain": [
              "torch.Size([2, 3])"
            ]
          },
          "metadata": {},
          "execution_count": 30
        }
      ]
    },
    {
      "cell_type": "code",
      "source": [],
      "metadata": {
        "id": "pU6AQf4Ra89j"
      },
      "execution_count": null,
      "outputs": []
    }
  ]
}