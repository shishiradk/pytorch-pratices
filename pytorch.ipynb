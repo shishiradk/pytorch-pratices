{
  "nbformat": 4,
  "nbformat_minor": 0,
  "metadata": {
    "colab": {
      "provenance": [],
      "gpuType": "T4",
      "authorship_tag": "ABX9TyPu23rRhWXP7RRIYTkXf8R1",
      "include_colab_link": true
    },
    "kernelspec": {
      "name": "python3",
      "display_name": "Python 3"
    },
    "language_info": {
      "name": "python"
    },
    "accelerator": "GPU"
  },
  "cells": [
    {
      "cell_type": "markdown",
      "metadata": {
        "id": "view-in-github",
        "colab_type": "text"
      },
      "source": [
        "<a href=\"https://colab.research.google.com/github/shishiradk/pytorch-pratices/blob/main/pytorch.ipynb\" target=\"_parent\"><img src=\"https://colab.research.google.com/assets/colab-badge.svg\" alt=\"Open In Colab\"/></a>"
      ]
    },
    {
      "cell_type": "code",
      "execution_count": 1,
      "metadata": {
        "colab": {
          "base_uri": "https://localhost:8080/"
        },
        "id": "Ipxmmm-BuHoq",
        "outputId": "e9aa3954-1e82-47ce-854f-b2de096a5631"
      },
      "outputs": [
        {
          "output_type": "stream",
          "name": "stdout",
          "text": [
            "Thu Mar  6 17:38:07 2025       \n",
            "+-----------------------------------------------------------------------------------------+\n",
            "| NVIDIA-SMI 550.54.15              Driver Version: 550.54.15      CUDA Version: 12.4     |\n",
            "|-----------------------------------------+------------------------+----------------------+\n",
            "| GPU  Name                 Persistence-M | Bus-Id          Disp.A | Volatile Uncorr. ECC |\n",
            "| Fan  Temp   Perf          Pwr:Usage/Cap |           Memory-Usage | GPU-Util  Compute M. |\n",
            "|                                         |                        |               MIG M. |\n",
            "|=========================================+========================+======================|\n",
            "|   0  Tesla T4                       Off |   00000000:00:04.0 Off |                    0 |\n",
            "| N/A   53C    P8              9W /   70W |       0MiB /  15360MiB |      0%      Default |\n",
            "|                                         |                        |                  N/A |\n",
            "+-----------------------------------------+------------------------+----------------------+\n",
            "                                                                                         \n",
            "+-----------------------------------------------------------------------------------------+\n",
            "| Processes:                                                                              |\n",
            "|  GPU   GI   CI        PID   Type   Process name                              GPU Memory |\n",
            "|        ID   ID                                                               Usage      |\n",
            "|=========================================================================================|\n",
            "|  No running processes found                                                             |\n",
            "+-----------------------------------------------------------------------------------------+\n"
          ]
        }
      ],
      "source": [
        "!nvidia-smi\n"
      ]
    },
    {
      "cell_type": "code",
      "source": [
        "import numpy as np\n",
        "import pandas as pd\n",
        "import matplotlib.pyplot as plt\n",
        "import torch\n",
        "print(torch.__version__)"
      ],
      "metadata": {
        "colab": {
          "base_uri": "https://localhost:8080/"
        },
        "id": "eZa8yggluhDq",
        "outputId": "2fb92ade-abb0-4653-ce25-3052f678cad8"
      },
      "execution_count": 2,
      "outputs": [
        {
          "output_type": "stream",
          "name": "stdout",
          "text": [
            "2.5.1+cu124\n"
          ]
        }
      ]
    },
    {
      "cell_type": "markdown",
      "source": [
        "introduction to tensors\n",
        "creating tensor"
      ],
      "metadata": {
        "id": "0T04eZk0w0gf"
      }
    },
    {
      "cell_type": "markdown",
      "source": [],
      "metadata": {
        "id": "BRYigiaOw3Fh"
      }
    },
    {
      "cell_type": "code",
      "source": [
        "#scalar\n",
        "scalar = torch.tensor(7)\n",
        "scalar\n"
      ],
      "metadata": {
        "colab": {
          "base_uri": "https://localhost:8080/"
        },
        "id": "E78psR9bwJyK",
        "outputId": "ebc10b32-a04f-4f04-bfc6-9c5c903849f7"
      },
      "execution_count": 3,
      "outputs": [
        {
          "output_type": "execute_result",
          "data": {
            "text/plain": [
              "tensor(7)"
            ]
          },
          "metadata": {},
          "execution_count": 3
        }
      ]
    },
    {
      "cell_type": "code",
      "source": [
        "scalar.ndim"
      ],
      "metadata": {
        "colab": {
          "base_uri": "https://localhost:8080/"
        },
        "id": "IqIfhYWywrSG",
        "outputId": "1e393725-658b-4e62-9568-8c095f1b62e0"
      },
      "execution_count": 4,
      "outputs": [
        {
          "output_type": "execute_result",
          "data": {
            "text/plain": [
              "0"
            ]
          },
          "metadata": {},
          "execution_count": 4
        }
      ]
    },
    {
      "cell_type": "code",
      "source": [
        "#get tensor back as python int\n",
        "scalar.item()"
      ],
      "metadata": {
        "colab": {
          "base_uri": "https://localhost:8080/"
        },
        "id": "g57NNznbyB6a",
        "outputId": "b3f381bc-7118-43cf-d600-5acfa9631851"
      },
      "execution_count": 5,
      "outputs": [
        {
          "output_type": "execute_result",
          "data": {
            "text/plain": [
              "7"
            ]
          },
          "metadata": {},
          "execution_count": 5
        }
      ]
    },
    {
      "cell_type": "code",
      "source": [
        "#vector\n",
        "vector = torch.tensor([7,7])\n",
        "vector"
      ],
      "metadata": {
        "colab": {
          "base_uri": "https://localhost:8080/"
        },
        "id": "am4C3NNzyOLN",
        "outputId": "7275b597-d6a3-4a66-9094-f7e2b7d6f8b0"
      },
      "execution_count": 6,
      "outputs": [
        {
          "output_type": "execute_result",
          "data": {
            "text/plain": [
              "tensor([7, 7])"
            ]
          },
          "metadata": {},
          "execution_count": 6
        }
      ]
    },
    {
      "cell_type": "code",
      "source": [
        "vector.ndim"
      ],
      "metadata": {
        "colab": {
          "base_uri": "https://localhost:8080/"
        },
        "id": "UG3w44iRyh9b",
        "outputId": "1bb0b2c7-c404-4a39-f31c-21cd76ad1ac5"
      },
      "execution_count": 7,
      "outputs": [
        {
          "output_type": "execute_result",
          "data": {
            "text/plain": [
              "1"
            ]
          },
          "metadata": {},
          "execution_count": 7
        }
      ]
    },
    {
      "cell_type": "code",
      "source": [
        "vector.shape"
      ],
      "metadata": {
        "colab": {
          "base_uri": "https://localhost:8080/"
        },
        "id": "T4ieiQRyymB1",
        "outputId": "e75bf94d-e468-4d69-affe-68395c6cc1e6"
      },
      "execution_count": 8,
      "outputs": [
        {
          "output_type": "execute_result",
          "data": {
            "text/plain": [
              "torch.Size([2])"
            ]
          },
          "metadata": {},
          "execution_count": 8
        }
      ]
    },
    {
      "cell_type": "code",
      "source": [
        "#matrix\n",
        "MATRIX = torch.tensor([[7,8],\n",
        "                      [9,10]])\n",
        "MATRIX\n"
      ],
      "metadata": {
        "colab": {
          "base_uri": "https://localhost:8080/"
        },
        "id": "wexINEwqyolb",
        "outputId": "5a0acf68-0520-4b22-c6ae-88fd6fc150e9"
      },
      "execution_count": 9,
      "outputs": [
        {
          "output_type": "execute_result",
          "data": {
            "text/plain": [
              "tensor([[ 7,  8],\n",
              "        [ 9, 10]])"
            ]
          },
          "metadata": {},
          "execution_count": 9
        }
      ]
    },
    {
      "cell_type": "code",
      "source": [
        "MATRIX.ndim"
      ],
      "metadata": {
        "colab": {
          "base_uri": "https://localhost:8080/"
        },
        "id": "Xm7PGAG1zEBZ",
        "outputId": "4aa9465f-c9ca-4b0c-ec4c-dbb71503bc1b"
      },
      "execution_count": 10,
      "outputs": [
        {
          "output_type": "execute_result",
          "data": {
            "text/plain": [
              "2"
            ]
          },
          "metadata": {},
          "execution_count": 10
        }
      ]
    },
    {
      "cell_type": "code",
      "source": [
        "MATRIX[1]"
      ],
      "metadata": {
        "colab": {
          "base_uri": "https://localhost:8080/"
        },
        "id": "EvoOzPJdzIgd",
        "outputId": "830464f2-c65d-4bd9-a3ba-b88b68b92e21"
      },
      "execution_count": 11,
      "outputs": [
        {
          "output_type": "execute_result",
          "data": {
            "text/plain": [
              "tensor([ 9, 10])"
            ]
          },
          "metadata": {},
          "execution_count": 11
        }
      ]
    },
    {
      "cell_type": "code",
      "source": [
        "MATRIX.shape"
      ],
      "metadata": {
        "colab": {
          "base_uri": "https://localhost:8080/"
        },
        "id": "6eSRxHX2zOS4",
        "outputId": "4e44f372-697e-41c7-c5d2-92fddffb7d0c"
      },
      "execution_count": 12,
      "outputs": [
        {
          "output_type": "execute_result",
          "data": {
            "text/plain": [
              "torch.Size([2, 2])"
            ]
          },
          "metadata": {},
          "execution_count": 12
        }
      ]
    },
    {
      "cell_type": "code",
      "source": [
        "#TENSOR\n",
        "TENSOR = torch.tensor([[[1,2,4],\n",
        "                         [2,3,4],\n",
        "                         [4,5,6]]])"
      ],
      "metadata": {
        "id": "8950TfPczRPv"
      },
      "execution_count": 13,
      "outputs": []
    },
    {
      "cell_type": "code",
      "source": [
        "TENSOR"
      ],
      "metadata": {
        "colab": {
          "base_uri": "https://localhost:8080/"
        },
        "id": "SJ2MSdj7zqLW",
        "outputId": "802f65c6-eb8c-4fd0-f18b-dc7a01ab28b8"
      },
      "execution_count": 14,
      "outputs": [
        {
          "output_type": "execute_result",
          "data": {
            "text/plain": [
              "tensor([[[1, 2, 4],\n",
              "         [2, 3, 4],\n",
              "         [4, 5, 6]]])"
            ]
          },
          "metadata": {},
          "execution_count": 14
        }
      ]
    },
    {
      "cell_type": "code",
      "source": [
        "TENSOR.ndim"
      ],
      "metadata": {
        "colab": {
          "base_uri": "https://localhost:8080/"
        },
        "id": "LUFlW-blztOy",
        "outputId": "35a1e98c-0aaa-4989-cef4-f822429a9f26"
      },
      "execution_count": 15,
      "outputs": [
        {
          "output_type": "execute_result",
          "data": {
            "text/plain": [
              "3"
            ]
          },
          "metadata": {},
          "execution_count": 15
        }
      ]
    },
    {
      "cell_type": "code",
      "source": [
        "TENSOR.shape"
      ],
      "metadata": {
        "colab": {
          "base_uri": "https://localhost:8080/"
        },
        "id": "NOi9qPb9zvmF",
        "outputId": "33a13105-4e41-4403-b8b4-75c0fa8ded3a"
      },
      "execution_count": 16,
      "outputs": [
        {
          "output_type": "execute_result",
          "data": {
            "text/plain": [
              "torch.Size([1, 3, 3])"
            ]
          },
          "metadata": {},
          "execution_count": 16
        }
      ]
    },
    {
      "cell_type": "code",
      "source": [
        "TENSOR[0]"
      ],
      "metadata": {
        "colab": {
          "base_uri": "https://localhost:8080/"
        },
        "id": "6eeTCFwtzyJi",
        "outputId": "20929f87-20e1-4d8c-9ad4-2617406869c4"
      },
      "execution_count": 17,
      "outputs": [
        {
          "output_type": "execute_result",
          "data": {
            "text/plain": [
              "tensor([[1, 2, 4],\n",
              "        [2, 3, 4],\n",
              "        [4, 5, 6]])"
            ]
          },
          "metadata": {},
          "execution_count": 17
        }
      ]
    },
    {
      "cell_type": "code",
      "source": [
        "TENSOR = torch.tensor([[[6,7,8],\n",
        "                        [5,6,7],\n",
        "                        [4,5,6]]])\n",
        "TENSOR"
      ],
      "metadata": {
        "colab": {
          "base_uri": "https://localhost:8080/"
        },
        "id": "ET2lqt--z0gu",
        "outputId": "424c6030-3a74-4995-ed32-8472b24b44be"
      },
      "execution_count": 18,
      "outputs": [
        {
          "output_type": "execute_result",
          "data": {
            "text/plain": [
              "tensor([[[6, 7, 8],\n",
              "         [5, 6, 7],\n",
              "         [4, 5, 6]]])"
            ]
          },
          "metadata": {},
          "execution_count": 18
        }
      ]
    },
    {
      "cell_type": "code",
      "source": [
        "TENSOR.ndim"
      ],
      "metadata": {
        "colab": {
          "base_uri": "https://localhost:8080/"
        },
        "id": "CsuKrOcMz27a",
        "outputId": "2c3f9299-b025-4c44-83f9-3bfb49d0176d"
      },
      "execution_count": 19,
      "outputs": [
        {
          "output_type": "execute_result",
          "data": {
            "text/plain": [
              "3"
            ]
          },
          "metadata": {},
          "execution_count": 19
        }
      ]
    },
    {
      "cell_type": "code",
      "source": [
        "TENSOR.shape"
      ],
      "metadata": {
        "colab": {
          "base_uri": "https://localhost:8080/"
        },
        "id": "B0LmokBZ_UwJ",
        "outputId": "556f610a-2ca2-4d13-add9-fc43507f4842"
      },
      "execution_count": 20,
      "outputs": [
        {
          "output_type": "execute_result",
          "data": {
            "text/plain": [
              "torch.Size([1, 3, 3])"
            ]
          },
          "metadata": {},
          "execution_count": 20
        }
      ]
    },
    {
      "cell_type": "code",
      "source": [
        "TENSOR[0]"
      ],
      "metadata": {
        "colab": {
          "base_uri": "https://localhost:8080/"
        },
        "id": "xUU7BC75_YAa",
        "outputId": "35a5af1a-fa68-4277-94bc-9c468f2dd517"
      },
      "execution_count": 21,
      "outputs": [
        {
          "output_type": "execute_result",
          "data": {
            "text/plain": [
              "tensor([[6, 7, 8],\n",
              "        [5, 6, 7],\n",
              "        [4, 5, 6]])"
            ]
          },
          "metadata": {},
          "execution_count": 21
        }
      ]
    },
    {
      "cell_type": "code",
      "source": [
        "#create a random tensor of size (3,4)\n",
        "random_tensor = torch.rand(10,10,10)\n",
        "random_tensor"
      ],
      "metadata": {
        "colab": {
          "base_uri": "https://localhost:8080/"
        },
        "id": "gTsFrcdZ_coi",
        "outputId": "750e6298-85fb-4c92-e389-34da76c1699f"
      },
      "execution_count": 22,
      "outputs": [
        {
          "output_type": "execute_result",
          "data": {
            "text/plain": [
              "tensor([[[0.8547, 0.6609, 0.7470, 0.0587, 0.0911, 0.5310, 0.5907, 0.3988,\n",
              "          0.3784, 0.9191],\n",
              "         [0.7472, 0.6745, 0.6403, 0.4334, 0.2555, 0.4449, 0.6452, 0.4915,\n",
              "          0.0786, 0.3053],\n",
              "         [0.4655, 0.2125, 0.7178, 0.2649, 0.7915, 0.2177, 0.6727, 0.6564,\n",
              "          0.7300, 0.0346],\n",
              "         [0.1887, 0.1573, 0.2768, 0.1757, 0.4574, 0.3090, 0.2389, 0.4717,\n",
              "          0.0684, 0.4152],\n",
              "         [0.1438, 0.3029, 0.2421, 0.4828, 0.5231, 0.4841, 0.9385, 0.2607,\n",
              "          0.6608, 0.4572],\n",
              "         [0.2102, 0.0739, 0.4142, 0.6722, 0.9893, 0.5676, 0.1636, 0.6621,\n",
              "          0.4097, 0.3856],\n",
              "         [0.4484, 0.8144, 0.7074, 0.8129, 0.6165, 0.6846, 0.0026, 0.4618,\n",
              "          0.6389, 0.5839],\n",
              "         [0.8228, 0.5964, 0.9772, 0.7212, 0.2319, 0.1525, 0.9642, 0.4326,\n",
              "          0.3540, 0.7813],\n",
              "         [0.4881, 0.3048, 0.5426, 0.7036, 0.4316, 0.4349, 0.5596, 0.3240,\n",
              "          0.6645, 0.3948],\n",
              "         [0.1417, 0.0058, 0.7327, 0.7139, 0.4232, 0.3050, 0.9287, 0.5633,\n",
              "          0.4860, 0.8880]],\n",
              "\n",
              "        [[0.8132, 0.9381, 0.4358, 0.2526, 0.7980, 0.3675, 0.6969, 0.9689,\n",
              "          0.1972, 0.5613],\n",
              "         [0.5608, 0.5176, 0.4076, 0.6922, 0.3362, 0.2893, 0.8858, 0.3901,\n",
              "          0.4741, 0.4227],\n",
              "         [0.2783, 0.2867, 0.7804, 0.6376, 0.9203, 0.3446, 0.6230, 0.2402,\n",
              "          0.9057, 0.7853],\n",
              "         [0.0571, 0.6309, 0.2000, 0.4361, 0.9884, 0.8651, 0.7924, 0.5956,\n",
              "          0.5887, 0.3511],\n",
              "         [0.5437, 0.8808, 0.4603, 0.6784, 0.7309, 0.5574, 0.1957, 0.3851,\n",
              "          0.1104, 0.8771],\n",
              "         [0.7207, 0.0426, 0.3864, 0.0315, 0.8808, 0.2406, 0.5702, 0.7619,\n",
              "          0.5263, 0.2131],\n",
              "         [0.9513, 0.4230, 0.1612, 0.5259, 0.8559, 0.5816, 0.0856, 0.0419,\n",
              "          0.4432, 0.1442],\n",
              "         [0.8766, 0.3734, 0.1699, 0.4653, 0.7121, 0.4244, 0.3040, 0.6724,\n",
              "          0.9183, 0.0200],\n",
              "         [0.3663, 0.2620, 0.4937, 0.6258, 0.1638, 0.3974, 0.2069, 0.3342,\n",
              "          0.6630, 0.5726],\n",
              "         [0.7727, 0.2552, 0.8410, 0.9881, 0.2799, 0.9055, 0.6245, 0.5985,\n",
              "          0.9393, 0.8171]],\n",
              "\n",
              "        [[0.9509, 0.8108, 0.2226, 0.7845, 0.3884, 0.3757, 0.0625, 0.9843,\n",
              "          0.1692, 0.7950],\n",
              "         [0.9559, 0.4123, 0.2500, 0.0400, 0.6982, 0.1452, 0.7241, 0.3562,\n",
              "          0.7553, 0.6479],\n",
              "         [0.8128, 0.5849, 0.8136, 0.2440, 0.9601, 0.0386, 0.8804, 0.1101,\n",
              "          0.2964, 0.6140],\n",
              "         [0.0084, 0.5201, 0.3671, 0.3480, 0.6427, 0.7279, 0.6504, 0.7634,\n",
              "          0.8485, 0.4863],\n",
              "         [0.3345, 0.6573, 0.0971, 0.1368, 0.0850, 0.1534, 0.9464, 0.1296,\n",
              "          0.8466, 0.3514],\n",
              "         [0.5089, 0.5093, 0.9412, 0.1262, 0.8712, 0.4545, 0.0189, 0.7204,\n",
              "          0.5505, 0.6550],\n",
              "         [0.7693, 0.5217, 0.2074, 0.2685, 0.4713, 0.9508, 0.2109, 0.2256,\n",
              "          0.8483, 0.7271],\n",
              "         [0.5721, 0.3706, 0.1262, 0.2938, 0.1392, 0.0128, 0.2252, 0.2340,\n",
              "          0.8432, 0.8208],\n",
              "         [0.7112, 0.2020, 0.4392, 0.4570, 0.3842, 0.2400, 0.9938, 0.9530,\n",
              "          0.0789, 0.5173],\n",
              "         [0.1723, 0.2919, 0.9404, 0.6360, 0.7877, 0.0398, 0.2605, 0.9831,\n",
              "          0.6317, 0.0070]],\n",
              "\n",
              "        [[0.5484, 0.0872, 0.8780, 0.3616, 0.9064, 0.9361, 0.8977, 0.9703,\n",
              "          0.3875, 0.0230],\n",
              "         [0.7577, 0.2001, 0.5743, 0.8967, 0.9584, 0.8523, 0.1163, 0.1891,\n",
              "          0.0115, 0.4277],\n",
              "         [0.0324, 0.8381, 0.2990, 0.1895, 0.8630, 0.4502, 0.4691, 0.7160,\n",
              "          0.5646, 0.2632],\n",
              "         [0.3963, 0.1780, 0.1427, 0.1444, 0.5125, 0.3248, 0.5069, 0.0121,\n",
              "          0.5644, 0.8523],\n",
              "         [0.5635, 0.2455, 0.7703, 0.6166, 0.3370, 0.4774, 0.3788, 0.2500,\n",
              "          0.8563, 0.1719],\n",
              "         [0.7255, 0.8758, 0.4480, 0.4908, 0.7129, 0.1058, 0.7771, 0.8058,\n",
              "          0.7160, 0.4536],\n",
              "         [0.7430, 0.1699, 0.3546, 0.6143, 0.7239, 0.1932, 0.5760, 0.2036,\n",
              "          0.5166, 0.7083],\n",
              "         [0.3863, 0.1144, 0.3071, 0.2665, 0.6694, 0.8141, 0.5363, 0.3440,\n",
              "          0.9479, 0.9892],\n",
              "         [0.8650, 0.9028, 0.9177, 0.9038, 0.8369, 0.2079, 0.7943, 0.5123,\n",
              "          0.6203, 0.0450],\n",
              "         [0.2288, 0.0548, 0.9382, 0.8687, 0.8201, 0.2326, 0.5309, 0.1716,\n",
              "          0.6192, 0.1993]],\n",
              "\n",
              "        [[0.8501, 0.4227, 0.4240, 0.2991, 0.2758, 0.9532, 0.4582, 0.2969,\n",
              "          0.0236, 0.9964],\n",
              "         [0.8103, 0.2434, 0.8550, 0.3318, 0.1992, 0.9653, 0.0902, 0.0840,\n",
              "          0.6406, 0.0880],\n",
              "         [0.1817, 0.5213, 0.1873, 0.3618, 0.5880, 0.9006, 0.3062, 0.4307,\n",
              "          0.0365, 0.4788],\n",
              "         [0.0548, 0.1178, 0.9139, 0.3917, 0.2701, 0.9893, 0.9999, 0.4163,\n",
              "          0.2315, 0.6168],\n",
              "         [0.5513, 0.0130, 0.6334, 0.5405, 0.3258, 0.2289, 0.2204, 0.0683,\n",
              "          0.7952, 0.3064],\n",
              "         [0.9648, 0.4493, 0.2406, 0.6183, 0.7453, 0.0946, 0.5356, 0.7803,\n",
              "          0.7683, 0.8638],\n",
              "         [0.0337, 0.2633, 0.5410, 0.0561, 0.7836, 0.2650, 0.6361, 0.5326,\n",
              "          0.6909, 0.4222],\n",
              "         [0.1042, 0.1852, 0.0551, 0.7161, 0.5941, 0.1978, 0.6109, 0.1338,\n",
              "          0.7658, 0.4454],\n",
              "         [0.1871, 0.3008, 0.0298, 0.0581, 0.2067, 0.5992, 0.2790, 0.6633,\n",
              "          0.0136, 0.6662],\n",
              "         [0.8578, 0.5395, 0.4782, 0.0017, 0.5507, 0.7217, 0.8240, 0.5375,\n",
              "          0.8770, 0.4085]],\n",
              "\n",
              "        [[0.6598, 0.7364, 0.3571, 0.1042, 0.6915, 0.9040, 0.0086, 0.4354,\n",
              "          0.4293, 0.3632],\n",
              "         [0.0641, 0.3023, 0.9060, 0.7878, 0.5491, 0.2384, 0.3197, 0.3218,\n",
              "          0.7130, 0.3550],\n",
              "         [0.2823, 0.9992, 0.1521, 0.1014, 0.2480, 0.2494, 0.3282, 0.3921,\n",
              "          0.1752, 0.5077],\n",
              "         [0.9790, 0.9436, 0.4352, 0.0178, 0.9192, 0.6053, 0.2708, 0.8876,\n",
              "          0.3825, 0.7739],\n",
              "         [0.1729, 0.3041, 0.4903, 0.6005, 0.2914, 0.6693, 0.0500, 0.5697,\n",
              "          0.2856, 0.1047],\n",
              "         [0.8298, 0.8229, 0.8441, 0.2833, 0.2244, 0.5936, 0.5270, 0.1436,\n",
              "          0.0976, 0.0236],\n",
              "         [0.6943, 0.8256, 0.4317, 0.7729, 0.7442, 0.2938, 0.0297, 0.3235,\n",
              "          0.6253, 0.9414],\n",
              "         [0.0485, 0.7998, 0.0985, 0.6702, 0.3226, 0.1970, 0.7578, 0.9056,\n",
              "          0.4635, 0.9668],\n",
              "         [0.6639, 0.1483, 0.6999, 0.6200, 0.5486, 0.3955, 0.7839, 0.9625,\n",
              "          0.1537, 0.3205],\n",
              "         [0.9444, 0.5546, 0.5729, 0.1006, 0.5709, 0.0979, 0.8106, 0.7125,\n",
              "          0.7546, 0.6297]],\n",
              "\n",
              "        [[0.2105, 0.9910, 0.1466, 0.4810, 0.2364, 0.3266, 0.7258, 0.6693,\n",
              "          0.0116, 0.3682],\n",
              "         [0.1680, 0.3113, 0.1200, 0.3668, 0.1769, 0.0994, 0.4168, 0.5825,\n",
              "          0.0414, 0.4035],\n",
              "         [0.2731, 0.1377, 0.7937, 0.8196, 0.2057, 0.8668, 0.2756, 0.5126,\n",
              "          0.7029, 0.4859],\n",
              "         [0.9711, 0.3996, 0.9998, 0.6918, 0.4265, 0.8214, 0.2101, 0.1224,\n",
              "          0.5958, 0.8505],\n",
              "         [0.9584, 0.9204, 0.2977, 0.5875, 0.2591, 0.2914, 0.9810, 0.7684,\n",
              "          0.2195, 0.6305],\n",
              "         [0.4672, 0.3943, 0.3064, 0.8587, 0.8637, 0.5229, 0.8259, 0.2633,\n",
              "          0.8749, 0.4201],\n",
              "         [0.1234, 0.5216, 0.3793, 0.4438, 0.4378, 0.3723, 0.1687, 0.8820,\n",
              "          0.3441, 0.1733],\n",
              "         [0.5755, 0.2435, 0.4547, 0.9543, 0.6617, 0.2251, 0.2144, 0.4273,\n",
              "          0.2404, 0.3637],\n",
              "         [0.0339, 0.6957, 0.9253, 0.2023, 0.2416, 0.3461, 0.7860, 0.5809,\n",
              "          0.0557, 0.9702],\n",
              "         [0.7514, 0.6624, 0.3170, 0.6244, 0.3253, 0.6949, 0.8423, 0.2969,\n",
              "          0.9771, 0.6288]],\n",
              "\n",
              "        [[0.4371, 0.7865, 0.8511, 0.4187, 0.7335, 0.0897, 0.4116, 0.1227,\n",
              "          0.7342, 0.1923],\n",
              "         [0.8729, 0.9092, 0.0673, 0.0272, 0.1045, 0.9145, 0.9150, 0.5230,\n",
              "          0.1815, 0.9076],\n",
              "         [0.8855, 0.5277, 0.8954, 0.0859, 0.9388, 0.9422, 0.0111, 0.9324,\n",
              "          0.7673, 0.2819],\n",
              "         [0.7998, 0.4128, 0.6746, 0.4477, 0.0614, 0.9930, 0.7164, 0.0024,\n",
              "          0.5177, 0.0795],\n",
              "         [0.1148, 0.7629, 0.1448, 0.9608, 0.5121, 0.6467, 0.8288, 0.2497,\n",
              "          0.7372, 0.4791],\n",
              "         [0.2476, 0.1847, 0.1074, 0.6898, 0.7381, 0.4731, 0.7207, 0.6849,\n",
              "          0.3020, 0.0556],\n",
              "         [0.8253, 0.2666, 0.7798, 0.9083, 0.6753, 0.3401, 0.3856, 0.7417,\n",
              "          0.9319, 0.2948],\n",
              "         [0.6995, 0.2409, 0.5333, 0.0371, 0.2592, 0.8873, 0.4145, 0.3277,\n",
              "          0.7099, 0.7525],\n",
              "         [0.7740, 0.3079, 0.8140, 0.0334, 0.7230, 0.8390, 0.2862, 0.5706,\n",
              "          0.7755, 0.6989],\n",
              "         [0.2032, 0.7560, 0.5756, 0.8048, 0.7462, 0.0935, 0.0802, 0.2205,\n",
              "          0.9463, 0.2678]],\n",
              "\n",
              "        [[0.1858, 0.0355, 0.4818, 0.0888, 0.9107, 0.6203, 0.5048, 0.4752,\n",
              "          0.6107, 0.7890],\n",
              "         [0.3414, 0.0152, 0.6773, 0.2888, 0.7182, 0.5540, 0.3712, 0.6542,\n",
              "          0.2969, 0.6561],\n",
              "         [0.1113, 0.5495, 0.7075, 0.3009, 0.8553, 0.4879, 0.4276, 0.3155,\n",
              "          0.7962, 0.3098],\n",
              "         [0.4049, 0.2203, 0.2585, 0.4982, 0.3075, 0.9860, 0.9622, 0.3197,\n",
              "          0.7676, 0.7121],\n",
              "         [0.9941, 0.0726, 0.1195, 0.1310, 0.4309, 0.1727, 0.6455, 0.1462,\n",
              "          0.3041, 0.9942],\n",
              "         [0.6108, 0.1105, 0.6453, 0.1407, 0.4487, 0.2459, 0.2906, 0.8197,\n",
              "          0.2141, 0.3236],\n",
              "         [0.9599, 0.2257, 0.5016, 0.1378, 0.0572, 0.5530, 0.4965, 0.6762,\n",
              "          0.7424, 0.3815],\n",
              "         [0.0610, 0.8666, 0.9288, 0.5293, 0.1165, 0.6760, 0.9064, 0.7478,\n",
              "          0.2024, 0.7992],\n",
              "         [0.1379, 0.2721, 0.6350, 0.9636, 0.2884, 0.8358, 0.8122, 0.5278,\n",
              "          0.0782, 0.4758],\n",
              "         [0.3701, 0.7243, 0.7909, 0.4069, 0.1897, 0.9130, 0.8625, 0.8016,\n",
              "          0.6119, 0.4834]],\n",
              "\n",
              "        [[0.1762, 0.9971, 0.1445, 0.9574, 0.6183, 0.9853, 0.4825, 0.8528,\n",
              "          0.8502, 0.5628],\n",
              "         [0.6693, 0.0447, 0.4260, 0.7005, 0.1852, 0.0336, 0.3041, 0.8728,\n",
              "          0.0770, 0.3804],\n",
              "         [0.0696, 0.5702, 0.3962, 0.1979, 0.0150, 0.2188, 0.0821, 0.6942,\n",
              "          0.6942, 0.0507],\n",
              "         [0.9020, 0.7819, 0.4104, 0.9573, 0.3012, 0.3714, 0.6282, 0.4857,\n",
              "          0.6716, 0.3614],\n",
              "         [0.6620, 0.1118, 0.2712, 0.7282, 0.0838, 0.7076, 0.6427, 0.3705,\n",
              "          0.5955, 0.6294],\n",
              "         [0.4810, 0.0786, 0.9926, 0.9982, 0.4284, 0.9116, 0.7597, 0.9812,\n",
              "          0.9948, 0.7073],\n",
              "         [0.4762, 0.2336, 0.2390, 0.7566, 0.1168, 0.2986, 0.6124, 0.0684,\n",
              "          0.2077, 0.8834],\n",
              "         [0.6068, 0.6799, 0.2193, 0.8588, 0.6476, 0.4258, 0.1497, 0.1157,\n",
              "          0.8805, 0.1298],\n",
              "         [0.8703, 0.5476, 0.3413, 0.6108, 0.9422, 0.6182, 0.8861, 0.1697,\n",
              "          0.8988, 0.9554],\n",
              "         [0.1469, 0.3035, 0.8916, 0.1441, 0.5763, 0.2163, 0.3823, 0.0775,\n",
              "          0.4071, 0.6658]]])"
            ]
          },
          "metadata": {},
          "execution_count": 22
        }
      ]
    },
    {
      "cell_type": "code",
      "source": [
        "random_tensor.ndim"
      ],
      "metadata": {
        "colab": {
          "base_uri": "https://localhost:8080/"
        },
        "id": "-RxQZRQXDZT3",
        "outputId": "c7e36db2-738e-4962-84ed-e49294475cc6"
      },
      "execution_count": 23,
      "outputs": [
        {
          "output_type": "execute_result",
          "data": {
            "text/plain": [
              "3"
            ]
          },
          "metadata": {},
          "execution_count": 23
        }
      ]
    },
    {
      "cell_type": "code",
      "source": [
        "#create a random tensor with similar shape to an image tensor\n",
        "random_image_size_tensor = torch.rand(size=(3,224,224))#height,width,color channel\n",
        "random_image_size_tensor.shape, random_image_size_tensor.ndim"
      ],
      "metadata": {
        "colab": {
          "base_uri": "https://localhost:8080/"
        },
        "id": "2lE6FB17DpMe",
        "outputId": "460862db-28a9-4ae4-c8c5-5b24632a8868"
      },
      "execution_count": 24,
      "outputs": [
        {
          "output_type": "execute_result",
          "data": {
            "text/plain": [
              "(torch.Size([3, 224, 224]), 3)"
            ]
          },
          "metadata": {},
          "execution_count": 24
        }
      ]
    },
    {
      "cell_type": "code",
      "source": [
        "torch.rand(3,3)"
      ],
      "metadata": {
        "colab": {
          "base_uri": "https://localhost:8080/"
        },
        "id": "RcRkAqzqHZIe",
        "outputId": "66ca1f5a-5e92-4dcf-8927-4370be4102d4"
      },
      "execution_count": 25,
      "outputs": [
        {
          "output_type": "execute_result",
          "data": {
            "text/plain": [
              "tensor([[0.4203, 0.3350, 0.0509],\n",
              "        [0.7448, 0.4705, 0.5546],\n",
              "        [0.0997, 0.8950, 0.7092]])"
            ]
          },
          "metadata": {},
          "execution_count": 25
        }
      ]
    },
    {
      "cell_type": "code",
      "source": [
        "#zeros and ones\n",
        "zero = torch.zeros(size=(3,4))\n",
        "zero"
      ],
      "metadata": {
        "colab": {
          "base_uri": "https://localhost:8080/"
        },
        "id": "iSZZDYqWIVsz",
        "outputId": "1931f31c-f460-4b8b-b932-2d9f749109b7"
      },
      "execution_count": 26,
      "outputs": [
        {
          "output_type": "execute_result",
          "data": {
            "text/plain": [
              "tensor([[0., 0., 0., 0.],\n",
              "        [0., 0., 0., 0.],\n",
              "        [0., 0., 0., 0.]])"
            ]
          },
          "metadata": {},
          "execution_count": 26
        }
      ]
    },
    {
      "cell_type": "code",
      "source": [
        "#create a tensor of all ones\n",
        "ones = torch.ones(size=(3,4))\n",
        "ones"
      ],
      "metadata": {
        "colab": {
          "base_uri": "https://localhost:8080/"
        },
        "id": "uZNjgqG0IrqQ",
        "outputId": "12fa1f88-4bea-487b-bb10-5e8d5031d2ec"
      },
      "execution_count": 27,
      "outputs": [
        {
          "output_type": "execute_result",
          "data": {
            "text/plain": [
              "tensor([[1., 1., 1., 1.],\n",
              "        [1., 1., 1., 1.],\n",
              "        [1., 1., 1., 1.]])"
            ]
          },
          "metadata": {},
          "execution_count": 27
        }
      ]
    },
    {
      "cell_type": "code",
      "source": [
        "#use torch.range()\n",
        "one_to_ten = torch.arange(1,11)\n",
        "one_to_ten"
      ],
      "metadata": {
        "colab": {
          "base_uri": "https://localhost:8080/"
        },
        "id": "pbHnsIQFI3N9",
        "outputId": "e5df5237-d35a-4367-fca2-6dfc56e1aff6"
      },
      "execution_count": 28,
      "outputs": [
        {
          "output_type": "execute_result",
          "data": {
            "text/plain": [
              "tensor([ 1,  2,  3,  4,  5,  6,  7,  8,  9, 10])"
            ]
          },
          "metadata": {},
          "execution_count": 28
        }
      ]
    },
    {
      "cell_type": "code",
      "source": [
        "one_to_ten = torch.arange(start=1, end=11, step=1)\n",
        "one_to_ten"
      ],
      "metadata": {
        "colab": {
          "base_uri": "https://localhost:8080/"
        },
        "id": "40k8u2g-JdPJ",
        "outputId": "9fa8c71d-4989-4f4d-fbda-046bef53a302"
      },
      "execution_count": 29,
      "outputs": [
        {
          "output_type": "execute_result",
          "data": {
            "text/plain": [
              "tensor([ 1,  2,  3,  4,  5,  6,  7,  8,  9, 10])"
            ]
          },
          "metadata": {},
          "execution_count": 29
        }
      ]
    },
    {
      "cell_type": "code",
      "source": [
        "one_to_ten.shape"
      ],
      "metadata": {
        "id": "q-tCvr99Jsld",
        "outputId": "4f7a6038-3bb1-4c8b-948c-4a6881eba44d",
        "colab": {
          "base_uri": "https://localhost:8080/"
        }
      },
      "execution_count": 30,
      "outputs": [
        {
          "output_type": "execute_result",
          "data": {
            "text/plain": [
              "torch.Size([10])"
            ]
          },
          "metadata": {},
          "execution_count": 30
        }
      ]
    },
    {
      "cell_type": "code",
      "source": [
        "ten_zero = torch.zeros_like(input=one_to_ten)\n",
        "ten_zero"
      ],
      "metadata": {
        "id": "c3cUuCvlJv0p",
        "outputId": "59fdbe0e-1a17-4127-9935-308e03e48b7b",
        "colab": {
          "base_uri": "https://localhost:8080/"
        }
      },
      "execution_count": 33,
      "outputs": [
        {
          "output_type": "execute_result",
          "data": {
            "text/plain": [
              "tensor([0, 0, 0, 0, 0, 0, 0, 0, 0, 0])"
            ]
          },
          "metadata": {},
          "execution_count": 33
        }
      ]
    },
    {
      "cell_type": "markdown",
      "source": [
        "Tensor Datatype"
      ],
      "metadata": {
        "id": "EmxeZbwijYMV"
      }
    },
    {
      "cell_type": "code",
      "source": [
        "#float 32 tensor\n",
        "float_32_tensor = torch.tensor([3.0,6.0,9.0],\n",
        "                               dtype=None,\n",
        "                               device=None,\n",
        "                               requires)"
      ],
      "metadata": {
        "id": "SIUx2GVLjUdQ"
      },
      "execution_count": null,
      "outputs": []
    }
  ]
}