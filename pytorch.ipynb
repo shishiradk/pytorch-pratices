{
  "nbformat": 4,
  "nbformat_minor": 0,
  "metadata": {
    "colab": {
      "provenance": [],
      "gpuType": "T4",
      "authorship_tag": "ABX9TyNeT1D7wo+oHwhiF6lNTIZK",
      "include_colab_link": true
    },
    "kernelspec": {
      "name": "python3",
      "display_name": "Python 3"
    },
    "language_info": {
      "name": "python"
    },
    "accelerator": "GPU"
  },
  "cells": [
    {
      "cell_type": "markdown",
      "metadata": {
        "id": "view-in-github",
        "colab_type": "text"
      },
      "source": [
        "<a href=\"https://colab.research.google.com/github/shishiradk/pytorch-pratices/blob/main/pytorch.ipynb\" target=\"_parent\"><img src=\"https://colab.research.google.com/assets/colab-badge.svg\" alt=\"Open In Colab\"/></a>"
      ]
    },
    {
      "cell_type": "code",
      "execution_count": null,
      "metadata": {
        "colab": {
          "base_uri": "https://localhost:8080/"
        },
        "id": "Ipxmmm-BuHoq",
        "outputId": "e8c72187-7d7c-421c-d1ab-4a8bc6671109"
      },
      "outputs": [
        {
          "output_type": "stream",
          "name": "stdout",
          "text": [
            "Tue Mar  4 12:24:09 2025       \n",
            "+-----------------------------------------------------------------------------------------+\n",
            "| NVIDIA-SMI 550.54.15              Driver Version: 550.54.15      CUDA Version: 12.4     |\n",
            "|-----------------------------------------+------------------------+----------------------+\n",
            "| GPU  Name                 Persistence-M | Bus-Id          Disp.A | Volatile Uncorr. ECC |\n",
            "| Fan  Temp   Perf          Pwr:Usage/Cap |           Memory-Usage | GPU-Util  Compute M. |\n",
            "|                                         |                        |               MIG M. |\n",
            "|=========================================+========================+======================|\n",
            "|   0  Tesla T4                       Off |   00000000:00:04.0 Off |                    0 |\n",
            "| N/A   46C    P8             10W /   70W |       0MiB /  15360MiB |      0%      Default |\n",
            "|                                         |                        |                  N/A |\n",
            "+-----------------------------------------+------------------------+----------------------+\n",
            "                                                                                         \n",
            "+-----------------------------------------------------------------------------------------+\n",
            "| Processes:                                                                              |\n",
            "|  GPU   GI   CI        PID   Type   Process name                              GPU Memory |\n",
            "|        ID   ID                                                               Usage      |\n",
            "|=========================================================================================|\n",
            "|  No running processes found                                                             |\n",
            "+-----------------------------------------------------------------------------------------+\n"
          ]
        }
      ],
      "source": [
        "!nvidia-smi\n"
      ]
    },
    {
      "cell_type": "code",
      "source": [
        "import numpy as np\n",
        "import pandas as pd\n",
        "import matplotlib.pyplot as plt\n",
        "import torch\n",
        "print(torch.__version__)"
      ],
      "metadata": {
        "colab": {
          "base_uri": "https://localhost:8080/"
        },
        "id": "eZa8yggluhDq",
        "outputId": "379a3687-ad79-4ff5-83fd-7ccbc96bd038"
      },
      "execution_count": null,
      "outputs": [
        {
          "output_type": "stream",
          "name": "stdout",
          "text": [
            "2.5.1+cu124\n"
          ]
        }
      ]
    },
    {
      "cell_type": "markdown",
      "source": [
        "introduction to tensors\n",
        "creating tensor"
      ],
      "metadata": {
        "id": "0T04eZk0w0gf"
      }
    },
    {
      "cell_type": "markdown",
      "source": [],
      "metadata": {
        "id": "BRYigiaOw3Fh"
      }
    },
    {
      "cell_type": "code",
      "source": [
        "#scalar\n",
        "scalar = torch.tensor(7)\n",
        "scalar\n"
      ],
      "metadata": {
        "colab": {
          "base_uri": "https://localhost:8080/"
        },
        "id": "E78psR9bwJyK",
        "outputId": "e14863ec-504e-4ed4-ba74-2f6fcb317a2a"
      },
      "execution_count": null,
      "outputs": [
        {
          "output_type": "execute_result",
          "data": {
            "text/plain": [
              "tensor(7)"
            ]
          },
          "metadata": {},
          "execution_count": 50
        }
      ]
    },
    {
      "cell_type": "code",
      "source": [
        "scalar.ndim"
      ],
      "metadata": {
        "colab": {
          "base_uri": "https://localhost:8080/"
        },
        "id": "IqIfhYWywrSG",
        "outputId": "9cc85531-1c4a-4a9a-fd50-9e84fcaf76e3"
      },
      "execution_count": null,
      "outputs": [
        {
          "output_type": "execute_result",
          "data": {
            "text/plain": [
              "0"
            ]
          },
          "metadata": {},
          "execution_count": 51
        }
      ]
    },
    {
      "cell_type": "code",
      "source": [
        "#get tensor back as python int\n",
        "scalar.item()"
      ],
      "metadata": {
        "colab": {
          "base_uri": "https://localhost:8080/"
        },
        "id": "g57NNznbyB6a",
        "outputId": "689559c3-261f-4a05-86a5-7f1b85de2db2"
      },
      "execution_count": null,
      "outputs": [
        {
          "output_type": "execute_result",
          "data": {
            "text/plain": [
              "7"
            ]
          },
          "metadata": {},
          "execution_count": 52
        }
      ]
    },
    {
      "cell_type": "code",
      "source": [
        "#vector\n",
        "vector = torch.tensor([7,7])\n",
        "vector"
      ],
      "metadata": {
        "colab": {
          "base_uri": "https://localhost:8080/"
        },
        "id": "am4C3NNzyOLN",
        "outputId": "4ef56fbc-ab21-434d-dcaf-682daac358b0"
      },
      "execution_count": null,
      "outputs": [
        {
          "output_type": "execute_result",
          "data": {
            "text/plain": [
              "tensor([7, 7])"
            ]
          },
          "metadata": {},
          "execution_count": 53
        }
      ]
    },
    {
      "cell_type": "code",
      "source": [
        "vector.ndim"
      ],
      "metadata": {
        "colab": {
          "base_uri": "https://localhost:8080/"
        },
        "id": "UG3w44iRyh9b",
        "outputId": "4b5bd0f1-036d-42bb-cab4-1a706e79d88b"
      },
      "execution_count": null,
      "outputs": [
        {
          "output_type": "execute_result",
          "data": {
            "text/plain": [
              "1"
            ]
          },
          "metadata": {},
          "execution_count": 54
        }
      ]
    },
    {
      "cell_type": "code",
      "source": [
        "vector.shape"
      ],
      "metadata": {
        "colab": {
          "base_uri": "https://localhost:8080/"
        },
        "id": "T4ieiQRyymB1",
        "outputId": "c173e2c6-578a-47c7-d716-d40259b4fbdd"
      },
      "execution_count": null,
      "outputs": [
        {
          "output_type": "execute_result",
          "data": {
            "text/plain": [
              "torch.Size([2])"
            ]
          },
          "metadata": {},
          "execution_count": 55
        }
      ]
    },
    {
      "cell_type": "code",
      "source": [
        "#matrix\n",
        "MATRIX = torch.tensor([[7,8],\n",
        "                      [9,10]])\n",
        "MATRIX\n"
      ],
      "metadata": {
        "colab": {
          "base_uri": "https://localhost:8080/"
        },
        "id": "wexINEwqyolb",
        "outputId": "5dd6c2d8-19fe-406c-c22e-ec592908ea55"
      },
      "execution_count": null,
      "outputs": [
        {
          "output_type": "execute_result",
          "data": {
            "text/plain": [
              "tensor([[ 7,  8],\n",
              "        [ 9, 10]])"
            ]
          },
          "metadata": {},
          "execution_count": 56
        }
      ]
    },
    {
      "cell_type": "code",
      "source": [
        "MATRIX.ndim"
      ],
      "metadata": {
        "colab": {
          "base_uri": "https://localhost:8080/"
        },
        "id": "Xm7PGAG1zEBZ",
        "outputId": "021c4991-29e1-4ccd-e6fd-329176bc69e8"
      },
      "execution_count": null,
      "outputs": [
        {
          "output_type": "execute_result",
          "data": {
            "text/plain": [
              "2"
            ]
          },
          "metadata": {},
          "execution_count": 57
        }
      ]
    },
    {
      "cell_type": "code",
      "source": [
        "MATRIX[1]"
      ],
      "metadata": {
        "colab": {
          "base_uri": "https://localhost:8080/"
        },
        "id": "EvoOzPJdzIgd",
        "outputId": "f21ecbf6-c299-431a-afc3-e8fb2807291e"
      },
      "execution_count": null,
      "outputs": [
        {
          "output_type": "execute_result",
          "data": {
            "text/plain": [
              "tensor([ 9, 10])"
            ]
          },
          "metadata": {},
          "execution_count": 58
        }
      ]
    },
    {
      "cell_type": "code",
      "source": [
        "MATRIX.shape"
      ],
      "metadata": {
        "colab": {
          "base_uri": "https://localhost:8080/"
        },
        "id": "6eSRxHX2zOS4",
        "outputId": "06354ca1-d41e-4cc7-d446-5493c52d9285"
      },
      "execution_count": null,
      "outputs": [
        {
          "output_type": "execute_result",
          "data": {
            "text/plain": [
              "torch.Size([2, 2])"
            ]
          },
          "metadata": {},
          "execution_count": 59
        }
      ]
    },
    {
      "cell_type": "code",
      "source": [
        "#TENSOR\n",
        "TENSOR = torch.tensor([[[1,2,4],\n",
        "                         [2,3,4],\n",
        "                         [4,5,6]]])"
      ],
      "metadata": {
        "id": "8950TfPczRPv"
      },
      "execution_count": null,
      "outputs": []
    },
    {
      "cell_type": "code",
      "source": [
        "TENSOR"
      ],
      "metadata": {
        "colab": {
          "base_uri": "https://localhost:8080/"
        },
        "id": "SJ2MSdj7zqLW",
        "outputId": "ad5bd32b-1fb8-4c87-a928-683da13c6a76"
      },
      "execution_count": null,
      "outputs": [
        {
          "output_type": "execute_result",
          "data": {
            "text/plain": [
              "tensor([[[1, 2, 4],\n",
              "         [2, 3, 4],\n",
              "         [4, 5, 6]]])"
            ]
          },
          "metadata": {},
          "execution_count": 61
        }
      ]
    },
    {
      "cell_type": "code",
      "source": [
        "TENSOR.ndim"
      ],
      "metadata": {
        "colab": {
          "base_uri": "https://localhost:8080/"
        },
        "id": "LUFlW-blztOy",
        "outputId": "47214f18-2f6c-43df-b8e3-28ee8966993e"
      },
      "execution_count": null,
      "outputs": [
        {
          "output_type": "execute_result",
          "data": {
            "text/plain": [
              "3"
            ]
          },
          "metadata": {},
          "execution_count": 62
        }
      ]
    },
    {
      "cell_type": "code",
      "source": [
        "TENSOR.shape"
      ],
      "metadata": {
        "colab": {
          "base_uri": "https://localhost:8080/"
        },
        "id": "NOi9qPb9zvmF",
        "outputId": "11723783-6908-4da3-f8aa-3bed4cb2e537"
      },
      "execution_count": null,
      "outputs": [
        {
          "output_type": "execute_result",
          "data": {
            "text/plain": [
              "torch.Size([1, 3, 3])"
            ]
          },
          "metadata": {},
          "execution_count": 63
        }
      ]
    },
    {
      "cell_type": "code",
      "source": [
        "TENSOR[0]"
      ],
      "metadata": {
        "colab": {
          "base_uri": "https://localhost:8080/"
        },
        "id": "6eeTCFwtzyJi",
        "outputId": "5ea0adad-4607-4920-a09a-268b27eacf96"
      },
      "execution_count": null,
      "outputs": [
        {
          "output_type": "execute_result",
          "data": {
            "text/plain": [
              "tensor([[1, 2, 4],\n",
              "        [2, 3, 4],\n",
              "        [4, 5, 6]])"
            ]
          },
          "metadata": {},
          "execution_count": 64
        }
      ]
    },
    {
      "cell_type": "code",
      "source": [
        "TENSOR = torch.tensor([[[6,7,8],\n",
        "                        [5,6,7],\n",
        "                        [4,5,6]]])\n",
        "TENSOR"
      ],
      "metadata": {
        "colab": {
          "base_uri": "https://localhost:8080/"
        },
        "id": "ET2lqt--z0gu",
        "outputId": "c5db62bf-5899-4043-dc4b-10b5f0bc0b5b"
      },
      "execution_count": null,
      "outputs": [
        {
          "output_type": "execute_result",
          "data": {
            "text/plain": [
              "tensor([[[6, 7, 8],\n",
              "         [5, 6, 7],\n",
              "         [4, 5, 6]]])"
            ]
          },
          "metadata": {},
          "execution_count": 65
        }
      ]
    },
    {
      "cell_type": "code",
      "source": [
        "TENSOR.ndim"
      ],
      "metadata": {
        "colab": {
          "base_uri": "https://localhost:8080/"
        },
        "id": "CsuKrOcMz27a",
        "outputId": "6897e310-b600-424b-bc93-f54781b392b3"
      },
      "execution_count": null,
      "outputs": [
        {
          "output_type": "execute_result",
          "data": {
            "text/plain": [
              "3"
            ]
          },
          "metadata": {},
          "execution_count": 66
        }
      ]
    },
    {
      "cell_type": "code",
      "source": [
        "TENSOR.shape"
      ],
      "metadata": {
        "colab": {
          "base_uri": "https://localhost:8080/"
        },
        "id": "B0LmokBZ_UwJ",
        "outputId": "9ddef311-e65a-4eb2-906b-501f54a7069f"
      },
      "execution_count": null,
      "outputs": [
        {
          "output_type": "execute_result",
          "data": {
            "text/plain": [
              "torch.Size([1, 3, 3])"
            ]
          },
          "metadata": {},
          "execution_count": 67
        }
      ]
    },
    {
      "cell_type": "code",
      "source": [
        "TENSOR[0]"
      ],
      "metadata": {
        "colab": {
          "base_uri": "https://localhost:8080/"
        },
        "id": "xUU7BC75_YAa",
        "outputId": "e8970b54-601e-47b2-d379-b851174caef3"
      },
      "execution_count": null,
      "outputs": [
        {
          "output_type": "execute_result",
          "data": {
            "text/plain": [
              "tensor([[6, 7, 8],\n",
              "        [5, 6, 7],\n",
              "        [4, 5, 6]])"
            ]
          },
          "metadata": {},
          "execution_count": 68
        }
      ]
    },
    {
      "cell_type": "code",
      "source": [
        "#create a random tensor of size (3,4)\n",
        "random_tensor = torch.rand(10,10,10)\n",
        "random_tensor"
      ],
      "metadata": {
        "colab": {
          "base_uri": "https://localhost:8080/"
        },
        "id": "gTsFrcdZ_coi",
        "outputId": "7560d3a5-75aa-45e6-9ec1-0ab486424c68"
      },
      "execution_count": null,
      "outputs": [
        {
          "output_type": "execute_result",
          "data": {
            "text/plain": [
              "tensor([[[4.6204e-01, 5.0122e-01, 8.6299e-02, 3.5146e-01, 6.3505e-01,\n",
              "          6.2549e-01, 7.9843e-01, 7.1115e-01, 8.7762e-01, 3.7998e-02],\n",
              "         [7.3859e-01, 3.6245e-01, 9.5571e-01, 6.5085e-01, 3.7049e-01,\n",
              "          6.0646e-01, 1.3793e-01, 6.2164e-01, 9.4633e-01, 8.3404e-01],\n",
              "         [9.4869e-01, 6.6297e-02, 4.6324e-01, 1.8685e-01, 4.2261e-01,\n",
              "          4.0034e-01, 1.5210e-01, 1.8450e-01, 4.3258e-01, 1.9778e-01],\n",
              "         [7.9423e-01, 6.2073e-01, 9.9926e-01, 1.5821e-02, 8.6652e-01,\n",
              "          8.6125e-01, 6.1917e-01, 4.9897e-01, 9.2897e-01, 2.8309e-01],\n",
              "         [4.1722e-01, 2.3067e-01, 4.8770e-01, 2.2708e-01, 4.7589e-01,\n",
              "          2.9905e-01, 8.1846e-01, 6.1096e-01, 3.1234e-01, 8.5788e-01],\n",
              "         [5.2251e-01, 2.1302e-01, 6.9448e-01, 7.2929e-01, 9.5391e-01,\n",
              "          4.3250e-01, 1.1200e-01, 2.4687e-01, 4.4514e-01, 2.3959e-01],\n",
              "         [8.0358e-03, 3.9038e-01, 8.8240e-01, 6.0442e-01, 3.0426e-01,\n",
              "          3.8092e-01, 7.4172e-01, 9.9658e-01, 6.0201e-01, 8.6560e-01],\n",
              "         [5.8578e-01, 3.1611e-01, 4.0946e-01, 2.1436e-01, 4.2350e-01,\n",
              "          8.7573e-01, 3.3738e-01, 8.5173e-01, 9.5776e-01, 3.0668e-01],\n",
              "         [6.8834e-01, 8.3198e-01, 4.2482e-01, 7.6581e-01, 7.3514e-01,\n",
              "          2.8833e-01, 7.5967e-01, 4.2915e-01, 2.1789e-01, 4.6249e-01],\n",
              "         [5.6536e-01, 5.9343e-01, 4.0812e-01, 6.1883e-01, 3.1417e-01,\n",
              "          6.0597e-01, 5.8156e-01, 4.2066e-01, 4.6510e-01, 7.6334e-01]],\n",
              "\n",
              "        [[7.1745e-01, 2.5132e-01, 8.7658e-02, 3.7329e-01, 1.8585e-01,\n",
              "          1.3999e-01, 6.4760e-01, 9.5923e-01, 5.7453e-01, 5.6951e-01],\n",
              "         [3.9832e-01, 2.4700e-01, 8.2984e-01, 3.5755e-01, 3.3195e-01,\n",
              "          9.5682e-01, 9.9598e-01, 5.3144e-01, 7.5342e-01, 3.6370e-01],\n",
              "         [6.5157e-01, 5.9593e-01, 2.5941e-01, 6.9423e-01, 1.3835e-01,\n",
              "          2.5493e-01, 3.9888e-01, 7.6155e-01, 2.3633e-01, 7.7129e-01],\n",
              "         [9.0184e-01, 8.7635e-01, 6.8323e-02, 2.7658e-01, 4.5006e-01,\n",
              "          7.8656e-01, 6.8946e-01, 4.0996e-01, 4.1443e-01, 6.9727e-01],\n",
              "         [1.7419e-01, 7.2372e-01, 3.6339e-01, 5.5648e-01, 3.5824e-01,\n",
              "          4.9019e-01, 8.9937e-01, 7.8729e-01, 4.7358e-01, 5.8710e-01],\n",
              "         [4.8676e-01, 4.6888e-01, 6.5127e-01, 2.9025e-01, 8.8850e-01,\n",
              "          5.1883e-01, 6.2789e-01, 8.5109e-01, 4.7198e-01, 6.5937e-01],\n",
              "         [3.9780e-01, 2.7572e-01, 1.3492e-01, 7.3818e-01, 2.1472e-01,\n",
              "          2.0552e-01, 4.2577e-01, 5.4450e-01, 6.6286e-01, 1.6314e-02],\n",
              "         [2.4306e-01, 3.9610e-02, 4.7175e-01, 2.2675e-01, 9.7431e-01,\n",
              "          9.3804e-01, 1.1338e-01, 3.5252e-01, 2.0309e-01, 4.3039e-01],\n",
              "         [9.8411e-01, 9.5355e-01, 2.3214e-01, 5.2125e-01, 6.4542e-02,\n",
              "          2.9900e-01, 5.8972e-02, 5.6962e-01, 6.0846e-01, 8.6184e-01],\n",
              "         [2.4453e-01, 9.8834e-01, 1.7533e-01, 3.7578e-01, 1.7118e-01,\n",
              "          2.6998e-01, 3.3579e-01, 3.1863e-01, 2.6839e-01, 6.3776e-01]],\n",
              "\n",
              "        [[4.3683e-01, 6.6934e-01, 4.8650e-01, 5.1123e-01, 8.8818e-01,\n",
              "          7.4295e-01, 9.8160e-01, 1.4967e-02, 2.9841e-01, 5.7545e-01],\n",
              "         [5.2404e-02, 4.9885e-01, 9.0746e-01, 5.9540e-01, 6.8923e-01,\n",
              "          5.7102e-01, 3.6477e-01, 8.6958e-01, 8.5372e-01, 1.1639e-01],\n",
              "         [3.4035e-01, 1.9241e-01, 3.3331e-01, 4.3382e-01, 8.7094e-01,\n",
              "          7.2741e-03, 7.8649e-02, 7.8165e-01, 4.4861e-01, 7.3861e-01],\n",
              "         [9.3107e-01, 7.5883e-01, 3.5062e-01, 1.8923e-01, 1.8447e-01,\n",
              "          2.0827e-01, 9.8075e-01, 7.9237e-02, 7.8967e-01, 8.1584e-01],\n",
              "         [9.1093e-01, 8.4448e-01, 5.3313e-01, 8.6297e-01, 5.7542e-01,\n",
              "          6.3821e-01, 3.4190e-01, 7.6777e-01, 1.3923e-01, 3.2111e-01],\n",
              "         [5.6116e-01, 4.0837e-01, 9.5952e-01, 2.6341e-01, 9.2389e-01,\n",
              "          6.2760e-01, 2.6477e-01, 9.2799e-01, 5.6630e-01, 2.2673e-01],\n",
              "         [5.4951e-01, 2.4863e-01, 9.6125e-01, 1.4889e-01, 8.0694e-02,\n",
              "          3.1686e-01, 3.7943e-01, 8.6706e-01, 5.2287e-01, 4.8981e-01],\n",
              "         [4.3034e-01, 5.6160e-01, 2.7870e-02, 9.7438e-01, 2.5616e-01,\n",
              "          6.1513e-01, 7.4095e-02, 8.8281e-01, 6.5071e-01, 5.9737e-01],\n",
              "         [6.6367e-01, 4.0781e-01, 2.0283e-01, 9.6595e-01, 6.1139e-01,\n",
              "          2.5666e-01, 3.2036e-02, 6.3909e-01, 4.0935e-01, 8.3963e-01],\n",
              "         [3.6648e-01, 6.7822e-01, 1.1951e-01, 9.0943e-01, 5.0472e-01,\n",
              "          5.1893e-01, 3.8724e-02, 5.0291e-01, 3.2069e-01, 2.5488e-01]],\n",
              "\n",
              "        [[4.1421e-01, 4.5871e-01, 5.4966e-01, 2.5037e-01, 6.3656e-01,\n",
              "          5.0054e-03, 3.5340e-01, 9.6119e-01, 1.4236e-01, 5.2579e-01],\n",
              "         [3.4760e-01, 8.7442e-01, 9.7498e-01, 5.9953e-01, 1.5596e-01,\n",
              "          2.0463e-01, 3.9808e-01, 7.2161e-01, 1.5768e-01, 9.3315e-01],\n",
              "         [7.0108e-01, 7.6521e-01, 5.3423e-01, 8.8106e-01, 1.1239e-01,\n",
              "          8.4410e-01, 8.6799e-01, 2.6112e-01, 9.9402e-01, 7.9936e-01],\n",
              "         [3.0200e-01, 2.9384e-01, 5.5897e-01, 7.9904e-01, 7.3954e-01,\n",
              "          9.9598e-01, 6.9297e-01, 2.6749e-01, 3.3781e-01, 3.6140e-01],\n",
              "         [6.7795e-01, 2.9849e-01, 4.6606e-01, 7.5415e-01, 2.6843e-01,\n",
              "          2.5317e-01, 7.7923e-01, 3.9274e-01, 7.1366e-01, 2.3178e-01],\n",
              "         [9.0318e-01, 8.4421e-01, 6.6089e-01, 6.3839e-01, 8.6342e-01,\n",
              "          5.6781e-01, 6.2637e-01, 2.4676e-02, 5.8187e-01, 8.9089e-01],\n",
              "         [7.1487e-01, 6.0395e-01, 6.1527e-01, 9.8453e-02, 5.3248e-01,\n",
              "          1.0874e-01, 6.1699e-01, 9.5692e-01, 8.8032e-01, 3.4225e-02],\n",
              "         [8.3370e-01, 6.7814e-01, 7.3961e-01, 9.4229e-01, 1.1190e-01,\n",
              "          2.5775e-01, 1.9470e-02, 7.0922e-01, 8.3357e-01, 4.3449e-01],\n",
              "         [2.3254e-01, 1.1834e-01, 8.6750e-01, 2.3107e-01, 5.0371e-01,\n",
              "          6.8672e-01, 1.8615e-01, 9.0138e-01, 2.2996e-01, 1.8739e-01],\n",
              "         [3.6595e-01, 6.5643e-01, 6.1765e-01, 3.8808e-01, 6.5689e-01,\n",
              "          3.7539e-01, 9.0071e-01, 7.6399e-01, 7.5550e-01, 5.9031e-01]],\n",
              "\n",
              "        [[3.8866e-01, 5.7662e-01, 7.8662e-01, 6.7307e-01, 5.4611e-01,\n",
              "          6.2321e-01, 6.8858e-01, 7.8199e-01, 4.3240e-01, 1.3766e-01],\n",
              "         [1.4587e-01, 2.3644e-02, 5.3449e-01, 9.1427e-01, 9.3909e-01,\n",
              "          9.7024e-01, 9.5093e-01, 3.9433e-01, 2.9232e-02, 3.9830e-02],\n",
              "         [2.9398e-01, 5.1595e-01, 1.7922e-01, 4.0393e-02, 8.9547e-01,\n",
              "          4.4893e-01, 4.2534e-01, 1.0813e-01, 5.6212e-01, 5.3227e-01],\n",
              "         [3.9867e-01, 8.4242e-01, 9.4487e-01, 9.6909e-01, 2.1449e-01,\n",
              "          9.3572e-01, 1.5956e-01, 6.4501e-01, 6.7729e-01, 1.8810e-01],\n",
              "         [4.9671e-01, 3.1706e-01, 5.9083e-01, 2.2468e-01, 3.7686e-01,\n",
              "          8.1740e-01, 1.0372e-01, 7.2586e-02, 2.0053e-01, 4.7972e-01],\n",
              "         [8.6278e-01, 1.6455e-01, 2.1627e-01, 3.5938e-01, 8.1464e-01,\n",
              "          2.3112e-01, 9.5825e-01, 6.8480e-01, 8.9320e-01, 4.4500e-01],\n",
              "         [9.1891e-01, 6.5442e-01, 8.2773e-01, 7.3075e-01, 3.1524e-01,\n",
              "          1.2808e-01, 2.4325e-01, 7.3750e-02, 3.4059e-01, 3.8681e-01],\n",
              "         [4.9027e-01, 5.3883e-01, 6.6062e-01, 9.7513e-01, 8.8082e-02,\n",
              "          3.2583e-01, 8.5813e-01, 4.2608e-02, 6.0660e-01, 8.0319e-01],\n",
              "         [4.8152e-01, 1.5210e-01, 9.2371e-01, 9.4589e-01, 4.2692e-02,\n",
              "          2.4820e-01, 1.6385e-01, 3.6781e-01, 9.2214e-01, 3.2817e-02],\n",
              "         [9.9417e-01, 4.6517e-01, 2.5687e-01, 3.0495e-02, 4.4898e-01,\n",
              "          5.6889e-01, 8.3593e-01, 3.7853e-01, 1.7983e-01, 4.8316e-01]],\n",
              "\n",
              "        [[7.1869e-01, 6.1267e-01, 9.0047e-01, 1.9522e-01, 4.6716e-01,\n",
              "          3.2223e-02, 8.0745e-01, 7.1745e-01, 1.6322e-01, 3.9040e-01],\n",
              "         [3.5294e-01, 7.3660e-01, 4.3537e-01, 5.7733e-01, 7.7452e-02,\n",
              "          7.0944e-01, 7.4248e-03, 3.0667e-01, 1.2971e-01, 3.5917e-01],\n",
              "         [2.4272e-01, 4.9706e-02, 1.6290e-01, 3.6304e-01, 7.0747e-01,\n",
              "          6.6786e-01, 2.9170e-01, 9.4700e-01, 7.0537e-01, 8.4205e-01],\n",
              "         [3.2267e-01, 3.5482e-01, 1.7610e-01, 6.0216e-01, 4.6055e-01,\n",
              "          2.7085e-01, 2.3570e-01, 7.7087e-01, 7.4324e-01, 3.1369e-01],\n",
              "         [7.3084e-02, 9.9950e-01, 7.6640e-01, 9.7966e-01, 4.4212e-01,\n",
              "          4.7757e-01, 5.9879e-01, 6.9414e-01, 3.2824e-02, 9.2008e-01],\n",
              "         [4.1562e-01, 7.5626e-01, 1.9278e-01, 5.8339e-01, 3.4185e-02,\n",
              "          8.3044e-01, 6.3582e-01, 3.5868e-01, 8.4138e-01, 6.6936e-01],\n",
              "         [9.4779e-01, 2.3091e-01, 6.3461e-01, 6.0035e-01, 3.2076e-01,\n",
              "          3.4234e-01, 6.8172e-01, 1.0496e-01, 3.5435e-02, 7.8805e-02],\n",
              "         [1.7656e-01, 4.2655e-01, 4.4023e-01, 7.0354e-01, 8.6761e-01,\n",
              "          1.8535e-01, 8.7442e-01, 1.4818e-01, 4.4307e-01, 4.8718e-01],\n",
              "         [7.5334e-01, 8.3171e-01, 3.4585e-01, 5.9667e-01, 1.9787e-02,\n",
              "          9.1992e-01, 9.2391e-01, 8.8479e-01, 9.7737e-01, 4.9879e-01],\n",
              "         [6.8968e-01, 1.6688e-01, 6.7327e-01, 2.4122e-01, 7.7174e-01,\n",
              "          9.6348e-01, 8.1639e-01, 1.1665e-01, 1.7754e-01, 6.9687e-01]],\n",
              "\n",
              "        [[3.5848e-01, 4.0321e-01, 9.0318e-01, 6.9531e-01, 1.2205e-01,\n",
              "          6.4931e-01, 6.0061e-01, 3.5254e-01, 9.7157e-01, 3.8847e-01],\n",
              "         [3.1354e-01, 6.1965e-01, 8.9148e-01, 1.5689e-01, 9.6994e-01,\n",
              "          5.8711e-01, 4.3319e-01, 5.7480e-01, 6.8213e-01, 4.6930e-01],\n",
              "         [3.7524e-01, 4.2809e-01, 1.7729e-01, 6.9082e-01, 6.5933e-01,\n",
              "          7.4926e-01, 8.0306e-01, 4.9089e-01, 9.2639e-01, 4.2577e-01],\n",
              "         [4.1123e-01, 4.0060e-01, 7.2597e-01, 7.9804e-01, 9.1589e-01,\n",
              "          7.7764e-01, 4.9511e-01, 3.8371e-01, 2.8750e-01, 3.0748e-01],\n",
              "         [5.0204e-01, 8.7534e-01, 3.2430e-01, 2.9954e-03, 7.6606e-01,\n",
              "          4.5485e-02, 1.1096e-01, 6.1719e-02, 6.5136e-01, 1.9039e-01],\n",
              "         [4.3282e-01, 9.8245e-01, 1.5107e-02, 4.6583e-01, 2.6356e-01,\n",
              "          3.8718e-01, 5.0684e-01, 1.3120e-01, 2.4037e-01, 9.6361e-01],\n",
              "         [1.6415e-01, 5.4763e-01, 8.6778e-01, 7.5478e-01, 1.9710e-01,\n",
              "          6.9538e-01, 3.8667e-01, 6.5732e-01, 4.8885e-01, 8.0733e-01],\n",
              "         [1.7643e-01, 2.0044e-01, 2.5682e-01, 8.7271e-01, 4.3022e-01,\n",
              "          2.8878e-01, 9.9803e-01, 2.1707e-02, 7.2074e-01, 8.0349e-01],\n",
              "         [5.1434e-01, 4.0505e-01, 1.5100e-01, 6.1008e-01, 8.1677e-01,\n",
              "          6.8808e-01, 2.2627e-01, 6.5947e-01, 3.6123e-01, 7.3940e-01],\n",
              "         [8.6611e-01, 5.8541e-01, 2.2497e-01, 3.5812e-01, 8.1906e-03,\n",
              "          6.3792e-01, 8.3522e-01, 7.4231e-01, 8.7895e-02, 8.6385e-01]],\n",
              "\n",
              "        [[3.2956e-01, 2.7735e-01, 5.2590e-01, 2.3702e-01, 7.3413e-01,\n",
              "          4.7539e-02, 8.2651e-01, 8.9228e-01, 1.6320e-01, 2.2551e-01],\n",
              "         [8.8170e-01, 7.5023e-01, 2.0331e-01, 2.6880e-01, 9.8437e-01,\n",
              "          7.1295e-01, 9.5653e-01, 6.3133e-01, 8.5919e-01, 4.1332e-01],\n",
              "         [3.7736e-01, 4.3503e-01, 8.5432e-01, 7.2394e-01, 6.2016e-01,\n",
              "          4.2530e-01, 3.4628e-01, 3.5344e-01, 2.1770e-01, 1.9513e-01],\n",
              "         [6.3533e-01, 9.8106e-01, 1.1228e-01, 9.5786e-01, 6.5148e-01,\n",
              "          9.3275e-01, 8.7584e-01, 9.8497e-01, 9.6237e-01, 4.9930e-01],\n",
              "         [9.5542e-02, 5.9786e-01, 7.5196e-01, 3.7541e-01, 7.4037e-01,\n",
              "          4.6053e-01, 5.9231e-01, 6.5037e-01, 2.2688e-01, 7.2261e-01],\n",
              "         [8.3992e-01, 1.8790e-01, 9.2749e-01, 9.1152e-01, 2.5103e-02,\n",
              "          7.8142e-01, 9.2137e-01, 5.8034e-01, 5.5350e-03, 9.5365e-01],\n",
              "         [1.6937e-01, 8.7142e-01, 6.8152e-01, 4.9854e-01, 6.4661e-01,\n",
              "          7.9876e-02, 5.2736e-01, 4.4374e-02, 4.3212e-01, 8.6349e-01],\n",
              "         [1.9813e-01, 7.8001e-01, 8.2013e-01, 4.4619e-01, 7.6451e-01,\n",
              "          5.8544e-01, 4.7248e-02, 3.6349e-01, 3.4370e-01, 3.8006e-01],\n",
              "         [7.9767e-01, 2.7247e-02, 5.8080e-01, 2.0341e-01, 5.6386e-01,\n",
              "          1.8785e-01, 1.7137e-01, 2.6390e-01, 4.4554e-03, 7.7320e-01],\n",
              "         [1.7373e-01, 5.1391e-01, 7.3696e-01, 5.5762e-01, 9.4734e-01,\n",
              "          5.3052e-02, 3.0766e-01, 9.8655e-01, 9.9356e-01, 6.8210e-01]],\n",
              "\n",
              "        [[6.0282e-01, 4.1826e-01, 5.3654e-01, 5.5036e-01, 4.7472e-01,\n",
              "          4.7650e-01, 6.9259e-01, 4.9850e-01, 1.8738e-01, 5.8600e-01],\n",
              "         [6.4608e-01, 8.2222e-01, 5.9401e-01, 1.1972e-01, 4.9624e-01,\n",
              "          3.5891e-01, 2.4480e-01, 4.6731e-01, 2.4571e-01, 5.9646e-01],\n",
              "         [6.0751e-02, 5.6335e-02, 5.3250e-01, 3.8274e-02, 9.5137e-01,\n",
              "          3.5941e-01, 4.6784e-01, 9.6294e-01, 2.0504e-01, 6.4652e-01],\n",
              "         [5.1141e-01, 6.5836e-01, 7.2375e-02, 8.5511e-01, 8.5611e-01,\n",
              "          5.2859e-01, 3.5127e-01, 1.4847e-01, 3.4545e-01, 6.9648e-01],\n",
              "         [2.0002e-01, 8.3643e-01, 2.6850e-01, 2.2114e-03, 2.0361e-01,\n",
              "          4.9612e-01, 2.8484e-01, 6.0459e-01, 2.1969e-01, 9.2815e-02],\n",
              "         [2.8722e-01, 9.4427e-01, 4.8163e-01, 7.2998e-01, 7.0563e-01,\n",
              "          6.2801e-01, 3.7812e-01, 7.1867e-01, 2.4259e-01, 7.9449e-01],\n",
              "         [4.7172e-01, 6.9454e-01, 2.9036e-02, 1.1885e-01, 5.9084e-01,\n",
              "          4.0513e-01, 9.0900e-01, 9.2774e-01, 6.8769e-01, 9.2422e-01],\n",
              "         [7.0520e-03, 6.3554e-01, 1.4386e-01, 1.0419e-01, 5.7219e-01,\n",
              "          1.7249e-01, 4.9723e-02, 8.3495e-02, 4.2300e-02, 8.4546e-01],\n",
              "         [7.1540e-01, 4.3654e-01, 2.0100e-01, 9.7766e-01, 4.4543e-01,\n",
              "          7.8849e-01, 6.9155e-01, 7.2111e-01, 9.6214e-01, 3.0950e-01],\n",
              "         [9.1112e-01, 7.2363e-01, 6.2889e-01, 8.4556e-01, 6.4881e-01,\n",
              "          5.1359e-01, 4.4553e-01, 4.1110e-01, 5.6806e-01, 8.0222e-01]],\n",
              "\n",
              "        [[6.3546e-01, 7.0491e-01, 4.3987e-01, 4.7947e-01, 8.1277e-04,\n",
              "          9.4792e-01, 2.4185e-01, 9.2408e-01, 3.6694e-01, 2.0584e-01],\n",
              "         [5.6712e-01, 5.4156e-01, 4.8679e-01, 9.1077e-01, 9.0909e-04,\n",
              "          3.8549e-01, 3.9587e-01, 8.9864e-01, 8.9557e-01, 8.7911e-01],\n",
              "         [4.7309e-01, 9.7653e-01, 3.4760e-01, 5.7142e-01, 3.5843e-01,\n",
              "          4.0462e-01, 5.1653e-01, 6.8520e-01, 3.1389e-01, 7.2241e-01],\n",
              "         [1.3366e-01, 7.8123e-01, 2.8737e-01, 6.3376e-01, 5.1595e-01,\n",
              "          5.1117e-01, 1.1312e-02, 2.3886e-01, 8.4291e-01, 8.0715e-01],\n",
              "         [5.6483e-01, 1.4898e-01, 4.5327e-01, 2.8504e-01, 3.8930e-01,\n",
              "          8.3739e-01, 6.2177e-01, 9.1381e-01, 6.2407e-02, 8.4542e-01],\n",
              "         [5.0199e-01, 3.9747e-01, 8.9687e-01, 5.7480e-02, 5.5684e-01,\n",
              "          8.2382e-01, 1.8629e-01, 2.3691e-01, 8.4699e-01, 2.5158e-02],\n",
              "         [4.4937e-01, 4.0311e-01, 9.7708e-01, 5.0781e-01, 7.7958e-01,\n",
              "          9.3903e-01, 2.1400e-01, 2.6198e-01, 4.5388e-01, 6.0960e-01],\n",
              "         [4.5369e-01, 8.7238e-01, 1.8089e-01, 1.4369e-01, 8.1508e-01,\n",
              "          1.7621e-01, 8.6460e-01, 3.3935e-01, 7.0878e-01, 7.0031e-01],\n",
              "         [1.1634e-01, 8.2464e-02, 9.5863e-01, 4.9838e-01, 6.9976e-01,\n",
              "          1.0024e-01, 8.3561e-01, 2.4685e-01, 8.6766e-01, 4.5939e-02],\n",
              "         [2.8936e-01, 4.3896e-01, 1.7705e-01, 6.9233e-01, 1.1781e-01,\n",
              "          1.3996e-01, 9.6752e-02, 3.6762e-01, 1.3859e-01, 2.8522e-01]]])"
            ]
          },
          "metadata": {},
          "execution_count": 69
        }
      ]
    },
    {
      "cell_type": "code",
      "source": [
        "random_tensor.ndim"
      ],
      "metadata": {
        "colab": {
          "base_uri": "https://localhost:8080/"
        },
        "id": "-RxQZRQXDZT3",
        "outputId": "337758a7-da6b-4535-fdea-aa1bb5154364"
      },
      "execution_count": null,
      "outputs": [
        {
          "output_type": "execute_result",
          "data": {
            "text/plain": [
              "3"
            ]
          },
          "metadata": {},
          "execution_count": 70
        }
      ]
    },
    {
      "cell_type": "code",
      "source": [
        "#create a random tensor with similar shape to an image tensor\n",
        "random_image_size_tensor = torch.rand(size=(3,224,224))#height,width,color channel\n",
        "random_image_size_tensor.shape, random_image_size_tensor.ndim"
      ],
      "metadata": {
        "colab": {
          "base_uri": "https://localhost:8080/"
        },
        "id": "2lE6FB17DpMe",
        "outputId": "3e5de3ee-5b58-4824-fceb-159d1dc9d89c"
      },
      "execution_count": null,
      "outputs": [
        {
          "output_type": "execute_result",
          "data": {
            "text/plain": [
              "(torch.Size([3, 224, 224]), 3)"
            ]
          },
          "metadata": {},
          "execution_count": 77
        }
      ]
    },
    {
      "cell_type": "code",
      "source": [
        "torch.rand(3,3)"
      ],
      "metadata": {
        "colab": {
          "base_uri": "https://localhost:8080/"
        },
        "id": "RcRkAqzqHZIe",
        "outputId": "e4d556ab-49fe-423a-f92d-c614cb7cbf0b"
      },
      "execution_count": null,
      "outputs": [
        {
          "output_type": "execute_result",
          "data": {
            "text/plain": [
              "tensor([[0.8359, 0.3786, 0.7404],\n",
              "        [0.5603, 0.2086, 0.7561],\n",
              "        [0.7007, 0.0215, 0.8261]])"
            ]
          },
          "metadata": {},
          "execution_count": 78
        }
      ]
    },
    {
      "cell_type": "code",
      "source": [
        "#zeros and ones\n",
        "zero = torch.zeros(size=(3,4))\n",
        "zero"
      ],
      "metadata": {
        "colab": {
          "base_uri": "https://localhost:8080/"
        },
        "id": "iSZZDYqWIVsz",
        "outputId": "4d5cb703-8fa5-4e93-f899-f2bd6cba4198"
      },
      "execution_count": null,
      "outputs": [
        {
          "output_type": "execute_result",
          "data": {
            "text/plain": [
              "tensor([[0., 0., 0., 0.],\n",
              "        [0., 0., 0., 0.],\n",
              "        [0., 0., 0., 0.]])"
            ]
          },
          "metadata": {},
          "execution_count": 80
        }
      ]
    },
    {
      "cell_type": "code",
      "source": [
        "#create a tensor of all ones\n",
        "ones = torch.ones(size=(3,4))\n",
        "ones"
      ],
      "metadata": {
        "colab": {
          "base_uri": "https://localhost:8080/"
        },
        "id": "uZNjgqG0IrqQ",
        "outputId": "cee4495f-94ca-40a9-e5e2-7d48ca66d35b"
      },
      "execution_count": null,
      "outputs": [
        {
          "output_type": "execute_result",
          "data": {
            "text/plain": [
              "tensor([[1., 1., 1., 1.],\n",
              "        [1., 1., 1., 1.],\n",
              "        [1., 1., 1., 1.]])"
            ]
          },
          "metadata": {},
          "execution_count": 81
        }
      ]
    },
    {
      "cell_type": "code",
      "source": [
        "#use torch.range()\n",
        "one_to_ten = torch.arange(1,11)\n",
        "one_to_ten"
      ],
      "metadata": {
        "colab": {
          "base_uri": "https://localhost:8080/"
        },
        "id": "pbHnsIQFI3N9",
        "outputId": "96a8b4a2-7156-45ce-e24f-07ff75e22ada"
      },
      "execution_count": null,
      "outputs": [
        {
          "output_type": "execute_result",
          "data": {
            "text/plain": [
              "tensor([ 1,  2,  3,  4,  5,  6,  7,  8,  9, 10])"
            ]
          },
          "metadata": {},
          "execution_count": 82
        }
      ]
    },
    {
      "cell_type": "code",
      "source": [
        "one_to_ten = torch.arange(start=1, end=11, step=1)\n",
        "one_to_ten"
      ],
      "metadata": {
        "colab": {
          "base_uri": "https://localhost:8080/"
        },
        "id": "40k8u2g-JdPJ",
        "outputId": "668e42af-567c-4f98-d056-88599846cba9"
      },
      "execution_count": null,
      "outputs": [
        {
          "output_type": "execute_result",
          "data": {
            "text/plain": [
              "tensor([ 1,  2,  3,  4,  5,  6,  7,  8,  9, 10])"
            ]
          },
          "metadata": {},
          "execution_count": 83
        }
      ]
    },
    {
      "cell_type": "code",
      "source": [
        "one_to_ten.shape"
      ],
      "metadata": {
        "id": "q-tCvr99Jsld",
        "outputId": "4ddd62ac-56e3-4e52-bb01-1a7406fa6c1e",
        "colab": {
          "base_uri": "https://localhost:8080/"
        }
      },
      "execution_count": null,
      "outputs": [
        {
          "output_type": "execute_result",
          "data": {
            "text/plain": [
              "torch.Size([10])"
            ]
          },
          "metadata": {},
          "execution_count": 84
        }
      ]
    },
    {
      "cell_type": "code",
      "source": [],
      "metadata": {
        "id": "c3cUuCvlJv0p"
      },
      "execution_count": null,
      "outputs": []
    }
  ]
}