{
  "nbformat": 4,
  "nbformat_minor": 0,
  "metadata": {
    "colab": {
      "provenance": [],
      "gpuType": "T4",
      "authorship_tag": "ABX9TyOwf+m5BHpjF7Bx6T3+s+c3",
      "include_colab_link": true
    },
    "kernelspec": {
      "name": "python3",
      "display_name": "Python 3"
    },
    "language_info": {
      "name": "python"
    },
    "accelerator": "GPU"
  },
  "cells": [
    {
      "cell_type": "markdown",
      "metadata": {
        "id": "view-in-github",
        "colab_type": "text"
      },
      "source": [
        "<a href=\"https://colab.research.google.com/github/shishiradk/pytorch-pratices/blob/main/pytorch.ipynb\" target=\"_parent\"><img src=\"https://colab.research.google.com/assets/colab-badge.svg\" alt=\"Open In Colab\"/></a>"
      ]
    },
    {
      "cell_type": "code",
      "execution_count": 1,
      "metadata": {
        "colab": {
          "base_uri": "https://localhost:8080/"
        },
        "id": "Ipxmmm-BuHoq",
        "outputId": "218b48ac-2d99-4bd2-8d68-e8ff17823049"
      },
      "outputs": [
        {
          "output_type": "stream",
          "name": "stdout",
          "text": [
            "Sun Aug 24 15:26:13 2025       \n",
            "+-----------------------------------------------------------------------------------------+\n",
            "| NVIDIA-SMI 550.54.15              Driver Version: 550.54.15      CUDA Version: 12.4     |\n",
            "|-----------------------------------------+------------------------+----------------------+\n",
            "| GPU  Name                 Persistence-M | Bus-Id          Disp.A | Volatile Uncorr. ECC |\n",
            "| Fan  Temp   Perf          Pwr:Usage/Cap |           Memory-Usage | GPU-Util  Compute M. |\n",
            "|                                         |                        |               MIG M. |\n",
            "|=========================================+========================+======================|\n",
            "|   0  Tesla T4                       Off |   00000000:00:04.0 Off |                    0 |\n",
            "| N/A   38C    P8             10W /   70W |       0MiB /  15360MiB |      0%      Default |\n",
            "|                                         |                        |                  N/A |\n",
            "+-----------------------------------------+------------------------+----------------------+\n",
            "                                                                                         \n",
            "+-----------------------------------------------------------------------------------------+\n",
            "| Processes:                                                                              |\n",
            "|  GPU   GI   CI        PID   Type   Process name                              GPU Memory |\n",
            "|        ID   ID                                                               Usage      |\n",
            "|=========================================================================================|\n",
            "|  No running processes found                                                             |\n",
            "+-----------------------------------------------------------------------------------------+\n"
          ]
        }
      ],
      "source": [
        "!nvidia-smi\n"
      ]
    },
    {
      "cell_type": "code",
      "source": [
        "import numpy as np\n",
        "import pandas as pd\n",
        "import matplotlib.pyplot as plt\n",
        "import torch\n",
        "print(torch.__version__)"
      ],
      "metadata": {
        "colab": {
          "base_uri": "https://localhost:8080/"
        },
        "id": "eZa8yggluhDq",
        "outputId": "327b9e09-6447-4d00-bdf6-1bab3c52bf2d"
      },
      "execution_count": 2,
      "outputs": [
        {
          "output_type": "stream",
          "name": "stdout",
          "text": [
            "2.8.0+cu126\n"
          ]
        }
      ]
    },
    {
      "cell_type": "markdown",
      "source": [
        "introduction to tensors\n",
        "creating tensor"
      ],
      "metadata": {
        "id": "0T04eZk0w0gf"
      }
    },
    {
      "cell_type": "markdown",
      "source": [],
      "metadata": {
        "id": "BRYigiaOw3Fh"
      }
    },
    {
      "cell_type": "code",
      "source": [
        "#scalar\n",
        "scalar = torch.tensor(7)\n",
        "scalar\n"
      ],
      "metadata": {
        "colab": {
          "base_uri": "https://localhost:8080/"
        },
        "id": "E78psR9bwJyK",
        "outputId": "a796b410-953b-4bf7-9582-241cb6eb1723"
      },
      "execution_count": 3,
      "outputs": [
        {
          "output_type": "execute_result",
          "data": {
            "text/plain": [
              "tensor(7)"
            ]
          },
          "metadata": {},
          "execution_count": 3
        }
      ]
    },
    {
      "cell_type": "code",
      "source": [
        "scalar.ndim"
      ],
      "metadata": {
        "colab": {
          "base_uri": "https://localhost:8080/"
        },
        "id": "IqIfhYWywrSG",
        "outputId": "bbecec9e-e994-4c4e-e3ef-94f3b519b03d"
      },
      "execution_count": 4,
      "outputs": [
        {
          "output_type": "execute_result",
          "data": {
            "text/plain": [
              "0"
            ]
          },
          "metadata": {},
          "execution_count": 4
        }
      ]
    },
    {
      "cell_type": "code",
      "source": [
        "#get tensor back as python int\n",
        "scalar.item()"
      ],
      "metadata": {
        "colab": {
          "base_uri": "https://localhost:8080/"
        },
        "id": "g57NNznbyB6a",
        "outputId": "3eb3f032-601c-46e2-923c-477fac30d31b"
      },
      "execution_count": 5,
      "outputs": [
        {
          "output_type": "execute_result",
          "data": {
            "text/plain": [
              "7"
            ]
          },
          "metadata": {},
          "execution_count": 5
        }
      ]
    },
    {
      "cell_type": "code",
      "source": [
        "#vector\n",
        "vector = torch.tensor([7,7])\n",
        "vector"
      ],
      "metadata": {
        "colab": {
          "base_uri": "https://localhost:8080/"
        },
        "id": "am4C3NNzyOLN",
        "outputId": "700cff72-a461-49e4-dd4d-e74e796f97da"
      },
      "execution_count": 6,
      "outputs": [
        {
          "output_type": "execute_result",
          "data": {
            "text/plain": [
              "tensor([7, 7])"
            ]
          },
          "metadata": {},
          "execution_count": 6
        }
      ]
    },
    {
      "cell_type": "code",
      "source": [
        "vector.ndim"
      ],
      "metadata": {
        "colab": {
          "base_uri": "https://localhost:8080/"
        },
        "id": "UG3w44iRyh9b",
        "outputId": "6b7a0d27-55c9-4972-e296-f65467ef1a13"
      },
      "execution_count": 7,
      "outputs": [
        {
          "output_type": "execute_result",
          "data": {
            "text/plain": [
              "1"
            ]
          },
          "metadata": {},
          "execution_count": 7
        }
      ]
    },
    {
      "cell_type": "code",
      "source": [
        "vector.shape"
      ],
      "metadata": {
        "colab": {
          "base_uri": "https://localhost:8080/"
        },
        "id": "T4ieiQRyymB1",
        "outputId": "f888d5c7-7eaa-48ed-8f26-0f89d823a0cc"
      },
      "execution_count": 8,
      "outputs": [
        {
          "output_type": "execute_result",
          "data": {
            "text/plain": [
              "torch.Size([2])"
            ]
          },
          "metadata": {},
          "execution_count": 8
        }
      ]
    },
    {
      "cell_type": "code",
      "source": [
        "#matrix\n",
        "MATRIX = torch.tensor([[7,8],\n",
        "                      [9,10]])\n",
        "MATRIX\n"
      ],
      "metadata": {
        "colab": {
          "base_uri": "https://localhost:8080/"
        },
        "id": "wexINEwqyolb",
        "outputId": "525c55f6-dc33-4cd1-d2c3-8e887a0e0200"
      },
      "execution_count": 9,
      "outputs": [
        {
          "output_type": "execute_result",
          "data": {
            "text/plain": [
              "tensor([[ 7,  8],\n",
              "        [ 9, 10]])"
            ]
          },
          "metadata": {},
          "execution_count": 9
        }
      ]
    },
    {
      "cell_type": "code",
      "source": [
        "MATRIX.ndim"
      ],
      "metadata": {
        "colab": {
          "base_uri": "https://localhost:8080/"
        },
        "id": "Xm7PGAG1zEBZ",
        "outputId": "0676ba01-de32-4a47-8e55-30f3075fe316"
      },
      "execution_count": 10,
      "outputs": [
        {
          "output_type": "execute_result",
          "data": {
            "text/plain": [
              "2"
            ]
          },
          "metadata": {},
          "execution_count": 10
        }
      ]
    },
    {
      "cell_type": "code",
      "source": [
        "MATRIX[1]"
      ],
      "metadata": {
        "colab": {
          "base_uri": "https://localhost:8080/"
        },
        "id": "EvoOzPJdzIgd",
        "outputId": "64e6fbe6-2c60-4056-f1a3-534b1b6b90ca"
      },
      "execution_count": 11,
      "outputs": [
        {
          "output_type": "execute_result",
          "data": {
            "text/plain": [
              "tensor([ 9, 10])"
            ]
          },
          "metadata": {},
          "execution_count": 11
        }
      ]
    },
    {
      "cell_type": "code",
      "source": [
        "MATRIX.shape"
      ],
      "metadata": {
        "colab": {
          "base_uri": "https://localhost:8080/"
        },
        "id": "6eSRxHX2zOS4",
        "outputId": "13550170-036e-4ca8-d855-1cffa8afc6ad"
      },
      "execution_count": 12,
      "outputs": [
        {
          "output_type": "execute_result",
          "data": {
            "text/plain": [
              "torch.Size([2, 2])"
            ]
          },
          "metadata": {},
          "execution_count": 12
        }
      ]
    },
    {
      "cell_type": "code",
      "source": [
        "#TENSOR\n",
        "TENSOR = torch.tensor([[[1,2,4],\n",
        "                         [2,3,4],\n",
        "                         [4,5,6]]])"
      ],
      "metadata": {
        "id": "8950TfPczRPv"
      },
      "execution_count": 13,
      "outputs": []
    },
    {
      "cell_type": "code",
      "source": [
        "TENSOR"
      ],
      "metadata": {
        "colab": {
          "base_uri": "https://localhost:8080/"
        },
        "id": "SJ2MSdj7zqLW",
        "outputId": "cba92629-b7fe-41ca-b406-92173809e10e"
      },
      "execution_count": 14,
      "outputs": [
        {
          "output_type": "execute_result",
          "data": {
            "text/plain": [
              "tensor([[[1, 2, 4],\n",
              "         [2, 3, 4],\n",
              "         [4, 5, 6]]])"
            ]
          },
          "metadata": {},
          "execution_count": 14
        }
      ]
    },
    {
      "cell_type": "code",
      "source": [
        "TENSOR.ndim"
      ],
      "metadata": {
        "colab": {
          "base_uri": "https://localhost:8080/"
        },
        "id": "LUFlW-blztOy",
        "outputId": "8178bc68-b88c-4b6b-a612-8cb76971998d"
      },
      "execution_count": 15,
      "outputs": [
        {
          "output_type": "execute_result",
          "data": {
            "text/plain": [
              "3"
            ]
          },
          "metadata": {},
          "execution_count": 15
        }
      ]
    },
    {
      "cell_type": "code",
      "source": [
        "TENSOR.shape"
      ],
      "metadata": {
        "colab": {
          "base_uri": "https://localhost:8080/"
        },
        "id": "NOi9qPb9zvmF",
        "outputId": "c25a98fc-ab3b-45f1-cb9b-8149531bfaad"
      },
      "execution_count": 16,
      "outputs": [
        {
          "output_type": "execute_result",
          "data": {
            "text/plain": [
              "torch.Size([1, 3, 3])"
            ]
          },
          "metadata": {},
          "execution_count": 16
        }
      ]
    },
    {
      "cell_type": "code",
      "source": [
        "TENSOR[0]"
      ],
      "metadata": {
        "colab": {
          "base_uri": "https://localhost:8080/"
        },
        "id": "6eeTCFwtzyJi",
        "outputId": "42a45de2-c38a-4b9b-d632-0a80f921dca8"
      },
      "execution_count": 17,
      "outputs": [
        {
          "output_type": "execute_result",
          "data": {
            "text/plain": [
              "tensor([[1, 2, 4],\n",
              "        [2, 3, 4],\n",
              "        [4, 5, 6]])"
            ]
          },
          "metadata": {},
          "execution_count": 17
        }
      ]
    },
    {
      "cell_type": "code",
      "source": [
        "TENSOR = torch.tensor([[[6,7,8],\n",
        "                        [5,6,7],\n",
        "                        [4,5,6]]])\n",
        "TENSOR"
      ],
      "metadata": {
        "colab": {
          "base_uri": "https://localhost:8080/"
        },
        "id": "ET2lqt--z0gu",
        "outputId": "4b8f7339-7c8f-4917-f576-2d012d0c2f52"
      },
      "execution_count": 18,
      "outputs": [
        {
          "output_type": "execute_result",
          "data": {
            "text/plain": [
              "tensor([[[6, 7, 8],\n",
              "         [5, 6, 7],\n",
              "         [4, 5, 6]]])"
            ]
          },
          "metadata": {},
          "execution_count": 18
        }
      ]
    },
    {
      "cell_type": "code",
      "source": [
        "TENSOR.ndim"
      ],
      "metadata": {
        "colab": {
          "base_uri": "https://localhost:8080/"
        },
        "id": "CsuKrOcMz27a",
        "outputId": "b7fb3d41-5b02-4ebd-8863-d826153307c6"
      },
      "execution_count": 19,
      "outputs": [
        {
          "output_type": "execute_result",
          "data": {
            "text/plain": [
              "3"
            ]
          },
          "metadata": {},
          "execution_count": 19
        }
      ]
    },
    {
      "cell_type": "code",
      "source": [
        "TENSOR.shape"
      ],
      "metadata": {
        "colab": {
          "base_uri": "https://localhost:8080/"
        },
        "id": "B0LmokBZ_UwJ",
        "outputId": "905b622f-4c77-4a5f-a886-6b647392e406"
      },
      "execution_count": 20,
      "outputs": [
        {
          "output_type": "execute_result",
          "data": {
            "text/plain": [
              "torch.Size([1, 3, 3])"
            ]
          },
          "metadata": {},
          "execution_count": 20
        }
      ]
    },
    {
      "cell_type": "code",
      "source": [
        "TENSOR[0]"
      ],
      "metadata": {
        "colab": {
          "base_uri": "https://localhost:8080/"
        },
        "id": "xUU7BC75_YAa",
        "outputId": "657bfe3e-9c9e-4fe7-bbfe-8361cc490f21"
      },
      "execution_count": 21,
      "outputs": [
        {
          "output_type": "execute_result",
          "data": {
            "text/plain": [
              "tensor([[6, 7, 8],\n",
              "        [5, 6, 7],\n",
              "        [4, 5, 6]])"
            ]
          },
          "metadata": {},
          "execution_count": 21
        }
      ]
    },
    {
      "cell_type": "code",
      "source": [
        "#create a random tensor of size (3,4)\n",
        "random_tensor = torch.rand(10,10,10)\n",
        "random_tensor"
      ],
      "metadata": {
        "colab": {
          "base_uri": "https://localhost:8080/"
        },
        "id": "gTsFrcdZ_coi",
        "outputId": "175aabd5-70e9-4b38-f9d3-7b77381a13d2"
      },
      "execution_count": 22,
      "outputs": [
        {
          "output_type": "execute_result",
          "data": {
            "text/plain": [
              "tensor([[[5.7550e-01, 4.5093e-02, 6.8720e-01, 5.7020e-02, 9.5705e-01,\n",
              "          2.9283e-01, 8.6465e-01, 1.0291e-01, 3.2324e-01, 2.6413e-01],\n",
              "         [4.9297e-01, 7.2683e-01, 9.0800e-01, 4.6047e-01, 6.8272e-01,\n",
              "          3.6446e-01, 7.4832e-01, 7.8866e-01, 2.3395e-01, 7.3103e-01],\n",
              "         [1.0993e-01, 4.0733e-01, 6.6442e-01, 6.9226e-01, 9.6865e-01,\n",
              "          8.1960e-01, 9.0238e-01, 4.7101e-01, 3.6360e-01, 8.4552e-01],\n",
              "         [1.6768e-01, 7.2243e-01, 1.0726e-01, 6.6389e-01, 6.7674e-01,\n",
              "          3.7285e-01, 4.0794e-01, 7.4589e-01, 3.2540e-01, 4.1444e-01],\n",
              "         [1.8730e-01, 2.8359e-02, 5.6609e-02, 6.2324e-01, 9.7967e-01,\n",
              "          8.8517e-01, 3.6316e-01, 6.7726e-01, 9.0249e-02, 4.6142e-02],\n",
              "         [8.8352e-01, 6.3333e-01, 9.2006e-01, 4.6528e-02, 1.5645e-01,\n",
              "          5.1789e-01, 3.2446e-01, 3.2744e-01, 7.9085e-01, 9.8015e-01],\n",
              "         [8.7790e-01, 9.7277e-01, 5.9813e-01, 4.4446e-01, 2.9267e-01,\n",
              "          4.0540e-01, 2.5522e-01, 5.2186e-01, 5.6800e-01, 5.8625e-01],\n",
              "         [9.8211e-01, 7.7425e-02, 3.4431e-01, 2.6185e-01, 6.2625e-01,\n",
              "          6.5551e-01, 7.2848e-01, 9.7156e-01, 4.8668e-01, 3.9898e-01],\n",
              "         [3.6181e-01, 8.6429e-01, 7.6122e-01, 6.6164e-01, 6.9060e-01,\n",
              "          8.4059e-01, 3.7569e-01, 9.7507e-01, 2.5466e-01, 5.5853e-01],\n",
              "         [9.0187e-01, 8.5872e-01, 5.6160e-01, 2.2151e-01, 6.6457e-01,\n",
              "          1.9981e-01, 9.4896e-01, 8.3683e-01, 8.6755e-02, 4.6454e-01]],\n",
              "\n",
              "        [[9.7077e-03, 6.9588e-01, 9.7278e-02, 5.5719e-01, 8.2904e-02,\n",
              "          2.2608e-01, 9.9759e-01, 7.9710e-02, 3.5319e-01, 6.2087e-01],\n",
              "         [2.2983e-01, 2.7640e-01, 3.6908e-01, 1.6524e-01, 9.7394e-01,\n",
              "          9.0502e-02, 5.9015e-01, 2.1550e-01, 7.0474e-01, 3.0665e-01],\n",
              "         [3.3924e-01, 9.3553e-01, 1.9380e-01, 8.9931e-02, 2.9135e-01,\n",
              "          2.2816e-01, 6.8985e-01, 8.3041e-01, 1.2238e-01, 2.5367e-01],\n",
              "         [8.4408e-02, 3.9351e-01, 2.3066e-01, 6.1898e-01, 3.9037e-01,\n",
              "          6.2489e-01, 2.5201e-01, 7.5628e-01, 9.6248e-01, 3.8849e-01],\n",
              "         [4.3452e-01, 8.4321e-01, 8.6490e-01, 1.9861e-01, 4.3905e-01,\n",
              "          4.5165e-01, 9.0032e-02, 6.2626e-01, 9.0057e-01, 9.3031e-02],\n",
              "         [1.3270e-01, 2.8695e-01, 4.5684e-01, 2.7212e-01, 1.9371e-01,\n",
              "          4.1181e-01, 6.0779e-01, 3.2970e-01, 6.7211e-01, 8.0188e-01],\n",
              "         [1.2189e-01, 6.2004e-01, 8.1387e-01, 4.1968e-01, 9.9072e-02,\n",
              "          9.1070e-01, 5.0080e-01, 6.0568e-01, 3.7806e-01, 9.0790e-01],\n",
              "         [3.4457e-01, 9.6466e-01, 4.9304e-01, 5.3401e-01, 8.0671e-02,\n",
              "          6.0347e-01, 4.5598e-01, 5.6572e-01, 5.2759e-01, 1.4742e-01],\n",
              "         [3.1130e-01, 5.2284e-01, 4.2164e-01, 7.7990e-01, 4.5548e-01,\n",
              "          8.9670e-01, 3.5211e-01, 1.4252e-01, 8.3220e-01, 1.3240e-01],\n",
              "         [7.5185e-01, 8.4902e-01, 4.3894e-01, 2.6198e-01, 3.8580e-02,\n",
              "          3.8993e-01, 2.7413e-01, 2.4874e-01, 4.8357e-02, 2.8973e-01]],\n",
              "\n",
              "        [[7.7709e-01, 2.6648e-01, 2.5226e-01, 3.5911e-01, 3.9751e-01,\n",
              "          9.9171e-01, 7.0552e-01, 7.2427e-01, 3.8668e-01, 5.8453e-01],\n",
              "         [5.9791e-01, 9.5190e-01, 8.9269e-01, 8.9370e-01, 6.7753e-01,\n",
              "          5.7676e-01, 6.6296e-02, 4.2713e-01, 6.8777e-01, 7.6019e-01],\n",
              "         [4.3490e-01, 9.6576e-01, 7.0908e-01, 9.3403e-01, 8.6204e-01,\n",
              "          9.6145e-01, 9.3590e-01, 3.0339e-01, 2.0539e-02, 3.2949e-01],\n",
              "         [7.7579e-01, 7.4757e-01, 2.4008e-01, 6.2257e-01, 3.5311e-02,\n",
              "          3.4196e-01, 9.6534e-01, 8.4439e-01, 7.2716e-01, 2.5580e-01],\n",
              "         [2.4174e-01, 4.5379e-01, 7.0609e-01, 1.6583e-01, 4.0798e-01,\n",
              "          7.6592e-01, 5.0609e-01, 9.3767e-01, 3.2458e-02, 1.5682e-01],\n",
              "         [2.2100e-02, 3.1134e-01, 1.6759e-01, 9.8248e-01, 9.9521e-01,\n",
              "          9.2431e-01, 5.2955e-01, 6.4958e-01, 7.3294e-01, 3.7400e-01],\n",
              "         [2.5782e-01, 1.6408e-02, 2.5746e-01, 5.6518e-01, 6.3738e-01,\n",
              "          4.6768e-01, 5.5466e-01, 5.3155e-01, 3.4727e-01, 8.9670e-01],\n",
              "         [5.3231e-01, 1.3314e-01, 5.7693e-01, 4.7208e-01, 3.6159e-01,\n",
              "          9.9913e-01, 4.9703e-01, 2.2186e-01, 8.9826e-01, 7.5547e-01],\n",
              "         [3.9698e-01, 5.5899e-01, 6.9930e-01, 6.7682e-01, 8.8280e-01,\n",
              "          8.8294e-01, 3.0039e-01, 8.6377e-02, 9.4361e-01, 2.7123e-01],\n",
              "         [9.1728e-01, 3.3598e-01, 9.0069e-01, 9.9642e-01, 3.6787e-01,\n",
              "          3.0023e-01, 3.5793e-01, 1.1456e-01, 2.7877e-01, 5.0507e-01]],\n",
              "\n",
              "        [[1.0558e-01, 3.8592e-01, 4.8968e-01, 9.9832e-01, 8.5645e-01,\n",
              "          3.3528e-01, 5.8527e-01, 3.6849e-01, 3.0172e-01, 2.7268e-01],\n",
              "         [1.0140e-01, 1.2949e-02, 3.0225e-01, 5.9165e-02, 9.7895e-01,\n",
              "          9.5629e-01, 3.6015e-01, 2.6564e-01, 5.5472e-01, 1.3919e-01],\n",
              "         [2.1569e-01, 7.1357e-01, 5.1779e-01, 4.5086e-01, 1.3196e-01,\n",
              "          6.9160e-01, 1.7269e-01, 6.8793e-01, 3.5989e-01, 6.7915e-01],\n",
              "         [3.6438e-01, 1.6487e-01, 3.5211e-01, 8.8776e-01, 9.4042e-01,\n",
              "          7.5997e-01, 8.6840e-01, 1.1164e-01, 5.4804e-01, 4.5744e-01],\n",
              "         [9.1010e-01, 1.7488e-01, 1.6037e-01, 6.6660e-02, 1.1444e-04,\n",
              "          2.7769e-01, 5.3580e-01, 9.3422e-01, 7.3145e-01, 5.9126e-01],\n",
              "         [6.6140e-02, 3.6441e-01, 3.0711e-01, 6.4352e-01, 4.8534e-01,\n",
              "          4.9289e-01, 1.8765e-01, 8.5815e-01, 7.5129e-01, 5.6352e-01],\n",
              "         [7.3390e-01, 3.6826e-01, 8.1576e-01, 5.6738e-01, 9.9593e-01,\n",
              "          2.4908e-01, 1.0748e-01, 2.1651e-01, 5.3917e-01, 8.5908e-01],\n",
              "         [5.4994e-01, 7.6814e-01, 7.3515e-01, 1.9441e-01, 2.3293e-01,\n",
              "          8.1274e-01, 5.1566e-02, 6.8740e-01, 9.9033e-01, 6.5763e-01],\n",
              "         [9.1970e-01, 6.1590e-01, 1.0724e-01, 6.3811e-01, 5.6054e-02,\n",
              "          8.3291e-02, 4.5498e-01, 5.5295e-01, 6.0438e-01, 5.0053e-01],\n",
              "         [4.7763e-01, 4.8525e-01, 9.1922e-01, 1.7403e-01, 7.9695e-01,\n",
              "          9.2565e-01, 4.3071e-01, 2.0321e-01, 3.4974e-01, 1.6917e-01]],\n",
              "\n",
              "        [[5.5937e-01, 6.8397e-01, 7.0579e-01, 3.6417e-01, 6.4529e-01,\n",
              "          1.4388e-01, 2.0937e-01, 5.0854e-01, 6.5943e-01, 1.0338e-01],\n",
              "         [8.4212e-01, 3.7560e-01, 8.6864e-01, 3.2549e-01, 2.5299e-01,\n",
              "          1.8950e-01, 2.3155e-01, 3.4080e-01, 1.9052e-01, 2.9578e-03],\n",
              "         [6.2681e-01, 2.4035e-01, 9.0448e-01, 3.5990e-01, 3.3153e-01,\n",
              "          2.4008e-01, 1.5171e-01, 3.8070e-01, 6.3091e-01, 7.4955e-01],\n",
              "         [6.6914e-01, 4.6154e-01, 8.8988e-01, 1.1150e-01, 4.7038e-01,\n",
              "          3.4885e-01, 9.5236e-01, 1.2404e-01, 7.7465e-01, 2.9343e-01],\n",
              "         [1.8340e-01, 6.4027e-01, 8.8346e-01, 6.4281e-01, 5.0911e-01,\n",
              "          4.8730e-01, 1.7351e-02, 6.8813e-01, 4.1490e-01, 7.5583e-01],\n",
              "         [6.7900e-01, 9.4768e-01, 7.7743e-01, 5.9401e-01, 5.9561e-01,\n",
              "          3.7992e-01, 2.1998e-01, 9.8321e-01, 8.1957e-01, 8.2955e-01],\n",
              "         [2.0931e-02, 8.7691e-01, 7.9563e-01, 2.5189e-01, 5.2600e-01,\n",
              "          1.6317e-01, 1.2713e-01, 1.5449e-01, 7.4846e-01, 1.4720e-01],\n",
              "         [5.9457e-01, 8.4041e-02, 8.0634e-01, 7.8055e-01, 3.3535e-01,\n",
              "          5.2856e-01, 5.2899e-01, 7.8791e-01, 3.8107e-01, 1.4538e-02],\n",
              "         [2.6207e-01, 1.2602e-01, 3.1307e-01, 5.8950e-01, 4.3792e-01,\n",
              "          8.9818e-01, 5.2906e-01, 8.9969e-01, 8.2855e-01, 4.8022e-01],\n",
              "         [7.7931e-01, 6.3425e-01, 8.3116e-01, 1.8332e-01, 5.3452e-01,\n",
              "          8.3363e-01, 9.8822e-01, 1.3355e-01, 3.4403e-01, 4.6345e-01]],\n",
              "\n",
              "        [[9.6347e-01, 4.9508e-02, 4.9714e-01, 1.5201e-01, 8.7244e-01,\n",
              "          8.4179e-01, 6.7097e-01, 3.9337e-01, 3.0897e-01, 7.3182e-01],\n",
              "         [2.3346e-01, 5.3936e-01, 7.9944e-02, 5.9932e-01, 8.4425e-01,\n",
              "          4.6193e-01, 7.8097e-01, 1.5690e-01, 3.7786e-01, 7.4008e-01],\n",
              "         [6.9876e-01, 6.7098e-01, 1.6975e-01, 5.9118e-01, 2.9002e-01,\n",
              "          3.5233e-01, 3.1976e-01, 9.4610e-01, 4.6220e-01, 5.6670e-01],\n",
              "         [7.9615e-01, 1.5068e-02, 7.5531e-01, 3.5745e-01, 9.5361e-01,\n",
              "          9.3089e-02, 3.6061e-02, 7.4118e-02, 4.9031e-02, 2.5853e-01],\n",
              "         [1.4084e-01, 8.3775e-02, 3.3500e-01, 8.6659e-01, 4.0366e-01,\n",
              "          9.5086e-01, 5.1177e-01, 1.6259e-01, 9.9476e-01, 9.2471e-01],\n",
              "         [1.1180e-01, 6.2379e-01, 8.5026e-01, 7.5339e-01, 5.3822e-01,\n",
              "          5.3775e-01, 3.1204e-01, 1.6299e-01, 3.4466e-01, 8.6806e-01],\n",
              "         [9.3022e-01, 8.7695e-01, 1.2233e-01, 8.5925e-01, 5.2889e-01,\n",
              "          6.0654e-01, 6.9291e-01, 1.6545e-01, 6.8093e-01, 1.3150e-01],\n",
              "         [1.3765e-01, 2.6828e-01, 2.2346e-01, 2.1778e-01, 2.0152e-01,\n",
              "          8.3611e-01, 8.3395e-01, 9.7057e-01, 2.9358e-03, 5.6229e-01],\n",
              "         [7.5441e-01, 4.1349e-01, 1.5204e-01, 2.9107e-01, 2.9017e-01,\n",
              "          2.5185e-01, 5.7317e-01, 8.1848e-01, 5.1041e-01, 3.1815e-01],\n",
              "         [6.7777e-02, 4.0875e-01, 6.6028e-02, 8.0679e-02, 5.0047e-01,\n",
              "          8.3593e-01, 8.3523e-01, 7.6420e-01, 1.6250e-01, 7.3532e-01]],\n",
              "\n",
              "        [[1.1071e-01, 6.8386e-01, 7.9554e-01, 5.3153e-01, 8.6108e-01,\n",
              "          8.2114e-01, 4.9980e-01, 1.7322e-01, 7.3066e-01, 1.9357e-01],\n",
              "         [7.4408e-01, 3.0866e-01, 4.7571e-01, 9.4011e-01, 2.0759e-01,\n",
              "          4.9723e-02, 7.0249e-01, 7.7158e-01, 9.0999e-01, 7.1229e-01],\n",
              "         [1.0609e-01, 8.1020e-02, 9.0698e-01, 2.5777e-01, 4.9101e-01,\n",
              "          6.8235e-01, 9.5696e-01, 3.0993e-01, 3.8283e-01, 4.8055e-02],\n",
              "         [2.1092e-01, 5.2261e-01, 9.2481e-01, 6.3865e-01, 5.3277e-01,\n",
              "          6.8285e-01, 3.1776e-01, 4.0755e-01, 9.9797e-01, 4.1014e-01],\n",
              "         [2.2981e-02, 9.9324e-01, 5.9982e-01, 2.8394e-01, 7.0472e-01,\n",
              "          4.1326e-01, 3.0333e-01, 2.1418e-01, 3.3809e-01, 6.0656e-02],\n",
              "         [5.5985e-01, 8.4882e-01, 2.4990e-01, 9.0574e-01, 8.7550e-01,\n",
              "          8.3906e-01, 5.8556e-01, 9.9149e-01, 6.8744e-01, 1.3374e-01],\n",
              "         [3.3853e-02, 4.5663e-01, 6.4888e-01, 3.5992e-01, 2.9174e-01,\n",
              "          8.3955e-01, 3.9700e-01, 7.0138e-01, 2.9595e-02, 1.8288e-01],\n",
              "         [2.1387e-01, 6.0190e-02, 7.8256e-01, 7.5405e-01, 2.9840e-01,\n",
              "          8.2135e-01, 8.1155e-01, 5.2138e-01, 7.9156e-01, 2.1459e-01],\n",
              "         [4.7104e-01, 2.9923e-01, 6.6738e-02, 6.3809e-01, 4.4709e-01,\n",
              "          9.0851e-01, 4.8340e-01, 7.4183e-01, 6.9816e-01, 3.9769e-01],\n",
              "         [7.8135e-01, 6.0062e-01, 4.7125e-01, 7.6761e-01, 2.3720e-01,\n",
              "          4.9609e-01, 2.5629e-01, 6.1964e-01, 5.4746e-01, 9.7924e-01]],\n",
              "\n",
              "        [[4.8139e-01, 7.4436e-01, 2.2690e-01, 3.1304e-01, 6.4866e-01,\n",
              "          8.1824e-01, 6.8459e-01, 6.6818e-01, 7.2890e-01, 3.7481e-01],\n",
              "         [7.3778e-01, 5.3971e-01, 8.4877e-01, 2.7860e-01, 8.0835e-01,\n",
              "          6.7366e-01, 6.0097e-01, 7.0819e-01, 7.8370e-01, 5.8371e-01],\n",
              "         [6.7625e-01, 3.7165e-01, 8.3273e-01, 3.7830e-01, 4.7128e-01,\n",
              "          9.7731e-01, 5.4647e-01, 2.5476e-03, 1.7660e-01, 5.3597e-02],\n",
              "         [8.4628e-01, 7.8531e-01, 4.2747e-01, 4.2291e-01, 2.5485e-01,\n",
              "          5.4231e-01, 5.7006e-01, 8.9668e-01, 1.6527e-01, 9.9019e-01],\n",
              "         [6.1780e-01, 9.6192e-01, 8.4614e-02, 4.6920e-01, 1.5879e-01,\n",
              "          6.4330e-02, 8.2348e-01, 8.2025e-01, 6.8988e-01, 2.1148e-01],\n",
              "         [3.8923e-01, 4.5003e-01, 8.0743e-01, 6.5209e-01, 8.4434e-01,\n",
              "          6.8692e-01, 4.0444e-02, 9.8651e-01, 5.3804e-01, 9.3796e-01],\n",
              "         [3.7381e-01, 9.5703e-01, 2.1598e-02, 6.1181e-01, 4.3526e-01,\n",
              "          8.5428e-01, 4.4288e-01, 3.3705e-03, 2.6425e-01, 4.8203e-01],\n",
              "         [1.1676e-01, 5.4239e-01, 1.7853e-01, 9.1182e-01, 8.7976e-01,\n",
              "          2.1729e-01, 8.6636e-01, 3.3065e-01, 9.4294e-01, 3.7480e-01],\n",
              "         [1.9453e-01, 1.3170e-01, 7.3284e-01, 1.2633e-01, 2.7069e-01,\n",
              "          6.7986e-01, 3.3408e-01, 5.7965e-01, 9.5377e-01, 4.0808e-01],\n",
              "         [8.4600e-02, 3.9584e-01, 8.0058e-01, 6.9058e-02, 5.0322e-01,\n",
              "          9.0704e-01, 9.5195e-01, 1.6793e-01, 1.1206e-02, 1.4139e-01]],\n",
              "\n",
              "        [[1.9720e-01, 3.6916e-01, 6.2369e-01, 3.5736e-01, 8.3168e-01,\n",
              "          4.5188e-01, 1.5887e-01, 4.1901e-01, 4.9927e-01, 5.9236e-01],\n",
              "         [6.4797e-01, 5.6500e-01, 5.1949e-01, 4.3929e-02, 2.3574e-01,\n",
              "          6.8555e-01, 4.7047e-01, 3.3924e-01, 5.9507e-01, 7.5547e-01],\n",
              "         [6.3356e-01, 4.3312e-01, 9.2531e-01, 6.9255e-01, 9.9056e-01,\n",
              "          5.3247e-01, 5.8702e-01, 7.2228e-01, 8.7855e-02, 4.9291e-01],\n",
              "         [1.6248e-01, 6.8213e-01, 4.3301e-01, 3.0712e-02, 7.7771e-01,\n",
              "          8.2293e-01, 4.2034e-01, 3.1622e-01, 5.9686e-01, 8.6444e-01],\n",
              "         [4.9437e-01, 7.5397e-01, 9.2619e-01, 8.4972e-01, 8.9834e-01,\n",
              "          9.7684e-01, 1.4121e-01, 5.0979e-01, 9.6844e-01, 2.6970e-01],\n",
              "         [7.2514e-01, 1.0855e-01, 1.9298e-01, 6.4233e-01, 8.9739e-01,\n",
              "          6.2318e-01, 1.3370e-01, 8.0472e-01, 9.6201e-01, 6.8830e-01],\n",
              "         [6.8271e-01, 5.4320e-01, 2.7507e-01, 8.2715e-01, 8.0456e-01,\n",
              "          8.2981e-01, 8.6110e-01, 9.5005e-01, 8.4698e-01, 9.8338e-01],\n",
              "         [8.8840e-01, 5.0462e-01, 4.6048e-01, 4.1585e-01, 1.4606e-01,\n",
              "          4.6686e-01, 3.9707e-01, 8.0661e-01, 6.1573e-01, 4.3477e-01],\n",
              "         [1.0986e-01, 6.2580e-01, 4.0531e-01, 9.3078e-01, 9.7426e-01,\n",
              "          9.3362e-01, 9.1441e-01, 9.3003e-02, 9.2295e-01, 7.0650e-01],\n",
              "         [2.6270e-01, 6.7670e-01, 6.1058e-01, 9.4667e-01, 4.3989e-01,\n",
              "          3.2263e-01, 2.5751e-03, 9.8947e-01, 4.8060e-01, 9.2376e-01]],\n",
              "\n",
              "        [[3.4750e-01, 6.2712e-01, 9.2908e-01, 9.3354e-01, 6.0634e-01,\n",
              "          2.8079e-01, 3.8383e-02, 4.2061e-01, 2.1720e-01, 1.0608e-01],\n",
              "         [9.3598e-01, 7.3246e-01, 8.6460e-01, 8.7894e-01, 9.7188e-01,\n",
              "          7.5058e-01, 7.2943e-01, 1.5799e-01, 7.2442e-01, 7.4378e-01],\n",
              "         [1.1315e-01, 3.6381e-02, 1.4121e-01, 8.0122e-01, 4.1748e-01,\n",
              "          9.1809e-02, 1.2014e-01, 6.6293e-01, 5.6316e-02, 7.7359e-01],\n",
              "         [6.3008e-01, 4.3598e-01, 7.4828e-01, 9.3928e-01, 7.4604e-01,\n",
              "          7.2429e-01, 6.0911e-01, 9.7817e-01, 9.4142e-01, 4.6402e-01],\n",
              "         [2.2438e-01, 6.7945e-01, 8.2591e-01, 9.0419e-01, 6.9166e-01,\n",
              "          5.0047e-01, 8.9822e-01, 5.7305e-01, 1.8196e-01, 6.7828e-01],\n",
              "         [9.2709e-01, 6.3872e-01, 4.7601e-01, 9.3164e-01, 9.4440e-01,\n",
              "          6.2465e-01, 7.5377e-01, 8.8650e-01, 1.2357e-01, 8.2348e-01],\n",
              "         [7.2943e-01, 9.7548e-01, 5.0506e-01, 1.0876e-01, 1.1314e-01,\n",
              "          2.7519e-01, 1.1815e-01, 5.1456e-01, 8.3834e-01, 9.8445e-01],\n",
              "         [4.1934e-01, 6.9578e-01, 5.5256e-01, 3.0141e-01, 7.9682e-01,\n",
              "          9.0068e-01, 6.1865e-01, 1.2896e-02, 9.1278e-01, 7.7849e-01],\n",
              "         [7.4683e-01, 1.3149e-01, 1.9766e-01, 6.2640e-01, 8.4838e-01,\n",
              "          2.5251e-01, 9.7537e-01, 3.2256e-01, 9.5289e-01, 2.0054e-01],\n",
              "         [9.0769e-02, 3.3938e-01, 7.4310e-01, 3.3965e-02, 4.2828e-01,\n",
              "          5.3168e-01, 3.6661e-03, 1.0328e-01, 9.9003e-01, 3.2348e-01]]])"
            ]
          },
          "metadata": {},
          "execution_count": 22
        }
      ]
    },
    {
      "cell_type": "code",
      "source": [
        "random_tensor.ndim"
      ],
      "metadata": {
        "colab": {
          "base_uri": "https://localhost:8080/"
        },
        "id": "-RxQZRQXDZT3",
        "outputId": "d49abea5-cd21-4a23-a90c-058bb53419f4"
      },
      "execution_count": 23,
      "outputs": [
        {
          "output_type": "execute_result",
          "data": {
            "text/plain": [
              "3"
            ]
          },
          "metadata": {},
          "execution_count": 23
        }
      ]
    },
    {
      "cell_type": "code",
      "source": [
        "#create a random tensor with similar shape to an image tensor\n",
        "random_image_size_tensor = torch.rand(size=(3,224,224))#height,width,color channel\n",
        "random_image_size_tensor.shape, random_image_size_tensor.ndim"
      ],
      "metadata": {
        "colab": {
          "base_uri": "https://localhost:8080/"
        },
        "id": "2lE6FB17DpMe",
        "outputId": "82a40365-07f0-497f-ddc9-085bcb30b7ba"
      },
      "execution_count": 24,
      "outputs": [
        {
          "output_type": "execute_result",
          "data": {
            "text/plain": [
              "(torch.Size([3, 224, 224]), 3)"
            ]
          },
          "metadata": {},
          "execution_count": 24
        }
      ]
    },
    {
      "cell_type": "code",
      "source": [
        "torch.rand(3,3)"
      ],
      "metadata": {
        "colab": {
          "base_uri": "https://localhost:8080/"
        },
        "id": "RcRkAqzqHZIe",
        "outputId": "d867f4b4-e1e8-4595-f3b1-2744d2381b64"
      },
      "execution_count": 25,
      "outputs": [
        {
          "output_type": "execute_result",
          "data": {
            "text/plain": [
              "tensor([[0.6136, 0.1237, 0.2926],\n",
              "        [0.6663, 0.2218, 0.2250],\n",
              "        [0.3787, 0.6211, 0.9056]])"
            ]
          },
          "metadata": {},
          "execution_count": 25
        }
      ]
    },
    {
      "cell_type": "code",
      "source": [
        "#zeros and ones\n",
        "zero = torch.zeros(size=(3,4))\n",
        "zero"
      ],
      "metadata": {
        "colab": {
          "base_uri": "https://localhost:8080/"
        },
        "id": "iSZZDYqWIVsz",
        "outputId": "510c6ee5-e13c-4539-a797-e6ed319be1a5"
      },
      "execution_count": 26,
      "outputs": [
        {
          "output_type": "execute_result",
          "data": {
            "text/plain": [
              "tensor([[0., 0., 0., 0.],\n",
              "        [0., 0., 0., 0.],\n",
              "        [0., 0., 0., 0.]])"
            ]
          },
          "metadata": {},
          "execution_count": 26
        }
      ]
    },
    {
      "cell_type": "code",
      "source": [
        "#create a tensor of all ones\n",
        "ones = torch.ones(size=(3,4))\n",
        "ones"
      ],
      "metadata": {
        "colab": {
          "base_uri": "https://localhost:8080/"
        },
        "id": "uZNjgqG0IrqQ",
        "outputId": "1e3f1884-273d-4b6d-cdac-30ecb6b1131c"
      },
      "execution_count": 27,
      "outputs": [
        {
          "output_type": "execute_result",
          "data": {
            "text/plain": [
              "tensor([[1., 1., 1., 1.],\n",
              "        [1., 1., 1., 1.],\n",
              "        [1., 1., 1., 1.]])"
            ]
          },
          "metadata": {},
          "execution_count": 27
        }
      ]
    },
    {
      "cell_type": "code",
      "source": [
        "#use torch.range()\n",
        "one_to_ten = torch.arange(1,11)\n",
        "one_to_ten"
      ],
      "metadata": {
        "colab": {
          "base_uri": "https://localhost:8080/"
        },
        "id": "pbHnsIQFI3N9",
        "outputId": "c107fdfa-4fe7-421b-a865-0f36e2d1a926"
      },
      "execution_count": 28,
      "outputs": [
        {
          "output_type": "execute_result",
          "data": {
            "text/plain": [
              "tensor([ 1,  2,  3,  4,  5,  6,  7,  8,  9, 10])"
            ]
          },
          "metadata": {},
          "execution_count": 28
        }
      ]
    },
    {
      "cell_type": "code",
      "source": [
        "one_to_ten = torch.arange(start=1, end=11, step=1)\n",
        "one_to_ten"
      ],
      "metadata": {
        "colab": {
          "base_uri": "https://localhost:8080/"
        },
        "id": "40k8u2g-JdPJ",
        "outputId": "f81b9651-d220-49b2-c891-115f8d830f66"
      },
      "execution_count": 29,
      "outputs": [
        {
          "output_type": "execute_result",
          "data": {
            "text/plain": [
              "tensor([ 1,  2,  3,  4,  5,  6,  7,  8,  9, 10])"
            ]
          },
          "metadata": {},
          "execution_count": 29
        }
      ]
    },
    {
      "cell_type": "code",
      "source": [
        "one_to_ten.shape"
      ],
      "metadata": {
        "id": "q-tCvr99Jsld",
        "outputId": "59fabc30-7c4d-4e1f-f033-72f28e672860",
        "colab": {
          "base_uri": "https://localhost:8080/"
        }
      },
      "execution_count": 30,
      "outputs": [
        {
          "output_type": "execute_result",
          "data": {
            "text/plain": [
              "torch.Size([10])"
            ]
          },
          "metadata": {},
          "execution_count": 30
        }
      ]
    },
    {
      "cell_type": "code",
      "source": [
        "ten_zero = torch.zeros_like(input=one_to_ten)\n",
        "ten_zero"
      ],
      "metadata": {
        "id": "c3cUuCvlJv0p",
        "outputId": "65507668-3074-4c5d-f7b8-1fefd9b69368",
        "colab": {
          "base_uri": "https://localhost:8080/"
        }
      },
      "execution_count": 31,
      "outputs": [
        {
          "output_type": "execute_result",
          "data": {
            "text/plain": [
              "tensor([0, 0, 0, 0, 0, 0, 0, 0, 0, 0])"
            ]
          },
          "metadata": {},
          "execution_count": 31
        }
      ]
    },
    {
      "cell_type": "markdown",
      "source": [
        "Tensor Datatype\n",
        "\n",
        "**Note:** Tensor datatype is one of the 3 big errors you'll run into with PyTorch & deep learning:\n",
        "\n",
        "1. Tensors not right datatype\n",
        "\n",
        "2.Tensor not right shape"
      ],
      "metadata": {
        "id": "EmxeZbwijYMV"
      }
    },
    {
      "cell_type": "code",
      "source": [
        "#float 32 tensor\n",
        "float_32_tensor = torch.tensor([3.0,6.0,9.0],\n",
        "                               dtype=None,\n",
        "                               device=None,\n",
        "                               requires_grad=False)\n",
        "float_32_tensor"
      ],
      "metadata": {
        "id": "SIUx2GVLjUdQ",
        "outputId": "48c04976-1704-41e8-a0a9-9165c478d392",
        "colab": {
          "base_uri": "https://localhost:8080/"
        }
      },
      "execution_count": 32,
      "outputs": [
        {
          "output_type": "execute_result",
          "data": {
            "text/plain": [
              "tensor([3., 6., 9.])"
            ]
          },
          "metadata": {},
          "execution_count": 32
        }
      ]
    },
    {
      "cell_type": "code",
      "source": [
        "tensor = torch.tensor( [1.0, 2.0, 3.0],dtype=torch.float32)\n",
        "print(tensor)\n"
      ],
      "metadata": {
        "id": "Ek7hBuaZm4_z",
        "colab": {
          "base_uri": "https://localhost:8080/"
        },
        "outputId": "fb4c8692-0144-413a-a1f8-2336c4be1002"
      },
      "execution_count": 33,
      "outputs": [
        {
          "output_type": "stream",
          "name": "stdout",
          "text": [
            "tensor([1., 2., 3.])\n"
          ]
        }
      ]
    },
    {
      "cell_type": "code",
      "source": [
        "float_16_tensor = float_32_tensor.type(torch.float16)\n",
        "float_16_tensor"
      ],
      "metadata": {
        "colab": {
          "base_uri": "https://localhost:8080/"
        },
        "id": "y9kmAs3Powjl",
        "outputId": "913cb09b-3118-49f6-9ddd-b519e2b98f90"
      },
      "execution_count": 34,
      "outputs": [
        {
          "output_type": "execute_result",
          "data": {
            "text/plain": [
              "tensor([3., 6., 9.], dtype=torch.float16)"
            ]
          },
          "metadata": {},
          "execution_count": 34
        }
      ]
    },
    {
      "cell_type": "code",
      "source": [
        "float_16_tensor = float_32_tensor"
      ],
      "metadata": {
        "id": "w0wRNfWtrHE_"
      },
      "execution_count": 35,
      "outputs": []
    },
    {
      "cell_type": "code",
      "source": [
        "int_32_tensor = torch.tensor([3,6,9], dtype=torch.int32)\n",
        "int_32_tensor"
      ],
      "metadata": {
        "colab": {
          "base_uri": "https://localhost:8080/"
        },
        "id": "DgLLHRpfruKF",
        "outputId": "00fe4e88-a54e-417c-abae-f3fc68a3fa7b"
      },
      "execution_count": 36,
      "outputs": [
        {
          "output_type": "execute_result",
          "data": {
            "text/plain": [
              "tensor([3, 6, 9], dtype=torch.int32)"
            ]
          },
          "metadata": {},
          "execution_count": 36
        }
      ]
    },
    {
      "cell_type": "code",
      "source": [
        "float_32_tensor * int_32_tensor"
      ],
      "metadata": {
        "colab": {
          "base_uri": "https://localhost:8080/"
        },
        "id": "iG6gO6Q5LWSx",
        "outputId": "5db39467-ae03-48db-dd2f-7c5a128f7f73"
      },
      "execution_count": 37,
      "outputs": [
        {
          "output_type": "execute_result",
          "data": {
            "text/plain": [
              "tensor([ 9., 36., 81.])"
            ]
          },
          "metadata": {},
          "execution_count": 37
        }
      ]
    },
    {
      "cell_type": "code",
      "source": [
        "#create a tensor\n",
        "some_tensor = torch.rand(3,4)\n",
        "some_tensor"
      ],
      "metadata": {
        "colab": {
          "base_uri": "https://localhost:8080/"
        },
        "id": "IYOKBoAkMBha",
        "outputId": "90cb1ee5-1230-4700-b8e7-498a515a8b4b"
      },
      "execution_count": 38,
      "outputs": [
        {
          "output_type": "execute_result",
          "data": {
            "text/plain": [
              "tensor([[0.3088, 0.0427, 0.1937, 0.9930],\n",
              "        [0.7967, 0.9717, 0.4674, 0.0707],\n",
              "        [0.3446, 0.0897, 0.9593, 0.7505]])"
            ]
          },
          "metadata": {},
          "execution_count": 38
        }
      ]
    },
    {
      "cell_type": "code",
      "source": [
        "#find out details about some tensor\n",
        "print(some_tensor)\n",
        "print(f\"Datatype of tensor: {some_tensor.dtype}\")\n",
        "print(f\"Shape of tensor: {some_tensor.shape}\")\n",
        "print(f\"Device tensor is on: {some_tensor.device}\")"
      ],
      "metadata": {
        "colab": {
          "base_uri": "https://localhost:8080/"
        },
        "id": "sjlygekbMXJy",
        "outputId": "ec40ae6b-ea4d-4512-fc04-c297724fd9bf"
      },
      "execution_count": 39,
      "outputs": [
        {
          "output_type": "stream",
          "name": "stdout",
          "text": [
            "tensor([[0.3088, 0.0427, 0.1937, 0.9930],\n",
            "        [0.7967, 0.9717, 0.4674, 0.0707],\n",
            "        [0.3446, 0.0897, 0.9593, 0.7505]])\n",
            "Datatype of tensor: torch.float32\n",
            "Shape of tensor: torch.Size([3, 4])\n",
            "Device tensor is on: cpu\n"
          ]
        }
      ]
    },
    {
      "cell_type": "markdown",
      "source": [
        "###manipulating Tensors ( tensor operation)\n",
        "\n",
        "Tensor operattion include:\n",
        "\n",
        "*Addition\n",
        "\n",
        "*Subtraction\n",
        "\n",
        "*Multiplication(element-wise)\n",
        "\n",
        "*division\n",
        "\n",
        "*Matrix Multiplication"
      ],
      "metadata": {
        "id": "2WeJXkaSNvx4"
      }
    },
    {
      "cell_type": "code",
      "source": [
        "#create a tensor and add 10 to it\n",
        "tensor = torch.tensor([1,2,3])\n",
        "tensor + 10"
      ],
      "metadata": {
        "colab": {
          "base_uri": "https://localhost:8080/"
        },
        "id": "qn5KQtOZMqCe",
        "outputId": "926d615e-bed6-47c4-b5e9-909eb42f093c"
      },
      "execution_count": 40,
      "outputs": [
        {
          "output_type": "execute_result",
          "data": {
            "text/plain": [
              "tensor([11, 12, 13])"
            ]
          },
          "metadata": {},
          "execution_count": 40
        }
      ]
    },
    {
      "cell_type": "code",
      "source": [
        "#multiply tensor by 10\n",
        "tensor * 10"
      ],
      "metadata": {
        "colab": {
          "base_uri": "https://localhost:8080/"
        },
        "id": "CJznQMdMORMM",
        "outputId": "9ebdd984-7265-4cdf-d17a-ab887d2ddb69"
      },
      "execution_count": 41,
      "outputs": [
        {
          "output_type": "execute_result",
          "data": {
            "text/plain": [
              "tensor([10, 20, 30])"
            ]
          },
          "metadata": {},
          "execution_count": 41
        }
      ]
    },
    {
      "cell_type": "code",
      "source": [
        "tensor"
      ],
      "metadata": {
        "colab": {
          "base_uri": "https://localhost:8080/"
        },
        "id": "SmWqezXAP8g-",
        "outputId": "2e4fdf2a-eda6-4100-9e20-41e2e8d34da2"
      },
      "execution_count": 42,
      "outputs": [
        {
          "output_type": "execute_result",
          "data": {
            "text/plain": [
              "tensor([1, 2, 3])"
            ]
          },
          "metadata": {},
          "execution_count": 42
        }
      ]
    },
    {
      "cell_type": "code",
      "source": [
        "#subtract\n",
        "tensor - 10"
      ],
      "metadata": {
        "colab": {
          "base_uri": "https://localhost:8080/"
        },
        "id": "MWwFTpF-P_XY",
        "outputId": "bec67096-1a49-42ab-9642-d03d6bdda0d2"
      },
      "execution_count": 43,
      "outputs": [
        {
          "output_type": "execute_result",
          "data": {
            "text/plain": [
              "tensor([-9, -8, -7])"
            ]
          },
          "metadata": {},
          "execution_count": 43
        }
      ]
    },
    {
      "cell_type": "code",
      "source": [
        "#divide\n",
        "tensor/10"
      ],
      "metadata": {
        "colab": {
          "base_uri": "https://localhost:8080/"
        },
        "id": "HHU7DVjOQE2Z",
        "outputId": "4a2e08f7-68d5-4616-8681-1e5165379356"
      },
      "execution_count": 44,
      "outputs": [
        {
          "output_type": "execute_result",
          "data": {
            "text/plain": [
              "tensor([0.1000, 0.2000, 0.3000])"
            ]
          },
          "metadata": {},
          "execution_count": 44
        }
      ]
    },
    {
      "cell_type": "code",
      "source": [
        "torch.mul(tensor,10)"
      ],
      "metadata": {
        "colab": {
          "base_uri": "https://localhost:8080/"
        },
        "id": "QSiCdWgwQJjq",
        "outputId": "818bb988-7894-46ff-86e7-bc474807fdd5"
      },
      "execution_count": 45,
      "outputs": [
        {
          "output_type": "execute_result",
          "data": {
            "text/plain": [
              "tensor([10, 20, 30])"
            ]
          },
          "metadata": {},
          "execution_count": 45
        }
      ]
    },
    {
      "cell_type": "code",
      "source": [
        "torch.add(tensor,10)"
      ],
      "metadata": {
        "colab": {
          "base_uri": "https://localhost:8080/"
        },
        "id": "vRH20ZpNRHqo",
        "outputId": "10d6848f-89be-44bb-a996-57b7d19c8a48"
      },
      "execution_count": 46,
      "outputs": [
        {
          "output_type": "execute_result",
          "data": {
            "text/plain": [
              "tensor([11, 12, 13])"
            ]
          },
          "metadata": {},
          "execution_count": 46
        }
      ]
    },
    {
      "cell_type": "markdown",
      "source": [
        "Matrix multiplication\n",
        "\n",
        "Two main ways of performing multiplication in neural networks and deep learning:\n",
        "\n",
        "1.Element-wise multiplication\n",
        "\n",
        "2.Matrix multiplication(dot product)\n",
        "\n",
        "There are two main rules that performing matrix multiplication\n",
        "\n",
        "1. The **inner dimensions** must match:\n",
        "\n",
        " *(3,2) @ (3,2) won't work\n",
        "\n",
        " *(2,3) @ (3,2) will work\n",
        "\n",
        " *(3,2) @ (2,3) will work\n",
        "\n",
        "\n",
        "2.The resulting matrix has the shape of the **outer dimension**:\n",
        "\n",
        "*(2,3) @ (3,2) -> (2,2)\n",
        "\n",
        "*(3,2) 2 (2,3) -. (3,3)\n",
        "\n",
        "\n"
      ],
      "metadata": {
        "id": "15eaC_8jZp3z"
      }
    },
    {
      "cell_type": "code",
      "source": [
        "torch.matmul(torch.rand(10,10),torch.rand(10,10))"
      ],
      "metadata": {
        "colab": {
          "base_uri": "https://localhost:8080/"
        },
        "id": "XHyspsAnh5Ak",
        "outputId": "b9c62efb-294a-4f04-9634-eb3bf8078bfa"
      },
      "execution_count": 47,
      "outputs": [
        {
          "output_type": "execute_result",
          "data": {
            "text/plain": [
              "tensor([[2.3364, 3.0066, 1.9980, 1.9031, 2.8928, 1.5945, 1.0528, 1.2755, 2.3939,\n",
              "         1.9556],\n",
              "        [3.5800, 3.2951, 2.5348, 2.6264, 3.9125, 2.3169, 1.9234, 1.8786, 2.6529,\n",
              "         2.7673],\n",
              "        [4.0034, 4.0745, 2.6478, 3.1303, 4.3615, 2.5289, 1.8144, 1.8436, 3.4569,\n",
              "         3.2753],\n",
              "        [3.0298, 3.0893, 2.0595, 2.3333, 3.2961, 2.0383, 1.6972, 1.6111, 2.7873,\n",
              "         2.6720],\n",
              "        [1.9705, 1.9061, 1.9700, 1.9982, 1.8962, 2.0433, 1.5957, 1.1845, 2.1654,\n",
              "         2.2158],\n",
              "        [2.5499, 2.5198, 1.5925, 1.8796, 2.7485, 1.4638, 1.2643, 1.2044, 2.0715,\n",
              "         2.0531],\n",
              "        [4.3140, 4.1463, 3.3989, 3.7546, 4.8033, 3.3442, 2.8013, 2.2637, 3.9425,\n",
              "         3.6089],\n",
              "        [2.6767, 2.0358, 1.6526, 2.2691, 2.5961, 1.8945, 1.3564, 1.1296, 1.6844,\n",
              "         2.2228],\n",
              "        [3.8114, 3.4333, 2.2243, 2.7249, 3.7686, 2.2475, 1.7498, 2.1724, 3.4223,\n",
              "         2.9098],\n",
              "        [4.0005, 3.4683, 2.9299, 3.5191, 3.9731, 3.0536, 2.0442, 1.7253, 3.3349,\n",
              "         3.5152]])"
            ]
          },
          "metadata": {},
          "execution_count": 47
        }
      ]
    },
    {
      "cell_type": "code",
      "source": [
        "#Elementwise multiplication\n",
        "print(tensor,\"*\",tensor)\n",
        "print(f\"Equals:{tensor * tensor}\")\n"
      ],
      "metadata": {
        "colab": {
          "base_uri": "https://localhost:8080/"
        },
        "id": "QHc3IlZeRPoG",
        "outputId": "43b039a4-1edf-4f2b-83cd-b72ac7814f31"
      },
      "execution_count": 48,
      "outputs": [
        {
          "output_type": "stream",
          "name": "stdout",
          "text": [
            "tensor([1, 2, 3]) * tensor([1, 2, 3])\n",
            "Equals:tensor([1, 4, 9])\n"
          ]
        }
      ]
    },
    {
      "cell_type": "code",
      "source": [
        "#matrix multiplication\n",
        "torch.matmul(tensor,tensor)"
      ],
      "metadata": {
        "colab": {
          "base_uri": "https://localhost:8080/"
        },
        "id": "POZrRMykacyp",
        "outputId": "e55b9d7c-1736-4866-dd29-078640ac434c"
      },
      "execution_count": 49,
      "outputs": [
        {
          "output_type": "execute_result",
          "data": {
            "text/plain": [
              "tensor(14)"
            ]
          },
          "metadata": {},
          "execution_count": 49
        }
      ]
    },
    {
      "cell_type": "code",
      "source": [
        "#matrix multiplication by hand\n",
        "1*1 + 2*2 + 3*3"
      ],
      "metadata": {
        "colab": {
          "base_uri": "https://localhost:8080/"
        },
        "id": "X6yJYNZMdsH5",
        "outputId": "6dc034bd-58d5-4b7e-8180-814e32d74399"
      },
      "execution_count": 50,
      "outputs": [
        {
          "output_type": "execute_result",
          "data": {
            "text/plain": [
              "14"
            ]
          },
          "metadata": {},
          "execution_count": 50
        }
      ]
    },
    {
      "cell_type": "code",
      "source": [
        "%%time\n",
        "value = 0\n",
        "for i in range(len(tensor)):\n",
        "  value += tensor[i] * tensor[i]\n",
        "  print(value)\n",
        "\n"
      ],
      "metadata": {
        "colab": {
          "base_uri": "https://localhost:8080/"
        },
        "id": "KrKzgN0ae8-Y",
        "outputId": "29c2139b-9a18-440d-d6a6-ebf602f66ee8"
      },
      "execution_count": 51,
      "outputs": [
        {
          "output_type": "stream",
          "name": "stdout",
          "text": [
            "tensor(1)\n",
            "tensor(5)\n",
            "tensor(14)\n",
            "CPU times: user 722 µs, sys: 0 ns, total: 722 µs\n",
            "Wall time: 796 µs\n"
          ]
        }
      ]
    },
    {
      "cell_type": "code",
      "source": [
        "tensor @ tensor"
      ],
      "metadata": {
        "colab": {
          "base_uri": "https://localhost:8080/"
        },
        "id": "9C1aDJn0gtbp",
        "outputId": "1063729d-b579-4ccf-8f36-45cc847053fa"
      },
      "execution_count": 52,
      "outputs": [
        {
          "output_type": "execute_result",
          "data": {
            "text/plain": [
              "tensor(14)"
            ]
          },
          "metadata": {},
          "execution_count": 52
        }
      ]
    },
    {
      "cell_type": "code",
      "source": [
        "%%time\n",
        "torch.matmul(tensor,tensor)"
      ],
      "metadata": {
        "colab": {
          "base_uri": "https://localhost:8080/"
        },
        "id": "lx3KAmazfaxP",
        "outputId": "d5505812-cef3-4947-9f48-ccb4bbb9dcb7"
      },
      "execution_count": 53,
      "outputs": [
        {
          "output_type": "stream",
          "name": "stdout",
          "text": [
            "CPU times: user 28 µs, sys: 4 µs, total: 32 µs\n",
            "Wall time: 34.3 µs\n"
          ]
        },
        {
          "output_type": "execute_result",
          "data": {
            "text/plain": [
              "tensor(14)"
            ]
          },
          "metadata": {},
          "execution_count": 53
        }
      ]
    },
    {
      "cell_type": "markdown",
      "source": [
        "### one of the most common errors in deep learning: shape errors"
      ],
      "metadata": {
        "id": "CKVSRRlxgFX5"
      }
    },
    {
      "cell_type": "code",
      "source": [
        " #Shape for matrix multiplication\n",
        "tensor_A = torch.tensor([[1, 2],\n",
        "                         [3, 4],\n",
        "                         [5, 6]])\n",
        "tensor_B = torch.tensor([[7, 10],\n",
        "                         [8, 11],\n",
        "                         [9, 12]])\n",
        "\n",
        "\n",
        "#torch.mm(tensor_A,tensor_B) #torch.mm is the same as torch.matmul (it's an alias for writing less code)\n",
        "torch.matmul(tensor_A, tensor_B.T)\n"
      ],
      "metadata": {
        "colab": {
          "base_uri": "https://localhost:8080/"
        },
        "id": "ehnumnLNftEC",
        "outputId": "a1b854be-e86e-4d54-b20c-8286f1d1f88f"
      },
      "execution_count": 54,
      "outputs": [
        {
          "output_type": "execute_result",
          "data": {
            "text/plain": [
              "tensor([[ 27,  30,  33],\n",
              "        [ 61,  68,  75],\n",
              "        [ 95, 106, 117]])"
            ]
          },
          "metadata": {},
          "execution_count": 54
        }
      ]
    },
    {
      "cell_type": "code",
      "source": [
        "tensor_A.shape, tensor_B.shape"
      ],
      "metadata": {
        "id": "R8P8pkSiCWp_",
        "outputId": "ee8497e0-90b9-4c62-e264-a4c69b09843f",
        "colab": {
          "base_uri": "https://localhost:8080/"
        }
      },
      "execution_count": 55,
      "outputs": [
        {
          "output_type": "execute_result",
          "data": {
            "text/plain": [
              "(torch.Size([3, 2]), torch.Size([3, 2]))"
            ]
          },
          "metadata": {},
          "execution_count": 55
        }
      ]
    },
    {
      "cell_type": "markdown",
      "source": [
        "To fix our tensor shape issues, we can manipulate the shape of one of our tensors using a **transpose**.\n",
        "\n",
        "A **transpose** switches the axes or dimensions of a given tensor tensor"
      ],
      "metadata": {
        "id": "t2VnFdGFC3qf"
      }
    },
    {
      "cell_type": "code",
      "source": [
        "tensor_B,tensor_B.shape"
      ],
      "metadata": {
        "id": "sCtMDn2LCtaY",
        "outputId": "4e99a7a3-a6f1-415a-ca06-eba208ea42e2",
        "colab": {
          "base_uri": "https://localhost:8080/"
        }
      },
      "execution_count": 56,
      "outputs": [
        {
          "output_type": "execute_result",
          "data": {
            "text/plain": [
              "(tensor([[ 7, 10],\n",
              "         [ 8, 11],\n",
              "         [ 9, 12]]),\n",
              " torch.Size([3, 2]))"
            ]
          },
          "metadata": {},
          "execution_count": 56
        }
      ]
    },
    {
      "cell_type": "code",
      "source": [
        "tensor_B.T, tensor_B.T.shape"
      ],
      "metadata": {
        "id": "nkOUlHm5D3yV",
        "outputId": "672a3009-62b3-41c3-9b71-450f9a6fc63c",
        "colab": {
          "base_uri": "https://localhost:8080/"
        }
      },
      "execution_count": 57,
      "outputs": [
        {
          "output_type": "execute_result",
          "data": {
            "text/plain": [
              "(tensor([[ 7,  8,  9],\n",
              "         [10, 11, 12]]),\n",
              " torch.Size([2, 3]))"
            ]
          },
          "metadata": {},
          "execution_count": 57
        }
      ]
    },
    {
      "cell_type": "markdown",
      "source": [],
      "metadata": {
        "id": "KwVKsdSK2EDw"
      }
    },
    {
      "cell_type": "code",
      "source": [
        "# The matrix multiplication operation works when tensor_B is transposed\n",
        "print(f\"Original shapes: tensor_A = {tensor_A.shape} , tensor_B = {tensor_B.shape}\")\n",
        "print(f\"New shapes: tensor_A = {tensor_A.shape} (same shape as above), tensor_B.T = {tensor_B.T.shape}\")\n",
        "print(f\"Multiplying : {tensor_A.shape} @ {tensor_B.T.shape} <- inner dimensions must match\")\n",
        "print(\"Output:\\n\")\n",
        "output = torch.matmul(tensor_A, tensor_B.T)\n",
        "print(output)\n",
        "torch.matmul(tensor_A, tensor_B.T)"
      ],
      "metadata": {
        "id": "4yOhfn5yD_6r",
        "colab": {
          "base_uri": "https://localhost:8080/"
        },
        "outputId": "104125b4-3591-4a7e-b58c-4b8b8bad9500"
      },
      "execution_count": 58,
      "outputs": [
        {
          "output_type": "stream",
          "name": "stdout",
          "text": [
            "Original shapes: tensor_A = torch.Size([3, 2]) , tensor_B = torch.Size([3, 2])\n",
            "New shapes: tensor_A = torch.Size([3, 2]) (same shape as above), tensor_B.T = torch.Size([2, 3])\n",
            "Multiplying : torch.Size([3, 2]) @ torch.Size([2, 3]) <- inner dimensions must match\n",
            "Output:\n",
            "\n",
            "tensor([[ 27,  30,  33],\n",
            "        [ 61,  68,  75],\n",
            "        [ 95, 106, 117]])\n"
          ]
        },
        {
          "output_type": "execute_result",
          "data": {
            "text/plain": [
              "tensor([[ 27,  30,  33],\n",
              "        [ 61,  68,  75],\n",
              "        [ 95, 106, 117]])"
            ]
          },
          "metadata": {},
          "execution_count": 58
        }
      ]
    },
    {
      "cell_type": "code",
      "source": [
        "print(f\"Original shapes : tensor_A = {tensor_A.shape} ,tensor_B = {tensor_B.shape}\")\n",
        "print(f\"New shapes:tensorA.T = {tensor_A.shape} (same shape as above), tensor_B = {tensor_B.T.shape}\")\n",
        "print(f\"Multiplying : {tensor_A.T.shape} @ {tensor_B.shape} <- inner dimension must match\")\n",
        "print(\"Output:\\n\")\n",
        "out = torch.matmul(tensor_A.T, tensor_B)\n",
        "print(output)"
      ],
      "metadata": {
        "colab": {
          "base_uri": "https://localhost:8080/"
        },
        "id": "nIU2dhAJds2N",
        "outputId": "30a2a125-a811-4556-971e-b05e9606a28b"
      },
      "execution_count": 59,
      "outputs": [
        {
          "output_type": "stream",
          "name": "stdout",
          "text": [
            "Original shapes : tensor_A = torch.Size([3, 2]) ,tensor_B = torch.Size([3, 2])\n",
            "New shapes:tensorA.T = torch.Size([3, 2]) (same shape as above), tensor_B = torch.Size([2, 3])\n",
            "Multiplying : torch.Size([2, 3]) @ torch.Size([3, 2]) <- inner dimension must match\n",
            "Output:\n",
            "\n",
            "tensor([[ 27,  30,  33],\n",
            "        [ 61,  68,  75],\n",
            "        [ 95, 106, 117]])\n"
          ]
        }
      ]
    },
    {
      "cell_type": "markdown",
      "source": [
        "Finding the min ,max , mean, sum,etc (tensor aggregation)"
      ],
      "metadata": {
        "id": "OeDIFF7jiSNL"
      }
    },
    {
      "cell_type": "code",
      "source": [
        "#create a tensor\n",
        "x= torch.arange(1,100,10)\n",
        "x , x.dtype"
      ],
      "metadata": {
        "colab": {
          "base_uri": "https://localhost:8080/"
        },
        "id": "dqblxNC7hsaL",
        "outputId": "07a48216-888c-4ef8-debd-7ef2fd4a056d"
      },
      "execution_count": 60,
      "outputs": [
        {
          "output_type": "execute_result",
          "data": {
            "text/plain": [
              "(tensor([ 1, 11, 21, 31, 41, 51, 61, 71, 81, 91]), torch.int64)"
            ]
          },
          "metadata": {},
          "execution_count": 60
        }
      ]
    },
    {
      "cell_type": "code",
      "source": [
        "# Find the main\n",
        "torch.min(x) , x.min()"
      ],
      "metadata": {
        "colab": {
          "base_uri": "https://localhost:8080/"
        },
        "id": "8zcBK01Wil1w",
        "outputId": "864400ed-1559-4d74-be33-8701dca0c22b"
      },
      "execution_count": 61,
      "outputs": [
        {
          "output_type": "execute_result",
          "data": {
            "text/plain": [
              "(tensor(1), tensor(1))"
            ]
          },
          "metadata": {},
          "execution_count": 61
        }
      ]
    },
    {
      "cell_type": "code",
      "source": [
        "#Find the mean - note: the torch.mean() function requires a tensor of float32 datatype to work\n",
        "torch.mean(x.type(torch.float32)) ,x.type(torch.float32).mean()"
      ],
      "metadata": {
        "colab": {
          "base_uri": "https://localhost:8080/"
        },
        "id": "mrqRwNeDitw9",
        "outputId": "b8caf8b5-d642-4d52-f5a7-9b58d4e2b81f"
      },
      "execution_count": 62,
      "outputs": [
        {
          "output_type": "execute_result",
          "data": {
            "text/plain": [
              "(tensor(46.), tensor(46.))"
            ]
          },
          "metadata": {},
          "execution_count": 62
        }
      ]
    },
    {
      "cell_type": "code",
      "source": [
        "#find the sum\n",
        "torch.sum(x), x.sum()"
      ],
      "metadata": {
        "colab": {
          "base_uri": "https://localhost:8080/"
        },
        "id": "sbK1VcxrjVzK",
        "outputId": "032742c6-52a7-481e-d91a-2545e7acba5e"
      },
      "execution_count": 63,
      "outputs": [
        {
          "output_type": "execute_result",
          "data": {
            "text/plain": [
              "(tensor(460), tensor(460))"
            ]
          },
          "metadata": {},
          "execution_count": 63
        }
      ]
    },
    {
      "cell_type": "markdown",
      "source": [
        "## Finding the positional min max"
      ],
      "metadata": {
        "id": "-MLTVKaBkrxZ"
      }
    },
    {
      "cell_type": "code",
      "source": [
        "x"
      ],
      "metadata": {
        "colab": {
          "base_uri": "https://localhost:8080/"
        },
        "id": "Fx9mnnA0kJnm",
        "outputId": "4faff397-ee10-4c32-bde0-af92104d2652"
      },
      "execution_count": 64,
      "outputs": [
        {
          "output_type": "execute_result",
          "data": {
            "text/plain": [
              "tensor([ 1, 11, 21, 31, 41, 51, 61, 71, 81, 91])"
            ]
          },
          "metadata": {},
          "execution_count": 64
        }
      ]
    },
    {
      "cell_type": "code",
      "source": [
        "# find the position that has the min value with argminn() -> returns index position of the target tensor where the minimum value occurs\n",
        "x.argmin()"
      ],
      "metadata": {
        "id": "K4TT-4c2kwX2",
        "outputId": "f810af02-44cd-4184-8b04-72e153735d93",
        "colab": {
          "base_uri": "https://localhost:8080/"
        }
      },
      "execution_count": 65,
      "outputs": [
        {
          "output_type": "execute_result",
          "data": {
            "text/plain": [
              "tensor(0)"
            ]
          },
          "metadata": {},
          "execution_count": 65
        }
      ]
    },
    {
      "cell_type": "code",
      "source": [
        "#find the position in tensor that has the maximum value with argmax\n",
        "x.argmax()"
      ],
      "metadata": {
        "id": "-0y6J-PAk0y2",
        "colab": {
          "base_uri": "https://localhost:8080/"
        },
        "outputId": "07259471-a06e-43f0-d749-3dc7266dae7d"
      },
      "execution_count": 66,
      "outputs": [
        {
          "output_type": "execute_result",
          "data": {
            "text/plain": [
              "tensor(9)"
            ]
          },
          "metadata": {},
          "execution_count": 66
        }
      ]
    },
    {
      "cell_type": "code",
      "source": [
        "x[9]"
      ],
      "metadata": {
        "colab": {
          "base_uri": "https://localhost:8080/"
        },
        "id": "Kltx_9bwJpKc",
        "outputId": "9b22b1c5-b480-4d19-c56f-44b753644d41"
      },
      "execution_count": 67,
      "outputs": [
        {
          "output_type": "execute_result",
          "data": {
            "text/plain": [
              "tensor(91)"
            ]
          },
          "metadata": {},
          "execution_count": 67
        }
      ]
    },
    {
      "cell_type": "markdown",
      "source": [
        "# reshaping ,stacking , squeezing and unsquezzing tensore"
      ],
      "metadata": {
        "id": "VzwEA9NlKhjd"
      }
    },
    {
      "cell_type": "markdown",
      "source": [
        "* Reshaping - reshape an input tensor to a defined shape\n",
        "\n",
        "* view  - return a view of an input tensor of certain shape but keep the same memory as the original tensor\n",
        "\n",
        "* stacking - combine muultiple tensors on top of each other (vstack) or side by side (hstack)\n",
        "\n",
        "* squeeze - remove all dimension from a tensor\n",
        "\n",
        "* unsqueeze - add a dimension to a target tensor\n",
        "\n",
        "* permute - return a view of the input with dimension permute(swapped) in a certain way"
      ],
      "metadata": {
        "id": "zaWNMGEMKsiP"
      }
    },
    {
      "cell_type": "code",
      "source": [
        "# lets create a tesor\n",
        "import torch\n",
        "x = torch.arange(1.,10.)\n",
        "x, x.shape"
      ],
      "metadata": {
        "colab": {
          "base_uri": "https://localhost:8080/"
        },
        "id": "Df4_jNzTKiPh",
        "outputId": "66c6b2a9-4d69-400c-f5ae-c1e75ed5f619"
      },
      "execution_count": 68,
      "outputs": [
        {
          "output_type": "execute_result",
          "data": {
            "text/plain": [
              "(tensor([1., 2., 3., 4., 5., 6., 7., 8., 9.]), torch.Size([9]))"
            ]
          },
          "metadata": {},
          "execution_count": 68
        }
      ]
    },
    {
      "cell_type": "code",
      "source": [
        "# add a extra dimension\n",
        "x_reshaped = x.reshape(1,9)\n",
        "x_reshaped, x_reshaped.shape"
      ],
      "metadata": {
        "colab": {
          "base_uri": "https://localhost:8080/"
        },
        "id": "9UQpnZykMKyu",
        "outputId": "7470214d-b692-4d71-c5f2-300f3a7a057d"
      },
      "execution_count": 69,
      "outputs": [
        {
          "output_type": "execute_result",
          "data": {
            "text/plain": [
              "(tensor([[1., 2., 3., 4., 5., 6., 7., 8., 9.]]), torch.Size([1, 9]))"
            ]
          },
          "metadata": {},
          "execution_count": 69
        }
      ]
    },
    {
      "cell_type": "code",
      "source": [
        "# change the view\n",
        "z = x.view(1,9)\n",
        "z, z.shape"
      ],
      "metadata": {
        "colab": {
          "base_uri": "https://localhost:8080/"
        },
        "id": "sG9tK8J_MjXl",
        "outputId": "2ced4667-c427-487d-b513-934f040624fc"
      },
      "execution_count": 70,
      "outputs": [
        {
          "output_type": "execute_result",
          "data": {
            "text/plain": [
              "(tensor([[1., 2., 3., 4., 5., 6., 7., 8., 9.]]), torch.Size([1, 9]))"
            ]
          },
          "metadata": {},
          "execution_count": 70
        }
      ]
    },
    {
      "cell_type": "code",
      "source": [
        "#changing z changes x ( because a view of a tensor shares the saame memory as the original input)\n",
        "z[:,0] =5\n",
        "z, x"
      ],
      "metadata": {
        "colab": {
          "base_uri": "https://localhost:8080/"
        },
        "id": "VRhlgCX_NYvT",
        "outputId": "2bc53d8d-ebb4-44fe-af46-77d40974a037"
      },
      "execution_count": 71,
      "outputs": [
        {
          "output_type": "execute_result",
          "data": {
            "text/plain": [
              "(tensor([[5., 2., 3., 4., 5., 6., 7., 8., 9.]]),\n",
              " tensor([5., 2., 3., 4., 5., 6., 7., 8., 9.]))"
            ]
          },
          "metadata": {},
          "execution_count": 71
        }
      ]
    },
    {
      "cell_type": "code",
      "source": [
        "# stack tensors on top of eachother\n",
        "x_stacked = torch.stack([x,x,x,x],dim=0 )\n",
        "x_stacked"
      ],
      "metadata": {
        "colab": {
          "base_uri": "https://localhost:8080/"
        },
        "id": "H9q-DJAMNtdb",
        "outputId": "a96c0490-ecda-44f4-ac68-114211354729"
      },
      "execution_count": 72,
      "outputs": [
        {
          "output_type": "execute_result",
          "data": {
            "text/plain": [
              "tensor([[5., 2., 3., 4., 5., 6., 7., 8., 9.],\n",
              "        [5., 2., 3., 4., 5., 6., 7., 8., 9.],\n",
              "        [5., 2., 3., 4., 5., 6., 7., 8., 9.],\n",
              "        [5., 2., 3., 4., 5., 6., 7., 8., 9.]])"
            ]
          },
          "metadata": {},
          "execution_count": 72
        }
      ]
    },
    {
      "cell_type": "markdown",
      "source": [
        "squeeze"
      ],
      "metadata": {
        "id": "df_m41NaPtRR"
      }
    },
    {
      "cell_type": "code",
      "source": [
        "#tourch.squeeze() -- remove  all single dimensions from a target tensor\n",
        "print(f\"previous tensor: {x_reshaped}\")\n",
        "print(f\"previous shape: {x_reshaped.shape}\")\n",
        "\n",
        "#remove extra dimension from x_shaped\n",
        "x_squeezed = x_reshaped.squeeze()\n",
        "print(f\"\\nNew  tensor: {x_squeezed}\")\n",
        "print(f\"New shape: {x_squeezed.shape}\")"
      ],
      "metadata": {
        "colab": {
          "base_uri": "https://localhost:8080/"
        },
        "id": "NDfP79HXQmXl",
        "outputId": "e267d914-c6d5-427a-f809-5c9c8b59c1f6"
      },
      "execution_count": 73,
      "outputs": [
        {
          "output_type": "stream",
          "name": "stdout",
          "text": [
            "previous tensor: tensor([[5., 2., 3., 4., 5., 6., 7., 8., 9.]])\n",
            "previous shape: torch.Size([1, 9])\n",
            "\n",
            "New  tensor: tensor([5., 2., 3., 4., 5., 6., 7., 8., 9.])\n",
            "New shape: torch.Size([9])\n"
          ]
        }
      ]
    },
    {
      "cell_type": "code",
      "source": [
        "#tourch.unsqueeze() -- remove  all single dimensions from a target tensor\n",
        "print(f\"previous target: {x_squeezed}\")\n",
        "print(f\"previous shape: {x_squeezed.shape}\")\n",
        "\n",
        "#add extra dimension from x_shaped\n",
        "x_unsqueezed = x_squeezed.unsqueeze(dim=0)\n",
        "print(f\"\\nNew  tensor: {x_unsqueezed}\")\n",
        "print(f\"New shape: {x_unsqueezed.shape}\")"
      ],
      "metadata": {
        "colab": {
          "base_uri": "https://localhost:8080/"
        },
        "id": "ZI1U9MhXUEUo",
        "outputId": "384b9f65-9cca-4432-e414-ae55a1de7472"
      },
      "execution_count": 74,
      "outputs": [
        {
          "output_type": "stream",
          "name": "stdout",
          "text": [
            "previous target: tensor([5., 2., 3., 4., 5., 6., 7., 8., 9.])\n",
            "previous shape: torch.Size([9])\n",
            "\n",
            "New  tensor: tensor([[5., 2., 3., 4., 5., 6., 7., 8., 9.]])\n",
            "New shape: torch.Size([1, 9])\n"
          ]
        }
      ]
    },
    {
      "cell_type": "code",
      "source": [
        "#torch.permute - reaarabges the dimensions of a target tensor in a specified order\n",
        "x_original = torch.rand(size=(224,224,3)) #[height,width,color_channels]\n",
        "\n",
        "# permute the original tensor to rearrange the axis (or dim) oredr\n",
        "x_permuted = x_original.permute(2,0,1) # shifts axis 0->1, 1->2,2->0\n",
        "\n",
        "print(f\"previous shape: {x_original.shape}\")\n",
        "print(f\"new shape: {x_permuted.shape}\") #[color_channel,height,width]"
      ],
      "metadata": {
        "colab": {
          "base_uri": "https://localhost:8080/"
        },
        "id": "R3pi1TXWUERR",
        "outputId": "af7e3c0e-7e70-4cfe-ff18-a1577244617c"
      },
      "execution_count": 75,
      "outputs": [
        {
          "output_type": "stream",
          "name": "stdout",
          "text": [
            "previous shape: torch.Size([224, 224, 3])\n",
            "new shape: torch.Size([3, 224, 224])\n"
          ]
        }
      ]
    },
    {
      "cell_type": "code",
      "source": [
        "x_original[0,0,0] = 728218\n",
        "x_original[0,0,0], x_permuted[0,0,0]"
      ],
      "metadata": {
        "colab": {
          "base_uri": "https://localhost:8080/"
        },
        "id": "DfB-pca2UEPA",
        "outputId": "dd34131f-1024-45e1-d9cd-7d4efbcf45eb"
      },
      "execution_count": 76,
      "outputs": [
        {
          "output_type": "execute_result",
          "data": {
            "text/plain": [
              "(tensor(728218.), tensor(728218.))"
            ]
          },
          "metadata": {},
          "execution_count": 76
        }
      ]
    },
    {
      "cell_type": "markdown",
      "source": [
        "## Indexing (selecting data from tensors)\n",
        "\n",
        "Indexing with Pytorch is similar to indexing with numpy"
      ],
      "metadata": {
        "id": "Pvl5HbYwZFiE"
      }
    },
    {
      "cell_type": "code",
      "source": [
        "# create a tensor\n",
        "import torch\n",
        "x = torch.arange(1,10).reshape(1,3,3)\n",
        "x, x.shape"
      ],
      "metadata": {
        "colab": {
          "base_uri": "https://localhost:8080/"
        },
        "id": "RqwhHzaoYns1",
        "outputId": "81f829aa-8303-465c-d4c0-2c402fd3ed75"
      },
      "execution_count": 77,
      "outputs": [
        {
          "output_type": "execute_result",
          "data": {
            "text/plain": [
              "(tensor([[[1, 2, 3],\n",
              "          [4, 5, 6],\n",
              "          [7, 8, 9]]]),\n",
              " torch.Size([1, 3, 3]))"
            ]
          },
          "metadata": {},
          "execution_count": 77
        }
      ]
    },
    {
      "cell_type": "code",
      "source": [
        "# lets a index on our new tensor\n",
        "x[0]"
      ],
      "metadata": {
        "colab": {
          "base_uri": "https://localhost:8080/"
        },
        "id": "D1rkx9_VZifp",
        "outputId": "07c7d503-b4f1-44f5-f1a8-df7bb53584ff"
      },
      "execution_count": 78,
      "outputs": [
        {
          "output_type": "execute_result",
          "data": {
            "text/plain": [
              "tensor([[1, 2, 3],\n",
              "        [4, 5, 6],\n",
              "        [7, 8, 9]])"
            ]
          },
          "metadata": {},
          "execution_count": 78
        }
      ]
    },
    {
      "cell_type": "code",
      "source": [
        "#lets index in middle bracket\n",
        "x[0,0]\n",
        "#x[0][0]"
      ],
      "metadata": {
        "colab": {
          "base_uri": "https://localhost:8080/"
        },
        "id": "WmoZvtlGZxKj",
        "outputId": "c02e8214-2560-4c3e-ada2-d08566665ef2"
      },
      "execution_count": 79,
      "outputs": [
        {
          "output_type": "execute_result",
          "data": {
            "text/plain": [
              "tensor([1, 2, 3])"
            ]
          },
          "metadata": {},
          "execution_count": 79
        }
      ]
    },
    {
      "cell_type": "code",
      "source": [
        "# Lets index on the most innefr barcket (last dimension)\n",
        "x[0][1][1]"
      ],
      "metadata": {
        "colab": {
          "base_uri": "https://localhost:8080/"
        },
        "id": "_0WeZ7vPZ3Za",
        "outputId": "5406a9a3-010c-4cbc-ae71-897e2a1ac98f"
      },
      "execution_count": 80,
      "outputs": [
        {
          "output_type": "execute_result",
          "data": {
            "text/plain": [
              "tensor(5)"
            ]
          },
          "metadata": {},
          "execution_count": 80
        }
      ]
    },
    {
      "cell_type": "code",
      "source": [
        "# you can also use \":\" to select \"all\" of a target dimension\n",
        "x[:,0]"
      ],
      "metadata": {
        "colab": {
          "base_uri": "https://localhost:8080/"
        },
        "id": "DzddBoLDaIdb",
        "outputId": "6d643e69-c66c-4ec8-e23c-b31fe4a8a051"
      },
      "execution_count": 81,
      "outputs": [
        {
          "output_type": "execute_result",
          "data": {
            "text/plain": [
              "tensor([[1, 2, 3]])"
            ]
          },
          "metadata": {},
          "execution_count": 81
        }
      ]
    },
    {
      "cell_type": "code",
      "source": [
        "# get all values of 0th and 1st dimension but only index 1 of the 2nd dimension\n",
        "x[:,:,1]"
      ],
      "metadata": {
        "colab": {
          "base_uri": "https://localhost:8080/"
        },
        "id": "D5VFe4qPapst",
        "outputId": "2ea1d302-096c-4e61-8754-ca5ab5dde3b0"
      },
      "execution_count": 82,
      "outputs": [
        {
          "output_type": "execute_result",
          "data": {
            "text/plain": [
              "tensor([[2, 5, 8]])"
            ]
          },
          "metadata": {},
          "execution_count": 82
        }
      ]
    },
    {
      "cell_type": "code",
      "source": [
        "# get all values of the 0 dimension but only the 1 index value of 1st and 2nd dimension\n",
        "x[:,1,1]"
      ],
      "metadata": {
        "colab": {
          "base_uri": "https://localhost:8080/"
        },
        "id": "oeZyfrcxa3oC",
        "outputId": "55d17be9-6c18-4f4c-f7f3-ba16f06727de"
      },
      "execution_count": 83,
      "outputs": [
        {
          "output_type": "execute_result",
          "data": {
            "text/plain": [
              "tensor([5])"
            ]
          },
          "metadata": {},
          "execution_count": 83
        }
      ]
    },
    {
      "cell_type": "code",
      "source": [
        "# get index o of 0th 1st dimension and all values of 2nd dimension\n",
        "x[0,0,:]"
      ],
      "metadata": {
        "colab": {
          "base_uri": "https://localhost:8080/"
        },
        "id": "ScMkThU3bQ4j",
        "outputId": "d3a927db-7bb5-45ea-899f-c5eba39c3d3d"
      },
      "execution_count": 84,
      "outputs": [
        {
          "output_type": "execute_result",
          "data": {
            "text/plain": [
              "tensor([1, 2, 3])"
            ]
          },
          "metadata": {},
          "execution_count": 84
        }
      ]
    },
    {
      "cell_type": "code",
      "source": [
        "# index on x to return 9\n",
        "x[:,2,2]\n",
        "\n"
      ],
      "metadata": {
        "colab": {
          "base_uri": "https://localhost:8080/"
        },
        "id": "X6KMHEKYbkxE",
        "outputId": "639c2e27-f6a8-43e5-813d-64d2bf460bcd"
      },
      "execution_count": 85,
      "outputs": [
        {
          "output_type": "execute_result",
          "data": {
            "text/plain": [
              "tensor([9])"
            ]
          },
          "metadata": {},
          "execution_count": 85
        }
      ]
    },
    {
      "cell_type": "code",
      "source": [
        "# index on x to return 3\n",
        "x[:,0,2]\n"
      ],
      "metadata": {
        "colab": {
          "base_uri": "https://localhost:8080/"
        },
        "id": "sjmkaH-gdWpe",
        "outputId": "b86e63cb-2327-4a0c-b64f-36969be0c8fa"
      },
      "execution_count": 86,
      "outputs": [
        {
          "output_type": "execute_result",
          "data": {
            "text/plain": [
              "tensor([3])"
            ]
          },
          "metadata": {},
          "execution_count": 86
        }
      ]
    },
    {
      "cell_type": "code",
      "source": [
        "# index on x return 6\n",
        "x[:,1,2]"
      ],
      "metadata": {
        "colab": {
          "base_uri": "https://localhost:8080/"
        },
        "id": "WfhuzuO8eSyM",
        "outputId": "9cd274b8-74b5-482a-ba63-16ab822055df"
      },
      "execution_count": 87,
      "outputs": [
        {
          "output_type": "execute_result",
          "data": {
            "text/plain": [
              "tensor([6])"
            ]
          },
          "metadata": {},
          "execution_count": 87
        }
      ]
    },
    {
      "cell_type": "markdown",
      "source": [
        "## Pytorch tensor & Numpy\n",
        "\n",
        "Numpy is a popular scientific python numerical computing library.\n",
        "\n",
        "and because of this ,pytorch has functionality to  intercat with it.\n",
        "\n",
        "* Data in Numpy want in Pytorch tensor -> torch.form_numpy(ndarray)\n",
        "\n",
        "* PyTorch tensor -> Numpy -> torch.Tensor.numpy()"
      ],
      "metadata": {
        "id": "GbgvRazcfdK1"
      }
    },
    {
      "cell_type": "code",
      "source": [
        "# Numpy array to tensor\n",
        "import torch\n",
        "import numpy as np\n",
        "\n",
        "array = np.arange(1.0,8.0)\n",
        "tensor = torch.from_numpy(array)\n",
        "#tensor = torch.from_numpy(array).type(torch.float32)\n",
        "#warning : when converting from numpy -> pytorch , pytorch reflects numpy's default datatype of float64 unless specified otherwise\n",
        "array, tensor\n"
      ],
      "metadata": {
        "colab": {
          "base_uri": "https://localhost:8080/"
        },
        "id": "fvwXppUMetsX",
        "outputId": "689d44b5-a18f-4d7a-9461-c4654c4400c3"
      },
      "execution_count": 88,
      "outputs": [
        {
          "output_type": "execute_result",
          "data": {
            "text/plain": [
              "(array([1., 2., 3., 4., 5., 6., 7.]),\n",
              " tensor([1., 2., 3., 4., 5., 6., 7.], dtype=torch.float64))"
            ]
          },
          "metadata": {},
          "execution_count": 88
        }
      ]
    },
    {
      "cell_type": "code",
      "source": [
        "array.dtype"
      ],
      "metadata": {
        "colab": {
          "base_uri": "https://localhost:8080/"
        },
        "id": "Hnec7KKChPUG",
        "outputId": "61d6a702-842a-45c8-84de-4c4b2cbf937c"
      },
      "execution_count": 89,
      "outputs": [
        {
          "output_type": "execute_result",
          "data": {
            "text/plain": [
              "dtype('float64')"
            ]
          },
          "metadata": {},
          "execution_count": 89
        }
      ]
    },
    {
      "cell_type": "code",
      "source": [
        " #torch.arange(1.0,8.0).dtype"
      ],
      "metadata": {
        "id": "LqCng9mthVfa"
      },
      "execution_count": 90,
      "outputs": []
    },
    {
      "cell_type": "code",
      "source": [
        "# change the value of array, what will this do to 'tensor'?\n",
        "array = array + 1\n",
        "array, tensor"
      ],
      "metadata": {
        "colab": {
          "base_uri": "https://localhost:8080/"
        },
        "id": "Eg13cJvkhcEb",
        "outputId": "2daddf0b-f1e1-4490-93ab-f651fd9abddf"
      },
      "execution_count": 91,
      "outputs": [
        {
          "output_type": "execute_result",
          "data": {
            "text/plain": [
              "(array([2., 3., 4., 5., 6., 7., 8.]),\n",
              " tensor([1., 2., 3., 4., 5., 6., 7.], dtype=torch.float64))"
            ]
          },
          "metadata": {},
          "execution_count": 91
        }
      ]
    },
    {
      "cell_type": "code",
      "source": [
        "# tensor to numpy array\n",
        "tensor= torch.ones(7)\n",
        "numpy_tensor = tensor.numpy()\n",
        "tensor,numpy_tensor"
      ],
      "metadata": {
        "colab": {
          "base_uri": "https://localhost:8080/"
        },
        "id": "WqJTiL_rhmaN",
        "outputId": "7d17f433-6e09-40d5-f6ac-d8942220303e"
      },
      "execution_count": 92,
      "outputs": [
        {
          "output_type": "execute_result",
          "data": {
            "text/plain": [
              "(tensor([1., 1., 1., 1., 1., 1., 1.]),\n",
              " array([1., 1., 1., 1., 1., 1., 1.], dtype=float32))"
            ]
          },
          "metadata": {},
          "execution_count": 92
        }
      ]
    },
    {
      "cell_type": "code",
      "source": [
        "# change the tensor , what happens to 'numpy_tensor'\n",
        "tensor = tensor +1\n",
        "tensor, numpy_tensor"
      ],
      "metadata": {
        "colab": {
          "base_uri": "https://localhost:8080/"
        },
        "id": "rtKZfGMWipkS",
        "outputId": "6d21c995-c0ac-4556-9cb4-2c85634b3e1a"
      },
      "execution_count": 93,
      "outputs": [
        {
          "output_type": "execute_result",
          "data": {
            "text/plain": [
              "(tensor([2., 2., 2., 2., 2., 2., 2.]),\n",
              " array([1., 1., 1., 1., 1., 1., 1.], dtype=float32))"
            ]
          },
          "metadata": {},
          "execution_count": 93
        }
      ]
    },
    {
      "cell_type": "markdown",
      "source": [
        "## Reproducbility (trying to take random out of random)\n",
        "\n",
        "In short how a neural network learns:\n",
        "\n",
        "start with random numbers -> tensor operations -> update random no.s to try and make them representations of the data -> again -> again p> again ...\n",
        "\n",
        "To reduce the randomness in neural networks and Pytorch comes the concept of random seed\n",
        "\n",
        "Esentially what the random seed does in the 'flavor' the randomness"
      ],
      "metadata": {
        "id": "OHgIDRpljmpS"
      }
    },
    {
      "cell_type": "code",
      "source": [
        "import torch\n",
        "# create two rand tensores\n",
        "random_tensor_A = torch.rand(3,4)\n",
        "random_tensor_B = torch.rand(3,4)\n",
        "\n",
        "print(random_tensor_A)\n",
        "print(random_tensor_B)\n",
        "print(random_tensor_A == random_tensor_B)"
      ],
      "metadata": {
        "colab": {
          "base_uri": "https://localhost:8080/"
        },
        "id": "NILNP_VRjN2h",
        "outputId": "3cadf45d-a81f-4b4c-803f-10158d6184de"
      },
      "execution_count": 94,
      "outputs": [
        {
          "output_type": "stream",
          "name": "stdout",
          "text": [
            "tensor([[0.6552, 0.9098, 0.9226, 0.1298],\n",
            "        [0.0013, 0.6984, 0.2372, 0.8202],\n",
            "        [0.5590, 0.6974, 0.8694, 0.5034]])\n",
            "tensor([[0.8587, 0.6742, 0.8189, 0.6365],\n",
            "        [0.6516, 0.4773, 0.1283, 0.7966],\n",
            "        [0.4910, 0.9180, 0.4824, 0.2703]])\n",
            "tensor([[False, False, False, False],\n",
            "        [False, False, False, False],\n",
            "        [False, False, False, False]])\n"
          ]
        }
      ]
    },
    {
      "cell_type": "code",
      "source": [
        "# lets make rand but reproducable tensors\n",
        "import torch\n",
        "\n",
        "RANDOM_SEED = 42\n",
        "torch.manual_seed(RANDOM_SEED)\n",
        "random_tensor_C = torch.rand(3,4)   # first tensor\n",
        "\n",
        "\n",
        "torch.manual_seed(RANDOM_SEED)\n",
        "random_tensor_D = torch.rand(3,4)   # second tensor continues RNG\n",
        "\n",
        "print(random_tensor_C)\n",
        "print(random_tensor_D)\n",
        "print(random_tensor_C == random_tensor_D)\n"
      ],
      "metadata": {
        "colab": {
          "base_uri": "https://localhost:8080/"
        },
        "id": "OZQ7Z_4RkJyp",
        "outputId": "7ba02a93-a921-4abe-9dd8-9020802989b6"
      },
      "execution_count": 100,
      "outputs": [
        {
          "output_type": "stream",
          "name": "stdout",
          "text": [
            "tensor([[0.8823, 0.9150, 0.3829, 0.9593],\n",
            "        [0.3904, 0.6009, 0.2566, 0.7936],\n",
            "        [0.9408, 0.1332, 0.9346, 0.5936]])\n",
            "tensor([[0.8823, 0.9150, 0.3829, 0.9593],\n",
            "        [0.3904, 0.6009, 0.2566, 0.7936],\n",
            "        [0.9408, 0.1332, 0.9346, 0.5936]])\n",
            "tensor([[True, True, True, True],\n",
            "        [True, True, True, True],\n",
            "        [True, True, True, True]])\n"
          ]
        }
      ]
    },
    {
      "cell_type": "markdown",
      "source": [
        "## Running tensors and Pytorch objects on the GPUs (and making faster computations)\n",
        "\n",
        "GPU = faster computation on nos\n"
      ],
      "metadata": {
        "id": "UJtoz7F7v7xS"
      }
    },
    {
      "cell_type": "markdown",
      "source": [
        "### 1. Getting a GPU\n",
        "\n",
        "Easiest - User Google collab fo1 a free GPU\n",
        "\n",
        "Use your own GPU - investment req\n",
        "\n",
        "use cloud comuting- GCP, AWS,Azure these services allow you to rent computers on the cloud and access them"
      ],
      "metadata": {
        "id": "tkNx8JEewM79"
      }
    },
    {
      "cell_type": "code",
      "source": [
        "! nvidia-smi"
      ],
      "metadata": {
        "id": "0AOOWGOowMnC",
        "outputId": "0c793be0-c3ae-40ad-e100-1c1ad36077ac",
        "colab": {
          "base_uri": "https://localhost:8080/"
        }
      },
      "execution_count": 101,
      "outputs": [
        {
          "output_type": "stream",
          "name": "stdout",
          "text": [
            "Sun Aug 24 16:08:27 2025       \n",
            "+-----------------------------------------------------------------------------------------+\n",
            "| NVIDIA-SMI 550.54.15              Driver Version: 550.54.15      CUDA Version: 12.4     |\n",
            "|-----------------------------------------+------------------------+----------------------+\n",
            "| GPU  Name                 Persistence-M | Bus-Id          Disp.A | Volatile Uncorr. ECC |\n",
            "| Fan  Temp   Perf          Pwr:Usage/Cap |           Memory-Usage | GPU-Util  Compute M. |\n",
            "|                                         |                        |               MIG M. |\n",
            "|=========================================+========================+======================|\n",
            "|   0  Tesla T4                       Off |   00000000:00:04.0 Off |                    0 |\n",
            "| N/A   34C    P8              9W /   70W |       0MiB /  15360MiB |      0%      Default |\n",
            "|                                         |                        |                  N/A |\n",
            "+-----------------------------------------+------------------------+----------------------+\n",
            "                                                                                         \n",
            "+-----------------------------------------------------------------------------------------+\n",
            "| Processes:                                                                              |\n",
            "|  GPU   GI   CI        PID   Type   Process name                              GPU Memory |\n",
            "|        ID   ID                                                               Usage      |\n",
            "|=========================================================================================|\n",
            "|  No running processes found                                                             |\n",
            "+-----------------------------------------------------------------------------------------+\n"
          ]
        }
      ]
    },
    {
      "cell_type": "markdown",
      "source": [
        "### 2. check GPU with Pytorch"
      ],
      "metadata": {
        "id": "-yhqBA1e1yIg"
      }
    },
    {
      "cell_type": "code",
      "source": [
        "# check for GPU access with Pytorch\n",
        "import torch\n",
        "torch.cuda.is_available()"
      ],
      "metadata": {
        "colab": {
          "base_uri": "https://localhost:8080/"
        },
        "id": "i6pXzua6lytH",
        "outputId": "2f14e78e-01d3-4b19-cea4-a5c23849e735"
      },
      "execution_count": 102,
      "outputs": [
        {
          "output_type": "execute_result",
          "data": {
            "text/plain": [
              "True"
            ]
          },
          "metadata": {},
          "execution_count": 102
        }
      ]
    },
    {
      "cell_type": "code",
      "source": [
        "# Setup device agnostic code\n",
        "device = \"cuda\" if torch.cuda.is_available() else \"cpu\"\n",
        "device"
      ],
      "metadata": {
        "id": "tL5diZpn2Iv2",
        "outputId": "2e4842d2-3b60-42be-b2cd-f22aa28c7060",
        "colab": {
          "base_uri": "https://localhost:8080/",
          "height": 36
        }
      },
      "execution_count": 103,
      "outputs": [
        {
          "output_type": "execute_result",
          "data": {
            "text/plain": [
              "'cuda'"
            ],
            "application/vnd.google.colaboratory.intrinsic+json": {
              "type": "string"
            }
          },
          "metadata": {},
          "execution_count": 103
        }
      ]
    },
    {
      "cell_type": "markdown",
      "source": [
        "device agnostic code"
      ],
      "metadata": {
        "id": "rN9agLrc2pgB"
      }
    },
    {
      "cell_type": "markdown",
      "source": [
        "for pytorch its capable of running computeon the GPU or CPU,its best pratices to setup device agnostic code"
      ],
      "metadata": {
        "id": "dJ_8Kg_92tW3"
      }
    },
    {
      "cell_type": "code",
      "source": [
        "# Count number of devices\n",
        "torch.cuda.device_count()"
      ],
      "metadata": {
        "id": "66Pfp30x2XwB",
        "outputId": "c19f3339-81c0-40c1-d82d-81f86d269c06",
        "colab": {
          "base_uri": "https://localhost:8080/"
        }
      },
      "execution_count": 104,
      "outputs": [
        {
          "output_type": "execute_result",
          "data": {
            "text/plain": [
              "1"
            ]
          },
          "metadata": {},
          "execution_count": 104
        }
      ]
    },
    {
      "cell_type": "code",
      "source": [],
      "metadata": {
        "id": "hnUZT9lA2mtR"
      },
      "execution_count": null,
      "outputs": []
    }
  ]
}