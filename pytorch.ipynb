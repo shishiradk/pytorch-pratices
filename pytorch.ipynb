{
  "nbformat": 4,
  "nbformat_minor": 0,
  "metadata": {
    "colab": {
      "provenance": [],
      "gpuType": "T4",
      "authorship_tag": "ABX9TyNUJ3oAVJcHjdvFjgotsvu7",
      "include_colab_link": true
    },
    "kernelspec": {
      "name": "python3",
      "display_name": "Python 3"
    },
    "language_info": {
      "name": "python"
    },
    "accelerator": "GPU"
  },
  "cells": [
    {
      "cell_type": "markdown",
      "metadata": {
        "id": "view-in-github",
        "colab_type": "text"
      },
      "source": [
        "<a href=\"https://colab.research.google.com/github/shishiradk/pytorch-pratices/blob/main/pytorch.ipynb\" target=\"_parent\"><img src=\"https://colab.research.google.com/assets/colab-badge.svg\" alt=\"Open In Colab\"/></a>"
      ]
    },
    {
      "cell_type": "code",
      "execution_count": 544,
      "metadata": {
        "colab": {
          "base_uri": "https://localhost:8080/"
        },
        "id": "Ipxmmm-BuHoq",
        "outputId": "408a1390-932f-4da4-b16e-6631f1b40f2b"
      },
      "outputs": [
        {
          "output_type": "stream",
          "name": "stdout",
          "text": [
            "Sun Aug 24 05:48:37 2025       \n",
            "+-----------------------------------------------------------------------------------------+\n",
            "| NVIDIA-SMI 550.54.15              Driver Version: 550.54.15      CUDA Version: 12.4     |\n",
            "|-----------------------------------------+------------------------+----------------------+\n",
            "| GPU  Name                 Persistence-M | Bus-Id          Disp.A | Volatile Uncorr. ECC |\n",
            "| Fan  Temp   Perf          Pwr:Usage/Cap |           Memory-Usage | GPU-Util  Compute M. |\n",
            "|                                         |                        |               MIG M. |\n",
            "|=========================================+========================+======================|\n",
            "|   0  Tesla T4                       Off |   00000000:00:04.0 Off |                    0 |\n",
            "| N/A   38C    P8              9W /   70W |       0MiB /  15360MiB |      0%      Default |\n",
            "|                                         |                        |                  N/A |\n",
            "+-----------------------------------------+------------------------+----------------------+\n",
            "                                                                                         \n",
            "+-----------------------------------------------------------------------------------------+\n",
            "| Processes:                                                                              |\n",
            "|  GPU   GI   CI        PID   Type   Process name                              GPU Memory |\n",
            "|        ID   ID                                                               Usage      |\n",
            "|=========================================================================================|\n",
            "|  No running processes found                                                             |\n",
            "+-----------------------------------------------------------------------------------------+\n"
          ]
        }
      ],
      "source": [
        "!nvidia-smi\n"
      ]
    },
    {
      "cell_type": "code",
      "source": [
        "import numpy as np\n",
        "import pandas as pd\n",
        "import matplotlib.pyplot as plt\n",
        "import torch\n",
        "print(torch.__version__)"
      ],
      "metadata": {
        "colab": {
          "base_uri": "https://localhost:8080/"
        },
        "id": "eZa8yggluhDq",
        "outputId": "0f820e9f-ff33-4ab0-a509-bc293ace78b6"
      },
      "execution_count": 545,
      "outputs": [
        {
          "output_type": "stream",
          "name": "stdout",
          "text": [
            "2.8.0+cu126\n"
          ]
        }
      ]
    },
    {
      "cell_type": "markdown",
      "source": [
        "introduction to tensors\n",
        "creating tensor"
      ],
      "metadata": {
        "id": "0T04eZk0w0gf"
      }
    },
    {
      "cell_type": "markdown",
      "source": [],
      "metadata": {
        "id": "BRYigiaOw3Fh"
      }
    },
    {
      "cell_type": "code",
      "source": [
        "#scalar\n",
        "scalar = torch.tensor(7)\n",
        "scalar\n"
      ],
      "metadata": {
        "colab": {
          "base_uri": "https://localhost:8080/"
        },
        "id": "E78psR9bwJyK",
        "outputId": "774ae2c7-b410-423c-8598-1538e8b6c587"
      },
      "execution_count": 546,
      "outputs": [
        {
          "output_type": "execute_result",
          "data": {
            "text/plain": [
              "tensor(7)"
            ]
          },
          "metadata": {},
          "execution_count": 546
        }
      ]
    },
    {
      "cell_type": "code",
      "source": [
        "scalar.ndim"
      ],
      "metadata": {
        "colab": {
          "base_uri": "https://localhost:8080/"
        },
        "id": "IqIfhYWywrSG",
        "outputId": "4f5b2c9d-6d32-414b-9e01-ddc4cfe5d10b"
      },
      "execution_count": 547,
      "outputs": [
        {
          "output_type": "execute_result",
          "data": {
            "text/plain": [
              "0"
            ]
          },
          "metadata": {},
          "execution_count": 547
        }
      ]
    },
    {
      "cell_type": "code",
      "source": [
        "#get tensor back as python int\n",
        "scalar.item()"
      ],
      "metadata": {
        "colab": {
          "base_uri": "https://localhost:8080/"
        },
        "id": "g57NNznbyB6a",
        "outputId": "9adcbeb1-1893-4558-fb2f-b4bf7c5ca74e"
      },
      "execution_count": 548,
      "outputs": [
        {
          "output_type": "execute_result",
          "data": {
            "text/plain": [
              "7"
            ]
          },
          "metadata": {},
          "execution_count": 548
        }
      ]
    },
    {
      "cell_type": "code",
      "source": [
        "#vector\n",
        "vector = torch.tensor([7,7])\n",
        "vector"
      ],
      "metadata": {
        "colab": {
          "base_uri": "https://localhost:8080/"
        },
        "id": "am4C3NNzyOLN",
        "outputId": "2c1cfa77-793e-4519-ab22-4c45cc2072a9"
      },
      "execution_count": 549,
      "outputs": [
        {
          "output_type": "execute_result",
          "data": {
            "text/plain": [
              "tensor([7, 7])"
            ]
          },
          "metadata": {},
          "execution_count": 549
        }
      ]
    },
    {
      "cell_type": "code",
      "source": [
        "vector.ndim"
      ],
      "metadata": {
        "colab": {
          "base_uri": "https://localhost:8080/"
        },
        "id": "UG3w44iRyh9b",
        "outputId": "31d7e75e-cb34-4123-9c6e-4350c3f4ea4f"
      },
      "execution_count": 550,
      "outputs": [
        {
          "output_type": "execute_result",
          "data": {
            "text/plain": [
              "1"
            ]
          },
          "metadata": {},
          "execution_count": 550
        }
      ]
    },
    {
      "cell_type": "code",
      "source": [
        "vector.shape"
      ],
      "metadata": {
        "colab": {
          "base_uri": "https://localhost:8080/"
        },
        "id": "T4ieiQRyymB1",
        "outputId": "06390749-81ee-47b3-9115-1b95cc393f98"
      },
      "execution_count": 551,
      "outputs": [
        {
          "output_type": "execute_result",
          "data": {
            "text/plain": [
              "torch.Size([2])"
            ]
          },
          "metadata": {},
          "execution_count": 551
        }
      ]
    },
    {
      "cell_type": "code",
      "source": [
        "#matrix\n",
        "MATRIX = torch.tensor([[7,8],\n",
        "                      [9,10]])\n",
        "MATRIX\n"
      ],
      "metadata": {
        "colab": {
          "base_uri": "https://localhost:8080/"
        },
        "id": "wexINEwqyolb",
        "outputId": "9e1a6162-785c-4fa3-d07e-63a17ad5d6fb"
      },
      "execution_count": 552,
      "outputs": [
        {
          "output_type": "execute_result",
          "data": {
            "text/plain": [
              "tensor([[ 7,  8],\n",
              "        [ 9, 10]])"
            ]
          },
          "metadata": {},
          "execution_count": 552
        }
      ]
    },
    {
      "cell_type": "code",
      "source": [
        "MATRIX.ndim"
      ],
      "metadata": {
        "colab": {
          "base_uri": "https://localhost:8080/"
        },
        "id": "Xm7PGAG1zEBZ",
        "outputId": "a96c22df-1482-4ecc-c071-7f079ecb2be2"
      },
      "execution_count": 553,
      "outputs": [
        {
          "output_type": "execute_result",
          "data": {
            "text/plain": [
              "2"
            ]
          },
          "metadata": {},
          "execution_count": 553
        }
      ]
    },
    {
      "cell_type": "code",
      "source": [
        "MATRIX[1]"
      ],
      "metadata": {
        "colab": {
          "base_uri": "https://localhost:8080/"
        },
        "id": "EvoOzPJdzIgd",
        "outputId": "d6ea0a3b-6983-4bb3-9494-67c88e7fb508"
      },
      "execution_count": 554,
      "outputs": [
        {
          "output_type": "execute_result",
          "data": {
            "text/plain": [
              "tensor([ 9, 10])"
            ]
          },
          "metadata": {},
          "execution_count": 554
        }
      ]
    },
    {
      "cell_type": "code",
      "source": [
        "MATRIX.shape"
      ],
      "metadata": {
        "colab": {
          "base_uri": "https://localhost:8080/"
        },
        "id": "6eSRxHX2zOS4",
        "outputId": "aced6e8c-9b77-4018-bd49-6c93b6edf011"
      },
      "execution_count": 555,
      "outputs": [
        {
          "output_type": "execute_result",
          "data": {
            "text/plain": [
              "torch.Size([2, 2])"
            ]
          },
          "metadata": {},
          "execution_count": 555
        }
      ]
    },
    {
      "cell_type": "code",
      "source": [
        "#TENSOR\n",
        "TENSOR = torch.tensor([[[1,2,4],\n",
        "                         [2,3,4],\n",
        "                         [4,5,6]]])"
      ],
      "metadata": {
        "id": "8950TfPczRPv"
      },
      "execution_count": 556,
      "outputs": []
    },
    {
      "cell_type": "code",
      "source": [
        "TENSOR"
      ],
      "metadata": {
        "colab": {
          "base_uri": "https://localhost:8080/"
        },
        "id": "SJ2MSdj7zqLW",
        "outputId": "c02f255d-2e75-4286-94d6-d8181e79e02e"
      },
      "execution_count": 557,
      "outputs": [
        {
          "output_type": "execute_result",
          "data": {
            "text/plain": [
              "tensor([[[1, 2, 4],\n",
              "         [2, 3, 4],\n",
              "         [4, 5, 6]]])"
            ]
          },
          "metadata": {},
          "execution_count": 557
        }
      ]
    },
    {
      "cell_type": "code",
      "source": [
        "TENSOR.ndim"
      ],
      "metadata": {
        "colab": {
          "base_uri": "https://localhost:8080/"
        },
        "id": "LUFlW-blztOy",
        "outputId": "7dda6bfa-e1d0-404d-a8c6-2d1107ea07ca"
      },
      "execution_count": 558,
      "outputs": [
        {
          "output_type": "execute_result",
          "data": {
            "text/plain": [
              "3"
            ]
          },
          "metadata": {},
          "execution_count": 558
        }
      ]
    },
    {
      "cell_type": "code",
      "source": [
        "TENSOR.shape"
      ],
      "metadata": {
        "colab": {
          "base_uri": "https://localhost:8080/"
        },
        "id": "NOi9qPb9zvmF",
        "outputId": "413e8ad3-7dbe-427c-b797-96634850b7bd"
      },
      "execution_count": 559,
      "outputs": [
        {
          "output_type": "execute_result",
          "data": {
            "text/plain": [
              "torch.Size([1, 3, 3])"
            ]
          },
          "metadata": {},
          "execution_count": 559
        }
      ]
    },
    {
      "cell_type": "code",
      "source": [
        "TENSOR[0]"
      ],
      "metadata": {
        "colab": {
          "base_uri": "https://localhost:8080/"
        },
        "id": "6eeTCFwtzyJi",
        "outputId": "3c051dd0-a6b9-482c-fff5-c59403cc0839"
      },
      "execution_count": 560,
      "outputs": [
        {
          "output_type": "execute_result",
          "data": {
            "text/plain": [
              "tensor([[1, 2, 4],\n",
              "        [2, 3, 4],\n",
              "        [4, 5, 6]])"
            ]
          },
          "metadata": {},
          "execution_count": 560
        }
      ]
    },
    {
      "cell_type": "code",
      "source": [
        "TENSOR = torch.tensor([[[6,7,8],\n",
        "                        [5,6,7],\n",
        "                        [4,5,6]]])\n",
        "TENSOR"
      ],
      "metadata": {
        "colab": {
          "base_uri": "https://localhost:8080/"
        },
        "id": "ET2lqt--z0gu",
        "outputId": "dbdb8581-971a-4d4a-ec8e-ad0c6f347502"
      },
      "execution_count": 561,
      "outputs": [
        {
          "output_type": "execute_result",
          "data": {
            "text/plain": [
              "tensor([[[6, 7, 8],\n",
              "         [5, 6, 7],\n",
              "         [4, 5, 6]]])"
            ]
          },
          "metadata": {},
          "execution_count": 561
        }
      ]
    },
    {
      "cell_type": "code",
      "source": [
        "TENSOR.ndim"
      ],
      "metadata": {
        "colab": {
          "base_uri": "https://localhost:8080/"
        },
        "id": "CsuKrOcMz27a",
        "outputId": "d55a4c67-1cbe-4c01-8f84-8f4e6571f46c"
      },
      "execution_count": 562,
      "outputs": [
        {
          "output_type": "execute_result",
          "data": {
            "text/plain": [
              "3"
            ]
          },
          "metadata": {},
          "execution_count": 562
        }
      ]
    },
    {
      "cell_type": "code",
      "source": [
        "TENSOR.shape"
      ],
      "metadata": {
        "colab": {
          "base_uri": "https://localhost:8080/"
        },
        "id": "B0LmokBZ_UwJ",
        "outputId": "0b285377-5e3a-437f-afd4-6aad77b5f0fe"
      },
      "execution_count": 563,
      "outputs": [
        {
          "output_type": "execute_result",
          "data": {
            "text/plain": [
              "torch.Size([1, 3, 3])"
            ]
          },
          "metadata": {},
          "execution_count": 563
        }
      ]
    },
    {
      "cell_type": "code",
      "source": [
        "TENSOR[0]"
      ],
      "metadata": {
        "colab": {
          "base_uri": "https://localhost:8080/"
        },
        "id": "xUU7BC75_YAa",
        "outputId": "dc376ca2-d698-453a-a308-5ff4ad188bf9"
      },
      "execution_count": 564,
      "outputs": [
        {
          "output_type": "execute_result",
          "data": {
            "text/plain": [
              "tensor([[6, 7, 8],\n",
              "        [5, 6, 7],\n",
              "        [4, 5, 6]])"
            ]
          },
          "metadata": {},
          "execution_count": 564
        }
      ]
    },
    {
      "cell_type": "code",
      "source": [
        "#create a random tensor of size (3,4)\n",
        "random_tensor = torch.rand(10,10,10)\n",
        "random_tensor"
      ],
      "metadata": {
        "colab": {
          "base_uri": "https://localhost:8080/"
        },
        "id": "gTsFrcdZ_coi",
        "outputId": "aa682bab-a461-4c98-86b8-c2c808054a02"
      },
      "execution_count": 565,
      "outputs": [
        {
          "output_type": "execute_result",
          "data": {
            "text/plain": [
              "tensor([[[3.4269e-01, 5.1681e-01, 6.3995e-01, 6.2074e-01, 3.6674e-02,\n",
              "          8.4144e-01, 5.3270e-01, 4.2027e-01, 8.5477e-01, 9.4858e-01],\n",
              "         [5.7713e-01, 4.8573e-01, 7.9220e-01, 2.8785e-01, 7.4548e-01,\n",
              "          9.3990e-01, 2.3186e-02, 6.3884e-01, 9.3328e-01, 3.1255e-01],\n",
              "         [4.3874e-01, 2.6530e-01, 4.5990e-01, 8.9663e-01, 2.5282e-02,\n",
              "          2.0896e-01, 7.8853e-01, 3.6335e-01, 6.6079e-01, 5.1606e-01],\n",
              "         [2.6370e-01, 8.2893e-01, 3.3659e-01, 1.2022e-01, 2.0949e-01,\n",
              "          5.7101e-01, 5.7236e-01, 3.6985e-01, 4.7960e-01, 2.8109e-01],\n",
              "         [3.1852e-01, 1.9000e-01, 6.4643e-01, 7.2122e-06, 9.3440e-01,\n",
              "          3.7821e-01, 7.2834e-01, 8.5652e-01, 7.1187e-01, 6.5447e-01],\n",
              "         [6.2190e-01, 9.2584e-01, 4.5308e-01, 5.8610e-01, 3.3272e-01,\n",
              "          8.4700e-01, 3.8265e-01, 3.9917e-01, 8.5406e-01, 3.0082e-01],\n",
              "         [9.3934e-01, 9.0293e-01, 9.4765e-01, 4.2658e-01, 1.9959e-01,\n",
              "          3.0126e-01, 1.8782e-01, 9.5228e-01, 4.4143e-01, 6.9853e-02],\n",
              "         [9.5311e-01, 2.6494e-01, 1.2161e-01, 1.5011e-02, 6.0650e-01,\n",
              "          2.2758e-01, 3.6278e-01, 6.5075e-01, 6.3619e-01, 9.4875e-01],\n",
              "         [2.6141e-01, 9.6586e-01, 3.4292e-02, 1.8813e-01, 9.2083e-01,\n",
              "          6.0401e-01, 3.8175e-01, 7.0037e-02, 3.0379e-01, 5.6498e-01],\n",
              "         [9.9009e-01, 4.0741e-01, 5.1441e-01, 6.5983e-01, 7.0127e-01,\n",
              "          2.7663e-01, 4.2304e-01, 4.3494e-02, 6.4208e-01, 2.2612e-01]],\n",
              "\n",
              "        [[9.8609e-01, 2.9582e-01, 8.5219e-01, 4.8348e-01, 4.0779e-01,\n",
              "          8.9116e-01, 4.6163e-01, 5.4756e-02, 6.5247e-01, 3.2484e-01],\n",
              "         [5.8675e-01, 1.0192e-01, 7.8161e-01, 6.7305e-01, 2.7952e-01,\n",
              "          5.9355e-01, 4.1710e-01, 8.6414e-01, 7.3116e-01, 7.6086e-01],\n",
              "         [9.9790e-01, 1.6003e-02, 5.4218e-01, 1.7911e-01, 7.2826e-01,\n",
              "          6.9794e-01, 7.9131e-02, 7.6543e-01, 7.3981e-01, 1.6421e-01],\n",
              "         [6.1166e-01, 4.3563e-01, 4.5798e-01, 1.9541e-01, 2.6694e-01,\n",
              "          3.5943e-02, 7.8448e-01, 9.5913e-01, 2.2161e-01, 6.1596e-01],\n",
              "         [3.2249e-01, 1.2982e-01, 1.9242e-01, 2.9038e-01, 9.3574e-01,\n",
              "          6.4042e-01, 7.2374e-01, 3.8074e-01, 8.2901e-01, 4.1871e-01],\n",
              "         [2.4094e-01, 1.6471e-01, 9.3516e-02, 7.8603e-01, 9.7661e-01,\n",
              "          6.7710e-01, 3.0461e-01, 4.6637e-01, 1.7930e-01, 4.3099e-01],\n",
              "         [1.1448e-01, 9.3648e-01, 3.9715e-01, 8.8148e-02, 5.7412e-01,\n",
              "          1.7799e-01, 3.1753e-01, 6.7923e-01, 4.7814e-01, 8.2982e-02],\n",
              "         [7.0438e-03, 8.5615e-01, 4.5050e-01, 1.0534e-01, 1.6349e-01,\n",
              "          9.2823e-01, 1.0981e-01, 1.0529e-01, 6.9018e-01, 1.1647e-01],\n",
              "         [7.7991e-01, 4.4774e-01, 6.3771e-01, 6.0366e-01, 3.0647e-01,\n",
              "          8.4310e-02, 6.2689e-01, 6.9749e-01, 1.1826e-01, 1.7991e-01],\n",
              "         [7.8140e-01, 5.6059e-02, 8.3437e-01, 2.7597e-01, 9.8223e-01,\n",
              "          2.7035e-01, 4.1160e-01, 7.8654e-01, 1.9423e-01, 6.0239e-02]],\n",
              "\n",
              "        [[4.4942e-01, 6.2547e-01, 5.5302e-01, 7.6768e-01, 3.2894e-01,\n",
              "          4.6850e-01, 8.8190e-01, 7.0842e-01, 5.6066e-01, 7.8076e-01],\n",
              "         [5.4558e-01, 7.1472e-01, 1.8454e-01, 2.1973e-01, 4.7946e-01,\n",
              "          9.2113e-01, 4.8694e-01, 3.1802e-01, 6.3677e-01, 8.1747e-01],\n",
              "         [1.9892e-01, 1.3987e-01, 1.1121e-01, 7.7701e-01, 1.1274e-01,\n",
              "          5.9199e-01, 6.8240e-01, 3.9321e-01, 2.5613e-01, 9.3086e-01],\n",
              "         [4.8836e-01, 7.6194e-01, 9.5112e-01, 5.2097e-01, 3.5839e-01,\n",
              "          8.7481e-01, 4.4485e-01, 8.0445e-02, 5.3692e-01, 1.2004e-01],\n",
              "         [1.5861e-01, 1.9200e-01, 1.2897e-01, 2.5446e-01, 5.8987e-01,\n",
              "          3.9748e-01, 5.5912e-02, 8.1204e-01, 4.2900e-01, 4.7335e-01],\n",
              "         [2.8764e-01, 7.3513e-01, 2.6045e-03, 1.5921e-01, 7.5121e-01,\n",
              "          2.1166e-02, 2.9458e-01, 7.2837e-01, 1.3134e-01, 7.6275e-01],\n",
              "         [7.0145e-01, 5.0090e-01, 9.8634e-03, 6.6393e-01, 1.3286e-01,\n",
              "          5.1444e-01, 1.2434e-01, 7.8736e-01, 9.6576e-01, 4.3251e-01],\n",
              "         [2.3769e-01, 6.7348e-01, 8.5604e-02, 9.7291e-02, 6.8332e-01,\n",
              "          5.5574e-01, 2.5707e-01, 8.0392e-01, 9.3104e-01, 8.5593e-01],\n",
              "         [1.0603e-01, 9.1154e-01, 4.0230e-01, 9.6281e-01, 2.6512e-01,\n",
              "          6.2685e-01, 6.9251e-01, 9.6255e-01, 8.6627e-02, 9.6287e-01],\n",
              "         [8.8948e-01, 6.9956e-01, 4.6166e-01, 1.8349e-01, 8.6823e-01,\n",
              "          9.1428e-01, 3.3146e-01, 4.0618e-01, 8.1814e-01, 8.7105e-02]],\n",
              "\n",
              "        [[7.5759e-01, 4.4953e-02, 8.3531e-01, 3.6027e-03, 3.8335e-01,\n",
              "          8.3473e-01, 4.3308e-01, 6.6046e-01, 9.5807e-01, 5.3964e-02],\n",
              "         [6.2453e-01, 4.6682e-01, 8.2045e-01, 6.8450e-01, 7.8083e-01,\n",
              "          1.2121e-01, 2.2945e-01, 5.6554e-01, 7.2419e-01, 9.9750e-01],\n",
              "         [9.7086e-01, 5.3826e-01, 6.4015e-01, 1.7486e-01, 8.3400e-01,\n",
              "          9.2312e-01, 7.8779e-01, 3.9414e-01, 1.1492e-01, 9.3140e-01],\n",
              "         [1.5159e-01, 3.3258e-01, 4.6918e-01, 5.3633e-01, 8.7880e-01,\n",
              "          8.6543e-01, 9.7858e-01, 1.3810e-01, 4.2010e-02, 3.0105e-01],\n",
              "         [9.7989e-01, 1.9786e-01, 9.9702e-01, 5.9297e-01, 9.2932e-01,\n",
              "          3.0016e-01, 6.5781e-01, 9.5073e-01, 5.6763e-01, 3.8648e-01],\n",
              "         [6.0251e-01, 2.3043e-01, 4.0450e-01, 8.7929e-01, 2.5272e-01,\n",
              "          5.2926e-01, 3.3532e-01, 4.0012e-01, 1.0334e-01, 4.5274e-01],\n",
              "         [6.0203e-01, 3.4288e-01, 2.1647e-01, 5.7582e-01, 4.1821e-01,\n",
              "          9.0229e-01, 7.9086e-02, 5.7169e-01, 3.4098e-01, 3.1987e-01],\n",
              "         [3.7381e-01, 5.6592e-02, 4.5560e-02, 3.2436e-01, 6.7846e-01,\n",
              "          4.2939e-01, 9.2803e-02, 8.2940e-01, 2.7895e-01, 8.7981e-01],\n",
              "         [9.4344e-01, 1.7329e-01, 2.8341e-01, 6.5245e-01, 6.6932e-01,\n",
              "          7.2204e-01, 8.1981e-01, 7.3146e-01, 2.7415e-03, 9.1546e-01],\n",
              "         [5.7790e-01, 1.2845e-01, 2.0851e-02, 5.2493e-01, 5.3731e-02,\n",
              "          6.0696e-01, 2.4173e-01, 5.8110e-01, 3.3267e-01, 3.8421e-01]],\n",
              "\n",
              "        [[9.8975e-01, 2.5529e-01, 5.7238e-01, 9.7054e-01, 3.7130e-01,\n",
              "          4.8659e-01, 1.7344e-01, 3.6078e-01, 7.9521e-01, 2.1470e-01],\n",
              "         [1.8650e-01, 6.8777e-01, 2.9636e-01, 9.1702e-01, 3.4341e-01,\n",
              "          9.8701e-01, 2.6333e-01, 6.1789e-01, 2.8267e-01, 9.4964e-01],\n",
              "         [4.8032e-01, 9.3818e-01, 2.1035e-01, 1.1314e-01, 6.1131e-02,\n",
              "          7.3625e-01, 6.2810e-01, 8.3731e-01, 3.4269e-01, 3.6407e-01],\n",
              "         [1.7643e-01, 9.2227e-01, 4.1797e-01, 4.9261e-01, 7.0829e-01,\n",
              "          5.2163e-01, 7.2252e-01, 5.9345e-02, 8.3378e-01, 3.0554e-02],\n",
              "         [6.3092e-02, 6.7300e-01, 8.5591e-01, 3.6733e-01, 7.8271e-01,\n",
              "          5.0569e-01, 6.0036e-01, 4.7139e-01, 2.7472e-01, 8.8794e-01],\n",
              "         [7.9869e-01, 6.3508e-01, 9.4373e-01, 4.8674e-01, 5.4668e-01,\n",
              "          4.6533e-01, 7.6027e-01, 3.5798e-01, 8.3464e-01, 4.0785e-01],\n",
              "         [3.3993e-01, 9.2684e-01, 6.5531e-01, 4.2731e-01, 8.9606e-01,\n",
              "          8.7384e-01, 1.0217e-01, 5.5493e-01, 1.4606e-01, 6.7347e-01],\n",
              "         [1.3267e-01, 4.3309e-01, 2.1694e-01, 4.8388e-01, 6.8404e-01,\n",
              "          8.2232e-01, 5.9557e-01, 7.2676e-01, 5.7129e-01, 4.6768e-01],\n",
              "         [7.5538e-02, 7.2417e-01, 2.2647e-01, 8.7000e-01, 4.4260e-01,\n",
              "          3.6062e-01, 1.0472e-01, 9.0641e-01, 5.0204e-01, 9.2660e-01],\n",
              "         [6.5054e-01, 9.0337e-01, 5.7749e-01, 2.7672e-01, 5.5957e-01,\n",
              "          4.2577e-01, 3.6030e-01, 2.7206e-01, 1.0395e-01, 3.1673e-02]],\n",
              "\n",
              "        [[2.1083e-02, 9.3905e-01, 6.4910e-01, 6.8567e-01, 9.3364e-01,\n",
              "          4.4030e-01, 4.6494e-02, 4.0085e-01, 3.3311e-01, 7.3898e-01],\n",
              "         [1.3070e-01, 5.6719e-01, 7.9479e-01, 7.7181e-01, 1.8654e-01,\n",
              "          1.2990e-01, 8.9383e-01, 8.1074e-01, 9.6318e-01, 7.1947e-01],\n",
              "         [8.6261e-01, 2.6217e-01, 8.4934e-01, 8.9645e-01, 6.2771e-02,\n",
              "          5.7917e-01, 5.9116e-01, 6.4804e-01, 3.6879e-01, 4.9585e-01],\n",
              "         [1.6010e-01, 6.2986e-01, 7.5369e-01, 8.6196e-01, 1.9452e-01,\n",
              "          3.6610e-01, 5.2297e-01, 3.6519e-01, 7.8898e-01, 2.9393e-01],\n",
              "         [9.6275e-01, 5.4392e-01, 7.2306e-01, 8.2038e-01, 4.7885e-01,\n",
              "          1.0289e-01, 4.9288e-01, 5.5987e-01, 8.4014e-01, 2.9327e-01],\n",
              "         [5.8134e-01, 8.1874e-01, 1.6658e-01, 2.5445e-01, 1.3702e-01,\n",
              "          8.1920e-01, 6.5270e-01, 2.4322e-01, 9.7911e-01, 8.5115e-01],\n",
              "         [6.7907e-01, 6.8285e-01, 5.2693e-03, 1.6750e-01, 6.5406e-01,\n",
              "          8.6079e-01, 5.2725e-01, 5.6592e-01, 4.7608e-01, 6.8259e-01],\n",
              "         [1.5702e-01, 5.9772e-01, 3.2219e-01, 2.4149e-01, 1.4919e-01,\n",
              "          2.1931e-01, 2.6774e-01, 8.6954e-01, 7.7347e-02, 7.1042e-01],\n",
              "         [1.8702e-01, 2.7821e-01, 3.6027e-01, 7.9598e-01, 6.3566e-01,\n",
              "          3.2864e-01, 1.6881e-01, 2.7182e-01, 6.6440e-01, 8.8881e-01],\n",
              "         [4.0750e-01, 2.0835e-01, 3.7960e-02, 1.2093e-01, 9.6293e-01,\n",
              "          7.8605e-01, 3.7374e-01, 4.0135e-01, 3.2379e-01, 8.0512e-01]],\n",
              "\n",
              "        [[3.6099e-01, 8.9852e-01, 4.2140e-01, 4.1870e-01, 2.9082e-01,\n",
              "          5.9396e-01, 4.3260e-01, 9.0223e-01, 7.6630e-01, 2.5668e-01],\n",
              "         [9.9623e-01, 7.5264e-01, 8.8376e-01, 9.5794e-01, 8.4495e-01,\n",
              "          3.7170e-02, 9.4621e-01, 3.5962e-01, 2.2967e-01, 4.1645e-01],\n",
              "         [4.8487e-01, 5.6850e-01, 8.5316e-02, 4.3463e-01, 9.2055e-01,\n",
              "          8.8019e-01, 3.6051e-01, 7.1988e-01, 4.1041e-01, 5.8755e-01],\n",
              "         [2.7709e-01, 6.9480e-01, 9.3723e-02, 3.0566e-01, 1.8817e-01,\n",
              "          4.2506e-02, 7.7329e-01, 9.1896e-01, 3.9385e-01, 2.6324e-01],\n",
              "         [7.4726e-01, 5.7661e-01, 4.5449e-01, 8.1134e-01, 6.3088e-01,\n",
              "          6.1753e-01, 8.2046e-01, 5.0865e-01, 4.1010e-01, 4.4270e-01],\n",
              "         [6.1124e-01, 2.6658e-02, 4.7103e-01, 6.0296e-02, 8.2455e-01,\n",
              "          5.2521e-01, 7.8828e-01, 9.8647e-02, 2.4150e-01, 7.2075e-01],\n",
              "         [9.8101e-01, 4.7658e-02, 3.0521e-01, 6.7657e-01, 1.0734e-01,\n",
              "          7.3504e-01, 2.4224e-01, 9.3064e-01, 7.2362e-02, 7.0045e-01],\n",
              "         [7.2399e-01, 8.1989e-01, 5.0820e-01, 1.1252e-01, 3.3055e-01,\n",
              "          5.2915e-01, 9.5868e-02, 1.8362e-01, 2.9145e-01, 7.7642e-01],\n",
              "         [6.2476e-01, 4.8350e-01, 1.7913e-01, 3.5905e-01, 4.8264e-01,\n",
              "          5.0089e-01, 1.5141e-01, 6.3555e-01, 6.4813e-01, 8.4189e-01],\n",
              "         [8.7285e-02, 5.9892e-01, 7.9715e-02, 3.1564e-01, 4.9184e-01,\n",
              "          6.7114e-01, 1.5114e-01, 5.5461e-01, 9.6245e-01, 2.4348e-01]],\n",
              "\n",
              "        [[4.2392e-01, 4.4175e-01, 8.0761e-01, 6.6689e-02, 9.1426e-01,\n",
              "          3.8240e-01, 4.0732e-01, 4.4846e-01, 3.5917e-01, 9.4158e-01],\n",
              "         [1.2066e-01, 5.0551e-02, 4.6724e-01, 1.4607e-01, 3.6423e-01,\n",
              "          2.6475e-01, 3.6249e-02, 5.4176e-01, 2.4092e-01, 6.8503e-01],\n",
              "         [2.9330e-01, 2.5471e-01, 8.2061e-01, 8.5785e-01, 2.8842e-02,\n",
              "          3.5797e-02, 3.9199e-01, 2.7756e-01, 1.5048e-01, 9.0714e-01],\n",
              "         [1.5248e-01, 4.9712e-01, 4.8698e-01, 2.3956e-01, 3.5251e-01,\n",
              "          8.1841e-01, 7.1193e-01, 7.1351e-01, 9.8817e-01, 1.0711e-01],\n",
              "         [2.7119e-01, 5.5261e-01, 2.1491e-01, 2.3119e-01, 1.9261e-01,\n",
              "          3.8996e-01, 1.1395e-01, 3.4990e-01, 9.3593e-01, 2.3025e-01],\n",
              "         [6.5395e-01, 9.8889e-01, 7.0935e-01, 5.0252e-01, 6.1414e-01,\n",
              "          2.5058e-01, 7.1582e-01, 2.1279e-01, 9.1816e-02, 5.0743e-01],\n",
              "         [6.8956e-01, 3.2931e-01, 5.4146e-01, 1.5442e-02, 8.5775e-01,\n",
              "          7.0534e-02, 3.1333e-01, 5.8150e-01, 1.9599e-01, 6.6037e-01],\n",
              "         [3.8480e-01, 1.4414e-01, 4.4921e-01, 2.6330e-01, 2.4061e-01,\n",
              "          8.1396e-01, 4.8361e-01, 5.3183e-01, 1.0293e-01, 9.3246e-01],\n",
              "         [8.7345e-01, 6.2311e-01, 9.5555e-01, 3.4144e-01, 8.3463e-01,\n",
              "          5.5460e-01, 4.0009e-01, 3.0732e-01, 1.1122e-01, 2.8490e-02],\n",
              "         [9.9380e-01, 6.2131e-01, 6.4861e-01, 3.0727e-01, 5.8768e-01,\n",
              "          3.0801e-01, 8.0872e-01, 5.4094e-01, 3.0288e-01, 4.6750e-01]],\n",
              "\n",
              "        [[2.8331e-01, 5.4635e-01, 7.1090e-01, 9.9306e-03, 5.4312e-01,\n",
              "          1.2157e-01, 9.8780e-01, 3.9832e-01, 2.7468e-01, 6.3751e-01],\n",
              "         [5.0216e-01, 6.8948e-01, 6.1334e-01, 4.8657e-02, 9.1928e-01,\n",
              "          4.2651e-01, 4.6315e-02, 4.3652e-01, 6.9513e-01, 6.3680e-01],\n",
              "         [6.1732e-01, 2.7191e-01, 8.7869e-01, 9.7843e-01, 8.5758e-01,\n",
              "          6.2003e-01, 4.1909e-01, 3.1761e-01, 9.4039e-01, 2.7719e-01],\n",
              "         [8.8682e-01, 2.2959e-01, 2.9414e-01, 5.7689e-01, 5.0293e-01,\n",
              "          2.0761e-01, 9.6935e-01, 4.9185e-01, 5.4915e-01, 5.3026e-01],\n",
              "         [4.8684e-01, 1.9910e-01, 7.6451e-01, 6.5719e-01, 7.1875e-02,\n",
              "          6.9239e-01, 4.2780e-01, 1.2029e-01, 9.8167e-01, 4.6260e-01],\n",
              "         [1.7702e-01, 6.8746e-01, 2.8694e-01, 6.3847e-01, 2.9089e-01,\n",
              "          5.9176e-01, 6.7805e-01, 3.6156e-01, 9.6651e-01, 3.1402e-01],\n",
              "         [4.2058e-02, 7.9298e-01, 2.5338e-01, 8.0201e-02, 4.6846e-01,\n",
              "          5.9195e-01, 9.8519e-01, 8.1517e-01, 2.9532e-01, 7.0280e-01],\n",
              "         [3.0227e-01, 1.6678e-01, 2.7231e-01, 2.4087e-01, 7.1349e-01,\n",
              "          7.9489e-01, 9.8607e-01, 4.3123e-01, 3.7020e-01, 2.4556e-02],\n",
              "         [5.9540e-01, 6.0056e-01, 2.5535e-01, 6.8781e-01, 6.3229e-01,\n",
              "          5.1325e-03, 9.8292e-01, 9.2471e-01, 8.7719e-01, 7.8608e-01],\n",
              "         [6.1854e-01, 4.9671e-01, 6.4472e-01, 2.2338e-01, 9.0441e-01,\n",
              "          3.0647e-02, 5.7364e-01, 6.9386e-01, 3.6800e-01, 2.0959e-01]],\n",
              "\n",
              "        [[1.1650e-01, 1.4540e-01, 1.4821e-01, 4.4870e-01, 6.4919e-01,\n",
              "          9.0544e-01, 8.1872e-01, 6.8703e-01, 1.1014e-01, 5.9579e-01],\n",
              "         [1.5964e-01, 7.1095e-01, 5.1668e-01, 9.6966e-01, 3.3566e-01,\n",
              "          6.9690e-01, 1.2147e-01, 2.8944e-02, 2.0158e-01, 9.3638e-01],\n",
              "         [4.0302e-02, 5.7852e-01, 4.6289e-01, 1.9436e-02, 6.2906e-01,\n",
              "          4.4533e-01, 6.4313e-01, 5.2297e-01, 2.6631e-01, 3.0806e-01],\n",
              "         [9.0422e-01, 3.6271e-01, 1.9986e-01, 9.5354e-01, 2.5600e-01,\n",
              "          1.0142e-01, 4.9056e-01, 8.6038e-01, 2.2516e-02, 8.7650e-01],\n",
              "         [4.9006e-01, 8.7980e-01, 7.5373e-01, 2.0039e-01, 1.1162e-01,\n",
              "          3.4299e-01, 7.1534e-01, 5.0498e-01, 4.0069e-01, 1.6075e-01],\n",
              "         [3.9120e-02, 6.5541e-01, 9.9746e-01, 2.3399e-01, 9.9410e-01,\n",
              "          9.2168e-01, 5.3112e-01, 8.1533e-01, 7.4909e-01, 7.5546e-01],\n",
              "         [4.7563e-03, 8.2836e-01, 8.5857e-01, 6.8143e-01, 1.0344e-01,\n",
              "          8.8516e-01, 1.2798e-01, 2.7356e-01, 1.6002e-01, 4.9251e-01],\n",
              "         [7.0600e-01, 3.2641e-01, 4.3825e-01, 2.9441e-01, 6.3076e-01,\n",
              "          5.3199e-01, 8.7231e-01, 2.5497e-01, 2.5547e-02, 5.8406e-01],\n",
              "         [6.2708e-01, 4.1407e-02, 5.1982e-02, 6.6747e-01, 7.1178e-01,\n",
              "          3.5805e-01, 9.2506e-01, 6.2332e-01, 5.2447e-01, 6.8185e-02],\n",
              "         [9.4151e-01, 1.6321e-01, 2.6847e-01, 2.3693e-01, 4.7113e-02,\n",
              "          5.5437e-01, 3.2095e-01, 3.9934e-01, 1.0693e-01, 2.1019e-01]]])"
            ]
          },
          "metadata": {},
          "execution_count": 565
        }
      ]
    },
    {
      "cell_type": "code",
      "source": [
        "random_tensor.ndim"
      ],
      "metadata": {
        "colab": {
          "base_uri": "https://localhost:8080/"
        },
        "id": "-RxQZRQXDZT3",
        "outputId": "9c6d7c7d-e882-464b-ab1b-7b93c85163d2"
      },
      "execution_count": 566,
      "outputs": [
        {
          "output_type": "execute_result",
          "data": {
            "text/plain": [
              "3"
            ]
          },
          "metadata": {},
          "execution_count": 566
        }
      ]
    },
    {
      "cell_type": "code",
      "source": [
        "#create a random tensor with similar shape to an image tensor\n",
        "random_image_size_tensor = torch.rand(size=(3,224,224))#height,width,color channel\n",
        "random_image_size_tensor.shape, random_image_size_tensor.ndim"
      ],
      "metadata": {
        "colab": {
          "base_uri": "https://localhost:8080/"
        },
        "id": "2lE6FB17DpMe",
        "outputId": "941810d5-385a-4bcf-abb0-c1fa03cb485a"
      },
      "execution_count": 567,
      "outputs": [
        {
          "output_type": "execute_result",
          "data": {
            "text/plain": [
              "(torch.Size([3, 224, 224]), 3)"
            ]
          },
          "metadata": {},
          "execution_count": 567
        }
      ]
    },
    {
      "cell_type": "code",
      "source": [
        "torch.rand(3,3)"
      ],
      "metadata": {
        "colab": {
          "base_uri": "https://localhost:8080/"
        },
        "id": "RcRkAqzqHZIe",
        "outputId": "136b6c31-0b42-4fa8-8ea8-86620ef73dbb"
      },
      "execution_count": 568,
      "outputs": [
        {
          "output_type": "execute_result",
          "data": {
            "text/plain": [
              "tensor([[0.3815, 0.4900, 0.0046],\n",
              "        [0.3134, 0.2285, 0.7551],\n",
              "        [0.0745, 0.3822, 0.5375]])"
            ]
          },
          "metadata": {},
          "execution_count": 568
        }
      ]
    },
    {
      "cell_type": "code",
      "source": [
        "#zeros and ones\n",
        "zero = torch.zeros(size=(3,4))\n",
        "zero"
      ],
      "metadata": {
        "colab": {
          "base_uri": "https://localhost:8080/"
        },
        "id": "iSZZDYqWIVsz",
        "outputId": "69351900-4215-4fa2-afe3-00fefbfdf53e"
      },
      "execution_count": 569,
      "outputs": [
        {
          "output_type": "execute_result",
          "data": {
            "text/plain": [
              "tensor([[0., 0., 0., 0.],\n",
              "        [0., 0., 0., 0.],\n",
              "        [0., 0., 0., 0.]])"
            ]
          },
          "metadata": {},
          "execution_count": 569
        }
      ]
    },
    {
      "cell_type": "code",
      "source": [
        "#create a tensor of all ones\n",
        "ones = torch.ones(size=(3,4))\n",
        "ones"
      ],
      "metadata": {
        "colab": {
          "base_uri": "https://localhost:8080/"
        },
        "id": "uZNjgqG0IrqQ",
        "outputId": "74cb2062-649c-4fd2-f0dd-cac932b5e68d"
      },
      "execution_count": 570,
      "outputs": [
        {
          "output_type": "execute_result",
          "data": {
            "text/plain": [
              "tensor([[1., 1., 1., 1.],\n",
              "        [1., 1., 1., 1.],\n",
              "        [1., 1., 1., 1.]])"
            ]
          },
          "metadata": {},
          "execution_count": 570
        }
      ]
    },
    {
      "cell_type": "code",
      "source": [
        "#use torch.range()\n",
        "one_to_ten = torch.arange(1,11)\n",
        "one_to_ten"
      ],
      "metadata": {
        "colab": {
          "base_uri": "https://localhost:8080/"
        },
        "id": "pbHnsIQFI3N9",
        "outputId": "cd26a961-276f-44e0-dfdc-ff234178febe"
      },
      "execution_count": 571,
      "outputs": [
        {
          "output_type": "execute_result",
          "data": {
            "text/plain": [
              "tensor([ 1,  2,  3,  4,  5,  6,  7,  8,  9, 10])"
            ]
          },
          "metadata": {},
          "execution_count": 571
        }
      ]
    },
    {
      "cell_type": "code",
      "source": [
        "one_to_ten = torch.arange(start=1, end=11, step=1)\n",
        "one_to_ten"
      ],
      "metadata": {
        "colab": {
          "base_uri": "https://localhost:8080/"
        },
        "id": "40k8u2g-JdPJ",
        "outputId": "d32bf06c-5035-40b3-98b5-c98b6e66b7e2"
      },
      "execution_count": 572,
      "outputs": [
        {
          "output_type": "execute_result",
          "data": {
            "text/plain": [
              "tensor([ 1,  2,  3,  4,  5,  6,  7,  8,  9, 10])"
            ]
          },
          "metadata": {},
          "execution_count": 572
        }
      ]
    },
    {
      "cell_type": "code",
      "source": [
        "one_to_ten.shape"
      ],
      "metadata": {
        "id": "q-tCvr99Jsld",
        "outputId": "09f75092-f23a-43ec-d57f-9d5bd5773e56",
        "colab": {
          "base_uri": "https://localhost:8080/"
        }
      },
      "execution_count": 573,
      "outputs": [
        {
          "output_type": "execute_result",
          "data": {
            "text/plain": [
              "torch.Size([10])"
            ]
          },
          "metadata": {},
          "execution_count": 573
        }
      ]
    },
    {
      "cell_type": "code",
      "source": [
        "ten_zero = torch.zeros_like(input=one_to_ten)\n",
        "ten_zero"
      ],
      "metadata": {
        "id": "c3cUuCvlJv0p",
        "outputId": "aa1ffbdd-61ad-4bfc-e219-f487bb09c093",
        "colab": {
          "base_uri": "https://localhost:8080/"
        }
      },
      "execution_count": 574,
      "outputs": [
        {
          "output_type": "execute_result",
          "data": {
            "text/plain": [
              "tensor([0, 0, 0, 0, 0, 0, 0, 0, 0, 0])"
            ]
          },
          "metadata": {},
          "execution_count": 574
        }
      ]
    },
    {
      "cell_type": "markdown",
      "source": [
        "Tensor Datatype\n",
        "\n",
        "**Note:** Tensor datatype is one of the 3 big errors you'll run into with PyTorch & deep learning:\n",
        "\n",
        "1. Tensors not right datatype\n",
        "\n",
        "2.Tensor not right shape"
      ],
      "metadata": {
        "id": "EmxeZbwijYMV"
      }
    },
    {
      "cell_type": "code",
      "source": [
        "#float 32 tensor\n",
        "float_32_tensor = torch.tensor([3.0,6.0,9.0],\n",
        "                               dtype=None,\n",
        "                               device=None,\n",
        "                               requires_grad=False)\n",
        "float_32_tensor"
      ],
      "metadata": {
        "id": "SIUx2GVLjUdQ",
        "outputId": "3d0792d4-68c3-4e38-f145-15594c77d0c2",
        "colab": {
          "base_uri": "https://localhost:8080/"
        }
      },
      "execution_count": 575,
      "outputs": [
        {
          "output_type": "execute_result",
          "data": {
            "text/plain": [
              "tensor([3., 6., 9.])"
            ]
          },
          "metadata": {},
          "execution_count": 575
        }
      ]
    },
    {
      "cell_type": "code",
      "source": [
        "tensor = torch.tensor( [1.0, 2.0, 3.0],dtype=torch.float32)\n",
        "print(tensor)\n"
      ],
      "metadata": {
        "id": "Ek7hBuaZm4_z",
        "colab": {
          "base_uri": "https://localhost:8080/"
        },
        "outputId": "209efb0c-0d74-4216-b12f-b1117358e09b"
      },
      "execution_count": 576,
      "outputs": [
        {
          "output_type": "stream",
          "name": "stdout",
          "text": [
            "tensor([1., 2., 3.])\n"
          ]
        }
      ]
    },
    {
      "cell_type": "code",
      "source": [
        "float_16_tensor = float_32_tensor.type(torch.float16)\n",
        "float_16_tensor"
      ],
      "metadata": {
        "colab": {
          "base_uri": "https://localhost:8080/"
        },
        "id": "y9kmAs3Powjl",
        "outputId": "50ac74b6-06f1-45a2-9ee7-e6b2d82e7bc7"
      },
      "execution_count": 577,
      "outputs": [
        {
          "output_type": "execute_result",
          "data": {
            "text/plain": [
              "tensor([3., 6., 9.], dtype=torch.float16)"
            ]
          },
          "metadata": {},
          "execution_count": 577
        }
      ]
    },
    {
      "cell_type": "code",
      "source": [
        "float_16_tensor = float_32_tensor"
      ],
      "metadata": {
        "id": "w0wRNfWtrHE_"
      },
      "execution_count": 578,
      "outputs": []
    },
    {
      "cell_type": "code",
      "source": [
        "int_32_tensor = torch.tensor([3,6,9], dtype=torch.int32)\n",
        "int_32_tensor"
      ],
      "metadata": {
        "colab": {
          "base_uri": "https://localhost:8080/"
        },
        "id": "DgLLHRpfruKF",
        "outputId": "b8a29c4a-f1c3-4932-cce7-d4bdf8321e2f"
      },
      "execution_count": 579,
      "outputs": [
        {
          "output_type": "execute_result",
          "data": {
            "text/plain": [
              "tensor([3, 6, 9], dtype=torch.int32)"
            ]
          },
          "metadata": {},
          "execution_count": 579
        }
      ]
    },
    {
      "cell_type": "code",
      "source": [
        "float_32_tensor * int_32_tensor"
      ],
      "metadata": {
        "colab": {
          "base_uri": "https://localhost:8080/"
        },
        "id": "iG6gO6Q5LWSx",
        "outputId": "cd0f5f94-417e-4e77-ee21-714d7a2a01de"
      },
      "execution_count": 580,
      "outputs": [
        {
          "output_type": "execute_result",
          "data": {
            "text/plain": [
              "tensor([ 9., 36., 81.])"
            ]
          },
          "metadata": {},
          "execution_count": 580
        }
      ]
    },
    {
      "cell_type": "code",
      "source": [
        "#create a tensor\n",
        "some_tensor = torch.rand(3,4)\n",
        "some_tensor"
      ],
      "metadata": {
        "colab": {
          "base_uri": "https://localhost:8080/"
        },
        "id": "IYOKBoAkMBha",
        "outputId": "6058b865-30d4-44cf-ad44-5f0268db5a3f"
      },
      "execution_count": 581,
      "outputs": [
        {
          "output_type": "execute_result",
          "data": {
            "text/plain": [
              "tensor([[0.8843, 0.0396, 0.3421, 0.2733],\n",
              "        [0.8288, 0.6008, 0.7598, 0.9061],\n",
              "        [0.1018, 0.7832, 0.2308, 0.9016]])"
            ]
          },
          "metadata": {},
          "execution_count": 581
        }
      ]
    },
    {
      "cell_type": "code",
      "source": [
        "#find out details about some tensor\n",
        "print(some_tensor)\n",
        "print(f\"Datatype of tensor: {some_tensor.dtype}\")\n",
        "print(f\"Shape of tensor: {some_tensor.shape}\")\n",
        "print(f\"Device tensor is on: {some_tensor.device}\")"
      ],
      "metadata": {
        "colab": {
          "base_uri": "https://localhost:8080/"
        },
        "id": "sjlygekbMXJy",
        "outputId": "241c9383-4c62-4bcf-82d5-ddc5808920de"
      },
      "execution_count": 582,
      "outputs": [
        {
          "output_type": "stream",
          "name": "stdout",
          "text": [
            "tensor([[0.8843, 0.0396, 0.3421, 0.2733],\n",
            "        [0.8288, 0.6008, 0.7598, 0.9061],\n",
            "        [0.1018, 0.7832, 0.2308, 0.9016]])\n",
            "Datatype of tensor: torch.float32\n",
            "Shape of tensor: torch.Size([3, 4])\n",
            "Device tensor is on: cpu\n"
          ]
        }
      ]
    },
    {
      "cell_type": "markdown",
      "source": [
        "###manipulating Tensors ( tensor operation)\n",
        "\n",
        "Tensor operattion include:\n",
        "\n",
        "*Addition\n",
        "\n",
        "*Subtraction\n",
        "\n",
        "*Multiplication(element-wise)\n",
        "\n",
        "*division\n",
        "\n",
        "*Matrix Multiplication"
      ],
      "metadata": {
        "id": "2WeJXkaSNvx4"
      }
    },
    {
      "cell_type": "code",
      "source": [
        "#create a tensor and add 10 to it\n",
        "tensor = torch.tensor([1,2,3])\n",
        "tensor + 10"
      ],
      "metadata": {
        "colab": {
          "base_uri": "https://localhost:8080/"
        },
        "id": "qn5KQtOZMqCe",
        "outputId": "960a8ef2-0877-4f62-81de-619553c80904"
      },
      "execution_count": 583,
      "outputs": [
        {
          "output_type": "execute_result",
          "data": {
            "text/plain": [
              "tensor([11, 12, 13])"
            ]
          },
          "metadata": {},
          "execution_count": 583
        }
      ]
    },
    {
      "cell_type": "code",
      "source": [
        "#multiply tensor by 10\n",
        "tensor * 10"
      ],
      "metadata": {
        "colab": {
          "base_uri": "https://localhost:8080/"
        },
        "id": "CJznQMdMORMM",
        "outputId": "81195677-ee94-4e0d-ae2c-51dcae98c68f"
      },
      "execution_count": 584,
      "outputs": [
        {
          "output_type": "execute_result",
          "data": {
            "text/plain": [
              "tensor([10, 20, 30])"
            ]
          },
          "metadata": {},
          "execution_count": 584
        }
      ]
    },
    {
      "cell_type": "code",
      "source": [
        "tensor"
      ],
      "metadata": {
        "colab": {
          "base_uri": "https://localhost:8080/"
        },
        "id": "SmWqezXAP8g-",
        "outputId": "04e11c9a-0ff1-43b2-fdb3-35eb75b72c08"
      },
      "execution_count": 585,
      "outputs": [
        {
          "output_type": "execute_result",
          "data": {
            "text/plain": [
              "tensor([1, 2, 3])"
            ]
          },
          "metadata": {},
          "execution_count": 585
        }
      ]
    },
    {
      "cell_type": "code",
      "source": [
        "#subtract\n",
        "tensor - 10"
      ],
      "metadata": {
        "colab": {
          "base_uri": "https://localhost:8080/"
        },
        "id": "MWwFTpF-P_XY",
        "outputId": "db756005-618d-4b84-d3e8-f935bff0a21e"
      },
      "execution_count": 586,
      "outputs": [
        {
          "output_type": "execute_result",
          "data": {
            "text/plain": [
              "tensor([-9, -8, -7])"
            ]
          },
          "metadata": {},
          "execution_count": 586
        }
      ]
    },
    {
      "cell_type": "code",
      "source": [
        "#divide\n",
        "tensor/10"
      ],
      "metadata": {
        "colab": {
          "base_uri": "https://localhost:8080/"
        },
        "id": "HHU7DVjOQE2Z",
        "outputId": "be679602-f164-4aab-e047-d7f6781204de"
      },
      "execution_count": 587,
      "outputs": [
        {
          "output_type": "execute_result",
          "data": {
            "text/plain": [
              "tensor([0.1000, 0.2000, 0.3000])"
            ]
          },
          "metadata": {},
          "execution_count": 587
        }
      ]
    },
    {
      "cell_type": "code",
      "source": [
        "torch.mul(tensor,10)"
      ],
      "metadata": {
        "colab": {
          "base_uri": "https://localhost:8080/"
        },
        "id": "QSiCdWgwQJjq",
        "outputId": "6d847d40-b813-4437-be33-59a7026a5ceb"
      },
      "execution_count": 588,
      "outputs": [
        {
          "output_type": "execute_result",
          "data": {
            "text/plain": [
              "tensor([10, 20, 30])"
            ]
          },
          "metadata": {},
          "execution_count": 588
        }
      ]
    },
    {
      "cell_type": "code",
      "source": [
        "torch.add(tensor,10)"
      ],
      "metadata": {
        "colab": {
          "base_uri": "https://localhost:8080/"
        },
        "id": "vRH20ZpNRHqo",
        "outputId": "88245b11-3112-46da-a7a6-ea0ce7ce20c8"
      },
      "execution_count": 589,
      "outputs": [
        {
          "output_type": "execute_result",
          "data": {
            "text/plain": [
              "tensor([11, 12, 13])"
            ]
          },
          "metadata": {},
          "execution_count": 589
        }
      ]
    },
    {
      "cell_type": "markdown",
      "source": [
        "Matrix multiplication\n",
        "\n",
        "Two main ways of performing multiplication in neural networks and deep learning:\n",
        "\n",
        "1.Element-wise multiplication\n",
        "\n",
        "2.Matrix multiplication(dot product)\n",
        "\n",
        "There are two main rules that performing matrix multiplication\n",
        "\n",
        "1. The **inner dimensions** must match:\n",
        "\n",
        " *(3,2) @ (3,2) won't work\n",
        "\n",
        " *(2,3) @ (3,2) will work\n",
        "\n",
        " *(3,2) @ (2,3) will work\n",
        "\n",
        "\n",
        "2.The resulting matrix has the shape of the **outer dimension**:\n",
        "\n",
        "*(2,3) @ (3,2) -> (2,2)\n",
        "\n",
        "*(3,2) 2 (2,3) -. (3,3)\n",
        "\n",
        "\n"
      ],
      "metadata": {
        "id": "15eaC_8jZp3z"
      }
    },
    {
      "cell_type": "code",
      "source": [
        "torch.matmul(torch.rand(10,10),torch.rand(10,10))"
      ],
      "metadata": {
        "colab": {
          "base_uri": "https://localhost:8080/"
        },
        "id": "XHyspsAnh5Ak",
        "outputId": "2db1d94a-4c39-4332-edb1-5ba858d57325"
      },
      "execution_count": 590,
      "outputs": [
        {
          "output_type": "execute_result",
          "data": {
            "text/plain": [
              "tensor([[1.7967, 1.3860, 1.4148, 1.8787, 2.1049, 1.4680, 1.5216, 2.3253, 1.9774,\n",
              "         1.7164],\n",
              "        [2.2848, 2.1588, 3.4269, 2.2727, 3.4154, 2.5794, 2.6177, 3.0346, 2.5806,\n",
              "         2.9249],\n",
              "        [2.1579, 1.8461, 2.0956, 1.8853, 2.3249, 2.0084, 1.9112, 2.8253, 1.8896,\n",
              "         2.0470],\n",
              "        [2.2893, 2.1552, 2.5952, 2.0646, 3.0490, 2.0445, 2.2808, 2.7743, 2.4763,\n",
              "         2.5014],\n",
              "        [2.1666, 2.0798, 2.0511, 2.2861, 2.9348, 2.3221, 2.2489, 2.9612, 2.4486,\n",
              "         2.7287],\n",
              "        [1.2805, 1.1399, 1.6817, 0.9401, 1.8588, 1.5722, 1.1571, 2.0312, 1.5233,\n",
              "         1.4709],\n",
              "        [2.7570, 2.1294, 2.7685, 2.6862, 3.4575, 2.7673, 2.5174, 3.9940, 2.9718,\n",
              "         3.1618],\n",
              "        [1.9600, 1.7579, 2.8912, 1.5540, 2.4248, 2.0120, 2.0623, 2.5128, 1.7410,\n",
              "         2.0716],\n",
              "        [2.6561, 2.4766, 3.0821, 1.9098, 3.1827, 2.6270, 2.5171, 3.0475, 2.5009,\n",
              "         3.0120],\n",
              "        [2.1416, 2.2106, 2.7737, 2.1867, 3.2725, 2.6452, 2.3603, 3.3980, 2.5780,\n",
              "         2.4445]])"
            ]
          },
          "metadata": {},
          "execution_count": 590
        }
      ]
    },
    {
      "cell_type": "code",
      "source": [
        "#Elementwise multiplication\n",
        "print(tensor,\"*\",tensor)\n",
        "print(f\"Equals:{tensor * tensor}\")\n"
      ],
      "metadata": {
        "colab": {
          "base_uri": "https://localhost:8080/"
        },
        "id": "QHc3IlZeRPoG",
        "outputId": "bea73bf1-14f6-4253-ecaa-934f13a73248"
      },
      "execution_count": 591,
      "outputs": [
        {
          "output_type": "stream",
          "name": "stdout",
          "text": [
            "tensor([1, 2, 3]) * tensor([1, 2, 3])\n",
            "Equals:tensor([1, 4, 9])\n"
          ]
        }
      ]
    },
    {
      "cell_type": "code",
      "source": [
        "#matrix multiplication\n",
        "torch.matmul(tensor,tensor)"
      ],
      "metadata": {
        "colab": {
          "base_uri": "https://localhost:8080/"
        },
        "id": "POZrRMykacyp",
        "outputId": "d2b4fb56-91da-4551-b46f-9846ca8f480e"
      },
      "execution_count": 592,
      "outputs": [
        {
          "output_type": "execute_result",
          "data": {
            "text/plain": [
              "tensor(14)"
            ]
          },
          "metadata": {},
          "execution_count": 592
        }
      ]
    },
    {
      "cell_type": "code",
      "source": [
        "#matrix multiplication by hand\n",
        "1*1 + 2*2 + 3*3"
      ],
      "metadata": {
        "colab": {
          "base_uri": "https://localhost:8080/"
        },
        "id": "X6yJYNZMdsH5",
        "outputId": "85886039-c6da-4671-d2ae-779eb0a92eec"
      },
      "execution_count": 593,
      "outputs": [
        {
          "output_type": "execute_result",
          "data": {
            "text/plain": [
              "14"
            ]
          },
          "metadata": {},
          "execution_count": 593
        }
      ]
    },
    {
      "cell_type": "code",
      "source": [
        "%%time\n",
        "value = 0\n",
        "for i in range(len(tensor)):\n",
        "  value += tensor[i] * tensor[i]\n",
        "  print(value)\n",
        "\n"
      ],
      "metadata": {
        "colab": {
          "base_uri": "https://localhost:8080/"
        },
        "id": "KrKzgN0ae8-Y",
        "outputId": "ab39feed-a928-48b0-c13e-cab7f5685fcd"
      },
      "execution_count": 594,
      "outputs": [
        {
          "output_type": "stream",
          "name": "stdout",
          "text": [
            "tensor(1)\n",
            "tensor(5)\n",
            "tensor(14)\n",
            "CPU times: user 846 µs, sys: 0 ns, total: 846 µs\n",
            "Wall time: 853 µs\n"
          ]
        }
      ]
    },
    {
      "cell_type": "code",
      "source": [
        "tensor @ tensor"
      ],
      "metadata": {
        "colab": {
          "base_uri": "https://localhost:8080/"
        },
        "id": "9C1aDJn0gtbp",
        "outputId": "b4aa752f-d82f-432f-da04-50e55fe28874"
      },
      "execution_count": 595,
      "outputs": [
        {
          "output_type": "execute_result",
          "data": {
            "text/plain": [
              "tensor(14)"
            ]
          },
          "metadata": {},
          "execution_count": 595
        }
      ]
    },
    {
      "cell_type": "code",
      "source": [
        "%%time\n",
        "torch.matmul(tensor,tensor)"
      ],
      "metadata": {
        "colab": {
          "base_uri": "https://localhost:8080/"
        },
        "id": "lx3KAmazfaxP",
        "outputId": "4cbeb4a5-64a2-437c-8460-cc18d5e3b029"
      },
      "execution_count": 596,
      "outputs": [
        {
          "output_type": "stream",
          "name": "stdout",
          "text": [
            "CPU times: user 32 µs, sys: 2 µs, total: 34 µs\n",
            "Wall time: 36.5 µs\n"
          ]
        },
        {
          "output_type": "execute_result",
          "data": {
            "text/plain": [
              "tensor(14)"
            ]
          },
          "metadata": {},
          "execution_count": 596
        }
      ]
    },
    {
      "cell_type": "markdown",
      "source": [
        "### one of the most common errors in deep learning: shape errors"
      ],
      "metadata": {
        "id": "CKVSRRlxgFX5"
      }
    },
    {
      "cell_type": "code",
      "source": [
        " #Shape for matrix multiplication\n",
        "tensor_A = torch.tensor([[1, 2],\n",
        "                         [3, 4],\n",
        "                         [5, 6]])\n",
        "tensor_B = torch.tensor([[7, 10],\n",
        "                         [8, 11],\n",
        "                         [9, 12]])\n",
        "\n",
        "\n",
        "#torch.mm(tensor_A,tensor_B) #torch.mm is the same as torch.matmul (it's an alias for writing less code)\n",
        "torch.matmul(tensor_A, tensor_B.T)\n"
      ],
      "metadata": {
        "colab": {
          "base_uri": "https://localhost:8080/"
        },
        "id": "ehnumnLNftEC",
        "outputId": "4ff69d3c-29b3-4b76-c05e-cdde5b2ca265"
      },
      "execution_count": 597,
      "outputs": [
        {
          "output_type": "execute_result",
          "data": {
            "text/plain": [
              "tensor([[ 27,  30,  33],\n",
              "        [ 61,  68,  75],\n",
              "        [ 95, 106, 117]])"
            ]
          },
          "metadata": {},
          "execution_count": 597
        }
      ]
    },
    {
      "cell_type": "code",
      "source": [
        "tensor_A.shape, tensor_B.shape"
      ],
      "metadata": {
        "id": "R8P8pkSiCWp_",
        "outputId": "a2f45ee1-49bc-4f72-89e2-b7c8a179cb73",
        "colab": {
          "base_uri": "https://localhost:8080/"
        }
      },
      "execution_count": 598,
      "outputs": [
        {
          "output_type": "execute_result",
          "data": {
            "text/plain": [
              "(torch.Size([3, 2]), torch.Size([3, 2]))"
            ]
          },
          "metadata": {},
          "execution_count": 598
        }
      ]
    },
    {
      "cell_type": "markdown",
      "source": [
        "To fix our tensor shape issues, we can manipulate the shape of one of our tensors using a **transpose**.\n",
        "\n",
        "A **transpose** switches the axes or dimensions of a given tensor tensor"
      ],
      "metadata": {
        "id": "t2VnFdGFC3qf"
      }
    },
    {
      "cell_type": "code",
      "source": [
        "tensor_B,tensor_B.shape"
      ],
      "metadata": {
        "id": "sCtMDn2LCtaY",
        "outputId": "10dbc733-f482-4775-f775-ed96a7a4db0c",
        "colab": {
          "base_uri": "https://localhost:8080/"
        }
      },
      "execution_count": 599,
      "outputs": [
        {
          "output_type": "execute_result",
          "data": {
            "text/plain": [
              "(tensor([[ 7, 10],\n",
              "         [ 8, 11],\n",
              "         [ 9, 12]]),\n",
              " torch.Size([3, 2]))"
            ]
          },
          "metadata": {},
          "execution_count": 599
        }
      ]
    },
    {
      "cell_type": "code",
      "source": [
        "tensor_B.T, tensor_B.T.shape"
      ],
      "metadata": {
        "id": "nkOUlHm5D3yV",
        "outputId": "a9753c87-5f87-4f2f-c315-6847ed0c435e",
        "colab": {
          "base_uri": "https://localhost:8080/"
        }
      },
      "execution_count": 600,
      "outputs": [
        {
          "output_type": "execute_result",
          "data": {
            "text/plain": [
              "(tensor([[ 7,  8,  9],\n",
              "         [10, 11, 12]]),\n",
              " torch.Size([2, 3]))"
            ]
          },
          "metadata": {},
          "execution_count": 600
        }
      ]
    },
    {
      "cell_type": "markdown",
      "source": [],
      "metadata": {
        "id": "KwVKsdSK2EDw"
      }
    },
    {
      "cell_type": "code",
      "source": [
        "# The matrix multiplication operation works when tensor_B is transposed\n",
        "print(f\"Original shapes: tensor_A = {tensor_A.shape} , tensor_B = {tensor_B.shape}\")\n",
        "print(f\"New shapes: tensor_A = {tensor_A.shape} (same shape as above), tensor_B.T = {tensor_B.T.shape}\")\n",
        "print(f\"Multiplying : {tensor_A.shape} @ {tensor_B.T.shape} <- inner dimensions must match\")\n",
        "print(\"Output:\\n\")\n",
        "output = torch.matmul(tensor_A, tensor_B.T)\n",
        "print(output)\n",
        "torch.matmul(tensor_A, tensor_B.T)"
      ],
      "metadata": {
        "id": "4yOhfn5yD_6r",
        "colab": {
          "base_uri": "https://localhost:8080/"
        },
        "outputId": "7f9d51fc-41ab-48e1-fee6-cd0022a2950b"
      },
      "execution_count": 601,
      "outputs": [
        {
          "output_type": "stream",
          "name": "stdout",
          "text": [
            "Original shapes: tensor_A = torch.Size([3, 2]) , tensor_B = torch.Size([3, 2])\n",
            "New shapes: tensor_A = torch.Size([3, 2]) (same shape as above), tensor_B.T = torch.Size([2, 3])\n",
            "Multiplying : torch.Size([3, 2]) @ torch.Size([2, 3]) <- inner dimensions must match\n",
            "Output:\n",
            "\n",
            "tensor([[ 27,  30,  33],\n",
            "        [ 61,  68,  75],\n",
            "        [ 95, 106, 117]])\n"
          ]
        },
        {
          "output_type": "execute_result",
          "data": {
            "text/plain": [
              "tensor([[ 27,  30,  33],\n",
              "        [ 61,  68,  75],\n",
              "        [ 95, 106, 117]])"
            ]
          },
          "metadata": {},
          "execution_count": 601
        }
      ]
    },
    {
      "cell_type": "code",
      "source": [
        "print(f\"Original shapes : tensor_A = {tensor_A.shape} ,tensor_B = {tensor_B.shape}\")\n",
        "print(f\"New shapes:tensorA.T = {tensor_A.shape} (same shape as above), tensor_B = {tensor_B.T.shape}\")\n",
        "print(f\"Multiplying : {tensor_A.T.shape} @ {tensor_B.shape} <- inner dimension must match\")\n",
        "print(\"Output:\\n\")\n",
        "out = torch.matmul(tensor_A.T, tensor_B)\n",
        "print(output)"
      ],
      "metadata": {
        "colab": {
          "base_uri": "https://localhost:8080/"
        },
        "id": "nIU2dhAJds2N",
        "outputId": "730aafce-18d3-461c-e208-6a11ca8def7f"
      },
      "execution_count": 602,
      "outputs": [
        {
          "output_type": "stream",
          "name": "stdout",
          "text": [
            "Original shapes : tensor_A = torch.Size([3, 2]) ,tensor_B = torch.Size([3, 2])\n",
            "New shapes:tensorA.T = torch.Size([3, 2]) (same shape as above), tensor_B = torch.Size([2, 3])\n",
            "Multiplying : torch.Size([2, 3]) @ torch.Size([3, 2]) <- inner dimension must match\n",
            "Output:\n",
            "\n",
            "tensor([[ 27,  30,  33],\n",
            "        [ 61,  68,  75],\n",
            "        [ 95, 106, 117]])\n"
          ]
        }
      ]
    },
    {
      "cell_type": "markdown",
      "source": [
        "Finding the min ,max , mean, sum,etc (tensor aggregation)"
      ],
      "metadata": {
        "id": "OeDIFF7jiSNL"
      }
    },
    {
      "cell_type": "code",
      "source": [
        "#create a tensor\n",
        "x= torch.arange(1,100,10)\n",
        "x , x.dtype"
      ],
      "metadata": {
        "colab": {
          "base_uri": "https://localhost:8080/"
        },
        "id": "dqblxNC7hsaL",
        "outputId": "73c21eee-5319-4a7b-8319-f1e8a7036468"
      },
      "execution_count": 603,
      "outputs": [
        {
          "output_type": "execute_result",
          "data": {
            "text/plain": [
              "(tensor([ 1, 11, 21, 31, 41, 51, 61, 71, 81, 91]), torch.int64)"
            ]
          },
          "metadata": {},
          "execution_count": 603
        }
      ]
    },
    {
      "cell_type": "code",
      "source": [
        "# Find the main\n",
        "torch.min(x) , x.min()"
      ],
      "metadata": {
        "colab": {
          "base_uri": "https://localhost:8080/"
        },
        "id": "8zcBK01Wil1w",
        "outputId": "8f5a5d08-032c-4d8d-90dd-248afd09daa0"
      },
      "execution_count": 604,
      "outputs": [
        {
          "output_type": "execute_result",
          "data": {
            "text/plain": [
              "(tensor(1), tensor(1))"
            ]
          },
          "metadata": {},
          "execution_count": 604
        }
      ]
    },
    {
      "cell_type": "code",
      "source": [
        "#Find the mean - note: the torch.mean() function requires a tensor of float32 datatype to work\n",
        "torch.mean(x.type(torch.float32)) ,x.type(torch.float32).mean()"
      ],
      "metadata": {
        "colab": {
          "base_uri": "https://localhost:8080/"
        },
        "id": "mrqRwNeDitw9",
        "outputId": "fdca4a04-b184-436c-bcaa-c09ff61cd077"
      },
      "execution_count": 605,
      "outputs": [
        {
          "output_type": "execute_result",
          "data": {
            "text/plain": [
              "(tensor(46.), tensor(46.))"
            ]
          },
          "metadata": {},
          "execution_count": 605
        }
      ]
    },
    {
      "cell_type": "code",
      "source": [
        "#find the sum\n",
        "torch.sum(x), x.sum()"
      ],
      "metadata": {
        "colab": {
          "base_uri": "https://localhost:8080/"
        },
        "id": "sbK1VcxrjVzK",
        "outputId": "3f436526-544c-49cc-b718-5beeda2ab581"
      },
      "execution_count": 606,
      "outputs": [
        {
          "output_type": "execute_result",
          "data": {
            "text/plain": [
              "(tensor(460), tensor(460))"
            ]
          },
          "metadata": {},
          "execution_count": 606
        }
      ]
    },
    {
      "cell_type": "markdown",
      "source": [
        "## Finding the positional min max"
      ],
      "metadata": {
        "id": "-MLTVKaBkrxZ"
      }
    },
    {
      "cell_type": "code",
      "source": [
        "x"
      ],
      "metadata": {
        "colab": {
          "base_uri": "https://localhost:8080/"
        },
        "id": "Fx9mnnA0kJnm",
        "outputId": "8eed41e8-0e3a-4ff0-de91-f3c8fc3f09ba"
      },
      "execution_count": 607,
      "outputs": [
        {
          "output_type": "execute_result",
          "data": {
            "text/plain": [
              "tensor([ 1, 11, 21, 31, 41, 51, 61, 71, 81, 91])"
            ]
          },
          "metadata": {},
          "execution_count": 607
        }
      ]
    },
    {
      "cell_type": "code",
      "source": [
        "# find the position that has the min value with argminn() -> returns index position of the target tensor where the minimum value occurs\n",
        "x.argmin()"
      ],
      "metadata": {
        "id": "K4TT-4c2kwX2",
        "outputId": "48282757-4db0-44d8-9d11-6045da40b1a2",
        "colab": {
          "base_uri": "https://localhost:8080/"
        }
      },
      "execution_count": 608,
      "outputs": [
        {
          "output_type": "execute_result",
          "data": {
            "text/plain": [
              "tensor(0)"
            ]
          },
          "metadata": {},
          "execution_count": 608
        }
      ]
    },
    {
      "cell_type": "code",
      "source": [
        "#find the position in tensor that has the maximum value with argmax\n",
        "x.argmax()"
      ],
      "metadata": {
        "id": "-0y6J-PAk0y2",
        "colab": {
          "base_uri": "https://localhost:8080/"
        },
        "outputId": "af022a57-c7c1-43b0-8d3c-49c465e342e8"
      },
      "execution_count": 609,
      "outputs": [
        {
          "output_type": "execute_result",
          "data": {
            "text/plain": [
              "tensor(9)"
            ]
          },
          "metadata": {},
          "execution_count": 609
        }
      ]
    },
    {
      "cell_type": "code",
      "source": [
        "x[9]"
      ],
      "metadata": {
        "colab": {
          "base_uri": "https://localhost:8080/"
        },
        "id": "Kltx_9bwJpKc",
        "outputId": "f0c92ce2-3ada-4d78-f7ed-fae6dae43c88"
      },
      "execution_count": 610,
      "outputs": [
        {
          "output_type": "execute_result",
          "data": {
            "text/plain": [
              "tensor(91)"
            ]
          },
          "metadata": {},
          "execution_count": 610
        }
      ]
    },
    {
      "cell_type": "markdown",
      "source": [
        "# reshaping ,stacking , squeezing and unsquezzing tensore"
      ],
      "metadata": {
        "id": "VzwEA9NlKhjd"
      }
    },
    {
      "cell_type": "markdown",
      "source": [
        "* Reshaping - reshape an input tensor to a defined shape\n",
        "\n",
        "* view  - return a view of an input tensor of certain shape but keep the same memory as the original tensor\n",
        "\n",
        "* stacking - combine muultiple tensors on top of each other (vstack) or side by side (hstack)\n",
        "\n",
        "* squeeze - remove all dimension from a tensor\n",
        "\n",
        "* unsqueeze - add a dimension to a target tensor\n",
        "\n",
        "* permute - return a view of the input with dimension permute(swapped) in a certain way"
      ],
      "metadata": {
        "id": "zaWNMGEMKsiP"
      }
    },
    {
      "cell_type": "code",
      "source": [
        "# lets create a tesor\n",
        "import torch\n",
        "x = torch.arange(1.,10.)\n",
        "x, x.shape"
      ],
      "metadata": {
        "colab": {
          "base_uri": "https://localhost:8080/"
        },
        "id": "Df4_jNzTKiPh",
        "outputId": "75ec30ff-6e7c-480d-f695-167107d4344e"
      },
      "execution_count": 611,
      "outputs": [
        {
          "output_type": "execute_result",
          "data": {
            "text/plain": [
              "(tensor([1., 2., 3., 4., 5., 6., 7., 8., 9.]), torch.Size([9]))"
            ]
          },
          "metadata": {},
          "execution_count": 611
        }
      ]
    },
    {
      "cell_type": "code",
      "source": [
        "# add a extra dimension\n",
        "x_reshaped = x.reshape(1,9)\n",
        "x_reshaped, x_reshaped.shape"
      ],
      "metadata": {
        "colab": {
          "base_uri": "https://localhost:8080/"
        },
        "id": "9UQpnZykMKyu",
        "outputId": "b47c1aa0-a040-422f-edc2-78f0a5a24a01"
      },
      "execution_count": 612,
      "outputs": [
        {
          "output_type": "execute_result",
          "data": {
            "text/plain": [
              "(tensor([[1., 2., 3., 4., 5., 6., 7., 8., 9.]]), torch.Size([1, 9]))"
            ]
          },
          "metadata": {},
          "execution_count": 612
        }
      ]
    },
    {
      "cell_type": "code",
      "source": [
        "# change the view\n",
        "z = x.view(1,9)\n",
        "z, z.shape"
      ],
      "metadata": {
        "colab": {
          "base_uri": "https://localhost:8080/"
        },
        "id": "sG9tK8J_MjXl",
        "outputId": "36d38239-cd67-486e-bfd1-bc74af70780e"
      },
      "execution_count": 613,
      "outputs": [
        {
          "output_type": "execute_result",
          "data": {
            "text/plain": [
              "(tensor([[1., 2., 3., 4., 5., 6., 7., 8., 9.]]), torch.Size([1, 9]))"
            ]
          },
          "metadata": {},
          "execution_count": 613
        }
      ]
    },
    {
      "cell_type": "code",
      "source": [
        "#changing z changes x ( because a view of a tensor shares the saame memory as the original input)\n",
        "z[:,0] =5\n",
        "z, x"
      ],
      "metadata": {
        "colab": {
          "base_uri": "https://localhost:8080/"
        },
        "id": "VRhlgCX_NYvT",
        "outputId": "0055c14c-c0ca-42be-80a8-7e16233438c4"
      },
      "execution_count": 614,
      "outputs": [
        {
          "output_type": "execute_result",
          "data": {
            "text/plain": [
              "(tensor([[5., 2., 3., 4., 5., 6., 7., 8., 9.]]),\n",
              " tensor([5., 2., 3., 4., 5., 6., 7., 8., 9.]))"
            ]
          },
          "metadata": {},
          "execution_count": 614
        }
      ]
    },
    {
      "cell_type": "code",
      "source": [
        "# stack tensors on top of eachother\n",
        "x_stacked = torch.stack([x,x,x,x],dim=0 )\n",
        "x_stacked"
      ],
      "metadata": {
        "colab": {
          "base_uri": "https://localhost:8080/"
        },
        "id": "H9q-DJAMNtdb",
        "outputId": "60423d08-73d8-46b5-96af-0555b79f888d"
      },
      "execution_count": 615,
      "outputs": [
        {
          "output_type": "execute_result",
          "data": {
            "text/plain": [
              "tensor([[5., 2., 3., 4., 5., 6., 7., 8., 9.],\n",
              "        [5., 2., 3., 4., 5., 6., 7., 8., 9.],\n",
              "        [5., 2., 3., 4., 5., 6., 7., 8., 9.],\n",
              "        [5., 2., 3., 4., 5., 6., 7., 8., 9.]])"
            ]
          },
          "metadata": {},
          "execution_count": 615
        }
      ]
    },
    {
      "cell_type": "markdown",
      "source": [
        "squeeze"
      ],
      "metadata": {
        "id": "df_m41NaPtRR"
      }
    },
    {
      "cell_type": "code",
      "source": [
        "#tourch.squeeze() -- remove  all single dimensions from a target tensor\n",
        "print(f\"previous tensor: {x_reshaped}\")\n",
        "print(f\"previous shape: {x_reshaped.shape}\")\n",
        "\n",
        "#remove extra dimension from x_shaped\n",
        "x_squeezed = x_reshaped.squeeze()\n",
        "print(f\"\\nNew  tensor: {x_squeezed}\")\n",
        "print(f\"New shape: {x_squeezed.shape}\")"
      ],
      "metadata": {
        "colab": {
          "base_uri": "https://localhost:8080/"
        },
        "id": "NDfP79HXQmXl",
        "outputId": "3d7a0188-8212-469c-c5bb-ac31a30d5bd3"
      },
      "execution_count": 616,
      "outputs": [
        {
          "output_type": "stream",
          "name": "stdout",
          "text": [
            "previous tensor: tensor([[5., 2., 3., 4., 5., 6., 7., 8., 9.]])\n",
            "previous shape: torch.Size([1, 9])\n",
            "\n",
            "New  tensor: tensor([5., 2., 3., 4., 5., 6., 7., 8., 9.])\n",
            "New shape: torch.Size([9])\n"
          ]
        }
      ]
    },
    {
      "cell_type": "code",
      "source": [
        "#tourch.unsqueeze() -- remove  all single dimensions from a target tensor\n",
        "print(f\"previous target: {x_squeezed}\")\n",
        "print(f\"previous shape: {x_squeezed.shape}\")\n",
        "\n",
        "#add extra dimension from x_shaped\n",
        "x_unsqueezed = x_squeezed.unsqueeze(dim=0)\n",
        "print(f\"\\nNew  tensor: {x_unsqueezed}\")\n",
        "print(f\"New shape: {x_unsqueezed.shape}\")"
      ],
      "metadata": {
        "colab": {
          "base_uri": "https://localhost:8080/"
        },
        "id": "ZI1U9MhXUEUo",
        "outputId": "9045f505-e74b-4fa9-97d9-bdee84e012ed"
      },
      "execution_count": 617,
      "outputs": [
        {
          "output_type": "stream",
          "name": "stdout",
          "text": [
            "previous target: tensor([5., 2., 3., 4., 5., 6., 7., 8., 9.])\n",
            "previous shape: torch.Size([9])\n",
            "\n",
            "New  tensor: tensor([[5., 2., 3., 4., 5., 6., 7., 8., 9.]])\n",
            "New shape: torch.Size([1, 9])\n"
          ]
        }
      ]
    },
    {
      "cell_type": "code",
      "source": [
        "#torch.permute - reaarabges the dimensions of a target tensor in a specified order\n",
        "x_original = torch.rand(size=(224,224,3)) #[height,width,color_channels]\n",
        "\n",
        "# permute the original tensor to rearrange the axis (or dim) oredr\n",
        "x_permuted = x_original.permute(2,0,1) # shifts axis 0->1, 1->2,2->0\n",
        "\n",
        "print(f\"previous shape: {x_original.shape}\")\n",
        "print(f\"new shape: {x_permuted.shape}\") #[color_channel,height,width]"
      ],
      "metadata": {
        "colab": {
          "base_uri": "https://localhost:8080/"
        },
        "id": "R3pi1TXWUERR",
        "outputId": "174fb2a2-cee7-44d3-b066-88113100a693"
      },
      "execution_count": 618,
      "outputs": [
        {
          "output_type": "stream",
          "name": "stdout",
          "text": [
            "previous shape: torch.Size([224, 224, 3])\n",
            "new shape: torch.Size([3, 224, 224])\n"
          ]
        }
      ]
    },
    {
      "cell_type": "code",
      "source": [
        "x_original[0,0,0] = 728218\n",
        "x_original[0,0,0], x_permuted[0,0,0]"
      ],
      "metadata": {
        "colab": {
          "base_uri": "https://localhost:8080/"
        },
        "id": "DfB-pca2UEPA",
        "outputId": "77f6078f-747d-4a49-c4f1-4546933a5935"
      },
      "execution_count": 619,
      "outputs": [
        {
          "output_type": "execute_result",
          "data": {
            "text/plain": [
              "(tensor(728218.), tensor(728218.))"
            ]
          },
          "metadata": {},
          "execution_count": 619
        }
      ]
    },
    {
      "cell_type": "markdown",
      "source": [
        "## Indexing (selecting data from tensors)\n",
        "\n",
        "Indexing with Pytorch is similar to indexing with numpy"
      ],
      "metadata": {
        "id": "Pvl5HbYwZFiE"
      }
    },
    {
      "cell_type": "code",
      "source": [
        "# create a tensor\n",
        "import torch\n",
        "x = torch.arange(1,10).reshape(1,3,3)\n",
        "x, x.shape"
      ],
      "metadata": {
        "colab": {
          "base_uri": "https://localhost:8080/"
        },
        "id": "RqwhHzaoYns1",
        "outputId": "0083fa8d-45f5-41e0-d16e-e22785eedbca"
      },
      "execution_count": 620,
      "outputs": [
        {
          "output_type": "execute_result",
          "data": {
            "text/plain": [
              "(tensor([[[1, 2, 3],\n",
              "          [4, 5, 6],\n",
              "          [7, 8, 9]]]),\n",
              " torch.Size([1, 3, 3]))"
            ]
          },
          "metadata": {},
          "execution_count": 620
        }
      ]
    },
    {
      "cell_type": "code",
      "source": [
        "# lets a index on our new tensor\n",
        "x[0]"
      ],
      "metadata": {
        "colab": {
          "base_uri": "https://localhost:8080/"
        },
        "id": "D1rkx9_VZifp",
        "outputId": "9814ae50-7947-4136-8f49-d97348ed92b8"
      },
      "execution_count": 621,
      "outputs": [
        {
          "output_type": "execute_result",
          "data": {
            "text/plain": [
              "tensor([[1, 2, 3],\n",
              "        [4, 5, 6],\n",
              "        [7, 8, 9]])"
            ]
          },
          "metadata": {},
          "execution_count": 621
        }
      ]
    },
    {
      "cell_type": "code",
      "source": [
        "#lets index in middle bracket\n",
        "x[0,0]\n",
        "#x[0][0]"
      ],
      "metadata": {
        "colab": {
          "base_uri": "https://localhost:8080/"
        },
        "id": "WmoZvtlGZxKj",
        "outputId": "0f66aeee-05bb-4297-dded-598272d465db"
      },
      "execution_count": 622,
      "outputs": [
        {
          "output_type": "execute_result",
          "data": {
            "text/plain": [
              "tensor([1, 2, 3])"
            ]
          },
          "metadata": {},
          "execution_count": 622
        }
      ]
    },
    {
      "cell_type": "code",
      "source": [
        "# Lets index on the most innefr barcket (last dimension)\n",
        "x[0][1][1]"
      ],
      "metadata": {
        "colab": {
          "base_uri": "https://localhost:8080/"
        },
        "id": "_0WeZ7vPZ3Za",
        "outputId": "c606cf4a-a988-4564-ec73-1c0bcfe1123b"
      },
      "execution_count": 623,
      "outputs": [
        {
          "output_type": "execute_result",
          "data": {
            "text/plain": [
              "tensor(5)"
            ]
          },
          "metadata": {},
          "execution_count": 623
        }
      ]
    },
    {
      "cell_type": "code",
      "source": [
        "# you can also use \":\" to select \"all\" of a target dimension\n",
        "x[:,0]"
      ],
      "metadata": {
        "colab": {
          "base_uri": "https://localhost:8080/"
        },
        "id": "DzddBoLDaIdb",
        "outputId": "55f04afe-bfdf-4b2c-9b2e-847d90bd8ad2"
      },
      "execution_count": 624,
      "outputs": [
        {
          "output_type": "execute_result",
          "data": {
            "text/plain": [
              "tensor([[1, 2, 3]])"
            ]
          },
          "metadata": {},
          "execution_count": 624
        }
      ]
    },
    {
      "cell_type": "code",
      "source": [
        "# get all values of 0th and 1st dimension but only index 1 of the 2nd dimension\n",
        "x[:,:,1]"
      ],
      "metadata": {
        "colab": {
          "base_uri": "https://localhost:8080/"
        },
        "id": "D5VFe4qPapst",
        "outputId": "de137a15-a6c5-4ee9-8770-9c7aac160a1c"
      },
      "execution_count": 625,
      "outputs": [
        {
          "output_type": "execute_result",
          "data": {
            "text/plain": [
              "tensor([[2, 5, 8]])"
            ]
          },
          "metadata": {},
          "execution_count": 625
        }
      ]
    },
    {
      "cell_type": "code",
      "source": [
        "# get all values of the 0 dimension but only the 1 index value of 1st and 2nd dimension\n",
        "x[:,1,1]"
      ],
      "metadata": {
        "colab": {
          "base_uri": "https://localhost:8080/"
        },
        "id": "oeZyfrcxa3oC",
        "outputId": "8c4c74b6-7a65-49f7-c07f-83096b7f0f61"
      },
      "execution_count": 626,
      "outputs": [
        {
          "output_type": "execute_result",
          "data": {
            "text/plain": [
              "tensor([5])"
            ]
          },
          "metadata": {},
          "execution_count": 626
        }
      ]
    },
    {
      "cell_type": "code",
      "source": [
        "# get index o of 0th 1st dimension and all values of 2nd dimension\n",
        "x[0,0,:]"
      ],
      "metadata": {
        "colab": {
          "base_uri": "https://localhost:8080/"
        },
        "id": "ScMkThU3bQ4j",
        "outputId": "5c1ccbd8-d42a-4c8b-bcb3-90d107568a56"
      },
      "execution_count": 627,
      "outputs": [
        {
          "output_type": "execute_result",
          "data": {
            "text/plain": [
              "tensor([1, 2, 3])"
            ]
          },
          "metadata": {},
          "execution_count": 627
        }
      ]
    },
    {
      "cell_type": "code",
      "source": [
        "# index on x to return 9\n",
        "x[:,2,2]\n",
        "\n"
      ],
      "metadata": {
        "colab": {
          "base_uri": "https://localhost:8080/"
        },
        "id": "X6KMHEKYbkxE",
        "outputId": "32a332d9-45dc-4097-f8d4-7b291edee45c"
      },
      "execution_count": 628,
      "outputs": [
        {
          "output_type": "execute_result",
          "data": {
            "text/plain": [
              "tensor([9])"
            ]
          },
          "metadata": {},
          "execution_count": 628
        }
      ]
    },
    {
      "cell_type": "code",
      "source": [
        "# index on x to return 3\n",
        "x[:,0,2]\n"
      ],
      "metadata": {
        "colab": {
          "base_uri": "https://localhost:8080/"
        },
        "id": "sjmkaH-gdWpe",
        "outputId": "1e1772ea-3a14-4e5e-d039-4e0e87005271"
      },
      "execution_count": 629,
      "outputs": [
        {
          "output_type": "execute_result",
          "data": {
            "text/plain": [
              "tensor([3])"
            ]
          },
          "metadata": {},
          "execution_count": 629
        }
      ]
    },
    {
      "cell_type": "code",
      "source": [
        "# index on x return 6\n",
        "x[:,1,2]"
      ],
      "metadata": {
        "colab": {
          "base_uri": "https://localhost:8080/"
        },
        "id": "WfhuzuO8eSyM",
        "outputId": "ae2141f2-b5a0-423f-c940-ce9c98dc4111"
      },
      "execution_count": 630,
      "outputs": [
        {
          "output_type": "execute_result",
          "data": {
            "text/plain": [
              "tensor([6])"
            ]
          },
          "metadata": {},
          "execution_count": 630
        }
      ]
    },
    {
      "cell_type": "markdown",
      "source": [
        "## Pytorch tensor & Numpy\n",
        "\n",
        "Numpy is a popular scientific python numerical computing library.\n",
        "\n",
        "and because of this ,pytorch has functionality to  intercat with it.\n",
        "\n",
        "* Data in Numpy want in Pytorch tensor -> torch.form_numpy(ndarray)\n",
        "\n",
        "* PyTorch tensor -> Numpy -> torch.Tensor.numpy()"
      ],
      "metadata": {
        "id": "GbgvRazcfdK1"
      }
    },
    {
      "cell_type": "code",
      "source": [
        "# Numpy array to tensor\n",
        "import torch\n",
        "import numpy as np\n",
        "\n",
        "array = np.arange(1.0,8.0)\n",
        "tensor = torch.from_numpy(array)\n",
        "#tensor = torch.from_numpy(array).type(torch.float32)\n",
        "#warning : when converting from numpy -> pytorch , pytorch reflects numpy's default datatype of float64 unless specified otherwise\n",
        "array, tensor\n"
      ],
      "metadata": {
        "colab": {
          "base_uri": "https://localhost:8080/"
        },
        "id": "fvwXppUMetsX",
        "outputId": "3ef627ec-422f-425d-9d47-2b95d03a4b84"
      },
      "execution_count": 631,
      "outputs": [
        {
          "output_type": "execute_result",
          "data": {
            "text/plain": [
              "(array([1., 2., 3., 4., 5., 6., 7.]),\n",
              " tensor([1., 2., 3., 4., 5., 6., 7.], dtype=torch.float64))"
            ]
          },
          "metadata": {},
          "execution_count": 631
        }
      ]
    },
    {
      "cell_type": "code",
      "source": [
        "array.dtype"
      ],
      "metadata": {
        "colab": {
          "base_uri": "https://localhost:8080/"
        },
        "id": "Hnec7KKChPUG",
        "outputId": "d654aee5-effd-4dc9-9014-198b25633b11"
      },
      "execution_count": 632,
      "outputs": [
        {
          "output_type": "execute_result",
          "data": {
            "text/plain": [
              "dtype('float64')"
            ]
          },
          "metadata": {},
          "execution_count": 632
        }
      ]
    },
    {
      "cell_type": "code",
      "source": [
        " #torch.arange(1.0,8.0).dtype"
      ],
      "metadata": {
        "id": "LqCng9mthVfa"
      },
      "execution_count": 633,
      "outputs": []
    },
    {
      "cell_type": "code",
      "source": [
        "# change the value of array, what will this do to 'tensor'?\n",
        "array = array + 1\n",
        "array, tensor"
      ],
      "metadata": {
        "colab": {
          "base_uri": "https://localhost:8080/"
        },
        "id": "Eg13cJvkhcEb",
        "outputId": "05b20d94-464b-40f3-bef8-92bd17929b33"
      },
      "execution_count": 634,
      "outputs": [
        {
          "output_type": "execute_result",
          "data": {
            "text/plain": [
              "(array([2., 3., 4., 5., 6., 7., 8.]),\n",
              " tensor([1., 2., 3., 4., 5., 6., 7.], dtype=torch.float64))"
            ]
          },
          "metadata": {},
          "execution_count": 634
        }
      ]
    },
    {
      "cell_type": "code",
      "source": [
        "# tensor to numpy array\n",
        "tensor= torch.ones(7)\n",
        "numpy_tensor = tensor.numpy()\n",
        "tensor,numpy_tensor"
      ],
      "metadata": {
        "colab": {
          "base_uri": "https://localhost:8080/"
        },
        "id": "WqJTiL_rhmaN",
        "outputId": "d38676c4-466e-49b7-b51e-9f51b7a8ec9b"
      },
      "execution_count": 635,
      "outputs": [
        {
          "output_type": "execute_result",
          "data": {
            "text/plain": [
              "(tensor([1., 1., 1., 1., 1., 1., 1.]),\n",
              " array([1., 1., 1., 1., 1., 1., 1.], dtype=float32))"
            ]
          },
          "metadata": {},
          "execution_count": 635
        }
      ]
    },
    {
      "cell_type": "code",
      "source": [
        "# change the tensor , what happens to 'numpy_tensor'\n",
        "tensor = tensor +1\n",
        "tensor, numpy_tensor"
      ],
      "metadata": {
        "colab": {
          "base_uri": "https://localhost:8080/"
        },
        "id": "rtKZfGMWipkS",
        "outputId": "cc00ec01-0d82-4ecb-f058-95a0bef090b1"
      },
      "execution_count": 636,
      "outputs": [
        {
          "output_type": "execute_result",
          "data": {
            "text/plain": [
              "(tensor([2., 2., 2., 2., 2., 2., 2.]),\n",
              " array([1., 1., 1., 1., 1., 1., 1.], dtype=float32))"
            ]
          },
          "metadata": {},
          "execution_count": 636
        }
      ]
    },
    {
      "cell_type": "markdown",
      "source": [
        "## Reproducbility (trying to take random out of random)\n",
        "\n",
        "In short how a neural network learns:\n",
        "\n",
        "start with random numbers -> tensor operations -> update random no.s to try and make them representations of the data -> again -> again p> again ...\n",
        "\n",
        "To reduce the randomness in neural networks and Pytorch comes the concept of random seed\n",
        "\n",
        "Esentially what the random seed does in the 'flavor' the randomness"
      ],
      "metadata": {
        "id": "OHgIDRpljmpS"
      }
    },
    {
      "cell_type": "code",
      "source": [
        "import torch\n",
        "# create two rand tensores\n",
        "random_tensor_A = torch.rand(3,4)\n",
        "random_tensor_B = torch.rand(3,4)\n",
        "\n",
        "print(random_tensor_A)\n",
        "print(random_tensor_B)\n",
        "print(random_tensor_A == random_tensor_B)"
      ],
      "metadata": {
        "colab": {
          "base_uri": "https://localhost:8080/"
        },
        "id": "NILNP_VRjN2h",
        "outputId": "bdc48145-8c69-4789-965e-9441f79566ae"
      },
      "execution_count": 637,
      "outputs": [
        {
          "output_type": "stream",
          "name": "stdout",
          "text": [
            "tensor([[0.8332, 0.7023, 0.4270, 0.6586],\n",
            "        [0.5470, 0.4800, 0.2772, 0.1138],\n",
            "        [0.4881, 0.7320, 0.1234, 0.5644]])\n",
            "tensor([[0.5319, 0.3139, 0.2529, 0.8878],\n",
            "        [0.9707, 0.9969, 0.5104, 0.3762],\n",
            "        [0.0902, 0.1828, 0.1789, 0.6006]])\n",
            "tensor([[False, False, False, False],\n",
            "        [False, False, False, False],\n",
            "        [False, False, False, False]])\n"
          ]
        }
      ]
    },
    {
      "cell_type": "code",
      "source": [
        "del torch   # deletes the overwritten int variable\n",
        "import torch\n"
      ],
      "metadata": {
        "id": "ipIL3StinRmP"
      },
      "execution_count": 638,
      "outputs": []
    },
    {
      "cell_type": "code",
      "source": [
        "# lets make rand but reproducable tensors\n",
        "import torch\n",
        "\n",
        "RANDOM_SEED = 42\n",
        "torch.manual_seed(RANDOM_SEED)\n",
        "\n",
        "random_tensor_C = torch.rand(3,4)   # first tensor\n",
        "\n",
        "# no reseed here\n",
        "random_tensor_D = torch.rand(3,4)   # second tensor continues RNG\n",
        "\n",
        "print(random_tensor_C)\n",
        "print(random_tensor_D)\n",
        "print(random_tensor_C == random_tensor_D)\n"
      ],
      "metadata": {
        "colab": {
          "base_uri": "https://localhost:8080/",
          "height": 218
        },
        "id": "OZQ7Z_4RkJyp",
        "outputId": "797ba9b2-fd1e-43a0-f2f2-116837cb9790"
      },
      "execution_count": 639,
      "outputs": [
        {
          "output_type": "error",
          "ename": "TypeError",
          "evalue": "'int' object is not callable",
          "traceback": [
            "\u001b[0;31m---------------------------------------------------------------------------\u001b[0m",
            "\u001b[0;31mTypeError\u001b[0m                                 Traceback (most recent call last)",
            "\u001b[0;32m/tmp/ipython-input-3686253916.py\u001b[0m in \u001b[0;36m<cell line: 0>\u001b[0;34m()\u001b[0m\n\u001b[1;32m      3\u001b[0m \u001b[0;34m\u001b[0m\u001b[0m\n\u001b[1;32m      4\u001b[0m \u001b[0mRANDOM_SEED\u001b[0m \u001b[0;34m=\u001b[0m \u001b[0;36m42\u001b[0m\u001b[0;34m\u001b[0m\u001b[0;34m\u001b[0m\u001b[0m\n\u001b[0;32m----> 5\u001b[0;31m \u001b[0mtorch\u001b[0m\u001b[0;34m.\u001b[0m\u001b[0mmanual_seed\u001b[0m\u001b[0;34m(\u001b[0m\u001b[0mRANDOM_SEED\u001b[0m\u001b[0;34m)\u001b[0m\u001b[0;34m\u001b[0m\u001b[0;34m\u001b[0m\u001b[0m\n\u001b[0m\u001b[1;32m      6\u001b[0m \u001b[0;34m\u001b[0m\u001b[0m\n\u001b[1;32m      7\u001b[0m \u001b[0mrandom_tensor_C\u001b[0m \u001b[0;34m=\u001b[0m \u001b[0mtorch\u001b[0m\u001b[0;34m.\u001b[0m\u001b[0mrand\u001b[0m\u001b[0;34m(\u001b[0m\u001b[0;36m3\u001b[0m\u001b[0;34m,\u001b[0m\u001b[0;36m4\u001b[0m\u001b[0;34m)\u001b[0m   \u001b[0;31m# first tensor\u001b[0m\u001b[0;34m\u001b[0m\u001b[0;34m\u001b[0m\u001b[0m\n",
            "\u001b[0;31mTypeError\u001b[0m: 'int' object is not callable"
          ]
        }
      ]
    },
    {
      "cell_type": "code",
      "source": [],
      "metadata": {
        "id": "i6pXzua6lytH"
      },
      "execution_count": null,
      "outputs": []
    }
  ]
}