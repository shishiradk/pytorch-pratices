{
  "nbformat": 4,
  "nbformat_minor": 0,
  "metadata": {
    "colab": {
      "provenance": [],
      "gpuType": "T4",
      "authorship_tag": "ABX9TyNdcEPTmh2ZSIvsUeV4YZdG",
      "include_colab_link": true
    },
    "kernelspec": {
      "name": "python3",
      "display_name": "Python 3"
    },
    "language_info": {
      "name": "python"
    },
    "accelerator": "GPU"
  },
  "cells": [
    {
      "cell_type": "markdown",
      "metadata": {
        "id": "view-in-github",
        "colab_type": "text"
      },
      "source": [
        "<a href=\"https://colab.research.google.com/github/shishiradk/pytorch-pratices/blob/main/pytorch.ipynb\" target=\"_parent\"><img src=\"https://colab.research.google.com/assets/colab-badge.svg\" alt=\"Open In Colab\"/></a>"
      ]
    },
    {
      "cell_type": "code",
      "execution_count": 181,
      "metadata": {
        "colab": {
          "base_uri": "https://localhost:8080/"
        },
        "id": "Ipxmmm-BuHoq",
        "outputId": "224ddb85-021f-4982-8234-f1bd9cc04ba1"
      },
      "outputs": [
        {
          "output_type": "stream",
          "name": "stdout",
          "text": [
            "Sun Aug 24 04:08:56 2025       \n",
            "+-----------------------------------------------------------------------------------------+\n",
            "| NVIDIA-SMI 550.54.15              Driver Version: 550.54.15      CUDA Version: 12.4     |\n",
            "|-----------------------------------------+------------------------+----------------------+\n",
            "| GPU  Name                 Persistence-M | Bus-Id          Disp.A | Volatile Uncorr. ECC |\n",
            "| Fan  Temp   Perf          Pwr:Usage/Cap |           Memory-Usage | GPU-Util  Compute M. |\n",
            "|                                         |                        |               MIG M. |\n",
            "|=========================================+========================+======================|\n",
            "|   0  Tesla T4                       Off |   00000000:00:04.0 Off |                    0 |\n",
            "| N/A   37C    P8              9W /   70W |       0MiB /  15360MiB |      0%      Default |\n",
            "|                                         |                        |                  N/A |\n",
            "+-----------------------------------------+------------------------+----------------------+\n",
            "                                                                                         \n",
            "+-----------------------------------------------------------------------------------------+\n",
            "| Processes:                                                                              |\n",
            "|  GPU   GI   CI        PID   Type   Process name                              GPU Memory |\n",
            "|        ID   ID                                                               Usage      |\n",
            "|=========================================================================================|\n",
            "|  No running processes found                                                             |\n",
            "+-----------------------------------------------------------------------------------------+\n"
          ]
        }
      ],
      "source": [
        "!nvidia-smi\n"
      ]
    },
    {
      "cell_type": "code",
      "source": [
        "import numpy as np\n",
        "import pandas as pd\n",
        "import matplotlib.pyplot as plt\n",
        "import torch\n",
        "print(torch.__version__)"
      ],
      "metadata": {
        "colab": {
          "base_uri": "https://localhost:8080/"
        },
        "id": "eZa8yggluhDq",
        "outputId": "77d47803-92a9-4480-a1cf-77f7f2d2e18b"
      },
      "execution_count": 182,
      "outputs": [
        {
          "output_type": "stream",
          "name": "stdout",
          "text": [
            "2.8.0+cu126\n"
          ]
        }
      ]
    },
    {
      "cell_type": "markdown",
      "source": [
        "introduction to tensors\n",
        "creating tensor"
      ],
      "metadata": {
        "id": "0T04eZk0w0gf"
      }
    },
    {
      "cell_type": "markdown",
      "source": [],
      "metadata": {
        "id": "BRYigiaOw3Fh"
      }
    },
    {
      "cell_type": "code",
      "source": [
        "#scalar\n",
        "scalar = torch.tensor(7)\n",
        "scalar\n"
      ],
      "metadata": {
        "colab": {
          "base_uri": "https://localhost:8080/"
        },
        "id": "E78psR9bwJyK",
        "outputId": "2bca90e2-92cc-44c2-a8da-208f231250ef"
      },
      "execution_count": 183,
      "outputs": [
        {
          "output_type": "execute_result",
          "data": {
            "text/plain": [
              "tensor(7)"
            ]
          },
          "metadata": {},
          "execution_count": 183
        }
      ]
    },
    {
      "cell_type": "code",
      "source": [
        "scalar.ndim"
      ],
      "metadata": {
        "colab": {
          "base_uri": "https://localhost:8080/"
        },
        "id": "IqIfhYWywrSG",
        "outputId": "930d443c-b38b-4787-eeba-5067bd3f65a0"
      },
      "execution_count": 184,
      "outputs": [
        {
          "output_type": "execute_result",
          "data": {
            "text/plain": [
              "0"
            ]
          },
          "metadata": {},
          "execution_count": 184
        }
      ]
    },
    {
      "cell_type": "code",
      "source": [
        "#get tensor back as python int\n",
        "scalar.item()"
      ],
      "metadata": {
        "colab": {
          "base_uri": "https://localhost:8080/"
        },
        "id": "g57NNznbyB6a",
        "outputId": "c7834c90-ffe6-400a-ed85-c8a80f59d279"
      },
      "execution_count": 185,
      "outputs": [
        {
          "output_type": "execute_result",
          "data": {
            "text/plain": [
              "7"
            ]
          },
          "metadata": {},
          "execution_count": 185
        }
      ]
    },
    {
      "cell_type": "code",
      "source": [
        "#vector\n",
        "vector = torch.tensor([7,7])\n",
        "vector"
      ],
      "metadata": {
        "colab": {
          "base_uri": "https://localhost:8080/"
        },
        "id": "am4C3NNzyOLN",
        "outputId": "012ef8f0-9383-49f1-d4d6-c4a75d8b1d54"
      },
      "execution_count": 186,
      "outputs": [
        {
          "output_type": "execute_result",
          "data": {
            "text/plain": [
              "tensor([7, 7])"
            ]
          },
          "metadata": {},
          "execution_count": 186
        }
      ]
    },
    {
      "cell_type": "code",
      "source": [
        "vector.ndim"
      ],
      "metadata": {
        "colab": {
          "base_uri": "https://localhost:8080/"
        },
        "id": "UG3w44iRyh9b",
        "outputId": "2bb55fa2-29bc-4cb8-9b52-23fb58d249e0"
      },
      "execution_count": 187,
      "outputs": [
        {
          "output_type": "execute_result",
          "data": {
            "text/plain": [
              "1"
            ]
          },
          "metadata": {},
          "execution_count": 187
        }
      ]
    },
    {
      "cell_type": "code",
      "source": [
        "vector.shape"
      ],
      "metadata": {
        "colab": {
          "base_uri": "https://localhost:8080/"
        },
        "id": "T4ieiQRyymB1",
        "outputId": "79503902-cb21-41c0-fd0e-33b774b1b20f"
      },
      "execution_count": 188,
      "outputs": [
        {
          "output_type": "execute_result",
          "data": {
            "text/plain": [
              "torch.Size([2])"
            ]
          },
          "metadata": {},
          "execution_count": 188
        }
      ]
    },
    {
      "cell_type": "code",
      "source": [
        "#matrix\n",
        "MATRIX = torch.tensor([[7,8],\n",
        "                      [9,10]])\n",
        "MATRIX\n"
      ],
      "metadata": {
        "colab": {
          "base_uri": "https://localhost:8080/"
        },
        "id": "wexINEwqyolb",
        "outputId": "83e5bdb6-8142-4531-ad12-0ef778fadec4"
      },
      "execution_count": 189,
      "outputs": [
        {
          "output_type": "execute_result",
          "data": {
            "text/plain": [
              "tensor([[ 7,  8],\n",
              "        [ 9, 10]])"
            ]
          },
          "metadata": {},
          "execution_count": 189
        }
      ]
    },
    {
      "cell_type": "code",
      "source": [
        "MATRIX.ndim"
      ],
      "metadata": {
        "colab": {
          "base_uri": "https://localhost:8080/"
        },
        "id": "Xm7PGAG1zEBZ",
        "outputId": "75e17b60-8c74-4659-92f9-466869b7ad85"
      },
      "execution_count": 190,
      "outputs": [
        {
          "output_type": "execute_result",
          "data": {
            "text/plain": [
              "2"
            ]
          },
          "metadata": {},
          "execution_count": 190
        }
      ]
    },
    {
      "cell_type": "code",
      "source": [
        "MATRIX[1]"
      ],
      "metadata": {
        "colab": {
          "base_uri": "https://localhost:8080/"
        },
        "id": "EvoOzPJdzIgd",
        "outputId": "eafdb780-1fbb-4311-b50d-178e112bd588"
      },
      "execution_count": 191,
      "outputs": [
        {
          "output_type": "execute_result",
          "data": {
            "text/plain": [
              "tensor([ 9, 10])"
            ]
          },
          "metadata": {},
          "execution_count": 191
        }
      ]
    },
    {
      "cell_type": "code",
      "source": [
        "MATRIX.shape"
      ],
      "metadata": {
        "colab": {
          "base_uri": "https://localhost:8080/"
        },
        "id": "6eSRxHX2zOS4",
        "outputId": "23405cc6-7d39-4793-fa14-451454e33393"
      },
      "execution_count": 192,
      "outputs": [
        {
          "output_type": "execute_result",
          "data": {
            "text/plain": [
              "torch.Size([2, 2])"
            ]
          },
          "metadata": {},
          "execution_count": 192
        }
      ]
    },
    {
      "cell_type": "code",
      "source": [
        "#TENSOR\n",
        "TENSOR = torch.tensor([[[1,2,4],\n",
        "                         [2,3,4],\n",
        "                         [4,5,6]]])"
      ],
      "metadata": {
        "id": "8950TfPczRPv"
      },
      "execution_count": 193,
      "outputs": []
    },
    {
      "cell_type": "code",
      "source": [
        "TENSOR"
      ],
      "metadata": {
        "colab": {
          "base_uri": "https://localhost:8080/"
        },
        "id": "SJ2MSdj7zqLW",
        "outputId": "b5dd6c72-6b6c-4a10-a0cc-a19fc6947e11"
      },
      "execution_count": 194,
      "outputs": [
        {
          "output_type": "execute_result",
          "data": {
            "text/plain": [
              "tensor([[[1, 2, 4],\n",
              "         [2, 3, 4],\n",
              "         [4, 5, 6]]])"
            ]
          },
          "metadata": {},
          "execution_count": 194
        }
      ]
    },
    {
      "cell_type": "code",
      "source": [
        "TENSOR.ndim"
      ],
      "metadata": {
        "colab": {
          "base_uri": "https://localhost:8080/"
        },
        "id": "LUFlW-blztOy",
        "outputId": "a8928542-54f1-4633-c0d0-64b59f32ac25"
      },
      "execution_count": 195,
      "outputs": [
        {
          "output_type": "execute_result",
          "data": {
            "text/plain": [
              "3"
            ]
          },
          "metadata": {},
          "execution_count": 195
        }
      ]
    },
    {
      "cell_type": "code",
      "source": [
        "TENSOR.shape"
      ],
      "metadata": {
        "colab": {
          "base_uri": "https://localhost:8080/"
        },
        "id": "NOi9qPb9zvmF",
        "outputId": "e868c679-296a-48bc-affc-f80e0f5815b4"
      },
      "execution_count": 196,
      "outputs": [
        {
          "output_type": "execute_result",
          "data": {
            "text/plain": [
              "torch.Size([1, 3, 3])"
            ]
          },
          "metadata": {},
          "execution_count": 196
        }
      ]
    },
    {
      "cell_type": "code",
      "source": [
        "TENSOR[0]"
      ],
      "metadata": {
        "colab": {
          "base_uri": "https://localhost:8080/"
        },
        "id": "6eeTCFwtzyJi",
        "outputId": "dfbc4fdb-310c-421c-eef3-d119a3c33120"
      },
      "execution_count": 197,
      "outputs": [
        {
          "output_type": "execute_result",
          "data": {
            "text/plain": [
              "tensor([[1, 2, 4],\n",
              "        [2, 3, 4],\n",
              "        [4, 5, 6]])"
            ]
          },
          "metadata": {},
          "execution_count": 197
        }
      ]
    },
    {
      "cell_type": "code",
      "source": [
        "TENSOR = torch.tensor([[[6,7,8],\n",
        "                        [5,6,7],\n",
        "                        [4,5,6]]])\n",
        "TENSOR"
      ],
      "metadata": {
        "colab": {
          "base_uri": "https://localhost:8080/"
        },
        "id": "ET2lqt--z0gu",
        "outputId": "2954f30d-d9a7-459c-8cb7-22b647294128"
      },
      "execution_count": 198,
      "outputs": [
        {
          "output_type": "execute_result",
          "data": {
            "text/plain": [
              "tensor([[[6, 7, 8],\n",
              "         [5, 6, 7],\n",
              "         [4, 5, 6]]])"
            ]
          },
          "metadata": {},
          "execution_count": 198
        }
      ]
    },
    {
      "cell_type": "code",
      "source": [
        "TENSOR.ndim"
      ],
      "metadata": {
        "colab": {
          "base_uri": "https://localhost:8080/"
        },
        "id": "CsuKrOcMz27a",
        "outputId": "a406a5a8-445d-42f9-a7e2-2f5b0dd158f7"
      },
      "execution_count": 199,
      "outputs": [
        {
          "output_type": "execute_result",
          "data": {
            "text/plain": [
              "3"
            ]
          },
          "metadata": {},
          "execution_count": 199
        }
      ]
    },
    {
      "cell_type": "code",
      "source": [
        "TENSOR.shape"
      ],
      "metadata": {
        "colab": {
          "base_uri": "https://localhost:8080/"
        },
        "id": "B0LmokBZ_UwJ",
        "outputId": "1b173f22-9a85-44e2-afbe-25c7ed9e0d5f"
      },
      "execution_count": 200,
      "outputs": [
        {
          "output_type": "execute_result",
          "data": {
            "text/plain": [
              "torch.Size([1, 3, 3])"
            ]
          },
          "metadata": {},
          "execution_count": 200
        }
      ]
    },
    {
      "cell_type": "code",
      "source": [
        "TENSOR[0]"
      ],
      "metadata": {
        "colab": {
          "base_uri": "https://localhost:8080/"
        },
        "id": "xUU7BC75_YAa",
        "outputId": "cd20f0dc-69e4-4bf7-d486-b7f17bf8ae84"
      },
      "execution_count": 201,
      "outputs": [
        {
          "output_type": "execute_result",
          "data": {
            "text/plain": [
              "tensor([[6, 7, 8],\n",
              "        [5, 6, 7],\n",
              "        [4, 5, 6]])"
            ]
          },
          "metadata": {},
          "execution_count": 201
        }
      ]
    },
    {
      "cell_type": "code",
      "source": [
        "#create a random tensor of size (3,4)\n",
        "random_tensor = torch.rand(10,10,10)\n",
        "random_tensor"
      ],
      "metadata": {
        "colab": {
          "base_uri": "https://localhost:8080/"
        },
        "id": "gTsFrcdZ_coi",
        "outputId": "e0c29eff-7643-4bde-bb6a-411ff6eef60f"
      },
      "execution_count": 202,
      "outputs": [
        {
          "output_type": "execute_result",
          "data": {
            "text/plain": [
              "tensor([[[0.3464, 0.5311, 0.1786, 0.8315, 0.2647, 0.1120, 0.8697, 0.4339,\n",
              "          0.5210, 0.3205],\n",
              "         [0.9373, 0.7788, 0.0065, 0.6029, 0.4733, 0.4155, 0.8211, 0.7446,\n",
              "          0.0295, 0.8929],\n",
              "         [0.6946, 0.7601, 0.4400, 0.5831, 0.3633, 0.3809, 0.0530, 0.8394,\n",
              "          0.5716, 0.5299],\n",
              "         [0.2009, 0.3150, 0.3439, 0.8397, 0.7445, 0.8814, 0.6995, 0.9077,\n",
              "          0.6609, 0.3849],\n",
              "         [0.7533, 0.2504, 0.3460, 0.9711, 0.4800, 0.0064, 0.1411, 0.0795,\n",
              "          0.0048, 0.5585],\n",
              "         [0.3238, 0.9623, 0.6053, 0.5894, 0.1389, 0.5668, 0.6751, 0.9231,\n",
              "          0.9592, 0.1806],\n",
              "         [0.9285, 0.4112, 0.4884, 0.2840, 0.7645, 0.7092, 0.0832, 0.7557,\n",
              "          0.0180, 0.8804],\n",
              "         [0.6558, 0.2811, 0.3805, 0.2868, 0.1786, 0.4671, 0.5768, 0.7294,\n",
              "          0.2742, 0.8646],\n",
              "         [0.8709, 0.4262, 0.0171, 0.2222, 0.9701, 0.0343, 0.3836, 0.9029,\n",
              "          0.0066, 0.9329],\n",
              "         [0.7506, 0.9747, 0.4588, 0.4578, 0.7278, 0.4342, 0.1249, 0.6629,\n",
              "          0.8775, 0.9041]],\n",
              "\n",
              "        [[0.2067, 0.0058, 0.2296, 0.9326, 0.9637, 0.7855, 0.6373, 0.3479,\n",
              "          0.4681, 0.3910],\n",
              "         [0.4576, 0.9194, 0.1351, 0.7253, 0.5548, 0.6749, 0.7716, 0.8742,\n",
              "          0.7520, 0.4884],\n",
              "         [0.2147, 0.4578, 0.6107, 0.7453, 0.8600, 0.3186, 0.4502, 0.9759,\n",
              "          0.1640, 0.7019],\n",
              "         [0.0326, 0.3887, 0.8133, 0.2780, 0.9561, 0.6982, 0.1404, 0.4589,\n",
              "          0.7153, 0.9800],\n",
              "         [0.4330, 0.5560, 0.6875, 0.7230, 0.3831, 0.0023, 0.4597, 0.4033,\n",
              "          0.2854, 0.3742],\n",
              "         [0.2902, 0.9731, 0.7206, 0.7361, 0.5739, 0.2607, 0.9982, 0.0103,\n",
              "          0.6640, 0.9888],\n",
              "         [0.9005, 0.6962, 0.3889, 0.1964, 0.4005, 0.3115, 0.4635, 0.0357,\n",
              "          0.7848, 0.1908],\n",
              "         [0.4045, 0.4981, 0.3093, 0.5251, 0.8959, 0.2157, 0.5866, 0.4649,\n",
              "          0.2067, 0.3136],\n",
              "         [0.7017, 0.4221, 0.8666, 0.2225, 0.2804, 0.9761, 0.2022, 0.9222,\n",
              "          0.4725, 0.8106],\n",
              "         [0.8415, 0.3049, 0.4727, 0.5106, 0.6266, 0.9699, 0.9885, 0.9867,\n",
              "          0.5259, 0.3961]],\n",
              "\n",
              "        [[0.1076, 0.7160, 0.0269, 0.7139, 0.1850, 0.1914, 0.4909, 0.5272,\n",
              "          0.5461, 0.2963],\n",
              "         [0.5701, 0.4061, 0.2430, 0.0627, 0.1566, 0.6336, 0.0074, 0.2728,\n",
              "          0.0672, 0.5009],\n",
              "         [0.8847, 0.4621, 0.1071, 0.1064, 0.9984, 0.6347, 0.2883, 0.6747,\n",
              "          0.6728, 0.6096],\n",
              "         [0.4369, 0.4294, 0.7756, 0.6899, 0.7203, 0.1428, 0.6846, 0.2445,\n",
              "          0.4000, 0.1270],\n",
              "         [0.6388, 0.5107, 0.6099, 0.2843, 0.0540, 0.6931, 0.5324, 0.2264,\n",
              "          0.5540, 0.5053],\n",
              "         [0.7982, 0.0604, 0.1629, 0.4011, 0.5322, 0.7443, 0.2601, 0.1473,\n",
              "          0.3040, 0.3096],\n",
              "         [0.3126, 0.5065, 0.5449, 0.3122, 0.6330, 0.2152, 0.1659, 0.4417,\n",
              "          0.0540, 0.2897],\n",
              "         [0.4797, 0.7940, 0.7339, 0.0354, 0.6446, 0.8817, 0.8309, 0.6231,\n",
              "          0.9338, 0.4843],\n",
              "         [0.1210, 0.0178, 0.4625, 0.1969, 0.1829, 0.5469, 0.9714, 0.3947,\n",
              "          0.7683, 0.4643],\n",
              "         [0.0659, 0.8473, 0.2795, 0.5750, 0.2060, 0.0122, 0.5920, 0.4715,\n",
              "          0.6327, 0.0785]],\n",
              "\n",
              "        [[0.9484, 0.7105, 0.5101, 0.1857, 0.3260, 0.8034, 0.6112, 0.9512,\n",
              "          0.7102, 0.3777],\n",
              "         [0.2097, 0.8460, 0.9298, 0.7115, 0.8388, 0.2082, 0.5612, 0.8835,\n",
              "          0.8395, 0.8004],\n",
              "         [0.5040, 0.0337, 0.6293, 0.6921, 0.5495, 0.4537, 0.9814, 0.2232,\n",
              "          0.9420, 0.5701],\n",
              "         [0.5245, 0.9845, 0.4714, 0.9967, 0.2930, 0.3461, 0.6559, 0.6829,\n",
              "          0.2390, 0.9924],\n",
              "         [0.7863, 0.7306, 0.8754, 0.9126, 0.6634, 0.8329, 0.3049, 0.8566,\n",
              "          0.8021, 0.9324],\n",
              "         [0.2236, 0.1823, 0.0900, 0.2607, 0.6229, 0.5493, 0.1550, 0.1384,\n",
              "          0.9385, 0.6668],\n",
              "         [0.9934, 0.4856, 0.4292, 0.5219, 0.1677, 0.5317, 0.7376, 0.0839,\n",
              "          0.9644, 0.0862],\n",
              "         [0.4290, 0.9394, 0.6003, 0.5697, 0.4509, 0.1894, 0.0079, 0.9438,\n",
              "          0.3243, 0.6092],\n",
              "         [0.9490, 0.9510, 0.2945, 0.4562, 0.1888, 0.5429, 0.1162, 0.1808,\n",
              "          0.9312, 0.0722],\n",
              "         [0.0538, 0.0593, 0.4443, 0.0659, 0.7167, 0.9664, 0.2075, 0.8836,\n",
              "          0.5589, 0.6268]],\n",
              "\n",
              "        [[0.9400, 0.7497, 0.3006, 0.3648, 0.7675, 0.0962, 0.6031, 0.9315,\n",
              "          0.9221, 0.2650],\n",
              "         [0.2450, 0.3388, 0.3163, 0.1163, 0.7599, 0.9934, 0.1797, 0.2340,\n",
              "          0.3601, 0.2418],\n",
              "         [0.3543, 0.6047, 0.1096, 0.9520, 0.8515, 0.7491, 0.0257, 0.6995,\n",
              "          0.0240, 0.3170],\n",
              "         [0.3359, 0.4870, 0.8401, 0.0982, 0.5901, 0.0237, 0.1803, 0.8351,\n",
              "          0.7596, 0.1334],\n",
              "         [0.3904, 0.1214, 0.8459, 0.0653, 0.7011, 0.6740, 0.0895, 0.5829,\n",
              "          0.9726, 0.7057],\n",
              "         [0.4800, 0.1540, 0.6664, 0.3001, 0.0110, 0.4059, 0.0808, 0.3522,\n",
              "          0.0938, 0.4794],\n",
              "         [0.2092, 0.5644, 0.6245, 0.1892, 0.2458, 0.9075, 0.2655, 0.1143,\n",
              "          0.9715, 0.6301],\n",
              "         [0.8081, 0.5619, 0.9531, 0.6931, 0.5061, 0.9865, 0.9734, 0.6832,\n",
              "          0.4395, 0.7685],\n",
              "         [0.3753, 0.4851, 0.9093, 0.7322, 0.5838, 0.3693, 0.5550, 0.9405,\n",
              "          0.3965, 0.4550],\n",
              "         [0.8098, 0.1640, 0.2732, 0.9209, 0.7995, 0.6537, 0.2444, 0.9604,\n",
              "          0.3101, 0.2857]],\n",
              "\n",
              "        [[0.4452, 0.0655, 0.3173, 0.7529, 0.7952, 0.1414, 0.7890, 0.2507,\n",
              "          0.8141, 0.8766],\n",
              "         [0.1164, 0.6766, 0.2821, 0.9523, 0.6704, 0.2190, 0.2874, 0.2538,\n",
              "          0.3485, 0.9253],\n",
              "         [0.1164, 0.3432, 0.3446, 0.1442, 0.2547, 0.5582, 0.8324, 0.8991,\n",
              "          0.8635, 0.2404],\n",
              "         [0.2119, 0.4850, 0.8168, 0.7207, 0.1604, 0.7173, 0.5457, 0.8546,\n",
              "          0.8391, 0.2425],\n",
              "         [0.4684, 0.8408, 0.3464, 0.8931, 0.4598, 0.4667, 0.9174, 0.5368,\n",
              "          0.4463, 0.0478],\n",
              "         [0.7085, 0.1255, 0.0431, 0.2318, 0.5137, 0.1002, 0.6437, 0.0805,\n",
              "          0.0411, 0.2424],\n",
              "         [0.0014, 0.0944, 0.7877, 0.8305, 0.6764, 0.1101, 0.6335, 0.6742,\n",
              "          0.1154, 0.6235],\n",
              "         [0.7073, 0.1037, 0.4473, 0.8394, 0.8544, 0.7697, 0.7983, 0.2866,\n",
              "          0.2622, 0.5366],\n",
              "         [0.0640, 0.4428, 0.6648, 0.7218, 0.6051, 0.8753, 0.6608, 0.1289,\n",
              "          0.0245, 0.9469],\n",
              "         [0.2944, 0.1850, 0.9300, 0.7862, 0.8191, 0.9141, 0.1477, 0.0453,\n",
              "          0.3607, 0.5067]],\n",
              "\n",
              "        [[0.7145, 0.2703, 0.5395, 0.3983, 0.1162, 0.0334, 0.9068, 0.8063,\n",
              "          0.1763, 0.3495],\n",
              "         [0.4534, 0.9709, 0.5817, 0.8779, 0.4149, 0.7728, 0.8391, 0.8637,\n",
              "          0.7365, 0.2218],\n",
              "         [0.3921, 0.1433, 0.6368, 0.4510, 0.3069, 0.4708, 0.6642, 0.5539,\n",
              "          0.0848, 0.5021],\n",
              "         [0.9739, 0.5216, 0.0245, 0.4643, 0.5921, 0.2335, 0.8038, 0.1704,\n",
              "          0.9043, 0.5276],\n",
              "         [0.8627, 0.5044, 0.6633, 0.5808, 0.1186, 0.8451, 0.1591, 0.7313,\n",
              "          0.7639, 0.2624],\n",
              "         [0.7513, 0.6585, 0.9529, 0.3786, 0.4380, 0.0169, 0.8214, 0.0687,\n",
              "          0.6208, 0.0167],\n",
              "         [0.5313, 0.7367, 0.2680, 0.4636, 0.8706, 0.0456, 0.9525, 0.3277,\n",
              "          0.6977, 0.9264],\n",
              "         [0.7795, 0.0985, 0.1249, 0.6498, 0.3836, 0.7198, 0.2051, 0.5185,\n",
              "          0.8729, 0.8143],\n",
              "         [0.0384, 0.8509, 0.1069, 0.8716, 0.6570, 0.5253, 0.2415, 0.8073,\n",
              "          0.2550, 0.5701],\n",
              "         [0.1934, 0.8457, 0.6126, 0.3892, 0.1050, 0.9212, 0.4696, 0.6890,\n",
              "          0.4621, 0.2374]],\n",
              "\n",
              "        [[0.3476, 0.4955, 0.7924, 0.0479, 0.5362, 0.8947, 0.1312, 0.7842,\n",
              "          0.5703, 0.6135],\n",
              "         [0.0686, 0.4270, 0.6052, 0.7951, 0.0345, 0.3065, 0.3845, 0.1206,\n",
              "          0.2736, 0.9665],\n",
              "         [0.9866, 0.3975, 0.5744, 0.0687, 0.5114, 0.8844, 0.5827, 0.3544,\n",
              "          0.7815, 0.2289],\n",
              "         [0.3994, 0.2941, 0.1475, 0.2017, 0.6389, 0.4496, 0.6957, 0.6273,\n",
              "          0.9671, 0.3935],\n",
              "         [0.6785, 0.7298, 0.7989, 0.8369, 0.9956, 0.0642, 0.0575, 0.3106,\n",
              "          0.0674, 0.8103],\n",
              "         [0.0444, 0.7485, 0.1006, 0.6619, 0.6670, 0.4608, 0.2045, 0.5357,\n",
              "          0.6307, 0.1545],\n",
              "         [0.7151, 0.8239, 0.8666, 0.1574, 0.7751, 0.8588, 0.7506, 0.5780,\n",
              "          0.6165, 0.1227],\n",
              "         [0.1437, 0.0525, 0.8662, 0.4456, 0.0374, 0.2318, 0.9953, 0.7761,\n",
              "          0.0065, 0.4522],\n",
              "         [0.9215, 0.1537, 0.2003, 0.2378, 0.0776, 0.8771, 0.0100, 0.1533,\n",
              "          0.0142, 0.5875],\n",
              "         [0.5092, 0.1132, 0.3432, 0.5987, 0.5680, 0.6204, 0.2685, 0.5805,\n",
              "          0.5899, 0.2053]],\n",
              "\n",
              "        [[0.0800, 0.3922, 0.8925, 0.0469, 0.7905, 0.1382, 0.4717, 0.5676,\n",
              "          0.5596, 0.9560],\n",
              "         [0.4902, 0.0869, 0.8443, 0.2705, 0.0252, 0.3261, 0.4654, 0.5777,\n",
              "          0.0261, 0.6536],\n",
              "         [0.7564, 0.7337, 0.4557, 0.5111, 0.7602, 0.7241, 0.2864, 0.9197,\n",
              "          0.5959, 0.5562],\n",
              "         [0.7298, 0.2959, 0.6904, 0.5197, 0.3711, 0.5624, 0.6201, 0.8357,\n",
              "          0.9826, 0.2617],\n",
              "         [0.4525, 0.1251, 0.1681, 0.6290, 0.4695, 0.2368, 0.5187, 0.7102,\n",
              "          0.7444, 0.3402],\n",
              "         [0.6414, 0.6606, 0.2147, 0.1957, 0.0418, 0.3472, 0.5475, 0.7041,\n",
              "          0.2679, 0.2209],\n",
              "         [0.6695, 0.2874, 0.1835, 0.1384, 0.0518, 0.1812, 0.6040, 0.6883,\n",
              "          0.1925, 0.8792],\n",
              "         [0.1436, 0.4572, 0.1312, 0.0050, 0.2999, 0.7113, 0.0757, 0.7412,\n",
              "          0.8933, 0.6604],\n",
              "         [0.7672, 0.7482, 0.3420, 0.7565, 0.2025, 0.2196, 0.8907, 0.3581,\n",
              "          0.4198, 0.9480],\n",
              "         [0.9395, 0.4270, 0.5195, 0.6012, 0.2653, 0.6123, 0.7395, 0.9645,\n",
              "          0.7556, 0.4571]],\n",
              "\n",
              "        [[0.1285, 0.9130, 0.9692, 0.0523, 0.1764, 0.5148, 0.8388, 0.4563,\n",
              "          0.5826, 0.3305],\n",
              "         [0.0306, 0.6067, 0.0781, 0.7296, 0.7772, 0.9644, 0.7693, 0.8305,\n",
              "          0.3839, 0.5850],\n",
              "         [0.1950, 0.7051, 0.7997, 0.6004, 0.7722, 0.3368, 0.6249, 0.1888,\n",
              "          0.6972, 0.7248],\n",
              "         [0.4954, 0.0899, 0.3215, 0.5750, 0.5470, 0.2237, 0.8639, 0.6291,\n",
              "          0.1351, 0.1654],\n",
              "         [0.0622, 0.4771, 0.6404, 0.3632, 0.4429, 0.5566, 0.4054, 0.5981,\n",
              "          0.2157, 0.7352],\n",
              "         [0.4615, 0.9744, 0.7938, 0.4025, 0.2710, 0.3162, 0.1041, 0.0560,\n",
              "          0.1170, 0.9830],\n",
              "         [0.2120, 0.0231, 0.1277, 0.1647, 0.9692, 0.7728, 0.2513, 0.7960,\n",
              "          0.5624, 0.5348],\n",
              "         [0.9737, 0.7340, 0.3010, 0.3124, 0.2166, 0.6788, 0.5168, 0.3724,\n",
              "          0.4813, 0.3930],\n",
              "         [0.9141, 0.1465, 0.5779, 0.3935, 0.5606, 0.3880, 0.1718, 0.2466,\n",
              "          0.3546, 0.8290],\n",
              "         [0.3387, 0.2722, 0.7552, 0.3126, 0.2507, 0.2788, 0.1722, 0.0229,\n",
              "          0.3357, 0.2918]]])"
            ]
          },
          "metadata": {},
          "execution_count": 202
        }
      ]
    },
    {
      "cell_type": "code",
      "source": [
        "random_tensor.ndim"
      ],
      "metadata": {
        "colab": {
          "base_uri": "https://localhost:8080/"
        },
        "id": "-RxQZRQXDZT3",
        "outputId": "e95c4dfa-37bd-4eec-dd9e-37544c6697ff"
      },
      "execution_count": 203,
      "outputs": [
        {
          "output_type": "execute_result",
          "data": {
            "text/plain": [
              "3"
            ]
          },
          "metadata": {},
          "execution_count": 203
        }
      ]
    },
    {
      "cell_type": "code",
      "source": [
        "#create a random tensor with similar shape to an image tensor\n",
        "random_image_size_tensor = torch.rand(size=(3,224,224))#height,width,color channel\n",
        "random_image_size_tensor.shape, random_image_size_tensor.ndim"
      ],
      "metadata": {
        "colab": {
          "base_uri": "https://localhost:8080/"
        },
        "id": "2lE6FB17DpMe",
        "outputId": "aa84109f-8c63-4acb-8311-b5e3fbe1a8af"
      },
      "execution_count": 204,
      "outputs": [
        {
          "output_type": "execute_result",
          "data": {
            "text/plain": [
              "(torch.Size([3, 224, 224]), 3)"
            ]
          },
          "metadata": {},
          "execution_count": 204
        }
      ]
    },
    {
      "cell_type": "code",
      "source": [
        "torch.rand(3,3)"
      ],
      "metadata": {
        "colab": {
          "base_uri": "https://localhost:8080/"
        },
        "id": "RcRkAqzqHZIe",
        "outputId": "c6c70411-5e7e-42ad-bea8-6825019f5410"
      },
      "execution_count": 205,
      "outputs": [
        {
          "output_type": "execute_result",
          "data": {
            "text/plain": [
              "tensor([[0.6598, 0.4768, 0.4964],\n",
              "        [0.4904, 0.1516, 0.4927],\n",
              "        [0.0775, 0.8393, 0.5194]])"
            ]
          },
          "metadata": {},
          "execution_count": 205
        }
      ]
    },
    {
      "cell_type": "code",
      "source": [
        "#zeros and ones\n",
        "zero = torch.zeros(size=(3,4))\n",
        "zero"
      ],
      "metadata": {
        "colab": {
          "base_uri": "https://localhost:8080/"
        },
        "id": "iSZZDYqWIVsz",
        "outputId": "44650064-61ff-4400-fd3e-4daf8ba3964a"
      },
      "execution_count": 206,
      "outputs": [
        {
          "output_type": "execute_result",
          "data": {
            "text/plain": [
              "tensor([[0., 0., 0., 0.],\n",
              "        [0., 0., 0., 0.],\n",
              "        [0., 0., 0., 0.]])"
            ]
          },
          "metadata": {},
          "execution_count": 206
        }
      ]
    },
    {
      "cell_type": "code",
      "source": [
        "#create a tensor of all ones\n",
        "ones = torch.ones(size=(3,4))\n",
        "ones"
      ],
      "metadata": {
        "colab": {
          "base_uri": "https://localhost:8080/"
        },
        "id": "uZNjgqG0IrqQ",
        "outputId": "def1a1ac-f331-4143-d387-8065239ed581"
      },
      "execution_count": 207,
      "outputs": [
        {
          "output_type": "execute_result",
          "data": {
            "text/plain": [
              "tensor([[1., 1., 1., 1.],\n",
              "        [1., 1., 1., 1.],\n",
              "        [1., 1., 1., 1.]])"
            ]
          },
          "metadata": {},
          "execution_count": 207
        }
      ]
    },
    {
      "cell_type": "code",
      "source": [
        "#use torch.range()\n",
        "one_to_ten = torch.arange(1,11)\n",
        "one_to_ten"
      ],
      "metadata": {
        "colab": {
          "base_uri": "https://localhost:8080/"
        },
        "id": "pbHnsIQFI3N9",
        "outputId": "e8d429c3-762b-4f25-a957-5926fa627bcd"
      },
      "execution_count": 208,
      "outputs": [
        {
          "output_type": "execute_result",
          "data": {
            "text/plain": [
              "tensor([ 1,  2,  3,  4,  5,  6,  7,  8,  9, 10])"
            ]
          },
          "metadata": {},
          "execution_count": 208
        }
      ]
    },
    {
      "cell_type": "code",
      "source": [
        "one_to_ten = torch.arange(start=1, end=11, step=1)\n",
        "one_to_ten"
      ],
      "metadata": {
        "colab": {
          "base_uri": "https://localhost:8080/"
        },
        "id": "40k8u2g-JdPJ",
        "outputId": "33911b0a-c186-4319-be21-9dfec795e510"
      },
      "execution_count": 209,
      "outputs": [
        {
          "output_type": "execute_result",
          "data": {
            "text/plain": [
              "tensor([ 1,  2,  3,  4,  5,  6,  7,  8,  9, 10])"
            ]
          },
          "metadata": {},
          "execution_count": 209
        }
      ]
    },
    {
      "cell_type": "code",
      "source": [
        "one_to_ten.shape"
      ],
      "metadata": {
        "id": "q-tCvr99Jsld",
        "outputId": "1763fd4c-a222-4bda-bc08-1ab87cb6d656",
        "colab": {
          "base_uri": "https://localhost:8080/"
        }
      },
      "execution_count": 210,
      "outputs": [
        {
          "output_type": "execute_result",
          "data": {
            "text/plain": [
              "torch.Size([10])"
            ]
          },
          "metadata": {},
          "execution_count": 210
        }
      ]
    },
    {
      "cell_type": "code",
      "source": [
        "ten_zero = torch.zeros_like(input=one_to_ten)\n",
        "ten_zero"
      ],
      "metadata": {
        "id": "c3cUuCvlJv0p",
        "outputId": "9e5408e6-3475-48a3-e6b0-17f2f0ca7ccf",
        "colab": {
          "base_uri": "https://localhost:8080/"
        }
      },
      "execution_count": 211,
      "outputs": [
        {
          "output_type": "execute_result",
          "data": {
            "text/plain": [
              "tensor([0, 0, 0, 0, 0, 0, 0, 0, 0, 0])"
            ]
          },
          "metadata": {},
          "execution_count": 211
        }
      ]
    },
    {
      "cell_type": "markdown",
      "source": [
        "Tensor Datatype\n",
        "\n",
        "**Note:** Tensor datatype is one of the 3 big errors you'll run into with PyTorch & deep learning:\n",
        "\n",
        "1. Tensors not right datatype\n",
        "\n",
        "2.Tensor not right shape"
      ],
      "metadata": {
        "id": "EmxeZbwijYMV"
      }
    },
    {
      "cell_type": "code",
      "source": [
        "#float 32 tensor\n",
        "float_32_tensor = torch.tensor([3.0,6.0,9.0],\n",
        "                               dtype=None,\n",
        "                               device=None,\n",
        "                               requires_grad=False)\n",
        "float_32_tensor"
      ],
      "metadata": {
        "id": "SIUx2GVLjUdQ",
        "outputId": "b324e6da-b249-49ad-9124-db4b3c650260",
        "colab": {
          "base_uri": "https://localhost:8080/"
        }
      },
      "execution_count": 212,
      "outputs": [
        {
          "output_type": "execute_result",
          "data": {
            "text/plain": [
              "tensor([3., 6., 9.])"
            ]
          },
          "metadata": {},
          "execution_count": 212
        }
      ]
    },
    {
      "cell_type": "code",
      "source": [
        "tensor = torch.tensor( [1.0, 2.0, 3.0],dtype=torch.float32)\n",
        "print(tensor)\n"
      ],
      "metadata": {
        "id": "Ek7hBuaZm4_z",
        "colab": {
          "base_uri": "https://localhost:8080/"
        },
        "outputId": "1a448064-1458-4e31-abf2-06dc195ee03f"
      },
      "execution_count": 213,
      "outputs": [
        {
          "output_type": "stream",
          "name": "stdout",
          "text": [
            "tensor([1., 2., 3.])\n"
          ]
        }
      ]
    },
    {
      "cell_type": "code",
      "source": [
        "float_16_tensor = float_32_tensor.type(torch.float16)\n",
        "float_16_tensor"
      ],
      "metadata": {
        "colab": {
          "base_uri": "https://localhost:8080/"
        },
        "id": "y9kmAs3Powjl",
        "outputId": "9467c35d-0561-40ed-9c53-8bd61dc21a73"
      },
      "execution_count": 214,
      "outputs": [
        {
          "output_type": "execute_result",
          "data": {
            "text/plain": [
              "tensor([3., 6., 9.], dtype=torch.float16)"
            ]
          },
          "metadata": {},
          "execution_count": 214
        }
      ]
    },
    {
      "cell_type": "code",
      "source": [
        "float_16_tensor = float_32_tensor"
      ],
      "metadata": {
        "id": "w0wRNfWtrHE_"
      },
      "execution_count": 215,
      "outputs": []
    },
    {
      "cell_type": "code",
      "source": [
        "int_32_tensor = torch.tensor([3,6,9], dtype=torch.int32)\n",
        "int_32_tensor"
      ],
      "metadata": {
        "colab": {
          "base_uri": "https://localhost:8080/"
        },
        "id": "DgLLHRpfruKF",
        "outputId": "71aefc40-98af-4e63-b690-88d970f6c768"
      },
      "execution_count": 216,
      "outputs": [
        {
          "output_type": "execute_result",
          "data": {
            "text/plain": [
              "tensor([3, 6, 9], dtype=torch.int32)"
            ]
          },
          "metadata": {},
          "execution_count": 216
        }
      ]
    },
    {
      "cell_type": "code",
      "source": [
        "float_32_tensor * int_32_tensor"
      ],
      "metadata": {
        "colab": {
          "base_uri": "https://localhost:8080/"
        },
        "id": "iG6gO6Q5LWSx",
        "outputId": "e3fa7e2c-f26b-4c5b-c598-9374b0854960"
      },
      "execution_count": 217,
      "outputs": [
        {
          "output_type": "execute_result",
          "data": {
            "text/plain": [
              "tensor([ 9., 36., 81.])"
            ]
          },
          "metadata": {},
          "execution_count": 217
        }
      ]
    },
    {
      "cell_type": "code",
      "source": [
        "#create a tensor\n",
        "some_tensor = torch.rand(3,4)\n",
        "some_tensor"
      ],
      "metadata": {
        "colab": {
          "base_uri": "https://localhost:8080/"
        },
        "id": "IYOKBoAkMBha",
        "outputId": "610da97f-81c9-4b6b-9121-203e8815580e"
      },
      "execution_count": 218,
      "outputs": [
        {
          "output_type": "execute_result",
          "data": {
            "text/plain": [
              "tensor([[0.1470, 0.7070, 0.9250, 0.9558],\n",
              "        [0.8333, 0.3290, 0.2520, 0.1678],\n",
              "        [0.7975, 0.1895, 0.2780, 0.1463]])"
            ]
          },
          "metadata": {},
          "execution_count": 218
        }
      ]
    },
    {
      "cell_type": "code",
      "source": [
        "#find out details about some tensor\n",
        "print(some_tensor)\n",
        "print(f\"Datatype of tensor: {some_tensor.dtype}\")\n",
        "print(f\"Shape of tensor: {some_tensor.shape}\")\n",
        "print(f\"Device tensor is on: {some_tensor.device}\")"
      ],
      "metadata": {
        "colab": {
          "base_uri": "https://localhost:8080/"
        },
        "id": "sjlygekbMXJy",
        "outputId": "cc4a2bb9-270f-43b5-8baf-4d0d65228905"
      },
      "execution_count": 219,
      "outputs": [
        {
          "output_type": "stream",
          "name": "stdout",
          "text": [
            "tensor([[0.1470, 0.7070, 0.9250, 0.9558],\n",
            "        [0.8333, 0.3290, 0.2520, 0.1678],\n",
            "        [0.7975, 0.1895, 0.2780, 0.1463]])\n",
            "Datatype of tensor: torch.float32\n",
            "Shape of tensor: torch.Size([3, 4])\n",
            "Device tensor is on: cpu\n"
          ]
        }
      ]
    },
    {
      "cell_type": "markdown",
      "source": [
        "###manipulating Tensors ( tensor operation)\n",
        "\n",
        "Tensor operattion include:\n",
        "\n",
        "*Addition\n",
        "\n",
        "*Subtraction\n",
        "\n",
        "*Multiplication(element-wise)\n",
        "\n",
        "*division\n",
        "\n",
        "*Matrix Multiplication"
      ],
      "metadata": {
        "id": "2WeJXkaSNvx4"
      }
    },
    {
      "cell_type": "code",
      "source": [
        "#create a tensor and add 10 to it\n",
        "tensor = torch.tensor([1,2,3])\n",
        "tensor + 10"
      ],
      "metadata": {
        "colab": {
          "base_uri": "https://localhost:8080/"
        },
        "id": "qn5KQtOZMqCe",
        "outputId": "d856dda0-7b00-46b7-a7af-48698e165893"
      },
      "execution_count": 220,
      "outputs": [
        {
          "output_type": "execute_result",
          "data": {
            "text/plain": [
              "tensor([11, 12, 13])"
            ]
          },
          "metadata": {},
          "execution_count": 220
        }
      ]
    },
    {
      "cell_type": "code",
      "source": [
        "#multiply tensor by 10\n",
        "tensor * 10"
      ],
      "metadata": {
        "colab": {
          "base_uri": "https://localhost:8080/"
        },
        "id": "CJznQMdMORMM",
        "outputId": "6258c4c9-ff05-45a7-8cb6-726c5d772286"
      },
      "execution_count": 221,
      "outputs": [
        {
          "output_type": "execute_result",
          "data": {
            "text/plain": [
              "tensor([10, 20, 30])"
            ]
          },
          "metadata": {},
          "execution_count": 221
        }
      ]
    },
    {
      "cell_type": "code",
      "source": [
        "tensor"
      ],
      "metadata": {
        "colab": {
          "base_uri": "https://localhost:8080/"
        },
        "id": "SmWqezXAP8g-",
        "outputId": "a6e6be2a-f440-45f5-afab-7fa3993065a0"
      },
      "execution_count": 222,
      "outputs": [
        {
          "output_type": "execute_result",
          "data": {
            "text/plain": [
              "tensor([1, 2, 3])"
            ]
          },
          "metadata": {},
          "execution_count": 222
        }
      ]
    },
    {
      "cell_type": "code",
      "source": [
        "#subtract\n",
        "tensor - 10"
      ],
      "metadata": {
        "colab": {
          "base_uri": "https://localhost:8080/"
        },
        "id": "MWwFTpF-P_XY",
        "outputId": "0e36b3cf-b0f1-45e9-9fc7-fb84dbae0070"
      },
      "execution_count": 223,
      "outputs": [
        {
          "output_type": "execute_result",
          "data": {
            "text/plain": [
              "tensor([-9, -8, -7])"
            ]
          },
          "metadata": {},
          "execution_count": 223
        }
      ]
    },
    {
      "cell_type": "code",
      "source": [
        "#divide\n",
        "tensor/10"
      ],
      "metadata": {
        "colab": {
          "base_uri": "https://localhost:8080/"
        },
        "id": "HHU7DVjOQE2Z",
        "outputId": "75a7ae06-aa89-47cf-b2a3-1aabca95fedc"
      },
      "execution_count": 224,
      "outputs": [
        {
          "output_type": "execute_result",
          "data": {
            "text/plain": [
              "tensor([0.1000, 0.2000, 0.3000])"
            ]
          },
          "metadata": {},
          "execution_count": 224
        }
      ]
    },
    {
      "cell_type": "code",
      "source": [
        "torch.mul(tensor,10)"
      ],
      "metadata": {
        "colab": {
          "base_uri": "https://localhost:8080/"
        },
        "id": "QSiCdWgwQJjq",
        "outputId": "ffeaf587-9f00-4210-8c61-8148702c7ac2"
      },
      "execution_count": 225,
      "outputs": [
        {
          "output_type": "execute_result",
          "data": {
            "text/plain": [
              "tensor([10, 20, 30])"
            ]
          },
          "metadata": {},
          "execution_count": 225
        }
      ]
    },
    {
      "cell_type": "code",
      "source": [
        "torch.add(tensor,10)"
      ],
      "metadata": {
        "colab": {
          "base_uri": "https://localhost:8080/"
        },
        "id": "vRH20ZpNRHqo",
        "outputId": "045277d9-d228-4911-d9b8-dfa2bd3ac40f"
      },
      "execution_count": 226,
      "outputs": [
        {
          "output_type": "execute_result",
          "data": {
            "text/plain": [
              "tensor([11, 12, 13])"
            ]
          },
          "metadata": {},
          "execution_count": 226
        }
      ]
    },
    {
      "cell_type": "markdown",
      "source": [
        "Matrix multiplication\n",
        "\n",
        "Two main ways of performing multiplication in neural networks and deep learning:\n",
        "\n",
        "1.Element-wise multiplication\n",
        "\n",
        "2.Matrix multiplication(dot product)\n",
        "\n",
        "There are two main rules that performing matrix multiplication\n",
        "\n",
        "1. The **inner dimensions** must match:\n",
        "\n",
        " *(3,2) @ (3,2) won't work\n",
        "\n",
        " *(2,3) @ (3,2) will work\n",
        "\n",
        " *(3,2) @ (2,3) will work\n",
        "\n",
        "\n",
        "2.The resulting matrix has the shape of the **outer dimension**:\n",
        "\n",
        "*(2,3) @ (3,2) -> (2,2)\n",
        "\n",
        "*(3,2) 2 (2,3) -. (3,3)\n",
        "\n",
        "\n"
      ],
      "metadata": {
        "id": "15eaC_8jZp3z"
      }
    },
    {
      "cell_type": "code",
      "source": [
        "torch.matmul(torch.rand(10,10),torch.rand(10,10))"
      ],
      "metadata": {
        "colab": {
          "base_uri": "https://localhost:8080/"
        },
        "id": "XHyspsAnh5Ak",
        "outputId": "9a1710d0-ba59-4d1a-f7ee-9608fe1138f0"
      },
      "execution_count": 227,
      "outputs": [
        {
          "output_type": "execute_result",
          "data": {
            "text/plain": [
              "tensor([[2.2904, 2.8910, 3.2229, 1.9978, 1.6274, 2.9663, 3.0811, 3.3842, 3.1104,\n",
              "         3.5026],\n",
              "        [2.7434, 3.5701, 3.7881, 2.4889, 2.4290, 3.9522, 3.2730, 3.4718, 3.1095,\n",
              "         3.3899],\n",
              "        [1.7432, 1.9586, 2.2192, 1.1629, 1.0329, 2.4047, 1.6925, 1.8595, 1.6481,\n",
              "         2.1615],\n",
              "        [2.2838, 3.4345, 3.4670, 2.2343, 2.0836, 2.8813, 2.8763, 3.3309, 2.7660,\n",
              "         3.2441],\n",
              "        [1.7898, 2.5229, 2.2429, 1.2845, 1.1381, 2.1460, 2.0867, 2.3885, 1.6193,\n",
              "         2.3818],\n",
              "        [2.6784, 3.6033, 3.7279, 1.9430, 1.6743, 3.0160, 2.9251, 3.5911, 2.8324,\n",
              "         3.8805],\n",
              "        [1.6663, 1.9917, 2.1264, 1.5867, 1.4706, 2.6244, 1.6946, 1.6915, 1.9172,\n",
              "         2.1744],\n",
              "        [2.1795, 2.2568, 2.9271, 1.5762, 1.3600, 2.4204, 2.4523, 2.5087, 2.0326,\n",
              "         2.8092],\n",
              "        [2.5081, 2.8308, 3.0987, 1.9026, 1.8994, 3.4353, 2.7265, 2.8327, 2.3707,\n",
              "         2.9946],\n",
              "        [1.3873, 2.2922, 1.8276, 1.4150, 1.2337, 2.3254, 1.7965, 1.9500, 1.5157,\n",
              "         2.1237]])"
            ]
          },
          "metadata": {},
          "execution_count": 227
        }
      ]
    },
    {
      "cell_type": "code",
      "source": [
        "#Elementwise multiplication\n",
        "print(tensor,\"*\",tensor)\n",
        "print(f\"Equals:{tensor * tensor}\")\n"
      ],
      "metadata": {
        "colab": {
          "base_uri": "https://localhost:8080/"
        },
        "id": "QHc3IlZeRPoG",
        "outputId": "2e4b0361-19f9-476d-9822-d7dc5314ab82"
      },
      "execution_count": 228,
      "outputs": [
        {
          "output_type": "stream",
          "name": "stdout",
          "text": [
            "tensor([1, 2, 3]) * tensor([1, 2, 3])\n",
            "Equals:tensor([1, 4, 9])\n"
          ]
        }
      ]
    },
    {
      "cell_type": "code",
      "source": [
        "#matrix multiplication\n",
        "torch.matmul(tensor,tensor)"
      ],
      "metadata": {
        "colab": {
          "base_uri": "https://localhost:8080/"
        },
        "id": "POZrRMykacyp",
        "outputId": "fcbfa7e3-5025-4e53-8e0a-bef9a64675c9"
      },
      "execution_count": 229,
      "outputs": [
        {
          "output_type": "execute_result",
          "data": {
            "text/plain": [
              "tensor(14)"
            ]
          },
          "metadata": {},
          "execution_count": 229
        }
      ]
    },
    {
      "cell_type": "code",
      "source": [
        "#matrix multiplication by hand\n",
        "1*1 + 2*2 + 3*3"
      ],
      "metadata": {
        "colab": {
          "base_uri": "https://localhost:8080/"
        },
        "id": "X6yJYNZMdsH5",
        "outputId": "c60de7d4-df78-4e5b-d081-29f5f1aecf3c"
      },
      "execution_count": 230,
      "outputs": [
        {
          "output_type": "execute_result",
          "data": {
            "text/plain": [
              "14"
            ]
          },
          "metadata": {},
          "execution_count": 230
        }
      ]
    },
    {
      "cell_type": "code",
      "source": [
        "%%time\n",
        "value = 0\n",
        "for i in range(len(tensor)):\n",
        "  value += tensor[i] * tensor[i]\n",
        "  print(value)\n",
        "\n"
      ],
      "metadata": {
        "colab": {
          "base_uri": "https://localhost:8080/"
        },
        "id": "KrKzgN0ae8-Y",
        "outputId": "99f1c228-88fa-4996-a06d-72b715b1a879"
      },
      "execution_count": 231,
      "outputs": [
        {
          "output_type": "stream",
          "name": "stdout",
          "text": [
            "tensor(1)\n",
            "tensor(5)\n",
            "tensor(14)\n",
            "CPU times: user 986 µs, sys: 73 µs, total: 1.06 ms\n",
            "Wall time: 1.17 ms\n"
          ]
        }
      ]
    },
    {
      "cell_type": "code",
      "source": [
        "tensor @ tensor"
      ],
      "metadata": {
        "colab": {
          "base_uri": "https://localhost:8080/"
        },
        "id": "9C1aDJn0gtbp",
        "outputId": "fc879333-bc50-4587-e4f5-2e083b9c9d49"
      },
      "execution_count": 232,
      "outputs": [
        {
          "output_type": "execute_result",
          "data": {
            "text/plain": [
              "tensor(14)"
            ]
          },
          "metadata": {},
          "execution_count": 232
        }
      ]
    },
    {
      "cell_type": "code",
      "source": [
        "%%time\n",
        "torch.matmul(tensor,tensor)"
      ],
      "metadata": {
        "colab": {
          "base_uri": "https://localhost:8080/"
        },
        "id": "lx3KAmazfaxP",
        "outputId": "988ee920-cd3e-4a59-982a-bf16d90749ca"
      },
      "execution_count": 233,
      "outputs": [
        {
          "output_type": "stream",
          "name": "stdout",
          "text": [
            "CPU times: user 30 µs, sys: 2 µs, total: 32 µs\n",
            "Wall time: 35 µs\n"
          ]
        },
        {
          "output_type": "execute_result",
          "data": {
            "text/plain": [
              "tensor(14)"
            ]
          },
          "metadata": {},
          "execution_count": 233
        }
      ]
    },
    {
      "cell_type": "markdown",
      "source": [
        "### one of the most common errors in deep learning: shape errors"
      ],
      "metadata": {
        "id": "CKVSRRlxgFX5"
      }
    },
    {
      "cell_type": "code",
      "source": [
        " #Shape for matrix multiplication\n",
        "tensor_A = torch.tensor([[1, 2],\n",
        "                         [3, 4],\n",
        "                         [5, 6]])\n",
        "tensor_B = torch.tensor([[7, 10],\n",
        "                         [8, 11],\n",
        "                         [9, 12]])\n",
        "\n",
        "\n",
        "#torch.mm(tensor_A,tensor_B) #torch.mm is the same as torch.matmul (it's an alias for writing less code)\n",
        "torch.matmul(tensor_A, tensor_B.T)\n"
      ],
      "metadata": {
        "colab": {
          "base_uri": "https://localhost:8080/"
        },
        "id": "ehnumnLNftEC",
        "outputId": "833d3c17-d758-42cb-adf1-6171f5ee1d40"
      },
      "execution_count": 234,
      "outputs": [
        {
          "output_type": "execute_result",
          "data": {
            "text/plain": [
              "tensor([[ 27,  30,  33],\n",
              "        [ 61,  68,  75],\n",
              "        [ 95, 106, 117]])"
            ]
          },
          "metadata": {},
          "execution_count": 234
        }
      ]
    },
    {
      "cell_type": "code",
      "source": [
        "tensor_A.shape, tensor_B.shape"
      ],
      "metadata": {
        "id": "R8P8pkSiCWp_",
        "outputId": "161064b7-be66-4ec2-d6f5-7d02eafbf54d",
        "colab": {
          "base_uri": "https://localhost:8080/"
        }
      },
      "execution_count": 235,
      "outputs": [
        {
          "output_type": "execute_result",
          "data": {
            "text/plain": [
              "(torch.Size([3, 2]), torch.Size([3, 2]))"
            ]
          },
          "metadata": {},
          "execution_count": 235
        }
      ]
    },
    {
      "cell_type": "markdown",
      "source": [
        "To fix our tensor shape issues, we can manipulate the shape of one of our tensors using a **transpose**.\n",
        "\n",
        "A **transpose** switches the axes or dimensions of a given tensor tensor"
      ],
      "metadata": {
        "id": "t2VnFdGFC3qf"
      }
    },
    {
      "cell_type": "code",
      "source": [
        "tensor_B,tensor_B.shape"
      ],
      "metadata": {
        "id": "sCtMDn2LCtaY",
        "outputId": "63d1385b-26af-4055-fb26-e554ba48cf94",
        "colab": {
          "base_uri": "https://localhost:8080/"
        }
      },
      "execution_count": 236,
      "outputs": [
        {
          "output_type": "execute_result",
          "data": {
            "text/plain": [
              "(tensor([[ 7, 10],\n",
              "         [ 8, 11],\n",
              "         [ 9, 12]]),\n",
              " torch.Size([3, 2]))"
            ]
          },
          "metadata": {},
          "execution_count": 236
        }
      ]
    },
    {
      "cell_type": "code",
      "source": [
        "tensor_B.T, tensor_B.T.shape"
      ],
      "metadata": {
        "id": "nkOUlHm5D3yV",
        "outputId": "86bd1fd1-f9d8-4838-d7aa-a40a682c7fef",
        "colab": {
          "base_uri": "https://localhost:8080/"
        }
      },
      "execution_count": 237,
      "outputs": [
        {
          "output_type": "execute_result",
          "data": {
            "text/plain": [
              "(tensor([[ 7,  8,  9],\n",
              "         [10, 11, 12]]),\n",
              " torch.Size([2, 3]))"
            ]
          },
          "metadata": {},
          "execution_count": 237
        }
      ]
    },
    {
      "cell_type": "markdown",
      "source": [],
      "metadata": {
        "id": "KwVKsdSK2EDw"
      }
    },
    {
      "cell_type": "code",
      "source": [
        "# The matrix multiplication operation works when tensor_B is transposed\n",
        "print(f\"Original shapes: tensor_A = {tensor_A.shape} , tensor_B = {tensor_B.shape}\")\n",
        "print(f\"New shapes: tensor_A = {tensor_A.shape} (same shape as above), tensor_B.T = {tensor_B.T.shape}\")\n",
        "print(f\"Multiplying : {tensor_A.shape} @ {tensor_B.T.shape} <- inner dimensions must match\")\n",
        "print(\"Output:\\n\")\n",
        "output = torch.matmul(tensor_A, tensor_B.T)\n",
        "print(output)\n",
        "torch.matmul(tensor_A, tensor_B.T)"
      ],
      "metadata": {
        "id": "4yOhfn5yD_6r",
        "colab": {
          "base_uri": "https://localhost:8080/"
        },
        "outputId": "c5566fb2-b1c4-4457-dee0-a004cf24accf"
      },
      "execution_count": 238,
      "outputs": [
        {
          "output_type": "stream",
          "name": "stdout",
          "text": [
            "Original shapes: tensor_A = torch.Size([3, 2]) , tensor_B = torch.Size([3, 2])\n",
            "New shapes: tensor_A = torch.Size([3, 2]) (same shape as above), tensor_B.T = torch.Size([2, 3])\n",
            "Multiplying : torch.Size([3, 2]) @ torch.Size([2, 3]) <- inner dimensions must match\n",
            "Output:\n",
            "\n",
            "tensor([[ 27,  30,  33],\n",
            "        [ 61,  68,  75],\n",
            "        [ 95, 106, 117]])\n"
          ]
        },
        {
          "output_type": "execute_result",
          "data": {
            "text/plain": [
              "tensor([[ 27,  30,  33],\n",
              "        [ 61,  68,  75],\n",
              "        [ 95, 106, 117]])"
            ]
          },
          "metadata": {},
          "execution_count": 238
        }
      ]
    },
    {
      "cell_type": "code",
      "source": [
        "print(f\"Original shapes : tensor_A = {tensor_A.shape} ,tensor_B = {tensor_B.shape}\")\n",
        "print(f\"New shapes:tensorA.T = {tensor_A.shape} (same shape as above), tensor_B = {tensor_B.T.shape}\")\n",
        "print(f\"Multiplying : {tensor_A.T.shape} @ {tensor_B.shape} <- inner dimension must match\")\n",
        "print(\"Output:\\n\")\n",
        "out = torch.matmul(tensor_A.T, tensor_B)\n",
        "print(output)"
      ],
      "metadata": {
        "colab": {
          "base_uri": "https://localhost:8080/"
        },
        "id": "nIU2dhAJds2N",
        "outputId": "521885c7-e899-496d-c50c-90c743a16336"
      },
      "execution_count": 239,
      "outputs": [
        {
          "output_type": "stream",
          "name": "stdout",
          "text": [
            "Original shapes : tensor_A = torch.Size([3, 2]) ,tensor_B = torch.Size([3, 2])\n",
            "New shapes:tensorA.T = torch.Size([3, 2]) (same shape as above), tensor_B = torch.Size([2, 3])\n",
            "Multiplying : torch.Size([2, 3]) @ torch.Size([3, 2]) <- inner dimension must match\n",
            "Output:\n",
            "\n",
            "tensor([[ 27,  30,  33],\n",
            "        [ 61,  68,  75],\n",
            "        [ 95, 106, 117]])\n"
          ]
        }
      ]
    },
    {
      "cell_type": "markdown",
      "source": [
        "Finding the min ,max , mean, sum,etc (tensor aggregation)"
      ],
      "metadata": {
        "id": "OeDIFF7jiSNL"
      }
    },
    {
      "cell_type": "code",
      "source": [
        "#create a tensor\n",
        "x= torch.arange(1,100,10)\n",
        "x , x.dtype"
      ],
      "metadata": {
        "colab": {
          "base_uri": "https://localhost:8080/"
        },
        "id": "dqblxNC7hsaL",
        "outputId": "243cff00-b127-425d-a41c-978b98d62778"
      },
      "execution_count": 240,
      "outputs": [
        {
          "output_type": "execute_result",
          "data": {
            "text/plain": [
              "(tensor([ 1, 11, 21, 31, 41, 51, 61, 71, 81, 91]), torch.int64)"
            ]
          },
          "metadata": {},
          "execution_count": 240
        }
      ]
    },
    {
      "cell_type": "code",
      "source": [
        "# Find the main\n",
        "torch.min(x) , x.min()"
      ],
      "metadata": {
        "colab": {
          "base_uri": "https://localhost:8080/"
        },
        "id": "8zcBK01Wil1w",
        "outputId": "39a2346e-4a32-4e37-91e5-aa5ef5ca0b34"
      },
      "execution_count": 241,
      "outputs": [
        {
          "output_type": "execute_result",
          "data": {
            "text/plain": [
              "(tensor(1), tensor(1))"
            ]
          },
          "metadata": {},
          "execution_count": 241
        }
      ]
    },
    {
      "cell_type": "code",
      "source": [
        "#Find the mean - note: the torch.mean() function requires a tensor of float32 datatype to work\n",
        "torch.mean(x.type(torch.float32)) ,x.type(torch.float32).mean()"
      ],
      "metadata": {
        "colab": {
          "base_uri": "https://localhost:8080/"
        },
        "id": "mrqRwNeDitw9",
        "outputId": "94862e44-b0b1-46e1-831f-671b320c2474"
      },
      "execution_count": 242,
      "outputs": [
        {
          "output_type": "execute_result",
          "data": {
            "text/plain": [
              "(tensor(46.), tensor(46.))"
            ]
          },
          "metadata": {},
          "execution_count": 242
        }
      ]
    },
    {
      "cell_type": "code",
      "source": [
        "#find the sum\n",
        "torch.sum(x), x.sum()"
      ],
      "metadata": {
        "colab": {
          "base_uri": "https://localhost:8080/"
        },
        "id": "sbK1VcxrjVzK",
        "outputId": "8870c43e-a1ea-43dc-b1ce-349ae9e665da"
      },
      "execution_count": 243,
      "outputs": [
        {
          "output_type": "execute_result",
          "data": {
            "text/plain": [
              "(tensor(460), tensor(460))"
            ]
          },
          "metadata": {},
          "execution_count": 243
        }
      ]
    },
    {
      "cell_type": "markdown",
      "source": [
        "## Finding the positional min max"
      ],
      "metadata": {
        "id": "-MLTVKaBkrxZ"
      }
    },
    {
      "cell_type": "code",
      "source": [
        "x"
      ],
      "metadata": {
        "colab": {
          "base_uri": "https://localhost:8080/"
        },
        "id": "Fx9mnnA0kJnm",
        "outputId": "9f1a5166-d36e-41be-8ad2-aa1b59b9f862"
      },
      "execution_count": 244,
      "outputs": [
        {
          "output_type": "execute_result",
          "data": {
            "text/plain": [
              "tensor([ 1, 11, 21, 31, 41, 51, 61, 71, 81, 91])"
            ]
          },
          "metadata": {},
          "execution_count": 244
        }
      ]
    },
    {
      "cell_type": "code",
      "source": [
        "# find the position that has the min value with argminn() -> returns index position of the target tensor where the minimum value occurs\n",
        "x.argmin()"
      ],
      "metadata": {
        "id": "K4TT-4c2kwX2",
        "outputId": "f8953e0a-0589-4e2f-c09a-cb8bdce5c9cf",
        "colab": {
          "base_uri": "https://localhost:8080/"
        }
      },
      "execution_count": 245,
      "outputs": [
        {
          "output_type": "execute_result",
          "data": {
            "text/plain": [
              "tensor(0)"
            ]
          },
          "metadata": {},
          "execution_count": 245
        }
      ]
    },
    {
      "cell_type": "code",
      "source": [
        "#find the position in tensor that has the maximum value with argmax\n",
        "x.argmax()"
      ],
      "metadata": {
        "id": "-0y6J-PAk0y2",
        "colab": {
          "base_uri": "https://localhost:8080/"
        },
        "outputId": "49d90ef7-b99d-4254-b535-e2f3df9b8ef7"
      },
      "execution_count": 246,
      "outputs": [
        {
          "output_type": "execute_result",
          "data": {
            "text/plain": [
              "tensor(9)"
            ]
          },
          "metadata": {},
          "execution_count": 246
        }
      ]
    },
    {
      "cell_type": "code",
      "source": [
        "x[9]"
      ],
      "metadata": {
        "colab": {
          "base_uri": "https://localhost:8080/"
        },
        "id": "Kltx_9bwJpKc",
        "outputId": "a1af0ec9-a2c4-4859-ea83-de109878a50e"
      },
      "execution_count": 247,
      "outputs": [
        {
          "output_type": "execute_result",
          "data": {
            "text/plain": [
              "tensor(91)"
            ]
          },
          "metadata": {},
          "execution_count": 247
        }
      ]
    },
    {
      "cell_type": "markdown",
      "source": [
        "# reshaping ,stacking , squeezing and unsquezzing tensore"
      ],
      "metadata": {
        "id": "VzwEA9NlKhjd"
      }
    },
    {
      "cell_type": "markdown",
      "source": [
        "* Reshaping - reshape an input tensor to a defined shape\n",
        "\n",
        "* view  - return a view of an input tensor of certain shape but keep the same memory as the original tensor\n",
        "\n",
        "* stacking - combine muultiple tensors on top of each other (vstack) or side by side (hstack)\n",
        "\n",
        "* squeeze - remove all dimension from a tensor\n",
        "\n",
        "* unsqueeze - add a dimension to a target tensor\n",
        "\n",
        "* permute - return a view of the input with dimension permute(swapped) in a certain way"
      ],
      "metadata": {
        "id": "zaWNMGEMKsiP"
      }
    },
    {
      "cell_type": "code",
      "source": [
        "# lets create a tesor\n",
        "import torch\n",
        "x = torch.arange(1.,10.)\n",
        "x, x.shape"
      ],
      "metadata": {
        "colab": {
          "base_uri": "https://localhost:8080/"
        },
        "id": "Df4_jNzTKiPh",
        "outputId": "f38158d7-ec66-4b0d-ac8b-2cfa41bd7b04"
      },
      "execution_count": 248,
      "outputs": [
        {
          "output_type": "execute_result",
          "data": {
            "text/plain": [
              "(tensor([1., 2., 3., 4., 5., 6., 7., 8., 9.]), torch.Size([9]))"
            ]
          },
          "metadata": {},
          "execution_count": 248
        }
      ]
    },
    {
      "cell_type": "code",
      "source": [
        "# add a extra dimension\n",
        "x_reshaped = x.reshape(1,9)\n",
        "x_reshaped, x_reshaped.shape"
      ],
      "metadata": {
        "colab": {
          "base_uri": "https://localhost:8080/"
        },
        "id": "9UQpnZykMKyu",
        "outputId": "903f3a57-b8b0-44bd-e339-92aa46d379e9"
      },
      "execution_count": 249,
      "outputs": [
        {
          "output_type": "execute_result",
          "data": {
            "text/plain": [
              "(tensor([[1., 2., 3., 4., 5., 6., 7., 8., 9.]]), torch.Size([1, 9]))"
            ]
          },
          "metadata": {},
          "execution_count": 249
        }
      ]
    },
    {
      "cell_type": "code",
      "source": [
        "# change the view\n",
        "z = x.view(1,9)\n",
        "z, z.shape"
      ],
      "metadata": {
        "colab": {
          "base_uri": "https://localhost:8080/"
        },
        "id": "sG9tK8J_MjXl",
        "outputId": "3587c9a5-0ca2-48ad-bd1c-4a14b2b151a9"
      },
      "execution_count": 250,
      "outputs": [
        {
          "output_type": "execute_result",
          "data": {
            "text/plain": [
              "(tensor([[1., 2., 3., 4., 5., 6., 7., 8., 9.]]), torch.Size([1, 9]))"
            ]
          },
          "metadata": {},
          "execution_count": 250
        }
      ]
    },
    {
      "cell_type": "code",
      "source": [
        "#changing z changes x ( because a view of a tensor shares the saame memory as the original input)\n",
        "z[:,0] =5\n",
        "z, x"
      ],
      "metadata": {
        "colab": {
          "base_uri": "https://localhost:8080/"
        },
        "id": "VRhlgCX_NYvT",
        "outputId": "430784af-46f3-4f7a-951f-ba40d4184ee0"
      },
      "execution_count": 251,
      "outputs": [
        {
          "output_type": "execute_result",
          "data": {
            "text/plain": [
              "(tensor([[5., 2., 3., 4., 5., 6., 7., 8., 9.]]),\n",
              " tensor([5., 2., 3., 4., 5., 6., 7., 8., 9.]))"
            ]
          },
          "metadata": {},
          "execution_count": 251
        }
      ]
    },
    {
      "cell_type": "code",
      "source": [
        "# stack tensors on top of eachother\n",
        "x_stacked = torch.stack([x,x,x,x],dim=0 )\n",
        "x_stacked"
      ],
      "metadata": {
        "colab": {
          "base_uri": "https://localhost:8080/"
        },
        "id": "H9q-DJAMNtdb",
        "outputId": "4dda7eb7-3bc6-488a-8447-af5e984aa5be"
      },
      "execution_count": 252,
      "outputs": [
        {
          "output_type": "execute_result",
          "data": {
            "text/plain": [
              "tensor([[5., 2., 3., 4., 5., 6., 7., 8., 9.],\n",
              "        [5., 2., 3., 4., 5., 6., 7., 8., 9.],\n",
              "        [5., 2., 3., 4., 5., 6., 7., 8., 9.],\n",
              "        [5., 2., 3., 4., 5., 6., 7., 8., 9.]])"
            ]
          },
          "metadata": {},
          "execution_count": 252
        }
      ]
    },
    {
      "cell_type": "markdown",
      "source": [
        "squeeze"
      ],
      "metadata": {
        "id": "df_m41NaPtRR"
      }
    },
    {
      "cell_type": "code",
      "source": [
        "#tourch.squeeze() -- remove  all single dimensions from a target tensor\n",
        "print(f\"previous tensor: {x_reshaped}\")\n",
        "print(f\"previous shape: {x_reshaped.shape}\")\n",
        "\n",
        "#remove extra dimension from x_shaped\n",
        "x_squeezed = x_reshaped.squeeze()\n",
        "print(f\"\\nNew  tensor: {x_squeezed}\")\n",
        "print(f\"New shape: {x_squeezed.shape}\")"
      ],
      "metadata": {
        "colab": {
          "base_uri": "https://localhost:8080/"
        },
        "id": "NDfP79HXQmXl",
        "outputId": "04889a0c-e01e-4e26-8ece-a4eeeb325e90"
      },
      "execution_count": 270,
      "outputs": [
        {
          "output_type": "stream",
          "name": "stdout",
          "text": [
            "previous tensor: tensor([[5., 2., 3., 4., 5., 6., 7., 8., 9.]])\n",
            "previous shape: torch.Size([1, 9])\n",
            "\n",
            "New  tensor: tensor([5., 2., 3., 4., 5., 6., 7., 8., 9.])\n",
            "New shape: torch.Size([9])\n"
          ]
        }
      ]
    },
    {
      "cell_type": "code",
      "source": [
        "#tourch.unsqueeze() -- remove  all single dimensions from a target tensor\n",
        "print(f\"previous target: {x_squeezed}\")\n",
        "print(f\"previous shape: {x_squeezed.shape}\")\n",
        "\n",
        "#add extra dimension from x_shaped\n",
        "x_unsqueezed = x_squeezed.unsqueeze(dim=0)\n",
        "print(f\"\\nNew  tensor: {x_unsqueezed}\")\n",
        "print(f\"New shape: {x_unsqueezed.shape}\")"
      ],
      "metadata": {
        "colab": {
          "base_uri": "https://localhost:8080/"
        },
        "id": "ZI1U9MhXUEUo",
        "outputId": "69af52bd-e0f0-45bc-a363-862148c0d8aa"
      },
      "execution_count": 272,
      "outputs": [
        {
          "output_type": "stream",
          "name": "stdout",
          "text": [
            "previous target: tensor([5., 2., 3., 4., 5., 6., 7., 8., 9.])\n",
            "previous shape: torch.Size([9])\n",
            "\n",
            "New  tensor: tensor([[5.],\n",
            "        [2.],\n",
            "        [3.],\n",
            "        [4.],\n",
            "        [5.],\n",
            "        [6.],\n",
            "        [7.],\n",
            "        [8.],\n",
            "        [9.]])\n",
            "New shape: torch.Size([9, 1])\n"
          ]
        }
      ]
    },
    {
      "cell_type": "code",
      "source": [
        "#torch.permute - reaarabges the dimensions of a target tensor in a specified order\n",
        "x_original = torch.rand(size=(224,224,3)) #[height,width,color_channels]\n",
        "\n",
        "# permute the original tensor to rearrange the axis (or dim) oredr\n",
        "x_permuted = x_original.permute(2,0,1) # shifts axis 0->1, 1->2,2->0\n",
        "\n",
        "print(f\"previous shape: {x_original.shape}\")\n",
        "print(f\"new shape: {x_permuted.shape}\") #[color_channel,height,width]"
      ],
      "metadata": {
        "colab": {
          "base_uri": "https://localhost:8080/"
        },
        "id": "R3pi1TXWUERR",
        "outputId": "2c239c80-0164-4fa5-ffbf-bbed29550117"
      },
      "execution_count": 274,
      "outputs": [
        {
          "output_type": "stream",
          "name": "stdout",
          "text": [
            "previous shape: torch.Size([224, 224, 3])\n",
            "new shape: torch.Size([3, 224, 224])\n"
          ]
        }
      ]
    },
    {
      "cell_type": "code",
      "source": [
        "x_original[0,0,0] = 728218\n",
        "x_original[0,0,0], x_permuted[0,0,0]"
      ],
      "metadata": {
        "colab": {
          "base_uri": "https://localhost:8080/"
        },
        "id": "DfB-pca2UEPA",
        "outputId": "e6f38ce1-cbb3-49f6-8dec-19baf7611019"
      },
      "execution_count": 280,
      "outputs": [
        {
          "output_type": "execute_result",
          "data": {
            "text/plain": [
              "(tensor(728218.), tensor(728218.))"
            ]
          },
          "metadata": {},
          "execution_count": 280
        }
      ]
    },
    {
      "cell_type": "markdown",
      "source": [
        "## Indexing (selecting data from tensors)\n",
        "\n",
        "Indexing with Pytorch is similar to indexing with numpy"
      ],
      "metadata": {
        "id": "Pvl5HbYwZFiE"
      }
    },
    {
      "cell_type": "code",
      "source": [
        "# create a tensor\n",
        "import torch\n",
        "x = torch.arange(1,10).reshape(1,3,3)\n",
        "x, x.shape"
      ],
      "metadata": {
        "colab": {
          "base_uri": "https://localhost:8080/"
        },
        "id": "RqwhHzaoYns1",
        "outputId": "91561a81-458d-44e6-8f2a-79b2fb23b7d1"
      },
      "execution_count": 282,
      "outputs": [
        {
          "output_type": "execute_result",
          "data": {
            "text/plain": [
              "(tensor([[[1, 2, 3],\n",
              "          [4, 5, 6],\n",
              "          [7, 8, 9]]]),\n",
              " torch.Size([1, 3, 3]))"
            ]
          },
          "metadata": {},
          "execution_count": 282
        }
      ]
    },
    {
      "cell_type": "code",
      "source": [
        "# lets a index on our new tensor\n",
        "x[0]"
      ],
      "metadata": {
        "id": "D1rkx9_VZifp",
        "outputId": "098daefb-f523-484d-c1c0-25733441e526",
        "colab": {
          "base_uri": "https://localhost:8080/"
        }
      },
      "execution_count": 283,
      "outputs": [
        {
          "output_type": "execute_result",
          "data": {
            "text/plain": [
              "tensor([[1, 2, 3],\n",
              "        [4, 5, 6],\n",
              "        [7, 8, 9]])"
            ]
          },
          "metadata": {},
          "execution_count": 283
        }
      ]
    },
    {
      "cell_type": "code",
      "source": [
        "#lets index in middle bracket\n",
        "x[0,0]\n",
        "#x[0][0]"
      ],
      "metadata": {
        "id": "WmoZvtlGZxKj",
        "outputId": "5d17ccef-f8b2-4ad0-882f-4aa828540300",
        "colab": {
          "base_uri": "https://localhost:8080/"
        }
      },
      "execution_count": 286,
      "outputs": [
        {
          "output_type": "execute_result",
          "data": {
            "text/plain": [
              "tensor([1, 2, 3])"
            ]
          },
          "metadata": {},
          "execution_count": 286
        }
      ]
    },
    {
      "cell_type": "code",
      "source": [
        "# Lets index on the most innefr barcket (last dimension)\n",
        "x[0][1][1]"
      ],
      "metadata": {
        "id": "_0WeZ7vPZ3Za",
        "outputId": "8092b6f5-ce2b-4304-e221-bde796231859",
        "colab": {
          "base_uri": "https://localhost:8080/"
        }
      },
      "execution_count": 290,
      "outputs": [
        {
          "output_type": "execute_result",
          "data": {
            "text/plain": [
              "tensor(5)"
            ]
          },
          "metadata": {},
          "execution_count": 290
        }
      ]
    },
    {
      "cell_type": "code",
      "source": [
        "# you can also use \":\" to select \"all\" of a target dimension\n",
        "x[:,0]"
      ],
      "metadata": {
        "id": "DzddBoLDaIdb",
        "outputId": "da9139a4-4f03-4dfe-d0dc-0cdf7b3a93fc",
        "colab": {
          "base_uri": "https://localhost:8080/"
        }
      },
      "execution_count": 291,
      "outputs": [
        {
          "output_type": "execute_result",
          "data": {
            "text/plain": [
              "tensor([[1, 2, 3]])"
            ]
          },
          "metadata": {},
          "execution_count": 291
        }
      ]
    },
    {
      "cell_type": "code",
      "source": [
        "# get all values of 0th and 1st dimension but only index 1 of the 2nd dimension\n",
        "x[:,:,1]"
      ],
      "metadata": {
        "id": "D5VFe4qPapst",
        "outputId": "77f3db9a-c515-4449-a9de-f2542c9eb5bd",
        "colab": {
          "base_uri": "https://localhost:8080/"
        }
      },
      "execution_count": 292,
      "outputs": [
        {
          "output_type": "execute_result",
          "data": {
            "text/plain": [
              "tensor([[2, 5, 8]])"
            ]
          },
          "metadata": {},
          "execution_count": 292
        }
      ]
    },
    {
      "cell_type": "code",
      "source": [
        "# get all values of the 0 dimension but only the 1 index value of 1st and 2nd dimension\n",
        "x[:,1,1]"
      ],
      "metadata": {
        "id": "oeZyfrcxa3oC",
        "outputId": "31a15ada-9e5a-4fd6-ad91-160430699230",
        "colab": {
          "base_uri": "https://localhost:8080/"
        }
      },
      "execution_count": 293,
      "outputs": [
        {
          "output_type": "execute_result",
          "data": {
            "text/plain": [
              "tensor([5])"
            ]
          },
          "metadata": {},
          "execution_count": 293
        }
      ]
    },
    {
      "cell_type": "code",
      "source": [
        "# get index o of 0th 1st dimension and all values of 2nd dimension\n",
        "x[0,0,:]"
      ],
      "metadata": {
        "id": "ScMkThU3bQ4j",
        "outputId": "2eb0a5a5-e80a-4baf-9ae6-e8105c6dc02b",
        "colab": {
          "base_uri": "https://localhost:8080/"
        }
      },
      "execution_count": 294,
      "outputs": [
        {
          "output_type": "execute_result",
          "data": {
            "text/plain": [
              "tensor([1, 2, 3])"
            ]
          },
          "metadata": {},
          "execution_count": 294
        }
      ]
    },
    {
      "cell_type": "code",
      "source": [
        "# index on x to return 9\n",
        "x[0,2,2]\n",
        "\n"
      ],
      "metadata": {
        "id": "X6KMHEKYbkxE",
        "outputId": "dec566ca-7e5e-4c43-d5d3-33a01cde24bb",
        "colab": {
          "base_uri": "https://localhost:8080/"
        }
      },
      "execution_count": 303,
      "outputs": [
        {
          "output_type": "execute_result",
          "data": {
            "text/plain": [
              "tensor(9)"
            ]
          },
          "metadata": {},
          "execution_count": 303
        }
      ]
    },
    {
      "cell_type": "code",
      "source": [
        "# index on x to return 3\n",
        "x[0,0,2]\n"
      ],
      "metadata": {
        "id": "sjmkaH-gdWpe",
        "outputId": "63f8ea25-e209-43fc-d025-57a098b82856",
        "colab": {
          "base_uri": "https://localhost:8080/"
        }
      },
      "execution_count": 306,
      "outputs": [
        {
          "output_type": "execute_result",
          "data": {
            "text/plain": [
              "tensor(3)"
            ]
          },
          "metadata": {},
          "execution_count": 306
        }
      ]
    },
    {
      "cell_type": "code",
      "source": [
        "# index on x return 6\n",
        "x[0,1,2]"
      ],
      "metadata": {
        "id": "WfhuzuO8eSyM",
        "outputId": "ba4989d6-6591-4d1c-d4aa-c0410ae8a603",
        "colab": {
          "base_uri": "https://localhost:8080/"
        }
      },
      "execution_count": 308,
      "outputs": [
        {
          "output_type": "execute_result",
          "data": {
            "text/plain": [
              "tensor(6)"
            ]
          },
          "metadata": {},
          "execution_count": 308
        }
      ]
    },
    {
      "cell_type": "code",
      "source": [],
      "metadata": {
        "id": "fvwXppUMetsX"
      },
      "execution_count": null,
      "outputs": []
    }
  ]
}