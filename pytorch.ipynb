{
  "nbformat": 4,
  "nbformat_minor": 0,
  "metadata": {
    "colab": {
      "provenance": [],
      "gpuType": "T4",
      "authorship_tag": "ABX9TyO2GzvB1a44gfjIgbtsEGvf",
      "include_colab_link": true
    },
    "kernelspec": {
      "name": "python3",
      "display_name": "Python 3"
    },
    "language_info": {
      "name": "python"
    },
    "accelerator": "GPU"
  },
  "cells": [
    {
      "cell_type": "markdown",
      "metadata": {
        "id": "view-in-github",
        "colab_type": "text"
      },
      "source": [
        "<a href=\"https://colab.research.google.com/github/shishiradk/pytorch-pratices/blob/main/pytorch.ipynb\" target=\"_parent\"><img src=\"https://colab.research.google.com/assets/colab-badge.svg\" alt=\"Open In Colab\"/></a>"
      ]
    },
    {
      "cell_type": "code",
      "execution_count": 1,
      "metadata": {
        "colab": {
          "base_uri": "https://localhost:8080/"
        },
        "id": "Ipxmmm-BuHoq",
        "outputId": "b6d8e3ef-b6b8-43ae-830d-591657fbf373"
      },
      "outputs": [
        {
          "output_type": "stream",
          "name": "stdout",
          "text": [
            "Fri Mar 21 17:44:16 2025       \n",
            "+-----------------------------------------------------------------------------------------+\n",
            "| NVIDIA-SMI 550.54.15              Driver Version: 550.54.15      CUDA Version: 12.4     |\n",
            "|-----------------------------------------+------------------------+----------------------+\n",
            "| GPU  Name                 Persistence-M | Bus-Id          Disp.A | Volatile Uncorr. ECC |\n",
            "| Fan  Temp   Perf          Pwr:Usage/Cap |           Memory-Usage | GPU-Util  Compute M. |\n",
            "|                                         |                        |               MIG M. |\n",
            "|=========================================+========================+======================|\n",
            "|   0  Tesla T4                       Off |   00000000:00:04.0 Off |                    0 |\n",
            "| N/A   44C    P8              9W /   70W |       0MiB /  15360MiB |      0%      Default |\n",
            "|                                         |                        |                  N/A |\n",
            "+-----------------------------------------+------------------------+----------------------+\n",
            "                                                                                         \n",
            "+-----------------------------------------------------------------------------------------+\n",
            "| Processes:                                                                              |\n",
            "|  GPU   GI   CI        PID   Type   Process name                              GPU Memory |\n",
            "|        ID   ID                                                               Usage      |\n",
            "|=========================================================================================|\n",
            "|  No running processes found                                                             |\n",
            "+-----------------------------------------------------------------------------------------+\n"
          ]
        }
      ],
      "source": [
        "!nvidia-smi\n"
      ]
    },
    {
      "cell_type": "code",
      "source": [
        "import numpy as np\n",
        "import pandas as pd\n",
        "import matplotlib.pyplot as plt\n",
        "import torch\n",
        "print(torch.__version__)"
      ],
      "metadata": {
        "colab": {
          "base_uri": "https://localhost:8080/"
        },
        "id": "eZa8yggluhDq",
        "outputId": "42b11c50-4a21-4f2d-ed53-ac0c8bf1a4f1"
      },
      "execution_count": 2,
      "outputs": [
        {
          "output_type": "stream",
          "name": "stdout",
          "text": [
            "2.6.0+cu124\n"
          ]
        }
      ]
    },
    {
      "cell_type": "markdown",
      "source": [
        "introduction to tensors\n",
        "creating tensor"
      ],
      "metadata": {
        "id": "0T04eZk0w0gf"
      }
    },
    {
      "cell_type": "markdown",
      "source": [],
      "metadata": {
        "id": "BRYigiaOw3Fh"
      }
    },
    {
      "cell_type": "code",
      "source": [
        "#scalar\n",
        "scalar = torch.tensor(7)\n",
        "scalar\n"
      ],
      "metadata": {
        "colab": {
          "base_uri": "https://localhost:8080/"
        },
        "id": "E78psR9bwJyK",
        "outputId": "08df7ec1-e28e-48eb-d782-6ba2880e516b"
      },
      "execution_count": 3,
      "outputs": [
        {
          "output_type": "execute_result",
          "data": {
            "text/plain": [
              "tensor(7)"
            ]
          },
          "metadata": {},
          "execution_count": 3
        }
      ]
    },
    {
      "cell_type": "code",
      "source": [
        "scalar.ndim"
      ],
      "metadata": {
        "colab": {
          "base_uri": "https://localhost:8080/"
        },
        "id": "IqIfhYWywrSG",
        "outputId": "ec4c8c17-e3de-4520-f077-0dfaa1609042"
      },
      "execution_count": 4,
      "outputs": [
        {
          "output_type": "execute_result",
          "data": {
            "text/plain": [
              "0"
            ]
          },
          "metadata": {},
          "execution_count": 4
        }
      ]
    },
    {
      "cell_type": "code",
      "source": [
        "#get tensor back as python int\n",
        "scalar.item()"
      ],
      "metadata": {
        "colab": {
          "base_uri": "https://localhost:8080/"
        },
        "id": "g57NNznbyB6a",
        "outputId": "4005f27e-db1d-4f73-fd4f-55945a1c6a98"
      },
      "execution_count": 5,
      "outputs": [
        {
          "output_type": "execute_result",
          "data": {
            "text/plain": [
              "7"
            ]
          },
          "metadata": {},
          "execution_count": 5
        }
      ]
    },
    {
      "cell_type": "code",
      "source": [
        "#vector\n",
        "vector = torch.tensor([7,7])\n",
        "vector"
      ],
      "metadata": {
        "colab": {
          "base_uri": "https://localhost:8080/"
        },
        "id": "am4C3NNzyOLN",
        "outputId": "27e2e733-d427-4ba6-aa48-d873b906a768"
      },
      "execution_count": 6,
      "outputs": [
        {
          "output_type": "execute_result",
          "data": {
            "text/plain": [
              "tensor([7, 7])"
            ]
          },
          "metadata": {},
          "execution_count": 6
        }
      ]
    },
    {
      "cell_type": "code",
      "source": [
        "vector.ndim"
      ],
      "metadata": {
        "colab": {
          "base_uri": "https://localhost:8080/"
        },
        "id": "UG3w44iRyh9b",
        "outputId": "97d1408a-c4ca-482f-aab8-22fdf6371027"
      },
      "execution_count": 7,
      "outputs": [
        {
          "output_type": "execute_result",
          "data": {
            "text/plain": [
              "1"
            ]
          },
          "metadata": {},
          "execution_count": 7
        }
      ]
    },
    {
      "cell_type": "code",
      "source": [
        "vector.shape"
      ],
      "metadata": {
        "colab": {
          "base_uri": "https://localhost:8080/"
        },
        "id": "T4ieiQRyymB1",
        "outputId": "f740ca6f-fac7-4e89-b394-f03fe71403b1"
      },
      "execution_count": 8,
      "outputs": [
        {
          "output_type": "execute_result",
          "data": {
            "text/plain": [
              "torch.Size([2])"
            ]
          },
          "metadata": {},
          "execution_count": 8
        }
      ]
    },
    {
      "cell_type": "code",
      "source": [
        "#matrix\n",
        "MATRIX = torch.tensor([[7,8],\n",
        "                      [9,10]])\n",
        "MATRIX\n"
      ],
      "metadata": {
        "colab": {
          "base_uri": "https://localhost:8080/"
        },
        "id": "wexINEwqyolb",
        "outputId": "6edc5172-581e-4931-fb5c-d3b3c7d5550e"
      },
      "execution_count": 9,
      "outputs": [
        {
          "output_type": "execute_result",
          "data": {
            "text/plain": [
              "tensor([[ 7,  8],\n",
              "        [ 9, 10]])"
            ]
          },
          "metadata": {},
          "execution_count": 9
        }
      ]
    },
    {
      "cell_type": "code",
      "source": [
        "MATRIX.ndim"
      ],
      "metadata": {
        "colab": {
          "base_uri": "https://localhost:8080/"
        },
        "id": "Xm7PGAG1zEBZ",
        "outputId": "bf55e094-53ad-40ec-bf14-e5f0bec69655"
      },
      "execution_count": 10,
      "outputs": [
        {
          "output_type": "execute_result",
          "data": {
            "text/plain": [
              "2"
            ]
          },
          "metadata": {},
          "execution_count": 10
        }
      ]
    },
    {
      "cell_type": "code",
      "source": [
        "MATRIX[1]"
      ],
      "metadata": {
        "colab": {
          "base_uri": "https://localhost:8080/"
        },
        "id": "EvoOzPJdzIgd",
        "outputId": "53ce0ad4-b5a3-4ae0-8515-72a1f8d77acf"
      },
      "execution_count": 11,
      "outputs": [
        {
          "output_type": "execute_result",
          "data": {
            "text/plain": [
              "tensor([ 9, 10])"
            ]
          },
          "metadata": {},
          "execution_count": 11
        }
      ]
    },
    {
      "cell_type": "code",
      "source": [
        "MATRIX.shape"
      ],
      "metadata": {
        "colab": {
          "base_uri": "https://localhost:8080/"
        },
        "id": "6eSRxHX2zOS4",
        "outputId": "3c5beb06-81ba-4b27-a692-d36cbd5c70f9"
      },
      "execution_count": 12,
      "outputs": [
        {
          "output_type": "execute_result",
          "data": {
            "text/plain": [
              "torch.Size([2, 2])"
            ]
          },
          "metadata": {},
          "execution_count": 12
        }
      ]
    },
    {
      "cell_type": "code",
      "source": [
        "#TENSOR\n",
        "TENSOR = torch.tensor([[[1,2,4],\n",
        "                         [2,3,4],\n",
        "                         [4,5,6]]])"
      ],
      "metadata": {
        "id": "8950TfPczRPv"
      },
      "execution_count": 13,
      "outputs": []
    },
    {
      "cell_type": "code",
      "source": [
        "TENSOR"
      ],
      "metadata": {
        "colab": {
          "base_uri": "https://localhost:8080/"
        },
        "id": "SJ2MSdj7zqLW",
        "outputId": "d1567af3-9b18-472d-ee27-50c13740029e"
      },
      "execution_count": 14,
      "outputs": [
        {
          "output_type": "execute_result",
          "data": {
            "text/plain": [
              "tensor([[[1, 2, 4],\n",
              "         [2, 3, 4],\n",
              "         [4, 5, 6]]])"
            ]
          },
          "metadata": {},
          "execution_count": 14
        }
      ]
    },
    {
      "cell_type": "code",
      "source": [
        "TENSOR.ndim"
      ],
      "metadata": {
        "colab": {
          "base_uri": "https://localhost:8080/"
        },
        "id": "LUFlW-blztOy",
        "outputId": "56d571f4-5171-422f-dd90-df43c9fe8eb2"
      },
      "execution_count": 15,
      "outputs": [
        {
          "output_type": "execute_result",
          "data": {
            "text/plain": [
              "3"
            ]
          },
          "metadata": {},
          "execution_count": 15
        }
      ]
    },
    {
      "cell_type": "code",
      "source": [
        "TENSOR.shape"
      ],
      "metadata": {
        "colab": {
          "base_uri": "https://localhost:8080/"
        },
        "id": "NOi9qPb9zvmF",
        "outputId": "3c0d5e02-ae63-4d7f-db88-0006e8a466fb"
      },
      "execution_count": 16,
      "outputs": [
        {
          "output_type": "execute_result",
          "data": {
            "text/plain": [
              "torch.Size([1, 3, 3])"
            ]
          },
          "metadata": {},
          "execution_count": 16
        }
      ]
    },
    {
      "cell_type": "code",
      "source": [
        "TENSOR[0]"
      ],
      "metadata": {
        "colab": {
          "base_uri": "https://localhost:8080/"
        },
        "id": "6eeTCFwtzyJi",
        "outputId": "bc88fccb-7ac4-46bb-d1a6-c825425dfad1"
      },
      "execution_count": 17,
      "outputs": [
        {
          "output_type": "execute_result",
          "data": {
            "text/plain": [
              "tensor([[1, 2, 4],\n",
              "        [2, 3, 4],\n",
              "        [4, 5, 6]])"
            ]
          },
          "metadata": {},
          "execution_count": 17
        }
      ]
    },
    {
      "cell_type": "code",
      "source": [
        "TENSOR = torch.tensor([[[6,7,8],\n",
        "                        [5,6,7],\n",
        "                        [4,5,6]]])\n",
        "TENSOR"
      ],
      "metadata": {
        "colab": {
          "base_uri": "https://localhost:8080/"
        },
        "id": "ET2lqt--z0gu",
        "outputId": "61cfcb3b-f8e0-4321-c9b5-3bcdf1067bd7"
      },
      "execution_count": 18,
      "outputs": [
        {
          "output_type": "execute_result",
          "data": {
            "text/plain": [
              "tensor([[[6, 7, 8],\n",
              "         [5, 6, 7],\n",
              "         [4, 5, 6]]])"
            ]
          },
          "metadata": {},
          "execution_count": 18
        }
      ]
    },
    {
      "cell_type": "code",
      "source": [
        "TENSOR.ndim"
      ],
      "metadata": {
        "colab": {
          "base_uri": "https://localhost:8080/"
        },
        "id": "CsuKrOcMz27a",
        "outputId": "998007dc-50fe-4ac8-f503-b9c9fd9ad9e9"
      },
      "execution_count": 19,
      "outputs": [
        {
          "output_type": "execute_result",
          "data": {
            "text/plain": [
              "3"
            ]
          },
          "metadata": {},
          "execution_count": 19
        }
      ]
    },
    {
      "cell_type": "code",
      "source": [
        "TENSOR.shape"
      ],
      "metadata": {
        "colab": {
          "base_uri": "https://localhost:8080/"
        },
        "id": "B0LmokBZ_UwJ",
        "outputId": "ee0ce56e-5e84-410e-f645-34c95fc550e1"
      },
      "execution_count": 20,
      "outputs": [
        {
          "output_type": "execute_result",
          "data": {
            "text/plain": [
              "torch.Size([1, 3, 3])"
            ]
          },
          "metadata": {},
          "execution_count": 20
        }
      ]
    },
    {
      "cell_type": "code",
      "source": [
        "TENSOR[0]"
      ],
      "metadata": {
        "colab": {
          "base_uri": "https://localhost:8080/"
        },
        "id": "xUU7BC75_YAa",
        "outputId": "a0d57c6c-75ff-4446-944a-c90d6af11c6b"
      },
      "execution_count": 21,
      "outputs": [
        {
          "output_type": "execute_result",
          "data": {
            "text/plain": [
              "tensor([[6, 7, 8],\n",
              "        [5, 6, 7],\n",
              "        [4, 5, 6]])"
            ]
          },
          "metadata": {},
          "execution_count": 21
        }
      ]
    },
    {
      "cell_type": "code",
      "source": [
        "#create a random tensor of size (3,4)\n",
        "random_tensor = torch.rand(10,10,10)\n",
        "random_tensor"
      ],
      "metadata": {
        "colab": {
          "base_uri": "https://localhost:8080/"
        },
        "id": "gTsFrcdZ_coi",
        "outputId": "096814cf-301f-4df2-9574-3f87f4771c9c"
      },
      "execution_count": 22,
      "outputs": [
        {
          "output_type": "execute_result",
          "data": {
            "text/plain": [
              "tensor([[[6.3162e-01, 4.9528e-01, 3.6608e-01, 2.9302e-01, 1.1218e-01,\n",
              "          6.2653e-01, 6.3704e-01, 8.6953e-01, 9.8138e-01, 3.6672e-01],\n",
              "         [1.6448e-01, 3.3448e-01, 9.6688e-01, 5.4930e-01, 1.9095e-02,\n",
              "          5.4988e-01, 5.5195e-01, 2.1451e-01, 1.0242e-01, 6.7545e-01],\n",
              "         [7.3032e-01, 7.4938e-01, 8.4487e-01, 5.0455e-02, 7.1548e-01,\n",
              "          1.7677e-01, 6.6339e-01, 9.9510e-01, 9.2433e-01, 7.6185e-01],\n",
              "         [7.3651e-01, 2.2238e-01, 1.2684e-01, 6.8286e-01, 4.6809e-01,\n",
              "          9.0194e-01, 2.2123e-01, 9.2637e-02, 1.4750e-01, 1.3863e-01],\n",
              "         [7.9960e-01, 5.8072e-01, 1.3926e-01, 8.7651e-03, 6.3588e-01,\n",
              "          6.3293e-02, 6.8098e-01, 8.5847e-01, 6.6818e-01, 3.0912e-01],\n",
              "         [2.1621e-01, 3.4685e-01, 6.5830e-01, 2.8540e-01, 8.0132e-01,\n",
              "          3.9535e-01, 4.0124e-01, 7.0475e-01, 8.5865e-01, 8.9154e-01],\n",
              "         [3.5510e-01, 1.3768e-01, 9.4570e-01, 4.0374e-01, 6.3286e-01,\n",
              "          5.3093e-01, 9.7422e-02, 5.5388e-02, 2.0245e-01, 5.8940e-01],\n",
              "         [2.2090e-01, 1.1223e-01, 4.8866e-01, 9.3133e-01, 5.8294e-02,\n",
              "          1.0891e-01, 9.7289e-01, 3.7045e-01, 5.3355e-01, 9.1466e-01],\n",
              "         [5.5826e-01, 4.2127e-01, 7.6943e-01, 6.1984e-02, 3.5203e-01,\n",
              "          3.4478e-01, 6.0919e-01, 7.5891e-01, 5.8041e-01, 6.7741e-02],\n",
              "         [2.5895e-01, 1.8844e-01, 4.6949e-01, 2.4753e-01, 8.6459e-01,\n",
              "          7.5220e-01, 9.1643e-01, 1.7189e-01, 1.5622e-01, 8.8720e-01]],\n",
              "\n",
              "        [[9.1126e-01, 8.5778e-01, 5.0302e-01, 8.6111e-01, 5.9630e-01,\n",
              "          1.0954e-01, 8.2285e-01, 5.2049e-02, 5.0590e-01, 9.8145e-01],\n",
              "         [8.1795e-01, 3.6000e-01, 8.8156e-01, 2.1846e-01, 1.2980e-01,\n",
              "          7.6347e-01, 9.1286e-01, 7.5999e-01, 9.1824e-01, 9.9491e-01],\n",
              "         [7.8149e-01, 8.3278e-01, 5.5916e-01, 5.2067e-01, 8.7849e-01,\n",
              "          1.4312e-01, 1.2340e-01, 7.3064e-01, 5.2777e-01, 7.0311e-01],\n",
              "         [5.3106e-01, 3.7026e-02, 8.7292e-01, 9.8180e-01, 9.8657e-01,\n",
              "          6.6098e-01, 3.4908e-01, 6.5604e-01, 6.4648e-01, 1.6124e-01],\n",
              "         [7.9691e-01, 4.5137e-01, 2.2545e-01, 9.8177e-01, 7.2649e-01,\n",
              "          7.6541e-01, 3.0171e-01, 2.1172e-01, 6.4819e-01, 4.8545e-01],\n",
              "         [1.0075e-01, 8.1941e-01, 5.2805e-01, 1.8153e-01, 9.8486e-02,\n",
              "          4.8608e-01, 2.8187e-01, 4.5679e-01, 9.4061e-01, 8.9580e-01],\n",
              "         [7.1544e-01, 4.9080e-01, 6.2907e-03, 7.1803e-01, 5.0478e-01,\n",
              "          6.6024e-01, 3.9700e-03, 2.2881e-01, 6.3417e-01, 6.0644e-02],\n",
              "         [3.4916e-01, 2.5934e-01, 6.7761e-01, 1.3663e-02, 3.1840e-01,\n",
              "          8.2883e-01, 4.8136e-01, 4.5411e-01, 4.3547e-01, 7.3196e-01],\n",
              "         [6.4933e-01, 1.8559e-01, 6.3389e-01, 6.4493e-01, 1.5437e-01,\n",
              "          7.0839e-01, 8.7679e-01, 6.7482e-01, 8.7605e-01, 5.0821e-01],\n",
              "         [4.8780e-01, 4.3330e-01, 9.3251e-01, 3.1718e-01, 7.5391e-01,\n",
              "          7.2226e-01, 5.2502e-01, 4.2382e-02, 7.3262e-01, 4.2285e-01]],\n",
              "\n",
              "        [[3.5133e-01, 7.1726e-01, 3.9701e-01, 2.7033e-01, 2.9898e-01,\n",
              "          2.5968e-01, 4.8916e-01, 9.7773e-01, 6.5324e-01, 6.3248e-01],\n",
              "         [2.2850e-01, 2.8490e-01, 5.8382e-01, 8.3251e-01, 6.7310e-01,\n",
              "          4.3193e-01, 1.1159e-01, 1.2672e-01, 7.6839e-01, 9.5043e-01],\n",
              "         [9.8539e-01, 2.9719e-01, 2.1314e-01, 9.2902e-01, 2.2513e-01,\n",
              "          1.7039e-01, 4.0519e-01, 2.3969e-01, 2.1064e-01, 3.2155e-01],\n",
              "         [7.0986e-01, 2.3025e-01, 2.9748e-01, 7.0163e-01, 9.9129e-01,\n",
              "          3.4664e-01, 1.1285e-01, 8.7031e-01, 4.6998e-01, 7.2312e-01],\n",
              "         [8.7122e-01, 4.4966e-01, 6.8246e-01, 1.3162e-01, 5.1083e-02,\n",
              "          5.2468e-01, 9.4381e-01, 5.0444e-01, 8.3685e-02, 4.1069e-01],\n",
              "         [3.8524e-01, 4.8712e-01, 6.7744e-01, 2.4753e-01, 1.7378e-01,\n",
              "          4.5543e-01, 7.7909e-01, 6.5434e-01, 6.4595e-01, 9.5647e-01],\n",
              "         [9.9054e-01, 9.4177e-01, 7.8250e-01, 3.5065e-01, 7.3892e-01,\n",
              "          3.3538e-01, 7.2827e-02, 2.9720e-02, 8.4729e-01, 4.2009e-01],\n",
              "         [7.2029e-01, 8.3867e-02, 8.8839e-01, 5.5621e-01, 1.1759e-01,\n",
              "          5.0474e-01, 9.6338e-03, 6.5069e-01, 9.7361e-01, 7.9285e-01],\n",
              "         [8.1773e-01, 1.0042e-01, 5.7200e-01, 5.5716e-01, 8.9637e-01,\n",
              "          5.1331e-01, 6.8798e-01, 4.8233e-01, 8.6732e-01, 9.3774e-01],\n",
              "         [3.7976e-01, 8.7876e-01, 8.6463e-02, 3.7832e-01, 6.2148e-01,\n",
              "          9.4812e-01, 7.4602e-01, 5.9049e-01, 1.8260e-01, 5.3029e-01]],\n",
              "\n",
              "        [[7.2411e-01, 2.7771e-01, 1.9280e-01, 5.9776e-01, 8.7971e-01,\n",
              "          6.3600e-01, 2.6780e-01, 2.1424e-01, 5.4613e-01, 2.3833e-01],\n",
              "         [1.8911e-01, 7.1829e-01, 9.1502e-01, 1.0772e-01, 2.0340e-01,\n",
              "          5.6963e-01, 2.0737e-01, 6.8318e-01, 8.1056e-01, 1.2859e-02],\n",
              "         [1.7276e-01, 2.8234e-01, 5.6316e-01, 6.5515e-01, 6.7606e-01,\n",
              "          4.2743e-01, 2.5502e-01, 3.3053e-01, 8.2186e-01, 7.0241e-01],\n",
              "         [5.0167e-01, 7.2454e-01, 8.4116e-01, 9.1793e-01, 8.0497e-01,\n",
              "          3.0788e-01, 3.8499e-02, 4.3080e-01, 4.9114e-01, 7.1293e-01],\n",
              "         [1.5577e-01, 8.6819e-01, 7.8359e-01, 8.1267e-01, 6.2565e-01,\n",
              "          6.1354e-01, 6.1642e-01, 5.1274e-01, 8.6697e-01, 4.1916e-01],\n",
              "         [7.4311e-01, 4.3785e-01, 3.8424e-01, 2.9388e-01, 4.0395e-01,\n",
              "          7.3312e-01, 1.3491e-01, 3.9081e-01, 5.4656e-01, 3.1389e-01],\n",
              "         [5.1939e-01, 7.7374e-01, 7.7763e-01, 2.1744e-01, 3.4150e-01,\n",
              "          2.4926e-01, 4.5006e-01, 6.0811e-01, 2.7085e-01, 3.6033e-01],\n",
              "         [2.7643e-01, 3.4790e-01, 6.0522e-01, 5.4539e-01, 2.5574e-01,\n",
              "          8.7883e-01, 3.4999e-01, 5.2676e-01, 4.4768e-01, 2.2581e-01],\n",
              "         [8.0153e-01, 4.6688e-02, 8.1195e-01, 8.3687e-01, 5.3057e-01,\n",
              "          7.5588e-01, 5.2637e-01, 8.2640e-01, 7.4463e-01, 5.9945e-01],\n",
              "         [1.5942e-01, 8.7136e-01, 8.9717e-01, 4.7890e-01, 7.9806e-01,\n",
              "          9.7012e-01, 1.5260e-01, 8.0026e-01, 8.7821e-01, 6.7747e-01]],\n",
              "\n",
              "        [[3.1697e-02, 7.0945e-01, 1.8558e-02, 3.7664e-01, 2.4262e-01,\n",
              "          2.9275e-01, 8.1106e-01, 1.7449e-01, 6.9218e-01, 2.0593e-01],\n",
              "         [5.7353e-01, 6.7295e-01, 7.6256e-01, 4.4790e-01, 3.9698e-01,\n",
              "          8.4655e-01, 3.3763e-01, 8.7309e-01, 9.4116e-01, 5.6994e-01],\n",
              "         [3.9237e-01, 8.9556e-01, 9.1831e-02, 8.7986e-01, 5.3241e-02,\n",
              "          3.6196e-01, 4.3631e-01, 6.2128e-01, 5.6560e-01, 5.7685e-01],\n",
              "         [2.5212e-01, 8.8910e-01, 6.7678e-01, 2.9027e-01, 2.2954e-01,\n",
              "          5.2267e-01, 3.8669e-01, 1.0027e-03, 9.1640e-01, 5.5638e-01],\n",
              "         [7.3678e-01, 4.4810e-01, 6.7151e-01, 9.8478e-02, 6.8619e-01,\n",
              "          9.7275e-01, 4.2415e-01, 9.7396e-01, 8.2812e-01, 6.0593e-01],\n",
              "         [3.5424e-01, 2.9598e-01, 2.8847e-01, 2.2119e-01, 2.0182e-01,\n",
              "          4.6962e-01, 1.8919e-01, 6.5830e-01, 5.6278e-01, 4.4205e-01],\n",
              "         [7.6659e-01, 7.6434e-02, 1.0510e-01, 5.9963e-01, 5.0541e-01,\n",
              "          8.3158e-02, 8.1826e-02, 4.1129e-01, 1.6720e-01, 1.2337e-01],\n",
              "         [6.2300e-01, 1.4210e-01, 1.1022e-01, 2.0247e-01, 6.4235e-01,\n",
              "          6.7860e-01, 7.5128e-01, 2.3316e-01, 8.8596e-01, 1.7369e-01],\n",
              "         [2.2316e-01, 5.1196e-01, 7.8976e-01, 7.6190e-01, 5.5914e-01,\n",
              "          6.0224e-01, 9.8620e-01, 1.9545e-02, 4.0981e-01, 1.6792e-01],\n",
              "         [2.0158e-01, 5.7846e-01, 3.9935e-01, 2.4265e-01, 1.0183e-02,\n",
              "          9.8916e-01, 2.6362e-02, 8.8677e-01, 6.6394e-01, 5.5533e-01]],\n",
              "\n",
              "        [[5.9514e-01, 3.7974e-01, 6.8558e-01, 1.5151e-01, 2.2971e-01,\n",
              "          5.1679e-01, 8.6418e-01, 6.4460e-01, 2.3981e-01, 3.1035e-01],\n",
              "         [9.1636e-01, 8.5227e-02, 3.6649e-01, 3.7831e-01, 6.2423e-01,\n",
              "          2.0004e-01, 3.3333e-01, 4.7683e-01, 6.7826e-01, 7.8002e-01],\n",
              "         [1.4470e-01, 4.9630e-01, 8.0811e-01, 4.0577e-01, 3.1044e-01,\n",
              "          9.3093e-01, 4.2358e-01, 5.6204e-01, 6.3617e-01, 9.2134e-01],\n",
              "         [3.7442e-01, 5.0484e-01, 7.8079e-01, 4.6665e-01, 9.5467e-01,\n",
              "          2.2592e-01, 2.9874e-02, 7.3362e-01, 6.6067e-01, 5.6754e-01],\n",
              "         [1.1037e-01, 2.0054e-01, 8.2128e-01, 1.4541e-01, 1.1743e-03,\n",
              "          6.8072e-01, 1.8351e-01, 8.9836e-01, 2.3687e-01, 3.5893e-01],\n",
              "         [8.5305e-02, 5.9003e-01, 2.5459e-01, 7.5382e-01, 6.5884e-01,\n",
              "          9.5295e-01, 7.5991e-01, 9.3424e-01, 7.9554e-01, 1.4795e-01],\n",
              "         [6.4290e-01, 2.2547e-01, 3.0124e-01, 3.0148e-02, 3.6255e-01,\n",
              "          8.5828e-01, 8.0019e-01, 5.7262e-01, 1.2082e-01, 4.2051e-01],\n",
              "         [8.7050e-01, 1.2395e-02, 3.4408e-01, 1.3220e-01, 3.6302e-01,\n",
              "          5.1877e-01, 5.1061e-01, 8.2275e-01, 7.4129e-01, 5.4710e-01],\n",
              "         [8.6719e-01, 2.7947e-01, 9.7216e-01, 9.6813e-02, 7.9690e-01,\n",
              "          4.4159e-01, 8.8551e-01, 4.5850e-02, 3.3953e-01, 4.2303e-01],\n",
              "         [9.7080e-01, 3.5304e-01, 3.7541e-01, 3.2376e-01, 3.0983e-01,\n",
              "          6.3138e-01, 5.7129e-02, 8.6487e-01, 5.2767e-01, 4.9540e-01]],\n",
              "\n",
              "        [[4.5546e-01, 4.5693e-01, 2.5816e-01, 9.2659e-01, 6.2776e-01,\n",
              "          4.7853e-01, 9.6138e-01, 2.4436e-01, 7.6425e-01, 9.0382e-01],\n",
              "         [9.7146e-01, 3.7716e-01, 4.2347e-01, 2.1553e-01, 4.5111e-01,\n",
              "          6.4795e-01, 5.8558e-01, 7.6775e-01, 8.1370e-01, 2.1697e-01],\n",
              "         [1.8042e-02, 3.2099e-02, 2.9347e-01, 9.2878e-01, 8.5503e-01,\n",
              "          7.7142e-01, 7.3210e-01, 1.3808e-01, 8.6631e-01, 9.9566e-01],\n",
              "         [6.8185e-01, 2.8908e-01, 3.9643e-01, 7.8430e-01, 7.6090e-01,\n",
              "          6.9263e-01, 1.0802e-01, 5.7768e-01, 3.9544e-01, 4.3593e-01],\n",
              "         [3.8658e-01, 2.0346e-01, 7.2399e-01, 1.6673e-01, 6.1338e-01,\n",
              "          6.9486e-01, 5.3058e-01, 7.6286e-01, 7.1601e-01, 1.4014e-01],\n",
              "         [8.5379e-01, 4.4980e-01, 9.3321e-01, 3.5328e-01, 7.9161e-01,\n",
              "          7.0562e-01, 7.0942e-01, 3.3045e-01, 2.2767e-01, 6.0361e-01],\n",
              "         [1.0768e-01, 8.0346e-01, 2.2741e-01, 7.1152e-01, 1.8759e-01,\n",
              "          5.6905e-01, 9.1296e-01, 6.2640e-01, 9.9465e-01, 6.9739e-01],\n",
              "         [4.2097e-01, 2.9951e-02, 1.4809e-03, 7.5295e-01, 7.3928e-01,\n",
              "          9.5556e-01, 2.4094e-01, 1.2634e-01, 1.2928e-01, 1.2216e-01],\n",
              "         [9.2568e-01, 8.7181e-01, 4.6551e-01, 7.3521e-01, 8.4785e-01,\n",
              "          9.2547e-01, 2.1066e-01, 2.2978e-01, 1.5538e-02, 2.7989e-01],\n",
              "         [5.2220e-01, 5.7874e-01, 9.8851e-01, 3.1676e-01, 6.0934e-01,\n",
              "          6.4015e-01, 3.6384e-01, 2.2632e-01, 3.7605e-01, 8.6604e-01]],\n",
              "\n",
              "        [[1.7004e-01, 9.0275e-02, 9.2927e-02, 5.1043e-01, 1.7959e-01,\n",
              "          7.0304e-01, 5.7393e-01, 5.3000e-01, 1.2315e-02, 5.3964e-01],\n",
              "         [8.4384e-01, 3.3711e-01, 9.4546e-01, 4.9012e-02, 8.8271e-01,\n",
              "          1.3346e-01, 7.5472e-01, 6.0807e-01, 7.3734e-01, 2.1974e-01],\n",
              "         [1.5742e-01, 2.4251e-01, 1.1800e-01, 8.6584e-01, 8.9387e-01,\n",
              "          5.6565e-01, 1.1262e-01, 2.3425e-01, 7.7881e-01, 7.7816e-01],\n",
              "         [8.2639e-01, 9.0642e-01, 2.2106e-01, 1.1594e-01, 7.2213e-02,\n",
              "          9.5113e-01, 9.6791e-01, 6.0137e-01, 5.8942e-01, 2.9906e-01],\n",
              "         [6.6109e-01, 4.4113e-01, 1.4340e-01, 8.0811e-01, 7.7856e-01,\n",
              "          5.2182e-01, 5.4078e-02, 7.8851e-01, 9.9675e-02, 2.5397e-01],\n",
              "         [9.3221e-01, 7.4939e-01, 4.6745e-02, 3.9781e-01, 7.1064e-01,\n",
              "          3.0828e-01, 6.1614e-01, 5.4605e-01, 4.2243e-01, 4.0324e-01],\n",
              "         [6.8695e-01, 8.8419e-02, 3.4342e-01, 3.9614e-01, 5.1619e-01,\n",
              "          5.8698e-01, 4.7980e-01, 8.1994e-01, 4.6852e-01, 4.1371e-01],\n",
              "         [2.5767e-04, 9.4716e-01, 9.2391e-01, 9.8070e-01, 9.4579e-01,\n",
              "          3.3555e-01, 1.2288e-01, 7.4428e-01, 1.7585e-01, 4.1266e-01],\n",
              "         [9.9441e-01, 2.9251e-01, 4.7483e-01, 7.0400e-01, 6.3726e-01,\n",
              "          9.6748e-01, 6.3781e-01, 5.3167e-01, 6.5464e-01, 3.3848e-01],\n",
              "         [4.0378e-01, 1.8597e-01, 5.3478e-01, 3.4011e-01, 7.4924e-03,\n",
              "          1.7440e-01, 6.8927e-02, 5.3515e-01, 8.2381e-01, 8.5621e-01]],\n",
              "\n",
              "        [[7.8336e-01, 9.2593e-02, 2.6707e-01, 7.1580e-01, 9.0727e-01,\n",
              "          4.7671e-01, 8.1038e-01, 5.7802e-01, 8.5262e-01, 5.9166e-02],\n",
              "         [3.4502e-01, 4.9909e-01, 5.3981e-01, 6.4158e-01, 2.2562e-01,\n",
              "          2.3711e-01, 5.9100e-01, 6.9385e-01, 5.4651e-01, 6.1912e-02],\n",
              "         [3.3721e-01, 5.9858e-01, 3.6305e-02, 6.8127e-01, 8.9255e-01,\n",
              "          5.2795e-01, 9.5052e-01, 7.1156e-01, 8.7993e-01, 6.4416e-01],\n",
              "         [1.8533e-01, 3.2506e-01, 2.4259e-01, 1.7320e-02, 6.0505e-01,\n",
              "          2.3037e-01, 3.5020e-01, 9.9961e-01, 7.1073e-01, 6.5296e-01],\n",
              "         [4.5115e-01, 3.0149e-01, 7.0419e-01, 2.6279e-02, 1.8494e-01,\n",
              "          3.0988e-01, 6.3948e-01, 3.5883e-01, 8.5652e-01, 1.4700e-01],\n",
              "         [4.7069e-01, 2.8954e-01, 4.7577e-01, 2.2286e-01, 7.0208e-01,\n",
              "          6.2291e-01, 4.8304e-01, 7.6920e-01, 5.8455e-01, 2.9686e-01],\n",
              "         [4.4624e-01, 9.0320e-01, 7.2975e-01, 3.8051e-01, 9.4671e-01,\n",
              "          1.8247e-01, 9.8150e-01, 7.0205e-02, 5.5068e-01, 5.2137e-01],\n",
              "         [1.1884e-02, 5.1699e-01, 6.8519e-01, 8.2095e-01, 5.4083e-03,\n",
              "          6.5430e-01, 3.6738e-01, 6.2149e-02, 1.1960e-01, 1.2962e-01],\n",
              "         [9.1383e-01, 6.0740e-01, 9.6233e-01, 9.4383e-01, 8.8406e-01,\n",
              "          4.2295e-01, 2.0616e-01, 1.7706e-01, 7.8269e-02, 1.4089e-02],\n",
              "         [4.7086e-01, 4.3866e-01, 1.9818e-01, 4.5454e-01, 2.5217e-01,\n",
              "          9.1943e-02, 8.7428e-01, 7.9952e-01, 7.5592e-01, 2.0453e-01]],\n",
              "\n",
              "        [[2.9486e-01, 1.7268e-01, 8.2476e-01, 6.7465e-01, 7.4586e-01,\n",
              "          7.7345e-01, 8.4342e-01, 8.8651e-01, 5.6852e-01, 8.6110e-01],\n",
              "         [2.3607e-01, 7.6231e-01, 9.6910e-01, 7.7234e-01, 7.6070e-02,\n",
              "          9.5165e-01, 8.1752e-01, 6.8762e-01, 5.2210e-01, 5.3595e-01],\n",
              "         [2.2269e-01, 9.8620e-01, 4.3500e-01, 8.3070e-01, 1.5974e-01,\n",
              "          2.4191e-02, 6.3712e-02, 2.7218e-01, 1.2901e-01, 4.1212e-01],\n",
              "         [9.9816e-01, 9.3769e-01, 3.7596e-01, 2.2357e-01, 9.9626e-01,\n",
              "          7.1462e-01, 1.1709e-01, 5.0937e-01, 9.7606e-01, 8.2274e-01],\n",
              "         [8.1598e-02, 8.4336e-02, 6.1966e-01, 3.3037e-02, 9.6315e-01,\n",
              "          3.8047e-01, 7.6065e-01, 3.4792e-01, 1.8622e-02, 5.8832e-01],\n",
              "         [8.7940e-01, 4.9830e-01, 6.6945e-01, 3.0533e-01, 4.8138e-01,\n",
              "          1.8822e-01, 9.5777e-02, 8.3797e-01, 5.5349e-01, 6.9699e-01],\n",
              "         [4.2251e-01, 7.9554e-01, 7.0001e-01, 7.4811e-01, 9.4251e-01,\n",
              "          9.3680e-01, 4.2225e-01, 6.4322e-01, 2.2594e-01, 3.3047e-02],\n",
              "         [3.1214e-01, 8.7477e-01, 3.1370e-01, 9.4538e-02, 9.7962e-01,\n",
              "          5.5303e-01, 1.2205e-01, 2.5759e-01, 2.1292e-01, 3.3891e-01],\n",
              "         [2.1578e-01, 9.0515e-01, 4.1113e-01, 3.0753e-01, 5.2608e-01,\n",
              "          9.1214e-01, 9.4506e-01, 1.6065e-01, 5.5605e-01, 5.3638e-01],\n",
              "         [5.7735e-01, 7.8552e-01, 5.3541e-01, 4.1165e-01, 5.8515e-01,\n",
              "          9.2590e-01, 1.1661e-01, 8.9819e-01, 2.1336e-01, 9.1538e-01]]])"
            ]
          },
          "metadata": {},
          "execution_count": 22
        }
      ]
    },
    {
      "cell_type": "code",
      "source": [
        "random_tensor.ndim"
      ],
      "metadata": {
        "colab": {
          "base_uri": "https://localhost:8080/"
        },
        "id": "-RxQZRQXDZT3",
        "outputId": "4efc4195-9760-41ff-db9e-f670b99ac210"
      },
      "execution_count": 23,
      "outputs": [
        {
          "output_type": "execute_result",
          "data": {
            "text/plain": [
              "3"
            ]
          },
          "metadata": {},
          "execution_count": 23
        }
      ]
    },
    {
      "cell_type": "code",
      "source": [
        "#create a random tensor with similar shape to an image tensor\n",
        "random_image_size_tensor = torch.rand(size=(3,224,224))#height,width,color channel\n",
        "random_image_size_tensor.shape, random_image_size_tensor.ndim"
      ],
      "metadata": {
        "colab": {
          "base_uri": "https://localhost:8080/"
        },
        "id": "2lE6FB17DpMe",
        "outputId": "6e47d620-8508-488a-fa5f-a1757ca45c54"
      },
      "execution_count": 24,
      "outputs": [
        {
          "output_type": "execute_result",
          "data": {
            "text/plain": [
              "(torch.Size([3, 224, 224]), 3)"
            ]
          },
          "metadata": {},
          "execution_count": 24
        }
      ]
    },
    {
      "cell_type": "code",
      "source": [
        "torch.rand(3,3)"
      ],
      "metadata": {
        "colab": {
          "base_uri": "https://localhost:8080/"
        },
        "id": "RcRkAqzqHZIe",
        "outputId": "7d84385c-90f5-4359-9d92-7c046735c9e8"
      },
      "execution_count": 25,
      "outputs": [
        {
          "output_type": "execute_result",
          "data": {
            "text/plain": [
              "tensor([[0.3710, 0.5277, 0.9142],\n",
              "        [0.9162, 0.0754, 0.3269],\n",
              "        [0.8275, 0.1406, 0.6265]])"
            ]
          },
          "metadata": {},
          "execution_count": 25
        }
      ]
    },
    {
      "cell_type": "code",
      "source": [
        "#zeros and ones\n",
        "zero = torch.zeros(size=(3,4))\n",
        "zero"
      ],
      "metadata": {
        "colab": {
          "base_uri": "https://localhost:8080/"
        },
        "id": "iSZZDYqWIVsz",
        "outputId": "ae7bbc47-7757-4110-f671-06974dc2d511"
      },
      "execution_count": 26,
      "outputs": [
        {
          "output_type": "execute_result",
          "data": {
            "text/plain": [
              "tensor([[0., 0., 0., 0.],\n",
              "        [0., 0., 0., 0.],\n",
              "        [0., 0., 0., 0.]])"
            ]
          },
          "metadata": {},
          "execution_count": 26
        }
      ]
    },
    {
      "cell_type": "code",
      "source": [
        "#create a tensor of all ones\n",
        "ones = torch.ones(size=(3,4))\n",
        "ones"
      ],
      "metadata": {
        "colab": {
          "base_uri": "https://localhost:8080/"
        },
        "id": "uZNjgqG0IrqQ",
        "outputId": "21dbe26b-a06f-42cc-b703-d2010611f503"
      },
      "execution_count": 27,
      "outputs": [
        {
          "output_type": "execute_result",
          "data": {
            "text/plain": [
              "tensor([[1., 1., 1., 1.],\n",
              "        [1., 1., 1., 1.],\n",
              "        [1., 1., 1., 1.]])"
            ]
          },
          "metadata": {},
          "execution_count": 27
        }
      ]
    },
    {
      "cell_type": "code",
      "source": [
        "#use torch.range()\n",
        "one_to_ten = torch.arange(1,11)\n",
        "one_to_ten"
      ],
      "metadata": {
        "colab": {
          "base_uri": "https://localhost:8080/"
        },
        "id": "pbHnsIQFI3N9",
        "outputId": "23466c5b-75ce-4e87-92fd-ed0581668281"
      },
      "execution_count": 28,
      "outputs": [
        {
          "output_type": "execute_result",
          "data": {
            "text/plain": [
              "tensor([ 1,  2,  3,  4,  5,  6,  7,  8,  9, 10])"
            ]
          },
          "metadata": {},
          "execution_count": 28
        }
      ]
    },
    {
      "cell_type": "code",
      "source": [
        "one_to_ten = torch.arange(start=1, end=11, step=1)\n",
        "one_to_ten"
      ],
      "metadata": {
        "colab": {
          "base_uri": "https://localhost:8080/"
        },
        "id": "40k8u2g-JdPJ",
        "outputId": "8f8a6b78-bf88-418b-a369-2ab4d2fb27f2"
      },
      "execution_count": 29,
      "outputs": [
        {
          "output_type": "execute_result",
          "data": {
            "text/plain": [
              "tensor([ 1,  2,  3,  4,  5,  6,  7,  8,  9, 10])"
            ]
          },
          "metadata": {},
          "execution_count": 29
        }
      ]
    },
    {
      "cell_type": "code",
      "source": [
        "one_to_ten.shape"
      ],
      "metadata": {
        "id": "q-tCvr99Jsld",
        "outputId": "3f70adaa-b094-4e56-fbd7-9eac16c1f4db",
        "colab": {
          "base_uri": "https://localhost:8080/"
        }
      },
      "execution_count": 30,
      "outputs": [
        {
          "output_type": "execute_result",
          "data": {
            "text/plain": [
              "torch.Size([10])"
            ]
          },
          "metadata": {},
          "execution_count": 30
        }
      ]
    },
    {
      "cell_type": "code",
      "source": [
        "ten_zero = torch.zeros_like(input=one_to_ten)\n",
        "ten_zero"
      ],
      "metadata": {
        "id": "c3cUuCvlJv0p",
        "outputId": "165c4c04-cc63-46ac-b0b3-1e081fab52a5",
        "colab": {
          "base_uri": "https://localhost:8080/"
        }
      },
      "execution_count": 31,
      "outputs": [
        {
          "output_type": "execute_result",
          "data": {
            "text/plain": [
              "tensor([0, 0, 0, 0, 0, 0, 0, 0, 0, 0])"
            ]
          },
          "metadata": {},
          "execution_count": 31
        }
      ]
    },
    {
      "cell_type": "markdown",
      "source": [
        "Tensor Datatype\n",
        "\n",
        "**Note:** Tensor datatype is one of the 3 big errors you'll run into with PyTorch & deep learning:\n",
        "\n",
        "1. Tensors not right datatype\n",
        "\n",
        "2.Tensor not right shape"
      ],
      "metadata": {
        "id": "EmxeZbwijYMV"
      }
    },
    {
      "cell_type": "code",
      "source": [
        "#float 32 tensor\n",
        "float_32_tensor = torch.tensor([3.0,6.0,9.0],\n",
        "                               dtype=None,\n",
        "                               device=None,\n",
        "                               requires_grad=False)\n",
        "float_32_tensor"
      ],
      "metadata": {
        "id": "SIUx2GVLjUdQ",
        "outputId": "dbefa935-30f1-46e7-f583-77d8457e31c5",
        "colab": {
          "base_uri": "https://localhost:8080/"
        }
      },
      "execution_count": 32,
      "outputs": [
        {
          "output_type": "execute_result",
          "data": {
            "text/plain": [
              "tensor([3., 6., 9.])"
            ]
          },
          "metadata": {},
          "execution_count": 32
        }
      ]
    },
    {
      "cell_type": "code",
      "source": [
        "tensor = torch.tensor( [1.0, 2.0, 3.0],dtype=torch.float32)\n",
        "print(tensor)\n"
      ],
      "metadata": {
        "id": "Ek7hBuaZm4_z",
        "colab": {
          "base_uri": "https://localhost:8080/"
        },
        "outputId": "d26f6c15-a1fb-40f2-9415-e2c5d36e08ab"
      },
      "execution_count": 33,
      "outputs": [
        {
          "output_type": "stream",
          "name": "stdout",
          "text": [
            "tensor([1., 2., 3.])\n"
          ]
        }
      ]
    },
    {
      "cell_type": "code",
      "source": [
        "float_16_tensor = float_32_tensor.type(torch.float16)\n",
        "float_16_tensor"
      ],
      "metadata": {
        "colab": {
          "base_uri": "https://localhost:8080/"
        },
        "id": "y9kmAs3Powjl",
        "outputId": "79229493-4069-4136-955f-62b48d278f57"
      },
      "execution_count": 34,
      "outputs": [
        {
          "output_type": "execute_result",
          "data": {
            "text/plain": [
              "tensor([3., 6., 9.], dtype=torch.float16)"
            ]
          },
          "metadata": {},
          "execution_count": 34
        }
      ]
    },
    {
      "cell_type": "code",
      "source": [
        "float_16_tensor = float_32_tensor"
      ],
      "metadata": {
        "id": "w0wRNfWtrHE_"
      },
      "execution_count": 35,
      "outputs": []
    },
    {
      "cell_type": "code",
      "source": [
        "int_32_tensor = torch.tensor([3,6,9], dtype=torch.int32)\n",
        "int_32_tensor"
      ],
      "metadata": {
        "colab": {
          "base_uri": "https://localhost:8080/"
        },
        "id": "DgLLHRpfruKF",
        "outputId": "f9be733a-26e5-4eac-c3c9-1bfd503cbca2"
      },
      "execution_count": 36,
      "outputs": [
        {
          "output_type": "execute_result",
          "data": {
            "text/plain": [
              "tensor([3, 6, 9], dtype=torch.int32)"
            ]
          },
          "metadata": {},
          "execution_count": 36
        }
      ]
    },
    {
      "cell_type": "code",
      "source": [
        "float_32_tensor * int_32_tensor"
      ],
      "metadata": {
        "colab": {
          "base_uri": "https://localhost:8080/"
        },
        "id": "iG6gO6Q5LWSx",
        "outputId": "39b2321f-3b16-4973-abf1-5456728ea5f3"
      },
      "execution_count": 37,
      "outputs": [
        {
          "output_type": "execute_result",
          "data": {
            "text/plain": [
              "tensor([ 9., 36., 81.])"
            ]
          },
          "metadata": {},
          "execution_count": 37
        }
      ]
    },
    {
      "cell_type": "code",
      "source": [
        "#create a tensor\n",
        "some_tensor = torch.rand(3,4)\n",
        "some_tensor"
      ],
      "metadata": {
        "colab": {
          "base_uri": "https://localhost:8080/"
        },
        "id": "IYOKBoAkMBha",
        "outputId": "ab456a24-f98b-4ff3-c29e-70544e2fcb69"
      },
      "execution_count": 38,
      "outputs": [
        {
          "output_type": "execute_result",
          "data": {
            "text/plain": [
              "tensor([[0.4605, 0.4862, 0.8249, 0.3545],\n",
              "        [0.5869, 0.3897, 0.9503, 0.1838],\n",
              "        [0.8402, 0.1539, 0.5910, 0.1477]])"
            ]
          },
          "metadata": {},
          "execution_count": 38
        }
      ]
    },
    {
      "cell_type": "code",
      "source": [
        "#find out details about some tensor\n",
        "print(some_tensor)\n",
        "print(f\"Datatype of tensor: {some_tensor.dtype}\")\n",
        "print(f\"Shape of tensor: {some_tensor.shape}\")\n",
        "print(f\"Device tensor is on: {some_tensor.device}\")"
      ],
      "metadata": {
        "colab": {
          "base_uri": "https://localhost:8080/"
        },
        "id": "sjlygekbMXJy",
        "outputId": "32a4de04-0c1a-49d2-a72e-1c89c5515e2b"
      },
      "execution_count": 39,
      "outputs": [
        {
          "output_type": "stream",
          "name": "stdout",
          "text": [
            "tensor([[0.4605, 0.4862, 0.8249, 0.3545],\n",
            "        [0.5869, 0.3897, 0.9503, 0.1838],\n",
            "        [0.8402, 0.1539, 0.5910, 0.1477]])\n",
            "Datatype of tensor: torch.float32\n",
            "Shape of tensor: torch.Size([3, 4])\n",
            "Device tensor is on: cpu\n"
          ]
        }
      ]
    },
    {
      "cell_type": "markdown",
      "source": [
        "###manipulating Tensors ( tensor operation)\n",
        "\n",
        "Tensor operattion include:\n",
        "\n",
        "*Addition\n",
        "\n",
        "*Subtraction\n",
        "\n",
        "*Multiplication(element-wise)\n",
        "\n",
        "*division\n",
        "\n",
        "*Matrix Multiplication"
      ],
      "metadata": {
        "id": "2WeJXkaSNvx4"
      }
    },
    {
      "cell_type": "code",
      "source": [
        "#create a tensor and add 10 to it\n",
        "tensor = torch.tensor([1,2,3])\n",
        "tensor + 10"
      ],
      "metadata": {
        "colab": {
          "base_uri": "https://localhost:8080/"
        },
        "id": "qn5KQtOZMqCe",
        "outputId": "7c474dd7-f29f-41cc-a5c0-abc50dcd235a"
      },
      "execution_count": 40,
      "outputs": [
        {
          "output_type": "execute_result",
          "data": {
            "text/plain": [
              "tensor([11, 12, 13])"
            ]
          },
          "metadata": {},
          "execution_count": 40
        }
      ]
    },
    {
      "cell_type": "code",
      "source": [
        "#multiply tensor by 10\n",
        "tensor * 10"
      ],
      "metadata": {
        "colab": {
          "base_uri": "https://localhost:8080/"
        },
        "id": "CJznQMdMORMM",
        "outputId": "e7004e03-ce64-4d1a-cd80-38765a2ae8f6"
      },
      "execution_count": 41,
      "outputs": [
        {
          "output_type": "execute_result",
          "data": {
            "text/plain": [
              "tensor([10, 20, 30])"
            ]
          },
          "metadata": {},
          "execution_count": 41
        }
      ]
    },
    {
      "cell_type": "code",
      "source": [
        "tensor"
      ],
      "metadata": {
        "colab": {
          "base_uri": "https://localhost:8080/"
        },
        "id": "SmWqezXAP8g-",
        "outputId": "c499470c-2018-4476-9012-09680256a826"
      },
      "execution_count": 42,
      "outputs": [
        {
          "output_type": "execute_result",
          "data": {
            "text/plain": [
              "tensor([1, 2, 3])"
            ]
          },
          "metadata": {},
          "execution_count": 42
        }
      ]
    },
    {
      "cell_type": "code",
      "source": [
        "#subtract\n",
        "tensor - 10"
      ],
      "metadata": {
        "colab": {
          "base_uri": "https://localhost:8080/"
        },
        "id": "MWwFTpF-P_XY",
        "outputId": "808d6f06-5720-4e95-ce88-38244be98cca"
      },
      "execution_count": 43,
      "outputs": [
        {
          "output_type": "execute_result",
          "data": {
            "text/plain": [
              "tensor([-9, -8, -7])"
            ]
          },
          "metadata": {},
          "execution_count": 43
        }
      ]
    },
    {
      "cell_type": "code",
      "source": [
        "#divide\n",
        "tensor/10"
      ],
      "metadata": {
        "colab": {
          "base_uri": "https://localhost:8080/"
        },
        "id": "HHU7DVjOQE2Z",
        "outputId": "86ce1f46-f7ec-4948-e3b1-743d74cd3724"
      },
      "execution_count": 44,
      "outputs": [
        {
          "output_type": "execute_result",
          "data": {
            "text/plain": [
              "tensor([0.1000, 0.2000, 0.3000])"
            ]
          },
          "metadata": {},
          "execution_count": 44
        }
      ]
    },
    {
      "cell_type": "code",
      "source": [
        "torch.mul(tensor,10)"
      ],
      "metadata": {
        "colab": {
          "base_uri": "https://localhost:8080/"
        },
        "id": "QSiCdWgwQJjq",
        "outputId": "eb7f9ea8-9d7a-4f79-d8da-56148080c480"
      },
      "execution_count": 45,
      "outputs": [
        {
          "output_type": "execute_result",
          "data": {
            "text/plain": [
              "tensor([10, 20, 30])"
            ]
          },
          "metadata": {},
          "execution_count": 45
        }
      ]
    },
    {
      "cell_type": "code",
      "source": [
        "torch.add(tensor,10)"
      ],
      "metadata": {
        "colab": {
          "base_uri": "https://localhost:8080/"
        },
        "id": "vRH20ZpNRHqo",
        "outputId": "73fb9c72-2610-4e6d-c85a-8144b8996e35"
      },
      "execution_count": 46,
      "outputs": [
        {
          "output_type": "execute_result",
          "data": {
            "text/plain": [
              "tensor([11, 12, 13])"
            ]
          },
          "metadata": {},
          "execution_count": 46
        }
      ]
    },
    {
      "cell_type": "markdown",
      "source": [
        "Matrix multiplication\n",
        "\n",
        "Two main ways of performing multiplication in neural networks and deep learning:\n",
        "\n",
        "1.Element-wise multiplication\n",
        "\n",
        "2.Matrix multiplication(dot product)\n",
        "\n",
        "There are two main rules that performing matrix multiplication\n",
        "\n",
        "1. The **inner dimensions** must match:\n",
        "\n",
        " *(3,2) @ (3,2) won't work\n",
        "\n",
        " *(2,3) @ (3,2) will work\n",
        "\n",
        " *(3,2) @ (2,3) will work\n",
        "\n",
        "\n",
        "2.The resulting matrix has the shape of the **outer dimension**:\n",
        "\n",
        "*(2,3) @ (3,2) -> (2,2)\n",
        "\n",
        "*(3,2) 2 (2,3) -. (3,3)\n",
        "\n",
        "\n"
      ],
      "metadata": {
        "id": "15eaC_8jZp3z"
      }
    },
    {
      "cell_type": "code",
      "source": [
        "torch.matmul(torch.rand(10,10),torch.rand(10,10))"
      ],
      "metadata": {
        "colab": {
          "base_uri": "https://localhost:8080/"
        },
        "id": "XHyspsAnh5Ak",
        "outputId": "6da92145-7a90-433a-d469-6250e0d68604"
      },
      "execution_count": 47,
      "outputs": [
        {
          "output_type": "execute_result",
          "data": {
            "text/plain": [
              "tensor([[2.9457, 3.0755, 3.1885, 2.5933, 3.3562, 2.2052, 2.3206, 2.2960, 3.2972,\n",
              "         3.5724],\n",
              "        [2.1302, 2.0070, 2.5234, 1.5101, 2.1775, 1.4176, 1.7805, 2.0573, 2.3989,\n",
              "         2.5558],\n",
              "        [2.3986, 2.2689, 2.2739, 1.3948, 2.2069, 1.4521, 1.6470, 2.2737, 2.0436,\n",
              "         2.6106],\n",
              "        [3.3437, 3.2652, 2.9273, 2.5534, 3.6636, 2.3439, 2.0450, 3.1008, 3.2236,\n",
              "         3.7433],\n",
              "        [3.1257, 2.9357, 3.0689, 3.0485, 3.6264, 2.7022, 2.0065, 2.6568, 3.4772,\n",
              "         3.7054],\n",
              "        [2.6118, 2.3687, 2.6845, 1.9875, 2.8235, 1.7263, 1.4386, 2.3199, 2.9801,\n",
              "         2.7914],\n",
              "        [3.0424, 3.0458, 3.1456, 2.1556, 3.0915, 2.0271, 2.1171, 2.6081, 3.0137,\n",
              "         3.3062],\n",
              "        [2.7550, 2.9251, 3.1899, 2.4686, 3.1250, 2.2029, 1.8593, 2.8151, 2.5966,\n",
              "         2.8669],\n",
              "        [3.1751, 3.4529, 3.7341, 3.1564, 3.5218, 2.7253, 2.5273, 2.6690, 3.1678,\n",
              "         3.7611],\n",
              "        [2.6365, 2.2762, 2.3625, 1.8718, 2.6170, 1.7667, 1.4552, 2.6052, 2.9764,\n",
              "         3.0605]])"
            ]
          },
          "metadata": {},
          "execution_count": 47
        }
      ]
    },
    {
      "cell_type": "code",
      "source": [
        "#Elementwise multiplication\n",
        "print(tensor,\"*\",tensor)\n",
        "print(f\"Equals:{tensor * tensor}\")\n"
      ],
      "metadata": {
        "colab": {
          "base_uri": "https://localhost:8080/"
        },
        "id": "QHc3IlZeRPoG",
        "outputId": "4a7d1f29-9a06-48a3-8661-7c0c7d90ba93"
      },
      "execution_count": 48,
      "outputs": [
        {
          "output_type": "stream",
          "name": "stdout",
          "text": [
            "tensor([1, 2, 3]) * tensor([1, 2, 3])\n",
            "Equals:tensor([1, 4, 9])\n"
          ]
        }
      ]
    },
    {
      "cell_type": "code",
      "source": [
        "#matrix multiplication\n",
        "torch.matmul(tensor,tensor)"
      ],
      "metadata": {
        "colab": {
          "base_uri": "https://localhost:8080/"
        },
        "id": "POZrRMykacyp",
        "outputId": "3aa6737f-03fd-45b0-941d-6f3d50b40df5"
      },
      "execution_count": 49,
      "outputs": [
        {
          "output_type": "execute_result",
          "data": {
            "text/plain": [
              "tensor(14)"
            ]
          },
          "metadata": {},
          "execution_count": 49
        }
      ]
    },
    {
      "cell_type": "code",
      "source": [
        "#matrix multiplication by hand\n",
        "1*1 + 2*2 + 3*3"
      ],
      "metadata": {
        "colab": {
          "base_uri": "https://localhost:8080/"
        },
        "id": "X6yJYNZMdsH5",
        "outputId": "5ad1da98-efed-40de-c910-415829ec289e"
      },
      "execution_count": 50,
      "outputs": [
        {
          "output_type": "execute_result",
          "data": {
            "text/plain": [
              "14"
            ]
          },
          "metadata": {},
          "execution_count": 50
        }
      ]
    },
    {
      "cell_type": "code",
      "source": [
        "%%time\n",
        "value = 0\n",
        "for i in range(len(tensor)):\n",
        "  value += tensor[i] * tensor[i]\n",
        "  print(value)\n",
        "\n"
      ],
      "metadata": {
        "colab": {
          "base_uri": "https://localhost:8080/"
        },
        "id": "KrKzgN0ae8-Y",
        "outputId": "3ab28fe1-5960-4457-c17c-7464eb6101ca"
      },
      "execution_count": 51,
      "outputs": [
        {
          "output_type": "stream",
          "name": "stdout",
          "text": [
            "tensor(1)\n",
            "tensor(5)\n",
            "tensor(14)\n",
            "CPU times: user 1.25 ms, sys: 46 µs, total: 1.29 ms\n",
            "Wall time: 1.37 ms\n"
          ]
        }
      ]
    },
    {
      "cell_type": "code",
      "source": [
        "tensor @ tensor"
      ],
      "metadata": {
        "colab": {
          "base_uri": "https://localhost:8080/"
        },
        "id": "9C1aDJn0gtbp",
        "outputId": "a509cb85-ea31-4335-996b-d124cd6ee84d"
      },
      "execution_count": 52,
      "outputs": [
        {
          "output_type": "execute_result",
          "data": {
            "text/plain": [
              "tensor(14)"
            ]
          },
          "metadata": {},
          "execution_count": 52
        }
      ]
    },
    {
      "cell_type": "code",
      "source": [
        "%%time\n",
        "torch.matmul(tensor,tensor)"
      ],
      "metadata": {
        "colab": {
          "base_uri": "https://localhost:8080/"
        },
        "id": "lx3KAmazfaxP",
        "outputId": "376bf04f-a681-40b5-dec9-1c4a7c9aa2db"
      },
      "execution_count": 53,
      "outputs": [
        {
          "output_type": "stream",
          "name": "stdout",
          "text": [
            "CPU times: user 93 µs, sys: 16 µs, total: 109 µs\n",
            "Wall time: 125 µs\n"
          ]
        },
        {
          "output_type": "execute_result",
          "data": {
            "text/plain": [
              "tensor(14)"
            ]
          },
          "metadata": {},
          "execution_count": 53
        }
      ]
    },
    {
      "cell_type": "markdown",
      "source": [
        "### one of the most common errors in deep learning: shape errors"
      ],
      "metadata": {
        "id": "CKVSRRlxgFX5"
      }
    },
    {
      "cell_type": "code",
      "source": [
        " #Shape for matrix multiplication\n",
        "tensor_A = torch.tensor([[1, 2],\n",
        "                         [3, 4],\n",
        "                         [5, 6]])\n",
        "tensor_B = torch.tensor([[7, 10],\n",
        "                         [8, 11],\n",
        "                         [9, 12]])\n",
        "\n",
        "\n",
        "#torch.mm(tensor_A,tensor_B) #torch.mm is the same as torch.matmul (it's an alias for writing less code)\n",
        "torch.matmul(tensor_A, tensor_B.T)\n"
      ],
      "metadata": {
        "colab": {
          "base_uri": "https://localhost:8080/"
        },
        "id": "ehnumnLNftEC",
        "outputId": "dd6fc0a8-e5c6-4e79-dc53-bd6a5cafa697"
      },
      "execution_count": 54,
      "outputs": [
        {
          "output_type": "execute_result",
          "data": {
            "text/plain": [
              "tensor([[ 27,  30,  33],\n",
              "        [ 61,  68,  75],\n",
              "        [ 95, 106, 117]])"
            ]
          },
          "metadata": {},
          "execution_count": 54
        }
      ]
    },
    {
      "cell_type": "code",
      "source": [
        "tensor_A.shape, tensor_B.shape"
      ],
      "metadata": {
        "id": "R8P8pkSiCWp_",
        "outputId": "23826ec0-81c8-4bf6-d2cc-17a798bed79c",
        "colab": {
          "base_uri": "https://localhost:8080/"
        }
      },
      "execution_count": 55,
      "outputs": [
        {
          "output_type": "execute_result",
          "data": {
            "text/plain": [
              "(torch.Size([3, 2]), torch.Size([3, 2]))"
            ]
          },
          "metadata": {},
          "execution_count": 55
        }
      ]
    },
    {
      "cell_type": "markdown",
      "source": [
        "To fix our tensor shape issues, we can manipulate the shape of one of our tensors using a **transpose**.\n",
        "\n",
        "A **transpose** switches the axes or dimensions of a given tensor tensor"
      ],
      "metadata": {
        "id": "t2VnFdGFC3qf"
      }
    },
    {
      "cell_type": "code",
      "source": [
        "tensor_B,tensor_B.shape"
      ],
      "metadata": {
        "id": "sCtMDn2LCtaY",
        "outputId": "ebb07ba8-f293-44b7-a41a-e7b73fca32b4",
        "colab": {
          "base_uri": "https://localhost:8080/"
        }
      },
      "execution_count": 56,
      "outputs": [
        {
          "output_type": "execute_result",
          "data": {
            "text/plain": [
              "(tensor([[ 7, 10],\n",
              "         [ 8, 11],\n",
              "         [ 9, 12]]),\n",
              " torch.Size([3, 2]))"
            ]
          },
          "metadata": {},
          "execution_count": 56
        }
      ]
    },
    {
      "cell_type": "code",
      "source": [
        "tensor_B.T, tensor_B.T.shape"
      ],
      "metadata": {
        "id": "nkOUlHm5D3yV",
        "outputId": "da4d4eab-7ad2-4842-ab8d-153be0b985ab",
        "colab": {
          "base_uri": "https://localhost:8080/"
        }
      },
      "execution_count": 57,
      "outputs": [
        {
          "output_type": "execute_result",
          "data": {
            "text/plain": [
              "(tensor([[ 7,  8,  9],\n",
              "         [10, 11, 12]]),\n",
              " torch.Size([2, 3]))"
            ]
          },
          "metadata": {},
          "execution_count": 57
        }
      ]
    },
    {
      "cell_type": "markdown",
      "source": [
        "aaba"
      ],
      "metadata": {
        "id": "KwVKsdSK2EDw"
      }
    },
    {
      "cell_type": "code",
      "source": [],
      "metadata": {
        "id": "4yOhfn5yD_6r"
      },
      "execution_count": 57,
      "outputs": []
    }
  ]
}