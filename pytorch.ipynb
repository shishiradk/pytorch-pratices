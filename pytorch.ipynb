{
  "nbformat": 4,
  "nbformat_minor": 0,
  "metadata": {
    "colab": {
      "provenance": [],
      "gpuType": "T4",
      "authorship_tag": "ABX9TyO7HIETJdd4jpMuC8jwmppH",
      "include_colab_link": true
    },
    "kernelspec": {
      "name": "python3",
      "display_name": "Python 3"
    },
    "language_info": {
      "name": "python"
    },
    "accelerator": "GPU"
  },
  "cells": [
    {
      "cell_type": "markdown",
      "metadata": {
        "id": "view-in-github",
        "colab_type": "text"
      },
      "source": [
        "<a href=\"https://colab.research.google.com/github/shishiradk/pytorch-pratices/blob/main/pytorch.ipynb\" target=\"_parent\"><img src=\"https://colab.research.google.com/assets/colab-badge.svg\" alt=\"Open In Colab\"/></a>"
      ]
    },
    {
      "cell_type": "code",
      "execution_count": null,
      "metadata": {
        "colab": {
          "base_uri": "https://localhost:8080/"
        },
        "id": "Ipxmmm-BuHoq",
        "outputId": "f844c018-b576-4715-8bdc-f8896b37dc94"
      },
      "outputs": [
        {
          "output_type": "stream",
          "name": "stdout",
          "text": [
            "Wed Jul 23 13:26:34 2025       \n",
            "+-----------------------------------------------------------------------------------------+\n",
            "| NVIDIA-SMI 550.54.15              Driver Version: 550.54.15      CUDA Version: 12.4     |\n",
            "|-----------------------------------------+------------------------+----------------------+\n",
            "| GPU  Name                 Persistence-M | Bus-Id          Disp.A | Volatile Uncorr. ECC |\n",
            "| Fan  Temp   Perf          Pwr:Usage/Cap |           Memory-Usage | GPU-Util  Compute M. |\n",
            "|                                         |                        |               MIG M. |\n",
            "|=========================================+========================+======================|\n",
            "|   0  Tesla T4                       Off |   00000000:00:04.0 Off |                    0 |\n",
            "| N/A   39C    P8              9W /   70W |       0MiB /  15360MiB |      0%      Default |\n",
            "|                                         |                        |                  N/A |\n",
            "+-----------------------------------------+------------------------+----------------------+\n",
            "                                                                                         \n",
            "+-----------------------------------------------------------------------------------------+\n",
            "| Processes:                                                                              |\n",
            "|  GPU   GI   CI        PID   Type   Process name                              GPU Memory |\n",
            "|        ID   ID                                                               Usage      |\n",
            "|=========================================================================================|\n",
            "|  No running processes found                                                             |\n",
            "+-----------------------------------------------------------------------------------------+\n"
          ]
        }
      ],
      "source": [
        "!nvidia-smi\n"
      ]
    },
    {
      "cell_type": "code",
      "source": [
        "import numpy as np\n",
        "import pandas as pd\n",
        "import matplotlib.pyplot as plt\n",
        "import torch\n",
        "print(torch.__version__)"
      ],
      "metadata": {
        "colab": {
          "base_uri": "https://localhost:8080/"
        },
        "id": "eZa8yggluhDq",
        "outputId": "2764f131-bf73-4395-e4f3-8419206e4134"
      },
      "execution_count": null,
      "outputs": [
        {
          "output_type": "stream",
          "name": "stdout",
          "text": [
            "2.6.0+cu124\n"
          ]
        }
      ]
    },
    {
      "cell_type": "markdown",
      "source": [
        "introduction to tensors\n",
        "creating tensor"
      ],
      "metadata": {
        "id": "0T04eZk0w0gf"
      }
    },
    {
      "cell_type": "markdown",
      "source": [],
      "metadata": {
        "id": "BRYigiaOw3Fh"
      }
    },
    {
      "cell_type": "code",
      "source": [
        "#scalar\n",
        "scalar = torch.tensor(7)\n",
        "scalar\n"
      ],
      "metadata": {
        "colab": {
          "base_uri": "https://localhost:8080/"
        },
        "id": "E78psR9bwJyK",
        "outputId": "616a321e-db9e-4618-ba20-771f6da51e5a"
      },
      "execution_count": null,
      "outputs": [
        {
          "output_type": "execute_result",
          "data": {
            "text/plain": [
              "tensor(7)"
            ]
          },
          "metadata": {},
          "execution_count": 61
        }
      ]
    },
    {
      "cell_type": "code",
      "source": [
        "scalar.ndim"
      ],
      "metadata": {
        "colab": {
          "base_uri": "https://localhost:8080/"
        },
        "id": "IqIfhYWywrSG",
        "outputId": "78fcc4dc-01b8-4dd2-9fd8-4c6469e8fb04"
      },
      "execution_count": null,
      "outputs": [
        {
          "output_type": "execute_result",
          "data": {
            "text/plain": [
              "0"
            ]
          },
          "metadata": {},
          "execution_count": 62
        }
      ]
    },
    {
      "cell_type": "code",
      "source": [
        "#get tensor back as python int\n",
        "scalar.item()"
      ],
      "metadata": {
        "colab": {
          "base_uri": "https://localhost:8080/"
        },
        "id": "g57NNznbyB6a",
        "outputId": "be2947e3-19f6-463f-e714-699a499b203f"
      },
      "execution_count": null,
      "outputs": [
        {
          "output_type": "execute_result",
          "data": {
            "text/plain": [
              "7"
            ]
          },
          "metadata": {},
          "execution_count": 63
        }
      ]
    },
    {
      "cell_type": "code",
      "source": [
        "#vector\n",
        "vector = torch.tensor([7,7])\n",
        "vector"
      ],
      "metadata": {
        "colab": {
          "base_uri": "https://localhost:8080/"
        },
        "id": "am4C3NNzyOLN",
        "outputId": "7fec580d-1d19-47b1-bd20-ff2eec1c339b"
      },
      "execution_count": null,
      "outputs": [
        {
          "output_type": "execute_result",
          "data": {
            "text/plain": [
              "tensor([7, 7])"
            ]
          },
          "metadata": {},
          "execution_count": 64
        }
      ]
    },
    {
      "cell_type": "code",
      "source": [
        "vector.ndim"
      ],
      "metadata": {
        "colab": {
          "base_uri": "https://localhost:8080/"
        },
        "id": "UG3w44iRyh9b",
        "outputId": "a84edb01-c034-496a-eac8-dcfa830b1ffe"
      },
      "execution_count": null,
      "outputs": [
        {
          "output_type": "execute_result",
          "data": {
            "text/plain": [
              "1"
            ]
          },
          "metadata": {},
          "execution_count": 65
        }
      ]
    },
    {
      "cell_type": "code",
      "source": [
        "vector.shape"
      ],
      "metadata": {
        "colab": {
          "base_uri": "https://localhost:8080/"
        },
        "id": "T4ieiQRyymB1",
        "outputId": "161ace0e-12ea-4d81-9c50-8b6a818ead3b"
      },
      "execution_count": null,
      "outputs": [
        {
          "output_type": "execute_result",
          "data": {
            "text/plain": [
              "torch.Size([2])"
            ]
          },
          "metadata": {},
          "execution_count": 66
        }
      ]
    },
    {
      "cell_type": "code",
      "source": [
        "#matrix\n",
        "MATRIX = torch.tensor([[7,8],\n",
        "                      [9,10]])\n",
        "MATRIX\n"
      ],
      "metadata": {
        "colab": {
          "base_uri": "https://localhost:8080/"
        },
        "id": "wexINEwqyolb",
        "outputId": "f19b814e-4e78-4d23-f57e-5b2b986fb8ab"
      },
      "execution_count": null,
      "outputs": [
        {
          "output_type": "execute_result",
          "data": {
            "text/plain": [
              "tensor([[ 7,  8],\n",
              "        [ 9, 10]])"
            ]
          },
          "metadata": {},
          "execution_count": 67
        }
      ]
    },
    {
      "cell_type": "code",
      "source": [
        "MATRIX.ndim"
      ],
      "metadata": {
        "colab": {
          "base_uri": "https://localhost:8080/"
        },
        "id": "Xm7PGAG1zEBZ",
        "outputId": "0e02becb-3b5d-4e49-ed83-aba665c9b54f"
      },
      "execution_count": null,
      "outputs": [
        {
          "output_type": "execute_result",
          "data": {
            "text/plain": [
              "2"
            ]
          },
          "metadata": {},
          "execution_count": 68
        }
      ]
    },
    {
      "cell_type": "code",
      "source": [
        "MATRIX[1]"
      ],
      "metadata": {
        "colab": {
          "base_uri": "https://localhost:8080/"
        },
        "id": "EvoOzPJdzIgd",
        "outputId": "9dc2f5d8-9656-4328-93c9-7e3aae36db9d"
      },
      "execution_count": null,
      "outputs": [
        {
          "output_type": "execute_result",
          "data": {
            "text/plain": [
              "tensor([ 9, 10])"
            ]
          },
          "metadata": {},
          "execution_count": 69
        }
      ]
    },
    {
      "cell_type": "code",
      "source": [
        "MATRIX.shape"
      ],
      "metadata": {
        "colab": {
          "base_uri": "https://localhost:8080/"
        },
        "id": "6eSRxHX2zOS4",
        "outputId": "5161ee51-7307-4a32-c88c-d0736cb05498"
      },
      "execution_count": null,
      "outputs": [
        {
          "output_type": "execute_result",
          "data": {
            "text/plain": [
              "torch.Size([2, 2])"
            ]
          },
          "metadata": {},
          "execution_count": 70
        }
      ]
    },
    {
      "cell_type": "code",
      "source": [
        "#TENSOR\n",
        "TENSOR = torch.tensor([[[1,2,4],\n",
        "                         [2,3,4],\n",
        "                         [4,5,6]]])"
      ],
      "metadata": {
        "id": "8950TfPczRPv"
      },
      "execution_count": null,
      "outputs": []
    },
    {
      "cell_type": "code",
      "source": [
        "TENSOR"
      ],
      "metadata": {
        "colab": {
          "base_uri": "https://localhost:8080/"
        },
        "id": "SJ2MSdj7zqLW",
        "outputId": "b82eb20a-c358-4584-cc2f-3129de5db038"
      },
      "execution_count": null,
      "outputs": [
        {
          "output_type": "execute_result",
          "data": {
            "text/plain": [
              "tensor([[[1, 2, 4],\n",
              "         [2, 3, 4],\n",
              "         [4, 5, 6]]])"
            ]
          },
          "metadata": {},
          "execution_count": 72
        }
      ]
    },
    {
      "cell_type": "code",
      "source": [
        "TENSOR.ndim"
      ],
      "metadata": {
        "colab": {
          "base_uri": "https://localhost:8080/"
        },
        "id": "LUFlW-blztOy",
        "outputId": "8336a88b-98b7-4a10-fbb8-1a330c1f2974"
      },
      "execution_count": null,
      "outputs": [
        {
          "output_type": "execute_result",
          "data": {
            "text/plain": [
              "3"
            ]
          },
          "metadata": {},
          "execution_count": 73
        }
      ]
    },
    {
      "cell_type": "code",
      "source": [
        "TENSOR.shape"
      ],
      "metadata": {
        "colab": {
          "base_uri": "https://localhost:8080/"
        },
        "id": "NOi9qPb9zvmF",
        "outputId": "8d0a803a-80b4-420d-a47b-155cc3ea80c8"
      },
      "execution_count": null,
      "outputs": [
        {
          "output_type": "execute_result",
          "data": {
            "text/plain": [
              "torch.Size([1, 3, 3])"
            ]
          },
          "metadata": {},
          "execution_count": 74
        }
      ]
    },
    {
      "cell_type": "code",
      "source": [
        "TENSOR[0]"
      ],
      "metadata": {
        "colab": {
          "base_uri": "https://localhost:8080/"
        },
        "id": "6eeTCFwtzyJi",
        "outputId": "62f65c2f-f857-4b89-aa2f-47552bb4791e"
      },
      "execution_count": null,
      "outputs": [
        {
          "output_type": "execute_result",
          "data": {
            "text/plain": [
              "tensor([[1, 2, 4],\n",
              "        [2, 3, 4],\n",
              "        [4, 5, 6]])"
            ]
          },
          "metadata": {},
          "execution_count": 75
        }
      ]
    },
    {
      "cell_type": "code",
      "source": [
        "TENSOR = torch.tensor([[[6,7,8],\n",
        "                        [5,6,7],\n",
        "                        [4,5,6]]])\n",
        "TENSOR"
      ],
      "metadata": {
        "colab": {
          "base_uri": "https://localhost:8080/"
        },
        "id": "ET2lqt--z0gu",
        "outputId": "c20a6e0a-6db1-43c3-cbef-8ac03e34a235"
      },
      "execution_count": null,
      "outputs": [
        {
          "output_type": "execute_result",
          "data": {
            "text/plain": [
              "tensor([[[6, 7, 8],\n",
              "         [5, 6, 7],\n",
              "         [4, 5, 6]]])"
            ]
          },
          "metadata": {},
          "execution_count": 76
        }
      ]
    },
    {
      "cell_type": "code",
      "source": [
        "TENSOR.ndim"
      ],
      "metadata": {
        "colab": {
          "base_uri": "https://localhost:8080/"
        },
        "id": "CsuKrOcMz27a",
        "outputId": "7a5655b5-e491-407a-c5cc-4ff452438bba"
      },
      "execution_count": null,
      "outputs": [
        {
          "output_type": "execute_result",
          "data": {
            "text/plain": [
              "3"
            ]
          },
          "metadata": {},
          "execution_count": 77
        }
      ]
    },
    {
      "cell_type": "code",
      "source": [
        "TENSOR.shape"
      ],
      "metadata": {
        "colab": {
          "base_uri": "https://localhost:8080/"
        },
        "id": "B0LmokBZ_UwJ",
        "outputId": "688c58fe-4ad7-4002-916b-feca00960a1d"
      },
      "execution_count": null,
      "outputs": [
        {
          "output_type": "execute_result",
          "data": {
            "text/plain": [
              "torch.Size([1, 3, 3])"
            ]
          },
          "metadata": {},
          "execution_count": 78
        }
      ]
    },
    {
      "cell_type": "code",
      "source": [
        "TENSOR[0]"
      ],
      "metadata": {
        "colab": {
          "base_uri": "https://localhost:8080/"
        },
        "id": "xUU7BC75_YAa",
        "outputId": "e00d1a28-ca90-45bd-8671-89638b5104ba"
      },
      "execution_count": null,
      "outputs": [
        {
          "output_type": "execute_result",
          "data": {
            "text/plain": [
              "tensor([[6, 7, 8],\n",
              "        [5, 6, 7],\n",
              "        [4, 5, 6]])"
            ]
          },
          "metadata": {},
          "execution_count": 79
        }
      ]
    },
    {
      "cell_type": "code",
      "source": [
        "#create a random tensor of size (3,4)\n",
        "random_tensor = torch.rand(10,10,10)\n",
        "random_tensor"
      ],
      "metadata": {
        "colab": {
          "base_uri": "https://localhost:8080/"
        },
        "id": "gTsFrcdZ_coi",
        "outputId": "13fe5d49-b027-49be-8b98-982be225de9d"
      },
      "execution_count": null,
      "outputs": [
        {
          "output_type": "execute_result",
          "data": {
            "text/plain": [
              "tensor([[[0.4566, 0.3183, 0.8753, 0.7440, 0.5055, 0.0577, 0.3893, 0.5566,\n",
              "          0.4958, 0.4048],\n",
              "         [0.8919, 0.5306, 0.6406, 0.5784, 0.3862, 0.8071, 0.9076, 0.2061,\n",
              "          0.4986, 0.3892],\n",
              "         [0.6228, 0.2266, 0.6075, 0.3318, 0.9915, 0.2912, 0.5315, 0.9525,\n",
              "          0.5075, 0.4767],\n",
              "         [0.4618, 0.5280, 0.9387, 0.1817, 0.9404, 0.7746, 0.4362, 0.9234,\n",
              "          0.6056, 0.8425],\n",
              "         [0.1415, 0.4262, 0.4718, 0.6105, 0.1746, 0.1417, 0.1913, 0.1914,\n",
              "          0.3146, 0.1997],\n",
              "         [0.1656, 0.7579, 0.1991, 0.4534, 0.5311, 0.0517, 0.9327, 0.6202,\n",
              "          0.8140, 0.9516],\n",
              "         [0.3242, 0.9421, 0.9069, 0.7727, 0.3179, 0.4194, 0.1189, 0.2050,\n",
              "          0.9712, 0.9022],\n",
              "         [0.8229, 0.8667, 0.9680, 0.8100, 0.6545, 0.6694, 0.8357, 0.6611,\n",
              "          0.2079, 0.0014],\n",
              "         [0.3823, 0.3326, 0.8810, 0.7731, 0.2206, 0.3088, 0.9730, 0.6375,\n",
              "          0.0259, 0.6757],\n",
              "         [0.5692, 0.1697, 0.3294, 0.7486, 0.0455, 0.9206, 0.9073, 0.8861,\n",
              "          0.0073, 0.4810]],\n",
              "\n",
              "        [[0.3811, 0.9745, 0.4971, 0.7267, 0.2711, 0.0332, 0.6030, 0.4730,\n",
              "          0.5544, 0.4689],\n",
              "         [0.1243, 0.4701, 0.6157, 0.9238, 0.6776, 0.9466, 0.1302, 0.9009,\n",
              "          0.2980, 0.1304],\n",
              "         [0.7967, 0.6146, 0.4642, 0.0791, 0.7237, 0.6638, 0.7162, 0.0294,\n",
              "          0.3929, 0.6988],\n",
              "         [0.7044, 0.6134, 0.8590, 0.5181, 0.6830, 0.8854, 0.7126, 0.1086,\n",
              "          0.9249, 0.3896],\n",
              "         [0.9252, 0.2850, 0.4737, 0.4178, 0.4506, 0.0896, 0.2869, 0.5527,\n",
              "          0.6736, 0.3757],\n",
              "         [0.0976, 0.8794, 0.0561, 0.2154, 0.5492, 0.4452, 0.7640, 0.5086,\n",
              "          0.9999, 0.3771],\n",
              "         [0.8163, 0.5290, 0.2922, 0.0904, 0.5069, 0.6967, 0.0773, 0.5799,\n",
              "          0.1500, 0.8159],\n",
              "         [0.2473, 0.3031, 0.9287, 0.9101, 0.7460, 0.1644, 0.8478, 0.8639,\n",
              "          0.5410, 0.5791],\n",
              "         [0.0757, 0.8128, 0.7050, 0.2091, 0.5393, 0.8635, 0.1945, 0.8290,\n",
              "          0.4187, 0.5701],\n",
              "         [0.8523, 0.7140, 0.3973, 0.5209, 0.4782, 0.5947, 0.3627, 0.0402,\n",
              "          0.9672, 0.9133]],\n",
              "\n",
              "        [[0.6491, 0.8686, 0.4100, 0.4322, 0.3626, 0.5023, 0.2622, 0.9979,\n",
              "          0.5306, 0.8490],\n",
              "         [0.9018, 0.8666, 0.3429, 0.2731, 0.3467, 0.7768, 0.6959, 0.5695,\n",
              "          0.2628, 0.6776],\n",
              "         [0.1682, 0.7978, 0.8359, 0.5953, 0.2859, 0.7100, 0.3230, 0.6038,\n",
              "          0.5023, 0.0474],\n",
              "         [0.7931, 0.0039, 0.0465, 0.2629, 0.7709, 0.7730, 0.5101, 0.0673,\n",
              "          0.0141, 0.1773],\n",
              "         [0.9414, 0.3715, 0.1475, 0.5770, 0.1860, 0.8857, 0.8189, 0.7133,\n",
              "          0.6536, 0.0942],\n",
              "         [0.0843, 0.4314, 0.7819, 0.7958, 0.5028, 0.3952, 0.8263, 0.1586,\n",
              "          0.5646, 0.0547],\n",
              "         [0.0870, 0.6666, 0.5492, 0.6405, 0.5574, 0.3755, 0.8856, 0.5260,\n",
              "          0.6059, 0.6592],\n",
              "         [0.7756, 0.9200, 0.6548, 0.8566, 0.3781, 0.2584, 0.3386, 0.9250,\n",
              "          0.3987, 0.4183],\n",
              "         [0.0716, 0.0237, 0.1516, 0.7193, 0.5287, 0.0882, 0.4408, 0.4205,\n",
              "          0.2475, 0.2113],\n",
              "         [0.8460, 0.5863, 0.9637, 0.0043, 0.2754, 0.7876, 0.8657, 0.3508,\n",
              "          0.8850, 0.1751]],\n",
              "\n",
              "        [[0.1144, 0.3649, 0.1348, 0.0932, 0.2074, 0.7695, 0.7799, 0.5612,\n",
              "          0.7426, 0.8539],\n",
              "         [0.1651, 0.0869, 0.4926, 0.1801, 0.7939, 0.1327, 0.1603, 0.6421,\n",
              "          0.2791, 0.7451],\n",
              "         [0.7977, 0.0292, 0.6863, 0.8718, 0.9230, 0.9471, 0.2122, 0.3220,\n",
              "          0.7253, 0.9182],\n",
              "         [0.4793, 0.1029, 0.7809, 0.3187, 0.7933, 0.3218, 0.5264, 0.0706,\n",
              "          0.3979, 0.3241],\n",
              "         [0.7591, 0.6633, 0.2406, 0.8967, 0.6172, 0.5199, 0.7264, 0.5203,\n",
              "          0.4065, 0.8961],\n",
              "         [0.6829, 0.2492, 0.7644, 0.4124, 0.1835, 0.5976, 0.5349, 0.8332,\n",
              "          0.1456, 0.5046],\n",
              "         [0.3969, 0.6253, 0.2470, 0.1109, 0.5816, 0.4603, 0.6218, 0.7538,\n",
              "          0.3703, 0.4117],\n",
              "         [0.8875, 0.3820, 0.9746, 0.2001, 0.6395, 0.5871, 0.2528, 0.0787,\n",
              "          0.1327, 0.9207],\n",
              "         [0.4415, 0.3498, 0.1851, 0.3689, 0.6243, 0.2333, 0.2207, 0.4196,\n",
              "          0.6439, 0.8482],\n",
              "         [0.1913, 0.7154, 0.8349, 0.8103, 0.4980, 0.2013, 0.5918, 0.7562,\n",
              "          0.7775, 0.7358]],\n",
              "\n",
              "        [[0.7537, 0.3022, 0.2330, 0.6422, 0.3586, 0.4955, 0.9111, 0.4250,\n",
              "          0.9211, 0.6931],\n",
              "         [0.7849, 0.3124, 0.2699, 0.6763, 0.2708, 0.7127, 0.6851, 0.6342,\n",
              "          0.9044, 0.4735],\n",
              "         [0.4286, 0.2537, 0.7943, 0.9874, 0.0917, 0.9235, 0.1439, 0.4183,\n",
              "          0.0975, 0.5034],\n",
              "         [0.8512, 0.6027, 0.5368, 0.8102, 0.7355, 0.7061, 0.8699, 0.8772,\n",
              "          0.5970, 0.5404],\n",
              "         [0.2160, 0.8714, 0.7224, 0.1579, 0.7485, 0.5558, 0.3983, 0.7938,\n",
              "          0.2908, 0.0537],\n",
              "         [0.4116, 0.0961, 0.9965, 0.7795, 0.6983, 0.0097, 0.9724, 0.3055,\n",
              "          0.8347, 0.0328],\n",
              "         [0.5294, 0.2611, 0.2970, 0.2757, 0.2215, 0.0369, 0.9824, 0.9502,\n",
              "          0.0355, 0.0791],\n",
              "         [0.0982, 0.4046, 0.8612, 0.6417, 0.5204, 0.2665, 0.7615, 0.5598,\n",
              "          0.1731, 0.5461],\n",
              "         [0.4354, 0.8883, 0.9200, 0.5916, 0.9351, 0.1078, 0.4711, 0.6070,\n",
              "          0.0161, 0.1750],\n",
              "         [0.9406, 0.3873, 0.4416, 0.0436, 0.8919, 0.0130, 0.6158, 0.6044,\n",
              "          0.4881, 0.3264]],\n",
              "\n",
              "        [[0.0649, 0.7764, 0.9810, 0.7648, 0.7542, 0.0169, 0.0337, 0.6530,\n",
              "          0.5483, 0.0376],\n",
              "         [0.3796, 0.5033, 0.7502, 0.3592, 0.7653, 0.4585, 0.9877, 0.4998,\n",
              "          0.9945, 0.7768],\n",
              "         [0.9431, 0.6829, 0.2831, 0.4217, 0.3582, 0.9216, 0.3644, 0.0413,\n",
              "          0.2343, 0.2553],\n",
              "         [0.7733, 0.4858, 0.9099, 0.1719, 0.3531, 0.4692, 0.4915, 0.7606,\n",
              "          0.4788, 0.4552],\n",
              "         [0.4128, 0.2103, 0.6108, 0.4102, 0.7076, 0.8897, 0.6587, 0.5929,\n",
              "          0.0752, 0.7655],\n",
              "         [0.5058, 0.1081, 0.8108, 0.3462, 0.0766, 0.5201, 0.0479, 0.6628,\n",
              "          0.4817, 0.5367],\n",
              "         [0.2684, 0.9204, 0.2173, 0.2680, 0.5745, 0.5021, 0.8238, 0.2406,\n",
              "          0.7630, 0.3043],\n",
              "         [0.8878, 0.6908, 0.9461, 0.7254, 0.5373, 0.4197, 0.7300, 0.5321,\n",
              "          0.9813, 0.1663],\n",
              "         [0.8818, 0.7261, 0.0663, 0.1614, 0.4837, 0.6959, 0.7139, 0.8019,\n",
              "          0.6219, 0.7192],\n",
              "         [0.6821, 0.7123, 0.5074, 0.3341, 0.4653, 0.8648, 0.2754, 0.5543,\n",
              "          0.8133, 0.3674]],\n",
              "\n",
              "        [[0.5337, 0.2766, 0.9691, 0.8942, 0.4990, 0.6738, 0.9679, 0.2345,\n",
              "          0.8175, 0.9764],\n",
              "         [0.7311, 0.8863, 0.6983, 0.8909, 0.2861, 0.4943, 0.8742, 0.3680,\n",
              "          0.5288, 0.0454],\n",
              "         [0.5928, 0.1756, 0.7942, 0.8652, 0.0154, 0.9995, 0.9619, 0.5537,\n",
              "          0.8903, 0.8855],\n",
              "         [0.2099, 0.2990, 0.8491, 0.9613, 0.0305, 0.4292, 0.6508, 0.8208,\n",
              "          0.9371, 0.6656],\n",
              "         [0.9539, 0.7613, 0.1979, 0.1554, 0.3521, 0.8032, 0.3198, 0.5175,\n",
              "          0.1947, 0.7626],\n",
              "         [0.4511, 0.2766, 0.9442, 0.0810, 0.3604, 0.6106, 0.0603, 0.6359,\n",
              "          0.3589, 0.3476],\n",
              "         [0.5644, 0.2098, 0.4633, 0.9123, 0.7037, 0.3992, 0.4182, 0.4414,\n",
              "          0.6471, 0.9766],\n",
              "         [0.7543, 0.2653, 0.8034, 0.5560, 0.2430, 0.9705, 0.4410, 0.0994,\n",
              "          0.6550, 0.4927],\n",
              "         [0.1153, 0.1877, 0.3721, 0.5314, 0.4456, 0.9878, 0.8250, 0.0947,\n",
              "          0.1961, 0.0607],\n",
              "         [0.6443, 0.4621, 0.7955, 0.2176, 0.1060, 0.2844, 0.0503, 0.2417,\n",
              "          0.6194, 0.0984]],\n",
              "\n",
              "        [[0.2614, 0.8582, 0.4257, 0.1171, 0.0752, 0.2522, 0.0294, 0.0124,\n",
              "          0.1406, 0.5183],\n",
              "         [0.6575, 0.8797, 0.3907, 0.5943, 0.9528, 0.3820, 0.6168, 0.3594,\n",
              "          0.9563, 0.1059],\n",
              "         [0.0138, 0.7514, 0.8565, 0.8240, 0.9431, 0.0840, 0.0453, 0.6362,\n",
              "          0.1867, 0.1206],\n",
              "         [0.6490, 0.5507, 0.8510, 0.6161, 0.1165, 0.5147, 0.9236, 0.4610,\n",
              "          0.4600, 0.1347],\n",
              "         [0.1463, 0.2941, 0.3120, 0.6104, 0.7216, 0.7568, 0.8662, 0.6952,\n",
              "          0.1074, 0.8411],\n",
              "         [0.0206, 0.1732, 0.2151, 0.1517, 0.8503, 0.4233, 0.8641, 0.3768,\n",
              "          0.8602, 0.9225],\n",
              "         [0.3516, 0.5656, 0.9404, 0.7761, 0.3409, 0.9152, 0.3437, 0.8824,\n",
              "          0.6219, 0.5424],\n",
              "         [0.3702, 0.8503, 0.1716, 0.4169, 0.9626, 0.8514, 0.7285, 0.5228,\n",
              "          0.6641, 0.3915],\n",
              "         [0.0416, 0.8913, 0.0907, 0.9920, 0.9169, 0.7971, 0.1700, 0.8993,\n",
              "          0.4120, 0.8444],\n",
              "         [0.9190, 0.6336, 0.0597, 0.8775, 0.9893, 0.8288, 0.4664, 0.7273,\n",
              "          0.6343, 0.4327]],\n",
              "\n",
              "        [[0.3031, 0.2382, 0.6361, 0.1687, 0.7088, 0.1239, 0.5644, 0.6100,\n",
              "          0.7576, 0.2499],\n",
              "         [0.7507, 0.0146, 0.1620, 0.9604, 0.6478, 0.2159, 0.3159, 0.7842,\n",
              "          0.8010, 0.2927],\n",
              "         [0.6109, 0.4806, 0.5405, 0.4043, 0.3079, 0.9016, 0.3051, 0.1738,\n",
              "          0.3498, 0.6320],\n",
              "         [0.4917, 0.7210, 0.5661, 0.1918, 0.1478, 0.4287, 0.4656, 0.7232,\n",
              "          0.2564, 0.9411],\n",
              "         [0.3154, 0.6492, 0.3882, 0.8130, 0.4266, 0.3827, 0.8642, 0.2363,\n",
              "          0.9362, 0.0316],\n",
              "         [0.1445, 0.8355, 0.3948, 0.2095, 0.3923, 0.5585, 0.3843, 0.6407,\n",
              "          0.2887, 0.7082],\n",
              "         [0.5232, 0.1103, 0.6320, 0.6743, 0.9028, 0.3357, 0.2224, 0.3069,\n",
              "          0.5085, 0.5406],\n",
              "         [0.1772, 0.1161, 0.5448, 0.2277, 0.0693, 0.4525, 0.4145, 0.5812,\n",
              "          0.4359, 0.4112],\n",
              "         [0.7178, 0.9990, 0.7404, 0.2393, 0.3007, 0.2969, 0.8884, 0.5854,\n",
              "          0.6365, 0.8437],\n",
              "         [0.7381, 0.3370, 0.1052, 0.6693, 0.9800, 0.8962, 0.1892, 0.3049,\n",
              "          0.1921, 0.0786]],\n",
              "\n",
              "        [[0.2185, 0.6745, 0.0868, 0.9585, 0.5615, 0.1334, 0.3033, 0.2572,\n",
              "          0.0856, 0.1046],\n",
              "         [0.5535, 0.8400, 0.3768, 0.9424, 0.3621, 0.6204, 0.2021, 0.1671,\n",
              "          0.9450, 0.0726],\n",
              "         [0.2427, 0.3153, 0.3112, 0.5853, 0.3163, 0.4111, 0.5618, 0.0948,\n",
              "          0.7916, 0.2862],\n",
              "         [0.9707, 0.7866, 0.4511, 0.2925, 0.0098, 0.0552, 0.1210, 0.2518,\n",
              "          0.2181, 0.8027],\n",
              "         [0.8186, 0.6627, 0.4547, 0.7212, 0.9930, 0.8046, 0.9694, 0.8565,\n",
              "          0.9892, 0.5182],\n",
              "         [0.5230, 0.8998, 0.0455, 0.0362, 0.3813, 0.0854, 0.3746, 0.5225,\n",
              "          0.6784, 0.6026],\n",
              "         [0.0044, 0.3812, 0.4167, 0.3373, 0.5982, 0.7192, 0.1842, 0.3599,\n",
              "          0.6468, 0.0952],\n",
              "         [0.5897, 0.0752, 0.0308, 0.0793, 0.3073, 0.6147, 0.9199, 0.3612,\n",
              "          0.6627, 0.9583],\n",
              "         [0.0650, 0.5841, 0.5595, 0.9948, 0.0502, 0.7208, 0.6969, 0.0865,\n",
              "          0.3694, 0.1118],\n",
              "         [0.9269, 0.8810, 0.1201, 0.8514, 0.7492, 0.2114, 0.5966, 0.0983,\n",
              "          0.8724, 0.8709]]])"
            ]
          },
          "metadata": {},
          "execution_count": 80
        }
      ]
    },
    {
      "cell_type": "code",
      "source": [
        "random_tensor.ndim"
      ],
      "metadata": {
        "colab": {
          "base_uri": "https://localhost:8080/"
        },
        "id": "-RxQZRQXDZT3",
        "outputId": "6031dd50-5a48-4e11-bc49-5c3086988cef"
      },
      "execution_count": null,
      "outputs": [
        {
          "output_type": "execute_result",
          "data": {
            "text/plain": [
              "3"
            ]
          },
          "metadata": {},
          "execution_count": 81
        }
      ]
    },
    {
      "cell_type": "code",
      "source": [
        "#create a random tensor with similar shape to an image tensor\n",
        "random_image_size_tensor = torch.rand(size=(3,224,224))#height,width,color channel\n",
        "random_image_size_tensor.shape, random_image_size_tensor.ndim"
      ],
      "metadata": {
        "colab": {
          "base_uri": "https://localhost:8080/"
        },
        "id": "2lE6FB17DpMe",
        "outputId": "1aa38999-0098-41e3-89b2-b008cf5ec85f"
      },
      "execution_count": null,
      "outputs": [
        {
          "output_type": "execute_result",
          "data": {
            "text/plain": [
              "(torch.Size([3, 224, 224]), 3)"
            ]
          },
          "metadata": {},
          "execution_count": 82
        }
      ]
    },
    {
      "cell_type": "code",
      "source": [
        "torch.rand(3,3)"
      ],
      "metadata": {
        "colab": {
          "base_uri": "https://localhost:8080/"
        },
        "id": "RcRkAqzqHZIe",
        "outputId": "ee2e5a20-8dd4-4bda-fc18-d194c044a9f9"
      },
      "execution_count": null,
      "outputs": [
        {
          "output_type": "execute_result",
          "data": {
            "text/plain": [
              "tensor([[0.0985, 0.5423, 0.9405],\n",
              "        [0.1905, 0.3420, 0.1577],\n",
              "        [0.8332, 0.9807, 0.5558]])"
            ]
          },
          "metadata": {},
          "execution_count": 83
        }
      ]
    },
    {
      "cell_type": "code",
      "source": [
        "#zeros and ones\n",
        "zero = torch.zeros(size=(3,4))\n",
        "zero"
      ],
      "metadata": {
        "colab": {
          "base_uri": "https://localhost:8080/"
        },
        "id": "iSZZDYqWIVsz",
        "outputId": "c5152034-0e65-4729-d9e1-b861ff770dc7"
      },
      "execution_count": null,
      "outputs": [
        {
          "output_type": "execute_result",
          "data": {
            "text/plain": [
              "tensor([[0., 0., 0., 0.],\n",
              "        [0., 0., 0., 0.],\n",
              "        [0., 0., 0., 0.]])"
            ]
          },
          "metadata": {},
          "execution_count": 84
        }
      ]
    },
    {
      "cell_type": "code",
      "source": [
        "#create a tensor of all ones\n",
        "ones = torch.ones(size=(3,4))\n",
        "ones"
      ],
      "metadata": {
        "colab": {
          "base_uri": "https://localhost:8080/"
        },
        "id": "uZNjgqG0IrqQ",
        "outputId": "d36cd4f3-6b02-45d0-fe39-0172f794661c"
      },
      "execution_count": null,
      "outputs": [
        {
          "output_type": "execute_result",
          "data": {
            "text/plain": [
              "tensor([[1., 1., 1., 1.],\n",
              "        [1., 1., 1., 1.],\n",
              "        [1., 1., 1., 1.]])"
            ]
          },
          "metadata": {},
          "execution_count": 85
        }
      ]
    },
    {
      "cell_type": "code",
      "source": [
        "#use torch.range()\n",
        "one_to_ten = torch.arange(1,11)\n",
        "one_to_ten"
      ],
      "metadata": {
        "colab": {
          "base_uri": "https://localhost:8080/"
        },
        "id": "pbHnsIQFI3N9",
        "outputId": "0a730546-d5e6-4cd5-9485-d19226f7abe9"
      },
      "execution_count": null,
      "outputs": [
        {
          "output_type": "execute_result",
          "data": {
            "text/plain": [
              "tensor([ 1,  2,  3,  4,  5,  6,  7,  8,  9, 10])"
            ]
          },
          "metadata": {},
          "execution_count": 86
        }
      ]
    },
    {
      "cell_type": "code",
      "source": [
        "one_to_ten = torch.arange(start=1, end=11, step=1)\n",
        "one_to_ten"
      ],
      "metadata": {
        "colab": {
          "base_uri": "https://localhost:8080/"
        },
        "id": "40k8u2g-JdPJ",
        "outputId": "957a36d9-d33d-43d1-fff5-664535a894c9"
      },
      "execution_count": null,
      "outputs": [
        {
          "output_type": "execute_result",
          "data": {
            "text/plain": [
              "tensor([ 1,  2,  3,  4,  5,  6,  7,  8,  9, 10])"
            ]
          },
          "metadata": {},
          "execution_count": 87
        }
      ]
    },
    {
      "cell_type": "code",
      "source": [
        "one_to_ten.shape"
      ],
      "metadata": {
        "id": "q-tCvr99Jsld",
        "outputId": "0426fe86-4106-4f8e-e8f3-bc1fac213e3f",
        "colab": {
          "base_uri": "https://localhost:8080/"
        }
      },
      "execution_count": null,
      "outputs": [
        {
          "output_type": "execute_result",
          "data": {
            "text/plain": [
              "torch.Size([10])"
            ]
          },
          "metadata": {},
          "execution_count": 88
        }
      ]
    },
    {
      "cell_type": "code",
      "source": [
        "ten_zero = torch.zeros_like(input=one_to_ten)\n",
        "ten_zero"
      ],
      "metadata": {
        "id": "c3cUuCvlJv0p",
        "outputId": "684f0ce8-2644-46c2-86a4-7d2c92dd1686",
        "colab": {
          "base_uri": "https://localhost:8080/"
        }
      },
      "execution_count": null,
      "outputs": [
        {
          "output_type": "execute_result",
          "data": {
            "text/plain": [
              "tensor([0, 0, 0, 0, 0, 0, 0, 0, 0, 0])"
            ]
          },
          "metadata": {},
          "execution_count": 89
        }
      ]
    },
    {
      "cell_type": "markdown",
      "source": [
        "Tensor Datatype\n",
        "\n",
        "**Note:** Tensor datatype is one of the 3 big errors you'll run into with PyTorch & deep learning:\n",
        "\n",
        "1. Tensors not right datatype\n",
        "\n",
        "2.Tensor not right shape"
      ],
      "metadata": {
        "id": "EmxeZbwijYMV"
      }
    },
    {
      "cell_type": "code",
      "source": [
        "#float 32 tensor\n",
        "float_32_tensor = torch.tensor([3.0,6.0,9.0],\n",
        "                               dtype=None,\n",
        "                               device=None,\n",
        "                               requires_grad=False)\n",
        "float_32_tensor"
      ],
      "metadata": {
        "id": "SIUx2GVLjUdQ",
        "outputId": "d0ea38d2-b177-4664-a6fe-0968bc06e598",
        "colab": {
          "base_uri": "https://localhost:8080/"
        }
      },
      "execution_count": null,
      "outputs": [
        {
          "output_type": "execute_result",
          "data": {
            "text/plain": [
              "tensor([3., 6., 9.])"
            ]
          },
          "metadata": {},
          "execution_count": 90
        }
      ]
    },
    {
      "cell_type": "code",
      "source": [
        "tensor = torch.tensor( [1.0, 2.0, 3.0],dtype=torch.float32)\n",
        "print(tensor)\n"
      ],
      "metadata": {
        "id": "Ek7hBuaZm4_z",
        "colab": {
          "base_uri": "https://localhost:8080/"
        },
        "outputId": "9981cc1c-53ce-4ce5-abb9-4fb110f23cdd"
      },
      "execution_count": null,
      "outputs": [
        {
          "output_type": "stream",
          "name": "stdout",
          "text": [
            "tensor([1., 2., 3.])\n"
          ]
        }
      ]
    },
    {
      "cell_type": "code",
      "source": [
        "float_16_tensor = float_32_tensor.type(torch.float16)\n",
        "float_16_tensor"
      ],
      "metadata": {
        "colab": {
          "base_uri": "https://localhost:8080/"
        },
        "id": "y9kmAs3Powjl",
        "outputId": "dbee37ea-ed90-4a37-fb40-e14d92e980be"
      },
      "execution_count": null,
      "outputs": [
        {
          "output_type": "execute_result",
          "data": {
            "text/plain": [
              "tensor([3., 6., 9.], dtype=torch.float16)"
            ]
          },
          "metadata": {},
          "execution_count": 92
        }
      ]
    },
    {
      "cell_type": "code",
      "source": [
        "float_16_tensor = float_32_tensor"
      ],
      "metadata": {
        "id": "w0wRNfWtrHE_"
      },
      "execution_count": null,
      "outputs": []
    },
    {
      "cell_type": "code",
      "source": [
        "int_32_tensor = torch.tensor([3,6,9], dtype=torch.int32)\n",
        "int_32_tensor"
      ],
      "metadata": {
        "colab": {
          "base_uri": "https://localhost:8080/"
        },
        "id": "DgLLHRpfruKF",
        "outputId": "2ff633aa-cae8-4d8e-c906-6e7954ca10ce"
      },
      "execution_count": null,
      "outputs": [
        {
          "output_type": "execute_result",
          "data": {
            "text/plain": [
              "tensor([3, 6, 9], dtype=torch.int32)"
            ]
          },
          "metadata": {},
          "execution_count": 94
        }
      ]
    },
    {
      "cell_type": "code",
      "source": [
        "float_32_tensor * int_32_tensor"
      ],
      "metadata": {
        "colab": {
          "base_uri": "https://localhost:8080/"
        },
        "id": "iG6gO6Q5LWSx",
        "outputId": "30f66a0c-4d6e-4804-e9cb-74d2e70b0760"
      },
      "execution_count": null,
      "outputs": [
        {
          "output_type": "execute_result",
          "data": {
            "text/plain": [
              "tensor([ 9., 36., 81.])"
            ]
          },
          "metadata": {},
          "execution_count": 95
        }
      ]
    },
    {
      "cell_type": "code",
      "source": [
        "#create a tensor\n",
        "some_tensor = torch.rand(3,4)\n",
        "some_tensor"
      ],
      "metadata": {
        "colab": {
          "base_uri": "https://localhost:8080/"
        },
        "id": "IYOKBoAkMBha",
        "outputId": "01ca0bd6-1fbb-49d1-c6cc-c0d0643f4e50"
      },
      "execution_count": null,
      "outputs": [
        {
          "output_type": "execute_result",
          "data": {
            "text/plain": [
              "tensor([[0.3937, 0.0771, 0.2478, 0.7369],\n",
              "        [0.4642, 0.3062, 0.9373, 0.8911],\n",
              "        [0.4442, 0.4963, 0.4625, 0.1897]])"
            ]
          },
          "metadata": {},
          "execution_count": 96
        }
      ]
    },
    {
      "cell_type": "code",
      "source": [
        "#find out details about some tensor\n",
        "print(some_tensor)\n",
        "print(f\"Datatype of tensor: {some_tensor.dtype}\")\n",
        "print(f\"Shape of tensor: {some_tensor.shape}\")\n",
        "print(f\"Device tensor is on: {some_tensor.device}\")"
      ],
      "metadata": {
        "colab": {
          "base_uri": "https://localhost:8080/"
        },
        "id": "sjlygekbMXJy",
        "outputId": "fe447d2f-b8f1-45de-fc4c-628d35a5b056"
      },
      "execution_count": null,
      "outputs": [
        {
          "output_type": "stream",
          "name": "stdout",
          "text": [
            "tensor([[0.3937, 0.0771, 0.2478, 0.7369],\n",
            "        [0.4642, 0.3062, 0.9373, 0.8911],\n",
            "        [0.4442, 0.4963, 0.4625, 0.1897]])\n",
            "Datatype of tensor: torch.float32\n",
            "Shape of tensor: torch.Size([3, 4])\n",
            "Device tensor is on: cpu\n"
          ]
        }
      ]
    },
    {
      "cell_type": "markdown",
      "source": [
        "###manipulating Tensors ( tensor operation)\n",
        "\n",
        "Tensor operattion include:\n",
        "\n",
        "*Addition\n",
        "\n",
        "*Subtraction\n",
        "\n",
        "*Multiplication(element-wise)\n",
        "\n",
        "*division\n",
        "\n",
        "*Matrix Multiplication"
      ],
      "metadata": {
        "id": "2WeJXkaSNvx4"
      }
    },
    {
      "cell_type": "code",
      "source": [
        "#create a tensor and add 10 to it\n",
        "tensor = torch.tensor([1,2,3])\n",
        "tensor + 10"
      ],
      "metadata": {
        "colab": {
          "base_uri": "https://localhost:8080/"
        },
        "id": "qn5KQtOZMqCe",
        "outputId": "418fbe04-1c1c-473c-e5da-9aaaffcf03b3"
      },
      "execution_count": null,
      "outputs": [
        {
          "output_type": "execute_result",
          "data": {
            "text/plain": [
              "tensor([11, 12, 13])"
            ]
          },
          "metadata": {},
          "execution_count": 98
        }
      ]
    },
    {
      "cell_type": "code",
      "source": [
        "#multiply tensor by 10\n",
        "tensor * 10"
      ],
      "metadata": {
        "colab": {
          "base_uri": "https://localhost:8080/"
        },
        "id": "CJznQMdMORMM",
        "outputId": "93923577-a958-4e14-d1c6-77c77879e379"
      },
      "execution_count": null,
      "outputs": [
        {
          "output_type": "execute_result",
          "data": {
            "text/plain": [
              "tensor([10, 20, 30])"
            ]
          },
          "metadata": {},
          "execution_count": 99
        }
      ]
    },
    {
      "cell_type": "code",
      "source": [
        "tensor"
      ],
      "metadata": {
        "colab": {
          "base_uri": "https://localhost:8080/"
        },
        "id": "SmWqezXAP8g-",
        "outputId": "8e46fe25-1d60-4681-d4f7-eb35d3bbd3bf"
      },
      "execution_count": null,
      "outputs": [
        {
          "output_type": "execute_result",
          "data": {
            "text/plain": [
              "tensor([1, 2, 3])"
            ]
          },
          "metadata": {},
          "execution_count": 100
        }
      ]
    },
    {
      "cell_type": "code",
      "source": [
        "#subtract\n",
        "tensor - 10"
      ],
      "metadata": {
        "colab": {
          "base_uri": "https://localhost:8080/"
        },
        "id": "MWwFTpF-P_XY",
        "outputId": "488125a2-f505-4e3a-a9b6-8b0c4c05bd57"
      },
      "execution_count": null,
      "outputs": [
        {
          "output_type": "execute_result",
          "data": {
            "text/plain": [
              "tensor([-9, -8, -7])"
            ]
          },
          "metadata": {},
          "execution_count": 101
        }
      ]
    },
    {
      "cell_type": "code",
      "source": [
        "#divide\n",
        "tensor/10"
      ],
      "metadata": {
        "colab": {
          "base_uri": "https://localhost:8080/"
        },
        "id": "HHU7DVjOQE2Z",
        "outputId": "5cf9eb38-7caf-4af3-f347-d1dfce5b0104"
      },
      "execution_count": null,
      "outputs": [
        {
          "output_type": "execute_result",
          "data": {
            "text/plain": [
              "tensor([0.1000, 0.2000, 0.3000])"
            ]
          },
          "metadata": {},
          "execution_count": 102
        }
      ]
    },
    {
      "cell_type": "code",
      "source": [
        "torch.mul(tensor,10)"
      ],
      "metadata": {
        "colab": {
          "base_uri": "https://localhost:8080/"
        },
        "id": "QSiCdWgwQJjq",
        "outputId": "f497d2df-dc11-4e8a-e180-5ac199ad4114"
      },
      "execution_count": null,
      "outputs": [
        {
          "output_type": "execute_result",
          "data": {
            "text/plain": [
              "tensor([10, 20, 30])"
            ]
          },
          "metadata": {},
          "execution_count": 103
        }
      ]
    },
    {
      "cell_type": "code",
      "source": [
        "torch.add(tensor,10)"
      ],
      "metadata": {
        "colab": {
          "base_uri": "https://localhost:8080/"
        },
        "id": "vRH20ZpNRHqo",
        "outputId": "8be8ce66-370b-499b-9a7d-112e783e0698"
      },
      "execution_count": null,
      "outputs": [
        {
          "output_type": "execute_result",
          "data": {
            "text/plain": [
              "tensor([11, 12, 13])"
            ]
          },
          "metadata": {},
          "execution_count": 104
        }
      ]
    },
    {
      "cell_type": "markdown",
      "source": [
        "Matrix multiplication\n",
        "\n",
        "Two main ways of performing multiplication in neural networks and deep learning:\n",
        "\n",
        "1.Element-wise multiplication\n",
        "\n",
        "2.Matrix multiplication(dot product)\n",
        "\n",
        "There are two main rules that performing matrix multiplication\n",
        "\n",
        "1. The **inner dimensions** must match:\n",
        "\n",
        " *(3,2) @ (3,2) won't work\n",
        "\n",
        " *(2,3) @ (3,2) will work\n",
        "\n",
        " *(3,2) @ (2,3) will work\n",
        "\n",
        "\n",
        "2.The resulting matrix has the shape of the **outer dimension**:\n",
        "\n",
        "*(2,3) @ (3,2) -> (2,2)\n",
        "\n",
        "*(3,2) 2 (2,3) -. (3,3)\n",
        "\n",
        "\n"
      ],
      "metadata": {
        "id": "15eaC_8jZp3z"
      }
    },
    {
      "cell_type": "code",
      "source": [
        "torch.matmul(torch.rand(10,10),torch.rand(10,10))"
      ],
      "metadata": {
        "colab": {
          "base_uri": "https://localhost:8080/"
        },
        "id": "XHyspsAnh5Ak",
        "outputId": "aa96b5a0-09b2-4a23-aa4a-e728623f4fdd"
      },
      "execution_count": null,
      "outputs": [
        {
          "output_type": "execute_result",
          "data": {
            "text/plain": [
              "tensor([[2.5355, 3.6605, 3.6778, 2.9050, 3.2714, 2.6683, 4.0648, 2.7982, 3.9427,\n",
              "         3.1219],\n",
              "        [1.3904, 2.6972, 3.2190, 1.5495, 2.7778, 2.4690, 3.2474, 2.0854, 2.8894,\n",
              "         2.1152],\n",
              "        [1.5680, 2.5943, 2.8926, 1.8440, 2.8670, 2.7875, 2.5317, 1.8505, 2.8341,\n",
              "         2.4416],\n",
              "        [1.7561, 2.5209, 2.2394, 2.0800, 2.0993, 2.0250, 2.9784, 2.1225, 2.8894,\n",
              "         1.8893],\n",
              "        [1.4259, 2.4367, 2.5342, 1.6172, 2.5240, 2.2767, 2.5452, 2.0142, 2.6570,\n",
              "         2.1697],\n",
              "        [2.1205, 3.0153, 3.4245, 2.6713, 3.2152, 2.3964, 2.9406, 2.2277, 2.9366,\n",
              "         2.9531],\n",
              "        [1.2314, 1.7709, 2.1925, 1.8096, 1.9314, 2.0657, 2.2188, 1.8258, 1.7225,\n",
              "         1.8800],\n",
              "        [2.8056, 3.8180, 3.5889, 2.7916, 3.3233, 2.4156, 4.3287, 3.0569, 4.1853,\n",
              "         2.9973],\n",
              "        [2.7041, 3.0615, 3.0051, 2.6503, 2.8444, 2.9617, 3.3257, 2.7203, 3.1620,\n",
              "         2.5867],\n",
              "        [1.6535, 2.7689, 3.0813, 2.0917, 2.9832, 2.4691, 2.7969, 2.1435, 2.8411,\n",
              "         2.5043]])"
            ]
          },
          "metadata": {},
          "execution_count": 105
        }
      ]
    },
    {
      "cell_type": "code",
      "source": [
        "#Elementwise multiplication\n",
        "print(tensor,\"*\",tensor)\n",
        "print(f\"Equals:{tensor * tensor}\")\n"
      ],
      "metadata": {
        "colab": {
          "base_uri": "https://localhost:8080/"
        },
        "id": "QHc3IlZeRPoG",
        "outputId": "584fb2c1-1123-4a7b-a2fe-f11ecbd4f4da"
      },
      "execution_count": null,
      "outputs": [
        {
          "output_type": "stream",
          "name": "stdout",
          "text": [
            "tensor([1, 2, 3]) * tensor([1, 2, 3])\n",
            "Equals:tensor([1, 4, 9])\n"
          ]
        }
      ]
    },
    {
      "cell_type": "code",
      "source": [
        "#matrix multiplication\n",
        "torch.matmul(tensor,tensor)"
      ],
      "metadata": {
        "colab": {
          "base_uri": "https://localhost:8080/"
        },
        "id": "POZrRMykacyp",
        "outputId": "49a83800-1c01-4644-a7a2-7044085aea95"
      },
      "execution_count": null,
      "outputs": [
        {
          "output_type": "execute_result",
          "data": {
            "text/plain": [
              "tensor(14)"
            ]
          },
          "metadata": {},
          "execution_count": 107
        }
      ]
    },
    {
      "cell_type": "code",
      "source": [
        "#matrix multiplication by hand\n",
        "1*1 + 2*2 + 3*3"
      ],
      "metadata": {
        "colab": {
          "base_uri": "https://localhost:8080/"
        },
        "id": "X6yJYNZMdsH5",
        "outputId": "dd88fad8-59d7-4cff-8e23-fa4e9b8d3cc6"
      },
      "execution_count": null,
      "outputs": [
        {
          "output_type": "execute_result",
          "data": {
            "text/plain": [
              "14"
            ]
          },
          "metadata": {},
          "execution_count": 108
        }
      ]
    },
    {
      "cell_type": "code",
      "source": [
        "%%time\n",
        "value = 0\n",
        "for i in range(len(tensor)):\n",
        "  value += tensor[i] * tensor[i]\n",
        "  print(value)\n",
        "\n"
      ],
      "metadata": {
        "colab": {
          "base_uri": "https://localhost:8080/"
        },
        "id": "KrKzgN0ae8-Y",
        "outputId": "a7ff6bca-f56c-46ce-c813-735b87ef27e9"
      },
      "execution_count": null,
      "outputs": [
        {
          "output_type": "stream",
          "name": "stdout",
          "text": [
            "tensor(1)\n",
            "tensor(5)\n",
            "tensor(14)\n",
            "CPU times: user 776 µs, sys: 0 ns, total: 776 µs\n",
            "Wall time: 785 µs\n"
          ]
        }
      ]
    },
    {
      "cell_type": "code",
      "source": [
        "tensor @ tensor"
      ],
      "metadata": {
        "colab": {
          "base_uri": "https://localhost:8080/"
        },
        "id": "9C1aDJn0gtbp",
        "outputId": "44ade523-6699-4058-c98d-1bf85ef14a0c"
      },
      "execution_count": null,
      "outputs": [
        {
          "output_type": "execute_result",
          "data": {
            "text/plain": [
              "tensor(14)"
            ]
          },
          "metadata": {},
          "execution_count": 110
        }
      ]
    },
    {
      "cell_type": "code",
      "source": [
        "%%time\n",
        "torch.matmul(tensor,tensor)"
      ],
      "metadata": {
        "colab": {
          "base_uri": "https://localhost:8080/"
        },
        "id": "lx3KAmazfaxP",
        "outputId": "f149ff62-d621-40b6-9de5-2f905633d96c"
      },
      "execution_count": null,
      "outputs": [
        {
          "output_type": "stream",
          "name": "stdout",
          "text": [
            "CPU times: user 32 µs, sys: 0 ns, total: 32 µs\n",
            "Wall time: 36.7 µs\n"
          ]
        },
        {
          "output_type": "execute_result",
          "data": {
            "text/plain": [
              "tensor(14)"
            ]
          },
          "metadata": {},
          "execution_count": 111
        }
      ]
    },
    {
      "cell_type": "markdown",
      "source": [
        "### one of the most common errors in deep learning: shape errors"
      ],
      "metadata": {
        "id": "CKVSRRlxgFX5"
      }
    },
    {
      "cell_type": "code",
      "source": [
        " #Shape for matrix multiplication\n",
        "tensor_A = torch.tensor([[1, 2],\n",
        "                         [3, 4],\n",
        "                         [5, 6]])\n",
        "tensor_B = torch.tensor([[7, 10],\n",
        "                         [8, 11],\n",
        "                         [9, 12]])\n",
        "\n",
        "\n",
        "#torch.mm(tensor_A,tensor_B) #torch.mm is the same as torch.matmul (it's an alias for writing less code)\n",
        "torch.matmul(tensor_A, tensor_B.T)\n"
      ],
      "metadata": {
        "colab": {
          "base_uri": "https://localhost:8080/"
        },
        "id": "ehnumnLNftEC",
        "outputId": "5b8b37ce-9d15-4c37-d837-4e7563390221"
      },
      "execution_count": null,
      "outputs": [
        {
          "output_type": "execute_result",
          "data": {
            "text/plain": [
              "tensor([[ 27,  30,  33],\n",
              "        [ 61,  68,  75],\n",
              "        [ 95, 106, 117]])"
            ]
          },
          "metadata": {},
          "execution_count": 112
        }
      ]
    },
    {
      "cell_type": "code",
      "source": [
        "tensor_A.shape, tensor_B.shape"
      ],
      "metadata": {
        "id": "R8P8pkSiCWp_",
        "outputId": "f50c6f02-c76d-4f7e-8bc7-57cf8e65d1ec",
        "colab": {
          "base_uri": "https://localhost:8080/"
        }
      },
      "execution_count": null,
      "outputs": [
        {
          "output_type": "execute_result",
          "data": {
            "text/plain": [
              "(torch.Size([3, 2]), torch.Size([3, 2]))"
            ]
          },
          "metadata": {},
          "execution_count": 113
        }
      ]
    },
    {
      "cell_type": "markdown",
      "source": [
        "To fix our tensor shape issues, we can manipulate the shape of one of our tensors using a **transpose**.\n",
        "\n",
        "A **transpose** switches the axes or dimensions of a given tensor tensor"
      ],
      "metadata": {
        "id": "t2VnFdGFC3qf"
      }
    },
    {
      "cell_type": "code",
      "source": [
        "tensor_B,tensor_B.shape"
      ],
      "metadata": {
        "id": "sCtMDn2LCtaY",
        "outputId": "7fe8fae4-2482-46c1-e786-4208c1c51661",
        "colab": {
          "base_uri": "https://localhost:8080/"
        }
      },
      "execution_count": null,
      "outputs": [
        {
          "output_type": "execute_result",
          "data": {
            "text/plain": [
              "(tensor([[ 7, 10],\n",
              "         [ 8, 11],\n",
              "         [ 9, 12]]),\n",
              " torch.Size([3, 2]))"
            ]
          },
          "metadata": {},
          "execution_count": 114
        }
      ]
    },
    {
      "cell_type": "code",
      "source": [
        "tensor_B.T, tensor_B.T.shape"
      ],
      "metadata": {
        "id": "nkOUlHm5D3yV",
        "outputId": "2fb3d662-f209-4e50-be3f-17e8b606ef41",
        "colab": {
          "base_uri": "https://localhost:8080/"
        }
      },
      "execution_count": null,
      "outputs": [
        {
          "output_type": "execute_result",
          "data": {
            "text/plain": [
              "(tensor([[ 7,  8,  9],\n",
              "         [10, 11, 12]]),\n",
              " torch.Size([2, 3]))"
            ]
          },
          "metadata": {},
          "execution_count": 115
        }
      ]
    },
    {
      "cell_type": "markdown",
      "source": [],
      "metadata": {
        "id": "KwVKsdSK2EDw"
      }
    },
    {
      "cell_type": "code",
      "source": [
        "# The matrix multiplication operation works when tensor_B is transposed\n",
        "print(f\"Original shapes: tensor_A = {tensor_A.shape} , tensor_B = {tensor_B.shape}\")\n",
        "print(f\"New shapes: tensor_A = {tensor_A.shape} (same shape as above), tensor_B.T = {tensor_B.T.shape}\")\n",
        "print(f\"Multiplying : {tensor_A.shape} @ {tensor_B.T.shape} <- inner dimensions must match\")\n",
        "print(\"Output:\\n\")\n",
        "output = torch.matmul(tensor_A, tensor_B.T)\n",
        "print(output)\n",
        "torch.matmul(tensor_A, tensor_B.T)"
      ],
      "metadata": {
        "id": "4yOhfn5yD_6r",
        "colab": {
          "base_uri": "https://localhost:8080/"
        },
        "outputId": "b70254e2-eead-4dee-dec0-86db7c6dc788"
      },
      "execution_count": null,
      "outputs": [
        {
          "output_type": "stream",
          "name": "stdout",
          "text": [
            "Original shapes: tensor_A = torch.Size([3, 2]) , tensor_B = torch.Size([3, 2])\n",
            "New shapes: tensor_A = torch.Size([3, 2]) (same shape as above), tensor_B.T = torch.Size([2, 3])\n",
            "Multiplying : torch.Size([3, 2]) @ torch.Size([2, 3]) <- inner dimensions must match\n",
            "Output:\n",
            "\n",
            "tensor([[ 27,  30,  33],\n",
            "        [ 61,  68,  75],\n",
            "        [ 95, 106, 117]])\n"
          ]
        },
        {
          "output_type": "execute_result",
          "data": {
            "text/plain": [
              "tensor([[ 27,  30,  33],\n",
              "        [ 61,  68,  75],\n",
              "        [ 95, 106, 117]])"
            ]
          },
          "metadata": {},
          "execution_count": 120
        }
      ]
    },
    {
      "cell_type": "code",
      "source": [
        "print(f\"Original shapes : tensor_A = {tensor_A.shape} ,tensor_B = {tensor_B.shape}\")\n",
        "print(f\"New shapes:tensorA.T = {tensor_A.shape} (same shape as above), tensor_B = {tensor_B.T.shape}\")\n",
        "print(f\"Multiplying : {tensor_A.T.shape} @ {tensor_B.shape} <- inner dimension must match\")\n",
        "print(\"Output:\\n\")\n",
        "out = torch.matmul(tensor_A.T, tensor_B)\n",
        "print(output)"
      ],
      "metadata": {
        "colab": {
          "base_uri": "https://localhost:8080/"
        },
        "id": "nIU2dhAJds2N",
        "outputId": "7191da89-5071-4bdd-b3bf-9d1ca45457ce"
      },
      "execution_count": null,
      "outputs": [
        {
          "output_type": "stream",
          "name": "stdout",
          "text": [
            "Original shapes : tensor_A = torch.Size([3, 2]) ,tensor_B = torch.Size([3, 2])\n",
            "New shapes:tensorA.T = torch.Size([3, 2]) (same shape as above), tensor_B = torch.Size([2, 3])\n",
            "Multiplying : torch.Size([2, 3]) @ torch.Size([3, 2]) <- inner dimension must match\n",
            "Output:\n",
            "\n",
            "tensor([[ 27,  30,  33],\n",
            "        [ 61,  68,  75],\n",
            "        [ 95, 106, 117]])\n"
          ]
        }
      ]
    },
    {
      "cell_type": "markdown",
      "source": [
        "Finding the min ,max , mean, sum,etc (tensor aggregation)"
      ],
      "metadata": {
        "id": "OeDIFF7jiSNL"
      }
    },
    {
      "cell_type": "code",
      "source": [
        "#create a tensor\n",
        "x= torch.arange(0,100,10)\n",
        "x , x.dtype"
      ],
      "metadata": {
        "colab": {
          "base_uri": "https://localhost:8080/"
        },
        "id": "dqblxNC7hsaL",
        "outputId": "27981b7b-af29-47b7-d839-93e1cb1c043d"
      },
      "execution_count": null,
      "outputs": [
        {
          "output_type": "execute_result",
          "data": {
            "text/plain": [
              "(tensor([ 0, 10, 20, 30, 40, 50, 60, 70, 80, 90]), torch.int64)"
            ]
          },
          "metadata": {},
          "execution_count": 127
        }
      ]
    },
    {
      "cell_type": "code",
      "source": [
        "# Find the main\n",
        "torch.min(x) , x.min()"
      ],
      "metadata": {
        "colab": {
          "base_uri": "https://localhost:8080/"
        },
        "id": "8zcBK01Wil1w",
        "outputId": "e34eec04-05b3-4103-fc0e-c9c8f6b66cc9"
      },
      "execution_count": null,
      "outputs": [
        {
          "output_type": "execute_result",
          "data": {
            "text/plain": [
              "(tensor(0), tensor(0))"
            ]
          },
          "metadata": {},
          "execution_count": 126
        }
      ]
    },
    {
      "cell_type": "code",
      "source": [
        "#Find the mean - note: the torch.mean() function requires a tensor of float32 datatype to work\n",
        "torch.mean(x.type(torch.float32)) ,x.type(torch.float32).mean()"
      ],
      "metadata": {
        "colab": {
          "base_uri": "https://localhost:8080/"
        },
        "id": "mrqRwNeDitw9",
        "outputId": "610aa990-34ca-4c79-de58-55e801285c9d"
      },
      "execution_count": null,
      "outputs": [
        {
          "output_type": "execute_result",
          "data": {
            "text/plain": [
              "(tensor(45.), tensor(45.))"
            ]
          },
          "metadata": {},
          "execution_count": 132
        }
      ]
    },
    {
      "cell_type": "code",
      "source": [
        "#find the sum\n",
        "torch.sum(x), x.sum()"
      ],
      "metadata": {
        "colab": {
          "base_uri": "https://localhost:8080/"
        },
        "id": "sbK1VcxrjVzK",
        "outputId": "686c0004-9b61-4003-d5a4-b897802cca13"
      },
      "execution_count": null,
      "outputs": [
        {
          "output_type": "execute_result",
          "data": {
            "text/plain": [
              "(tensor(450), tensor(450))"
            ]
          },
          "metadata": {},
          "execution_count": 133
        }
      ]
    },
    {
      "cell_type": "markdown",
      "source": [
        "## Finding the positional min max"
      ],
      "metadata": {
        "id": "-MLTVKaBkrxZ"
      }
    },
    {
      "cell_type": "code",
      "source": [
        "x"
      ],
      "metadata": {
        "colab": {
          "base_uri": "https://localhost:8080/"
        },
        "id": "Fx9mnnA0kJnm",
        "outputId": "071e70dd-c174-41f7-c5fe-5ec208a5880a"
      },
      "execution_count": null,
      "outputs": [
        {
          "output_type": "execute_result",
          "data": {
            "text/plain": [
              "tensor([ 0, 10, 20, 30, 40, 50, 60, 70, 80, 90])"
            ]
          },
          "metadata": {},
          "execution_count": 134
        }
      ]
    },
    {
      "cell_type": "code",
      "source": [
        "x.argmin()"
      ],
      "metadata": {
        "id": "K4TT-4c2kwX2",
        "outputId": "5b03b854-6b79-4c3d-cf76-bcaffcb53ed6",
        "colab": {
          "base_uri": "https://localhost:8080/"
        }
      },
      "execution_count": null,
      "outputs": [
        {
          "output_type": "execute_result",
          "data": {
            "text/plain": [
              "tensor(0)"
            ]
          },
          "metadata": {},
          "execution_count": 136
        }
      ]
    },
    {
      "cell_type": "markdown",
      "source": [
        "to be continued"
      ],
      "metadata": {
        "id": "RKFF6NKupZ5Z"
      }
    },
    {
      "cell_type": "code",
      "source": [],
      "metadata": {
        "id": "-0y6J-PAk0y2"
      },
      "execution_count": null,
      "outputs": []
    }
  ]
}