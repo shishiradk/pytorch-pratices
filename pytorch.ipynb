{
  "nbformat": 4,
  "nbformat_minor": 0,
  "metadata": {
    "colab": {
      "provenance": [],
      "gpuType": "T4",
      "authorship_tag": "ABX9TyPkD5T9WEPAA1Tpq//A4YQ8",
      "include_colab_link": true
    },
    "kernelspec": {
      "name": "python3",
      "display_name": "Python 3"
    },
    "language_info": {
      "name": "python"
    },
    "accelerator": "GPU"
  },
  "cells": [
    {
      "cell_type": "markdown",
      "metadata": {
        "id": "view-in-github",
        "colab_type": "text"
      },
      "source": [
        "<a href=\"https://colab.research.google.com/github/shishiradk/pytorch-pratices/blob/main/pytorch.ipynb\" target=\"_parent\"><img src=\"https://colab.research.google.com/assets/colab-badge.svg\" alt=\"Open In Colab\"/></a>"
      ]
    },
    {
      "cell_type": "code",
      "execution_count": 1,
      "metadata": {
        "colab": {
          "base_uri": "https://localhost:8080/"
        },
        "id": "Ipxmmm-BuHoq",
        "outputId": "898a20d2-947a-4216-bb35-9dce90bcd634"
      },
      "outputs": [
        {
          "output_type": "stream",
          "name": "stdout",
          "text": [
            "Sun Mar  9 08:01:24 2025       \n",
            "+-----------------------------------------------------------------------------------------+\n",
            "| NVIDIA-SMI 550.54.15              Driver Version: 550.54.15      CUDA Version: 12.4     |\n",
            "|-----------------------------------------+------------------------+----------------------+\n",
            "| GPU  Name                 Persistence-M | Bus-Id          Disp.A | Volatile Uncorr. ECC |\n",
            "| Fan  Temp   Perf          Pwr:Usage/Cap |           Memory-Usage | GPU-Util  Compute M. |\n",
            "|                                         |                        |               MIG M. |\n",
            "|=========================================+========================+======================|\n",
            "|   0  Tesla T4                       Off |   00000000:00:04.0 Off |                    0 |\n",
            "| N/A   58C    P8             10W /   70W |       0MiB /  15360MiB |      0%      Default |\n",
            "|                                         |                        |                  N/A |\n",
            "+-----------------------------------------+------------------------+----------------------+\n",
            "                                                                                         \n",
            "+-----------------------------------------------------------------------------------------+\n",
            "| Processes:                                                                              |\n",
            "|  GPU   GI   CI        PID   Type   Process name                              GPU Memory |\n",
            "|        ID   ID                                                               Usage      |\n",
            "|=========================================================================================|\n",
            "|  No running processes found                                                             |\n",
            "+-----------------------------------------------------------------------------------------+\n"
          ]
        }
      ],
      "source": [
        "!nvidia-smi\n"
      ]
    },
    {
      "cell_type": "code",
      "source": [
        "import numpy as np\n",
        "import pandas as pd\n",
        "import matplotlib.pyplot as plt\n",
        "import torch\n",
        "print(torch.__version__)"
      ],
      "metadata": {
        "colab": {
          "base_uri": "https://localhost:8080/"
        },
        "id": "eZa8yggluhDq",
        "outputId": "215550de-11b1-4feb-bd0f-4766836edd6e"
      },
      "execution_count": 2,
      "outputs": [
        {
          "output_type": "stream",
          "name": "stdout",
          "text": [
            "2.5.1+cu124\n"
          ]
        }
      ]
    },
    {
      "cell_type": "markdown",
      "source": [
        "introduction to tensors\n",
        "creating tensor"
      ],
      "metadata": {
        "id": "0T04eZk0w0gf"
      }
    },
    {
      "cell_type": "markdown",
      "source": [],
      "metadata": {
        "id": "BRYigiaOw3Fh"
      }
    },
    {
      "cell_type": "code",
      "source": [
        "#scalar\n",
        "scalar = torch.tensor(7)\n",
        "scalar\n"
      ],
      "metadata": {
        "colab": {
          "base_uri": "https://localhost:8080/"
        },
        "id": "E78psR9bwJyK",
        "outputId": "d1524743-3f86-4d96-c909-8cda6f0b0ea5"
      },
      "execution_count": 3,
      "outputs": [
        {
          "output_type": "execute_result",
          "data": {
            "text/plain": [
              "tensor(7)"
            ]
          },
          "metadata": {},
          "execution_count": 3
        }
      ]
    },
    {
      "cell_type": "code",
      "source": [
        "scalar.ndim"
      ],
      "metadata": {
        "colab": {
          "base_uri": "https://localhost:8080/"
        },
        "id": "IqIfhYWywrSG",
        "outputId": "c434c423-0007-41a8-e2ea-88bd72484365"
      },
      "execution_count": 4,
      "outputs": [
        {
          "output_type": "execute_result",
          "data": {
            "text/plain": [
              "0"
            ]
          },
          "metadata": {},
          "execution_count": 4
        }
      ]
    },
    {
      "cell_type": "code",
      "source": [
        "#get tensor back as python int\n",
        "scalar.item()"
      ],
      "metadata": {
        "colab": {
          "base_uri": "https://localhost:8080/"
        },
        "id": "g57NNznbyB6a",
        "outputId": "540870fa-b918-49ad-b50a-73b051318b34"
      },
      "execution_count": 5,
      "outputs": [
        {
          "output_type": "execute_result",
          "data": {
            "text/plain": [
              "7"
            ]
          },
          "metadata": {},
          "execution_count": 5
        }
      ]
    },
    {
      "cell_type": "code",
      "source": [
        "#vector\n",
        "vector = torch.tensor([7,7])\n",
        "vector"
      ],
      "metadata": {
        "colab": {
          "base_uri": "https://localhost:8080/"
        },
        "id": "am4C3NNzyOLN",
        "outputId": "68287faf-56c6-4fd5-98c4-adca9a625278"
      },
      "execution_count": 6,
      "outputs": [
        {
          "output_type": "execute_result",
          "data": {
            "text/plain": [
              "tensor([7, 7])"
            ]
          },
          "metadata": {},
          "execution_count": 6
        }
      ]
    },
    {
      "cell_type": "code",
      "source": [
        "vector.ndim"
      ],
      "metadata": {
        "colab": {
          "base_uri": "https://localhost:8080/"
        },
        "id": "UG3w44iRyh9b",
        "outputId": "b6d36dda-0689-4189-daa6-8ccb92f38550"
      },
      "execution_count": 7,
      "outputs": [
        {
          "output_type": "execute_result",
          "data": {
            "text/plain": [
              "1"
            ]
          },
          "metadata": {},
          "execution_count": 7
        }
      ]
    },
    {
      "cell_type": "code",
      "source": [
        "vector.shape"
      ],
      "metadata": {
        "colab": {
          "base_uri": "https://localhost:8080/"
        },
        "id": "T4ieiQRyymB1",
        "outputId": "36899f4b-37a2-4494-bbb2-2b1f654f3370"
      },
      "execution_count": 8,
      "outputs": [
        {
          "output_type": "execute_result",
          "data": {
            "text/plain": [
              "torch.Size([2])"
            ]
          },
          "metadata": {},
          "execution_count": 8
        }
      ]
    },
    {
      "cell_type": "code",
      "source": [
        "#matrix\n",
        "MATRIX = torch.tensor([[7,8],\n",
        "                      [9,10]])\n",
        "MATRIX\n"
      ],
      "metadata": {
        "colab": {
          "base_uri": "https://localhost:8080/"
        },
        "id": "wexINEwqyolb",
        "outputId": "a7e2a0bf-1741-4822-f422-baaa82df8a3e"
      },
      "execution_count": 9,
      "outputs": [
        {
          "output_type": "execute_result",
          "data": {
            "text/plain": [
              "tensor([[ 7,  8],\n",
              "        [ 9, 10]])"
            ]
          },
          "metadata": {},
          "execution_count": 9
        }
      ]
    },
    {
      "cell_type": "code",
      "source": [
        "MATRIX.ndim"
      ],
      "metadata": {
        "colab": {
          "base_uri": "https://localhost:8080/"
        },
        "id": "Xm7PGAG1zEBZ",
        "outputId": "81796127-d156-45d4-81c9-8bd0c85a5f73"
      },
      "execution_count": 10,
      "outputs": [
        {
          "output_type": "execute_result",
          "data": {
            "text/plain": [
              "2"
            ]
          },
          "metadata": {},
          "execution_count": 10
        }
      ]
    },
    {
      "cell_type": "code",
      "source": [
        "MATRIX[1]"
      ],
      "metadata": {
        "colab": {
          "base_uri": "https://localhost:8080/"
        },
        "id": "EvoOzPJdzIgd",
        "outputId": "a533f451-6573-4cb6-ddd9-458621d017aa"
      },
      "execution_count": 11,
      "outputs": [
        {
          "output_type": "execute_result",
          "data": {
            "text/plain": [
              "tensor([ 9, 10])"
            ]
          },
          "metadata": {},
          "execution_count": 11
        }
      ]
    },
    {
      "cell_type": "code",
      "source": [
        "MATRIX.shape"
      ],
      "metadata": {
        "colab": {
          "base_uri": "https://localhost:8080/"
        },
        "id": "6eSRxHX2zOS4",
        "outputId": "2ad5f7e4-abc3-481e-e0e4-6d18d88f0ea0"
      },
      "execution_count": 12,
      "outputs": [
        {
          "output_type": "execute_result",
          "data": {
            "text/plain": [
              "torch.Size([2, 2])"
            ]
          },
          "metadata": {},
          "execution_count": 12
        }
      ]
    },
    {
      "cell_type": "code",
      "source": [
        "#TENSOR\n",
        "TENSOR = torch.tensor([[[1,2,4],\n",
        "                         [2,3,4],\n",
        "                         [4,5,6]]])"
      ],
      "metadata": {
        "id": "8950TfPczRPv"
      },
      "execution_count": 13,
      "outputs": []
    },
    {
      "cell_type": "code",
      "source": [
        "TENSOR"
      ],
      "metadata": {
        "colab": {
          "base_uri": "https://localhost:8080/"
        },
        "id": "SJ2MSdj7zqLW",
        "outputId": "c660f47d-41d7-4c04-a1f7-22aec0489f77"
      },
      "execution_count": 14,
      "outputs": [
        {
          "output_type": "execute_result",
          "data": {
            "text/plain": [
              "tensor([[[1, 2, 4],\n",
              "         [2, 3, 4],\n",
              "         [4, 5, 6]]])"
            ]
          },
          "metadata": {},
          "execution_count": 14
        }
      ]
    },
    {
      "cell_type": "code",
      "source": [
        "TENSOR.ndim"
      ],
      "metadata": {
        "colab": {
          "base_uri": "https://localhost:8080/"
        },
        "id": "LUFlW-blztOy",
        "outputId": "c9cf727b-c250-4e2d-ec5e-3a99c7932cdd"
      },
      "execution_count": 15,
      "outputs": [
        {
          "output_type": "execute_result",
          "data": {
            "text/plain": [
              "3"
            ]
          },
          "metadata": {},
          "execution_count": 15
        }
      ]
    },
    {
      "cell_type": "code",
      "source": [
        "TENSOR.shape"
      ],
      "metadata": {
        "colab": {
          "base_uri": "https://localhost:8080/"
        },
        "id": "NOi9qPb9zvmF",
        "outputId": "25db16dd-efb0-497a-8610-3d2a2f8216c2"
      },
      "execution_count": 16,
      "outputs": [
        {
          "output_type": "execute_result",
          "data": {
            "text/plain": [
              "torch.Size([1, 3, 3])"
            ]
          },
          "metadata": {},
          "execution_count": 16
        }
      ]
    },
    {
      "cell_type": "code",
      "source": [
        "TENSOR[0]"
      ],
      "metadata": {
        "colab": {
          "base_uri": "https://localhost:8080/"
        },
        "id": "6eeTCFwtzyJi",
        "outputId": "9c9b8c2b-76d8-44cc-db87-ec4c084143e9"
      },
      "execution_count": 17,
      "outputs": [
        {
          "output_type": "execute_result",
          "data": {
            "text/plain": [
              "tensor([[1, 2, 4],\n",
              "        [2, 3, 4],\n",
              "        [4, 5, 6]])"
            ]
          },
          "metadata": {},
          "execution_count": 17
        }
      ]
    },
    {
      "cell_type": "code",
      "source": [
        "TENSOR = torch.tensor([[[6,7,8],\n",
        "                        [5,6,7],\n",
        "                        [4,5,6]]])\n",
        "TENSOR"
      ],
      "metadata": {
        "colab": {
          "base_uri": "https://localhost:8080/"
        },
        "id": "ET2lqt--z0gu",
        "outputId": "84e86bb8-49fb-42d5-c7ce-d0ede50fdd9d"
      },
      "execution_count": 18,
      "outputs": [
        {
          "output_type": "execute_result",
          "data": {
            "text/plain": [
              "tensor([[[6, 7, 8],\n",
              "         [5, 6, 7],\n",
              "         [4, 5, 6]]])"
            ]
          },
          "metadata": {},
          "execution_count": 18
        }
      ]
    },
    {
      "cell_type": "code",
      "source": [
        "TENSOR.ndim"
      ],
      "metadata": {
        "colab": {
          "base_uri": "https://localhost:8080/"
        },
        "id": "CsuKrOcMz27a",
        "outputId": "5e54b5cd-7e44-4df2-ad4d-c272f7396f44"
      },
      "execution_count": 19,
      "outputs": [
        {
          "output_type": "execute_result",
          "data": {
            "text/plain": [
              "3"
            ]
          },
          "metadata": {},
          "execution_count": 19
        }
      ]
    },
    {
      "cell_type": "code",
      "source": [
        "TENSOR.shape"
      ],
      "metadata": {
        "colab": {
          "base_uri": "https://localhost:8080/"
        },
        "id": "B0LmokBZ_UwJ",
        "outputId": "b489ba08-7524-4a5c-99e3-bedbd288efcc"
      },
      "execution_count": 20,
      "outputs": [
        {
          "output_type": "execute_result",
          "data": {
            "text/plain": [
              "torch.Size([1, 3, 3])"
            ]
          },
          "metadata": {},
          "execution_count": 20
        }
      ]
    },
    {
      "cell_type": "code",
      "source": [
        "TENSOR[0]"
      ],
      "metadata": {
        "colab": {
          "base_uri": "https://localhost:8080/"
        },
        "id": "xUU7BC75_YAa",
        "outputId": "e7aa4c15-ca1e-4991-ea9c-3ae0f1cace48"
      },
      "execution_count": 21,
      "outputs": [
        {
          "output_type": "execute_result",
          "data": {
            "text/plain": [
              "tensor([[6, 7, 8],\n",
              "        [5, 6, 7],\n",
              "        [4, 5, 6]])"
            ]
          },
          "metadata": {},
          "execution_count": 21
        }
      ]
    },
    {
      "cell_type": "code",
      "source": [
        "#create a random tensor of size (3,4)\n",
        "random_tensor = torch.rand(10,10,10)\n",
        "random_tensor"
      ],
      "metadata": {
        "colab": {
          "base_uri": "https://localhost:8080/"
        },
        "id": "gTsFrcdZ_coi",
        "outputId": "c5641147-62e5-48a7-a480-38eb7edea8ee"
      },
      "execution_count": 22,
      "outputs": [
        {
          "output_type": "execute_result",
          "data": {
            "text/plain": [
              "tensor([[[0.4385, 0.0476, 0.4628, 0.4541, 0.8916, 0.9794, 0.4721, 0.0948,\n",
              "          0.6383, 0.8093],\n",
              "         [0.2655, 0.3720, 0.9811, 0.1915, 0.2407, 0.8698, 0.5543, 0.2090,\n",
              "          0.3000, 0.8808],\n",
              "         [0.3032, 0.3420, 0.3766, 0.6466, 0.8244, 0.8532, 0.5184, 0.8867,\n",
              "          0.6190, 0.5944],\n",
              "         [0.4002, 0.3237, 0.6510, 0.4260, 0.9073, 0.7793, 0.3820, 0.5017,\n",
              "          0.9319, 0.7819],\n",
              "         [0.2908, 0.5182, 0.3318, 0.0822, 0.6364, 0.8568, 0.9371, 0.0589,\n",
              "          0.9450, 0.3443],\n",
              "         [0.9888, 0.9479, 0.6341, 0.2763, 0.1731, 0.9575, 0.4893, 0.5381,\n",
              "          0.2869, 0.8554],\n",
              "         [0.9749, 0.4842, 0.1050, 0.7489, 0.0421, 0.6852, 0.6916, 0.6309,\n",
              "          0.5259, 0.2450],\n",
              "         [0.9115, 0.3476, 0.5893, 0.6102, 0.0886, 0.6944, 0.3376, 0.3416,\n",
              "          0.4456, 0.2759],\n",
              "         [0.2146, 0.6154, 0.1302, 0.8632, 0.5943, 0.8786, 0.4319, 0.9528,\n",
              "          0.0645, 0.5421],\n",
              "         [0.4686, 0.2691, 0.6935, 0.4362, 0.9582, 0.5138, 0.2655, 0.7963,\n",
              "          0.9702, 0.6842]],\n",
              "\n",
              "        [[0.8960, 0.5251, 0.6092, 0.1902, 0.3159, 0.8295, 0.7425, 0.5201,\n",
              "          0.0181, 0.2843],\n",
              "         [0.8572, 0.1297, 0.8938, 0.0697, 0.6971, 0.7121, 0.7037, 0.8351,\n",
              "          0.7622, 0.1468],\n",
              "         [0.8260, 0.5274, 0.6307, 0.8029, 0.8134, 0.0577, 0.4658, 0.5836,\n",
              "          0.2949, 0.4850],\n",
              "         [0.5356, 0.4537, 0.6845, 0.9999, 0.7479, 0.8965, 0.9021, 0.3540,\n",
              "          0.1900, 0.5063],\n",
              "         [0.4809, 0.6205, 0.1834, 0.0488, 0.2051, 0.4816, 0.7621, 0.4055,\n",
              "          0.6912, 0.5288],\n",
              "         [0.3119, 0.5169, 0.0302, 0.6095, 0.7234, 0.0574, 0.4399, 0.9057,\n",
              "          0.7152, 0.7944],\n",
              "         [0.6072, 0.5553, 0.8135, 0.5488, 0.2839, 0.9337, 0.4004, 0.2326,\n",
              "          0.3946, 0.0986],\n",
              "         [0.4989, 0.6532, 0.8022, 0.8756, 0.4268, 0.3272, 0.2617, 0.7259,\n",
              "          0.0882, 0.5001],\n",
              "         [0.1639, 0.7159, 0.9124, 0.5784, 0.3645, 0.3420, 0.6725, 0.0445,\n",
              "          0.0108, 0.4990],\n",
              "         [0.5650, 0.1908, 0.2732, 0.4828, 0.1995, 0.7050, 0.0269, 0.9406,\n",
              "          0.5878, 0.2625]],\n",
              "\n",
              "        [[0.6891, 0.5030, 0.7740, 0.2013, 0.6326, 0.8869, 0.4966, 0.4887,\n",
              "          0.6337, 0.4375],\n",
              "         [0.2147, 0.1752, 0.0791, 0.8284, 0.9524, 0.5588, 0.6099, 0.4309,\n",
              "          0.1634, 0.7915],\n",
              "         [0.9962, 0.5290, 0.5550, 0.1832, 0.2150, 0.6980, 0.3399, 0.8905,\n",
              "          0.7720, 0.1306],\n",
              "         [0.4404, 0.6200, 0.2701, 0.5279, 0.5252, 0.3416, 0.7100, 0.7807,\n",
              "          0.4986, 0.6415],\n",
              "         [0.1931, 0.6762, 0.4466, 0.3497, 0.7871, 0.8901, 0.8715, 0.7824,\n",
              "          0.2658, 0.2786],\n",
              "         [0.5928, 0.0719, 0.4824, 0.6628, 0.8027, 0.4694, 0.7990, 0.3651,\n",
              "          0.5290, 0.2992],\n",
              "         [0.5184, 0.0800, 0.1088, 0.1498, 0.0210, 0.8890, 0.9100, 0.9207,\n",
              "          0.8581, 0.9464],\n",
              "         [0.9259, 0.5337, 0.7433, 0.6723, 0.2306, 0.5266, 0.5413, 0.8367,\n",
              "          0.6234, 0.7090],\n",
              "         [0.7642, 0.5681, 0.3931, 0.6131, 0.8955, 0.4363, 0.3499, 0.8839,\n",
              "          0.5812, 0.0913],\n",
              "         [0.6416, 0.5114, 0.9516, 0.6469, 0.2161, 0.0742, 0.6580, 0.8527,\n",
              "          0.7726, 0.8290]],\n",
              "\n",
              "        [[0.7571, 0.7203, 0.8859, 0.8022, 0.2202, 0.1440, 0.2654, 0.7085,\n",
              "          0.9668, 0.1703],\n",
              "         [0.8133, 0.9377, 0.5942, 0.8672, 0.5088, 0.7156, 0.3291, 0.4759,\n",
              "          0.6448, 0.9729],\n",
              "         [0.0269, 0.9333, 0.0802, 0.5078, 0.5787, 0.2683, 0.0534, 0.5055,\n",
              "          0.6690, 0.6761],\n",
              "         [0.6692, 0.6756, 0.5655, 0.9457, 0.6192, 0.6203, 0.0471, 0.1036,\n",
              "          0.4198, 0.2903],\n",
              "         [0.6507, 0.0506, 0.3122, 0.1117, 0.2820, 0.3869, 0.6265, 0.7338,\n",
              "          0.6256, 0.4651],\n",
              "         [0.0703, 0.4460, 0.1670, 0.0037, 0.5882, 0.2493, 0.5835, 0.3443,\n",
              "          0.0777, 0.7326],\n",
              "         [0.6341, 0.2987, 0.2112, 0.5131, 0.1806, 0.2746, 0.3306, 0.6391,\n",
              "          0.0315, 0.9788],\n",
              "         [0.6101, 0.3894, 0.6155, 0.8367, 0.7973, 0.0161, 0.9868, 0.5775,\n",
              "          0.2276, 0.8498],\n",
              "         [0.0656, 0.3753, 0.4530, 0.1496, 0.2870, 0.3026, 0.1255, 0.6736,\n",
              "          0.6095, 0.7932],\n",
              "         [0.3384, 0.4867, 0.8431, 0.2572, 0.1736, 0.4328, 0.7496, 0.7293,\n",
              "          0.7936, 0.4856]],\n",
              "\n",
              "        [[0.6751, 0.8411, 0.2255, 0.5433, 0.9580, 0.5914, 0.3793, 0.5042,\n",
              "          0.9661, 0.5845],\n",
              "         [0.5250, 0.7203, 0.1908, 0.4303, 0.1877, 0.2473, 0.3310, 0.3990,\n",
              "          0.3723, 0.4320],\n",
              "         [0.4389, 0.6495, 0.2906, 0.4954, 0.3758, 0.4843, 0.3921, 0.8241,\n",
              "          0.6307, 0.9785],\n",
              "         [0.8435, 0.9803, 0.8035, 0.3490, 0.8317, 0.2748, 0.4712, 0.8945,\n",
              "          0.0662, 0.6590],\n",
              "         [0.9417, 0.3417, 0.6611, 0.0888, 0.3957, 0.8943, 0.7786, 0.7918,\n",
              "          0.1233, 0.2157],\n",
              "         [0.2715, 0.7827, 0.4429, 0.5546, 0.1660, 0.9013, 0.3460, 0.2068,\n",
              "          0.0652, 0.1201],\n",
              "         [0.0020, 0.7527, 0.6416, 0.9147, 0.4579, 0.8281, 0.0363, 0.7676,\n",
              "          0.2295, 0.8119],\n",
              "         [0.7045, 0.7866, 0.1477, 0.3061, 0.1127, 0.5801, 0.0797, 0.4021,\n",
              "          0.9929, 0.4020],\n",
              "         [0.1192, 0.3507, 0.4777, 0.5074, 0.5416, 0.6601, 0.6676, 0.6482,\n",
              "          0.6821, 0.1045],\n",
              "         [0.7990, 0.1362, 0.4267, 0.3196, 0.0845, 0.6798, 0.6214, 0.9418,\n",
              "          0.3710, 0.5616]],\n",
              "\n",
              "        [[0.8376, 0.7930, 0.9704, 0.4184, 0.2691, 0.5161, 0.0896, 0.9434,\n",
              "          0.6865, 0.2408],\n",
              "         [0.7263, 0.2450, 0.9459, 0.2672, 0.8640, 0.3860, 0.2165, 0.0855,\n",
              "          0.9474, 0.6369],\n",
              "         [0.2945, 0.0307, 0.9989, 0.3351, 0.4993, 0.9925, 0.7069, 0.1818,\n",
              "          0.2586, 0.7942],\n",
              "         [0.8311, 0.4058, 0.1320, 0.9493, 0.5868, 0.0336, 0.7273, 0.9512,\n",
              "          0.2956, 0.8879],\n",
              "         [0.2073, 0.1103, 0.5439, 0.4323, 0.7861, 0.7360, 0.1614, 0.6164,\n",
              "          0.0894, 0.3383],\n",
              "         [0.4349, 0.6337, 0.3890, 0.5064, 0.4039, 0.2623, 0.4575, 0.9188,\n",
              "          0.8441, 0.0304],\n",
              "         [0.1943, 0.4291, 0.0131, 0.1808, 0.7550, 0.5395, 0.9450, 0.0441,\n",
              "          0.0955, 0.1978],\n",
              "         [0.5873, 0.6314, 0.6040, 0.6572, 0.9192, 0.3884, 0.0193, 0.4774,\n",
              "          0.4081, 0.3481],\n",
              "         [0.6400, 0.7402, 0.2961, 0.8315, 0.8355, 0.1831, 0.8875, 0.1657,\n",
              "          0.6960, 0.7823],\n",
              "         [0.9265, 0.2894, 0.8736, 0.8886, 0.2496, 0.4678, 0.5439, 0.3470,\n",
              "          0.4861, 0.0541]],\n",
              "\n",
              "        [[0.2415, 0.0112, 0.8562, 0.7336, 0.2867, 0.9176, 0.5938, 0.0894,\n",
              "          0.9440, 0.9619],\n",
              "         [0.0091, 0.3845, 0.0321, 0.8421, 0.9134, 0.6681, 0.8636, 0.6285,\n",
              "          0.4177, 0.0475],\n",
              "         [0.8844, 0.5970, 0.4842, 0.3204, 0.9771, 0.2628, 0.9012, 0.6273,\n",
              "          0.3209, 0.6542],\n",
              "         [0.7411, 0.6670, 0.7396, 0.3289, 0.0091, 0.0082, 0.1941, 0.4917,\n",
              "          0.8047, 0.8002],\n",
              "         [0.1567, 0.3350, 0.6226, 0.0936, 0.8476, 0.6696, 0.1639, 0.3419,\n",
              "          0.4084, 0.2977],\n",
              "         [0.4117, 0.5899, 0.2572, 0.0607, 0.2286, 0.8659, 0.7430, 0.0467,\n",
              "          0.4556, 0.4786],\n",
              "         [0.1678, 0.8231, 0.7208, 0.2657, 0.5426, 0.0984, 0.7041, 0.5739,\n",
              "          0.8487, 0.3596],\n",
              "         [0.7520, 0.7652, 0.2817, 0.5178, 0.7924, 0.9097, 0.7153, 0.4937,\n",
              "          0.1266, 0.1124],\n",
              "         [0.9957, 0.9171, 0.5271, 0.4894, 0.2404, 0.5024, 0.7819, 0.9938,\n",
              "          0.2691, 0.4714],\n",
              "         [0.1886, 0.7408, 0.4688, 0.3572, 0.2255, 0.0394, 0.7934, 0.1772,\n",
              "          0.8835, 0.7865]],\n",
              "\n",
              "        [[0.7029, 0.6256, 0.9465, 0.6022, 0.7432, 0.4416, 0.1588, 0.0931,\n",
              "          0.3041, 0.9138],\n",
              "         [0.4831, 0.4620, 0.1129, 0.8129, 0.4772, 0.6764, 0.4384, 0.2810,\n",
              "          0.5086, 0.2451],\n",
              "         [0.7132, 0.9671, 0.4023, 0.8298, 0.5078, 0.3455, 0.3692, 0.6858,\n",
              "          0.8072, 0.6645],\n",
              "         [0.6247, 0.9215, 0.2711, 0.7754, 0.8254, 0.5962, 0.6667, 0.6188,\n",
              "          0.5369, 0.1760],\n",
              "         [0.5018, 0.7087, 0.0833, 0.9304, 0.0261, 0.6901, 0.4202, 0.2868,\n",
              "          0.1008, 0.0795],\n",
              "         [0.2991, 0.0485, 0.0594, 0.7940, 0.7939, 0.6736, 0.2252, 0.6865,\n",
              "          0.4832, 0.8927],\n",
              "         [0.8643, 0.6788, 0.4070, 0.4883, 0.3732, 0.3292, 0.5781, 0.3695,\n",
              "          0.7946, 0.0399],\n",
              "         [0.4683, 0.2668, 0.5331, 0.6907, 0.5702, 0.2074, 0.1122, 0.4846,\n",
              "          0.1399, 0.0691],\n",
              "         [0.6366, 0.5318, 0.5114, 0.5403, 0.9369, 0.1208, 0.6776, 0.0774,\n",
              "          0.7394, 0.6056],\n",
              "         [0.2533, 0.5648, 0.4780, 0.8806, 0.4708, 0.9839, 0.4947, 0.5545,\n",
              "          0.5363, 0.9528]],\n",
              "\n",
              "        [[0.3969, 0.7653, 0.9381, 0.0965, 0.0903, 0.9837, 0.6680, 0.8854,\n",
              "          0.1139, 0.4779],\n",
              "         [0.4937, 0.0557, 0.3435, 0.8234, 0.2847, 0.0360, 0.8608, 0.1668,\n",
              "          0.7313, 0.4585],\n",
              "         [0.6819, 0.9153, 0.6853, 0.6883, 0.1787, 0.8492, 0.0130, 0.0190,\n",
              "          0.6110, 0.7865],\n",
              "         [0.8393, 0.2532, 0.0387, 0.9807, 0.5161, 0.0058, 0.8197, 0.0546,\n",
              "          0.2456, 0.5665],\n",
              "         [0.1336, 0.7011, 0.9216, 0.8167, 0.7412, 0.7184, 0.7593, 0.0099,\n",
              "          0.4182, 0.5524],\n",
              "         [0.7762, 0.5884, 0.4618, 0.1178, 0.8797, 0.7174, 0.5989, 0.6609,\n",
              "          0.7764, 0.1586],\n",
              "         [0.1583, 0.8648, 0.0180, 0.0496, 0.5597, 0.6602, 0.3104, 0.5104,\n",
              "          0.8027, 0.8053],\n",
              "         [0.4430, 0.2272, 0.5274, 0.6078, 0.7988, 0.5386, 0.2769, 0.4084,\n",
              "          0.1867, 0.2733],\n",
              "         [0.7110, 0.5521, 0.5426, 0.5898, 0.1263, 0.1660, 0.7221, 0.9477,\n",
              "          0.9118, 0.5835],\n",
              "         [0.2234, 0.6163, 0.7770, 0.0920, 0.5080, 0.6818, 0.7500, 0.9000,\n",
              "          0.2813, 0.6945]],\n",
              "\n",
              "        [[0.9309, 0.6772, 0.7537, 0.2167, 0.4054, 0.8093, 0.2926, 0.8241,\n",
              "          0.0624, 0.9560],\n",
              "         [0.1731, 0.9966, 0.6999, 0.8037, 0.4686, 0.2969, 0.4850, 0.0922,\n",
              "          0.3448, 0.7574],\n",
              "         [0.4227, 0.5867, 0.0195, 0.2539, 0.6351, 0.7921, 0.5840, 0.2144,\n",
              "          0.7452, 0.5980],\n",
              "         [0.8254, 0.7184, 0.9802, 0.2323, 0.5979, 0.0090, 0.8100, 0.8311,\n",
              "          0.7562, 0.1677],\n",
              "         [0.8815, 0.5033, 0.2301, 0.4682, 0.2982, 0.8210, 0.1639, 0.0916,\n",
              "          0.1381, 0.9820],\n",
              "         [0.9884, 0.3153, 0.4961, 0.3715, 0.2341, 0.3985, 0.5025, 0.2370,\n",
              "          0.8121, 0.6685],\n",
              "         [0.1662, 0.1351, 0.4753, 0.1617, 0.5722, 0.7670, 0.0401, 0.0599,\n",
              "          0.2280, 0.3933],\n",
              "         [0.4616, 0.5923, 0.4323, 0.4165, 0.1225, 0.1942, 0.0358, 0.9367,\n",
              "          0.3186, 0.1964],\n",
              "         [0.6942, 0.5982, 0.6604, 0.9906, 0.8007, 0.6198, 0.5242, 0.7775,\n",
              "          0.9507, 0.6118],\n",
              "         [0.1594, 0.6236, 0.2535, 0.5520, 0.8916, 0.4856, 0.6197, 0.8937,\n",
              "          0.6682, 0.0136]]])"
            ]
          },
          "metadata": {},
          "execution_count": 22
        }
      ]
    },
    {
      "cell_type": "code",
      "source": [
        "random_tensor.ndim"
      ],
      "metadata": {
        "colab": {
          "base_uri": "https://localhost:8080/"
        },
        "id": "-RxQZRQXDZT3",
        "outputId": "27a26b60-d0cd-44ce-bfb1-1b1faa9f51d5"
      },
      "execution_count": 23,
      "outputs": [
        {
          "output_type": "execute_result",
          "data": {
            "text/plain": [
              "3"
            ]
          },
          "metadata": {},
          "execution_count": 23
        }
      ]
    },
    {
      "cell_type": "code",
      "source": [
        "#create a random tensor with similar shape to an image tensor\n",
        "random_image_size_tensor = torch.rand(size=(3,224,224))#height,width,color channel\n",
        "random_image_size_tensor.shape, random_image_size_tensor.ndim"
      ],
      "metadata": {
        "colab": {
          "base_uri": "https://localhost:8080/"
        },
        "id": "2lE6FB17DpMe",
        "outputId": "d3133432-dc44-4c99-bd35-1abb7e302c85"
      },
      "execution_count": 24,
      "outputs": [
        {
          "output_type": "execute_result",
          "data": {
            "text/plain": [
              "(torch.Size([3, 224, 224]), 3)"
            ]
          },
          "metadata": {},
          "execution_count": 24
        }
      ]
    },
    {
      "cell_type": "code",
      "source": [
        "torch.rand(3,3)"
      ],
      "metadata": {
        "colab": {
          "base_uri": "https://localhost:8080/"
        },
        "id": "RcRkAqzqHZIe",
        "outputId": "92dd00b5-5ccb-4726-8cd9-3eaa819e1dab"
      },
      "execution_count": 25,
      "outputs": [
        {
          "output_type": "execute_result",
          "data": {
            "text/plain": [
              "tensor([[0.7130, 0.0458, 0.3744],\n",
              "        [0.6605, 0.5968, 0.1474],\n",
              "        [0.3199, 0.9975, 0.5423]])"
            ]
          },
          "metadata": {},
          "execution_count": 25
        }
      ]
    },
    {
      "cell_type": "code",
      "source": [
        "#zeros and ones\n",
        "zero = torch.zeros(size=(3,4))\n",
        "zero"
      ],
      "metadata": {
        "colab": {
          "base_uri": "https://localhost:8080/"
        },
        "id": "iSZZDYqWIVsz",
        "outputId": "6857e9cd-886d-4a00-9262-8aa19b216cff"
      },
      "execution_count": 26,
      "outputs": [
        {
          "output_type": "execute_result",
          "data": {
            "text/plain": [
              "tensor([[0., 0., 0., 0.],\n",
              "        [0., 0., 0., 0.],\n",
              "        [0., 0., 0., 0.]])"
            ]
          },
          "metadata": {},
          "execution_count": 26
        }
      ]
    },
    {
      "cell_type": "code",
      "source": [
        "#create a tensor of all ones\n",
        "ones = torch.ones(size=(3,4))\n",
        "ones"
      ],
      "metadata": {
        "colab": {
          "base_uri": "https://localhost:8080/"
        },
        "id": "uZNjgqG0IrqQ",
        "outputId": "09760a80-dd00-49c8-e75c-675b38f38568"
      },
      "execution_count": 27,
      "outputs": [
        {
          "output_type": "execute_result",
          "data": {
            "text/plain": [
              "tensor([[1., 1., 1., 1.],\n",
              "        [1., 1., 1., 1.],\n",
              "        [1., 1., 1., 1.]])"
            ]
          },
          "metadata": {},
          "execution_count": 27
        }
      ]
    },
    {
      "cell_type": "code",
      "source": [
        "#use torch.range()\n",
        "one_to_ten = torch.arange(1,11)\n",
        "one_to_ten"
      ],
      "metadata": {
        "colab": {
          "base_uri": "https://localhost:8080/"
        },
        "id": "pbHnsIQFI3N9",
        "outputId": "6cd8aeed-d899-4778-f80f-30ef497c48c5"
      },
      "execution_count": 28,
      "outputs": [
        {
          "output_type": "execute_result",
          "data": {
            "text/plain": [
              "tensor([ 1,  2,  3,  4,  5,  6,  7,  8,  9, 10])"
            ]
          },
          "metadata": {},
          "execution_count": 28
        }
      ]
    },
    {
      "cell_type": "code",
      "source": [
        "one_to_ten = torch.arange(start=1, end=11, step=1)\n",
        "one_to_ten"
      ],
      "metadata": {
        "colab": {
          "base_uri": "https://localhost:8080/"
        },
        "id": "40k8u2g-JdPJ",
        "outputId": "e8e9adb1-d515-477a-8e4b-9528985c56b8"
      },
      "execution_count": 29,
      "outputs": [
        {
          "output_type": "execute_result",
          "data": {
            "text/plain": [
              "tensor([ 1,  2,  3,  4,  5,  6,  7,  8,  9, 10])"
            ]
          },
          "metadata": {},
          "execution_count": 29
        }
      ]
    },
    {
      "cell_type": "code",
      "source": [
        "one_to_ten.shape"
      ],
      "metadata": {
        "id": "q-tCvr99Jsld",
        "outputId": "5a0239ce-4434-48b0-f81f-879e990a643f",
        "colab": {
          "base_uri": "https://localhost:8080/"
        }
      },
      "execution_count": 30,
      "outputs": [
        {
          "output_type": "execute_result",
          "data": {
            "text/plain": [
              "torch.Size([10])"
            ]
          },
          "metadata": {},
          "execution_count": 30
        }
      ]
    },
    {
      "cell_type": "code",
      "source": [
        "ten_zero = torch.zeros_like(input=one_to_ten)\n",
        "ten_zero"
      ],
      "metadata": {
        "id": "c3cUuCvlJv0p",
        "outputId": "47c1ed08-2ca1-4c10-cc6c-9410e696e4b0",
        "colab": {
          "base_uri": "https://localhost:8080/"
        }
      },
      "execution_count": 31,
      "outputs": [
        {
          "output_type": "execute_result",
          "data": {
            "text/plain": [
              "tensor([0, 0, 0, 0, 0, 0, 0, 0, 0, 0])"
            ]
          },
          "metadata": {},
          "execution_count": 31
        }
      ]
    },
    {
      "cell_type": "markdown",
      "source": [
        "Tensor Datatype\n",
        "\n",
        "**Note:** Tensor datatype is one of the 3 big errors you'll run into with PyTorch & deep learning:\n",
        "\n",
        "1. Tensors not right datatype\n",
        "\n",
        "2.Tensor not right shape"
      ],
      "metadata": {
        "id": "EmxeZbwijYMV"
      }
    },
    {
      "cell_type": "code",
      "source": [
        "#float 32 tensor\n",
        "float_32_tensor = torch.tensor([3.0,6.0,9.0],\n",
        "                               dtype=None,\n",
        "                               device=None,\n",
        "                               requires_grad=False)\n",
        "float_32_tensor"
      ],
      "metadata": {
        "id": "SIUx2GVLjUdQ",
        "outputId": "bea30a41-6f51-416d-a208-2ed86ea912e7",
        "colab": {
          "base_uri": "https://localhost:8080/"
        }
      },
      "execution_count": 32,
      "outputs": [
        {
          "output_type": "execute_result",
          "data": {
            "text/plain": [
              "tensor([3., 6., 9.])"
            ]
          },
          "metadata": {},
          "execution_count": 32
        }
      ]
    },
    {
      "cell_type": "code",
      "source": [
        "tensor = torch.tensor( [1.0, 2.0, 3.0],dtype=torch.float32)\n",
        "print(tensor)\n"
      ],
      "metadata": {
        "id": "Ek7hBuaZm4_z",
        "colab": {
          "base_uri": "https://localhost:8080/"
        },
        "outputId": "2e0cd5ee-afe0-4a46-d24e-c79d760e9e04"
      },
      "execution_count": 33,
      "outputs": [
        {
          "output_type": "stream",
          "name": "stdout",
          "text": [
            "tensor([1., 2., 3.])\n"
          ]
        }
      ]
    },
    {
      "cell_type": "code",
      "source": [
        "float_16_tensor = float_32_tensor.type(torch.float16)\n",
        "float_16_tensor"
      ],
      "metadata": {
        "colab": {
          "base_uri": "https://localhost:8080/"
        },
        "id": "y9kmAs3Powjl",
        "outputId": "572566ab-6575-4eb1-dd3a-532a876fee8d"
      },
      "execution_count": 34,
      "outputs": [
        {
          "output_type": "execute_result",
          "data": {
            "text/plain": [
              "tensor([3., 6., 9.], dtype=torch.float16)"
            ]
          },
          "metadata": {},
          "execution_count": 34
        }
      ]
    },
    {
      "cell_type": "code",
      "source": [
        "float_16_tensor = float_32_tensor"
      ],
      "metadata": {
        "id": "w0wRNfWtrHE_"
      },
      "execution_count": 35,
      "outputs": []
    },
    {
      "cell_type": "code",
      "source": [
        "int_32_tensor = torch.tensor([3,6,9], dtype=torch.int32)\n",
        "int_32_tensor"
      ],
      "metadata": {
        "colab": {
          "base_uri": "https://localhost:8080/"
        },
        "id": "DgLLHRpfruKF",
        "outputId": "85b63a39-1090-4a6c-958b-6d07ff47c6cc"
      },
      "execution_count": 36,
      "outputs": [
        {
          "output_type": "execute_result",
          "data": {
            "text/plain": [
              "tensor([3, 6, 9], dtype=torch.int32)"
            ]
          },
          "metadata": {},
          "execution_count": 36
        }
      ]
    },
    {
      "cell_type": "code",
      "source": [
        "float_32_tensor * int_32_tensor"
      ],
      "metadata": {
        "colab": {
          "base_uri": "https://localhost:8080/"
        },
        "id": "iG6gO6Q5LWSx",
        "outputId": "10d52d5c-804b-4a0c-a7d6-61320d0d8a07"
      },
      "execution_count": 37,
      "outputs": [
        {
          "output_type": "execute_result",
          "data": {
            "text/plain": [
              "tensor([ 9., 36., 81.])"
            ]
          },
          "metadata": {},
          "execution_count": 37
        }
      ]
    },
    {
      "cell_type": "code",
      "source": [
        "#create a tensor\n",
        "some_tensor = torch.rand(3,4)\n",
        "some_tensor"
      ],
      "metadata": {
        "colab": {
          "base_uri": "https://localhost:8080/"
        },
        "id": "IYOKBoAkMBha",
        "outputId": "b180835c-226d-4dc3-a036-700922797324"
      },
      "execution_count": 38,
      "outputs": [
        {
          "output_type": "execute_result",
          "data": {
            "text/plain": [
              "tensor([[0.4702, 0.8670, 0.0875, 0.2174],\n",
              "        [0.2478, 0.3346, 0.8402, 0.7249],\n",
              "        [0.8263, 0.6474, 0.5180, 0.6691]])"
            ]
          },
          "metadata": {},
          "execution_count": 38
        }
      ]
    },
    {
      "cell_type": "code",
      "source": [
        "#find out details about some tensor\n",
        "print(some_tensor)\n",
        "print(f\"Datatype of tensor: {some_tensor.dtype}\")\n",
        "print(f\"Shape of tensor: {some_tensor.shape}\")\n",
        "print(f\"Device tensor is on: {some_tensor.device}\")"
      ],
      "metadata": {
        "colab": {
          "base_uri": "https://localhost:8080/"
        },
        "id": "sjlygekbMXJy",
        "outputId": "4c0696b0-4546-49a7-b316-65d834ccae96"
      },
      "execution_count": 39,
      "outputs": [
        {
          "output_type": "stream",
          "name": "stdout",
          "text": [
            "tensor([[0.4702, 0.8670, 0.0875, 0.2174],\n",
            "        [0.2478, 0.3346, 0.8402, 0.7249],\n",
            "        [0.8263, 0.6474, 0.5180, 0.6691]])\n",
            "Datatype of tensor: torch.float32\n",
            "Shape of tensor: torch.Size([3, 4])\n",
            "Device tensor is on: cpu\n"
          ]
        }
      ]
    },
    {
      "cell_type": "markdown",
      "source": [
        "###manipulating Tensors ( tensor operation)\n",
        "\n",
        "Tensor operattion include:\n",
        "\n",
        "*Addition\n",
        "\n",
        "*Subtraction\n",
        "\n",
        "*Multiplication(element-wise)\n",
        "\n",
        "*division\n",
        "\n",
        "*Matrix Multiplication"
      ],
      "metadata": {
        "id": "2WeJXkaSNvx4"
      }
    },
    {
      "cell_type": "code",
      "source": [
        "#create a tensor and add 10 to it\n",
        "tensor = torch.tensor([1,2,3])\n",
        "tensor + 10"
      ],
      "metadata": {
        "colab": {
          "base_uri": "https://localhost:8080/"
        },
        "id": "qn5KQtOZMqCe",
        "outputId": "c4ede83b-89d4-4096-a5f6-d8db94ce120e"
      },
      "execution_count": 40,
      "outputs": [
        {
          "output_type": "execute_result",
          "data": {
            "text/plain": [
              "tensor([11, 12, 13])"
            ]
          },
          "metadata": {},
          "execution_count": 40
        }
      ]
    },
    {
      "cell_type": "code",
      "source": [
        "#multiply tensor by 10\n",
        "tensor * 10"
      ],
      "metadata": {
        "colab": {
          "base_uri": "https://localhost:8080/"
        },
        "id": "CJznQMdMORMM",
        "outputId": "5fc5bbd1-1423-4c38-efaf-50095ffadf70"
      },
      "execution_count": 41,
      "outputs": [
        {
          "output_type": "execute_result",
          "data": {
            "text/plain": [
              "tensor([10, 20, 30])"
            ]
          },
          "metadata": {},
          "execution_count": 41
        }
      ]
    },
    {
      "cell_type": "code",
      "source": [
        "tensor"
      ],
      "metadata": {
        "colab": {
          "base_uri": "https://localhost:8080/"
        },
        "id": "SmWqezXAP8g-",
        "outputId": "0b192ef7-b75a-48a2-a490-ed557304d853"
      },
      "execution_count": 42,
      "outputs": [
        {
          "output_type": "execute_result",
          "data": {
            "text/plain": [
              "tensor([1, 2, 3])"
            ]
          },
          "metadata": {},
          "execution_count": 42
        }
      ]
    },
    {
      "cell_type": "code",
      "source": [
        "#subtract\n",
        "tensor - 10"
      ],
      "metadata": {
        "colab": {
          "base_uri": "https://localhost:8080/"
        },
        "id": "MWwFTpF-P_XY",
        "outputId": "3c408d00-e769-4e80-eacc-192cd2486adb"
      },
      "execution_count": 43,
      "outputs": [
        {
          "output_type": "execute_result",
          "data": {
            "text/plain": [
              "tensor([-9, -8, -7])"
            ]
          },
          "metadata": {},
          "execution_count": 43
        }
      ]
    },
    {
      "cell_type": "code",
      "source": [
        "#divide\n",
        "tensor/10"
      ],
      "metadata": {
        "colab": {
          "base_uri": "https://localhost:8080/"
        },
        "id": "HHU7DVjOQE2Z",
        "outputId": "c3c05c4b-2611-4a03-c35f-6cf78722df9b"
      },
      "execution_count": 44,
      "outputs": [
        {
          "output_type": "execute_result",
          "data": {
            "text/plain": [
              "tensor([0.1000, 0.2000, 0.3000])"
            ]
          },
          "metadata": {},
          "execution_count": 44
        }
      ]
    },
    {
      "cell_type": "code",
      "source": [
        "torch.mul(tensor,10)"
      ],
      "metadata": {
        "colab": {
          "base_uri": "https://localhost:8080/"
        },
        "id": "QSiCdWgwQJjq",
        "outputId": "3fe0ba5e-e889-4c4b-a577-afd124173de0"
      },
      "execution_count": 45,
      "outputs": [
        {
          "output_type": "execute_result",
          "data": {
            "text/plain": [
              "tensor([10, 20, 30])"
            ]
          },
          "metadata": {},
          "execution_count": 45
        }
      ]
    },
    {
      "cell_type": "code",
      "source": [
        "torch.add(tensor,10)"
      ],
      "metadata": {
        "colab": {
          "base_uri": "https://localhost:8080/"
        },
        "id": "vRH20ZpNRHqo",
        "outputId": "c34e19b8-1954-4711-8d75-3c15e910c995"
      },
      "execution_count": 46,
      "outputs": [
        {
          "output_type": "execute_result",
          "data": {
            "text/plain": [
              "tensor([11, 12, 13])"
            ]
          },
          "metadata": {},
          "execution_count": 46
        }
      ]
    },
    {
      "cell_type": "markdown",
      "source": [
        "Matrix multiplication\n",
        "\n",
        "Two main ways of performing multiplication in neural networks and deep learning:\n",
        "\n",
        "1.Element-wise multiplication\n",
        "\n",
        "2.Matrix multiplication(dot product)\n",
        "\n",
        "There are two main rules that performing matrix multiplication\n",
        "\n",
        "1. The **inner dimensions** must match:\n",
        "\n",
        " *(3,2) @ (3,2) won't work\n",
        "\n",
        " *(2,3) @ (3,2) will work\n",
        "\n",
        " *(3,2) @ (2,3) will work\n",
        "\n",
        "\n",
        "2.The resulting matrix has the shape of the **outer dimension**:\n",
        "\n",
        "*(2,3) @ (3,2) -> (2,2)\n",
        "\n",
        "*(3,2) 2 (2,3) -. (3,3)\n",
        "\n",
        "\n"
      ],
      "metadata": {
        "id": "15eaC_8jZp3z"
      }
    },
    {
      "cell_type": "code",
      "source": [
        "torch.matmul(torch.rand(10,10),torch.rand(10,10))"
      ],
      "metadata": {
        "colab": {
          "base_uri": "https://localhost:8080/"
        },
        "id": "XHyspsAnh5Ak",
        "outputId": "a77ad0b3-32db-41c5-a157-fbc3c4147bac"
      },
      "execution_count": 47,
      "outputs": [
        {
          "output_type": "execute_result",
          "data": {
            "text/plain": [
              "tensor([[3.5068, 2.7284, 2.6800, 2.8900, 1.7730, 2.8895, 1.8123, 2.3243, 3.3925,\n",
              "         2.3846],\n",
              "        [3.9753, 3.1727, 3.6944, 2.6370, 2.6409, 2.4890, 3.0180, 3.1480, 3.3680,\n",
              "         2.5556],\n",
              "        [2.4227, 1.7819, 1.9868, 2.1461, 1.8479, 2.1084, 1.5868, 2.4559, 2.5330,\n",
              "         1.8871],\n",
              "        [4.0679, 3.3723, 3.1829, 3.7680, 2.4176, 3.4378, 3.0212, 3.2790, 3.7938,\n",
              "         3.0330],\n",
              "        [4.1250, 3.5350, 3.2588, 2.6448, 2.1805, 2.8809, 2.9406, 3.3694, 3.8970,\n",
              "         2.9490],\n",
              "        [2.2650, 1.8027, 1.7307, 1.9250, 1.9161, 1.3248, 1.5769, 2.0405, 2.0955,\n",
              "         1.6695],\n",
              "        [2.7306, 2.0607, 2.5819, 2.4908, 2.3184, 1.7813, 1.7340, 2.3961, 2.4320,\n",
              "         1.7506],\n",
              "        [2.3991, 2.1345, 2.1822, 1.8859, 2.1072, 1.8394, 1.4141, 2.3809, 2.4397,\n",
              "         1.4326],\n",
              "        [2.9878, 2.1075, 1.8369, 2.0741, 1.5525, 1.9425, 2.1026, 2.1749, 2.7218,\n",
              "         1.9017],\n",
              "        [1.8135, 1.2105, 1.2388, 1.0259, 0.9750, 0.8517, 1.1385, 0.9162, 1.3426,\n",
              "         0.9459]])"
            ]
          },
          "metadata": {},
          "execution_count": 47
        }
      ]
    },
    {
      "cell_type": "code",
      "source": [
        "#Elementwise multiplication\n",
        "print(tensor,\"*\",tensor)\n",
        "print(f\"Equals:{tensor * tensor}\")\n"
      ],
      "metadata": {
        "colab": {
          "base_uri": "https://localhost:8080/"
        },
        "id": "QHc3IlZeRPoG",
        "outputId": "41872505-09c1-49fe-ea65-ef27c9d82405"
      },
      "execution_count": 48,
      "outputs": [
        {
          "output_type": "stream",
          "name": "stdout",
          "text": [
            "tensor([1, 2, 3]) * tensor([1, 2, 3])\n",
            "Equals:tensor([1, 4, 9])\n"
          ]
        }
      ]
    },
    {
      "cell_type": "code",
      "source": [
        "#matrix multiplication\n",
        "torch.matmul(tensor,tensor)"
      ],
      "metadata": {
        "colab": {
          "base_uri": "https://localhost:8080/"
        },
        "id": "POZrRMykacyp",
        "outputId": "e563d964-319f-436d-c079-6ed6482208fb"
      },
      "execution_count": 49,
      "outputs": [
        {
          "output_type": "execute_result",
          "data": {
            "text/plain": [
              "tensor(14)"
            ]
          },
          "metadata": {},
          "execution_count": 49
        }
      ]
    },
    {
      "cell_type": "code",
      "source": [
        "#matrix multiplication by hand\n",
        "1*1 + 2*2 + 3*3"
      ],
      "metadata": {
        "colab": {
          "base_uri": "https://localhost:8080/"
        },
        "id": "X6yJYNZMdsH5",
        "outputId": "ec48b243-ec35-4260-add4-34a23adb34dc"
      },
      "execution_count": 50,
      "outputs": [
        {
          "output_type": "execute_result",
          "data": {
            "text/plain": [
              "14"
            ]
          },
          "metadata": {},
          "execution_count": 50
        }
      ]
    },
    {
      "cell_type": "code",
      "source": [
        "%%time\n",
        "value = 0\n",
        "for i in range(len(tensor)):\n",
        "  value += tensor[i] * tensor[i]\n",
        "  print(value)\n",
        "\n"
      ],
      "metadata": {
        "colab": {
          "base_uri": "https://localhost:8080/"
        },
        "id": "KrKzgN0ae8-Y",
        "outputId": "969999a9-1351-4965-c4ac-524fab68c1de"
      },
      "execution_count": 51,
      "outputs": [
        {
          "output_type": "stream",
          "name": "stdout",
          "text": [
            "tensor(1)\n",
            "tensor(5)\n",
            "tensor(14)\n",
            "CPU times: user 1.28 ms, sys: 0 ns, total: 1.28 ms\n",
            "Wall time: 3.05 ms\n"
          ]
        }
      ]
    },
    {
      "cell_type": "code",
      "source": [
        "tensor @ tensor"
      ],
      "metadata": {
        "colab": {
          "base_uri": "https://localhost:8080/"
        },
        "id": "9C1aDJn0gtbp",
        "outputId": "9750b178-6f9f-4d88-d0f3-6f4099925405"
      },
      "execution_count": 52,
      "outputs": [
        {
          "output_type": "execute_result",
          "data": {
            "text/plain": [
              "tensor(14)"
            ]
          },
          "metadata": {},
          "execution_count": 52
        }
      ]
    },
    {
      "cell_type": "code",
      "source": [
        "%%time\n",
        "torch.matmul(tensor,tensor)"
      ],
      "metadata": {
        "colab": {
          "base_uri": "https://localhost:8080/"
        },
        "id": "lx3KAmazfaxP",
        "outputId": "4fbf6fcc-e52a-420c-f555-268bbf21b905"
      },
      "execution_count": 53,
      "outputs": [
        {
          "output_type": "stream",
          "name": "stdout",
          "text": [
            "CPU times: user 39 µs, sys: 7 µs, total: 46 µs\n",
            "Wall time: 49.8 µs\n"
          ]
        },
        {
          "output_type": "execute_result",
          "data": {
            "text/plain": [
              "tensor(14)"
            ]
          },
          "metadata": {},
          "execution_count": 53
        }
      ]
    },
    {
      "cell_type": "markdown",
      "source": [
        "### one of the most common errors in deep learning: shape errors"
      ],
      "metadata": {
        "id": "CKVSRRlxgFX5"
      }
    },
    {
      "cell_type": "code",
      "source": [
        " #Shape for matrix multiplication\n",
        "tensor_A = torch.tensor([[1, 2],\n",
        "                         [3, 4],\n",
        "                         [5, 6]])\n",
        "tensor_B = torch.tensor([[7, 10],\n",
        "                         [8, 11],\n",
        "                         [9, 12]])\n",
        "\n",
        "\n",
        "#torch.mm(tensor_A,tensor_B) #torch.mm is the same as torch.matmul (it's an alias for writing less code)\n",
        "torch.matmul(tensor_A, tensor_B.T)\n"
      ],
      "metadata": {
        "colab": {
          "base_uri": "https://localhost:8080/"
        },
        "id": "ehnumnLNftEC",
        "outputId": "aa40bd3f-b08c-426a-f86d-f7f261e37876"
      },
      "execution_count": 60,
      "outputs": [
        {
          "output_type": "execute_result",
          "data": {
            "text/plain": [
              "tensor([[ 27,  30,  33],\n",
              "        [ 61,  68,  75],\n",
              "        [ 95, 106, 117]])"
            ]
          },
          "metadata": {},
          "execution_count": 60
        }
      ]
    },
    {
      "cell_type": "code",
      "source": [
        "tensor_A.shape, tensor_B.shape"
      ],
      "metadata": {
        "id": "R8P8pkSiCWp_",
        "outputId": "25245eef-8415-4a05-e132-cf5559dde3aa",
        "colab": {
          "base_uri": "https://localhost:8080/"
        }
      },
      "execution_count": 61,
      "outputs": [
        {
          "output_type": "execute_result",
          "data": {
            "text/plain": [
              "(torch.Size([3, 2]), torch.Size([3, 2]))"
            ]
          },
          "metadata": {},
          "execution_count": 61
        }
      ]
    },
    {
      "cell_type": "markdown",
      "source": [
        "To fix our tensor shape issues, we can manipulate the shape of one of our tensors using a **transpose**.\n",
        "\n",
        "A **transpose** switches the axes or dimensions of a given tensor tensor"
      ],
      "metadata": {
        "id": "t2VnFdGFC3qf"
      }
    },
    {
      "cell_type": "code",
      "source": [
        "tensor_B,tensor_B.shape"
      ],
      "metadata": {
        "id": "sCtMDn2LCtaY",
        "outputId": "da857b9d-3521-429f-dc08-d73d2d7187d4",
        "colab": {
          "base_uri": "https://localhost:8080/"
        }
      },
      "execution_count": 62,
      "outputs": [
        {
          "output_type": "execute_result",
          "data": {
            "text/plain": [
              "(tensor([[ 7, 10],\n",
              "         [ 8, 11],\n",
              "         [ 9, 12]]),\n",
              " torch.Size([3, 2]))"
            ]
          },
          "metadata": {},
          "execution_count": 62
        }
      ]
    },
    {
      "cell_type": "code",
      "source": [
        "tensor_B.T, tensor_B.T.shape"
      ],
      "metadata": {
        "id": "nkOUlHm5D3yV",
        "outputId": "9b5587b1-bbb9-4a10-ad50-cd2f92e172fa",
        "colab": {
          "base_uri": "https://localhost:8080/"
        }
      },
      "execution_count": 65,
      "outputs": [
        {
          "output_type": "execute_result",
          "data": {
            "text/plain": [
              "(tensor([[ 7,  8,  9],\n",
              "         [10, 11, 12]]),\n",
              " torch.Size([2, 3]))"
            ]
          },
          "metadata": {},
          "execution_count": 65
        }
      ]
    },
    {
      "cell_type": "code",
      "source": [],
      "metadata": {
        "id": "4yOhfn5yD_6r"
      },
      "execution_count": null,
      "outputs": []
    }
  ]
}