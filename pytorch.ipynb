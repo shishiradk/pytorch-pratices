{
  "nbformat": 4,
  "nbformat_minor": 0,
  "metadata": {
    "colab": {
      "provenance": [],
      "gpuType": "T4",
      "authorship_tag": "ABX9TyP3WtLSlbu7iB56SFtOJJxQ",
      "include_colab_link": true
    },
    "kernelspec": {
      "name": "python3",
      "display_name": "Python 3"
    },
    "language_info": {
      "name": "python"
    },
    "accelerator": "GPU"
  },
  "cells": [
    {
      "cell_type": "markdown",
      "metadata": {
        "id": "view-in-github",
        "colab_type": "text"
      },
      "source": [
        "<a href=\"https://colab.research.google.com/github/shishiradk/pytorch-pratices/blob/main/pytorch.ipynb\" target=\"_parent\"><img src=\"https://colab.research.google.com/assets/colab-badge.svg\" alt=\"Open In Colab\"/></a>"
      ]
    },
    {
      "cell_type": "code",
      "execution_count": 1,
      "metadata": {
        "colab": {
          "base_uri": "https://localhost:8080/"
        },
        "id": "Ipxmmm-BuHoq",
        "outputId": "7ec4bd09-f4c0-4fec-f90b-383ead1f5c6f"
      },
      "outputs": [
        {
          "output_type": "stream",
          "name": "stdout",
          "text": [
            "/bin/bash: line 1: nvidia-smi: command not found\n"
          ]
        }
      ],
      "source": [
        "!nvidia-smi\n"
      ]
    },
    {
      "cell_type": "code",
      "source": [
        "import numpy as np\n",
        "import pandas as pd\n",
        "import matplotlib.pyplot as plt\n",
        "import torch\n",
        "print(torch.__version__)"
      ],
      "metadata": {
        "colab": {
          "base_uri": "https://localhost:8080/"
        },
        "id": "eZa8yggluhDq",
        "outputId": "56958c3c-b581-42d9-f171-1b8d2255642e"
      },
      "execution_count": 2,
      "outputs": [
        {
          "output_type": "stream",
          "name": "stdout",
          "text": [
            "2.8.0+cu126\n"
          ]
        }
      ]
    },
    {
      "cell_type": "markdown",
      "source": [
        "introduction to tensors\n",
        "creating tensor"
      ],
      "metadata": {
        "id": "0T04eZk0w0gf"
      }
    },
    {
      "cell_type": "markdown",
      "source": [],
      "metadata": {
        "id": "BRYigiaOw3Fh"
      }
    },
    {
      "cell_type": "code",
      "source": [
        "#scalar\n",
        "scalar = torch.tensor(7)\n",
        "scalar\n"
      ],
      "metadata": {
        "colab": {
          "base_uri": "https://localhost:8080/"
        },
        "id": "E78psR9bwJyK",
        "outputId": "4252d3c9-7276-425a-eb40-f30de0326357"
      },
      "execution_count": 3,
      "outputs": [
        {
          "output_type": "execute_result",
          "data": {
            "text/plain": [
              "tensor(7)"
            ]
          },
          "metadata": {},
          "execution_count": 3
        }
      ]
    },
    {
      "cell_type": "code",
      "source": [
        "scalar.ndim"
      ],
      "metadata": {
        "colab": {
          "base_uri": "https://localhost:8080/"
        },
        "id": "IqIfhYWywrSG",
        "outputId": "b2049338-69fc-47f0-ba96-0d1eb627b8ad"
      },
      "execution_count": 4,
      "outputs": [
        {
          "output_type": "execute_result",
          "data": {
            "text/plain": [
              "0"
            ]
          },
          "metadata": {},
          "execution_count": 4
        }
      ]
    },
    {
      "cell_type": "code",
      "source": [
        "#get tensor back as python int\n",
        "scalar.item()"
      ],
      "metadata": {
        "colab": {
          "base_uri": "https://localhost:8080/"
        },
        "id": "g57NNznbyB6a",
        "outputId": "c1f48dc8-e73a-4430-d1df-03f62dd9bed0"
      },
      "execution_count": 5,
      "outputs": [
        {
          "output_type": "execute_result",
          "data": {
            "text/plain": [
              "7"
            ]
          },
          "metadata": {},
          "execution_count": 5
        }
      ]
    },
    {
      "cell_type": "code",
      "source": [
        "#vector\n",
        "vector = torch.tensor([7,7])\n",
        "vector"
      ],
      "metadata": {
        "colab": {
          "base_uri": "https://localhost:8080/"
        },
        "id": "am4C3NNzyOLN",
        "outputId": "89366185-279b-4bb6-e094-d2e13b34c53d"
      },
      "execution_count": 6,
      "outputs": [
        {
          "output_type": "execute_result",
          "data": {
            "text/plain": [
              "tensor([7, 7])"
            ]
          },
          "metadata": {},
          "execution_count": 6
        }
      ]
    },
    {
      "cell_type": "code",
      "source": [
        "vector.ndim"
      ],
      "metadata": {
        "colab": {
          "base_uri": "https://localhost:8080/"
        },
        "id": "UG3w44iRyh9b",
        "outputId": "b386d4f8-1272-4e31-f055-a894cac5a855"
      },
      "execution_count": 7,
      "outputs": [
        {
          "output_type": "execute_result",
          "data": {
            "text/plain": [
              "1"
            ]
          },
          "metadata": {},
          "execution_count": 7
        }
      ]
    },
    {
      "cell_type": "code",
      "source": [
        "vector.shape"
      ],
      "metadata": {
        "colab": {
          "base_uri": "https://localhost:8080/"
        },
        "id": "T4ieiQRyymB1",
        "outputId": "d47f7a23-4189-4667-b12c-8f6179763f2c"
      },
      "execution_count": 8,
      "outputs": [
        {
          "output_type": "execute_result",
          "data": {
            "text/plain": [
              "torch.Size([2])"
            ]
          },
          "metadata": {},
          "execution_count": 8
        }
      ]
    },
    {
      "cell_type": "code",
      "source": [
        "#matrix\n",
        "MATRIX = torch.tensor([[7,8],\n",
        "                      [9,10]])\n",
        "MATRIX\n"
      ],
      "metadata": {
        "colab": {
          "base_uri": "https://localhost:8080/"
        },
        "id": "wexINEwqyolb",
        "outputId": "087901c4-d77f-4116-b86b-878df5a3c125"
      },
      "execution_count": 9,
      "outputs": [
        {
          "output_type": "execute_result",
          "data": {
            "text/plain": [
              "tensor([[ 7,  8],\n",
              "        [ 9, 10]])"
            ]
          },
          "metadata": {},
          "execution_count": 9
        }
      ]
    },
    {
      "cell_type": "code",
      "source": [
        "MATRIX.ndim"
      ],
      "metadata": {
        "colab": {
          "base_uri": "https://localhost:8080/"
        },
        "id": "Xm7PGAG1zEBZ",
        "outputId": "fa6ebfa3-7d34-4189-8c6c-00f9a20615db"
      },
      "execution_count": 10,
      "outputs": [
        {
          "output_type": "execute_result",
          "data": {
            "text/plain": [
              "2"
            ]
          },
          "metadata": {},
          "execution_count": 10
        }
      ]
    },
    {
      "cell_type": "code",
      "source": [
        "MATRIX[1]"
      ],
      "metadata": {
        "colab": {
          "base_uri": "https://localhost:8080/"
        },
        "id": "EvoOzPJdzIgd",
        "outputId": "4222a27c-0c37-4129-d679-dea561714a87"
      },
      "execution_count": 11,
      "outputs": [
        {
          "output_type": "execute_result",
          "data": {
            "text/plain": [
              "tensor([ 9, 10])"
            ]
          },
          "metadata": {},
          "execution_count": 11
        }
      ]
    },
    {
      "cell_type": "code",
      "source": [
        "MATRIX.shape"
      ],
      "metadata": {
        "colab": {
          "base_uri": "https://localhost:8080/"
        },
        "id": "6eSRxHX2zOS4",
        "outputId": "5a760d59-d7ee-43e9-d479-5ac9f23a5699"
      },
      "execution_count": 12,
      "outputs": [
        {
          "output_type": "execute_result",
          "data": {
            "text/plain": [
              "torch.Size([2, 2])"
            ]
          },
          "metadata": {},
          "execution_count": 12
        }
      ]
    },
    {
      "cell_type": "code",
      "source": [
        "#TENSOR\n",
        "TENSOR = torch.tensor([[[1,2,4],\n",
        "                         [2,3,4],\n",
        "                         [4,5,6]]])"
      ],
      "metadata": {
        "id": "8950TfPczRPv"
      },
      "execution_count": 13,
      "outputs": []
    },
    {
      "cell_type": "code",
      "source": [
        "TENSOR"
      ],
      "metadata": {
        "colab": {
          "base_uri": "https://localhost:8080/"
        },
        "id": "SJ2MSdj7zqLW",
        "outputId": "c247a46f-b7d5-41e6-df39-22b97a3ad7c1"
      },
      "execution_count": 14,
      "outputs": [
        {
          "output_type": "execute_result",
          "data": {
            "text/plain": [
              "tensor([[[1, 2, 4],\n",
              "         [2, 3, 4],\n",
              "         [4, 5, 6]]])"
            ]
          },
          "metadata": {},
          "execution_count": 14
        }
      ]
    },
    {
      "cell_type": "code",
      "source": [
        "TENSOR.ndim"
      ],
      "metadata": {
        "colab": {
          "base_uri": "https://localhost:8080/"
        },
        "id": "LUFlW-blztOy",
        "outputId": "206242b7-73df-4a06-b1f5-a0f2759680d3"
      },
      "execution_count": 15,
      "outputs": [
        {
          "output_type": "execute_result",
          "data": {
            "text/plain": [
              "3"
            ]
          },
          "metadata": {},
          "execution_count": 15
        }
      ]
    },
    {
      "cell_type": "code",
      "source": [
        "TENSOR.shape"
      ],
      "metadata": {
        "colab": {
          "base_uri": "https://localhost:8080/"
        },
        "id": "NOi9qPb9zvmF",
        "outputId": "45b622b1-faf2-4852-e4bb-3d69621ad373"
      },
      "execution_count": 16,
      "outputs": [
        {
          "output_type": "execute_result",
          "data": {
            "text/plain": [
              "torch.Size([1, 3, 3])"
            ]
          },
          "metadata": {},
          "execution_count": 16
        }
      ]
    },
    {
      "cell_type": "code",
      "source": [
        "TENSOR[0]"
      ],
      "metadata": {
        "colab": {
          "base_uri": "https://localhost:8080/"
        },
        "id": "6eeTCFwtzyJi",
        "outputId": "ca491e91-fc4e-4f42-825d-f728b08d3b67"
      },
      "execution_count": 17,
      "outputs": [
        {
          "output_type": "execute_result",
          "data": {
            "text/plain": [
              "tensor([[1, 2, 4],\n",
              "        [2, 3, 4],\n",
              "        [4, 5, 6]])"
            ]
          },
          "metadata": {},
          "execution_count": 17
        }
      ]
    },
    {
      "cell_type": "code",
      "source": [
        "TENSOR = torch.tensor([[[6,7,8],\n",
        "                        [5,6,7],\n",
        "                        [4,5,6]]])\n",
        "TENSOR"
      ],
      "metadata": {
        "colab": {
          "base_uri": "https://localhost:8080/"
        },
        "id": "ET2lqt--z0gu",
        "outputId": "3dec9a74-b574-43e2-e051-1e7ed40092a7"
      },
      "execution_count": 18,
      "outputs": [
        {
          "output_type": "execute_result",
          "data": {
            "text/plain": [
              "tensor([[[6, 7, 8],\n",
              "         [5, 6, 7],\n",
              "         [4, 5, 6]]])"
            ]
          },
          "metadata": {},
          "execution_count": 18
        }
      ]
    },
    {
      "cell_type": "code",
      "source": [
        "TENSOR.ndim"
      ],
      "metadata": {
        "colab": {
          "base_uri": "https://localhost:8080/"
        },
        "id": "CsuKrOcMz27a",
        "outputId": "224fd071-43f1-4ba4-f27d-1a6da906ad2e"
      },
      "execution_count": 19,
      "outputs": [
        {
          "output_type": "execute_result",
          "data": {
            "text/plain": [
              "3"
            ]
          },
          "metadata": {},
          "execution_count": 19
        }
      ]
    },
    {
      "cell_type": "code",
      "source": [
        "TENSOR.shape"
      ],
      "metadata": {
        "colab": {
          "base_uri": "https://localhost:8080/"
        },
        "id": "B0LmokBZ_UwJ",
        "outputId": "ce5eed5a-429f-4525-d935-8ff2da9a0dd4"
      },
      "execution_count": 20,
      "outputs": [
        {
          "output_type": "execute_result",
          "data": {
            "text/plain": [
              "torch.Size([1, 3, 3])"
            ]
          },
          "metadata": {},
          "execution_count": 20
        }
      ]
    },
    {
      "cell_type": "code",
      "source": [
        "TENSOR[0]"
      ],
      "metadata": {
        "colab": {
          "base_uri": "https://localhost:8080/"
        },
        "id": "xUU7BC75_YAa",
        "outputId": "7c0968f4-1038-492b-8f17-74b40fe7731e"
      },
      "execution_count": 21,
      "outputs": [
        {
          "output_type": "execute_result",
          "data": {
            "text/plain": [
              "tensor([[6, 7, 8],\n",
              "        [5, 6, 7],\n",
              "        [4, 5, 6]])"
            ]
          },
          "metadata": {},
          "execution_count": 21
        }
      ]
    },
    {
      "cell_type": "code",
      "source": [
        "#create a random tensor of size (3,4)\n",
        "random_tensor = torch.rand(10,10,10)\n",
        "random_tensor"
      ],
      "metadata": {
        "colab": {
          "base_uri": "https://localhost:8080/"
        },
        "id": "gTsFrcdZ_coi",
        "outputId": "45f5d4bf-d0d4-47b7-f4c4-7a2c35fe82c2"
      },
      "execution_count": 22,
      "outputs": [
        {
          "output_type": "execute_result",
          "data": {
            "text/plain": [
              "tensor([[[4.7011e-01, 5.3593e-01, 9.3039e-01, 7.2686e-01, 4.0752e-01,\n",
              "          6.5142e-01, 9.5931e-01, 3.2450e-01, 1.4385e-02, 4.3156e-01],\n",
              "         [9.7054e-01, 1.8735e-01, 3.5871e-01, 4.4309e-02, 4.0323e-02,\n",
              "          2.3135e-02, 6.5444e-01, 5.8188e-02, 7.2437e-01, 1.9983e-02],\n",
              "         [2.5120e-01, 7.7458e-01, 9.4429e-01, 8.9097e-01, 3.0619e-04,\n",
              "          1.2602e-01, 5.0874e-01, 6.0174e-01, 2.7260e-01, 6.6434e-01],\n",
              "         [1.1878e-01, 5.2984e-01, 4.5872e-01, 9.8955e-01, 6.4302e-01,\n",
              "          2.2113e-02, 1.4452e-01, 2.6476e-01, 7.2617e-01, 2.3201e-01],\n",
              "         [1.1396e-01, 5.4717e-01, 3.8308e-01, 9.3495e-01, 3.5039e-01,\n",
              "          4.8131e-01, 6.8451e-01, 6.4101e-01, 7.6974e-01, 8.3972e-01],\n",
              "         [5.2951e-01, 2.0053e-01, 2.5073e-01, 9.6713e-01, 9.6580e-01,\n",
              "          4.2858e-02, 3.9810e-02, 4.3698e-01, 3.4154e-02, 8.6281e-01],\n",
              "         [3.1258e-01, 6.0273e-01, 5.4388e-01, 9.3740e-01, 6.2055e-01,\n",
              "          8.1643e-01, 6.9511e-01, 5.2517e-01, 3.9427e-01, 4.5171e-01],\n",
              "         [9.8697e-01, 8.9270e-02, 4.3773e-01, 5.1380e-01, 9.4175e-01,\n",
              "          3.2335e-01, 5.5903e-01, 5.1341e-01, 4.8998e-02, 4.9153e-01],\n",
              "         [9.9646e-01, 3.4264e-01, 5.3458e-01, 2.7289e-01, 2.5006e-01,\n",
              "          7.2207e-01, 6.0579e-01, 4.4970e-01, 7.7115e-01, 1.9175e-01],\n",
              "         [8.9051e-01, 4.5352e-01, 3.4537e-01, 5.8755e-01, 4.1149e-01,\n",
              "          1.6573e-01, 7.8632e-01, 4.1557e-02, 7.9206e-01, 7.8337e-02]],\n",
              "\n",
              "        [[8.8443e-01, 2.2391e-01, 1.6137e-01, 5.6869e-01, 7.4316e-01,\n",
              "          9.5396e-01, 5.4265e-01, 7.8698e-02, 5.7698e-01, 9.0960e-03],\n",
              "         [9.1540e-02, 7.8696e-01, 9.0201e-01, 5.1530e-01, 8.5712e-01,\n",
              "          2.8003e-01, 4.1622e-01, 4.5981e-01, 3.6048e-01, 5.7748e-01],\n",
              "         [2.5936e-01, 9.3029e-01, 9.2170e-01, 5.5277e-01, 8.4604e-01,\n",
              "          4.5891e-01, 1.5030e-01, 6.4699e-01, 9.3523e-01, 1.6616e-02],\n",
              "         [4.4646e-01, 5.2674e-01, 2.4699e-01, 7.7227e-01, 5.2919e-02,\n",
              "          8.3833e-02, 1.0930e-01, 4.8579e-01, 4.6862e-01, 4.0649e-01],\n",
              "         [9.9103e-01, 6.7063e-01, 4.6949e-01, 2.6475e-01, 2.1668e-01,\n",
              "          8.0635e-02, 1.3509e-01, 2.1835e-01, 4.1820e-01, 9.3415e-01],\n",
              "         [2.5562e-01, 5.6563e-02, 3.6237e-01, 1.0953e-01, 1.7882e-01,\n",
              "          3.7658e-04, 7.9927e-01, 5.6690e-01, 7.3092e-01, 7.5297e-01],\n",
              "         [8.7649e-01, 7.3483e-01, 7.8563e-01, 9.5175e-01, 2.7333e-01,\n",
              "          5.5771e-01, 9.0717e-01, 2.8666e-01, 6.4330e-01, 5.2604e-01],\n",
              "         [4.1050e-01, 8.2279e-01, 3.3002e-01, 6.1686e-01, 2.2286e-04,\n",
              "          7.9940e-01, 4.7733e-01, 2.6922e-01, 8.9204e-01, 7.6100e-01],\n",
              "         [3.6819e-01, 9.0228e-01, 2.9033e-01, 6.4356e-01, 1.3346e-01,\n",
              "          9.5845e-01, 7.9399e-01, 3.0881e-01, 6.1879e-01, 4.4741e-01],\n",
              "         [8.2141e-01, 8.2860e-01, 3.9800e-01, 9.2296e-01, 1.1975e-01,\n",
              "          2.0083e-02, 8.6286e-01, 4.2536e-02, 9.4442e-01, 1.6630e-01]],\n",
              "\n",
              "        [[6.0447e-01, 8.0353e-01, 2.9081e-02, 2.9150e-01, 7.5962e-01,\n",
              "          7.8309e-01, 1.8813e-01, 3.0784e-01, 3.9098e-01, 7.9623e-01],\n",
              "         [5.7091e-01, 8.3178e-01, 2.6720e-01, 1.5031e-01, 9.7455e-01,\n",
              "          8.1348e-01, 2.3477e-01, 4.6218e-01, 6.9109e-01, 4.9447e-01],\n",
              "         [7.9780e-01, 1.5965e-01, 6.5959e-01, 1.3976e-01, 8.6417e-01,\n",
              "          3.2858e-02, 7.4057e-01, 6.6777e-01, 1.6973e-01, 4.6779e-01],\n",
              "         [3.7108e-01, 6.4206e-01, 1.4842e-01, 3.6314e-01, 6.0015e-01,\n",
              "          5.0580e-01, 5.9886e-01, 4.8191e-01, 8.3285e-01, 4.2523e-01],\n",
              "         [5.2661e-01, 1.5850e-01, 8.4920e-01, 8.3943e-01, 8.2288e-01,\n",
              "          4.2770e-01, 7.4990e-01, 5.6284e-01, 6.0764e-01, 8.9049e-02],\n",
              "         [4.2587e-01, 4.8486e-01, 1.9718e-02, 5.8377e-01, 3.2592e-01,\n",
              "          1.0344e-01, 5.1109e-01, 2.5139e-01, 6.6408e-01, 8.4363e-01],\n",
              "         [9.8353e-02, 7.5953e-01, 3.8834e-01, 7.9248e-01, 5.1066e-02,\n",
              "          2.8075e-01, 2.8861e-01, 4.8267e-01, 1.0552e-01, 2.4448e-02],\n",
              "         [7.5504e-01, 7.3301e-01, 9.8520e-01, 5.4524e-01, 3.7307e-01,\n",
              "          5.6272e-01, 1.9576e-01, 3.3319e-01, 4.5146e-01, 2.6440e-01],\n",
              "         [5.1625e-01, 9.1719e-01, 3.5977e-03, 9.5961e-01, 5.4387e-01,\n",
              "          2.9092e-01, 1.5122e-01, 2.2638e-01, 1.0777e-01, 1.2941e-01],\n",
              "         [4.3094e-01, 1.5596e-01, 7.8820e-01, 5.6858e-01, 9.2653e-01,\n",
              "          4.0720e-01, 1.3840e-01, 3.4708e-01, 9.0363e-01, 2.4865e-01]],\n",
              "\n",
              "        [[7.2216e-01, 4.5185e-01, 8.9350e-01, 1.3532e-01, 8.1631e-01,\n",
              "          6.7833e-01, 2.2989e-01, 9.2744e-01, 6.6386e-01, 6.1037e-01],\n",
              "         [1.0560e-01, 7.3197e-01, 2.3193e-01, 9.5028e-01, 3.1082e-01,\n",
              "          3.7503e-01, 7.8085e-01, 1.5592e-01, 7.2629e-01, 6.6277e-01],\n",
              "         [8.0119e-01, 1.6294e-01, 7.9912e-01, 9.5032e-01, 8.9010e-01,\n",
              "          3.4024e-01, 8.0669e-01, 5.1984e-01, 1.3987e-01, 3.8104e-01],\n",
              "         [7.0661e-01, 9.2211e-01, 5.6480e-01, 6.6277e-01, 6.8765e-01,\n",
              "          6.0039e-01, 5.1507e-01, 7.4724e-01, 8.6320e-01, 3.1912e-01],\n",
              "         [1.8225e-01, 3.4822e-01, 5.3131e-01, 7.4536e-01, 7.4223e-01,\n",
              "          2.5458e-01, 8.4043e-01, 5.3996e-02, 5.6548e-01, 7.2249e-01],\n",
              "         [2.7359e-01, 3.7070e-01, 9.1838e-01, 5.3681e-01, 1.7087e-01,\n",
              "          3.4437e-01, 1.2017e-01, 5.1453e-01, 4.2612e-01, 6.4461e-01],\n",
              "         [1.8097e-01, 6.4771e-01, 1.6105e-01, 7.3271e-01, 6.2833e-01,\n",
              "          6.0378e-02, 5.9781e-01, 3.5137e-01, 3.0699e-01, 4.0892e-01],\n",
              "         [8.3572e-01, 2.5324e-01, 1.0133e-01, 3.6081e-01, 8.7671e-01,\n",
              "          4.7123e-01, 7.2337e-01, 7.9869e-01, 5.8954e-02, 6.8075e-01],\n",
              "         [7.2711e-01, 9.5213e-02, 3.2483e-01, 2.1861e-01, 6.0080e-01,\n",
              "          9.5416e-01, 1.1350e-01, 7.4008e-02, 2.0733e-01, 5.3349e-01],\n",
              "         [6.9016e-01, 2.3565e-01, 1.0844e-01, 1.9153e-01, 2.9497e-01,\n",
              "          4.5329e-01, 5.2708e-01, 6.5272e-01, 9.2093e-01, 7.7891e-01]],\n",
              "\n",
              "        [[9.5930e-02, 3.7393e-01, 3.0087e-01, 9.6403e-01, 4.8647e-01,\n",
              "          1.9577e-02, 4.4719e-01, 2.5747e-01, 1.5605e-01, 4.7427e-03],\n",
              "         [2.5519e-01, 9.9206e-01, 5.4766e-01, 4.0032e-02, 8.5615e-01,\n",
              "          8.7081e-01, 6.9922e-01, 6.8274e-01, 8.7161e-01, 8.1133e-02],\n",
              "         [7.1413e-01, 2.8912e-01, 3.3820e-01, 8.7169e-01, 4.6767e-01,\n",
              "          9.5162e-01, 9.0045e-02, 7.4671e-01, 3.4355e-01, 8.8665e-01],\n",
              "         [6.1214e-02, 8.5809e-01, 4.3357e-01, 5.6941e-01, 9.0279e-01,\n",
              "          4.3429e-01, 7.4898e-02, 4.1136e-01, 4.6080e-01, 8.8588e-01],\n",
              "         [4.0413e-01, 9.7821e-01, 2.2339e-01, 6.4532e-01, 3.2821e-01,\n",
              "          2.9409e-01, 5.0617e-01, 5.0305e-02, 6.7692e-01, 4.0590e-01],\n",
              "         [6.9008e-01, 4.6565e-01, 2.9713e-01, 2.3608e-01, 9.5654e-01,\n",
              "          4.5140e-01, 9.7443e-01, 7.0362e-01, 5.9995e-01, 2.9838e-02],\n",
              "         [8.1252e-01, 2.3257e-01, 6.0206e-01, 8.7091e-02, 4.9606e-01,\n",
              "          3.8736e-01, 5.4301e-01, 2.1325e-01, 7.9857e-01, 7.4479e-01],\n",
              "         [1.5431e-01, 5.9255e-01, 1.7338e-01, 4.1666e-01, 2.3635e-01,\n",
              "          5.7982e-01, 6.0796e-01, 2.6437e-01, 2.4623e-01, 4.3731e-01],\n",
              "         [6.3447e-01, 9.1392e-01, 3.2595e-01, 7.6018e-02, 9.8943e-01,\n",
              "          2.2897e-01, 3.6887e-01, 8.2055e-01, 9.5692e-01, 4.4146e-01],\n",
              "         [3.4897e-02, 3.7117e-01, 7.2092e-01, 9.1825e-01, 2.1826e-01,\n",
              "          6.9916e-01, 3.7892e-01, 6.4824e-01, 6.3444e-01, 9.7496e-01]],\n",
              "\n",
              "        [[9.0010e-01, 9.5983e-01, 6.2837e-01, 8.8736e-02, 2.0656e-01,\n",
              "          1.7695e-01, 1.0169e-01, 6.8413e-01, 5.0867e-01, 5.3883e-01],\n",
              "         [2.1202e-01, 5.7083e-01, 5.8742e-01, 7.8114e-02, 3.1770e-01,\n",
              "          5.8588e-01, 7.1799e-01, 2.2290e-01, 2.4939e-01, 1.7215e-01],\n",
              "         [8.4223e-01, 2.3248e-01, 3.9128e-01, 3.3443e-01, 5.7004e-01,\n",
              "          2.5193e-01, 7.7108e-01, 2.8066e-01, 3.1737e-01, 3.7273e-01],\n",
              "         [4.6269e-01, 2.8584e-01, 5.9716e-01, 5.9041e-01, 4.9445e-01,\n",
              "          4.6842e-01, 5.3540e-01, 7.1677e-01, 5.1758e-01, 8.2660e-01],\n",
              "         [1.3326e-01, 8.5233e-01, 3.6555e-01, 6.0363e-01, 2.7390e-01,\n",
              "          5.3669e-01, 3.9592e-02, 4.8400e-02, 1.7702e-01, 6.3239e-01],\n",
              "         [7.2687e-01, 2.9353e-01, 9.7405e-01, 1.5162e-01, 9.1197e-01,\n",
              "          1.3138e-01, 4.8756e-01, 4.2610e-01, 3.8454e-01, 5.8144e-01],\n",
              "         [3.7246e-01, 3.2584e-02, 2.0204e-01, 2.0339e-01, 4.0631e-01,\n",
              "          4.4480e-01, 6.0681e-01, 7.4881e-01, 6.9050e-01, 2.3152e-01],\n",
              "         [6.3191e-01, 1.4364e-01, 3.6337e-01, 1.9319e-01, 6.6356e-02,\n",
              "          5.7890e-01, 8.5455e-01, 3.1789e-01, 5.2579e-01, 3.1037e-01],\n",
              "         [6.9956e-01, 4.1265e-01, 1.3000e-01, 1.5854e-01, 7.4213e-01,\n",
              "          1.5996e-01, 8.0710e-01, 3.6094e-01, 7.6303e-01, 1.6702e-01],\n",
              "         [3.9772e-02, 2.4942e-01, 8.5304e-01, 7.3913e-01, 2.0828e-01,\n",
              "          9.0777e-01, 3.6995e-01, 2.1913e-01, 1.0692e-01, 2.4840e-01]],\n",
              "\n",
              "        [[5.9657e-01, 7.3610e-01, 5.9200e-01, 7.6013e-01, 7.6672e-01,\n",
              "          4.7249e-02, 3.5047e-01, 1.4104e-01, 1.9428e-02, 2.8496e-01],\n",
              "         [6.5739e-02, 4.3167e-01, 7.7688e-01, 3.5733e-01, 7.8676e-01,\n",
              "          2.3003e-02, 7.6461e-01, 6.9064e-01, 1.0809e-01, 3.1059e-01],\n",
              "         [6.5989e-01, 1.1156e-01, 5.2490e-01, 7.5779e-01, 9.5930e-02,\n",
              "          3.7744e-01, 7.5060e-01, 9.1394e-01, 1.2532e-01, 5.2688e-01],\n",
              "         [1.1462e-01, 6.9863e-01, 4.7233e-01, 2.7762e-01, 5.2206e-01,\n",
              "          6.7884e-01, 8.9164e-01, 7.0357e-01, 4.3882e-01, 3.9995e-01],\n",
              "         [4.8539e-01, 8.5761e-01, 2.1914e-02, 5.8186e-01, 4.2488e-01,\n",
              "          7.9432e-02, 5.9825e-01, 7.4020e-01, 6.2011e-01, 6.1411e-01],\n",
              "         [9.0722e-01, 8.8284e-01, 4.3222e-01, 5.3648e-01, 4.0818e-01,\n",
              "          2.6334e-02, 9.4240e-01, 7.4272e-01, 5.2803e-01, 9.7012e-01],\n",
              "         [8.0497e-01, 7.0430e-02, 6.9045e-01, 8.7656e-01, 5.1330e-01,\n",
              "          7.3105e-01, 9.1936e-02, 8.6760e-03, 6.7391e-01, 7.2786e-01],\n",
              "         [1.7721e-01, 5.6638e-01, 1.1219e-01, 9.1984e-01, 4.7713e-01,\n",
              "          9.9917e-01, 3.9460e-01, 8.1697e-02, 5.7655e-01, 9.1170e-01],\n",
              "         [7.4155e-01, 2.8137e-01, 6.5466e-01, 4.5630e-01, 9.6215e-01,\n",
              "          4.5895e-01, 9.6878e-01, 1.2796e-01, 9.3514e-01, 5.5063e-02],\n",
              "         [2.5443e-01, 5.9504e-01, 8.4613e-01, 1.1240e-01, 2.6862e-01,\n",
              "          3.1873e-01, 2.6145e-02, 3.5981e-01, 5.6658e-01, 2.0509e-01]],\n",
              "\n",
              "        [[8.6600e-02, 4.3883e-01, 2.2813e-01, 6.1477e-01, 2.9410e-01,\n",
              "          5.6247e-02, 6.8180e-01, 1.9107e-01, 1.2058e-01, 3.8090e-01],\n",
              "         [6.3131e-01, 2.6936e-01, 4.6930e-01, 5.6587e-01, 9.1525e-01,\n",
              "          9.9671e-01, 9.5822e-01, 1.7481e-01, 9.4691e-01, 5.9851e-01],\n",
              "         [2.6947e-01, 7.1470e-01, 2.3691e-01, 7.5598e-01, 2.8054e-01,\n",
              "          4.0447e-01, 5.6697e-01, 6.3380e-01, 7.4851e-01, 7.9592e-01],\n",
              "         [2.5081e-01, 3.3232e-01, 5.4973e-01, 7.3298e-01, 2.9253e-01,\n",
              "          4.5789e-01, 2.3985e-01, 7.1685e-01, 7.9324e-01, 4.3591e-01],\n",
              "         [6.9830e-01, 8.7903e-01, 9.4071e-01, 1.3760e-01, 8.4124e-01,\n",
              "          6.0409e-01, 1.2586e-01, 8.4123e-01, 9.5650e-01, 3.7807e-01],\n",
              "         [8.7376e-01, 5.7942e-01, 2.0612e-01, 2.9398e-01, 7.4126e-01,\n",
              "          6.9726e-01, 7.5318e-01, 9.1181e-01, 1.4654e-01, 3.7893e-01],\n",
              "         [8.3141e-01, 1.2516e-01, 1.8513e-01, 7.9701e-01, 1.1846e-01,\n",
              "          8.9309e-01, 7.9855e-01, 5.4534e-02, 8.8203e-01, 3.8329e-01],\n",
              "         [5.7975e-01, 2.2590e-01, 4.8198e-01, 5.7533e-01, 8.4962e-02,\n",
              "          7.7893e-02, 6.5189e-01, 4.8195e-01, 5.3984e-01, 8.2921e-01],\n",
              "         [7.8389e-01, 2.8108e-01, 3.8546e-02, 4.0979e-01, 1.4099e-01,\n",
              "          1.6538e-01, 5.9355e-01, 7.5485e-01, 9.7540e-01, 8.8813e-01],\n",
              "         [4.9398e-01, 9.2109e-01, 8.3872e-01, 1.1827e-02, 3.0183e-01,\n",
              "          7.9332e-01, 4.1815e-01, 4.9901e-01, 4.8833e-01, 3.7397e-01]],\n",
              "\n",
              "        [[1.6784e-01, 6.8293e-01, 5.5896e-01, 8.4028e-01, 9.2544e-01,\n",
              "          7.2632e-01, 7.4261e-01, 8.4821e-01, 5.0473e-01, 1.4654e-01],\n",
              "         [2.2221e-01, 7.5540e-01, 7.7474e-01, 2.5004e-01, 2.2418e-01,\n",
              "          6.0046e-01, 3.0151e-01, 7.9108e-01, 3.2360e-01, 7.0381e-01],\n",
              "         [3.6572e-01, 8.5781e-01, 8.6342e-01, 5.0316e-01, 4.6170e-01,\n",
              "          4.3873e-01, 6.1743e-01, 6.6193e-01, 2.6901e-01, 3.0100e-01],\n",
              "         [3.5542e-01, 3.1388e-01, 3.5356e-01, 3.1535e-01, 6.7518e-01,\n",
              "          8.1488e-01, 5.9600e-01, 1.0102e-01, 5.1187e-01, 1.6133e-01],\n",
              "         [7.1009e-01, 6.9972e-01, 9.9490e-03, 3.2524e-02, 8.1988e-01,\n",
              "          2.9454e-01, 8.6065e-01, 9.9080e-01, 9.8443e-01, 3.7598e-01],\n",
              "         [9.7315e-01, 8.7705e-01, 7.9862e-01, 9.0880e-01, 3.3686e-01,\n",
              "          3.6730e-01, 1.6897e-01, 5.1075e-01, 9.4820e-01, 6.8308e-01],\n",
              "         [1.8676e-02, 9.9710e-01, 6.6910e-01, 1.7586e-01, 4.9188e-01,\n",
              "          6.9452e-01, 8.9076e-01, 3.1914e-01, 6.9696e-01, 3.5434e-01],\n",
              "         [9.1742e-01, 6.0611e-01, 7.7424e-02, 4.0039e-01, 9.9323e-01,\n",
              "          2.3288e-01, 6.6235e-02, 3.8859e-01, 2.9660e-01, 5.7359e-01],\n",
              "         [6.9975e-01, 6.1126e-01, 9.7240e-01, 7.8543e-01, 1.1612e-02,\n",
              "          5.9556e-01, 4.5716e-01, 1.8526e-01, 7.5424e-01, 2.7215e-01],\n",
              "         [4.6905e-01, 6.0691e-01, 8.6895e-01, 2.8575e-01, 2.3031e-02,\n",
              "          5.5127e-01, 9.4341e-02, 4.5752e-01, 7.0648e-02, 4.0973e-01]],\n",
              "\n",
              "        [[3.4500e-01, 8.9340e-01, 2.4508e-01, 2.4875e-01, 2.8501e-01,\n",
              "          6.4056e-01, 1.1558e-01, 8.5976e-01, 6.4152e-01, 4.7736e-02],\n",
              "         [4.9732e-02, 9.0942e-01, 4.8575e-01, 4.6938e-01, 8.8212e-01,\n",
              "          7.6685e-01, 2.1208e-01, 8.0125e-01, 7.7471e-01, 2.5940e-01],\n",
              "         [4.0482e-01, 9.6222e-01, 5.7238e-01, 8.9215e-01, 3.3064e-01,\n",
              "          9.8642e-01, 4.0992e-01, 6.5082e-01, 5.1052e-01, 4.3575e-01],\n",
              "         [7.5170e-01, 4.0217e-01, 4.0898e-01, 2.3535e-01, 2.3300e-01,\n",
              "          8.3624e-01, 8.3361e-01, 6.6207e-01, 3.3895e-01, 2.5773e-01],\n",
              "         [6.0564e-01, 5.4228e-01, 8.4489e-02, 2.4406e-01, 6.6864e-01,\n",
              "          2.4304e-01, 5.2156e-01, 2.1743e-01, 4.1124e-02, 3.6261e-01],\n",
              "         [6.5894e-01, 7.8417e-01, 4.7986e-01, 2.2497e-01, 4.9654e-01,\n",
              "          1.7863e-01, 7.9200e-01, 9.3156e-01, 1.1686e-01, 9.0262e-01],\n",
              "         [6.6542e-01, 7.4513e-01, 3.9317e-01, 9.9457e-01, 5.9357e-01,\n",
              "          7.1338e-01, 4.5250e-01, 1.3698e-01, 3.5004e-01, 2.0711e-01],\n",
              "         [8.2148e-01, 8.8295e-01, 8.4397e-01, 5.4687e-01, 4.5768e-01,\n",
              "          2.5360e-01, 2.5893e-01, 9.9990e-01, 9.9938e-02, 5.6607e-01],\n",
              "         [1.9573e-01, 1.6696e-01, 2.4817e-02, 1.7026e-01, 9.3739e-01,\n",
              "          2.0779e-01, 1.0327e-02, 1.8734e-01, 2.5767e-01, 2.1108e-01],\n",
              "         [5.9748e-02, 9.1622e-01, 8.5968e-01, 1.0725e-01, 5.5473e-02,\n",
              "          6.6802e-01, 8.4645e-01, 4.3626e-01, 6.1324e-01, 2.2716e-01]]])"
            ]
          },
          "metadata": {},
          "execution_count": 22
        }
      ]
    },
    {
      "cell_type": "code",
      "source": [
        "random_tensor.ndim"
      ],
      "metadata": {
        "colab": {
          "base_uri": "https://localhost:8080/"
        },
        "id": "-RxQZRQXDZT3",
        "outputId": "fe9caca6-2255-4fae-f90a-c40278332dee"
      },
      "execution_count": 23,
      "outputs": [
        {
          "output_type": "execute_result",
          "data": {
            "text/plain": [
              "3"
            ]
          },
          "metadata": {},
          "execution_count": 23
        }
      ]
    },
    {
      "cell_type": "code",
      "source": [
        "#create a random tensor with similar shape to an image tensor\n",
        "random_image_size_tensor = torch.rand(size=(3,224,224))#height,width,color channel\n",
        "random_image_size_tensor.shape, random_image_size_tensor.ndim"
      ],
      "metadata": {
        "colab": {
          "base_uri": "https://localhost:8080/"
        },
        "id": "2lE6FB17DpMe",
        "outputId": "bb62d927-4268-41ef-84c6-0612a0a20dbc"
      },
      "execution_count": 24,
      "outputs": [
        {
          "output_type": "execute_result",
          "data": {
            "text/plain": [
              "(torch.Size([3, 224, 224]), 3)"
            ]
          },
          "metadata": {},
          "execution_count": 24
        }
      ]
    },
    {
      "cell_type": "code",
      "source": [
        "torch.rand(3,3)"
      ],
      "metadata": {
        "colab": {
          "base_uri": "https://localhost:8080/"
        },
        "id": "RcRkAqzqHZIe",
        "outputId": "3bd236c4-8b0d-48e7-8997-f60e763693ee"
      },
      "execution_count": 25,
      "outputs": [
        {
          "output_type": "execute_result",
          "data": {
            "text/plain": [
              "tensor([[0.4751, 0.8431, 0.5373],\n",
              "        [0.2824, 0.9117, 0.1372],\n",
              "        [0.3561, 0.0734, 0.2897]])"
            ]
          },
          "metadata": {},
          "execution_count": 25
        }
      ]
    },
    {
      "cell_type": "code",
      "source": [
        "#zeros and ones\n",
        "zero = torch.zeros(size=(3,4))\n",
        "zero"
      ],
      "metadata": {
        "colab": {
          "base_uri": "https://localhost:8080/"
        },
        "id": "iSZZDYqWIVsz",
        "outputId": "4889beba-063f-4843-a994-b43cd31e93fe"
      },
      "execution_count": 26,
      "outputs": [
        {
          "output_type": "execute_result",
          "data": {
            "text/plain": [
              "tensor([[0., 0., 0., 0.],\n",
              "        [0., 0., 0., 0.],\n",
              "        [0., 0., 0., 0.]])"
            ]
          },
          "metadata": {},
          "execution_count": 26
        }
      ]
    },
    {
      "cell_type": "code",
      "source": [
        "#create a tensor of all ones\n",
        "ones = torch.ones(size=(3,4))\n",
        "ones"
      ],
      "metadata": {
        "colab": {
          "base_uri": "https://localhost:8080/"
        },
        "id": "uZNjgqG0IrqQ",
        "outputId": "2f62dffc-ef04-420e-9ad5-2c9a03440929"
      },
      "execution_count": 27,
      "outputs": [
        {
          "output_type": "execute_result",
          "data": {
            "text/plain": [
              "tensor([[1., 1., 1., 1.],\n",
              "        [1., 1., 1., 1.],\n",
              "        [1., 1., 1., 1.]])"
            ]
          },
          "metadata": {},
          "execution_count": 27
        }
      ]
    },
    {
      "cell_type": "code",
      "source": [
        "#use torch.range()\n",
        "one_to_ten = torch.arange(1,11)\n",
        "one_to_ten"
      ],
      "metadata": {
        "colab": {
          "base_uri": "https://localhost:8080/"
        },
        "id": "pbHnsIQFI3N9",
        "outputId": "1a96cbd6-bfb8-4c9f-9677-d59bcea3a7b7"
      },
      "execution_count": 28,
      "outputs": [
        {
          "output_type": "execute_result",
          "data": {
            "text/plain": [
              "tensor([ 1,  2,  3,  4,  5,  6,  7,  8,  9, 10])"
            ]
          },
          "metadata": {},
          "execution_count": 28
        }
      ]
    },
    {
      "cell_type": "code",
      "source": [
        "one_to_ten = torch.arange(start=1, end=11, step=1)\n",
        "one_to_ten"
      ],
      "metadata": {
        "colab": {
          "base_uri": "https://localhost:8080/"
        },
        "id": "40k8u2g-JdPJ",
        "outputId": "35fbd126-4f06-41cf-aa26-e31064a0dce1"
      },
      "execution_count": 29,
      "outputs": [
        {
          "output_type": "execute_result",
          "data": {
            "text/plain": [
              "tensor([ 1,  2,  3,  4,  5,  6,  7,  8,  9, 10])"
            ]
          },
          "metadata": {},
          "execution_count": 29
        }
      ]
    },
    {
      "cell_type": "code",
      "source": [
        "one_to_ten.shape"
      ],
      "metadata": {
        "id": "q-tCvr99Jsld",
        "outputId": "8ed27ed0-dfa9-4cda-b64d-9af0ad048876",
        "colab": {
          "base_uri": "https://localhost:8080/"
        }
      },
      "execution_count": 30,
      "outputs": [
        {
          "output_type": "execute_result",
          "data": {
            "text/plain": [
              "torch.Size([10])"
            ]
          },
          "metadata": {},
          "execution_count": 30
        }
      ]
    },
    {
      "cell_type": "code",
      "source": [
        "ten_zero = torch.zeros_like(input=one_to_ten)\n",
        "ten_zero"
      ],
      "metadata": {
        "id": "c3cUuCvlJv0p",
        "outputId": "f18a9c8b-857f-4434-8229-58f3baf49887",
        "colab": {
          "base_uri": "https://localhost:8080/"
        }
      },
      "execution_count": 31,
      "outputs": [
        {
          "output_type": "execute_result",
          "data": {
            "text/plain": [
              "tensor([0, 0, 0, 0, 0, 0, 0, 0, 0, 0])"
            ]
          },
          "metadata": {},
          "execution_count": 31
        }
      ]
    },
    {
      "cell_type": "markdown",
      "source": [
        "Tensor Datatype\n",
        "\n",
        "**Note:** Tensor datatype is one of the 3 big errors you'll run into with PyTorch & deep learning:\n",
        "\n",
        "1. Tensors not right datatype\n",
        "\n",
        "2.Tensor not right shape"
      ],
      "metadata": {
        "id": "EmxeZbwijYMV"
      }
    },
    {
      "cell_type": "code",
      "source": [
        "#float 32 tensor\n",
        "float_32_tensor = torch.tensor([3.0,6.0,9.0],\n",
        "                               dtype=None,\n",
        "                               device=None,\n",
        "                               requires_grad=False)\n",
        "float_32_tensor"
      ],
      "metadata": {
        "id": "SIUx2GVLjUdQ",
        "outputId": "96b480b9-9994-454b-daee-dfd6761fcb6b",
        "colab": {
          "base_uri": "https://localhost:8080/"
        }
      },
      "execution_count": 32,
      "outputs": [
        {
          "output_type": "execute_result",
          "data": {
            "text/plain": [
              "tensor([3., 6., 9.])"
            ]
          },
          "metadata": {},
          "execution_count": 32
        }
      ]
    },
    {
      "cell_type": "code",
      "source": [
        "tensor = torch.tensor( [1.0, 2.0, 3.0],dtype=torch.float32)\n",
        "print(tensor)\n"
      ],
      "metadata": {
        "id": "Ek7hBuaZm4_z",
        "colab": {
          "base_uri": "https://localhost:8080/"
        },
        "outputId": "97f34ed7-66be-4e30-f035-03875f9d98ab"
      },
      "execution_count": 33,
      "outputs": [
        {
          "output_type": "stream",
          "name": "stdout",
          "text": [
            "tensor([1., 2., 3.])\n"
          ]
        }
      ]
    },
    {
      "cell_type": "code",
      "source": [
        "float_16_tensor = float_32_tensor.type(torch.float16)\n",
        "float_16_tensor"
      ],
      "metadata": {
        "colab": {
          "base_uri": "https://localhost:8080/"
        },
        "id": "y9kmAs3Powjl",
        "outputId": "b0fca8a9-0778-49f4-c1b6-9874dc4cba66"
      },
      "execution_count": 34,
      "outputs": [
        {
          "output_type": "execute_result",
          "data": {
            "text/plain": [
              "tensor([3., 6., 9.], dtype=torch.float16)"
            ]
          },
          "metadata": {},
          "execution_count": 34
        }
      ]
    },
    {
      "cell_type": "code",
      "source": [
        "float_16_tensor = float_32_tensor"
      ],
      "metadata": {
        "id": "w0wRNfWtrHE_"
      },
      "execution_count": 35,
      "outputs": []
    },
    {
      "cell_type": "code",
      "source": [
        "int_32_tensor = torch.tensor([3,6,9], dtype=torch.int32)\n",
        "int_32_tensor"
      ],
      "metadata": {
        "colab": {
          "base_uri": "https://localhost:8080/"
        },
        "id": "DgLLHRpfruKF",
        "outputId": "989a46dc-6b94-4d88-c3cf-08c971c388c1"
      },
      "execution_count": 36,
      "outputs": [
        {
          "output_type": "execute_result",
          "data": {
            "text/plain": [
              "tensor([3, 6, 9], dtype=torch.int32)"
            ]
          },
          "metadata": {},
          "execution_count": 36
        }
      ]
    },
    {
      "cell_type": "code",
      "source": [
        "float_32_tensor * int_32_tensor"
      ],
      "metadata": {
        "colab": {
          "base_uri": "https://localhost:8080/"
        },
        "id": "iG6gO6Q5LWSx",
        "outputId": "800b7f71-8099-43d7-ded4-2f4cb1eb1049"
      },
      "execution_count": 37,
      "outputs": [
        {
          "output_type": "execute_result",
          "data": {
            "text/plain": [
              "tensor([ 9., 36., 81.])"
            ]
          },
          "metadata": {},
          "execution_count": 37
        }
      ]
    },
    {
      "cell_type": "code",
      "source": [
        "#create a tensor\n",
        "some_tensor = torch.rand(3,4)\n",
        "some_tensor"
      ],
      "metadata": {
        "colab": {
          "base_uri": "https://localhost:8080/"
        },
        "id": "IYOKBoAkMBha",
        "outputId": "d5bf04d1-cb2b-4b6c-d6fe-22b1ce35f0c9"
      },
      "execution_count": 38,
      "outputs": [
        {
          "output_type": "execute_result",
          "data": {
            "text/plain": [
              "tensor([[0.8648, 0.3368, 0.5101, 0.7034],\n",
              "        [0.6177, 0.2075, 0.1423, 0.4281],\n",
              "        [0.1709, 0.8483, 0.7124, 0.7042]])"
            ]
          },
          "metadata": {},
          "execution_count": 38
        }
      ]
    },
    {
      "cell_type": "code",
      "source": [
        "#find out details about some tensor\n",
        "print(some_tensor)\n",
        "print(f\"Datatype of tensor: {some_tensor.dtype}\")\n",
        "print(f\"Shape of tensor: {some_tensor.shape}\")\n",
        "print(f\"Device tensor is on: {some_tensor.device}\")"
      ],
      "metadata": {
        "colab": {
          "base_uri": "https://localhost:8080/"
        },
        "id": "sjlygekbMXJy",
        "outputId": "aeaa69e0-b0c8-4965-86e9-4fb9e2ee3fa5"
      },
      "execution_count": 39,
      "outputs": [
        {
          "output_type": "stream",
          "name": "stdout",
          "text": [
            "tensor([[0.8648, 0.3368, 0.5101, 0.7034],\n",
            "        [0.6177, 0.2075, 0.1423, 0.4281],\n",
            "        [0.1709, 0.8483, 0.7124, 0.7042]])\n",
            "Datatype of tensor: torch.float32\n",
            "Shape of tensor: torch.Size([3, 4])\n",
            "Device tensor is on: cpu\n"
          ]
        }
      ]
    },
    {
      "cell_type": "markdown",
      "source": [
        "###manipulating Tensors ( tensor operation)\n",
        "\n",
        "Tensor operattion include:\n",
        "\n",
        "*Addition\n",
        "\n",
        "*Subtraction\n",
        "\n",
        "*Multiplication(element-wise)\n",
        "\n",
        "*division\n",
        "\n",
        "*Matrix Multiplication"
      ],
      "metadata": {
        "id": "2WeJXkaSNvx4"
      }
    },
    {
      "cell_type": "code",
      "source": [
        "#create a tensor and add 10 to it\n",
        "tensor = torch.tensor([1,2,3])\n",
        "tensor + 10"
      ],
      "metadata": {
        "colab": {
          "base_uri": "https://localhost:8080/"
        },
        "id": "qn5KQtOZMqCe",
        "outputId": "ba0e83c3-49bc-413a-b395-6e39ea2db45d"
      },
      "execution_count": 40,
      "outputs": [
        {
          "output_type": "execute_result",
          "data": {
            "text/plain": [
              "tensor([11, 12, 13])"
            ]
          },
          "metadata": {},
          "execution_count": 40
        }
      ]
    },
    {
      "cell_type": "code",
      "source": [
        "#multiply tensor by 10\n",
        "tensor * 10"
      ],
      "metadata": {
        "colab": {
          "base_uri": "https://localhost:8080/"
        },
        "id": "CJznQMdMORMM",
        "outputId": "0312814f-99e2-4d7c-f9eb-d371b0cf3fa3"
      },
      "execution_count": 41,
      "outputs": [
        {
          "output_type": "execute_result",
          "data": {
            "text/plain": [
              "tensor([10, 20, 30])"
            ]
          },
          "metadata": {},
          "execution_count": 41
        }
      ]
    },
    {
      "cell_type": "code",
      "source": [
        "tensor"
      ],
      "metadata": {
        "colab": {
          "base_uri": "https://localhost:8080/"
        },
        "id": "SmWqezXAP8g-",
        "outputId": "304f0571-64d8-4cd9-c2e1-4ef3d4bf3e99"
      },
      "execution_count": 42,
      "outputs": [
        {
          "output_type": "execute_result",
          "data": {
            "text/plain": [
              "tensor([1, 2, 3])"
            ]
          },
          "metadata": {},
          "execution_count": 42
        }
      ]
    },
    {
      "cell_type": "code",
      "source": [
        "#subtract\n",
        "tensor - 10"
      ],
      "metadata": {
        "colab": {
          "base_uri": "https://localhost:8080/"
        },
        "id": "MWwFTpF-P_XY",
        "outputId": "7a7b9aeb-902c-413f-c9d9-701a43c41606"
      },
      "execution_count": 43,
      "outputs": [
        {
          "output_type": "execute_result",
          "data": {
            "text/plain": [
              "tensor([-9, -8, -7])"
            ]
          },
          "metadata": {},
          "execution_count": 43
        }
      ]
    },
    {
      "cell_type": "code",
      "source": [
        "#divide\n",
        "tensor/10"
      ],
      "metadata": {
        "colab": {
          "base_uri": "https://localhost:8080/"
        },
        "id": "HHU7DVjOQE2Z",
        "outputId": "cc5f4069-d97e-4a50-aa54-7e5e3de2baea"
      },
      "execution_count": 44,
      "outputs": [
        {
          "output_type": "execute_result",
          "data": {
            "text/plain": [
              "tensor([0.1000, 0.2000, 0.3000])"
            ]
          },
          "metadata": {},
          "execution_count": 44
        }
      ]
    },
    {
      "cell_type": "code",
      "source": [
        "torch.mul(tensor,10)"
      ],
      "metadata": {
        "colab": {
          "base_uri": "https://localhost:8080/"
        },
        "id": "QSiCdWgwQJjq",
        "outputId": "396bcb71-a7eb-4e64-b5c5-b5741d5181ef"
      },
      "execution_count": 45,
      "outputs": [
        {
          "output_type": "execute_result",
          "data": {
            "text/plain": [
              "tensor([10, 20, 30])"
            ]
          },
          "metadata": {},
          "execution_count": 45
        }
      ]
    },
    {
      "cell_type": "code",
      "source": [
        "torch.add(tensor,10)"
      ],
      "metadata": {
        "colab": {
          "base_uri": "https://localhost:8080/"
        },
        "id": "vRH20ZpNRHqo",
        "outputId": "1c6c4c7f-27f9-4ef6-f7d2-c68f95ab9397"
      },
      "execution_count": 46,
      "outputs": [
        {
          "output_type": "execute_result",
          "data": {
            "text/plain": [
              "tensor([11, 12, 13])"
            ]
          },
          "metadata": {},
          "execution_count": 46
        }
      ]
    },
    {
      "cell_type": "markdown",
      "source": [
        "Matrix multiplication\n",
        "\n",
        "Two main ways of performing multiplication in neural networks and deep learning:\n",
        "\n",
        "1.Element-wise multiplication\n",
        "\n",
        "2.Matrix multiplication(dot product)\n",
        "\n",
        "There are two main rules that performing matrix multiplication\n",
        "\n",
        "1. The **inner dimensions** must match:\n",
        "\n",
        " *(3,2) @ (3,2) won't work\n",
        "\n",
        " *(2,3) @ (3,2) will work\n",
        "\n",
        " *(3,2) @ (2,3) will work\n",
        "\n",
        "\n",
        "2.The resulting matrix has the shape of the **outer dimension**:\n",
        "\n",
        "*(2,3) @ (3,2) -> (2,2)\n",
        "\n",
        "*(3,2) 2 (2,3) -. (3,3)\n",
        "\n",
        "\n"
      ],
      "metadata": {
        "id": "15eaC_8jZp3z"
      }
    },
    {
      "cell_type": "code",
      "source": [
        "torch.matmul(torch.rand(10,10),torch.rand(10,10))"
      ],
      "metadata": {
        "colab": {
          "base_uri": "https://localhost:8080/"
        },
        "id": "XHyspsAnh5Ak",
        "outputId": "b91c9304-680a-4e00-8d77-e401917af423"
      },
      "execution_count": 47,
      "outputs": [
        {
          "output_type": "execute_result",
          "data": {
            "text/plain": [
              "tensor([[2.7305, 2.7752, 2.7182, 3.3321, 2.5909, 3.2492, 2.9498, 2.9445, 3.6469,\n",
              "         1.9705],\n",
              "        [2.1252, 2.6268, 2.0143, 3.2114, 2.4930, 2.8057, 2.8126, 2.8713, 3.3100,\n",
              "         1.9055],\n",
              "        [2.1352, 2.3502, 2.6157, 3.2815, 2.6022, 3.2000, 2.3430, 2.7324, 2.8084,\n",
              "         2.1385],\n",
              "        [1.8291, 2.2447, 2.3698, 3.1879, 2.3638, 2.8682, 2.2682, 2.7395, 2.8648,\n",
              "         1.8275],\n",
              "        [2.3815, 2.4919, 2.5359, 2.9062, 2.5284, 3.0174, 2.0557, 2.4696, 3.3482,\n",
              "         1.8935],\n",
              "        [2.9890, 3.2011, 3.4077, 3.4389, 3.1040, 3.6873, 2.7643, 2.8022, 3.8837,\n",
              "         2.4472],\n",
              "        [2.5956, 2.7911, 2.7511, 3.1275, 3.0044, 3.2239, 2.1192, 2.7209, 3.7925,\n",
              "         2.1022],\n",
              "        [3.0194, 3.3482, 3.7053, 3.3697, 2.9693, 4.1001, 2.7974, 3.0541, 3.9413,\n",
              "         2.2306],\n",
              "        [1.9373, 2.5840, 2.8633, 3.1145, 2.5777, 3.1374, 2.5266, 3.2175, 2.6147,\n",
              "         1.6040],\n",
              "        [1.8230, 2.0353, 2.3609, 2.7135, 1.9830, 2.4955, 2.0360, 2.0873, 2.5305,\n",
              "         1.6338]])"
            ]
          },
          "metadata": {},
          "execution_count": 47
        }
      ]
    },
    {
      "cell_type": "code",
      "source": [
        "#Elementwise multiplication\n",
        "print(tensor,\"*\",tensor)\n",
        "print(f\"Equals:{tensor * tensor}\")\n"
      ],
      "metadata": {
        "colab": {
          "base_uri": "https://localhost:8080/"
        },
        "id": "QHc3IlZeRPoG",
        "outputId": "7fef5d74-95f6-4a98-ec16-d78e9668cb8b"
      },
      "execution_count": 48,
      "outputs": [
        {
          "output_type": "stream",
          "name": "stdout",
          "text": [
            "tensor([1, 2, 3]) * tensor([1, 2, 3])\n",
            "Equals:tensor([1, 4, 9])\n"
          ]
        }
      ]
    },
    {
      "cell_type": "code",
      "source": [
        "#matrix multiplication\n",
        "torch.matmul(tensor,tensor)"
      ],
      "metadata": {
        "colab": {
          "base_uri": "https://localhost:8080/"
        },
        "id": "POZrRMykacyp",
        "outputId": "284692b0-744d-41a3-f364-a9e67ec0908a"
      },
      "execution_count": 49,
      "outputs": [
        {
          "output_type": "execute_result",
          "data": {
            "text/plain": [
              "tensor(14)"
            ]
          },
          "metadata": {},
          "execution_count": 49
        }
      ]
    },
    {
      "cell_type": "code",
      "source": [
        "#matrix multiplication by hand\n",
        "1*1 + 2*2 + 3*3"
      ],
      "metadata": {
        "colab": {
          "base_uri": "https://localhost:8080/"
        },
        "id": "X6yJYNZMdsH5",
        "outputId": "00d60cf2-86c7-4f75-fcd6-daa3580d2ca9"
      },
      "execution_count": 50,
      "outputs": [
        {
          "output_type": "execute_result",
          "data": {
            "text/plain": [
              "14"
            ]
          },
          "metadata": {},
          "execution_count": 50
        }
      ]
    },
    {
      "cell_type": "code",
      "source": [
        "%%time\n",
        "value = 0\n",
        "for i in range(len(tensor)):\n",
        "  value += tensor[i] * tensor[i]\n",
        "  print(value)\n",
        "\n"
      ],
      "metadata": {
        "colab": {
          "base_uri": "https://localhost:8080/"
        },
        "id": "KrKzgN0ae8-Y",
        "outputId": "b521abf6-65b4-453b-aea5-b6257c1fa298"
      },
      "execution_count": 51,
      "outputs": [
        {
          "output_type": "stream",
          "name": "stdout",
          "text": [
            "tensor(1)\n",
            "tensor(5)\n",
            "tensor(14)\n",
            "CPU times: user 1.66 ms, sys: 0 ns, total: 1.66 ms\n",
            "Wall time: 1.71 ms\n"
          ]
        }
      ]
    },
    {
      "cell_type": "code",
      "source": [
        "tensor @ tensor"
      ],
      "metadata": {
        "colab": {
          "base_uri": "https://localhost:8080/"
        },
        "id": "9C1aDJn0gtbp",
        "outputId": "ae252857-15d8-48c8-bffc-ebc6fd4bad01"
      },
      "execution_count": 52,
      "outputs": [
        {
          "output_type": "execute_result",
          "data": {
            "text/plain": [
              "tensor(14)"
            ]
          },
          "metadata": {},
          "execution_count": 52
        }
      ]
    },
    {
      "cell_type": "code",
      "source": [
        "%%time\n",
        "torch.matmul(tensor,tensor)"
      ],
      "metadata": {
        "colab": {
          "base_uri": "https://localhost:8080/"
        },
        "id": "lx3KAmazfaxP",
        "outputId": "af00b679-52a2-4316-9a9a-ae5dbc353d9e"
      },
      "execution_count": 53,
      "outputs": [
        {
          "output_type": "stream",
          "name": "stdout",
          "text": [
            "CPU times: user 64 µs, sys: 12 µs, total: 76 µs\n",
            "Wall time: 79.4 µs\n"
          ]
        },
        {
          "output_type": "execute_result",
          "data": {
            "text/plain": [
              "tensor(14)"
            ]
          },
          "metadata": {},
          "execution_count": 53
        }
      ]
    },
    {
      "cell_type": "markdown",
      "source": [
        "### one of the most common errors in deep learning: shape errors"
      ],
      "metadata": {
        "id": "CKVSRRlxgFX5"
      }
    },
    {
      "cell_type": "code",
      "source": [
        " #Shape for matrix multiplication\n",
        "tensor_A = torch.tensor([[1, 2],\n",
        "                         [3, 4],\n",
        "                         [5, 6]])\n",
        "tensor_B = torch.tensor([[7, 10],\n",
        "                         [8, 11],\n",
        "                         [9, 12]])\n",
        "\n",
        "\n",
        "#torch.mm(tensor_A,tensor_B) #torch.mm is the same as torch.matmul (it's an alias for writing less code)\n",
        "torch.matmul(tensor_A, tensor_B.T)\n"
      ],
      "metadata": {
        "colab": {
          "base_uri": "https://localhost:8080/"
        },
        "id": "ehnumnLNftEC",
        "outputId": "475be945-8750-4205-c47f-fcfb0f3f018e"
      },
      "execution_count": 54,
      "outputs": [
        {
          "output_type": "execute_result",
          "data": {
            "text/plain": [
              "tensor([[ 27,  30,  33],\n",
              "        [ 61,  68,  75],\n",
              "        [ 95, 106, 117]])"
            ]
          },
          "metadata": {},
          "execution_count": 54
        }
      ]
    },
    {
      "cell_type": "code",
      "source": [
        "tensor_A.shape, tensor_B.shape"
      ],
      "metadata": {
        "id": "R8P8pkSiCWp_",
        "outputId": "37082525-28b6-4c28-99fc-e7fcec1843f8",
        "colab": {
          "base_uri": "https://localhost:8080/"
        }
      },
      "execution_count": 55,
      "outputs": [
        {
          "output_type": "execute_result",
          "data": {
            "text/plain": [
              "(torch.Size([3, 2]), torch.Size([3, 2]))"
            ]
          },
          "metadata": {},
          "execution_count": 55
        }
      ]
    },
    {
      "cell_type": "markdown",
      "source": [
        "To fix our tensor shape issues, we can manipulate the shape of one of our tensors using a **transpose**.\n",
        "\n",
        "A **transpose** switches the axes or dimensions of a given tensor tensor"
      ],
      "metadata": {
        "id": "t2VnFdGFC3qf"
      }
    },
    {
      "cell_type": "code",
      "source": [
        "tensor_B,tensor_B.shape"
      ],
      "metadata": {
        "id": "sCtMDn2LCtaY",
        "outputId": "8287e173-569b-4723-f9b7-de67602b2119",
        "colab": {
          "base_uri": "https://localhost:8080/"
        }
      },
      "execution_count": 56,
      "outputs": [
        {
          "output_type": "execute_result",
          "data": {
            "text/plain": [
              "(tensor([[ 7, 10],\n",
              "         [ 8, 11],\n",
              "         [ 9, 12]]),\n",
              " torch.Size([3, 2]))"
            ]
          },
          "metadata": {},
          "execution_count": 56
        }
      ]
    },
    {
      "cell_type": "code",
      "source": [
        "tensor_B.T, tensor_B.T.shape"
      ],
      "metadata": {
        "id": "nkOUlHm5D3yV",
        "outputId": "842a42b1-5715-4344-c21b-59b4c6a0ee7f",
        "colab": {
          "base_uri": "https://localhost:8080/"
        }
      },
      "execution_count": 57,
      "outputs": [
        {
          "output_type": "execute_result",
          "data": {
            "text/plain": [
              "(tensor([[ 7,  8,  9],\n",
              "         [10, 11, 12]]),\n",
              " torch.Size([2, 3]))"
            ]
          },
          "metadata": {},
          "execution_count": 57
        }
      ]
    },
    {
      "cell_type": "markdown",
      "source": [],
      "metadata": {
        "id": "KwVKsdSK2EDw"
      }
    },
    {
      "cell_type": "code",
      "source": [
        "# The matrix multiplication operation works when tensor_B is transposed\n",
        "print(f\"Original shapes: tensor_A = {tensor_A.shape} , tensor_B = {tensor_B.shape}\")\n",
        "print(f\"New shapes: tensor_A = {tensor_A.shape} (same shape as above), tensor_B.T = {tensor_B.T.shape}\")\n",
        "print(f\"Multiplying : {tensor_A.shape} @ {tensor_B.T.shape} <- inner dimensions must match\")\n",
        "print(\"Output:\\n\")\n",
        "output = torch.matmul(tensor_A, tensor_B.T)\n",
        "print(output)\n",
        "torch.matmul(tensor_A, tensor_B.T)"
      ],
      "metadata": {
        "id": "4yOhfn5yD_6r",
        "colab": {
          "base_uri": "https://localhost:8080/"
        },
        "outputId": "30571486-582c-42cf-f558-da758f212295"
      },
      "execution_count": 58,
      "outputs": [
        {
          "output_type": "stream",
          "name": "stdout",
          "text": [
            "Original shapes: tensor_A = torch.Size([3, 2]) , tensor_B = torch.Size([3, 2])\n",
            "New shapes: tensor_A = torch.Size([3, 2]) (same shape as above), tensor_B.T = torch.Size([2, 3])\n",
            "Multiplying : torch.Size([3, 2]) @ torch.Size([2, 3]) <- inner dimensions must match\n",
            "Output:\n",
            "\n",
            "tensor([[ 27,  30,  33],\n",
            "        [ 61,  68,  75],\n",
            "        [ 95, 106, 117]])\n"
          ]
        },
        {
          "output_type": "execute_result",
          "data": {
            "text/plain": [
              "tensor([[ 27,  30,  33],\n",
              "        [ 61,  68,  75],\n",
              "        [ 95, 106, 117]])"
            ]
          },
          "metadata": {},
          "execution_count": 58
        }
      ]
    },
    {
      "cell_type": "code",
      "source": [
        "print(f\"Original shapes : tensor_A = {tensor_A.shape} ,tensor_B = {tensor_B.shape}\")\n",
        "print(f\"New shapes:tensorA.T = {tensor_A.shape} (same shape as above), tensor_B = {tensor_B.T.shape}\")\n",
        "print(f\"Multiplying : {tensor_A.T.shape} @ {tensor_B.shape} <- inner dimension must match\")\n",
        "print(\"Output:\\n\")\n",
        "out = torch.matmul(tensor_A.T, tensor_B)\n",
        "print(output)"
      ],
      "metadata": {
        "colab": {
          "base_uri": "https://localhost:8080/"
        },
        "id": "nIU2dhAJds2N",
        "outputId": "5bc33adf-73ae-49a2-dbc1-580b00308a7a"
      },
      "execution_count": 59,
      "outputs": [
        {
          "output_type": "stream",
          "name": "stdout",
          "text": [
            "Original shapes : tensor_A = torch.Size([3, 2]) ,tensor_B = torch.Size([3, 2])\n",
            "New shapes:tensorA.T = torch.Size([3, 2]) (same shape as above), tensor_B = torch.Size([2, 3])\n",
            "Multiplying : torch.Size([2, 3]) @ torch.Size([3, 2]) <- inner dimension must match\n",
            "Output:\n",
            "\n",
            "tensor([[ 27,  30,  33],\n",
            "        [ 61,  68,  75],\n",
            "        [ 95, 106, 117]])\n"
          ]
        }
      ]
    },
    {
      "cell_type": "markdown",
      "source": [
        "Finding the min ,max , mean, sum,etc (tensor aggregation)"
      ],
      "metadata": {
        "id": "OeDIFF7jiSNL"
      }
    },
    {
      "cell_type": "code",
      "source": [
        "#create a tensor\n",
        "x= torch.arange(1,100,10)\n",
        "x , x.dtype"
      ],
      "metadata": {
        "colab": {
          "base_uri": "https://localhost:8080/"
        },
        "id": "dqblxNC7hsaL",
        "outputId": "5e30edd6-a531-4a44-a035-9f8105855e83"
      },
      "execution_count": 60,
      "outputs": [
        {
          "output_type": "execute_result",
          "data": {
            "text/plain": [
              "(tensor([ 1, 11, 21, 31, 41, 51, 61, 71, 81, 91]), torch.int64)"
            ]
          },
          "metadata": {},
          "execution_count": 60
        }
      ]
    },
    {
      "cell_type": "code",
      "source": [
        "# Find the main\n",
        "torch.min(x) , x.min()"
      ],
      "metadata": {
        "colab": {
          "base_uri": "https://localhost:8080/"
        },
        "id": "8zcBK01Wil1w",
        "outputId": "8686b973-d8a2-4f13-d1f5-9d4a357354b0"
      },
      "execution_count": 61,
      "outputs": [
        {
          "output_type": "execute_result",
          "data": {
            "text/plain": [
              "(tensor(1), tensor(1))"
            ]
          },
          "metadata": {},
          "execution_count": 61
        }
      ]
    },
    {
      "cell_type": "code",
      "source": [
        "#Find the mean - note: the torch.mean() function requires a tensor of float32 datatype to work\n",
        "torch.mean(x.type(torch.float32)) ,x.type(torch.float32).mean()"
      ],
      "metadata": {
        "colab": {
          "base_uri": "https://localhost:8080/"
        },
        "id": "mrqRwNeDitw9",
        "outputId": "e2d4e581-f4e6-4190-ab15-7e5cd1beedeb"
      },
      "execution_count": 62,
      "outputs": [
        {
          "output_type": "execute_result",
          "data": {
            "text/plain": [
              "(tensor(46.), tensor(46.))"
            ]
          },
          "metadata": {},
          "execution_count": 62
        }
      ]
    },
    {
      "cell_type": "code",
      "source": [
        "#find the sum\n",
        "torch.sum(x), x.sum()"
      ],
      "metadata": {
        "colab": {
          "base_uri": "https://localhost:8080/"
        },
        "id": "sbK1VcxrjVzK",
        "outputId": "46e465c9-4460-4016-81d2-de15118dfcc8"
      },
      "execution_count": 63,
      "outputs": [
        {
          "output_type": "execute_result",
          "data": {
            "text/plain": [
              "(tensor(460), tensor(460))"
            ]
          },
          "metadata": {},
          "execution_count": 63
        }
      ]
    },
    {
      "cell_type": "markdown",
      "source": [
        "## Finding the positional min max"
      ],
      "metadata": {
        "id": "-MLTVKaBkrxZ"
      }
    },
    {
      "cell_type": "code",
      "source": [
        "x"
      ],
      "metadata": {
        "colab": {
          "base_uri": "https://localhost:8080/"
        },
        "id": "Fx9mnnA0kJnm",
        "outputId": "109b11b4-ea73-4fb5-d106-d2c4b3a365d2"
      },
      "execution_count": 64,
      "outputs": [
        {
          "output_type": "execute_result",
          "data": {
            "text/plain": [
              "tensor([ 1, 11, 21, 31, 41, 51, 61, 71, 81, 91])"
            ]
          },
          "metadata": {},
          "execution_count": 64
        }
      ]
    },
    {
      "cell_type": "code",
      "source": [
        "# find the position that has the min value with argminn() -> returns index position of the target tensor where the minimum value occurs\n",
        "x.argmin()"
      ],
      "metadata": {
        "id": "K4TT-4c2kwX2",
        "outputId": "ee1d1f5f-58fd-40b1-c37a-94277798a858",
        "colab": {
          "base_uri": "https://localhost:8080/"
        }
      },
      "execution_count": 65,
      "outputs": [
        {
          "output_type": "execute_result",
          "data": {
            "text/plain": [
              "tensor(0)"
            ]
          },
          "metadata": {},
          "execution_count": 65
        }
      ]
    },
    {
      "cell_type": "code",
      "source": [
        "#find the position in tensor that has the maximum value with argmax\n",
        "x.argmax()"
      ],
      "metadata": {
        "id": "-0y6J-PAk0y2",
        "colab": {
          "base_uri": "https://localhost:8080/"
        },
        "outputId": "8556d321-9ba8-4273-b318-e83a4e5222e5"
      },
      "execution_count": 66,
      "outputs": [
        {
          "output_type": "execute_result",
          "data": {
            "text/plain": [
              "tensor(9)"
            ]
          },
          "metadata": {},
          "execution_count": 66
        }
      ]
    },
    {
      "cell_type": "code",
      "source": [
        "x[9]"
      ],
      "metadata": {
        "colab": {
          "base_uri": "https://localhost:8080/"
        },
        "id": "Kltx_9bwJpKc",
        "outputId": "3b762df4-2cb3-4dc5-d31d-63e65d17f6cc"
      },
      "execution_count": 67,
      "outputs": [
        {
          "output_type": "execute_result",
          "data": {
            "text/plain": [
              "tensor(91)"
            ]
          },
          "metadata": {},
          "execution_count": 67
        }
      ]
    },
    {
      "cell_type": "markdown",
      "source": [
        "# reshaping ,stacking , squeezing and unsquezzing tensore"
      ],
      "metadata": {
        "id": "VzwEA9NlKhjd"
      }
    },
    {
      "cell_type": "markdown",
      "source": [
        "* Reshaping - reshape an input tensor to a defined shape\n",
        "\n",
        "* view  - return a view of an input tensor of certain shape but keep the same memory as the original tensor\n",
        "\n",
        "* stacking - combine muultiple tensors on top of each other (vstack) or side by side (hstack)\n",
        "\n",
        "* squeeze - remove all dimension from a tensor\n",
        "\n",
        "* unsqueeze - add a dimension to a target tensor\n",
        "\n",
        "* permute - return a view of the input with dimension permute(swapped) in a certain way"
      ],
      "metadata": {
        "id": "zaWNMGEMKsiP"
      }
    },
    {
      "cell_type": "code",
      "source": [
        "# lets create a tesor\n",
        "import torch\n",
        "x = torch.arange(1.,10.)\n",
        "x, x.shape"
      ],
      "metadata": {
        "colab": {
          "base_uri": "https://localhost:8080/"
        },
        "id": "Df4_jNzTKiPh",
        "outputId": "d471fd8f-f36f-427d-af22-8f61ab834a67"
      },
      "execution_count": 68,
      "outputs": [
        {
          "output_type": "execute_result",
          "data": {
            "text/plain": [
              "(tensor([1., 2., 3., 4., 5., 6., 7., 8., 9.]), torch.Size([9]))"
            ]
          },
          "metadata": {},
          "execution_count": 68
        }
      ]
    },
    {
      "cell_type": "code",
      "source": [
        "# add a extra dimension\n",
        "x_reshaped = x.reshape(1,9)\n",
        "x_reshaped, x_reshaped.shape"
      ],
      "metadata": {
        "colab": {
          "base_uri": "https://localhost:8080/"
        },
        "id": "9UQpnZykMKyu",
        "outputId": "95442954-85b3-4c86-f5b9-e5d985c1103c"
      },
      "execution_count": 69,
      "outputs": [
        {
          "output_type": "execute_result",
          "data": {
            "text/plain": [
              "(tensor([[1., 2., 3., 4., 5., 6., 7., 8., 9.]]), torch.Size([1, 9]))"
            ]
          },
          "metadata": {},
          "execution_count": 69
        }
      ]
    },
    {
      "cell_type": "code",
      "source": [
        "# change the view\n",
        "z = x.view(1,9)\n",
        "z, z.shape"
      ],
      "metadata": {
        "colab": {
          "base_uri": "https://localhost:8080/"
        },
        "id": "sG9tK8J_MjXl",
        "outputId": "1ba7e1a5-61d5-451a-9002-f092e2dbcafa"
      },
      "execution_count": 70,
      "outputs": [
        {
          "output_type": "execute_result",
          "data": {
            "text/plain": [
              "(tensor([[1., 2., 3., 4., 5., 6., 7., 8., 9.]]), torch.Size([1, 9]))"
            ]
          },
          "metadata": {},
          "execution_count": 70
        }
      ]
    },
    {
      "cell_type": "code",
      "source": [
        "#changing z changes x ( because a view of a tensor shares the saame memory as the original input)\n",
        "z[:,0] =5\n",
        "z, x"
      ],
      "metadata": {
        "colab": {
          "base_uri": "https://localhost:8080/"
        },
        "id": "VRhlgCX_NYvT",
        "outputId": "0ae73189-25b6-4759-a359-6eea6dcf5d35"
      },
      "execution_count": 71,
      "outputs": [
        {
          "output_type": "execute_result",
          "data": {
            "text/plain": [
              "(tensor([[5., 2., 3., 4., 5., 6., 7., 8., 9.]]),\n",
              " tensor([5., 2., 3., 4., 5., 6., 7., 8., 9.]))"
            ]
          },
          "metadata": {},
          "execution_count": 71
        }
      ]
    },
    {
      "cell_type": "code",
      "source": [
        "# stack tensors on top of eachother\n",
        "x_stacked = torch.stack([x,x,x,x],dim=0 )\n",
        "x_stacked"
      ],
      "metadata": {
        "colab": {
          "base_uri": "https://localhost:8080/"
        },
        "id": "H9q-DJAMNtdb",
        "outputId": "6f401a71-8d42-447c-c817-f16805f42665"
      },
      "execution_count": 72,
      "outputs": [
        {
          "output_type": "execute_result",
          "data": {
            "text/plain": [
              "tensor([[5., 2., 3., 4., 5., 6., 7., 8., 9.],\n",
              "        [5., 2., 3., 4., 5., 6., 7., 8., 9.],\n",
              "        [5., 2., 3., 4., 5., 6., 7., 8., 9.],\n",
              "        [5., 2., 3., 4., 5., 6., 7., 8., 9.]])"
            ]
          },
          "metadata": {},
          "execution_count": 72
        }
      ]
    },
    {
      "cell_type": "markdown",
      "source": [
        "squeeze"
      ],
      "metadata": {
        "id": "df_m41NaPtRR"
      }
    },
    {
      "cell_type": "code",
      "source": [
        "#tourch.squeeze() -- remove  all single dimensions from a target tensor\n",
        "print(f\"previous tensor: {x_reshaped}\")\n",
        "print(f\"previous shape: {x_reshaped.shape}\")\n",
        "\n",
        "#remove extra dimension from x_shaped\n",
        "x_squeezed = x_reshaped.squeeze()\n",
        "print(f\"\\nNew  tensor: {x_squeezed}\")\n",
        "print(f\"New shape: {x_squeezed.shape}\")"
      ],
      "metadata": {
        "colab": {
          "base_uri": "https://localhost:8080/"
        },
        "id": "NDfP79HXQmXl",
        "outputId": "0bdbbce1-241d-4ade-f4d4-c00dc788bae9"
      },
      "execution_count": 73,
      "outputs": [
        {
          "output_type": "stream",
          "name": "stdout",
          "text": [
            "previous tensor: tensor([[5., 2., 3., 4., 5., 6., 7., 8., 9.]])\n",
            "previous shape: torch.Size([1, 9])\n",
            "\n",
            "New  tensor: tensor([5., 2., 3., 4., 5., 6., 7., 8., 9.])\n",
            "New shape: torch.Size([9])\n"
          ]
        }
      ]
    },
    {
      "cell_type": "code",
      "source": [
        "#tourch.unsqueeze() -- remove  all single dimensions from a target tensor\n",
        "print(f\"previous target: {x_squeezed}\")\n",
        "print(f\"previous shape: {x_squeezed.shape}\")\n",
        "\n",
        "#add extra dimension from x_shaped\n",
        "x_unsqueezed = x_squeezed.unsqueeze(dim=0)\n",
        "print(f\"\\nNew  tensor: {x_unsqueezed}\")\n",
        "print(f\"New shape: {x_unsqueezed.shape}\")"
      ],
      "metadata": {
        "colab": {
          "base_uri": "https://localhost:8080/"
        },
        "id": "ZI1U9MhXUEUo",
        "outputId": "8bff4a13-ac42-4f4c-d166-6a222d42b6c5"
      },
      "execution_count": 74,
      "outputs": [
        {
          "output_type": "stream",
          "name": "stdout",
          "text": [
            "previous target: tensor([5., 2., 3., 4., 5., 6., 7., 8., 9.])\n",
            "previous shape: torch.Size([9])\n",
            "\n",
            "New  tensor: tensor([[5., 2., 3., 4., 5., 6., 7., 8., 9.]])\n",
            "New shape: torch.Size([1, 9])\n"
          ]
        }
      ]
    },
    {
      "cell_type": "code",
      "source": [
        "#torch.permute - reaarabges the dimensions of a target tensor in a specified order\n",
        "x_original = torch.rand(size=(224,224,3)) #[height,width,color_channels]\n",
        "\n",
        "# permute the original tensor to rearrange the axis (or dim) oredr\n",
        "x_permuted = x_original.permute(2,0,1) # shifts axis 0->1, 1->2,2->0\n",
        "\n",
        "print(f\"previous shape: {x_original.shape}\")\n",
        "print(f\"new shape: {x_permuted.shape}\") #[color_channel,height,width]"
      ],
      "metadata": {
        "colab": {
          "base_uri": "https://localhost:8080/"
        },
        "id": "R3pi1TXWUERR",
        "outputId": "cadd0e34-b895-4fc2-eae0-17fecc40780a"
      },
      "execution_count": 75,
      "outputs": [
        {
          "output_type": "stream",
          "name": "stdout",
          "text": [
            "previous shape: torch.Size([224, 224, 3])\n",
            "new shape: torch.Size([3, 224, 224])\n"
          ]
        }
      ]
    },
    {
      "cell_type": "code",
      "source": [
        "x_original[0,0,0] = 728218\n",
        "x_original[0,0,0], x_permuted[0,0,0]"
      ],
      "metadata": {
        "colab": {
          "base_uri": "https://localhost:8080/"
        },
        "id": "DfB-pca2UEPA",
        "outputId": "aec0dd29-9c61-46f0-8ea6-e176ddf01fdb"
      },
      "execution_count": 76,
      "outputs": [
        {
          "output_type": "execute_result",
          "data": {
            "text/plain": [
              "(tensor(728218.), tensor(728218.))"
            ]
          },
          "metadata": {},
          "execution_count": 76
        }
      ]
    },
    {
      "cell_type": "markdown",
      "source": [
        "## Indexing (selecting data from tensors)\n",
        "\n",
        "Indexing with Pytorch is similar to indexing with numpy"
      ],
      "metadata": {
        "id": "Pvl5HbYwZFiE"
      }
    },
    {
      "cell_type": "code",
      "source": [
        "# create a tensor\n",
        "import torch\n",
        "x = torch.arange(1,10).reshape(1,3,3)\n",
        "x, x.shape"
      ],
      "metadata": {
        "colab": {
          "base_uri": "https://localhost:8080/"
        },
        "id": "RqwhHzaoYns1",
        "outputId": "8de73e88-693f-49ac-e5bf-f248bd52729e"
      },
      "execution_count": 77,
      "outputs": [
        {
          "output_type": "execute_result",
          "data": {
            "text/plain": [
              "(tensor([[[1, 2, 3],\n",
              "          [4, 5, 6],\n",
              "          [7, 8, 9]]]),\n",
              " torch.Size([1, 3, 3]))"
            ]
          },
          "metadata": {},
          "execution_count": 77
        }
      ]
    },
    {
      "cell_type": "code",
      "source": [
        "# lets a index on our new tensor\n",
        "x[0]"
      ],
      "metadata": {
        "colab": {
          "base_uri": "https://localhost:8080/"
        },
        "id": "D1rkx9_VZifp",
        "outputId": "8632daa2-56c0-49f3-82b2-00fe1937c95f"
      },
      "execution_count": 78,
      "outputs": [
        {
          "output_type": "execute_result",
          "data": {
            "text/plain": [
              "tensor([[1, 2, 3],\n",
              "        [4, 5, 6],\n",
              "        [7, 8, 9]])"
            ]
          },
          "metadata": {},
          "execution_count": 78
        }
      ]
    },
    {
      "cell_type": "code",
      "source": [
        "#lets index in middle bracket\n",
        "x[0,0]\n",
        "#x[0][0]"
      ],
      "metadata": {
        "colab": {
          "base_uri": "https://localhost:8080/"
        },
        "id": "WmoZvtlGZxKj",
        "outputId": "d366f6f2-365e-4a8b-ae58-aaaf5b9c79f8"
      },
      "execution_count": 79,
      "outputs": [
        {
          "output_type": "execute_result",
          "data": {
            "text/plain": [
              "tensor([1, 2, 3])"
            ]
          },
          "metadata": {},
          "execution_count": 79
        }
      ]
    },
    {
      "cell_type": "code",
      "source": [
        "# Lets index on the most innefr barcket (last dimension)\n",
        "x[0][1][1]"
      ],
      "metadata": {
        "colab": {
          "base_uri": "https://localhost:8080/"
        },
        "id": "_0WeZ7vPZ3Za",
        "outputId": "c8650622-5e04-4670-94b3-00d2b81c78c7"
      },
      "execution_count": 80,
      "outputs": [
        {
          "output_type": "execute_result",
          "data": {
            "text/plain": [
              "tensor(5)"
            ]
          },
          "metadata": {},
          "execution_count": 80
        }
      ]
    },
    {
      "cell_type": "code",
      "source": [
        "# you can also use \":\" to select \"all\" of a target dimension\n",
        "x[:,0]"
      ],
      "metadata": {
        "colab": {
          "base_uri": "https://localhost:8080/"
        },
        "id": "DzddBoLDaIdb",
        "outputId": "d4e3c3aa-1b8e-48b5-88cc-2383415117de"
      },
      "execution_count": 81,
      "outputs": [
        {
          "output_type": "execute_result",
          "data": {
            "text/plain": [
              "tensor([[1, 2, 3]])"
            ]
          },
          "metadata": {},
          "execution_count": 81
        }
      ]
    },
    {
      "cell_type": "code",
      "source": [
        "# get all values of 0th and 1st dimension but only index 1 of the 2nd dimension\n",
        "x[:,:,1]"
      ],
      "metadata": {
        "colab": {
          "base_uri": "https://localhost:8080/"
        },
        "id": "D5VFe4qPapst",
        "outputId": "05217619-72cf-45b6-ecbb-098d817c09a7"
      },
      "execution_count": 82,
      "outputs": [
        {
          "output_type": "execute_result",
          "data": {
            "text/plain": [
              "tensor([[2, 5, 8]])"
            ]
          },
          "metadata": {},
          "execution_count": 82
        }
      ]
    },
    {
      "cell_type": "code",
      "source": [
        "# get all values of the 0 dimension but only the 1 index value of 1st and 2nd dimension\n",
        "x[:,1,1]"
      ],
      "metadata": {
        "colab": {
          "base_uri": "https://localhost:8080/"
        },
        "id": "oeZyfrcxa3oC",
        "outputId": "3f127d31-afc5-4a06-ec20-5de65909f6ab"
      },
      "execution_count": 83,
      "outputs": [
        {
          "output_type": "execute_result",
          "data": {
            "text/plain": [
              "tensor([5])"
            ]
          },
          "metadata": {},
          "execution_count": 83
        }
      ]
    },
    {
      "cell_type": "code",
      "source": [
        "# get index o of 0th 1st dimension and all values of 2nd dimension\n",
        "x[0,0,:]"
      ],
      "metadata": {
        "colab": {
          "base_uri": "https://localhost:8080/"
        },
        "id": "ScMkThU3bQ4j",
        "outputId": "a34190a2-17a3-4af9-aece-b4f1207fe2b7"
      },
      "execution_count": 84,
      "outputs": [
        {
          "output_type": "execute_result",
          "data": {
            "text/plain": [
              "tensor([1, 2, 3])"
            ]
          },
          "metadata": {},
          "execution_count": 84
        }
      ]
    },
    {
      "cell_type": "code",
      "source": [
        "# index on x to return 9\n",
        "x[:,2,2]\n",
        "\n"
      ],
      "metadata": {
        "colab": {
          "base_uri": "https://localhost:8080/"
        },
        "id": "X6KMHEKYbkxE",
        "outputId": "ce0dcc1a-84a9-458e-dba4-6db8e544342b"
      },
      "execution_count": 85,
      "outputs": [
        {
          "output_type": "execute_result",
          "data": {
            "text/plain": [
              "tensor([9])"
            ]
          },
          "metadata": {},
          "execution_count": 85
        }
      ]
    },
    {
      "cell_type": "code",
      "source": [
        "# index on x to return 3\n",
        "x[:,0,2]\n"
      ],
      "metadata": {
        "colab": {
          "base_uri": "https://localhost:8080/"
        },
        "id": "sjmkaH-gdWpe",
        "outputId": "6052c2d0-a635-4379-f507-29f7f46ea2f2"
      },
      "execution_count": 86,
      "outputs": [
        {
          "output_type": "execute_result",
          "data": {
            "text/plain": [
              "tensor([3])"
            ]
          },
          "metadata": {},
          "execution_count": 86
        }
      ]
    },
    {
      "cell_type": "code",
      "source": [
        "# index on x return 6\n",
        "x[:,1,2]"
      ],
      "metadata": {
        "colab": {
          "base_uri": "https://localhost:8080/"
        },
        "id": "WfhuzuO8eSyM",
        "outputId": "c961df0a-5fbb-4756-f17e-2f39ceb27537"
      },
      "execution_count": 87,
      "outputs": [
        {
          "output_type": "execute_result",
          "data": {
            "text/plain": [
              "tensor([6])"
            ]
          },
          "metadata": {},
          "execution_count": 87
        }
      ]
    },
    {
      "cell_type": "markdown",
      "source": [
        "## Pytorch tensor & Numpy\n",
        "\n",
        "Numpy is a popular scientific python numerical computing library.\n",
        "\n",
        "and because of this ,pytorch has functionality to  intercat with it.\n",
        "\n",
        "* Data in Numpy want in Pytorch tensor -> torch.form_numpy(ndarray)\n",
        "\n",
        "* PyTorch tensor -> Numpy -> torch.Tensor.numpy()"
      ],
      "metadata": {
        "id": "GbgvRazcfdK1"
      }
    },
    {
      "cell_type": "code",
      "source": [
        "# Numpy array to tensor\n",
        "import torch\n",
        "import numpy as np\n",
        "\n",
        "array = np.arange(1.0,8.0)\n",
        "tensor = torch.from_numpy(array)\n",
        "#tensor = torch.from_numpy(array).type(torch.float32)\n",
        "#warning : when converting from numpy -> pytorch , pytorch reflects numpy's default datatype of float64 unless specified otherwise\n",
        "array, tensor\n"
      ],
      "metadata": {
        "colab": {
          "base_uri": "https://localhost:8080/"
        },
        "id": "fvwXppUMetsX",
        "outputId": "1812c45f-4d6c-4102-d349-7615d8ce2732"
      },
      "execution_count": 88,
      "outputs": [
        {
          "output_type": "execute_result",
          "data": {
            "text/plain": [
              "(array([1., 2., 3., 4., 5., 6., 7.]),\n",
              " tensor([1., 2., 3., 4., 5., 6., 7.], dtype=torch.float64))"
            ]
          },
          "metadata": {},
          "execution_count": 88
        }
      ]
    },
    {
      "cell_type": "code",
      "source": [
        "array.dtype"
      ],
      "metadata": {
        "colab": {
          "base_uri": "https://localhost:8080/"
        },
        "id": "Hnec7KKChPUG",
        "outputId": "7b4f47d1-69ab-46e4-94b5-339875108451"
      },
      "execution_count": 89,
      "outputs": [
        {
          "output_type": "execute_result",
          "data": {
            "text/plain": [
              "dtype('float64')"
            ]
          },
          "metadata": {},
          "execution_count": 89
        }
      ]
    },
    {
      "cell_type": "code",
      "source": [
        " #torch.arange(1.0,8.0).dtype"
      ],
      "metadata": {
        "id": "LqCng9mthVfa"
      },
      "execution_count": 90,
      "outputs": []
    },
    {
      "cell_type": "code",
      "source": [
        "# change the value of array, what will this do to 'tensor'?\n",
        "array = array + 1\n",
        "array, tensor"
      ],
      "metadata": {
        "colab": {
          "base_uri": "https://localhost:8080/"
        },
        "id": "Eg13cJvkhcEb",
        "outputId": "19baceb8-aa9c-4b0e-a0fb-6ca8ad12f613"
      },
      "execution_count": 91,
      "outputs": [
        {
          "output_type": "execute_result",
          "data": {
            "text/plain": [
              "(array([2., 3., 4., 5., 6., 7., 8.]),\n",
              " tensor([1., 2., 3., 4., 5., 6., 7.], dtype=torch.float64))"
            ]
          },
          "metadata": {},
          "execution_count": 91
        }
      ]
    },
    {
      "cell_type": "code",
      "source": [
        "# tensor to numpy array\n",
        "tensor= torch.ones(7)\n",
        "numpy_tensor = tensor.numpy()\n",
        "tensor,numpy_tensor"
      ],
      "metadata": {
        "colab": {
          "base_uri": "https://localhost:8080/"
        },
        "id": "WqJTiL_rhmaN",
        "outputId": "d6580668-209b-4497-e87b-2263bd81bc23"
      },
      "execution_count": 92,
      "outputs": [
        {
          "output_type": "execute_result",
          "data": {
            "text/plain": [
              "(tensor([1., 1., 1., 1., 1., 1., 1.]),\n",
              " array([1., 1., 1., 1., 1., 1., 1.], dtype=float32))"
            ]
          },
          "metadata": {},
          "execution_count": 92
        }
      ]
    },
    {
      "cell_type": "code",
      "source": [
        "# change the tensor , what happens to 'numpy_tensor'\n",
        "tensor = tensor +1\n",
        "tensor, numpy_tensor"
      ],
      "metadata": {
        "colab": {
          "base_uri": "https://localhost:8080/"
        },
        "id": "rtKZfGMWipkS",
        "outputId": "983cb797-8bb4-4d52-9af9-960f542b1a51"
      },
      "execution_count": 93,
      "outputs": [
        {
          "output_type": "execute_result",
          "data": {
            "text/plain": [
              "(tensor([2., 2., 2., 2., 2., 2., 2.]),\n",
              " array([1., 1., 1., 1., 1., 1., 1.], dtype=float32))"
            ]
          },
          "metadata": {},
          "execution_count": 93
        }
      ]
    },
    {
      "cell_type": "markdown",
      "source": [
        "## Reproducbility (trying to take random out of random)\n",
        "\n",
        "In short how a neural network learns:\n",
        "\n",
        "start with random numbers -> tensor operations -> update random no.s to try and make them representations of the data -> again -> again p> again ...\n",
        "\n",
        "To reduce the randomness in neural networks and Pytorch comes the concept of random seed\n",
        "\n",
        "Esentially what the random seed does in the 'flavor' the randomness"
      ],
      "metadata": {
        "id": "OHgIDRpljmpS"
      }
    },
    {
      "cell_type": "code",
      "source": [
        "import torch\n",
        "# create two rand tensores\n",
        "random_tensor_A = torch.rand(3,4)\n",
        "random_tensor_B = torch.rand(3,4)\n",
        "\n",
        "print(random_tensor_A)\n",
        "print(random_tensor_B)\n",
        "print(random_tensor_A == random_tensor_B)"
      ],
      "metadata": {
        "colab": {
          "base_uri": "https://localhost:8080/"
        },
        "id": "NILNP_VRjN2h",
        "outputId": "add996c8-9892-4458-b7cc-e4524e789e2e"
      },
      "execution_count": 94,
      "outputs": [
        {
          "output_type": "stream",
          "name": "stdout",
          "text": [
            "tensor([[0.1729, 0.7850, 0.8444, 0.1953],\n",
            "        [0.4997, 0.8155, 0.5111, 0.1662],\n",
            "        [0.0103, 0.3812, 0.9596, 0.0617]])\n",
            "tensor([[0.9178, 0.0989, 0.7786, 0.6516],\n",
            "        [0.9859, 0.5882, 0.6345, 0.9735],\n",
            "        [0.2571, 0.7856, 0.2686, 0.8072]])\n",
            "tensor([[False, False, False, False],\n",
            "        [False, False, False, False],\n",
            "        [False, False, False, False]])\n"
          ]
        }
      ]
    },
    {
      "cell_type": "code",
      "source": [
        "# lets make rand but reproducable tensors\n",
        "import torch\n",
        "\n",
        "RANDOM_SEED = 42\n",
        "torch.manual_seed(RANDOM_SEED)\n",
        "random_tensor_C = torch.rand(3,4)   # first tensor\n",
        "\n",
        "\n",
        "torch.manual_seed(RANDOM_SEED)\n",
        "random_tensor_D = torch.rand(3,4)   # second tensor continues RNG\n",
        "\n",
        "print(random_tensor_C)\n",
        "print(random_tensor_D)\n",
        "print(random_tensor_C == random_tensor_D)\n"
      ],
      "metadata": {
        "colab": {
          "base_uri": "https://localhost:8080/"
        },
        "id": "OZQ7Z_4RkJyp",
        "outputId": "344dc1e2-71b9-4667-f59e-a5c2dbb6898a"
      },
      "execution_count": 95,
      "outputs": [
        {
          "output_type": "stream",
          "name": "stdout",
          "text": [
            "tensor([[0.8823, 0.9150, 0.3829, 0.9593],\n",
            "        [0.3904, 0.6009, 0.2566, 0.7936],\n",
            "        [0.9408, 0.1332, 0.9346, 0.5936]])\n",
            "tensor([[0.8823, 0.9150, 0.3829, 0.9593],\n",
            "        [0.3904, 0.6009, 0.2566, 0.7936],\n",
            "        [0.9408, 0.1332, 0.9346, 0.5936]])\n",
            "tensor([[True, True, True, True],\n",
            "        [True, True, True, True],\n",
            "        [True, True, True, True]])\n"
          ]
        }
      ]
    },
    {
      "cell_type": "markdown",
      "source": [
        "## Running tensors and Pytorch objects on the GPUs (and making faster computations)\n",
        "\n",
        "GPU = faster computation on nos\n"
      ],
      "metadata": {
        "id": "UJtoz7F7v7xS"
      }
    },
    {
      "cell_type": "markdown",
      "source": [
        "### 1. Getting a GPU\n",
        "\n",
        "Easiest - User Google collab fo1 a free GPU\n",
        "\n",
        "Use your own GPU - investment req\n",
        "\n",
        "use cloud comuting- GCP, AWS,Azure these services allow you to rent computers on the cloud and access them"
      ],
      "metadata": {
        "id": "tkNx8JEewM79"
      }
    },
    {
      "cell_type": "code",
      "source": [
        "! nvidia-smi"
      ],
      "metadata": {
        "colab": {
          "base_uri": "https://localhost:8080/"
        },
        "id": "0AOOWGOowMnC",
        "outputId": "d73f1602-bdd3-4e74-d671-c29d918e77a1"
      },
      "execution_count": 96,
      "outputs": [
        {
          "output_type": "stream",
          "name": "stdout",
          "text": [
            "/bin/bash: line 1: nvidia-smi: command not found\n"
          ]
        }
      ]
    },
    {
      "cell_type": "markdown",
      "source": [
        "### 2. check GPU with Pytorch"
      ],
      "metadata": {
        "id": "-yhqBA1e1yIg"
      }
    },
    {
      "cell_type": "code",
      "source": [
        "# check for GPU access with Pytorch\n",
        "import torch\n",
        "torch.cuda.is_available()"
      ],
      "metadata": {
        "colab": {
          "base_uri": "https://localhost:8080/"
        },
        "id": "i6pXzua6lytH",
        "outputId": "c2423982-ff7e-44eb-fe22-882dd7fd4e26"
      },
      "execution_count": 97,
      "outputs": [
        {
          "output_type": "execute_result",
          "data": {
            "text/plain": [
              "False"
            ]
          },
          "metadata": {},
          "execution_count": 97
        }
      ]
    },
    {
      "cell_type": "code",
      "source": [
        "# Setup device agnostic code\n",
        "device = \"cuda\" if torch.cuda.is_available() else \"cpu\"\n",
        "device"
      ],
      "metadata": {
        "colab": {
          "base_uri": "https://localhost:8080/",
          "height": 36
        },
        "id": "tL5diZpn2Iv2",
        "outputId": "501615a0-35c0-47cc-cb20-2bc3ca1aa321"
      },
      "execution_count": 98,
      "outputs": [
        {
          "output_type": "execute_result",
          "data": {
            "text/plain": [
              "'cpu'"
            ],
            "application/vnd.google.colaboratory.intrinsic+json": {
              "type": "string"
            }
          },
          "metadata": {},
          "execution_count": 98
        }
      ]
    },
    {
      "cell_type": "markdown",
      "source": [
        "device agnostic code"
      ],
      "metadata": {
        "id": "rN9agLrc2pgB"
      }
    },
    {
      "cell_type": "markdown",
      "source": [
        "for pytorch its capable of running computeon the GPU or CPU,its best pratices to setup device agnostic code"
      ],
      "metadata": {
        "id": "dJ_8Kg_92tW3"
      }
    },
    {
      "cell_type": "code",
      "source": [
        "# Count number of devices\n",
        "torch.cuda.device_count()"
      ],
      "metadata": {
        "colab": {
          "base_uri": "https://localhost:8080/"
        },
        "id": "66Pfp30x2XwB",
        "outputId": "5d6e0b91-6a51-4b80-de78-aad2940bbd80"
      },
      "execution_count": 99,
      "outputs": [
        {
          "output_type": "execute_result",
          "data": {
            "text/plain": [
              "0"
            ]
          },
          "metadata": {},
          "execution_count": 99
        }
      ]
    },
    {
      "cell_type": "markdown",
      "source": [
        "## 3. putting tensors (and models) on the GPU"
      ],
      "metadata": {
        "id": "Oy0vLas33RG6"
      }
    },
    {
      "cell_type": "code",
      "source": [
        "# Create a tensor (default on the CPU)\n",
        "tensor = torch.tensor([1,2,3])\n",
        "\n",
        "# Tensor not on GPU\n",
        "print(tensor,tensor.device)"
      ],
      "metadata": {
        "colab": {
          "base_uri": "https://localhost:8080/"
        },
        "id": "hnUZT9lA2mtR",
        "outputId": "9c0200a4-adca-407c-f416-ca102486fa75"
      },
      "execution_count": 101,
      "outputs": [
        {
          "output_type": "stream",
          "name": "stdout",
          "text": [
            "tensor([1, 2, 3]) cpu\n"
          ]
        }
      ]
    },
    {
      "cell_type": "code",
      "source": [
        "# move tensor to GPU (if available)\n",
        "tensor_on_gpu = tensor.to(device)\n",
        "tensor_on_gpu"
      ],
      "metadata": {
        "id": "oTt1IHrf-izj",
        "outputId": "3fdd1540-5cf7-4994-a666-0bcf7ee2b09c",
        "colab": {
          "base_uri": "https://localhost:8080/"
        }
      },
      "execution_count": 103,
      "outputs": [
        {
          "output_type": "execute_result",
          "data": {
            "text/plain": [
              "tensor([1, 2, 3])"
            ]
          },
          "metadata": {},
          "execution_count": 103
        }
      ]
    },
    {
      "cell_type": "code",
      "source": [],
      "metadata": {
        "id": "gN7PA8L3-1WR"
      },
      "execution_count": null,
      "outputs": []
    }
  ]
}