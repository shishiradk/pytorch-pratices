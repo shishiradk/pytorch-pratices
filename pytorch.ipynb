{
  "nbformat": 4,
  "nbformat_minor": 0,
  "metadata": {
    "colab": {
      "provenance": [],
      "gpuType": "T4",
      "authorship_tag": "ABX9TyMu7j5hNv1J7g3lG+bv5NIr",
      "include_colab_link": true
    },
    "kernelspec": {
      "name": "python3",
      "display_name": "Python 3"
    },
    "language_info": {
      "name": "python"
    },
    "accelerator": "GPU"
  },
  "cells": [
    {
      "cell_type": "markdown",
      "metadata": {
        "id": "view-in-github",
        "colab_type": "text"
      },
      "source": [
        "<a href=\"https://colab.research.google.com/github/shishiradk/pytorch-pratices/blob/main/pytorch.ipynb\" target=\"_parent\"><img src=\"https://colab.research.google.com/assets/colab-badge.svg\" alt=\"Open In Colab\"/></a>"
      ]
    },
    {
      "cell_type": "code",
      "execution_count": 73,
      "metadata": {
        "colab": {
          "base_uri": "https://localhost:8080/"
        },
        "id": "Ipxmmm-BuHoq",
        "outputId": "775ccfe4-fe4d-45ac-a4f6-5a784793a9e3"
      },
      "outputs": [
        {
          "output_type": "stream",
          "name": "stdout",
          "text": [
            "Sun Aug 24 03:37:12 2025       \n",
            "+-----------------------------------------------------------------------------------------+\n",
            "| NVIDIA-SMI 550.54.15              Driver Version: 550.54.15      CUDA Version: 12.4     |\n",
            "|-----------------------------------------+------------------------+----------------------+\n",
            "| GPU  Name                 Persistence-M | Bus-Id          Disp.A | Volatile Uncorr. ECC |\n",
            "| Fan  Temp   Perf          Pwr:Usage/Cap |           Memory-Usage | GPU-Util  Compute M. |\n",
            "|                                         |                        |               MIG M. |\n",
            "|=========================================+========================+======================|\n",
            "|   0  Tesla T4                       Off |   00000000:00:04.0 Off |                    0 |\n",
            "| N/A   39C    P8              9W /   70W |       0MiB /  15360MiB |      0%      Default |\n",
            "|                                         |                        |                  N/A |\n",
            "+-----------------------------------------+------------------------+----------------------+\n",
            "                                                                                         \n",
            "+-----------------------------------------------------------------------------------------+\n",
            "| Processes:                                                                              |\n",
            "|  GPU   GI   CI        PID   Type   Process name                              GPU Memory |\n",
            "|        ID   ID                                                               Usage      |\n",
            "|=========================================================================================|\n",
            "|  No running processes found                                                             |\n",
            "+-----------------------------------------------------------------------------------------+\n"
          ]
        }
      ],
      "source": [
        "!nvidia-smi\n"
      ]
    },
    {
      "cell_type": "code",
      "source": [
        "import numpy as np\n",
        "import pandas as pd\n",
        "import matplotlib.pyplot as plt\n",
        "import torch\n",
        "print(torch.__version__)"
      ],
      "metadata": {
        "colab": {
          "base_uri": "https://localhost:8080/"
        },
        "id": "eZa8yggluhDq",
        "outputId": "5906c31e-4a71-4572-fa7a-ffa66b6eb62c"
      },
      "execution_count": 74,
      "outputs": [
        {
          "output_type": "stream",
          "name": "stdout",
          "text": [
            "2.8.0+cu126\n"
          ]
        }
      ]
    },
    {
      "cell_type": "markdown",
      "source": [
        "introduction to tensors\n",
        "creating tensor"
      ],
      "metadata": {
        "id": "0T04eZk0w0gf"
      }
    },
    {
      "cell_type": "markdown",
      "source": [],
      "metadata": {
        "id": "BRYigiaOw3Fh"
      }
    },
    {
      "cell_type": "code",
      "source": [
        "#scalar\n",
        "scalar = torch.tensor(7)\n",
        "scalar\n"
      ],
      "metadata": {
        "colab": {
          "base_uri": "https://localhost:8080/"
        },
        "id": "E78psR9bwJyK",
        "outputId": "4f219066-9144-46a6-d29c-7ee8f72a3d26"
      },
      "execution_count": 75,
      "outputs": [
        {
          "output_type": "execute_result",
          "data": {
            "text/plain": [
              "tensor(7)"
            ]
          },
          "metadata": {},
          "execution_count": 75
        }
      ]
    },
    {
      "cell_type": "code",
      "source": [
        "scalar.ndim"
      ],
      "metadata": {
        "colab": {
          "base_uri": "https://localhost:8080/"
        },
        "id": "IqIfhYWywrSG",
        "outputId": "9446b622-dee9-4d84-c891-027ed2ca0ce9"
      },
      "execution_count": 76,
      "outputs": [
        {
          "output_type": "execute_result",
          "data": {
            "text/plain": [
              "0"
            ]
          },
          "metadata": {},
          "execution_count": 76
        }
      ]
    },
    {
      "cell_type": "code",
      "source": [
        "#get tensor back as python int\n",
        "scalar.item()"
      ],
      "metadata": {
        "colab": {
          "base_uri": "https://localhost:8080/"
        },
        "id": "g57NNznbyB6a",
        "outputId": "ac61cbe2-7e8e-4991-926f-625d7fb48526"
      },
      "execution_count": 77,
      "outputs": [
        {
          "output_type": "execute_result",
          "data": {
            "text/plain": [
              "7"
            ]
          },
          "metadata": {},
          "execution_count": 77
        }
      ]
    },
    {
      "cell_type": "code",
      "source": [
        "#vector\n",
        "vector = torch.tensor([7,7])\n",
        "vector"
      ],
      "metadata": {
        "colab": {
          "base_uri": "https://localhost:8080/"
        },
        "id": "am4C3NNzyOLN",
        "outputId": "ec2d7098-52d3-4109-fc4a-97d3db57f476"
      },
      "execution_count": 78,
      "outputs": [
        {
          "output_type": "execute_result",
          "data": {
            "text/plain": [
              "tensor([7, 7])"
            ]
          },
          "metadata": {},
          "execution_count": 78
        }
      ]
    },
    {
      "cell_type": "code",
      "source": [
        "vector.ndim"
      ],
      "metadata": {
        "colab": {
          "base_uri": "https://localhost:8080/"
        },
        "id": "UG3w44iRyh9b",
        "outputId": "55f3a44f-fa42-4d3b-e5f7-ba5242cd58ca"
      },
      "execution_count": 79,
      "outputs": [
        {
          "output_type": "execute_result",
          "data": {
            "text/plain": [
              "1"
            ]
          },
          "metadata": {},
          "execution_count": 79
        }
      ]
    },
    {
      "cell_type": "code",
      "source": [
        "vector.shape"
      ],
      "metadata": {
        "colab": {
          "base_uri": "https://localhost:8080/"
        },
        "id": "T4ieiQRyymB1",
        "outputId": "23fe8ef3-770f-49c4-f76c-cc2e1028ee11"
      },
      "execution_count": 80,
      "outputs": [
        {
          "output_type": "execute_result",
          "data": {
            "text/plain": [
              "torch.Size([2])"
            ]
          },
          "metadata": {},
          "execution_count": 80
        }
      ]
    },
    {
      "cell_type": "code",
      "source": [
        "#matrix\n",
        "MATRIX = torch.tensor([[7,8],\n",
        "                      [9,10]])\n",
        "MATRIX\n"
      ],
      "metadata": {
        "colab": {
          "base_uri": "https://localhost:8080/"
        },
        "id": "wexINEwqyolb",
        "outputId": "ae1fac68-3732-4b8d-d844-1d5ef70f6829"
      },
      "execution_count": 81,
      "outputs": [
        {
          "output_type": "execute_result",
          "data": {
            "text/plain": [
              "tensor([[ 7,  8],\n",
              "        [ 9, 10]])"
            ]
          },
          "metadata": {},
          "execution_count": 81
        }
      ]
    },
    {
      "cell_type": "code",
      "source": [
        "MATRIX.ndim"
      ],
      "metadata": {
        "colab": {
          "base_uri": "https://localhost:8080/"
        },
        "id": "Xm7PGAG1zEBZ",
        "outputId": "da86ae0b-979d-456d-f354-1ef99d8b1f97"
      },
      "execution_count": 82,
      "outputs": [
        {
          "output_type": "execute_result",
          "data": {
            "text/plain": [
              "2"
            ]
          },
          "metadata": {},
          "execution_count": 82
        }
      ]
    },
    {
      "cell_type": "code",
      "source": [
        "MATRIX[1]"
      ],
      "metadata": {
        "colab": {
          "base_uri": "https://localhost:8080/"
        },
        "id": "EvoOzPJdzIgd",
        "outputId": "51c82075-f02f-4d39-c414-3fefbd9f78c6"
      },
      "execution_count": 83,
      "outputs": [
        {
          "output_type": "execute_result",
          "data": {
            "text/plain": [
              "tensor([ 9, 10])"
            ]
          },
          "metadata": {},
          "execution_count": 83
        }
      ]
    },
    {
      "cell_type": "code",
      "source": [
        "MATRIX.shape"
      ],
      "metadata": {
        "colab": {
          "base_uri": "https://localhost:8080/"
        },
        "id": "6eSRxHX2zOS4",
        "outputId": "65e49137-4ff1-46be-9431-c8cee9efa0c9"
      },
      "execution_count": 84,
      "outputs": [
        {
          "output_type": "execute_result",
          "data": {
            "text/plain": [
              "torch.Size([2, 2])"
            ]
          },
          "metadata": {},
          "execution_count": 84
        }
      ]
    },
    {
      "cell_type": "code",
      "source": [
        "#TENSOR\n",
        "TENSOR = torch.tensor([[[1,2,4],\n",
        "                         [2,3,4],\n",
        "                         [4,5,6]]])"
      ],
      "metadata": {
        "id": "8950TfPczRPv"
      },
      "execution_count": 85,
      "outputs": []
    },
    {
      "cell_type": "code",
      "source": [
        "TENSOR"
      ],
      "metadata": {
        "colab": {
          "base_uri": "https://localhost:8080/"
        },
        "id": "SJ2MSdj7zqLW",
        "outputId": "5da96a9b-663e-4779-cf68-5fa0db73f1ac"
      },
      "execution_count": 86,
      "outputs": [
        {
          "output_type": "execute_result",
          "data": {
            "text/plain": [
              "tensor([[[1, 2, 4],\n",
              "         [2, 3, 4],\n",
              "         [4, 5, 6]]])"
            ]
          },
          "metadata": {},
          "execution_count": 86
        }
      ]
    },
    {
      "cell_type": "code",
      "source": [
        "TENSOR.ndim"
      ],
      "metadata": {
        "colab": {
          "base_uri": "https://localhost:8080/"
        },
        "id": "LUFlW-blztOy",
        "outputId": "030dd17e-ac9f-4723-b214-e344a53309fc"
      },
      "execution_count": 87,
      "outputs": [
        {
          "output_type": "execute_result",
          "data": {
            "text/plain": [
              "3"
            ]
          },
          "metadata": {},
          "execution_count": 87
        }
      ]
    },
    {
      "cell_type": "code",
      "source": [
        "TENSOR.shape"
      ],
      "metadata": {
        "colab": {
          "base_uri": "https://localhost:8080/"
        },
        "id": "NOi9qPb9zvmF",
        "outputId": "82e38d0d-ee3e-46a8-980e-2185a88bf9d6"
      },
      "execution_count": 88,
      "outputs": [
        {
          "output_type": "execute_result",
          "data": {
            "text/plain": [
              "torch.Size([1, 3, 3])"
            ]
          },
          "metadata": {},
          "execution_count": 88
        }
      ]
    },
    {
      "cell_type": "code",
      "source": [
        "TENSOR[0]"
      ],
      "metadata": {
        "colab": {
          "base_uri": "https://localhost:8080/"
        },
        "id": "6eeTCFwtzyJi",
        "outputId": "9a66aacb-1aea-473d-c362-a01aa85f0c46"
      },
      "execution_count": 89,
      "outputs": [
        {
          "output_type": "execute_result",
          "data": {
            "text/plain": [
              "tensor([[1, 2, 4],\n",
              "        [2, 3, 4],\n",
              "        [4, 5, 6]])"
            ]
          },
          "metadata": {},
          "execution_count": 89
        }
      ]
    },
    {
      "cell_type": "code",
      "source": [
        "TENSOR = torch.tensor([[[6,7,8],\n",
        "                        [5,6,7],\n",
        "                        [4,5,6]]])\n",
        "TENSOR"
      ],
      "metadata": {
        "colab": {
          "base_uri": "https://localhost:8080/"
        },
        "id": "ET2lqt--z0gu",
        "outputId": "18127a90-5145-4577-fd7f-48ee20729873"
      },
      "execution_count": 90,
      "outputs": [
        {
          "output_type": "execute_result",
          "data": {
            "text/plain": [
              "tensor([[[6, 7, 8],\n",
              "         [5, 6, 7],\n",
              "         [4, 5, 6]]])"
            ]
          },
          "metadata": {},
          "execution_count": 90
        }
      ]
    },
    {
      "cell_type": "code",
      "source": [
        "TENSOR.ndim"
      ],
      "metadata": {
        "colab": {
          "base_uri": "https://localhost:8080/"
        },
        "id": "CsuKrOcMz27a",
        "outputId": "f6452d25-5011-48d7-cbb6-ed5c26905f96"
      },
      "execution_count": 91,
      "outputs": [
        {
          "output_type": "execute_result",
          "data": {
            "text/plain": [
              "3"
            ]
          },
          "metadata": {},
          "execution_count": 91
        }
      ]
    },
    {
      "cell_type": "code",
      "source": [
        "TENSOR.shape"
      ],
      "metadata": {
        "colab": {
          "base_uri": "https://localhost:8080/"
        },
        "id": "B0LmokBZ_UwJ",
        "outputId": "34ba2aa8-f1a7-465a-9a78-3cae42865841"
      },
      "execution_count": 92,
      "outputs": [
        {
          "output_type": "execute_result",
          "data": {
            "text/plain": [
              "torch.Size([1, 3, 3])"
            ]
          },
          "metadata": {},
          "execution_count": 92
        }
      ]
    },
    {
      "cell_type": "code",
      "source": [
        "TENSOR[0]"
      ],
      "metadata": {
        "colab": {
          "base_uri": "https://localhost:8080/"
        },
        "id": "xUU7BC75_YAa",
        "outputId": "ae04500a-b93f-461d-9f46-3314eec7413b"
      },
      "execution_count": 93,
      "outputs": [
        {
          "output_type": "execute_result",
          "data": {
            "text/plain": [
              "tensor([[6, 7, 8],\n",
              "        [5, 6, 7],\n",
              "        [4, 5, 6]])"
            ]
          },
          "metadata": {},
          "execution_count": 93
        }
      ]
    },
    {
      "cell_type": "code",
      "source": [
        "#create a random tensor of size (3,4)\n",
        "random_tensor = torch.rand(10,10,10)\n",
        "random_tensor"
      ],
      "metadata": {
        "colab": {
          "base_uri": "https://localhost:8080/"
        },
        "id": "gTsFrcdZ_coi",
        "outputId": "6785c167-5ca1-448a-895e-d31374be1f73"
      },
      "execution_count": 94,
      "outputs": [
        {
          "output_type": "execute_result",
          "data": {
            "text/plain": [
              "tensor([[[1.1330e-01, 4.4635e-01, 4.5589e-01, 3.5026e-01, 9.2456e-01,\n",
              "          3.2796e-01, 6.8752e-01, 8.5322e-01, 8.2704e-01, 1.0302e-01],\n",
              "         [6.0384e-01, 3.7614e-01, 6.9420e-02, 5.0136e-01, 8.3909e-01,\n",
              "          8.4769e-01, 9.2319e-01, 4.2433e-01, 2.8893e-01, 1.6201e-01],\n",
              "         [5.3473e-01, 7.3857e-01, 5.4894e-01, 4.2869e-01, 6.4818e-01,\n",
              "          2.2247e-02, 5.1205e-03, 5.1873e-01, 4.9536e-01, 6.3689e-01],\n",
              "         [3.8759e-01, 4.4185e-02, 4.0849e-01, 7.1307e-01, 9.9050e-01,\n",
              "          4.0908e-01, 7.3192e-01, 3.5860e-01, 2.4347e-01, 8.9913e-01],\n",
              "         [2.3948e-01, 4.6481e-02, 2.6360e-01, 8.3300e-01, 6.8007e-01,\n",
              "          7.3169e-01, 8.4832e-01, 6.5081e-01, 2.3814e-01, 5.4152e-02],\n",
              "         [2.9380e-01, 9.2912e-04, 5.9171e-01, 5.0135e-02, 3.6381e-01,\n",
              "          8.0526e-01, 9.9486e-01, 2.5747e-01, 7.3672e-01, 1.1417e-01],\n",
              "         [1.4851e-01, 5.2231e-01, 7.9803e-01, 1.3420e-01, 7.2724e-01,\n",
              "          4.6701e-01, 1.4614e-01, 4.5198e-01, 5.6975e-02, 4.5971e-01],\n",
              "         [1.1467e-01, 8.2934e-01, 9.8368e-01, 7.8130e-01, 1.9418e-01,\n",
              "          3.8709e-01, 1.4901e-01, 6.8591e-01, 3.3493e-01, 4.9277e-01],\n",
              "         [4.4493e-01, 3.8325e-02, 9.4173e-01, 9.2119e-01, 5.4651e-01,\n",
              "          3.3257e-01, 9.8645e-01, 5.3283e-01, 5.5760e-01, 3.8912e-01],\n",
              "         [5.1197e-01, 1.5548e-01, 4.8104e-01, 1.7718e-01, 7.9229e-01,\n",
              "          8.2962e-01, 9.0407e-01, 6.5507e-01, 4.1556e-01, 2.8086e-02]],\n",
              "\n",
              "        [[8.5117e-01, 5.9836e-01, 9.4946e-01, 7.6314e-01, 2.7688e-02,\n",
              "          8.1240e-01, 4.2915e-01, 3.8482e-01, 7.6302e-03, 6.5372e-01],\n",
              "         [4.2595e-01, 7.0459e-01, 7.3801e-01, 2.3001e-01, 6.8726e-01,\n",
              "          1.8101e-01, 7.4975e-01, 1.2251e-01, 9.5505e-01, 5.4609e-02],\n",
              "         [5.7037e-01, 6.4185e-01, 8.7348e-01, 7.1767e-02, 1.4215e-01,\n",
              "          9.9043e-01, 5.5940e-01, 8.0825e-01, 6.8473e-02, 2.1381e-01],\n",
              "         [4.0627e-01, 1.5874e-01, 8.6184e-02, 7.5987e-01, 2.9294e-01,\n",
              "          9.7760e-01, 8.7312e-01, 5.3270e-01, 9.9867e-01, 4.9617e-01],\n",
              "         [8.4335e-01, 2.2406e-02, 1.6256e-01, 5.8330e-01, 3.6511e-01,\n",
              "          3.3643e-01, 2.6628e-01, 1.0033e-01, 5.5195e-01, 8.9510e-01],\n",
              "         [5.6804e-01, 5.9727e-01, 4.3179e-01, 8.5231e-01, 9.9673e-01,\n",
              "          9.3167e-01, 5.0913e-02, 3.1239e-01, 5.8950e-01, 1.1537e-01],\n",
              "         [1.1245e-01, 7.6075e-01, 3.5112e-01, 6.5198e-01, 8.8156e-01,\n",
              "          5.7863e-01, 1.2641e-01, 2.9359e-01, 1.3404e-01, 4.5668e-01],\n",
              "         [3.0507e-01, 5.2291e-01, 8.5981e-01, 2.8158e-01, 6.8064e-01,\n",
              "          7.9092e-01, 2.7882e-01, 9.0553e-01, 3.8616e-01, 6.8773e-01],\n",
              "         [8.7108e-02, 3.3620e-01, 1.2962e-01, 5.9047e-01, 9.6792e-01,\n",
              "          2.4508e-01, 4.3492e-01, 7.2405e-01, 5.8422e-01, 1.7543e-01],\n",
              "         [1.2704e-01, 3.2058e-01, 7.3300e-02, 1.6269e-01, 4.0688e-01,\n",
              "          7.6316e-01, 6.0613e-01, 4.8645e-01, 7.1771e-01, 6.1219e-01]],\n",
              "\n",
              "        [[9.9266e-01, 8.0204e-01, 8.9393e-01, 1.9284e-01, 6.8026e-01,\n",
              "          9.5168e-01, 1.1205e-01, 2.9354e-02, 5.7605e-01, 6.5341e-01],\n",
              "         [3.0428e-01, 4.4427e-01, 8.9778e-01, 6.0105e-02, 6.6100e-01,\n",
              "          3.5582e-01, 7.9198e-01, 8.3384e-01, 9.5878e-01, 3.2727e-01],\n",
              "         [3.5614e-01, 7.0590e-01, 8.0392e-01, 2.2580e-01, 3.3478e-01,\n",
              "          6.1807e-01, 6.0231e-01, 7.4028e-01, 4.9860e-01, 3.6435e-01],\n",
              "         [2.3990e-01, 7.9973e-01, 2.0951e-01, 9.8094e-01, 6.1399e-02,\n",
              "          7.9487e-01, 3.5468e-01, 2.8975e-01, 2.2523e-01, 7.1189e-01],\n",
              "         [5.4968e-01, 9.7469e-01, 7.3894e-01, 6.4827e-01, 9.9065e-01,\n",
              "          8.5966e-01, 1.2025e-01, 8.2111e-01, 5.6249e-01, 2.3749e-01],\n",
              "         [7.5959e-01, 9.1751e-01, 9.0015e-02, 1.4339e-01, 9.5943e-01,\n",
              "          7.9179e-01, 1.1266e-01, 8.8349e-01, 4.5644e-01, 2.3214e-01],\n",
              "         [3.6245e-01, 3.4268e-01, 6.6698e-01, 9.4094e-01, 5.5057e-01,\n",
              "          8.7290e-01, 9.3191e-01, 4.9093e-02, 8.0485e-01, 7.8361e-01],\n",
              "         [1.6573e-01, 4.5512e-02, 9.1909e-01, 6.7392e-01, 2.3877e-01,\n",
              "          6.9833e-01, 9.9618e-01, 2.2910e-01, 7.8261e-01, 7.8142e-01],\n",
              "         [4.4258e-01, 1.3444e-01, 3.5675e-01, 2.1490e-01, 6.7906e-01,\n",
              "          5.6097e-01, 6.9240e-01, 3.3111e-02, 5.6079e-01, 8.9354e-01],\n",
              "         [3.1040e-01, 3.4747e-01, 4.2161e-01, 4.4230e-01, 2.5124e-01,\n",
              "          4.0859e-01, 6.4632e-01, 9.3251e-01, 8.7777e-01, 1.2991e-01]],\n",
              "\n",
              "        [[8.8803e-01, 4.1513e-01, 6.8613e-01, 1.6758e-01, 6.4550e-01,\n",
              "          1.1234e-02, 2.5697e-01, 4.2479e-01, 1.7634e-01, 1.0878e-01],\n",
              "         [1.4187e-01, 7.4493e-01, 9.2045e-01, 9.8014e-01, 6.7921e-01,\n",
              "          1.4350e-01, 4.8660e-02, 3.1968e-01, 5.9576e-01, 1.2158e-01],\n",
              "         [3.5087e-01, 9.6359e-01, 1.5984e-01, 1.3480e-01, 8.5670e-01,\n",
              "          3.2932e-01, 7.4010e-01, 1.6462e-01, 4.2338e-01, 4.7388e-01],\n",
              "         [4.0156e-01, 5.0247e-01, 3.0965e-04, 3.4194e-01, 9.4151e-01,\n",
              "          3.5727e-01, 5.3559e-01, 5.8687e-01, 5.5551e-01, 9.3589e-01],\n",
              "         [2.7297e-01, 1.6836e-02, 3.8058e-01, 1.0686e-02, 5.4557e-01,\n",
              "          1.6291e-02, 5.8522e-01, 7.3199e-01, 4.4424e-01, 2.1253e-01],\n",
              "         [2.4840e-01, 8.7521e-02, 5.5462e-01, 8.3938e-01, 6.2080e-01,\n",
              "          7.0549e-01, 9.0831e-01, 8.1538e-01, 2.0962e-01, 9.7623e-01],\n",
              "         [6.9304e-01, 8.3397e-01, 7.0584e-01, 6.7450e-01, 6.6671e-01,\n",
              "          4.6776e-01, 9.3821e-02, 8.1529e-01, 5.0497e-02, 4.0670e-01],\n",
              "         [6.5856e-01, 2.6208e-01, 6.0105e-01, 8.1123e-01, 7.9180e-01,\n",
              "          5.7417e-01, 9.7590e-01, 9.7008e-01, 1.7567e-01, 4.4309e-01],\n",
              "         [5.9058e-01, 4.3501e-01, 5.0475e-01, 9.9900e-01, 5.0815e-02,\n",
              "          6.7024e-01, 6.8146e-02, 5.1324e-01, 2.2208e-01, 9.6983e-01],\n",
              "         [4.4123e-01, 8.8859e-01, 3.0082e-01, 7.0980e-02, 6.2857e-01,\n",
              "          9.2509e-01, 2.9563e-01, 1.2703e-01, 3.7637e-02, 8.2896e-01]],\n",
              "\n",
              "        [[7.8687e-01, 6.4516e-02, 9.5218e-01, 2.1626e-01, 5.5690e-01,\n",
              "          4.8323e-02, 1.9376e-01, 9.5093e-01, 5.2842e-01, 9.7901e-01],\n",
              "         [9.5030e-01, 8.4284e-01, 5.1762e-01, 4.2526e-01, 4.1893e-01,\n",
              "          3.3874e-01, 5.2430e-01, 3.9542e-01, 8.3908e-01, 8.8718e-02],\n",
              "         [8.3450e-01, 2.3851e-01, 8.4533e-01, 6.8728e-01, 1.8821e-01,\n",
              "          8.6358e-01, 5.2267e-01, 4.5233e-01, 5.8573e-01, 1.0565e-01],\n",
              "         [4.0904e-02, 8.4000e-01, 9.3917e-01, 3.3668e-01, 5.9870e-01,\n",
              "          3.5862e-01, 9.5923e-01, 2.9169e-02, 2.9280e-01, 5.7244e-01],\n",
              "         [6.7643e-01, 6.0392e-02, 1.0449e-01, 7.4840e-01, 6.8834e-02,\n",
              "          4.7942e-01, 5.9905e-01, 8.1002e-01, 6.8537e-01, 8.2321e-01],\n",
              "         [7.6189e-01, 1.6514e-01, 6.0231e-01, 1.1505e-01, 8.1280e-01,\n",
              "          7.0178e-01, 2.7830e-01, 5.4361e-01, 3.1284e-01, 5.4209e-01],\n",
              "         [3.5827e-01, 2.9481e-01, 4.4584e-01, 9.4213e-01, 6.9759e-01,\n",
              "          8.3917e-01, 2.2078e-01, 4.6875e-02, 8.4803e-01, 2.7118e-01],\n",
              "         [5.0394e-01, 3.5930e-01, 5.7047e-01, 7.3921e-01, 4.0874e-01,\n",
              "          8.9582e-01, 7.4313e-01, 4.0462e-01, 8.3504e-01, 7.6698e-01],\n",
              "         [6.9713e-02, 6.1759e-01, 7.5061e-01, 9.7934e-01, 2.2778e-01,\n",
              "          1.3819e-01, 3.5155e-01, 2.7918e-01, 1.9398e-01, 6.1440e-01],\n",
              "         [1.6759e-01, 1.1931e-01, 4.0699e-01, 8.4973e-01, 9.4961e-01,\n",
              "          3.2587e-01, 8.3017e-02, 5.7377e-01, 4.4755e-01, 5.2653e-01]],\n",
              "\n",
              "        [[5.8323e-01, 9.5413e-01, 4.2379e-01, 6.1079e-01, 3.1034e-01,\n",
              "          7.5839e-02, 6.8590e-01, 4.5254e-01, 4.3165e-01, 9.2864e-01],\n",
              "         [7.8994e-01, 2.8288e-01, 4.0285e-01, 1.4079e-01, 2.9954e-02,\n",
              "          4.6224e-01, 7.1661e-01, 6.0863e-01, 5.3176e-01, 5.6362e-01],\n",
              "         [5.2436e-01, 7.8437e-01, 5.8495e-01, 5.4846e-01, 5.8431e-03,\n",
              "          6.3533e-01, 4.7066e-01, 3.7275e-01, 6.4578e-01, 4.7222e-01],\n",
              "         [1.2713e-01, 4.2694e-01, 9.7241e-01, 2.3763e-01, 9.2461e-01,\n",
              "          6.6829e-01, 5.6453e-01, 7.5001e-01, 9.7039e-01, 4.6164e-01],\n",
              "         [9.9973e-01, 5.9280e-01, 6.0656e-01, 9.6847e-01, 9.6102e-01,\n",
              "          3.1735e-01, 3.0810e-01, 5.2493e-02, 9.5384e-01, 8.8774e-01],\n",
              "         [8.6548e-01, 3.0562e-01, 1.3116e-01, 9.2479e-01, 9.4041e-01,\n",
              "          4.6004e-01, 9.0588e-01, 6.5339e-01, 5.4506e-01, 6.0495e-01],\n",
              "         [2.8903e-02, 2.1605e-01, 2.7857e-01, 8.5436e-01, 9.3772e-01,\n",
              "          4.0048e-01, 6.2009e-02, 3.1015e-01, 9.6770e-01, 3.7305e-01],\n",
              "         [6.4591e-01, 8.3659e-02, 7.6527e-01, 9.9949e-03, 4.6013e-01,\n",
              "          6.5837e-01, 4.0662e-01, 5.5378e-01, 1.5972e-01, 6.8333e-01],\n",
              "         [9.4463e-01, 3.3803e-02, 8.2240e-01, 6.1307e-01, 7.2302e-01,\n",
              "          2.7858e-01, 6.3744e-01, 1.1735e-01, 6.4969e-01, 5.5213e-01],\n",
              "         [9.1985e-01, 2.0090e-01, 2.5751e-01, 6.6728e-01, 1.4854e-01,\n",
              "          1.5408e-01, 2.6214e-01, 8.7847e-01, 3.7837e-01, 3.1251e-01]],\n",
              "\n",
              "        [[7.4182e-01, 2.9847e-01, 5.5284e-01, 8.1032e-01, 1.5094e-01,\n",
              "          6.1076e-01, 9.0677e-01, 6.0275e-01, 2.7518e-01, 8.9772e-01],\n",
              "         [8.9699e-01, 2.9236e-01, 5.2119e-01, 1.2310e-01, 6.8394e-01,\n",
              "          1.9590e-01, 1.3132e-01, 1.8078e-01, 5.9676e-01, 3.4950e-01],\n",
              "         [4.8975e-01, 8.3162e-01, 3.3810e-01, 4.1076e-01, 1.0318e-01,\n",
              "          4.9259e-01, 5.3393e-01, 2.7932e-02, 1.6920e-01, 3.1639e-01],\n",
              "         [8.0800e-01, 8.3608e-01, 2.7445e-01, 9.3207e-01, 6.5406e-01,\n",
              "          9.6840e-01, 2.3779e-01, 5.2798e-01, 1.6003e-01, 3.6069e-01],\n",
              "         [7.4044e-01, 4.8640e-01, 3.0736e-01, 2.7048e-01, 1.7962e-02,\n",
              "          2.9217e-01, 3.9441e-01, 5.0050e-01, 1.1121e-01, 2.2398e-01],\n",
              "         [5.1332e-02, 4.6344e-01, 2.1744e-01, 6.9127e-01, 8.4286e-01,\n",
              "          8.9016e-01, 5.3533e-01, 6.1116e-03, 6.0127e-01, 8.1192e-01],\n",
              "         [4.6835e-01, 8.3164e-01, 7.2201e-01, 6.9005e-01, 9.6704e-01,\n",
              "          1.2886e-01, 6.9883e-02, 6.9956e-01, 9.2001e-01, 9.3052e-01],\n",
              "         [1.3703e-01, 7.1881e-01, 5.2137e-01, 1.0421e-01, 9.5392e-01,\n",
              "          2.8040e-01, 8.0393e-01, 3.4106e-01, 1.7980e-01, 1.5940e-01],\n",
              "         [2.2530e-01, 9.9857e-01, 6.5238e-01, 3.6954e-01, 9.2805e-01,\n",
              "          6.2683e-01, 1.9120e-01, 3.5184e-01, 3.8457e-01, 9.7018e-02],\n",
              "         [6.0127e-01, 3.0843e-01, 1.3131e-01, 1.2716e-01, 9.8903e-01,\n",
              "          4.5155e-01, 6.6355e-01, 8.5119e-01, 8.6579e-01, 1.7360e-01]],\n",
              "\n",
              "        [[6.9581e-01, 4.7554e-01, 3.4955e-01, 9.5066e-01, 5.0472e-01,\n",
              "          4.3833e-01, 7.2759e-01, 2.5101e-01, 1.8772e-01, 8.4386e-01],\n",
              "         [2.2187e-01, 9.9484e-02, 9.7727e-01, 4.4171e-01, 9.1568e-01,\n",
              "          7.0450e-01, 7.6097e-03, 6.7324e-01, 2.7673e-01, 2.1707e-01],\n",
              "         [3.4394e-01, 7.8412e-01, 7.9881e-01, 1.6649e-01, 1.8732e-01,\n",
              "          2.6412e-01, 9.1981e-01, 2.0748e-01, 1.4893e-01, 6.7019e-02],\n",
              "         [7.5627e-01, 5.9938e-01, 7.8241e-01, 6.3523e-01, 4.0587e-01,\n",
              "          8.5760e-01, 3.0489e-01, 6.0787e-01, 7.9302e-01, 6.0512e-01],\n",
              "         [8.6385e-01, 1.9612e-01, 6.3357e-02, 1.9052e-01, 2.9571e-01,\n",
              "          8.9782e-01, 8.7655e-01, 8.9500e-01, 8.5797e-01, 5.7556e-01],\n",
              "         [4.5462e-01, 6.7848e-01, 4.0773e-01, 8.2996e-01, 5.5301e-01,\n",
              "          5.0654e-01, 9.8328e-01, 9.1476e-01, 4.8486e-01, 2.8867e-01],\n",
              "         [6.7946e-01, 2.2900e-01, 5.3771e-01, 4.6264e-01, 6.2176e-01,\n",
              "          2.9964e-01, 2.6916e-01, 1.2814e-01, 9.3520e-01, 9.4932e-01],\n",
              "         [8.7900e-01, 6.6983e-01, 3.8273e-02, 5.3003e-01, 8.4510e-01,\n",
              "          3.8058e-01, 7.3116e-01, 4.9153e-01, 5.8011e-01, 3.4299e-01],\n",
              "         [9.9501e-01, 1.8647e-01, 8.1202e-01, 2.2680e-01, 5.1289e-01,\n",
              "          3.9974e-01, 1.6150e-01, 1.9691e-01, 5.0745e-01, 7.6914e-01],\n",
              "         [4.2566e-01, 3.3894e-01, 6.7126e-01, 6.6684e-01, 6.2143e-01,\n",
              "          7.5748e-01, 3.3199e-01, 6.1696e-01, 3.4194e-01, 8.1958e-01]],\n",
              "\n",
              "        [[7.8714e-01, 4.8882e-01, 1.0555e-01, 6.4035e-01, 9.1480e-01,\n",
              "          9.4176e-01, 8.3774e-01, 1.3101e-01, 8.1677e-01, 6.9066e-02],\n",
              "         [8.4376e-01, 4.2865e-01, 4.8617e-02, 4.9337e-01, 4.0251e-02,\n",
              "          9.3972e-01, 4.3284e-01, 9.2559e-01, 9.1553e-01, 3.3670e-01],\n",
              "         [7.2956e-01, 5.4198e-01, 8.3697e-01, 7.5988e-01, 6.2311e-01,\n",
              "          8.5360e-01, 7.0085e-01, 2.5063e-01, 5.7353e-01, 9.2164e-01],\n",
              "         [6.1415e-01, 1.6603e-02, 7.6913e-01, 5.9731e-01, 2.0740e-01,\n",
              "          2.1017e-01, 4.7560e-01, 8.4949e-01, 9.9379e-01, 6.0927e-01],\n",
              "         [2.1881e-01, 5.2302e-02, 6.4374e-01, 2.3526e-02, 5.9377e-01,\n",
              "          2.0925e-02, 1.5228e-01, 2.6061e-01, 6.5378e-01, 5.9194e-01],\n",
              "         [7.5709e-01, 4.7138e-01, 8.5248e-01, 3.2895e-01, 7.1732e-01,\n",
              "          9.9645e-01, 3.6488e-01, 3.1559e-01, 9.7441e-01, 3.9962e-01],\n",
              "         [8.3320e-02, 7.9408e-01, 4.4732e-01, 2.5336e-01, 9.2618e-01,\n",
              "          2.6704e-01, 7.2997e-01, 7.9746e-01, 8.9475e-01, 3.3745e-01],\n",
              "         [8.6117e-01, 7.2615e-01, 1.8042e-01, 9.2005e-03, 3.4556e-01,\n",
              "          8.8183e-01, 1.0465e-01, 6.0297e-01, 3.3701e-01, 3.9831e-01],\n",
              "         [7.4378e-01, 9.0948e-01, 2.2409e-01, 1.2001e-02, 1.0213e-02,\n",
              "          1.9253e-01, 6.8544e-01, 4.7290e-01, 9.6229e-01, 9.4116e-02],\n",
              "         [5.8886e-01, 5.6135e-02, 9.9721e-02, 3.4113e-01, 8.7104e-01,\n",
              "          4.0773e-01, 9.5503e-01, 9.4980e-01, 5.4370e-01, 8.7574e-01]],\n",
              "\n",
              "        [[7.5966e-02, 2.1895e-02, 3.9802e-01, 7.2005e-01, 5.3032e-01,\n",
              "          2.0081e-01, 7.7037e-01, 1.3985e-01, 1.4764e-01, 4.5983e-01],\n",
              "         [5.2561e-01, 7.6631e-02, 5.7285e-01, 6.5555e-01, 6.5127e-01,\n",
              "          7.1813e-01, 1.8446e-01, 3.5202e-01, 1.1209e-03, 9.2389e-03],\n",
              "         [9.9083e-01, 4.4794e-01, 6.0307e-01, 4.2420e-01, 3.4328e-01,\n",
              "          5.4460e-01, 5.5079e-01, 8.3304e-01, 6.9892e-01, 6.2202e-01],\n",
              "         [1.6409e-01, 7.4022e-01, 6.2874e-01, 8.8693e-01, 3.6659e-01,\n",
              "          4.6542e-02, 7.4824e-02, 6.1559e-01, 9.8033e-01, 3.2203e-01],\n",
              "         [3.9567e-01, 5.0624e-01, 5.1759e-01, 5.1587e-01, 9.5277e-01,\n",
              "          6.4230e-01, 1.8574e-01, 8.7939e-01, 7.6506e-01, 9.2650e-01],\n",
              "         [1.6302e-01, 2.5052e-01, 7.4357e-01, 2.8922e-01, 9.5831e-01,\n",
              "          8.0523e-01, 1.5714e-01, 3.4019e-01, 6.2589e-01, 2.3977e-01],\n",
              "         [5.3330e-01, 2.6790e-01, 3.5948e-01, 2.5801e-01, 3.7394e-01,\n",
              "          5.4956e-01, 1.8751e-01, 7.8007e-01, 1.9155e-01, 6.2257e-01],\n",
              "         [3.7565e-03, 9.0398e-01, 6.9043e-01, 7.9025e-01, 1.6092e-02,\n",
              "          4.9998e-03, 8.8335e-01, 6.8235e-03, 2.1974e-01, 8.6859e-01],\n",
              "         [7.1075e-01, 3.3705e-01, 1.1502e-01, 6.9460e-01, 5.3979e-01,\n",
              "          2.8487e-01, 7.4942e-01, 9.8238e-01, 1.3189e-01, 7.8929e-01],\n",
              "         [6.9197e-01, 3.4598e-01, 8.6431e-01, 4.7167e-01, 4.5497e-01,\n",
              "          3.3336e-02, 3.6940e-01, 8.7782e-01, 8.5608e-01, 5.9329e-01]]])"
            ]
          },
          "metadata": {},
          "execution_count": 94
        }
      ]
    },
    {
      "cell_type": "code",
      "source": [
        "random_tensor.ndim"
      ],
      "metadata": {
        "colab": {
          "base_uri": "https://localhost:8080/"
        },
        "id": "-RxQZRQXDZT3",
        "outputId": "35f12595-b874-4f08-b71c-aa8b238f0ae9"
      },
      "execution_count": 95,
      "outputs": [
        {
          "output_type": "execute_result",
          "data": {
            "text/plain": [
              "3"
            ]
          },
          "metadata": {},
          "execution_count": 95
        }
      ]
    },
    {
      "cell_type": "code",
      "source": [
        "#create a random tensor with similar shape to an image tensor\n",
        "random_image_size_tensor = torch.rand(size=(3,224,224))#height,width,color channel\n",
        "random_image_size_tensor.shape, random_image_size_tensor.ndim"
      ],
      "metadata": {
        "colab": {
          "base_uri": "https://localhost:8080/"
        },
        "id": "2lE6FB17DpMe",
        "outputId": "54d464bd-222c-49d7-ee7b-dda251563d36"
      },
      "execution_count": 96,
      "outputs": [
        {
          "output_type": "execute_result",
          "data": {
            "text/plain": [
              "(torch.Size([3, 224, 224]), 3)"
            ]
          },
          "metadata": {},
          "execution_count": 96
        }
      ]
    },
    {
      "cell_type": "code",
      "source": [
        "torch.rand(3,3)"
      ],
      "metadata": {
        "colab": {
          "base_uri": "https://localhost:8080/"
        },
        "id": "RcRkAqzqHZIe",
        "outputId": "c3e1f313-1765-4a27-f844-d931bb8e4811"
      },
      "execution_count": 97,
      "outputs": [
        {
          "output_type": "execute_result",
          "data": {
            "text/plain": [
              "tensor([[0.6335, 0.5542, 0.4855],\n",
              "        [0.7743, 0.2988, 0.3186],\n",
              "        [0.1139, 0.2638, 0.5980]])"
            ]
          },
          "metadata": {},
          "execution_count": 97
        }
      ]
    },
    {
      "cell_type": "code",
      "source": [
        "#zeros and ones\n",
        "zero = torch.zeros(size=(3,4))\n",
        "zero"
      ],
      "metadata": {
        "colab": {
          "base_uri": "https://localhost:8080/"
        },
        "id": "iSZZDYqWIVsz",
        "outputId": "264769e4-2c07-4507-9b31-051f73b7e653"
      },
      "execution_count": 98,
      "outputs": [
        {
          "output_type": "execute_result",
          "data": {
            "text/plain": [
              "tensor([[0., 0., 0., 0.],\n",
              "        [0., 0., 0., 0.],\n",
              "        [0., 0., 0., 0.]])"
            ]
          },
          "metadata": {},
          "execution_count": 98
        }
      ]
    },
    {
      "cell_type": "code",
      "source": [
        "#create a tensor of all ones\n",
        "ones = torch.ones(size=(3,4))\n",
        "ones"
      ],
      "metadata": {
        "colab": {
          "base_uri": "https://localhost:8080/"
        },
        "id": "uZNjgqG0IrqQ",
        "outputId": "cf60f86d-8467-4ab2-f1ba-7bdd76634432"
      },
      "execution_count": 99,
      "outputs": [
        {
          "output_type": "execute_result",
          "data": {
            "text/plain": [
              "tensor([[1., 1., 1., 1.],\n",
              "        [1., 1., 1., 1.],\n",
              "        [1., 1., 1., 1.]])"
            ]
          },
          "metadata": {},
          "execution_count": 99
        }
      ]
    },
    {
      "cell_type": "code",
      "source": [
        "#use torch.range()\n",
        "one_to_ten = torch.arange(1,11)\n",
        "one_to_ten"
      ],
      "metadata": {
        "colab": {
          "base_uri": "https://localhost:8080/"
        },
        "id": "pbHnsIQFI3N9",
        "outputId": "97034031-9baf-45ed-ed7b-3fa2ea542274"
      },
      "execution_count": 100,
      "outputs": [
        {
          "output_type": "execute_result",
          "data": {
            "text/plain": [
              "tensor([ 1,  2,  3,  4,  5,  6,  7,  8,  9, 10])"
            ]
          },
          "metadata": {},
          "execution_count": 100
        }
      ]
    },
    {
      "cell_type": "code",
      "source": [
        "one_to_ten = torch.arange(start=1, end=11, step=1)\n",
        "one_to_ten"
      ],
      "metadata": {
        "colab": {
          "base_uri": "https://localhost:8080/"
        },
        "id": "40k8u2g-JdPJ",
        "outputId": "3446da7b-6faf-4abf-927b-c45975d9bd42"
      },
      "execution_count": 101,
      "outputs": [
        {
          "output_type": "execute_result",
          "data": {
            "text/plain": [
              "tensor([ 1,  2,  3,  4,  5,  6,  7,  8,  9, 10])"
            ]
          },
          "metadata": {},
          "execution_count": 101
        }
      ]
    },
    {
      "cell_type": "code",
      "source": [
        "one_to_ten.shape"
      ],
      "metadata": {
        "id": "q-tCvr99Jsld",
        "outputId": "75352ed2-1b1f-464b-f867-b2456bb316fe",
        "colab": {
          "base_uri": "https://localhost:8080/"
        }
      },
      "execution_count": 102,
      "outputs": [
        {
          "output_type": "execute_result",
          "data": {
            "text/plain": [
              "torch.Size([10])"
            ]
          },
          "metadata": {},
          "execution_count": 102
        }
      ]
    },
    {
      "cell_type": "code",
      "source": [
        "ten_zero = torch.zeros_like(input=one_to_ten)\n",
        "ten_zero"
      ],
      "metadata": {
        "id": "c3cUuCvlJv0p",
        "outputId": "af96ec14-f705-410b-ffc5-623d3cabd3db",
        "colab": {
          "base_uri": "https://localhost:8080/"
        }
      },
      "execution_count": 103,
      "outputs": [
        {
          "output_type": "execute_result",
          "data": {
            "text/plain": [
              "tensor([0, 0, 0, 0, 0, 0, 0, 0, 0, 0])"
            ]
          },
          "metadata": {},
          "execution_count": 103
        }
      ]
    },
    {
      "cell_type": "markdown",
      "source": [
        "Tensor Datatype\n",
        "\n",
        "**Note:** Tensor datatype is one of the 3 big errors you'll run into with PyTorch & deep learning:\n",
        "\n",
        "1. Tensors not right datatype\n",
        "\n",
        "2.Tensor not right shape"
      ],
      "metadata": {
        "id": "EmxeZbwijYMV"
      }
    },
    {
      "cell_type": "code",
      "source": [
        "#float 32 tensor\n",
        "float_32_tensor = torch.tensor([3.0,6.0,9.0],\n",
        "                               dtype=None,\n",
        "                               device=None,\n",
        "                               requires_grad=False)\n",
        "float_32_tensor"
      ],
      "metadata": {
        "id": "SIUx2GVLjUdQ",
        "outputId": "eb733189-b6f0-4925-c596-4f5cf024a76c",
        "colab": {
          "base_uri": "https://localhost:8080/"
        }
      },
      "execution_count": 104,
      "outputs": [
        {
          "output_type": "execute_result",
          "data": {
            "text/plain": [
              "tensor([3., 6., 9.])"
            ]
          },
          "metadata": {},
          "execution_count": 104
        }
      ]
    },
    {
      "cell_type": "code",
      "source": [
        "tensor = torch.tensor( [1.0, 2.0, 3.0],dtype=torch.float32)\n",
        "print(tensor)\n"
      ],
      "metadata": {
        "id": "Ek7hBuaZm4_z",
        "colab": {
          "base_uri": "https://localhost:8080/"
        },
        "outputId": "6f8d66f5-5e61-4c14-9dc9-73e900d7158a"
      },
      "execution_count": 105,
      "outputs": [
        {
          "output_type": "stream",
          "name": "stdout",
          "text": [
            "tensor([1., 2., 3.])\n"
          ]
        }
      ]
    },
    {
      "cell_type": "code",
      "source": [
        "float_16_tensor = float_32_tensor.type(torch.float16)\n",
        "float_16_tensor"
      ],
      "metadata": {
        "colab": {
          "base_uri": "https://localhost:8080/"
        },
        "id": "y9kmAs3Powjl",
        "outputId": "fa2538ff-a443-4f94-b585-2aaded79bce6"
      },
      "execution_count": 106,
      "outputs": [
        {
          "output_type": "execute_result",
          "data": {
            "text/plain": [
              "tensor([3., 6., 9.], dtype=torch.float16)"
            ]
          },
          "metadata": {},
          "execution_count": 106
        }
      ]
    },
    {
      "cell_type": "code",
      "source": [
        "float_16_tensor = float_32_tensor"
      ],
      "metadata": {
        "id": "w0wRNfWtrHE_"
      },
      "execution_count": 107,
      "outputs": []
    },
    {
      "cell_type": "code",
      "source": [
        "int_32_tensor = torch.tensor([3,6,9], dtype=torch.int32)\n",
        "int_32_tensor"
      ],
      "metadata": {
        "colab": {
          "base_uri": "https://localhost:8080/"
        },
        "id": "DgLLHRpfruKF",
        "outputId": "ba3dd492-531a-417c-bf02-1e426c414a96"
      },
      "execution_count": 108,
      "outputs": [
        {
          "output_type": "execute_result",
          "data": {
            "text/plain": [
              "tensor([3, 6, 9], dtype=torch.int32)"
            ]
          },
          "metadata": {},
          "execution_count": 108
        }
      ]
    },
    {
      "cell_type": "code",
      "source": [
        "float_32_tensor * int_32_tensor"
      ],
      "metadata": {
        "colab": {
          "base_uri": "https://localhost:8080/"
        },
        "id": "iG6gO6Q5LWSx",
        "outputId": "e355d4fa-a177-42fb-efe1-1ea436124df9"
      },
      "execution_count": 109,
      "outputs": [
        {
          "output_type": "execute_result",
          "data": {
            "text/plain": [
              "tensor([ 9., 36., 81.])"
            ]
          },
          "metadata": {},
          "execution_count": 109
        }
      ]
    },
    {
      "cell_type": "code",
      "source": [
        "#create a tensor\n",
        "some_tensor = torch.rand(3,4)\n",
        "some_tensor"
      ],
      "metadata": {
        "colab": {
          "base_uri": "https://localhost:8080/"
        },
        "id": "IYOKBoAkMBha",
        "outputId": "6ffd5541-c825-4327-c24c-dced2617c8d3"
      },
      "execution_count": 110,
      "outputs": [
        {
          "output_type": "execute_result",
          "data": {
            "text/plain": [
              "tensor([[0.3517, 0.5385, 0.7524, 0.8155],\n",
              "        [0.6625, 0.1944, 0.2155, 0.5900],\n",
              "        [0.7634, 0.2097, 0.7094, 0.5921]])"
            ]
          },
          "metadata": {},
          "execution_count": 110
        }
      ]
    },
    {
      "cell_type": "code",
      "source": [
        "#find out details about some tensor\n",
        "print(some_tensor)\n",
        "print(f\"Datatype of tensor: {some_tensor.dtype}\")\n",
        "print(f\"Shape of tensor: {some_tensor.shape}\")\n",
        "print(f\"Device tensor is on: {some_tensor.device}\")"
      ],
      "metadata": {
        "colab": {
          "base_uri": "https://localhost:8080/"
        },
        "id": "sjlygekbMXJy",
        "outputId": "bbd0b03f-c2c7-413b-8f81-a15d0a99e781"
      },
      "execution_count": 111,
      "outputs": [
        {
          "output_type": "stream",
          "name": "stdout",
          "text": [
            "tensor([[0.3517, 0.5385, 0.7524, 0.8155],\n",
            "        [0.6625, 0.1944, 0.2155, 0.5900],\n",
            "        [0.7634, 0.2097, 0.7094, 0.5921]])\n",
            "Datatype of tensor: torch.float32\n",
            "Shape of tensor: torch.Size([3, 4])\n",
            "Device tensor is on: cpu\n"
          ]
        }
      ]
    },
    {
      "cell_type": "markdown",
      "source": [
        "###manipulating Tensors ( tensor operation)\n",
        "\n",
        "Tensor operattion include:\n",
        "\n",
        "*Addition\n",
        "\n",
        "*Subtraction\n",
        "\n",
        "*Multiplication(element-wise)\n",
        "\n",
        "*division\n",
        "\n",
        "*Matrix Multiplication"
      ],
      "metadata": {
        "id": "2WeJXkaSNvx4"
      }
    },
    {
      "cell_type": "code",
      "source": [
        "#create a tensor and add 10 to it\n",
        "tensor = torch.tensor([1,2,3])\n",
        "tensor + 10"
      ],
      "metadata": {
        "colab": {
          "base_uri": "https://localhost:8080/"
        },
        "id": "qn5KQtOZMqCe",
        "outputId": "df7b2492-e023-45fe-f50e-06b7c284a083"
      },
      "execution_count": 112,
      "outputs": [
        {
          "output_type": "execute_result",
          "data": {
            "text/plain": [
              "tensor([11, 12, 13])"
            ]
          },
          "metadata": {},
          "execution_count": 112
        }
      ]
    },
    {
      "cell_type": "code",
      "source": [
        "#multiply tensor by 10\n",
        "tensor * 10"
      ],
      "metadata": {
        "colab": {
          "base_uri": "https://localhost:8080/"
        },
        "id": "CJznQMdMORMM",
        "outputId": "70f48230-c955-4b34-84e0-832f0fab1da1"
      },
      "execution_count": 113,
      "outputs": [
        {
          "output_type": "execute_result",
          "data": {
            "text/plain": [
              "tensor([10, 20, 30])"
            ]
          },
          "metadata": {},
          "execution_count": 113
        }
      ]
    },
    {
      "cell_type": "code",
      "source": [
        "tensor"
      ],
      "metadata": {
        "colab": {
          "base_uri": "https://localhost:8080/"
        },
        "id": "SmWqezXAP8g-",
        "outputId": "19f25f89-ce31-43c3-efc8-a856aad121f1"
      },
      "execution_count": 114,
      "outputs": [
        {
          "output_type": "execute_result",
          "data": {
            "text/plain": [
              "tensor([1, 2, 3])"
            ]
          },
          "metadata": {},
          "execution_count": 114
        }
      ]
    },
    {
      "cell_type": "code",
      "source": [
        "#subtract\n",
        "tensor - 10"
      ],
      "metadata": {
        "colab": {
          "base_uri": "https://localhost:8080/"
        },
        "id": "MWwFTpF-P_XY",
        "outputId": "5e2c5e7a-505b-48a4-b18e-9527cdcd0e76"
      },
      "execution_count": 115,
      "outputs": [
        {
          "output_type": "execute_result",
          "data": {
            "text/plain": [
              "tensor([-9, -8, -7])"
            ]
          },
          "metadata": {},
          "execution_count": 115
        }
      ]
    },
    {
      "cell_type": "code",
      "source": [
        "#divide\n",
        "tensor/10"
      ],
      "metadata": {
        "colab": {
          "base_uri": "https://localhost:8080/"
        },
        "id": "HHU7DVjOQE2Z",
        "outputId": "fe757a9f-4eac-4aba-bbf5-7a6596b41d17"
      },
      "execution_count": 116,
      "outputs": [
        {
          "output_type": "execute_result",
          "data": {
            "text/plain": [
              "tensor([0.1000, 0.2000, 0.3000])"
            ]
          },
          "metadata": {},
          "execution_count": 116
        }
      ]
    },
    {
      "cell_type": "code",
      "source": [
        "torch.mul(tensor,10)"
      ],
      "metadata": {
        "colab": {
          "base_uri": "https://localhost:8080/"
        },
        "id": "QSiCdWgwQJjq",
        "outputId": "af9fd902-9890-4692-a158-014a3ca6d99b"
      },
      "execution_count": 117,
      "outputs": [
        {
          "output_type": "execute_result",
          "data": {
            "text/plain": [
              "tensor([10, 20, 30])"
            ]
          },
          "metadata": {},
          "execution_count": 117
        }
      ]
    },
    {
      "cell_type": "code",
      "source": [
        "torch.add(tensor,10)"
      ],
      "metadata": {
        "colab": {
          "base_uri": "https://localhost:8080/"
        },
        "id": "vRH20ZpNRHqo",
        "outputId": "c0b2412b-2b4b-4d0a-d4d3-fa912d58c809"
      },
      "execution_count": 118,
      "outputs": [
        {
          "output_type": "execute_result",
          "data": {
            "text/plain": [
              "tensor([11, 12, 13])"
            ]
          },
          "metadata": {},
          "execution_count": 118
        }
      ]
    },
    {
      "cell_type": "markdown",
      "source": [
        "Matrix multiplication\n",
        "\n",
        "Two main ways of performing multiplication in neural networks and deep learning:\n",
        "\n",
        "1.Element-wise multiplication\n",
        "\n",
        "2.Matrix multiplication(dot product)\n",
        "\n",
        "There are two main rules that performing matrix multiplication\n",
        "\n",
        "1. The **inner dimensions** must match:\n",
        "\n",
        " *(3,2) @ (3,2) won't work\n",
        "\n",
        " *(2,3) @ (3,2) will work\n",
        "\n",
        " *(3,2) @ (2,3) will work\n",
        "\n",
        "\n",
        "2.The resulting matrix has the shape of the **outer dimension**:\n",
        "\n",
        "*(2,3) @ (3,2) -> (2,2)\n",
        "\n",
        "*(3,2) 2 (2,3) -. (3,3)\n",
        "\n",
        "\n"
      ],
      "metadata": {
        "id": "15eaC_8jZp3z"
      }
    },
    {
      "cell_type": "code",
      "source": [
        "torch.matmul(torch.rand(10,10),torch.rand(10,10))"
      ],
      "metadata": {
        "colab": {
          "base_uri": "https://localhost:8080/"
        },
        "id": "XHyspsAnh5Ak",
        "outputId": "76e5e03f-dc6e-4c84-c709-746c25d6331c"
      },
      "execution_count": 119,
      "outputs": [
        {
          "output_type": "execute_result",
          "data": {
            "text/plain": [
              "tensor([[4.1784, 2.1985, 3.5419, 2.6051, 2.5129, 2.9512, 3.0397, 2.6946, 3.0555,\n",
              "         2.3982],\n",
              "        [3.9941, 2.5178, 4.0471, 2.6102, 2.8502, 3.0964, 2.6626, 2.0042, 3.5470,\n",
              "         2.6322],\n",
              "        [2.5123, 1.5256, 2.7509, 1.7273, 1.4141, 1.8743, 2.0356, 2.1446, 1.8119,\n",
              "         1.4534],\n",
              "        [3.6664, 1.8978, 3.7587, 2.2403, 2.3875, 2.5574, 2.6403, 2.2373, 2.6510,\n",
              "         2.3957],\n",
              "        [2.9778, 2.0097, 2.9512, 1.9313, 1.9372, 2.4347, 2.1699, 2.0608, 2.3971,\n",
              "         1.9751],\n",
              "        [2.4188, 1.5737, 1.9795, 1.2099, 1.7054, 2.0677, 1.7978, 1.7356, 1.8428,\n",
              "         1.3994],\n",
              "        [3.9900, 3.1668, 4.2683, 2.6209, 2.9230, 3.4143, 2.9342, 2.1285, 3.9609,\n",
              "         2.8096],\n",
              "        [3.2842, 1.7330, 3.2807, 1.8960, 2.1878, 2.3791, 2.3748, 2.2066, 2.2191,\n",
              "         2.1541],\n",
              "        [3.8173, 2.1393, 3.4205, 2.2787, 2.4771, 2.6680, 2.5974, 2.0308, 2.8522,\n",
              "         2.6092],\n",
              "        [2.2962, 1.3557, 2.4084, 1.6769, 1.5445, 1.7046, 1.8694, 1.4486, 2.0257,\n",
              "         1.2822]])"
            ]
          },
          "metadata": {},
          "execution_count": 119
        }
      ]
    },
    {
      "cell_type": "code",
      "source": [
        "#Elementwise multiplication\n",
        "print(tensor,\"*\",tensor)\n",
        "print(f\"Equals:{tensor * tensor}\")\n"
      ],
      "metadata": {
        "colab": {
          "base_uri": "https://localhost:8080/"
        },
        "id": "QHc3IlZeRPoG",
        "outputId": "ce297da2-3193-427a-8ac8-ae9bb2c58c3f"
      },
      "execution_count": 120,
      "outputs": [
        {
          "output_type": "stream",
          "name": "stdout",
          "text": [
            "tensor([1, 2, 3]) * tensor([1, 2, 3])\n",
            "Equals:tensor([1, 4, 9])\n"
          ]
        }
      ]
    },
    {
      "cell_type": "code",
      "source": [
        "#matrix multiplication\n",
        "torch.matmul(tensor,tensor)"
      ],
      "metadata": {
        "colab": {
          "base_uri": "https://localhost:8080/"
        },
        "id": "POZrRMykacyp",
        "outputId": "64e0f1bc-dc2c-489a-fce2-4494ddab7ffd"
      },
      "execution_count": 121,
      "outputs": [
        {
          "output_type": "execute_result",
          "data": {
            "text/plain": [
              "tensor(14)"
            ]
          },
          "metadata": {},
          "execution_count": 121
        }
      ]
    },
    {
      "cell_type": "code",
      "source": [
        "#matrix multiplication by hand\n",
        "1*1 + 2*2 + 3*3"
      ],
      "metadata": {
        "colab": {
          "base_uri": "https://localhost:8080/"
        },
        "id": "X6yJYNZMdsH5",
        "outputId": "478993a7-77af-4029-b6b5-6c07569f15c3"
      },
      "execution_count": 122,
      "outputs": [
        {
          "output_type": "execute_result",
          "data": {
            "text/plain": [
              "14"
            ]
          },
          "metadata": {},
          "execution_count": 122
        }
      ]
    },
    {
      "cell_type": "code",
      "source": [
        "%%time\n",
        "value = 0\n",
        "for i in range(len(tensor)):\n",
        "  value += tensor[i] * tensor[i]\n",
        "  print(value)\n",
        "\n"
      ],
      "metadata": {
        "colab": {
          "base_uri": "https://localhost:8080/"
        },
        "id": "KrKzgN0ae8-Y",
        "outputId": "7f815219-cf2f-4450-91c7-8194a1e853c3"
      },
      "execution_count": 123,
      "outputs": [
        {
          "output_type": "stream",
          "name": "stdout",
          "text": [
            "tensor(1)\n",
            "tensor(5)\n",
            "tensor(14)\n",
            "CPU times: user 23 µs, sys: 887 µs, total: 910 µs\n",
            "Wall time: 921 µs\n"
          ]
        }
      ]
    },
    {
      "cell_type": "code",
      "source": [
        "tensor @ tensor"
      ],
      "metadata": {
        "colab": {
          "base_uri": "https://localhost:8080/"
        },
        "id": "9C1aDJn0gtbp",
        "outputId": "bd3b40e8-5c02-4783-a2ef-d3264c1f3fab"
      },
      "execution_count": 124,
      "outputs": [
        {
          "output_type": "execute_result",
          "data": {
            "text/plain": [
              "tensor(14)"
            ]
          },
          "metadata": {},
          "execution_count": 124
        }
      ]
    },
    {
      "cell_type": "code",
      "source": [
        "%%time\n",
        "torch.matmul(tensor,tensor)"
      ],
      "metadata": {
        "colab": {
          "base_uri": "https://localhost:8080/"
        },
        "id": "lx3KAmazfaxP",
        "outputId": "0dbe4db5-7736-4822-8c1e-b431bb6828aa"
      },
      "execution_count": 125,
      "outputs": [
        {
          "output_type": "stream",
          "name": "stdout",
          "text": [
            "CPU times: user 37 µs, sys: 5 µs, total: 42 µs\n",
            "Wall time: 44.8 µs\n"
          ]
        },
        {
          "output_type": "execute_result",
          "data": {
            "text/plain": [
              "tensor(14)"
            ]
          },
          "metadata": {},
          "execution_count": 125
        }
      ]
    },
    {
      "cell_type": "markdown",
      "source": [
        "### one of the most common errors in deep learning: shape errors"
      ],
      "metadata": {
        "id": "CKVSRRlxgFX5"
      }
    },
    {
      "cell_type": "code",
      "source": [
        " #Shape for matrix multiplication\n",
        "tensor_A = torch.tensor([[1, 2],\n",
        "                         [3, 4],\n",
        "                         [5, 6]])\n",
        "tensor_B = torch.tensor([[7, 10],\n",
        "                         [8, 11],\n",
        "                         [9, 12]])\n",
        "\n",
        "\n",
        "#torch.mm(tensor_A,tensor_B) #torch.mm is the same as torch.matmul (it's an alias for writing less code)\n",
        "torch.matmul(tensor_A, tensor_B.T)\n"
      ],
      "metadata": {
        "colab": {
          "base_uri": "https://localhost:8080/"
        },
        "id": "ehnumnLNftEC",
        "outputId": "b5d9ce66-34b8-4a2e-9b5b-8bf0a10f4fdc"
      },
      "execution_count": 126,
      "outputs": [
        {
          "output_type": "execute_result",
          "data": {
            "text/plain": [
              "tensor([[ 27,  30,  33],\n",
              "        [ 61,  68,  75],\n",
              "        [ 95, 106, 117]])"
            ]
          },
          "metadata": {},
          "execution_count": 126
        }
      ]
    },
    {
      "cell_type": "code",
      "source": [
        "tensor_A.shape, tensor_B.shape"
      ],
      "metadata": {
        "id": "R8P8pkSiCWp_",
        "outputId": "b36658c9-ef54-473c-e13a-5cd8ae7db6ab",
        "colab": {
          "base_uri": "https://localhost:8080/"
        }
      },
      "execution_count": 127,
      "outputs": [
        {
          "output_type": "execute_result",
          "data": {
            "text/plain": [
              "(torch.Size([3, 2]), torch.Size([3, 2]))"
            ]
          },
          "metadata": {},
          "execution_count": 127
        }
      ]
    },
    {
      "cell_type": "markdown",
      "source": [
        "To fix our tensor shape issues, we can manipulate the shape of one of our tensors using a **transpose**.\n",
        "\n",
        "A **transpose** switches the axes or dimensions of a given tensor tensor"
      ],
      "metadata": {
        "id": "t2VnFdGFC3qf"
      }
    },
    {
      "cell_type": "code",
      "source": [
        "tensor_B,tensor_B.shape"
      ],
      "metadata": {
        "id": "sCtMDn2LCtaY",
        "outputId": "3c963ae3-7eef-453a-e351-36df940a38f5",
        "colab": {
          "base_uri": "https://localhost:8080/"
        }
      },
      "execution_count": 128,
      "outputs": [
        {
          "output_type": "execute_result",
          "data": {
            "text/plain": [
              "(tensor([[ 7, 10],\n",
              "         [ 8, 11],\n",
              "         [ 9, 12]]),\n",
              " torch.Size([3, 2]))"
            ]
          },
          "metadata": {},
          "execution_count": 128
        }
      ]
    },
    {
      "cell_type": "code",
      "source": [
        "tensor_B.T, tensor_B.T.shape"
      ],
      "metadata": {
        "id": "nkOUlHm5D3yV",
        "outputId": "9be31eed-64d2-445e-fb81-ea36e228a3af",
        "colab": {
          "base_uri": "https://localhost:8080/"
        }
      },
      "execution_count": 129,
      "outputs": [
        {
          "output_type": "execute_result",
          "data": {
            "text/plain": [
              "(tensor([[ 7,  8,  9],\n",
              "         [10, 11, 12]]),\n",
              " torch.Size([2, 3]))"
            ]
          },
          "metadata": {},
          "execution_count": 129
        }
      ]
    },
    {
      "cell_type": "markdown",
      "source": [],
      "metadata": {
        "id": "KwVKsdSK2EDw"
      }
    },
    {
      "cell_type": "code",
      "source": [
        "# The matrix multiplication operation works when tensor_B is transposed\n",
        "print(f\"Original shapes: tensor_A = {tensor_A.shape} , tensor_B = {tensor_B.shape}\")\n",
        "print(f\"New shapes: tensor_A = {tensor_A.shape} (same shape as above), tensor_B.T = {tensor_B.T.shape}\")\n",
        "print(f\"Multiplying : {tensor_A.shape} @ {tensor_B.T.shape} <- inner dimensions must match\")\n",
        "print(\"Output:\\n\")\n",
        "output = torch.matmul(tensor_A, tensor_B.T)\n",
        "print(output)\n",
        "torch.matmul(tensor_A, tensor_B.T)"
      ],
      "metadata": {
        "id": "4yOhfn5yD_6r",
        "colab": {
          "base_uri": "https://localhost:8080/"
        },
        "outputId": "fe71bc88-0951-4eab-8c9e-00f9b5658240"
      },
      "execution_count": 130,
      "outputs": [
        {
          "output_type": "stream",
          "name": "stdout",
          "text": [
            "Original shapes: tensor_A = torch.Size([3, 2]) , tensor_B = torch.Size([3, 2])\n",
            "New shapes: tensor_A = torch.Size([3, 2]) (same shape as above), tensor_B.T = torch.Size([2, 3])\n",
            "Multiplying : torch.Size([3, 2]) @ torch.Size([2, 3]) <- inner dimensions must match\n",
            "Output:\n",
            "\n",
            "tensor([[ 27,  30,  33],\n",
            "        [ 61,  68,  75],\n",
            "        [ 95, 106, 117]])\n"
          ]
        },
        {
          "output_type": "execute_result",
          "data": {
            "text/plain": [
              "tensor([[ 27,  30,  33],\n",
              "        [ 61,  68,  75],\n",
              "        [ 95, 106, 117]])"
            ]
          },
          "metadata": {},
          "execution_count": 130
        }
      ]
    },
    {
      "cell_type": "code",
      "source": [
        "print(f\"Original shapes : tensor_A = {tensor_A.shape} ,tensor_B = {tensor_B.shape}\")\n",
        "print(f\"New shapes:tensorA.T = {tensor_A.shape} (same shape as above), tensor_B = {tensor_B.T.shape}\")\n",
        "print(f\"Multiplying : {tensor_A.T.shape} @ {tensor_B.shape} <- inner dimension must match\")\n",
        "print(\"Output:\\n\")\n",
        "out = torch.matmul(tensor_A.T, tensor_B)\n",
        "print(output)"
      ],
      "metadata": {
        "colab": {
          "base_uri": "https://localhost:8080/"
        },
        "id": "nIU2dhAJds2N",
        "outputId": "1b5c3484-233f-41f1-f5bc-80aec0fabfa2"
      },
      "execution_count": 131,
      "outputs": [
        {
          "output_type": "stream",
          "name": "stdout",
          "text": [
            "Original shapes : tensor_A = torch.Size([3, 2]) ,tensor_B = torch.Size([3, 2])\n",
            "New shapes:tensorA.T = torch.Size([3, 2]) (same shape as above), tensor_B = torch.Size([2, 3])\n",
            "Multiplying : torch.Size([2, 3]) @ torch.Size([3, 2]) <- inner dimension must match\n",
            "Output:\n",
            "\n",
            "tensor([[ 27,  30,  33],\n",
            "        [ 61,  68,  75],\n",
            "        [ 95, 106, 117]])\n"
          ]
        }
      ]
    },
    {
      "cell_type": "markdown",
      "source": [
        "Finding the min ,max , mean, sum,etc (tensor aggregation)"
      ],
      "metadata": {
        "id": "OeDIFF7jiSNL"
      }
    },
    {
      "cell_type": "code",
      "source": [
        "#create a tensor\n",
        "x= torch.arange(1,100,10)\n",
        "x , x.dtype"
      ],
      "metadata": {
        "colab": {
          "base_uri": "https://localhost:8080/"
        },
        "id": "dqblxNC7hsaL",
        "outputId": "b59321b6-073f-4ada-a2bc-2fd1ebe382ce"
      },
      "execution_count": 132,
      "outputs": [
        {
          "output_type": "execute_result",
          "data": {
            "text/plain": [
              "(tensor([ 1, 11, 21, 31, 41, 51, 61, 71, 81, 91]), torch.int64)"
            ]
          },
          "metadata": {},
          "execution_count": 132
        }
      ]
    },
    {
      "cell_type": "code",
      "source": [
        "# Find the main\n",
        "torch.min(x) , x.min()"
      ],
      "metadata": {
        "colab": {
          "base_uri": "https://localhost:8080/"
        },
        "id": "8zcBK01Wil1w",
        "outputId": "bc877d16-2fbf-4010-8e46-4501988af15a"
      },
      "execution_count": 133,
      "outputs": [
        {
          "output_type": "execute_result",
          "data": {
            "text/plain": [
              "(tensor(1), tensor(1))"
            ]
          },
          "metadata": {},
          "execution_count": 133
        }
      ]
    },
    {
      "cell_type": "code",
      "source": [
        "#Find the mean - note: the torch.mean() function requires a tensor of float32 datatype to work\n",
        "torch.mean(x.type(torch.float32)) ,x.type(torch.float32).mean()"
      ],
      "metadata": {
        "colab": {
          "base_uri": "https://localhost:8080/"
        },
        "id": "mrqRwNeDitw9",
        "outputId": "5a2ec169-2c8a-4a24-8cb5-fae55d17183f"
      },
      "execution_count": 134,
      "outputs": [
        {
          "output_type": "execute_result",
          "data": {
            "text/plain": [
              "(tensor(46.), tensor(46.))"
            ]
          },
          "metadata": {},
          "execution_count": 134
        }
      ]
    },
    {
      "cell_type": "code",
      "source": [
        "#find the sum\n",
        "torch.sum(x), x.sum()"
      ],
      "metadata": {
        "colab": {
          "base_uri": "https://localhost:8080/"
        },
        "id": "sbK1VcxrjVzK",
        "outputId": "e7781137-fdba-461f-9bd2-a8b319445cd6"
      },
      "execution_count": 135,
      "outputs": [
        {
          "output_type": "execute_result",
          "data": {
            "text/plain": [
              "(tensor(460), tensor(460))"
            ]
          },
          "metadata": {},
          "execution_count": 135
        }
      ]
    },
    {
      "cell_type": "markdown",
      "source": [
        "## Finding the positional min max"
      ],
      "metadata": {
        "id": "-MLTVKaBkrxZ"
      }
    },
    {
      "cell_type": "code",
      "source": [
        "x"
      ],
      "metadata": {
        "colab": {
          "base_uri": "https://localhost:8080/"
        },
        "id": "Fx9mnnA0kJnm",
        "outputId": "a64478c1-9d11-4468-bc7f-27e6f383c592"
      },
      "execution_count": 136,
      "outputs": [
        {
          "output_type": "execute_result",
          "data": {
            "text/plain": [
              "tensor([ 1, 11, 21, 31, 41, 51, 61, 71, 81, 91])"
            ]
          },
          "metadata": {},
          "execution_count": 136
        }
      ]
    },
    {
      "cell_type": "code",
      "source": [
        "# find the position that has the min value with argminn() -> returns index position of the target tensor where the minimum value occurs\n",
        "x.argmin()"
      ],
      "metadata": {
        "id": "K4TT-4c2kwX2",
        "outputId": "2095eab0-7ab5-4325-8636-4c5f1cb1b83a",
        "colab": {
          "base_uri": "https://localhost:8080/"
        }
      },
      "execution_count": 137,
      "outputs": [
        {
          "output_type": "execute_result",
          "data": {
            "text/plain": [
              "tensor(0)"
            ]
          },
          "metadata": {},
          "execution_count": 137
        }
      ]
    },
    {
      "cell_type": "code",
      "source": [
        "#find the position in tensor that has the maximum value with argmax\n",
        "x.argmax()"
      ],
      "metadata": {
        "id": "-0y6J-PAk0y2",
        "colab": {
          "base_uri": "https://localhost:8080/"
        },
        "outputId": "f97217f6-1cd2-4120-816f-71a72cdeafea"
      },
      "execution_count": 139,
      "outputs": [
        {
          "output_type": "execute_result",
          "data": {
            "text/plain": [
              "tensor(9)"
            ]
          },
          "metadata": {},
          "execution_count": 139
        }
      ]
    },
    {
      "cell_type": "code",
      "source": [
        "x[9]"
      ],
      "metadata": {
        "colab": {
          "base_uri": "https://localhost:8080/"
        },
        "id": "Kltx_9bwJpKc",
        "outputId": "ed49cbe8-9dcf-4bf8-f8b0-3f76f5c34516"
      },
      "execution_count": 140,
      "outputs": [
        {
          "output_type": "execute_result",
          "data": {
            "text/plain": [
              "tensor(91)"
            ]
          },
          "metadata": {},
          "execution_count": 140
        }
      ]
    },
    {
      "cell_type": "markdown",
      "source": [
        "# reshaping ,stacking , squeezing and unsquezzing tensore"
      ],
      "metadata": {
        "id": "VzwEA9NlKhjd"
      }
    },
    {
      "cell_type": "markdown",
      "source": [
        "* Reshaping - reshape an input tensor to a defined shape\n",
        "\n",
        "* view  - return a view of an input tensor of certain shape but keep the same memory as the original tensor\n",
        "\n",
        "* stacking - combine muultiple tensors on top of each other (vstack) or side by side (hstack)\n",
        "\n",
        "* squeeze - remove all dimension from a tensor\n",
        "\n",
        "* unsqueeze - add a dimension to a target tensor\n",
        "\n",
        "* permute - return a view of the input with dimension permute(swapped) in a certain way"
      ],
      "metadata": {
        "id": "zaWNMGEMKsiP"
      }
    },
    {
      "cell_type": "code",
      "source": [
        "# lets create a tesor\n",
        "import torch\n",
        "x = torch.arange(1.,10.)\n",
        "x, x.shape"
      ],
      "metadata": {
        "id": "Df4_jNzTKiPh",
        "outputId": "ff540678-f22b-4d30-fab3-843c9adf0f63",
        "colab": {
          "base_uri": "https://localhost:8080/"
        }
      },
      "execution_count": 153,
      "outputs": [
        {
          "output_type": "execute_result",
          "data": {
            "text/plain": [
              "(tensor([1., 2., 3., 4., 5., 6., 7., 8., 9.]), torch.Size([9]))"
            ]
          },
          "metadata": {},
          "execution_count": 153
        }
      ]
    },
    {
      "cell_type": "code",
      "source": [
        "# add a extra dimension\n",
        "x_reshaped = x.reshape(9,1)\n",
        "x_reshaped, x_reshaped.shape"
      ],
      "metadata": {
        "id": "9UQpnZykMKyu",
        "outputId": "a03e3c6a-268e-44db-8786-99b2dc63c80a",
        "colab": {
          "base_uri": "https://localhost:8080/"
        }
      },
      "execution_count": 154,
      "outputs": [
        {
          "output_type": "execute_result",
          "data": {
            "text/plain": [
              "(tensor([[1.],\n",
              "         [2.],\n",
              "         [3.],\n",
              "         [4.],\n",
              "         [5.],\n",
              "         [6.],\n",
              "         [7.],\n",
              "         [8.],\n",
              "         [9.]]),\n",
              " torch.Size([9, 1]))"
            ]
          },
          "metadata": {},
          "execution_count": 154
        }
      ]
    },
    {
      "cell_type": "code",
      "source": [
        "# change the view\n",
        "z = x.view(1,9)\n",
        "z, z.shape"
      ],
      "metadata": {
        "id": "sG9tK8J_MjXl",
        "outputId": "81065911-2f44-4e39-8454-c321bb448b80",
        "colab": {
          "base_uri": "https://localhost:8080/"
        }
      },
      "execution_count": 155,
      "outputs": [
        {
          "output_type": "execute_result",
          "data": {
            "text/plain": [
              "(tensor([[1., 2., 3., 4., 5., 6., 7., 8., 9.]]), torch.Size([1, 9]))"
            ]
          },
          "metadata": {},
          "execution_count": 155
        }
      ]
    },
    {
      "cell_type": "code",
      "source": [
        "#changing z changes x ( because a view of a tensor shares the saame memory as the original input)\n",
        "z[:,0] =5\n",
        "z, x"
      ],
      "metadata": {
        "id": "VRhlgCX_NYvT",
        "outputId": "6665aede-77e2-4de0-c324-0c5b845d3500",
        "colab": {
          "base_uri": "https://localhost:8080/"
        }
      },
      "execution_count": 156,
      "outputs": [
        {
          "output_type": "execute_result",
          "data": {
            "text/plain": [
              "(tensor([[5., 2., 3., 4., 5., 6., 7., 8., 9.]]),\n",
              " tensor([5., 2., 3., 4., 5., 6., 7., 8., 9.]))"
            ]
          },
          "metadata": {},
          "execution_count": 156
        }
      ]
    },
    {
      "cell_type": "code",
      "source": [
        "# stack tensors on top of eachother\n",
        "x_stacked = torch.stack([x,x,x,x],dim=0 )\n",
        "x_stacked"
      ],
      "metadata": {
        "id": "H9q-DJAMNtdb",
        "outputId": "078c919c-d647-40cc-edbf-e95e2d86d6f5",
        "colab": {
          "base_uri": "https://localhost:8080/"
        }
      },
      "execution_count": 167,
      "outputs": [
        {
          "output_type": "execute_result",
          "data": {
            "text/plain": [
              "tensor([[5., 2., 3., 4., 5., 6., 7., 8., 9.],\n",
              "        [5., 2., 3., 4., 5., 6., 7., 8., 9.],\n",
              "        [5., 2., 3., 4., 5., 6., 7., 8., 9.],\n",
              "        [5., 2., 3., 4., 5., 6., 7., 8., 9.]])"
            ]
          },
          "metadata": {},
          "execution_count": 167
        }
      ]
    },
    {
      "cell_type": "code",
      "source": [],
      "metadata": {
        "id": "wyz6G9uUN_ZJ"
      },
      "execution_count": null,
      "outputs": []
    }
  ]
}