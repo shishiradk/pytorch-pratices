{
  "nbformat": 4,
  "nbformat_minor": 0,
  "metadata": {
    "colab": {
      "provenance": [],
      "gpuType": "T4",
      "authorship_tag": "ABX9TyOX/LAmcIacgULh6Vk5On1Z",
      "include_colab_link": true
    },
    "kernelspec": {
      "name": "python3",
      "display_name": "Python 3"
    },
    "language_info": {
      "name": "python"
    },
    "accelerator": "GPU"
  },
  "cells": [
    {
      "cell_type": "markdown",
      "metadata": {
        "id": "view-in-github",
        "colab_type": "text"
      },
      "source": [
        "<a href=\"https://colab.research.google.com/github/shishiradk/pytorch-pratices/blob/main/pytorch.ipynb\" target=\"_parent\"><img src=\"https://colab.research.google.com/assets/colab-badge.svg\" alt=\"Open In Colab\"/></a>"
      ]
    },
    {
      "cell_type": "code",
      "execution_count": 2,
      "metadata": {
        "colab": {
          "base_uri": "https://localhost:8080/"
        },
        "id": "Ipxmmm-BuHoq",
        "outputId": "bd4c6f71-212b-462c-b4a4-04db809977d0"
      },
      "outputs": [
        {
          "output_type": "stream",
          "name": "stdout",
          "text": [
            "Sat Mar  8 11:04:22 2025       \n",
            "+-----------------------------------------------------------------------------------------+\n",
            "| NVIDIA-SMI 550.54.15              Driver Version: 550.54.15      CUDA Version: 12.4     |\n",
            "|-----------------------------------------+------------------------+----------------------+\n",
            "| GPU  Name                 Persistence-M | Bus-Id          Disp.A | Volatile Uncorr. ECC |\n",
            "| Fan  Temp   Perf          Pwr:Usage/Cap |           Memory-Usage | GPU-Util  Compute M. |\n",
            "|                                         |                        |               MIG M. |\n",
            "|=========================================+========================+======================|\n",
            "|   0  Tesla T4                       Off |   00000000:00:04.0 Off |                    0 |\n",
            "| N/A   41C    P8             11W /   70W |       0MiB /  15360MiB |      0%      Default |\n",
            "|                                         |                        |                  N/A |\n",
            "+-----------------------------------------+------------------------+----------------------+\n",
            "                                                                                         \n",
            "+-----------------------------------------------------------------------------------------+\n",
            "| Processes:                                                                              |\n",
            "|  GPU   GI   CI        PID   Type   Process name                              GPU Memory |\n",
            "|        ID   ID                                                               Usage      |\n",
            "|=========================================================================================|\n",
            "|  No running processes found                                                             |\n",
            "+-----------------------------------------------------------------------------------------+\n"
          ]
        }
      ],
      "source": [
        "!nvidia-smi\n"
      ]
    },
    {
      "cell_type": "code",
      "source": [
        "import numpy as np\n",
        "import pandas as pd\n",
        "import matplotlib.pyplot as plt\n",
        "import torch\n",
        "print(torch.__version__)"
      ],
      "metadata": {
        "colab": {
          "base_uri": "https://localhost:8080/"
        },
        "id": "eZa8yggluhDq",
        "outputId": "1510e5f9-782e-4a98-c55d-fa7902d95691"
      },
      "execution_count": 3,
      "outputs": [
        {
          "output_type": "stream",
          "name": "stdout",
          "text": [
            "2.5.1+cu124\n"
          ]
        }
      ]
    },
    {
      "cell_type": "markdown",
      "source": [
        "introduction to tensors\n",
        "creating tensor"
      ],
      "metadata": {
        "id": "0T04eZk0w0gf"
      }
    },
    {
      "cell_type": "markdown",
      "source": [],
      "metadata": {
        "id": "BRYigiaOw3Fh"
      }
    },
    {
      "cell_type": "code",
      "source": [
        "#scalar\n",
        "scalar = torch.tensor(7)\n",
        "scalar\n"
      ],
      "metadata": {
        "colab": {
          "base_uri": "https://localhost:8080/"
        },
        "id": "E78psR9bwJyK",
        "outputId": "86a821f1-07bb-431a-de79-50fd193c860b"
      },
      "execution_count": 4,
      "outputs": [
        {
          "output_type": "execute_result",
          "data": {
            "text/plain": [
              "tensor(7)"
            ]
          },
          "metadata": {},
          "execution_count": 4
        }
      ]
    },
    {
      "cell_type": "code",
      "source": [
        "scalar.ndim"
      ],
      "metadata": {
        "colab": {
          "base_uri": "https://localhost:8080/"
        },
        "id": "IqIfhYWywrSG",
        "outputId": "8b411405-d5af-43f0-91f0-b4cf29602056"
      },
      "execution_count": 5,
      "outputs": [
        {
          "output_type": "execute_result",
          "data": {
            "text/plain": [
              "0"
            ]
          },
          "metadata": {},
          "execution_count": 5
        }
      ]
    },
    {
      "cell_type": "code",
      "source": [
        "#get tensor back as python int\n",
        "scalar.item()"
      ],
      "metadata": {
        "colab": {
          "base_uri": "https://localhost:8080/"
        },
        "id": "g57NNznbyB6a",
        "outputId": "c1d80b1f-03d3-4f55-cba0-59b9919968cf"
      },
      "execution_count": 6,
      "outputs": [
        {
          "output_type": "execute_result",
          "data": {
            "text/plain": [
              "7"
            ]
          },
          "metadata": {},
          "execution_count": 6
        }
      ]
    },
    {
      "cell_type": "code",
      "source": [
        "#vector\n",
        "vector = torch.tensor([7,7])\n",
        "vector"
      ],
      "metadata": {
        "colab": {
          "base_uri": "https://localhost:8080/"
        },
        "id": "am4C3NNzyOLN",
        "outputId": "c5dca813-6dfb-45e1-f8fe-a1f73f404918"
      },
      "execution_count": 7,
      "outputs": [
        {
          "output_type": "execute_result",
          "data": {
            "text/plain": [
              "tensor([7, 7])"
            ]
          },
          "metadata": {},
          "execution_count": 7
        }
      ]
    },
    {
      "cell_type": "code",
      "source": [
        "vector.ndim"
      ],
      "metadata": {
        "colab": {
          "base_uri": "https://localhost:8080/"
        },
        "id": "UG3w44iRyh9b",
        "outputId": "bf7dddde-9490-4bb9-ceec-bec25784bbac"
      },
      "execution_count": 8,
      "outputs": [
        {
          "output_type": "execute_result",
          "data": {
            "text/plain": [
              "1"
            ]
          },
          "metadata": {},
          "execution_count": 8
        }
      ]
    },
    {
      "cell_type": "code",
      "source": [
        "vector.shape"
      ],
      "metadata": {
        "colab": {
          "base_uri": "https://localhost:8080/"
        },
        "id": "T4ieiQRyymB1",
        "outputId": "ecb41c93-923a-4432-9ae3-cc130bd63c7e"
      },
      "execution_count": 9,
      "outputs": [
        {
          "output_type": "execute_result",
          "data": {
            "text/plain": [
              "torch.Size([2])"
            ]
          },
          "metadata": {},
          "execution_count": 9
        }
      ]
    },
    {
      "cell_type": "code",
      "source": [
        "#matrix\n",
        "MATRIX = torch.tensor([[7,8],\n",
        "                      [9,10]])\n",
        "MATRIX\n"
      ],
      "metadata": {
        "colab": {
          "base_uri": "https://localhost:8080/"
        },
        "id": "wexINEwqyolb",
        "outputId": "8db48229-ad13-438d-a495-d3b96c0b33fd"
      },
      "execution_count": 10,
      "outputs": [
        {
          "output_type": "execute_result",
          "data": {
            "text/plain": [
              "tensor([[ 7,  8],\n",
              "        [ 9, 10]])"
            ]
          },
          "metadata": {},
          "execution_count": 10
        }
      ]
    },
    {
      "cell_type": "code",
      "source": [
        "MATRIX.ndim"
      ],
      "metadata": {
        "colab": {
          "base_uri": "https://localhost:8080/"
        },
        "id": "Xm7PGAG1zEBZ",
        "outputId": "3a286688-f210-4072-d3d7-54fa381128c8"
      },
      "execution_count": 11,
      "outputs": [
        {
          "output_type": "execute_result",
          "data": {
            "text/plain": [
              "2"
            ]
          },
          "metadata": {},
          "execution_count": 11
        }
      ]
    },
    {
      "cell_type": "code",
      "source": [
        "MATRIX[1]"
      ],
      "metadata": {
        "colab": {
          "base_uri": "https://localhost:8080/"
        },
        "id": "EvoOzPJdzIgd",
        "outputId": "0fb91769-d92b-437f-975f-f4859cc4e547"
      },
      "execution_count": 12,
      "outputs": [
        {
          "output_type": "execute_result",
          "data": {
            "text/plain": [
              "tensor([ 9, 10])"
            ]
          },
          "metadata": {},
          "execution_count": 12
        }
      ]
    },
    {
      "cell_type": "code",
      "source": [
        "MATRIX.shape"
      ],
      "metadata": {
        "colab": {
          "base_uri": "https://localhost:8080/"
        },
        "id": "6eSRxHX2zOS4",
        "outputId": "608698d8-5046-43de-f37c-89c123a57059"
      },
      "execution_count": 13,
      "outputs": [
        {
          "output_type": "execute_result",
          "data": {
            "text/plain": [
              "torch.Size([2, 2])"
            ]
          },
          "metadata": {},
          "execution_count": 13
        }
      ]
    },
    {
      "cell_type": "code",
      "source": [
        "#TENSOR\n",
        "TENSOR = torch.tensor([[[1,2,4],\n",
        "                         [2,3,4],\n",
        "                         [4,5,6]]])"
      ],
      "metadata": {
        "id": "8950TfPczRPv"
      },
      "execution_count": 14,
      "outputs": []
    },
    {
      "cell_type": "code",
      "source": [
        "TENSOR"
      ],
      "metadata": {
        "colab": {
          "base_uri": "https://localhost:8080/"
        },
        "id": "SJ2MSdj7zqLW",
        "outputId": "d21f97ea-c505-4e2c-e4c3-a0bdc9c9c651"
      },
      "execution_count": 15,
      "outputs": [
        {
          "output_type": "execute_result",
          "data": {
            "text/plain": [
              "tensor([[[1, 2, 4],\n",
              "         [2, 3, 4],\n",
              "         [4, 5, 6]]])"
            ]
          },
          "metadata": {},
          "execution_count": 15
        }
      ]
    },
    {
      "cell_type": "code",
      "source": [
        "TENSOR.ndim"
      ],
      "metadata": {
        "colab": {
          "base_uri": "https://localhost:8080/"
        },
        "id": "LUFlW-blztOy",
        "outputId": "61e303c1-2e3a-4038-fef1-2a8c117186b9"
      },
      "execution_count": 16,
      "outputs": [
        {
          "output_type": "execute_result",
          "data": {
            "text/plain": [
              "3"
            ]
          },
          "metadata": {},
          "execution_count": 16
        }
      ]
    },
    {
      "cell_type": "code",
      "source": [
        "TENSOR.shape"
      ],
      "metadata": {
        "colab": {
          "base_uri": "https://localhost:8080/"
        },
        "id": "NOi9qPb9zvmF",
        "outputId": "cb57575d-757d-4787-8fdd-f89125e6cd58"
      },
      "execution_count": 17,
      "outputs": [
        {
          "output_type": "execute_result",
          "data": {
            "text/plain": [
              "torch.Size([1, 3, 3])"
            ]
          },
          "metadata": {},
          "execution_count": 17
        }
      ]
    },
    {
      "cell_type": "code",
      "source": [
        "TENSOR[0]"
      ],
      "metadata": {
        "colab": {
          "base_uri": "https://localhost:8080/"
        },
        "id": "6eeTCFwtzyJi",
        "outputId": "202b0931-7c24-49e9-c2cd-2f25626328f5"
      },
      "execution_count": 18,
      "outputs": [
        {
          "output_type": "execute_result",
          "data": {
            "text/plain": [
              "tensor([[1, 2, 4],\n",
              "        [2, 3, 4],\n",
              "        [4, 5, 6]])"
            ]
          },
          "metadata": {},
          "execution_count": 18
        }
      ]
    },
    {
      "cell_type": "code",
      "source": [
        "TENSOR = torch.tensor([[[6,7,8],\n",
        "                        [5,6,7],\n",
        "                        [4,5,6]]])\n",
        "TENSOR"
      ],
      "metadata": {
        "colab": {
          "base_uri": "https://localhost:8080/"
        },
        "id": "ET2lqt--z0gu",
        "outputId": "7c1f2aad-3312-4017-fc9c-023bc246988f"
      },
      "execution_count": 19,
      "outputs": [
        {
          "output_type": "execute_result",
          "data": {
            "text/plain": [
              "tensor([[[6, 7, 8],\n",
              "         [5, 6, 7],\n",
              "         [4, 5, 6]]])"
            ]
          },
          "metadata": {},
          "execution_count": 19
        }
      ]
    },
    {
      "cell_type": "code",
      "source": [
        "TENSOR.ndim"
      ],
      "metadata": {
        "colab": {
          "base_uri": "https://localhost:8080/"
        },
        "id": "CsuKrOcMz27a",
        "outputId": "befa68c6-5260-4624-8b29-bc1543f289b5"
      },
      "execution_count": 20,
      "outputs": [
        {
          "output_type": "execute_result",
          "data": {
            "text/plain": [
              "3"
            ]
          },
          "metadata": {},
          "execution_count": 20
        }
      ]
    },
    {
      "cell_type": "code",
      "source": [
        "TENSOR.shape"
      ],
      "metadata": {
        "colab": {
          "base_uri": "https://localhost:8080/"
        },
        "id": "B0LmokBZ_UwJ",
        "outputId": "524a8039-8ef1-4c29-b557-dc24816eb997"
      },
      "execution_count": 21,
      "outputs": [
        {
          "output_type": "execute_result",
          "data": {
            "text/plain": [
              "torch.Size([1, 3, 3])"
            ]
          },
          "metadata": {},
          "execution_count": 21
        }
      ]
    },
    {
      "cell_type": "code",
      "source": [
        "TENSOR[0]"
      ],
      "metadata": {
        "colab": {
          "base_uri": "https://localhost:8080/"
        },
        "id": "xUU7BC75_YAa",
        "outputId": "8c93beb2-450b-474d-a6cd-c4a542649c4b"
      },
      "execution_count": 22,
      "outputs": [
        {
          "output_type": "execute_result",
          "data": {
            "text/plain": [
              "tensor([[6, 7, 8],\n",
              "        [5, 6, 7],\n",
              "        [4, 5, 6]])"
            ]
          },
          "metadata": {},
          "execution_count": 22
        }
      ]
    },
    {
      "cell_type": "code",
      "source": [
        "#create a random tensor of size (3,4)\n",
        "random_tensor = torch.rand(10,10,10)\n",
        "random_tensor"
      ],
      "metadata": {
        "colab": {
          "base_uri": "https://localhost:8080/"
        },
        "id": "gTsFrcdZ_coi",
        "outputId": "8cd42705-3093-4b70-e681-95ea13cf6a92"
      },
      "execution_count": 23,
      "outputs": [
        {
          "output_type": "execute_result",
          "data": {
            "text/plain": [
              "tensor([[[0.9509, 0.1010, 0.9083, 0.5472, 0.2184, 0.1165, 0.4262, 0.5387,\n",
              "          0.0030, 0.5919],\n",
              "         [0.0847, 0.1732, 0.9978, 0.9351, 0.2783, 0.4567, 0.5747, 0.8300,\n",
              "          0.0819, 0.1960],\n",
              "         [0.4861, 0.1641, 0.7018, 0.3790, 0.7784, 0.5023, 0.2605, 0.1840,\n",
              "          0.0319, 0.4925],\n",
              "         [0.0966, 0.1649, 0.6757, 0.4083, 0.5208, 0.8876, 0.4596, 0.0659,\n",
              "          0.9788, 0.7677],\n",
              "         [0.8441, 0.7971, 0.4362, 0.5267, 0.8203, 0.3304, 0.0019, 0.9041,\n",
              "          0.4418, 0.8249],\n",
              "         [0.0197, 0.3053, 0.6890, 0.3223, 0.1924, 0.0183, 0.9526, 0.6264,\n",
              "          0.9026, 0.2245],\n",
              "         [0.9786, 0.8711, 0.4809, 0.1753, 0.9755, 0.6913, 0.0783, 0.5714,\n",
              "          0.9924, 0.3412],\n",
              "         [0.4938, 0.7792, 0.8648, 0.5429, 0.6799, 0.9000, 0.9100, 0.2728,\n",
              "          0.5664, 0.5771],\n",
              "         [0.5596, 0.4852, 0.3767, 0.1039, 0.6160, 0.6684, 0.6673, 0.0235,\n",
              "          0.7921, 0.3928],\n",
              "         [0.6777, 0.0717, 0.8538, 0.3668, 0.2004, 0.3943, 0.4146, 0.7490,\n",
              "          0.1113, 0.0128]],\n",
              "\n",
              "        [[0.0908, 0.0407, 0.5077, 0.5902, 0.6318, 0.4099, 0.5629, 0.6518,\n",
              "          0.1792, 0.5139],\n",
              "         [0.5663, 0.0215, 0.6934, 0.3706, 0.8355, 0.3101, 0.4635, 0.5423,\n",
              "          0.5506, 0.5342],\n",
              "         [0.6782, 0.5506, 0.8297, 0.2807, 0.6737, 0.7999, 0.3964, 0.5520,\n",
              "          0.6804, 0.5370],\n",
              "         [0.1919, 0.7891, 0.6345, 0.2582, 0.8261, 0.0676, 0.6919, 0.3342,\n",
              "          0.2952, 0.3546],\n",
              "         [0.3884, 0.1589, 0.3589, 0.4374, 0.5573, 0.6675, 0.9548, 0.7185,\n",
              "          0.3647, 0.9938],\n",
              "         [0.0645, 0.8193, 0.8232, 0.1033, 0.4822, 0.3506, 0.7564, 0.2565,\n",
              "          0.8926, 0.1327],\n",
              "         [0.4691, 0.5328, 0.4449, 0.3216, 0.6928, 0.1376, 0.4043, 0.3615,\n",
              "          0.5286, 0.8746],\n",
              "         [0.9115, 0.8324, 0.4520, 0.7882, 0.0544, 0.2894, 0.6075, 0.5453,\n",
              "          0.1308, 0.1285],\n",
              "         [0.5981, 0.4747, 0.4812, 0.0015, 0.7174, 0.0532, 0.8889, 0.8571,\n",
              "          0.0121, 0.7974],\n",
              "         [0.4608, 0.1538, 0.9691, 0.6569, 0.0587, 0.2881, 0.7799, 0.7667,\n",
              "          0.8438, 0.7899]],\n",
              "\n",
              "        [[0.2935, 0.3650, 0.2139, 0.8902, 0.5573, 0.6660, 0.0685, 0.0918,\n",
              "          0.6682, 0.8828],\n",
              "         [0.3002, 0.1116, 0.0076, 0.5762, 0.5616, 0.6863, 0.4992, 0.5013,\n",
              "          0.6038, 0.7005],\n",
              "         [0.0502, 0.2206, 0.7037, 0.2721, 0.5429, 0.5026, 0.0192, 0.7580,\n",
              "          0.5500, 0.0588],\n",
              "         [0.6868, 0.7274, 0.6659, 0.8194, 0.4247, 0.2714, 0.8079, 0.9877,\n",
              "          0.8160, 0.4719],\n",
              "         [0.0292, 0.1391, 0.2002, 0.1759, 0.7787, 0.0289, 0.4397, 0.7341,\n",
              "          0.5080, 0.5288],\n",
              "         [0.8572, 0.3068, 0.1232, 0.6154, 0.7389, 0.1301, 0.8379, 0.1086,\n",
              "          0.4254, 0.6418],\n",
              "         [0.5928, 0.4432, 0.6323, 0.7617, 0.0548, 0.0369, 0.8804, 0.8801,\n",
              "          0.4124, 0.7284],\n",
              "         [0.4815, 0.1069, 0.9530, 0.8372, 0.9790, 0.9956, 0.3620, 0.6751,\n",
              "          0.1607, 0.2785],\n",
              "         [0.8732, 0.5290, 0.0992, 0.0481, 0.3702, 0.5735, 0.0882, 0.7101,\n",
              "          0.8392, 0.9376],\n",
              "         [0.2710, 0.6809, 0.4711, 0.5122, 0.7343, 0.0142, 0.1690, 0.1972,\n",
              "          0.1091, 0.2542]],\n",
              "\n",
              "        [[0.5347, 0.9728, 0.4129, 0.8111, 0.9470, 0.2550, 0.7189, 0.4354,\n",
              "          0.8041, 0.9581],\n",
              "         [0.4023, 0.0245, 0.3399, 0.2174, 0.3927, 0.4214, 0.1299, 0.9219,\n",
              "          0.4699, 0.8570],\n",
              "         [0.3307, 0.4798, 0.2647, 0.2438, 0.6669, 0.7620, 0.3869, 0.8362,\n",
              "          0.0695, 0.8904],\n",
              "         [0.6278, 0.2025, 0.3305, 0.6439, 0.3531, 0.0989, 0.7896, 0.7092,\n",
              "          0.0582, 0.6287],\n",
              "         [0.0661, 0.7798, 0.8440, 0.7582, 0.9778, 0.1462, 0.2607, 0.1958,\n",
              "          0.3837, 0.4072],\n",
              "         [0.1700, 0.3776, 0.4466, 0.8676, 0.8864, 0.9229, 0.0216, 0.3674,\n",
              "          0.5222, 0.8172],\n",
              "         [0.8652, 0.4332, 0.6445, 0.5632, 0.6432, 0.6084, 0.9844, 0.7758,\n",
              "          0.2629, 0.4619],\n",
              "         [0.3285, 0.6783, 0.0170, 0.8729, 0.8042, 0.9967, 0.7843, 0.5458,\n",
              "          0.4237, 0.3185],\n",
              "         [0.1355, 0.1260, 0.8671, 0.8937, 0.7670, 0.1132, 0.4187, 0.4773,\n",
              "          0.0590, 0.9261],\n",
              "         [0.9670, 0.5221, 0.6228, 0.7199, 0.6351, 0.0555, 0.4221, 0.3803,\n",
              "          0.8388, 0.5317]],\n",
              "\n",
              "        [[0.8081, 0.1653, 0.4159, 0.3016, 0.0875, 0.0054, 0.8642, 0.8363,\n",
              "          0.8053, 0.6378],\n",
              "         [0.9871, 0.4878, 0.0035, 0.3406, 0.7700, 0.4790, 0.7009, 0.9521,\n",
              "          0.8828, 0.7939],\n",
              "         [0.9926, 0.0359, 0.6548, 0.2015, 0.1780, 0.6058, 0.6505, 0.3949,\n",
              "          0.0246, 0.4141],\n",
              "         [0.2074, 0.7765, 0.8046, 0.4161, 0.2255, 0.2518, 0.7010, 0.3861,\n",
              "          0.5949, 0.2739],\n",
              "         [0.0378, 0.8913, 0.1911, 0.0764, 0.0379, 0.7357, 0.1493, 0.4834,\n",
              "          0.5431, 0.1031],\n",
              "         [0.0447, 0.7988, 0.5415, 0.6477, 0.0387, 0.6527, 0.0341, 0.2860,\n",
              "          0.1349, 0.5139],\n",
              "         [0.2523, 0.4075, 0.3604, 0.8772, 0.3192, 0.6385, 0.1097, 0.0129,\n",
              "          0.2623, 0.2969],\n",
              "         [0.3932, 0.6759, 0.1396, 0.1568, 0.9237, 0.2442, 0.5877, 0.7795,\n",
              "          0.2165, 0.4985],\n",
              "         [0.5710, 0.6931, 0.6089, 0.5493, 0.4225, 0.0021, 0.8380, 0.9165,\n",
              "          0.6667, 0.3350],\n",
              "         [0.8246, 0.5431, 0.9269, 0.8582, 0.0887, 0.3249, 0.8656, 0.9867,\n",
              "          0.2725, 0.1564]],\n",
              "\n",
              "        [[0.9241, 0.9050, 0.0136, 0.9319, 0.5088, 0.0946, 0.4406, 0.3242,\n",
              "          0.4293, 0.9307],\n",
              "         [0.3691, 0.1146, 0.1595, 0.1678, 0.8675, 0.9576, 0.8960, 0.6593,\n",
              "          0.2612, 0.5735],\n",
              "         [0.4174, 0.6225, 0.7776, 0.2568, 0.0025, 0.1000, 0.0994, 0.0807,\n",
              "          0.0679, 0.0038],\n",
              "         [0.0717, 0.0214, 0.7385, 0.8805, 0.7748, 0.0954, 0.3443, 0.9184,\n",
              "          0.9329, 0.8926],\n",
              "         [0.7245, 0.2778, 0.3553, 0.1731, 0.8161, 0.1760, 0.7846, 0.8894,\n",
              "          0.0305, 0.0081],\n",
              "         [0.1113, 0.2681, 0.0835, 0.4701, 0.9550, 0.9446, 0.4783, 0.9837,\n",
              "          0.2638, 0.8199],\n",
              "         [0.6887, 0.9084, 0.1261, 0.8445, 0.9567, 0.8506, 0.4012, 0.0616,\n",
              "          0.1185, 0.1833],\n",
              "         [0.1963, 0.6951, 0.7350, 0.6156, 0.6099, 0.2903, 0.0039, 0.7964,\n",
              "          0.4831, 0.1042],\n",
              "         [0.2581, 0.9172, 0.0862, 0.6396, 0.5224, 0.1155, 0.3611, 0.0980,\n",
              "          0.0145, 0.2232],\n",
              "         [0.9447, 0.7814, 0.2294, 0.8698, 0.7043, 0.1225, 0.3642, 0.9946,\n",
              "          0.1845, 0.4654]],\n",
              "\n",
              "        [[0.3820, 0.7972, 0.9711, 0.9585, 0.9458, 0.5641, 0.2929, 0.9015,\n",
              "          0.3359, 0.6949],\n",
              "         [0.8620, 0.7531, 0.7581, 0.3083, 0.3762, 0.5857, 0.1516, 0.5565,\n",
              "          0.9738, 0.5653],\n",
              "         [0.9787, 0.9258, 0.5239, 0.2912, 0.2275, 0.0764, 0.4516, 0.6995,\n",
              "          0.9161, 0.6429],\n",
              "         [0.2515, 0.1445, 0.8459, 0.8281, 0.8028, 0.1131, 0.2091, 0.1988,\n",
              "          0.6972, 0.1462],\n",
              "         [0.1428, 0.8256, 0.0757, 0.4661, 0.0356, 0.4421, 0.1214, 0.6620,\n",
              "          0.5856, 0.0124],\n",
              "         [0.2950, 0.9483, 0.3453, 0.9812, 0.5089, 0.5874, 0.7595, 0.3163,\n",
              "          0.4483, 0.2181],\n",
              "         [0.4798, 0.8305, 0.6700, 0.4155, 0.7988, 0.1977, 0.8547, 0.9360,\n",
              "          0.3523, 0.3289],\n",
              "         [0.4012, 0.5856, 0.8422, 0.5386, 0.7388, 0.6042, 0.8751, 0.3512,\n",
              "          0.3040, 0.8621],\n",
              "         [0.2940, 0.4248, 0.7407, 0.1983, 0.1656, 0.8173, 0.8296, 0.4908,\n",
              "          0.6948, 0.1903],\n",
              "         [0.1914, 0.7363, 0.8782, 0.6655, 0.0676, 0.4034, 0.8589, 0.7688,\n",
              "          0.5460, 0.4153]],\n",
              "\n",
              "        [[0.3863, 0.7873, 0.9768, 0.1630, 0.1739, 0.9290, 0.2693, 0.7277,\n",
              "          0.3550, 0.9043],\n",
              "         [0.3196, 0.1970, 0.6858, 0.8971, 0.0790, 0.6098, 0.4933, 0.0940,\n",
              "          0.2569, 0.2868],\n",
              "         [0.6067, 0.5235, 0.7381, 0.1555, 0.3552, 0.9731, 0.3514, 0.2938,\n",
              "          0.2693, 0.3140],\n",
              "         [0.5723, 0.4693, 0.5199, 0.8554, 0.8633, 0.1989, 0.5513, 0.2847,\n",
              "          0.0632, 0.3068],\n",
              "         [0.3980, 0.6118, 0.8806, 0.8545, 0.9573, 0.3481, 0.5957, 0.3180,\n",
              "          0.3833, 0.3184],\n",
              "         [0.3107, 0.9698, 0.8904, 0.3580, 0.0504, 0.6315, 0.9908, 0.4632,\n",
              "          0.9366, 0.8382],\n",
              "         [0.0218, 0.4025, 0.5376, 0.2725, 0.0112, 0.0983, 0.1597, 0.4220,\n",
              "          0.4841, 0.6317],\n",
              "         [0.8560, 0.1298, 0.7853, 0.2734, 0.0427, 0.7687, 0.6703, 0.6656,\n",
              "          0.1950, 0.1343],\n",
              "         [0.9344, 0.6631, 0.0771, 0.2763, 0.2713, 0.0458, 0.5053, 0.1719,\n",
              "          0.3584, 0.3841],\n",
              "         [0.9539, 0.2778, 0.0423, 0.0151, 0.3876, 0.4339, 0.4349, 0.6492,\n",
              "          0.4155, 0.9969]],\n",
              "\n",
              "        [[0.5883, 0.1012, 0.0596, 0.0784, 0.0176, 0.3729, 0.9905, 0.0686,\n",
              "          0.4879, 0.1484],\n",
              "         [0.2171, 0.0701, 0.1943, 0.4177, 0.1629, 0.1126, 0.5416, 0.7868,\n",
              "          0.8611, 0.7965],\n",
              "         [0.5609, 0.9961, 0.1203, 0.9418, 0.0243, 0.2812, 0.5483, 0.3859,\n",
              "          0.0983, 0.8786],\n",
              "         [0.1127, 0.7441, 0.4801, 0.3440, 0.7296, 0.6023, 0.0545, 0.9860,\n",
              "          0.4465, 0.4765],\n",
              "         [0.1271, 0.7118, 0.2294, 0.0161, 0.5531, 0.9678, 0.7745, 0.8761,\n",
              "          0.9557, 0.4579],\n",
              "         [0.6594, 0.6677, 0.6204, 0.9855, 0.4433, 0.3400, 0.0309, 0.8335,\n",
              "          0.0728, 0.1746],\n",
              "         [0.7352, 0.8429, 0.4897, 0.1102, 0.3394, 0.3109, 0.4844, 0.9344,\n",
              "          0.1199, 0.2814],\n",
              "         [0.6468, 0.4166, 0.9237, 0.7875, 0.6943, 0.3217, 0.1496, 0.8541,\n",
              "          0.6564, 0.5659],\n",
              "         [0.4228, 0.9847, 0.6923, 0.8175, 0.7209, 0.3464, 0.5890, 0.1665,\n",
              "          0.6031, 0.4330],\n",
              "         [0.0886, 0.1600, 0.1088, 0.3980, 0.9627, 0.4374, 0.8572, 0.4662,\n",
              "          0.8719, 0.8226]],\n",
              "\n",
              "        [[0.0196, 0.2891, 0.1806, 0.5191, 0.4681, 0.0766, 0.8508, 0.7867,\n",
              "          0.1022, 0.4949],\n",
              "         [0.7879, 0.4201, 0.7681, 0.8164, 0.4883, 0.9904, 0.0642, 0.5890,\n",
              "          0.1166, 0.4502],\n",
              "         [0.0080, 0.4893, 0.3422, 0.0049, 0.0312, 0.7783, 0.4021, 0.0675,\n",
              "          0.0112, 0.4340],\n",
              "         [0.0687, 0.8545, 0.3204, 0.0603, 0.6674, 0.3724, 0.5210, 0.5733,\n",
              "          0.4470, 0.8172],\n",
              "         [0.1296, 0.0455, 0.2215, 0.8567, 0.6724, 0.1602, 0.6699, 0.7846,\n",
              "          0.9186, 0.6474],\n",
              "         [0.0143, 0.8838, 0.0278, 0.4024, 0.0469, 0.5741, 0.6391, 0.2239,\n",
              "          0.2788, 0.1642],\n",
              "         [0.3678, 0.2289, 0.7229, 0.8846, 0.7602, 0.2216, 0.5186, 0.9018,\n",
              "          0.5202, 0.7727],\n",
              "         [0.0323, 0.1316, 0.7879, 0.8430, 0.2790, 0.9918, 0.6166, 0.6036,\n",
              "          0.8340, 0.8254],\n",
              "         [0.9315, 0.2176, 0.6501, 0.7920, 0.2030, 0.0436, 0.8048, 0.2303,\n",
              "          0.6835, 0.6549],\n",
              "         [0.5994, 0.3333, 0.3421, 0.5193, 0.9992, 0.1270, 0.6337, 0.8503,\n",
              "          0.2010, 0.5355]]])"
            ]
          },
          "metadata": {},
          "execution_count": 23
        }
      ]
    },
    {
      "cell_type": "code",
      "source": [
        "random_tensor.ndim"
      ],
      "metadata": {
        "colab": {
          "base_uri": "https://localhost:8080/"
        },
        "id": "-RxQZRQXDZT3",
        "outputId": "6e6ffe84-3f81-45e2-b951-4f18bdc8f1eb"
      },
      "execution_count": 24,
      "outputs": [
        {
          "output_type": "execute_result",
          "data": {
            "text/plain": [
              "3"
            ]
          },
          "metadata": {},
          "execution_count": 24
        }
      ]
    },
    {
      "cell_type": "code",
      "source": [
        "#create a random tensor with similar shape to an image tensor\n",
        "random_image_size_tensor = torch.rand(size=(3,224,224))#height,width,color channel\n",
        "random_image_size_tensor.shape, random_image_size_tensor.ndim"
      ],
      "metadata": {
        "colab": {
          "base_uri": "https://localhost:8080/"
        },
        "id": "2lE6FB17DpMe",
        "outputId": "f5e76f42-e4a4-4c9a-acef-245205e7f9a0"
      },
      "execution_count": 25,
      "outputs": [
        {
          "output_type": "execute_result",
          "data": {
            "text/plain": [
              "(torch.Size([3, 224, 224]), 3)"
            ]
          },
          "metadata": {},
          "execution_count": 25
        }
      ]
    },
    {
      "cell_type": "code",
      "source": [
        "torch.rand(3,3)"
      ],
      "metadata": {
        "colab": {
          "base_uri": "https://localhost:8080/"
        },
        "id": "RcRkAqzqHZIe",
        "outputId": "82eaf3ad-9647-4ad8-a402-69cc2afe4517"
      },
      "execution_count": 26,
      "outputs": [
        {
          "output_type": "execute_result",
          "data": {
            "text/plain": [
              "tensor([[0.2121, 0.4185, 0.6404],\n",
              "        [0.4565, 0.1690, 0.9061],\n",
              "        [0.7295, 0.1798, 0.7128]])"
            ]
          },
          "metadata": {},
          "execution_count": 26
        }
      ]
    },
    {
      "cell_type": "code",
      "source": [
        "#zeros and ones\n",
        "zero = torch.zeros(size=(3,4))\n",
        "zero"
      ],
      "metadata": {
        "colab": {
          "base_uri": "https://localhost:8080/"
        },
        "id": "iSZZDYqWIVsz",
        "outputId": "35009ca8-933a-4c0a-e52d-5175a465c47d"
      },
      "execution_count": 27,
      "outputs": [
        {
          "output_type": "execute_result",
          "data": {
            "text/plain": [
              "tensor([[0., 0., 0., 0.],\n",
              "        [0., 0., 0., 0.],\n",
              "        [0., 0., 0., 0.]])"
            ]
          },
          "metadata": {},
          "execution_count": 27
        }
      ]
    },
    {
      "cell_type": "code",
      "source": [
        "#create a tensor of all ones\n",
        "ones = torch.ones(size=(3,4))\n",
        "ones"
      ],
      "metadata": {
        "colab": {
          "base_uri": "https://localhost:8080/"
        },
        "id": "uZNjgqG0IrqQ",
        "outputId": "523bc1ff-0fee-43dc-b097-a1f4611ac18c"
      },
      "execution_count": 28,
      "outputs": [
        {
          "output_type": "execute_result",
          "data": {
            "text/plain": [
              "tensor([[1., 1., 1., 1.],\n",
              "        [1., 1., 1., 1.],\n",
              "        [1., 1., 1., 1.]])"
            ]
          },
          "metadata": {},
          "execution_count": 28
        }
      ]
    },
    {
      "cell_type": "code",
      "source": [
        "#use torch.range()\n",
        "one_to_ten = torch.arange(1,11)\n",
        "one_to_ten"
      ],
      "metadata": {
        "colab": {
          "base_uri": "https://localhost:8080/"
        },
        "id": "pbHnsIQFI3N9",
        "outputId": "86ab9f54-8229-4a4b-da58-827900a62a4b"
      },
      "execution_count": 29,
      "outputs": [
        {
          "output_type": "execute_result",
          "data": {
            "text/plain": [
              "tensor([ 1,  2,  3,  4,  5,  6,  7,  8,  9, 10])"
            ]
          },
          "metadata": {},
          "execution_count": 29
        }
      ]
    },
    {
      "cell_type": "code",
      "source": [
        "one_to_ten = torch.arange(start=1, end=11, step=1)\n",
        "one_to_ten"
      ],
      "metadata": {
        "colab": {
          "base_uri": "https://localhost:8080/"
        },
        "id": "40k8u2g-JdPJ",
        "outputId": "5a3de8d6-1dc8-44c1-ede2-52001702ab5c"
      },
      "execution_count": 30,
      "outputs": [
        {
          "output_type": "execute_result",
          "data": {
            "text/plain": [
              "tensor([ 1,  2,  3,  4,  5,  6,  7,  8,  9, 10])"
            ]
          },
          "metadata": {},
          "execution_count": 30
        }
      ]
    },
    {
      "cell_type": "code",
      "source": [
        "one_to_ten.shape"
      ],
      "metadata": {
        "id": "q-tCvr99Jsld",
        "outputId": "165b3820-efd8-459d-8401-fbf43b1bbf63",
        "colab": {
          "base_uri": "https://localhost:8080/"
        }
      },
      "execution_count": 31,
      "outputs": [
        {
          "output_type": "execute_result",
          "data": {
            "text/plain": [
              "torch.Size([10])"
            ]
          },
          "metadata": {},
          "execution_count": 31
        }
      ]
    },
    {
      "cell_type": "code",
      "source": [
        "ten_zero = torch.zeros_like(input=one_to_ten)\n",
        "ten_zero"
      ],
      "metadata": {
        "id": "c3cUuCvlJv0p",
        "outputId": "0b759ba5-cf9a-4230-e200-72f6815b9e33",
        "colab": {
          "base_uri": "https://localhost:8080/"
        }
      },
      "execution_count": 32,
      "outputs": [
        {
          "output_type": "execute_result",
          "data": {
            "text/plain": [
              "tensor([0, 0, 0, 0, 0, 0, 0, 0, 0, 0])"
            ]
          },
          "metadata": {},
          "execution_count": 32
        }
      ]
    },
    {
      "cell_type": "markdown",
      "source": [
        "Tensor Datatype\n",
        "\n",
        "**Note:** Tensor datatype is one of the 3 big errors you'll run into with PyTorch & deep learning:\n",
        "\n",
        "1. Tensors not right datatype\n",
        "\n",
        "2.Tensor not right shape"
      ],
      "metadata": {
        "id": "EmxeZbwijYMV"
      }
    },
    {
      "cell_type": "code",
      "source": [
        "#float 32 tensor\n",
        "float_32_tensor = torch.tensor([3.0,6.0,9.0],\n",
        "                               dtype=None,\n",
        "                               device=None,\n",
        "                               requires_grad=False)\n",
        "float_32_tensor"
      ],
      "metadata": {
        "id": "SIUx2GVLjUdQ",
        "outputId": "a3ee884a-05c3-49c6-cd58-020d73d3b252",
        "colab": {
          "base_uri": "https://localhost:8080/"
        }
      },
      "execution_count": 33,
      "outputs": [
        {
          "output_type": "execute_result",
          "data": {
            "text/plain": [
              "tensor([3., 6., 9.])"
            ]
          },
          "metadata": {},
          "execution_count": 33
        }
      ]
    },
    {
      "cell_type": "code",
      "source": [
        "tensor = torch.tensor( [1.0, 2.0, 3.0],dtype=torch.float32)\n",
        "print(tensor)\n"
      ],
      "metadata": {
        "id": "Ek7hBuaZm4_z",
        "colab": {
          "base_uri": "https://localhost:8080/"
        },
        "outputId": "927b0218-da37-4f3e-cbb5-ce47ed0f63f2"
      },
      "execution_count": 34,
      "outputs": [
        {
          "output_type": "stream",
          "name": "stdout",
          "text": [
            "tensor([1., 2., 3.])\n"
          ]
        }
      ]
    },
    {
      "cell_type": "code",
      "source": [
        "float_16_tensor = float_32_tensor.type(torch.float16)\n",
        "float_16_tensor"
      ],
      "metadata": {
        "colab": {
          "base_uri": "https://localhost:8080/"
        },
        "id": "y9kmAs3Powjl",
        "outputId": "dbf0c8ea-5cb6-4561-c842-0786edc9465f"
      },
      "execution_count": 35,
      "outputs": [
        {
          "output_type": "execute_result",
          "data": {
            "text/plain": [
              "tensor([3., 6., 9.], dtype=torch.float16)"
            ]
          },
          "metadata": {},
          "execution_count": 35
        }
      ]
    },
    {
      "cell_type": "code",
      "source": [
        "float_16_tensor = float_32_tensor"
      ],
      "metadata": {
        "id": "w0wRNfWtrHE_"
      },
      "execution_count": 36,
      "outputs": []
    },
    {
      "cell_type": "code",
      "source": [
        "int_32_tensor = torch.tensor([3,6,9], dtype=torch.int32)\n",
        "int_32_tensor"
      ],
      "metadata": {
        "colab": {
          "base_uri": "https://localhost:8080/"
        },
        "id": "DgLLHRpfruKF",
        "outputId": "5926bace-d026-4753-baa6-816da9a9f6e1"
      },
      "execution_count": 37,
      "outputs": [
        {
          "output_type": "execute_result",
          "data": {
            "text/plain": [
              "tensor([3, 6, 9], dtype=torch.int32)"
            ]
          },
          "metadata": {},
          "execution_count": 37
        }
      ]
    },
    {
      "cell_type": "code",
      "source": [
        "float_32_tensor * int_32_tensor"
      ],
      "metadata": {
        "id": "iG6gO6Q5LWSx",
        "outputId": "afdc9983-f9e2-4a40-91c9-0dcb204c54b9",
        "colab": {
          "base_uri": "https://localhost:8080/"
        }
      },
      "execution_count": 38,
      "outputs": [
        {
          "output_type": "execute_result",
          "data": {
            "text/plain": [
              "tensor([ 9., 36., 81.])"
            ]
          },
          "metadata": {},
          "execution_count": 38
        }
      ]
    },
    {
      "cell_type": "code",
      "source": [
        "#create a tensor\n",
        "some_tensor = torch.rand(3,4)\n",
        "some_tensor"
      ],
      "metadata": {
        "id": "IYOKBoAkMBha",
        "outputId": "dae3114a-0eb8-4dcc-fd99-6445911f0339",
        "colab": {
          "base_uri": "https://localhost:8080/"
        }
      },
      "execution_count": 39,
      "outputs": [
        {
          "output_type": "execute_result",
          "data": {
            "text/plain": [
              "tensor([[0.0062, 0.6610, 0.6065, 0.1179],\n",
              "        [0.7041, 0.5144, 0.0986, 0.5549],\n",
              "        [0.1296, 0.4288, 0.7601, 0.7368]])"
            ]
          },
          "metadata": {},
          "execution_count": 39
        }
      ]
    },
    {
      "cell_type": "code",
      "source": [
        "#find out details about some tensor\n",
        "print(some_tensor)\n",
        "print(f\"Datatype of tensor: {some_tensor.dtype}\")\n",
        "print(f\"Shape of tensor: {some_tensor.shape}\")\n",
        "print(f\"Device tensor is on: {some_tensor.device}\")"
      ],
      "metadata": {
        "id": "sjlygekbMXJy",
        "outputId": "3c6eeaed-f92f-4d71-aecf-45e16b8be2d4",
        "colab": {
          "base_uri": "https://localhost:8080/"
        }
      },
      "execution_count": 40,
      "outputs": [
        {
          "output_type": "stream",
          "name": "stdout",
          "text": [
            "tensor([[0.0062, 0.6610, 0.6065, 0.1179],\n",
            "        [0.7041, 0.5144, 0.0986, 0.5549],\n",
            "        [0.1296, 0.4288, 0.7601, 0.7368]])\n",
            "Datatype of tensor: torch.float32\n",
            "Shape of tensor: torch.Size([3, 4])\n",
            "Device tensor is on: cpu\n"
          ]
        }
      ]
    },
    {
      "cell_type": "markdown",
      "source": [
        "###manipulating Tensors ( tensor operation)\n",
        "\n",
        "Tensor operattion include:\n",
        "\n",
        "*Addition\n",
        "\n",
        "*Subtraction\n",
        "\n",
        "*Multiplication(element-wise)\n",
        "\n",
        "*division\n",
        "\n",
        "*Matrix Multiplication"
      ],
      "metadata": {
        "id": "2WeJXkaSNvx4"
      }
    },
    {
      "cell_type": "code",
      "source": [
        "#create a tensor and add 10 to it\n",
        "tensor = torch.tensor([1,2,3])\n",
        "tensor + 10"
      ],
      "metadata": {
        "id": "qn5KQtOZMqCe",
        "outputId": "28e03e20-50f6-4392-c1d0-2492d1114dbd",
        "colab": {
          "base_uri": "https://localhost:8080/"
        }
      },
      "execution_count": 41,
      "outputs": [
        {
          "output_type": "execute_result",
          "data": {
            "text/plain": [
              "tensor([11, 12, 13])"
            ]
          },
          "metadata": {},
          "execution_count": 41
        }
      ]
    },
    {
      "cell_type": "code",
      "source": [
        "#multiply tensor by 10\n",
        "tensor * 10"
      ],
      "metadata": {
        "id": "CJznQMdMORMM",
        "outputId": "e3a6413c-6c71-4955-f4d4-d66186ecec8d",
        "colab": {
          "base_uri": "https://localhost:8080/"
        }
      },
      "execution_count": 42,
      "outputs": [
        {
          "output_type": "execute_result",
          "data": {
            "text/plain": [
              "tensor([10, 20, 30])"
            ]
          },
          "metadata": {},
          "execution_count": 42
        }
      ]
    },
    {
      "cell_type": "code",
      "source": [
        "tensor"
      ],
      "metadata": {
        "id": "SmWqezXAP8g-",
        "outputId": "87633e2a-c25d-463b-8cde-70c5fbbfb6c2",
        "colab": {
          "base_uri": "https://localhost:8080/"
        }
      },
      "execution_count": 43,
      "outputs": [
        {
          "output_type": "execute_result",
          "data": {
            "text/plain": [
              "tensor([1, 2, 3])"
            ]
          },
          "metadata": {},
          "execution_count": 43
        }
      ]
    },
    {
      "cell_type": "code",
      "source": [
        "#subtract\n",
        "tensor - 10"
      ],
      "metadata": {
        "id": "MWwFTpF-P_XY",
        "outputId": "b5604837-0091-4570-c214-fe8a759a91ce",
        "colab": {
          "base_uri": "https://localhost:8080/"
        }
      },
      "execution_count": 44,
      "outputs": [
        {
          "output_type": "execute_result",
          "data": {
            "text/plain": [
              "tensor([-9, -8, -7])"
            ]
          },
          "metadata": {},
          "execution_count": 44
        }
      ]
    },
    {
      "cell_type": "code",
      "source": [
        "#divide\n",
        "tensor/10"
      ],
      "metadata": {
        "id": "HHU7DVjOQE2Z",
        "outputId": "51934e72-679c-4937-91cf-dbe96118c6e0",
        "colab": {
          "base_uri": "https://localhost:8080/"
        }
      },
      "execution_count": 45,
      "outputs": [
        {
          "output_type": "execute_result",
          "data": {
            "text/plain": [
              "tensor([0.1000, 0.2000, 0.3000])"
            ]
          },
          "metadata": {},
          "execution_count": 45
        }
      ]
    },
    {
      "cell_type": "code",
      "source": [
        "torch.mul(tensor,10)"
      ],
      "metadata": {
        "id": "QSiCdWgwQJjq",
        "outputId": "13b3cc3c-f273-4fd7-b14c-d05f2b33b682",
        "colab": {
          "base_uri": "https://localhost:8080/"
        }
      },
      "execution_count": 46,
      "outputs": [
        {
          "output_type": "execute_result",
          "data": {
            "text/plain": [
              "tensor([10, 20, 30])"
            ]
          },
          "metadata": {},
          "execution_count": 46
        }
      ]
    },
    {
      "cell_type": "code",
      "source": [
        "torch.add(tensor,10)"
      ],
      "metadata": {
        "id": "vRH20ZpNRHqo",
        "outputId": "faf1270c-941f-450a-ad11-4141a16f9b2e",
        "colab": {
          "base_uri": "https://localhost:8080/"
        }
      },
      "execution_count": 47,
      "outputs": [
        {
          "output_type": "execute_result",
          "data": {
            "text/plain": [
              "tensor([11, 12, 13])"
            ]
          },
          "metadata": {},
          "execution_count": 47
        }
      ]
    },
    {
      "cell_type": "markdown",
      "source": [
        "Matrix multiplication\n",
        "\n",
        "Two main ways of performing multiplication in neural networks and deep learning:\n",
        "\n",
        "1.Element-wise multiplication\n",
        "\n",
        "2.Matrix multiplication(dot product)\n",
        "\n",
        "There are two main rules that performing matrix multiplication\n",
        "\n",
        "1. The **inner dimensions** must match:\n",
        "\n",
        " *(3,2) @ (3,2) won't work\n",
        "\n",
        " *(2,3) @ (3,2) will work\n",
        "\n",
        " *(3,2) @ (2,3) will work\n",
        "\n",
        "\n",
        "2.The resulting matrix has the shape of the **outer dimension**:\n",
        "\n",
        "*(2,3) @ (3,2) -> (2,2)\n",
        "\n",
        "*(3,2) 2 (2,3) -. (3,3)\n",
        "\n",
        "\n"
      ],
      "metadata": {
        "id": "15eaC_8jZp3z"
      }
    },
    {
      "cell_type": "code",
      "source": [
        "torch.matmul(torch.rand(10,10),torch.rand(10,10))"
      ],
      "metadata": {
        "id": "XHyspsAnh5Ak",
        "outputId": "c4585bb5-4f78-4e61-cb20-3d1f29ccbc72",
        "colab": {
          "base_uri": "https://localhost:8080/"
        }
      },
      "execution_count": 56,
      "outputs": [
        {
          "output_type": "execute_result",
          "data": {
            "text/plain": [
              "tensor([[2.9306, 2.8030, 2.2437, 2.3184, 3.1537, 1.6902, 3.1911, 3.7811, 1.8827,\n",
              "         2.5652],\n",
              "        [2.4935, 2.7076, 2.3155, 2.5190, 3.8402, 1.6430, 2.8575, 3.6796, 1.7858,\n",
              "         2.4411],\n",
              "        [2.4701, 2.9059, 2.2529, 3.0286, 3.7816, 1.6010, 2.8200, 4.0167, 2.1772,\n",
              "         2.6022],\n",
              "        [2.4734, 2.6251, 1.8248, 1.8711, 3.2096, 1.4459, 2.7852, 3.3484, 1.7481,\n",
              "         2.1868],\n",
              "        [2.8054, 2.8948, 2.1124, 2.5580, 3.8080, 1.6525, 3.1301, 4.0559, 1.9702,\n",
              "         2.7018],\n",
              "        [2.4628, 2.3384, 2.0044, 2.1869, 3.4056, 1.0915, 2.6867, 3.6090, 1.4370,\n",
              "         2.2819],\n",
              "        [2.1048, 2.9231, 1.9609, 2.1423, 3.7587, 1.3624, 2.3800, 3.3381, 1.8146,\n",
              "         2.5519],\n",
              "        [2.8496, 2.8958, 3.1188, 2.9829, 3.9142, 2.3595, 3.7586, 4.5629, 2.2828,\n",
              "         2.9488],\n",
              "        [2.3148, 2.8381, 2.4403, 2.2648, 3.9331, 1.8418, 3.0600, 3.7919, 1.9868,\n",
              "         2.5255],\n",
              "        [2.5494, 1.8128, 2.1187, 2.3035, 2.9550, 1.5696, 2.5347, 3.2087, 1.6333,\n",
              "         1.8267]])"
            ]
          },
          "metadata": {},
          "execution_count": 56
        }
      ]
    },
    {
      "cell_type": "code",
      "source": [
        "#Elementwise multiplication\n",
        "print(tensor,\"*\",tensor)\n",
        "print(f\"Equals:{tensor * tensor}\")\n"
      ],
      "metadata": {
        "id": "QHc3IlZeRPoG",
        "outputId": "f7a73f52-1c61-4051-a933-0cce90c1edc1",
        "colab": {
          "base_uri": "https://localhost:8080/"
        }
      },
      "execution_count": 48,
      "outputs": [
        {
          "output_type": "stream",
          "name": "stdout",
          "text": [
            "tensor([1, 2, 3]) * tensor([1, 2, 3])\n",
            "Equals:tensor([1, 4, 9])\n"
          ]
        }
      ]
    },
    {
      "cell_type": "code",
      "source": [
        "#matrix multiplication\n",
        "torch.matmul(tensor,tensor)"
      ],
      "metadata": {
        "id": "POZrRMykacyp",
        "outputId": "dd77432c-45c2-4878-eda8-b2d23dcdfd7d",
        "colab": {
          "base_uri": "https://localhost:8080/"
        }
      },
      "execution_count": 49,
      "outputs": [
        {
          "output_type": "execute_result",
          "data": {
            "text/plain": [
              "tensor(14)"
            ]
          },
          "metadata": {},
          "execution_count": 49
        }
      ]
    },
    {
      "cell_type": "code",
      "source": [
        "#matrix multiplication by hand\n",
        "1*1 + 2*2 + 3*3"
      ],
      "metadata": {
        "id": "X6yJYNZMdsH5",
        "outputId": "a149abf1-c7cd-4518-a60f-9e2d40dbf69a",
        "colab": {
          "base_uri": "https://localhost:8080/"
        }
      },
      "execution_count": 50,
      "outputs": [
        {
          "output_type": "execute_result",
          "data": {
            "text/plain": [
              "14"
            ]
          },
          "metadata": {},
          "execution_count": 50
        }
      ]
    },
    {
      "cell_type": "code",
      "source": [
        "%%time\n",
        "value = 0\n",
        "for i in range(len(tensor)):\n",
        "  value += tensor[i] * tensor[i]\n",
        "  print(value)\n",
        "\n"
      ],
      "metadata": {
        "id": "KrKzgN0ae8-Y",
        "outputId": "9a0da716-26fc-45b6-f479-a73b51924344",
        "colab": {
          "base_uri": "https://localhost:8080/"
        }
      },
      "execution_count": 52,
      "outputs": [
        {
          "output_type": "stream",
          "name": "stdout",
          "text": [
            "tensor(1)\n",
            "tensor(5)\n",
            "tensor(14)\n",
            "CPU times: user 1.33 ms, sys: 0 ns, total: 1.33 ms\n",
            "Wall time: 1.42 ms\n"
          ]
        }
      ]
    },
    {
      "cell_type": "code",
      "source": [
        "tensor @ tensor"
      ],
      "metadata": {
        "id": "9C1aDJn0gtbp",
        "outputId": "89d71f4d-99c3-4dee-ebb5-a7eb5c67ed4c",
        "colab": {
          "base_uri": "https://localhost:8080/"
        }
      },
      "execution_count": 54,
      "outputs": [
        {
          "output_type": "execute_result",
          "data": {
            "text/plain": [
              "tensor(14)"
            ]
          },
          "metadata": {},
          "execution_count": 54
        }
      ]
    },
    {
      "cell_type": "code",
      "source": [
        "%%time\n",
        "torch.matmul(tensor,tensor)"
      ],
      "metadata": {
        "id": "lx3KAmazfaxP",
        "outputId": "fd138b10-dba4-47df-b95e-0c8b6a1d275e",
        "colab": {
          "base_uri": "https://localhost:8080/"
        }
      },
      "execution_count": 53,
      "outputs": [
        {
          "output_type": "stream",
          "name": "stdout",
          "text": [
            "CPU times: user 948 µs, sys: 0 ns, total: 948 µs\n",
            "Wall time: 714 µs\n"
          ]
        },
        {
          "output_type": "execute_result",
          "data": {
            "text/plain": [
              "tensor(14)"
            ]
          },
          "metadata": {},
          "execution_count": 53
        }
      ]
    },
    {
      "cell_type": "markdown",
      "source": [
        "### one of the most common errors in deep learning: shape errors"
      ],
      "metadata": {
        "id": "CKVSRRlxgFX5"
      }
    },
    {
      "cell_type": "code",
      "source": [
        ""
      ],
      "metadata": {
        "id": "ehnumnLNftEC"
      },
      "execution_count": null,
      "outputs": []
    }
  ]
}