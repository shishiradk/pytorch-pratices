{
  "nbformat": 4,
  "nbformat_minor": 0,
  "metadata": {
    "colab": {
      "provenance": [],
      "gpuType": "T4",
      "include_colab_link": true
    },
    "kernelspec": {
      "name": "python3",
      "display_name": "Python 3"
    },
    "language_info": {
      "name": "python"
    },
    "accelerator": "GPU"
  },
  "cells": [
    {
      "cell_type": "markdown",
      "metadata": {
        "id": "view-in-github",
        "colab_type": "text"
      },
      "source": [
        "<a href=\"https://colab.research.google.com/github/shishiradk/pytorch-pratices/blob/main/pytorch.ipynb\" target=\"_parent\"><img src=\"https://colab.research.google.com/assets/colab-badge.svg\" alt=\"Open In Colab\"/></a>"
      ]
    },
    {
      "cell_type": "code",
      "execution_count": 1,
      "metadata": {
        "colab": {
          "base_uri": "https://localhost:8080/"
        },
        "id": "Ipxmmm-BuHoq",
        "outputId": "56376bf4-9a32-4144-cefe-21318e4b3128"
      },
      "outputs": [
        {
          "output_type": "stream",
          "name": "stdout",
          "text": [
            "Sun Aug 24 17:49:16 2025       \n",
            "+-----------------------------------------------------------------------------------------+\n",
            "| NVIDIA-SMI 550.54.15              Driver Version: 550.54.15      CUDA Version: 12.4     |\n",
            "|-----------------------------------------+------------------------+----------------------+\n",
            "| GPU  Name                 Persistence-M | Bus-Id          Disp.A | Volatile Uncorr. ECC |\n",
            "| Fan  Temp   Perf          Pwr:Usage/Cap |           Memory-Usage | GPU-Util  Compute M. |\n",
            "|                                         |                        |               MIG M. |\n",
            "|=========================================+========================+======================|\n",
            "|   0  Tesla T4                       Off |   00000000:00:04.0 Off |                    0 |\n",
            "| N/A   42C    P8              9W /   70W |       0MiB /  15360MiB |      0%      Default |\n",
            "|                                         |                        |                  N/A |\n",
            "+-----------------------------------------+------------------------+----------------------+\n",
            "                                                                                         \n",
            "+-----------------------------------------------------------------------------------------+\n",
            "| Processes:                                                                              |\n",
            "|  GPU   GI   CI        PID   Type   Process name                              GPU Memory |\n",
            "|        ID   ID                                                               Usage      |\n",
            "|=========================================================================================|\n",
            "|  No running processes found                                                             |\n",
            "+-----------------------------------------------------------------------------------------+\n"
          ]
        }
      ],
      "source": [
        "!nvidia-smi\n"
      ]
    },
    {
      "cell_type": "code",
      "source": [
        "import numpy as np\n",
        "import pandas as pd\n",
        "import matplotlib.pyplot as plt\n",
        "import torch\n",
        "print(torch.__version__)"
      ],
      "metadata": {
        "colab": {
          "base_uri": "https://localhost:8080/"
        },
        "id": "eZa8yggluhDq",
        "outputId": "9ad39dd9-ae34-4d35-e3ca-fe412d8d9e1f"
      },
      "execution_count": 2,
      "outputs": [
        {
          "output_type": "stream",
          "name": "stdout",
          "text": [
            "2.8.0+cu126\n"
          ]
        }
      ]
    },
    {
      "cell_type": "markdown",
      "source": [
        "introduction to tensors\n",
        "creating tensor"
      ],
      "metadata": {
        "id": "0T04eZk0w0gf"
      }
    },
    {
      "cell_type": "markdown",
      "source": [],
      "metadata": {
        "id": "BRYigiaOw3Fh"
      }
    },
    {
      "cell_type": "code",
      "source": [
        "#scalar\n",
        "scalar = torch.tensor(7)\n",
        "scalar\n"
      ],
      "metadata": {
        "colab": {
          "base_uri": "https://localhost:8080/"
        },
        "id": "E78psR9bwJyK",
        "outputId": "701c15fe-0a58-4626-dab3-a4d777152a28"
      },
      "execution_count": 3,
      "outputs": [
        {
          "output_type": "execute_result",
          "data": {
            "text/plain": [
              "tensor(7)"
            ]
          },
          "metadata": {},
          "execution_count": 3
        }
      ]
    },
    {
      "cell_type": "code",
      "source": [
        "scalar.ndim"
      ],
      "metadata": {
        "colab": {
          "base_uri": "https://localhost:8080/"
        },
        "id": "IqIfhYWywrSG",
        "outputId": "99a6f233-36ea-4910-bf9f-be0db55b769a"
      },
      "execution_count": 4,
      "outputs": [
        {
          "output_type": "execute_result",
          "data": {
            "text/plain": [
              "0"
            ]
          },
          "metadata": {},
          "execution_count": 4
        }
      ]
    },
    {
      "cell_type": "code",
      "source": [
        "#get tensor back as python int\n",
        "scalar.item()"
      ],
      "metadata": {
        "colab": {
          "base_uri": "https://localhost:8080/"
        },
        "id": "g57NNznbyB6a",
        "outputId": "b54c8194-0efb-460b-b348-b4ea409d73d0"
      },
      "execution_count": 5,
      "outputs": [
        {
          "output_type": "execute_result",
          "data": {
            "text/plain": [
              "7"
            ]
          },
          "metadata": {},
          "execution_count": 5
        }
      ]
    },
    {
      "cell_type": "code",
      "source": [
        "#vector\n",
        "vector = torch.tensor([7,7])\n",
        "vector"
      ],
      "metadata": {
        "colab": {
          "base_uri": "https://localhost:8080/"
        },
        "id": "am4C3NNzyOLN",
        "outputId": "5cddfb9c-6513-4767-e639-0814b1ad39a3"
      },
      "execution_count": 6,
      "outputs": [
        {
          "output_type": "execute_result",
          "data": {
            "text/plain": [
              "tensor([7, 7])"
            ]
          },
          "metadata": {},
          "execution_count": 6
        }
      ]
    },
    {
      "cell_type": "code",
      "source": [
        "vector.ndim"
      ],
      "metadata": {
        "colab": {
          "base_uri": "https://localhost:8080/"
        },
        "id": "UG3w44iRyh9b",
        "outputId": "78f2fbc5-dc34-484c-8313-b87b679b8ecf"
      },
      "execution_count": 7,
      "outputs": [
        {
          "output_type": "execute_result",
          "data": {
            "text/plain": [
              "1"
            ]
          },
          "metadata": {},
          "execution_count": 7
        }
      ]
    },
    {
      "cell_type": "code",
      "source": [
        "vector.shape"
      ],
      "metadata": {
        "colab": {
          "base_uri": "https://localhost:8080/"
        },
        "id": "T4ieiQRyymB1",
        "outputId": "afdca45b-2fd1-4629-daec-5465141aebb6"
      },
      "execution_count": 8,
      "outputs": [
        {
          "output_type": "execute_result",
          "data": {
            "text/plain": [
              "torch.Size([2])"
            ]
          },
          "metadata": {},
          "execution_count": 8
        }
      ]
    },
    {
      "cell_type": "code",
      "source": [
        "#matrix\n",
        "MATRIX = torch.tensor([[7,8],\n",
        "                      [9,10]])\n",
        "MATRIX\n"
      ],
      "metadata": {
        "colab": {
          "base_uri": "https://localhost:8080/"
        },
        "id": "wexINEwqyolb",
        "outputId": "c879c8ba-97b9-4d35-d2f3-1abaee8d93e5"
      },
      "execution_count": 9,
      "outputs": [
        {
          "output_type": "execute_result",
          "data": {
            "text/plain": [
              "tensor([[ 7,  8],\n",
              "        [ 9, 10]])"
            ]
          },
          "metadata": {},
          "execution_count": 9
        }
      ]
    },
    {
      "cell_type": "code",
      "source": [
        "MATRIX.ndim"
      ],
      "metadata": {
        "colab": {
          "base_uri": "https://localhost:8080/"
        },
        "id": "Xm7PGAG1zEBZ",
        "outputId": "e2050b50-7a47-41c4-cd07-78830b060601"
      },
      "execution_count": 10,
      "outputs": [
        {
          "output_type": "execute_result",
          "data": {
            "text/plain": [
              "2"
            ]
          },
          "metadata": {},
          "execution_count": 10
        }
      ]
    },
    {
      "cell_type": "code",
      "source": [
        "MATRIX[1]"
      ],
      "metadata": {
        "colab": {
          "base_uri": "https://localhost:8080/"
        },
        "id": "EvoOzPJdzIgd",
        "outputId": "436af82d-6343-40e8-db1a-ed81ab18a1cc"
      },
      "execution_count": 11,
      "outputs": [
        {
          "output_type": "execute_result",
          "data": {
            "text/plain": [
              "tensor([ 9, 10])"
            ]
          },
          "metadata": {},
          "execution_count": 11
        }
      ]
    },
    {
      "cell_type": "code",
      "source": [
        "MATRIX.shape"
      ],
      "metadata": {
        "colab": {
          "base_uri": "https://localhost:8080/"
        },
        "id": "6eSRxHX2zOS4",
        "outputId": "9cc6c808-ef3f-4148-d100-f5fa200fbf63"
      },
      "execution_count": 12,
      "outputs": [
        {
          "output_type": "execute_result",
          "data": {
            "text/plain": [
              "torch.Size([2, 2])"
            ]
          },
          "metadata": {},
          "execution_count": 12
        }
      ]
    },
    {
      "cell_type": "code",
      "source": [
        "#TENSOR\n",
        "TENSOR = torch.tensor([[[1,2,4],\n",
        "                         [2,3,4],\n",
        "                         [4,5,6]]])"
      ],
      "metadata": {
        "id": "8950TfPczRPv"
      },
      "execution_count": 13,
      "outputs": []
    },
    {
      "cell_type": "code",
      "source": [
        "TENSOR"
      ],
      "metadata": {
        "colab": {
          "base_uri": "https://localhost:8080/"
        },
        "id": "SJ2MSdj7zqLW",
        "outputId": "8cdd1186-f630-4c33-910c-d65ba41f9baa"
      },
      "execution_count": 14,
      "outputs": [
        {
          "output_type": "execute_result",
          "data": {
            "text/plain": [
              "tensor([[[1, 2, 4],\n",
              "         [2, 3, 4],\n",
              "         [4, 5, 6]]])"
            ]
          },
          "metadata": {},
          "execution_count": 14
        }
      ]
    },
    {
      "cell_type": "code",
      "source": [
        "TENSOR.ndim"
      ],
      "metadata": {
        "colab": {
          "base_uri": "https://localhost:8080/"
        },
        "id": "LUFlW-blztOy",
        "outputId": "8ca223f5-6cd9-4140-9545-ae1394234075"
      },
      "execution_count": 15,
      "outputs": [
        {
          "output_type": "execute_result",
          "data": {
            "text/plain": [
              "3"
            ]
          },
          "metadata": {},
          "execution_count": 15
        }
      ]
    },
    {
      "cell_type": "code",
      "source": [
        "TENSOR.shape"
      ],
      "metadata": {
        "colab": {
          "base_uri": "https://localhost:8080/"
        },
        "id": "NOi9qPb9zvmF",
        "outputId": "891eb268-0e8e-466d-e1be-589c82faabd9"
      },
      "execution_count": 16,
      "outputs": [
        {
          "output_type": "execute_result",
          "data": {
            "text/plain": [
              "torch.Size([1, 3, 3])"
            ]
          },
          "metadata": {},
          "execution_count": 16
        }
      ]
    },
    {
      "cell_type": "code",
      "source": [
        "TENSOR[0]"
      ],
      "metadata": {
        "colab": {
          "base_uri": "https://localhost:8080/"
        },
        "id": "6eeTCFwtzyJi",
        "outputId": "90e3da57-d5fb-49a5-ba69-40bdf848a056"
      },
      "execution_count": 17,
      "outputs": [
        {
          "output_type": "execute_result",
          "data": {
            "text/plain": [
              "tensor([[1, 2, 4],\n",
              "        [2, 3, 4],\n",
              "        [4, 5, 6]])"
            ]
          },
          "metadata": {},
          "execution_count": 17
        }
      ]
    },
    {
      "cell_type": "code",
      "source": [
        "TENSOR = torch.tensor([[[6,7,8],\n",
        "                        [5,6,7],\n",
        "                        [4,5,6]]])\n",
        "TENSOR"
      ],
      "metadata": {
        "colab": {
          "base_uri": "https://localhost:8080/"
        },
        "id": "ET2lqt--z0gu",
        "outputId": "4166842a-9838-41ca-baf2-77c8e6655467"
      },
      "execution_count": 18,
      "outputs": [
        {
          "output_type": "execute_result",
          "data": {
            "text/plain": [
              "tensor([[[6, 7, 8],\n",
              "         [5, 6, 7],\n",
              "         [4, 5, 6]]])"
            ]
          },
          "metadata": {},
          "execution_count": 18
        }
      ]
    },
    {
      "cell_type": "code",
      "source": [
        "TENSOR.ndim"
      ],
      "metadata": {
        "colab": {
          "base_uri": "https://localhost:8080/"
        },
        "id": "CsuKrOcMz27a",
        "outputId": "2697fc96-9113-4f6e-ab09-56255c0f5205"
      },
      "execution_count": 19,
      "outputs": [
        {
          "output_type": "execute_result",
          "data": {
            "text/plain": [
              "3"
            ]
          },
          "metadata": {},
          "execution_count": 19
        }
      ]
    },
    {
      "cell_type": "code",
      "source": [
        "TENSOR.shape"
      ],
      "metadata": {
        "colab": {
          "base_uri": "https://localhost:8080/"
        },
        "id": "B0LmokBZ_UwJ",
        "outputId": "85e5bdc6-3635-47e0-c659-2a9384104f24"
      },
      "execution_count": 20,
      "outputs": [
        {
          "output_type": "execute_result",
          "data": {
            "text/plain": [
              "torch.Size([1, 3, 3])"
            ]
          },
          "metadata": {},
          "execution_count": 20
        }
      ]
    },
    {
      "cell_type": "code",
      "source": [
        "TENSOR[0]"
      ],
      "metadata": {
        "colab": {
          "base_uri": "https://localhost:8080/"
        },
        "id": "xUU7BC75_YAa",
        "outputId": "4c1a8e62-fd8d-42c3-e87e-60136d8cb5bd"
      },
      "execution_count": 21,
      "outputs": [
        {
          "output_type": "execute_result",
          "data": {
            "text/plain": [
              "tensor([[6, 7, 8],\n",
              "        [5, 6, 7],\n",
              "        [4, 5, 6]])"
            ]
          },
          "metadata": {},
          "execution_count": 21
        }
      ]
    },
    {
      "cell_type": "code",
      "source": [
        "#create a random tensor of size (3,4)\n",
        "random_tensor = torch.rand(10,10,10)\n",
        "random_tensor"
      ],
      "metadata": {
        "colab": {
          "base_uri": "https://localhost:8080/"
        },
        "id": "gTsFrcdZ_coi",
        "outputId": "9aa6e333-b946-438c-b86d-f8f7888dcc0f"
      },
      "execution_count": 22,
      "outputs": [
        {
          "output_type": "execute_result",
          "data": {
            "text/plain": [
              "tensor([[[4.8259e-01, 8.0434e-01, 2.5314e-01, 4.4057e-01, 6.2850e-01,\n",
              "          1.7681e-01, 4.9645e-01, 5.4686e-01, 5.6946e-01, 5.0774e-01],\n",
              "         [3.3449e-01, 1.1420e-01, 9.2491e-01, 4.5796e-01, 9.4690e-01,\n",
              "          5.2372e-01, 4.3843e-01, 1.2998e-01, 6.8967e-01, 4.8692e-01],\n",
              "         [2.1188e-01, 9.5619e-01, 6.1801e-01, 2.1281e-01, 1.9253e-01,\n",
              "          7.2653e-02, 3.2455e-01, 5.4612e-01, 3.0911e-01, 1.0994e-01],\n",
              "         [8.3520e-01, 8.6024e-01, 1.5617e-01, 2.4380e-01, 3.5967e-01,\n",
              "          7.9985e-01, 6.4551e-01, 1.6798e-01, 2.0589e-01, 8.1375e-01],\n",
              "         [3.3352e-01, 6.5433e-01, 2.9279e-02, 1.7627e-01, 3.1158e-01,\n",
              "          5.7038e-01, 4.8349e-02, 4.4863e-01, 7.0057e-01, 1.0121e-01],\n",
              "         [4.4659e-02, 3.9113e-01, 4.5920e-01, 9.6231e-01, 3.4978e-01,\n",
              "          2.2003e-01, 8.8611e-01, 1.8045e-01, 9.2417e-01, 2.2726e-01],\n",
              "         [6.5445e-01, 4.1639e-01, 8.8449e-01, 5.9485e-01, 4.8105e-01,\n",
              "          6.4789e-01, 2.8808e-01, 2.2794e-01, 1.9029e-01, 3.6396e-01],\n",
              "         [8.6746e-02, 7.3516e-01, 9.1975e-01, 5.6627e-01, 1.5984e-01,\n",
              "          1.0218e-01, 2.7822e-01, 3.2260e-01, 8.7530e-01, 7.9896e-01],\n",
              "         [7.9036e-01, 7.9986e-01, 5.3311e-01, 3.2424e-01, 2.5774e-01,\n",
              "          6.8359e-02, 4.1950e-01, 8.2880e-01, 8.8516e-01, 5.1222e-01],\n",
              "         [9.4944e-01, 7.1399e-02, 8.7190e-01, 7.9157e-01, 7.4952e-01,\n",
              "          5.3422e-01, 2.4522e-01, 8.4104e-01, 4.9749e-01, 1.5995e-01]],\n",
              "\n",
              "        [[4.4390e-01, 2.0979e-01, 8.8897e-01, 5.4340e-01, 2.0445e-01,\n",
              "          2.7119e-02, 6.3567e-01, 8.8865e-01, 5.6367e-01, 3.3377e-01],\n",
              "         [3.5290e-01, 1.9132e-01, 5.1192e-01, 7.5857e-01, 9.6893e-01,\n",
              "          5.4682e-01, 8.9849e-01, 3.6279e-01, 3.4319e-01, 6.1588e-01],\n",
              "         [8.3725e-02, 5.9440e-01, 7.0735e-01, 3.1353e-01, 5.6383e-01,\n",
              "          1.2118e-01, 3.6298e-01, 6.9678e-02, 5.6288e-01, 5.1942e-02],\n",
              "         [4.3648e-01, 3.5314e-01, 2.9851e-01, 8.6257e-01, 6.2274e-01,\n",
              "          7.3521e-01, 7.8730e-01, 8.3900e-01, 7.9978e-01, 1.4442e-01],\n",
              "         [8.4305e-01, 8.8744e-01, 4.3322e-01, 8.9202e-01, 9.8917e-01,\n",
              "          4.9932e-01, 5.9887e-01, 3.8986e-02, 5.4077e-01, 3.7382e-01],\n",
              "         [4.0325e-02, 1.8880e-01, 9.1416e-01, 4.8149e-01, 9.7956e-01,\n",
              "          1.7227e-01, 5.1246e-01, 4.3854e-01, 5.7815e-01, 6.8579e-02],\n",
              "         [4.5518e-01, 2.3849e-01, 2.5809e-01, 8.4886e-01, 7.2722e-01,\n",
              "          1.1765e-01, 2.7511e-01, 3.4333e-01, 9.4773e-01, 7.3959e-01],\n",
              "         [8.8826e-01, 7.8524e-02, 3.8016e-01, 4.2325e-01, 5.1276e-01,\n",
              "          5.0544e-01, 5.9148e-01, 8.8741e-01, 9.9856e-01, 2.2738e-01],\n",
              "         [2.2886e-01, 7.7017e-01, 1.4442e-01, 8.7771e-02, 4.1802e-02,\n",
              "          8.0429e-01, 1.8915e-01, 9.3838e-01, 2.4373e-01, 3.3417e-01],\n",
              "         [4.4799e-01, 3.9089e-01, 2.9549e-01, 7.9567e-01, 4.4590e-01,\n",
              "          5.3277e-01, 7.8600e-01, 7.3845e-01, 6.7111e-01, 5.9738e-02]],\n",
              "\n",
              "        [[9.5147e-02, 3.3982e-01, 5.2215e-01, 3.5612e-01, 9.6020e-01,\n",
              "          6.8451e-01, 7.3052e-01, 9.7483e-01, 7.6813e-01, 1.1124e-01],\n",
              "         [4.9173e-01, 9.1242e-02, 5.2199e-02, 1.0325e-01, 9.2187e-01,\n",
              "          1.9295e-01, 9.7573e-01, 3.3140e-01, 3.6243e-01, 5.0213e-01],\n",
              "         [8.9058e-01, 3.7487e-01, 5.2653e-01, 4.1633e-02, 5.4127e-01,\n",
              "          7.6449e-01, 8.9451e-01, 7.7402e-01, 1.0264e-03, 1.2508e-01],\n",
              "         [2.7042e-01, 3.5178e-01, 6.2572e-01, 2.2002e-01, 7.6369e-01,\n",
              "          2.4817e-01, 5.1053e-01, 7.9395e-01, 4.0520e-01, 5.0108e-01],\n",
              "         [3.2926e-02, 7.9443e-01, 4.3917e-02, 9.0198e-01, 7.9456e-01,\n",
              "          2.9484e-01, 3.4131e-01, 9.6743e-01, 7.2202e-01, 5.4588e-01],\n",
              "         [6.0744e-01, 5.0475e-01, 7.0512e-01, 4.6443e-01, 2.4612e-01,\n",
              "          9.9039e-01, 1.2823e-01, 4.6524e-01, 2.1494e-01, 5.0197e-02],\n",
              "         [9.2623e-01, 7.3932e-01, 7.7980e-01, 3.2098e-01, 7.1000e-01,\n",
              "          6.6998e-01, 3.5477e-01, 2.3125e-01, 2.4763e-01, 3.7564e-01],\n",
              "         [2.2039e-01, 1.3884e-01, 4.9112e-01, 4.7177e-01, 2.8949e-01,\n",
              "          2.9050e-01, 1.8341e-01, 9.2284e-01, 1.4859e-01, 2.0119e-01],\n",
              "         [9.9684e-01, 7.4979e-01, 1.2776e-01, 2.1516e-01, 5.7565e-01,\n",
              "          3.5628e-01, 3.2898e-01, 3.0138e-01, 6.5013e-01, 7.0310e-01],\n",
              "         [1.5733e-01, 7.8771e-01, 6.9041e-01, 8.9019e-02, 5.7802e-02,\n",
              "          2.9032e-02, 4.6064e-01, 9.5482e-01, 8.8477e-01, 7.2582e-01]],\n",
              "\n",
              "        [[1.8512e-01, 6.4642e-02, 8.8565e-01, 9.7355e-01, 9.5094e-01,\n",
              "          8.2318e-01, 7.6471e-01, 3.3752e-01, 1.5177e-01, 1.3050e-02],\n",
              "         [3.7914e-01, 4.9135e-01, 1.6228e-01, 3.0951e-02, 4.7463e-01,\n",
              "          1.4216e-01, 6.1773e-01, 8.0986e-01, 8.0417e-01, 3.5489e-01],\n",
              "         [2.1008e-01, 1.2966e-02, 2.9710e-01, 4.8927e-01, 8.1992e-01,\n",
              "          3.8195e-01, 2.5380e-01, 4.3971e-02, 1.0944e-01, 8.0080e-01],\n",
              "         [6.2825e-01, 4.1495e-01, 8.8711e-01, 5.2465e-01, 7.4740e-01,\n",
              "          4.9794e-01, 9.3140e-01, 5.2233e-01, 2.1118e-01, 9.1341e-01],\n",
              "         [6.1884e-01, 2.3154e-01, 4.4917e-01, 4.1341e-01, 9.7641e-01,\n",
              "          3.7052e-02, 7.3202e-01, 5.2526e-01, 6.1017e-01, 5.2816e-01],\n",
              "         [9.4127e-01, 4.6985e-01, 3.5969e-01, 3.8883e-01, 8.6357e-01,\n",
              "          2.0248e-01, 5.4355e-01, 4.6261e-01, 6.5729e-01, 6.7727e-01],\n",
              "         [1.9364e-01, 6.6859e-01, 2.2775e-01, 6.3932e-01, 1.8571e-03,\n",
              "          1.7525e-01, 9.8085e-01, 3.0846e-02, 7.7399e-01, 6.4712e-01],\n",
              "         [9.2639e-01, 2.7663e-01, 6.2146e-01, 5.3629e-01, 4.7751e-01,\n",
              "          2.8305e-01, 8.1978e-01, 8.6020e-01, 8.6142e-01, 5.2079e-01],\n",
              "         [3.3412e-01, 1.3470e-01, 8.8399e-01, 1.3117e-01, 1.4393e-01,\n",
              "          1.5840e-02, 9.1158e-01, 1.0764e-01, 6.1943e-01, 8.3181e-01],\n",
              "         [2.0180e-01, 6.5285e-01, 7.7222e-01, 1.3933e-01, 1.4309e-01,\n",
              "          3.2604e-01, 8.8067e-01, 4.4373e-01, 5.9383e-01, 7.1083e-01]],\n",
              "\n",
              "        [[7.7344e-01, 1.4584e-01, 7.2736e-01, 8.9026e-01, 4.7525e-01,\n",
              "          7.1479e-01, 1.2238e-01, 2.5529e-01, 6.5316e-01, 8.8735e-01],\n",
              "         [9.7085e-01, 9.9343e-01, 7.2796e-01, 3.3480e-01, 3.7809e-01,\n",
              "          4.3386e-01, 9.8955e-01, 1.3974e-01, 4.2860e-01, 7.5285e-01],\n",
              "         [8.5656e-02, 9.6408e-01, 8.6706e-01, 5.0624e-01, 3.6496e-01,\n",
              "          8.8824e-01, 2.2242e-01, 7.6037e-01, 5.3849e-01, 7.7192e-01],\n",
              "         [9.5474e-01, 1.7235e-01, 8.0960e-01, 8.8536e-03, 1.2859e-01,\n",
              "          7.4946e-02, 5.8970e-01, 8.9944e-01, 8.3546e-01, 1.2353e-01],\n",
              "         [5.1836e-01, 9.1694e-01, 8.5142e-01, 7.2694e-01, 1.6264e-01,\n",
              "          8.9044e-02, 8.4547e-02, 6.0144e-01, 2.3735e-02, 3.9973e-01],\n",
              "         [8.6189e-01, 8.4424e-01, 7.9742e-01, 8.3594e-01, 5.5669e-01,\n",
              "          8.3881e-01, 2.6736e-02, 5.5090e-01, 2.4095e-01, 5.1115e-01],\n",
              "         [2.4294e-01, 8.3630e-01, 7.1233e-01, 5.9079e-01, 7.3228e-01,\n",
              "          3.3257e-01, 5.8585e-01, 9.5214e-01, 6.0409e-01, 2.6885e-01],\n",
              "         [5.1568e-01, 3.7909e-01, 2.3419e-01, 7.4849e-01, 4.6828e-01,\n",
              "          2.4429e-01, 6.7089e-01, 5.2049e-02, 6.4623e-01, 7.6094e-01],\n",
              "         [2.9691e-01, 4.8436e-01, 3.2948e-01, 5.7266e-01, 7.9412e-02,\n",
              "          3.0002e-01, 3.6814e-01, 7.7440e-01, 1.2513e-01, 4.0578e-01],\n",
              "         [8.2443e-01, 5.5722e-01, 4.7817e-01, 1.5641e-01, 5.8443e-01,\n",
              "          5.7991e-01, 8.0826e-02, 4.2956e-02, 2.8062e-02, 2.5040e-01]],\n",
              "\n",
              "        [[6.5928e-01, 7.8136e-01, 3.9809e-02, 6.4191e-01, 7.9757e-01,\n",
              "          8.2214e-01, 4.6363e-01, 1.5523e-01, 9.6143e-01, 8.4231e-01],\n",
              "         [1.2178e-01, 9.8499e-01, 7.4227e-01, 9.1027e-02, 8.1460e-02,\n",
              "          5.0918e-01, 8.6844e-01, 7.9544e-02, 8.1133e-02, 5.2119e-01],\n",
              "         [8.5741e-01, 5.7355e-02, 2.6663e-01, 3.7112e-01, 8.2760e-01,\n",
              "          8.7301e-01, 4.1357e-01, 7.6036e-01, 9.3306e-01, 6.4988e-02],\n",
              "         [8.6206e-01, 7.5286e-01, 3.7316e-01, 2.5183e-01, 4.3290e-01,\n",
              "          3.5840e-01, 8.3014e-01, 2.1843e-01, 5.6820e-01, 3.5592e-01],\n",
              "         [6.7843e-01, 6.8163e-01, 2.7531e-02, 5.8910e-02, 1.9538e-01,\n",
              "          6.9759e-01, 2.4433e-02, 7.5673e-01, 4.7389e-01, 1.0912e-01],\n",
              "         [7.7946e-01, 9.9166e-01, 2.8671e-01, 9.2663e-01, 5.6867e-01,\n",
              "          4.0073e-01, 1.4911e-01, 7.4988e-01, 1.0186e-01, 1.1665e-01],\n",
              "         [1.0778e-02, 1.0531e-01, 7.6776e-01, 2.9127e-01, 4.9145e-01,\n",
              "          2.6350e-01, 8.1809e-01, 6.6012e-01, 5.6657e-01, 3.8448e-01],\n",
              "         [1.3727e-01, 6.2390e-01, 7.8435e-01, 1.1410e-02, 8.7964e-01,\n",
              "          3.6494e-01, 5.7834e-01, 4.1192e-01, 7.1901e-01, 1.8914e-01],\n",
              "         [6.0015e-01, 8.5784e-02, 3.8165e-01, 3.2039e-01, 1.5827e-01,\n",
              "          8.1819e-01, 7.2277e-01, 8.7696e-01, 6.8394e-01, 7.8706e-01],\n",
              "         [8.4921e-01, 6.7305e-01, 9.0341e-01, 4.3489e-01, 6.2060e-01,\n",
              "          1.0568e-01, 7.5910e-02, 4.6162e-01, 9.1391e-01, 9.7125e-01]],\n",
              "\n",
              "        [[9.6995e-01, 8.3217e-01, 9.6315e-02, 2.9158e-01, 8.3753e-01,\n",
              "          8.9394e-01, 4.5744e-01, 7.6025e-01, 3.6380e-01, 1.8367e-01],\n",
              "         [9.5925e-01, 3.7642e-01, 3.8168e-01, 7.5812e-01, 1.8429e-01,\n",
              "          7.0406e-01, 1.2612e-01, 4.3013e-01, 8.7992e-02, 1.0369e-01],\n",
              "         [6.4440e-01, 2.0832e-01, 4.1122e-01, 7.1375e-01, 4.8232e-02,\n",
              "          1.8760e-01, 5.9419e-02, 7.3556e-01, 8.1930e-01, 9.2335e-01],\n",
              "         [9.2769e-01, 7.2082e-01, 9.8038e-01, 3.9399e-01, 6.1821e-01,\n",
              "          4.9946e-01, 9.6437e-01, 3.1361e-01, 2.5368e-02, 7.7035e-01],\n",
              "         [8.0441e-01, 5.8136e-01, 2.1611e-01, 1.6473e-01, 8.1108e-01,\n",
              "          2.5433e-01, 1.5565e-01, 8.3382e-01, 3.4913e-01, 1.9713e-01],\n",
              "         [2.4484e-01, 7.9804e-01, 1.2585e-01, 1.7132e-01, 2.2613e-01,\n",
              "          5.0211e-01, 2.0103e-02, 6.5881e-01, 3.7856e-01, 8.9924e-01],\n",
              "         [5.7376e-01, 7.8493e-01, 4.6169e-01, 3.5942e-01, 9.1603e-01,\n",
              "          3.4460e-01, 2.7635e-01, 8.4206e-01, 8.3669e-01, 1.6926e-02],\n",
              "         [4.0896e-01, 1.5091e-01, 2.4892e-01, 2.8523e-01, 1.6506e-01,\n",
              "          7.9818e-02, 8.3292e-01, 6.7026e-01, 5.5032e-01, 2.9490e-01],\n",
              "         [7.7087e-01, 2.1409e-01, 7.9815e-01, 7.2293e-01, 2.2807e-01,\n",
              "          3.5398e-01, 4.5391e-01, 5.7941e-01, 2.1063e-01, 3.6872e-01],\n",
              "         [7.8060e-01, 6.6566e-01, 8.9934e-02, 5.5023e-02, 1.8941e-01,\n",
              "          4.5421e-01, 8.7622e-01, 5.7613e-01, 6.8171e-01, 3.4582e-01]],\n",
              "\n",
              "        [[5.2127e-01, 7.0148e-03, 3.6506e-01, 7.2782e-01, 8.4928e-01,\n",
              "          3.7001e-01, 4.9279e-01, 4.0002e-01, 4.5892e-01, 7.6941e-01],\n",
              "         [7.2915e-01, 1.7928e-01, 1.0170e-01, 7.2702e-02, 2.2260e-01,\n",
              "          3.3859e-01, 7.2888e-01, 2.9559e-01, 8.8402e-01, 4.8940e-01],\n",
              "         [5.6925e-02, 1.8135e-01, 5.5369e-01, 9.4752e-01, 1.5296e-01,\n",
              "          8.2094e-01, 1.7959e-01, 7.6483e-01, 5.6112e-01, 2.9834e-01],\n",
              "         [9.2709e-01, 7.1702e-01, 3.4587e-01, 8.9948e-01, 9.8062e-01,\n",
              "          9.9146e-02, 4.2558e-02, 4.7850e-01, 9.8860e-01, 1.4421e-01],\n",
              "         [4.6884e-01, 6.2973e-01, 5.6387e-01, 3.7659e-02, 8.7310e-01,\n",
              "          9.7893e-01, 1.6872e-02, 7.6187e-01, 6.9467e-01, 9.6306e-01],\n",
              "         [3.1207e-01, 5.5619e-01, 6.2329e-01, 8.3401e-02, 2.1230e-01,\n",
              "          7.9011e-02, 7.4448e-01, 3.5492e-01, 5.7344e-01, 7.0482e-01],\n",
              "         [2.0815e-01, 4.0634e-01, 7.5022e-01, 9.7790e-01, 1.6030e-01,\n",
              "          2.8047e-02, 2.1678e-01, 2.2863e-01, 9.7655e-01, 7.5680e-01],\n",
              "         [7.8847e-01, 3.8238e-01, 7.2478e-01, 6.9384e-01, 4.1348e-01,\n",
              "          4.6335e-01, 3.6921e-01, 2.1293e-01, 8.8033e-01, 8.4450e-01],\n",
              "         [4.0334e-01, 5.5516e-02, 7.0150e-01, 5.4618e-01, 5.0466e-01,\n",
              "          5.9194e-01, 5.1802e-01, 9.7884e-01, 6.1211e-01, 4.4962e-01],\n",
              "         [9.0661e-01, 7.6061e-01, 1.1447e-01, 1.8066e-01, 6.7713e-01,\n",
              "          1.1340e-01, 3.4457e-01, 4.8345e-01, 1.4842e-01, 5.5792e-01]],\n",
              "\n",
              "        [[6.9831e-01, 6.0710e-01, 8.1854e-01, 3.7485e-04, 8.0341e-01,\n",
              "          3.9504e-01, 5.5419e-01, 4.4661e-03, 9.0529e-01, 5.8856e-01],\n",
              "         [1.2617e-01, 9.4598e-01, 5.4707e-01, 3.9282e-01, 6.0662e-01,\n",
              "          6.2305e-01, 8.6280e-01, 3.9335e-01, 3.3919e-01, 5.9809e-01],\n",
              "         [3.2439e-01, 6.5666e-02, 8.0914e-01, 1.5943e-01, 8.7073e-01,\n",
              "          1.1423e-01, 6.5776e-01, 9.5577e-01, 2.9586e-01, 4.1191e-01],\n",
              "         [7.6795e-01, 2.8241e-01, 6.8079e-01, 5.3310e-01, 3.7886e-01,\n",
              "          6.2004e-02, 3.6527e-01, 6.5795e-01, 5.4925e-01, 2.6907e-01],\n",
              "         [9.5667e-01, 7.9838e-01, 8.1272e-01, 6.6711e-01, 7.2860e-01,\n",
              "          7.1761e-01, 5.2888e-01, 5.0755e-01, 9.8447e-01, 7.3049e-01],\n",
              "         [4.6952e-01, 5.8260e-01, 2.6068e-01, 3.6852e-01, 8.6251e-01,\n",
              "          5.2422e-01, 7.9731e-01, 4.8206e-01, 7.8713e-01, 8.2398e-01],\n",
              "         [5.7064e-01, 8.3074e-01, 2.5547e-01, 1.5805e-01, 8.1538e-01,\n",
              "          4.1057e-02, 9.6047e-01, 3.2557e-02, 8.8776e-02, 7.9878e-01],\n",
              "         [9.9983e-01, 4.9667e-01, 4.8248e-01, 1.7551e-01, 9.7049e-02,\n",
              "          8.6982e-01, 1.9589e-01, 1.6177e-02, 2.9832e-01, 2.3642e-01],\n",
              "         [5.2001e-01, 1.8466e-01, 5.3987e-01, 4.3287e-01, 2.9174e-02,\n",
              "          2.6117e-01, 9.7811e-01, 4.9486e-01, 4.6801e-01, 5.4554e-01],\n",
              "         [8.6041e-01, 7.2803e-01, 3.2710e-01, 5.7598e-01, 4.4304e-01,\n",
              "          7.9107e-01, 7.5771e-01, 9.9180e-01, 1.2974e-01, 6.3481e-01]],\n",
              "\n",
              "        [[6.8751e-01, 7.3367e-01, 6.5237e-01, 4.3513e-01, 6.8682e-01,\n",
              "          8.5251e-01, 5.0026e-01, 3.3517e-01, 2.5776e-01, 4.2057e-02],\n",
              "         [2.8560e-01, 9.1983e-02, 3.1155e-01, 2.8753e-02, 7.7297e-02,\n",
              "          1.6815e-01, 4.8170e-01, 2.8012e-01, 3.3666e-01, 5.1774e-01],\n",
              "         [9.7942e-01, 9.2623e-02, 1.7140e-01, 8.3162e-01, 1.1758e-01,\n",
              "          1.8281e-01, 6.8824e-01, 9.5667e-01, 1.4219e-01, 5.5806e-01],\n",
              "         [4.5135e-01, 9.0556e-01, 3.3832e-01, 2.0361e-01, 1.9726e-01,\n",
              "          9.1214e-01, 6.9522e-01, 6.8366e-02, 6.2992e-01, 2.5665e-01],\n",
              "         [7.7173e-01, 3.6847e-01, 2.4892e-01, 2.1412e-01, 4.1707e-01,\n",
              "          8.9325e-01, 2.9590e-01, 3.6011e-01, 3.9730e-01, 4.9984e-01],\n",
              "         [3.9408e-01, 4.7211e-01, 8.5912e-01, 7.8881e-02, 5.2617e-01,\n",
              "          5.4364e-01, 7.2088e-01, 3.7190e-01, 7.9637e-01, 5.2006e-01],\n",
              "         [1.5864e-01, 8.6831e-01, 3.4927e-01, 4.1610e-01, 5.5557e-01,\n",
              "          7.5014e-01, 3.4956e-01, 2.6895e-01, 5.9102e-01, 4.0749e-01],\n",
              "         [1.2775e-01, 9.2124e-01, 3.8230e-01, 1.8753e-01, 6.9020e-02,\n",
              "          3.0792e-01, 2.3228e-01, 8.4464e-01, 5.1729e-01, 5.1158e-01],\n",
              "         [7.3019e-01, 3.6727e-01, 5.0680e-01, 9.6899e-01, 2.3004e-01,\n",
              "          3.8098e-01, 3.0019e-01, 5.0467e-04, 4.1311e-01, 8.1829e-01],\n",
              "         [4.0401e-01, 5.0485e-01, 1.8741e-01, 9.4926e-01, 5.1712e-01,\n",
              "          8.4865e-02, 2.1740e-02, 8.2756e-01, 4.4914e-01, 1.0530e-01]]])"
            ]
          },
          "metadata": {},
          "execution_count": 22
        }
      ]
    },
    {
      "cell_type": "code",
      "source": [
        "random_tensor.ndim"
      ],
      "metadata": {
        "colab": {
          "base_uri": "https://localhost:8080/"
        },
        "id": "-RxQZRQXDZT3",
        "outputId": "2bacf67f-d90c-43ab-9183-bb0d665c3870"
      },
      "execution_count": 23,
      "outputs": [
        {
          "output_type": "execute_result",
          "data": {
            "text/plain": [
              "3"
            ]
          },
          "metadata": {},
          "execution_count": 23
        }
      ]
    },
    {
      "cell_type": "code",
      "source": [
        "#create a random tensor with similar shape to an image tensor\n",
        "random_image_size_tensor = torch.rand(size=(3,224,224))#height,width,color channel\n",
        "random_image_size_tensor.shape, random_image_size_tensor.ndim"
      ],
      "metadata": {
        "colab": {
          "base_uri": "https://localhost:8080/"
        },
        "id": "2lE6FB17DpMe",
        "outputId": "c5f1cdbe-844c-4927-d472-59bed0741ea8"
      },
      "execution_count": 24,
      "outputs": [
        {
          "output_type": "execute_result",
          "data": {
            "text/plain": [
              "(torch.Size([3, 224, 224]), 3)"
            ]
          },
          "metadata": {},
          "execution_count": 24
        }
      ]
    },
    {
      "cell_type": "code",
      "source": [
        "torch.rand(3,3)"
      ],
      "metadata": {
        "colab": {
          "base_uri": "https://localhost:8080/"
        },
        "id": "RcRkAqzqHZIe",
        "outputId": "121136b7-7e22-45b3-f744-f3981e1c3e30"
      },
      "execution_count": 25,
      "outputs": [
        {
          "output_type": "execute_result",
          "data": {
            "text/plain": [
              "tensor([[0.1002, 0.5706, 0.0620],\n",
              "        [0.6288, 0.8903, 0.2057],\n",
              "        [0.9736, 0.5750, 0.7699]])"
            ]
          },
          "metadata": {},
          "execution_count": 25
        }
      ]
    },
    {
      "cell_type": "code",
      "source": [
        "#zeros and ones\n",
        "zero = torch.zeros(size=(3,4))\n",
        "zero"
      ],
      "metadata": {
        "colab": {
          "base_uri": "https://localhost:8080/"
        },
        "id": "iSZZDYqWIVsz",
        "outputId": "46ce6893-f531-40ae-ac97-7bb214628bed"
      },
      "execution_count": 26,
      "outputs": [
        {
          "output_type": "execute_result",
          "data": {
            "text/plain": [
              "tensor([[0., 0., 0., 0.],\n",
              "        [0., 0., 0., 0.],\n",
              "        [0., 0., 0., 0.]])"
            ]
          },
          "metadata": {},
          "execution_count": 26
        }
      ]
    },
    {
      "cell_type": "code",
      "source": [
        "#create a tensor of all ones\n",
        "ones = torch.ones(size=(3,4))\n",
        "ones"
      ],
      "metadata": {
        "colab": {
          "base_uri": "https://localhost:8080/"
        },
        "id": "uZNjgqG0IrqQ",
        "outputId": "4bcd9f31-07cb-408c-85ba-dbec7ed71552"
      },
      "execution_count": 27,
      "outputs": [
        {
          "output_type": "execute_result",
          "data": {
            "text/plain": [
              "tensor([[1., 1., 1., 1.],\n",
              "        [1., 1., 1., 1.],\n",
              "        [1., 1., 1., 1.]])"
            ]
          },
          "metadata": {},
          "execution_count": 27
        }
      ]
    },
    {
      "cell_type": "code",
      "source": [
        "#use torch.range()\n",
        "one_to_ten = torch.arange(1,11)\n",
        "one_to_ten"
      ],
      "metadata": {
        "colab": {
          "base_uri": "https://localhost:8080/"
        },
        "id": "pbHnsIQFI3N9",
        "outputId": "c8414f30-213b-466a-e80e-d94f42b136fd"
      },
      "execution_count": 28,
      "outputs": [
        {
          "output_type": "execute_result",
          "data": {
            "text/plain": [
              "tensor([ 1,  2,  3,  4,  5,  6,  7,  8,  9, 10])"
            ]
          },
          "metadata": {},
          "execution_count": 28
        }
      ]
    },
    {
      "cell_type": "code",
      "source": [
        "one_to_ten = torch.arange(start=1, end=11, step=1)\n",
        "one_to_ten"
      ],
      "metadata": {
        "colab": {
          "base_uri": "https://localhost:8080/"
        },
        "id": "40k8u2g-JdPJ",
        "outputId": "2ed5e93a-0de9-40c2-e6f6-5b523e74d62e"
      },
      "execution_count": 29,
      "outputs": [
        {
          "output_type": "execute_result",
          "data": {
            "text/plain": [
              "tensor([ 1,  2,  3,  4,  5,  6,  7,  8,  9, 10])"
            ]
          },
          "metadata": {},
          "execution_count": 29
        }
      ]
    },
    {
      "cell_type": "code",
      "source": [
        "one_to_ten.shape"
      ],
      "metadata": {
        "id": "q-tCvr99Jsld",
        "outputId": "95579f2b-e041-44a3-8d54-6c7e049f334b",
        "colab": {
          "base_uri": "https://localhost:8080/"
        }
      },
      "execution_count": 30,
      "outputs": [
        {
          "output_type": "execute_result",
          "data": {
            "text/plain": [
              "torch.Size([10])"
            ]
          },
          "metadata": {},
          "execution_count": 30
        }
      ]
    },
    {
      "cell_type": "code",
      "source": [
        "ten_zero = torch.zeros_like(input=one_to_ten)\n",
        "ten_zero"
      ],
      "metadata": {
        "id": "c3cUuCvlJv0p",
        "outputId": "37c10d73-5c6b-4b9a-fb9b-26ec97318ec9",
        "colab": {
          "base_uri": "https://localhost:8080/"
        }
      },
      "execution_count": 31,
      "outputs": [
        {
          "output_type": "execute_result",
          "data": {
            "text/plain": [
              "tensor([0, 0, 0, 0, 0, 0, 0, 0, 0, 0])"
            ]
          },
          "metadata": {},
          "execution_count": 31
        }
      ]
    },
    {
      "cell_type": "markdown",
      "source": [
        "Tensor Datatype\n",
        "\n",
        "**Note:** Tensor datatype is one of the 3 big errors you'll run into with PyTorch & deep learning:\n",
        "\n",
        "1. Tensors not right datatype\n",
        "\n",
        "2.Tensor not right shape"
      ],
      "metadata": {
        "id": "EmxeZbwijYMV"
      }
    },
    {
      "cell_type": "code",
      "source": [
        "#float 32 tensor\n",
        "float_32_tensor = torch.tensor([3.0,6.0,9.0],\n",
        "                               dtype=None,\n",
        "                               device=None,\n",
        "                               requires_grad=False)\n",
        "float_32_tensor"
      ],
      "metadata": {
        "id": "SIUx2GVLjUdQ",
        "outputId": "41d3fb96-3549-4077-8eb9-ead725135bbb",
        "colab": {
          "base_uri": "https://localhost:8080/"
        }
      },
      "execution_count": 32,
      "outputs": [
        {
          "output_type": "execute_result",
          "data": {
            "text/plain": [
              "tensor([3., 6., 9.])"
            ]
          },
          "metadata": {},
          "execution_count": 32
        }
      ]
    },
    {
      "cell_type": "code",
      "source": [
        "tensor = torch.tensor( [1.0, 2.0, 3.0],dtype=torch.float32)\n",
        "print(tensor)\n"
      ],
      "metadata": {
        "id": "Ek7hBuaZm4_z",
        "colab": {
          "base_uri": "https://localhost:8080/"
        },
        "outputId": "794d33a4-b65d-44f9-c10a-138756d25231"
      },
      "execution_count": 33,
      "outputs": [
        {
          "output_type": "stream",
          "name": "stdout",
          "text": [
            "tensor([1., 2., 3.])\n"
          ]
        }
      ]
    },
    {
      "cell_type": "code",
      "source": [
        "float_16_tensor = float_32_tensor.type(torch.float16)\n",
        "float_16_tensor"
      ],
      "metadata": {
        "colab": {
          "base_uri": "https://localhost:8080/"
        },
        "id": "y9kmAs3Powjl",
        "outputId": "68c1973e-83ec-4a02-bca4-26423c89d9f0"
      },
      "execution_count": 34,
      "outputs": [
        {
          "output_type": "execute_result",
          "data": {
            "text/plain": [
              "tensor([3., 6., 9.], dtype=torch.float16)"
            ]
          },
          "metadata": {},
          "execution_count": 34
        }
      ]
    },
    {
      "cell_type": "code",
      "source": [
        "float_16_tensor = float_32_tensor"
      ],
      "metadata": {
        "id": "w0wRNfWtrHE_"
      },
      "execution_count": 35,
      "outputs": []
    },
    {
      "cell_type": "code",
      "source": [
        "int_32_tensor = torch.tensor([3,6,9], dtype=torch.int32)\n",
        "int_32_tensor"
      ],
      "metadata": {
        "colab": {
          "base_uri": "https://localhost:8080/"
        },
        "id": "DgLLHRpfruKF",
        "outputId": "474c8f94-f301-439e-fc77-0690369c639d"
      },
      "execution_count": 36,
      "outputs": [
        {
          "output_type": "execute_result",
          "data": {
            "text/plain": [
              "tensor([3, 6, 9], dtype=torch.int32)"
            ]
          },
          "metadata": {},
          "execution_count": 36
        }
      ]
    },
    {
      "cell_type": "code",
      "source": [
        "float_32_tensor * int_32_tensor"
      ],
      "metadata": {
        "colab": {
          "base_uri": "https://localhost:8080/"
        },
        "id": "iG6gO6Q5LWSx",
        "outputId": "b8b19c63-167d-45f1-ea70-d5dad946195a"
      },
      "execution_count": 37,
      "outputs": [
        {
          "output_type": "execute_result",
          "data": {
            "text/plain": [
              "tensor([ 9., 36., 81.])"
            ]
          },
          "metadata": {},
          "execution_count": 37
        }
      ]
    },
    {
      "cell_type": "code",
      "source": [
        "#create a tensor\n",
        "some_tensor = torch.rand(3,4)\n",
        "some_tensor"
      ],
      "metadata": {
        "colab": {
          "base_uri": "https://localhost:8080/"
        },
        "id": "IYOKBoAkMBha",
        "outputId": "02f992bf-b648-4579-fdda-afb36ba8d85a"
      },
      "execution_count": 38,
      "outputs": [
        {
          "output_type": "execute_result",
          "data": {
            "text/plain": [
              "tensor([[0.8965, 0.7923, 0.8913, 0.3321],\n",
              "        [0.1761, 0.5636, 0.4080, 0.3076],\n",
              "        [0.7265, 0.8934, 0.0406, 0.3251]])"
            ]
          },
          "metadata": {},
          "execution_count": 38
        }
      ]
    },
    {
      "cell_type": "code",
      "source": [
        "#find out details about some tensor\n",
        "print(some_tensor)\n",
        "print(f\"Datatype of tensor: {some_tensor.dtype}\")\n",
        "print(f\"Shape of tensor: {some_tensor.shape}\")\n",
        "print(f\"Device tensor is on: {some_tensor.device}\")"
      ],
      "metadata": {
        "colab": {
          "base_uri": "https://localhost:8080/"
        },
        "id": "sjlygekbMXJy",
        "outputId": "0408efaa-d72b-442a-f455-4b50b8f6af55"
      },
      "execution_count": 39,
      "outputs": [
        {
          "output_type": "stream",
          "name": "stdout",
          "text": [
            "tensor([[0.8965, 0.7923, 0.8913, 0.3321],\n",
            "        [0.1761, 0.5636, 0.4080, 0.3076],\n",
            "        [0.7265, 0.8934, 0.0406, 0.3251]])\n",
            "Datatype of tensor: torch.float32\n",
            "Shape of tensor: torch.Size([3, 4])\n",
            "Device tensor is on: cpu\n"
          ]
        }
      ]
    },
    {
      "cell_type": "markdown",
      "source": [
        "###manipulating Tensors ( tensor operation)\n",
        "\n",
        "Tensor operattion include:\n",
        "\n",
        "*Addition\n",
        "\n",
        "*Subtraction\n",
        "\n",
        "*Multiplication(element-wise)\n",
        "\n",
        "*division\n",
        "\n",
        "*Matrix Multiplication"
      ],
      "metadata": {
        "id": "2WeJXkaSNvx4"
      }
    },
    {
      "cell_type": "code",
      "source": [
        "#create a tensor and add 10 to it\n",
        "tensor = torch.tensor([1,2,3])\n",
        "tensor + 10"
      ],
      "metadata": {
        "colab": {
          "base_uri": "https://localhost:8080/"
        },
        "id": "qn5KQtOZMqCe",
        "outputId": "1bf77900-5f92-4a4a-b3e1-18637c1ddaa7"
      },
      "execution_count": 40,
      "outputs": [
        {
          "output_type": "execute_result",
          "data": {
            "text/plain": [
              "tensor([11, 12, 13])"
            ]
          },
          "metadata": {},
          "execution_count": 40
        }
      ]
    },
    {
      "cell_type": "code",
      "source": [
        "#multiply tensor by 10\n",
        "tensor * 10"
      ],
      "metadata": {
        "colab": {
          "base_uri": "https://localhost:8080/"
        },
        "id": "CJznQMdMORMM",
        "outputId": "52e543dd-2b19-4303-b8f3-c2d2f32c1abb"
      },
      "execution_count": 41,
      "outputs": [
        {
          "output_type": "execute_result",
          "data": {
            "text/plain": [
              "tensor([10, 20, 30])"
            ]
          },
          "metadata": {},
          "execution_count": 41
        }
      ]
    },
    {
      "cell_type": "code",
      "source": [
        "tensor"
      ],
      "metadata": {
        "colab": {
          "base_uri": "https://localhost:8080/"
        },
        "id": "SmWqezXAP8g-",
        "outputId": "5856de9f-eeaf-412e-ec81-566bab7ef39a"
      },
      "execution_count": 42,
      "outputs": [
        {
          "output_type": "execute_result",
          "data": {
            "text/plain": [
              "tensor([1, 2, 3])"
            ]
          },
          "metadata": {},
          "execution_count": 42
        }
      ]
    },
    {
      "cell_type": "code",
      "source": [
        "#subtract\n",
        "tensor - 10"
      ],
      "metadata": {
        "colab": {
          "base_uri": "https://localhost:8080/"
        },
        "id": "MWwFTpF-P_XY",
        "outputId": "40010452-88d7-4a43-c77b-d2a5ae5a4b52"
      },
      "execution_count": 43,
      "outputs": [
        {
          "output_type": "execute_result",
          "data": {
            "text/plain": [
              "tensor([-9, -8, -7])"
            ]
          },
          "metadata": {},
          "execution_count": 43
        }
      ]
    },
    {
      "cell_type": "code",
      "source": [
        "#divide\n",
        "tensor/10"
      ],
      "metadata": {
        "colab": {
          "base_uri": "https://localhost:8080/"
        },
        "id": "HHU7DVjOQE2Z",
        "outputId": "45a3dd2f-fadc-4526-ebf7-aa590bd4fb63"
      },
      "execution_count": 44,
      "outputs": [
        {
          "output_type": "execute_result",
          "data": {
            "text/plain": [
              "tensor([0.1000, 0.2000, 0.3000])"
            ]
          },
          "metadata": {},
          "execution_count": 44
        }
      ]
    },
    {
      "cell_type": "code",
      "source": [
        "torch.mul(tensor,10)"
      ],
      "metadata": {
        "colab": {
          "base_uri": "https://localhost:8080/"
        },
        "id": "QSiCdWgwQJjq",
        "outputId": "8d5ee7b4-8f3a-432b-e3fb-ebffb9469a1a"
      },
      "execution_count": 45,
      "outputs": [
        {
          "output_type": "execute_result",
          "data": {
            "text/plain": [
              "tensor([10, 20, 30])"
            ]
          },
          "metadata": {},
          "execution_count": 45
        }
      ]
    },
    {
      "cell_type": "code",
      "source": [
        "torch.add(tensor,10)"
      ],
      "metadata": {
        "colab": {
          "base_uri": "https://localhost:8080/"
        },
        "id": "vRH20ZpNRHqo",
        "outputId": "83b0eafe-2539-412c-e975-4e02bf104eac"
      },
      "execution_count": 46,
      "outputs": [
        {
          "output_type": "execute_result",
          "data": {
            "text/plain": [
              "tensor([11, 12, 13])"
            ]
          },
          "metadata": {},
          "execution_count": 46
        }
      ]
    },
    {
      "cell_type": "markdown",
      "source": [
        "Matrix multiplication\n",
        "\n",
        "Two main ways of performing multiplication in neural networks and deep learning:\n",
        "\n",
        "1.Element-wise multiplication\n",
        "\n",
        "2.Matrix multiplication(dot product)\n",
        "\n",
        "There are two main rules that performing matrix multiplication\n",
        "\n",
        "1. The **inner dimensions** must match:\n",
        "\n",
        " *(3,2) @ (3,2) won't work\n",
        "\n",
        " *(2,3) @ (3,2) will work\n",
        "\n",
        " *(3,2) @ (2,3) will work\n",
        "\n",
        "\n",
        "2.The resulting matrix has the shape of the **outer dimension**:\n",
        "\n",
        "*(2,3) @ (3,2) -> (2,2)\n",
        "\n",
        "*(3,2) 2 (2,3) -. (3,3)\n",
        "\n",
        "\n"
      ],
      "metadata": {
        "id": "15eaC_8jZp3z"
      }
    },
    {
      "cell_type": "code",
      "source": [
        "torch.matmul(torch.rand(10,10),torch.rand(10,10))"
      ],
      "metadata": {
        "colab": {
          "base_uri": "https://localhost:8080/"
        },
        "id": "XHyspsAnh5Ak",
        "outputId": "bc9723b5-bf69-4771-e8bf-eb0b396e9d71"
      },
      "execution_count": 47,
      "outputs": [
        {
          "output_type": "execute_result",
          "data": {
            "text/plain": [
              "tensor([[1.6961, 2.7322, 2.5878, 1.0493, 3.0304, 2.1154, 1.7891, 2.3679, 2.7139,\n",
              "         2.7811],\n",
              "        [2.7041, 2.9420, 3.7022, 2.0036, 3.3224, 3.6032, 2.3818, 2.6269, 3.1845,\n",
              "         3.1849],\n",
              "        [1.8177, 1.9603, 2.6465, 1.4905, 2.7252, 2.1397, 2.0225, 2.1677, 2.1054,\n",
              "         2.4835],\n",
              "        [1.7767, 2.3289, 2.8200, 1.2465, 3.1687, 2.4336, 1.8147, 2.3159, 2.1493,\n",
              "         2.8137],\n",
              "        [2.5644, 2.5196, 3.6813, 2.3299, 3.9606, 2.9509, 2.9468, 2.9006, 2.8889,\n",
              "         3.6280],\n",
              "        [1.6532, 2.0344, 2.6093, 1.2528, 3.2964, 2.0456, 2.1672, 2.0848, 1.3402,\n",
              "         2.8314],\n",
              "        [1.6759, 2.4689, 2.4507, 0.8705, 2.8072, 1.9422, 1.4111, 1.7001, 1.9816,\n",
              "         2.5171],\n",
              "        [1.8665, 2.1989, 2.7300, 1.1539, 3.0511, 2.3981, 1.7008, 2.0140, 1.8861,\n",
              "         2.6811],\n",
              "        [2.1366, 2.6731, 3.0723, 1.9670, 3.2468, 2.6431, 2.7587, 2.9345, 3.0477,\n",
              "         3.1447],\n",
              "        [2.0233, 3.2449, 3.1099, 1.3857, 3.0303, 2.7292, 2.2577, 2.3371, 2.6880,\n",
              "         2.8164]])"
            ]
          },
          "metadata": {},
          "execution_count": 47
        }
      ]
    },
    {
      "cell_type": "code",
      "source": [
        "#Elementwise multiplication\n",
        "print(tensor,\"*\",tensor)\n",
        "print(f\"Equals:{tensor * tensor}\")\n"
      ],
      "metadata": {
        "colab": {
          "base_uri": "https://localhost:8080/"
        },
        "id": "QHc3IlZeRPoG",
        "outputId": "ca8601fb-fb6a-4b46-bb3e-c468488d7dd5"
      },
      "execution_count": 48,
      "outputs": [
        {
          "output_type": "stream",
          "name": "stdout",
          "text": [
            "tensor([1, 2, 3]) * tensor([1, 2, 3])\n",
            "Equals:tensor([1, 4, 9])\n"
          ]
        }
      ]
    },
    {
      "cell_type": "code",
      "source": [
        "#matrix multiplication\n",
        "torch.matmul(tensor,tensor)"
      ],
      "metadata": {
        "colab": {
          "base_uri": "https://localhost:8080/"
        },
        "id": "POZrRMykacyp",
        "outputId": "9eeff3e3-19a1-450b-a289-97bfb126c198"
      },
      "execution_count": 49,
      "outputs": [
        {
          "output_type": "execute_result",
          "data": {
            "text/plain": [
              "tensor(14)"
            ]
          },
          "metadata": {},
          "execution_count": 49
        }
      ]
    },
    {
      "cell_type": "code",
      "source": [
        "#matrix multiplication by hand\n",
        "1*1 + 2*2 + 3*3"
      ],
      "metadata": {
        "colab": {
          "base_uri": "https://localhost:8080/"
        },
        "id": "X6yJYNZMdsH5",
        "outputId": "9049e109-d3aa-4d75-8e34-9b54d221a6a3"
      },
      "execution_count": 50,
      "outputs": [
        {
          "output_type": "execute_result",
          "data": {
            "text/plain": [
              "14"
            ]
          },
          "metadata": {},
          "execution_count": 50
        }
      ]
    },
    {
      "cell_type": "code",
      "source": [
        "%%time\n",
        "value = 0\n",
        "for i in range(len(tensor)):\n",
        "  value += tensor[i] * tensor[i]\n",
        "  print(value)\n",
        "\n"
      ],
      "metadata": {
        "colab": {
          "base_uri": "https://localhost:8080/"
        },
        "id": "KrKzgN0ae8-Y",
        "outputId": "c29d1ad4-19c0-4640-ee02-2f93d606d44f"
      },
      "execution_count": 51,
      "outputs": [
        {
          "output_type": "stream",
          "name": "stdout",
          "text": [
            "tensor(1)\n",
            "tensor(5)\n",
            "tensor(14)\n",
            "CPU times: user 1.57 ms, sys: 0 ns, total: 1.57 ms\n",
            "Wall time: 1.56 ms\n"
          ]
        }
      ]
    },
    {
      "cell_type": "code",
      "source": [
        "tensor @ tensor"
      ],
      "metadata": {
        "colab": {
          "base_uri": "https://localhost:8080/"
        },
        "id": "9C1aDJn0gtbp",
        "outputId": "78b5b7b5-35e1-4b45-a9fb-d7ef8eb74e27"
      },
      "execution_count": 52,
      "outputs": [
        {
          "output_type": "execute_result",
          "data": {
            "text/plain": [
              "tensor(14)"
            ]
          },
          "metadata": {},
          "execution_count": 52
        }
      ]
    },
    {
      "cell_type": "code",
      "source": [
        "%%time\n",
        "torch.matmul(tensor,tensor)"
      ],
      "metadata": {
        "colab": {
          "base_uri": "https://localhost:8080/"
        },
        "id": "lx3KAmazfaxP",
        "outputId": "219a808c-4161-471d-e245-3830d8b35984"
      },
      "execution_count": 53,
      "outputs": [
        {
          "output_type": "stream",
          "name": "stdout",
          "text": [
            "CPU times: user 34 µs, sys: 5 µs, total: 39 µs\n",
            "Wall time: 42.2 µs\n"
          ]
        },
        {
          "output_type": "execute_result",
          "data": {
            "text/plain": [
              "tensor(14)"
            ]
          },
          "metadata": {},
          "execution_count": 53
        }
      ]
    },
    {
      "cell_type": "markdown",
      "source": [
        "### one of the most common errors in deep learning: shape errors"
      ],
      "metadata": {
        "id": "CKVSRRlxgFX5"
      }
    },
    {
      "cell_type": "code",
      "source": [
        " #Shape for matrix multiplication\n",
        "tensor_A = torch.tensor([[1, 2],\n",
        "                         [3, 4],\n",
        "                         [5, 6]])\n",
        "tensor_B = torch.tensor([[7, 10],\n",
        "                         [8, 11],\n",
        "                         [9, 12]])\n",
        "\n",
        "\n",
        "#torch.mm(tensor_A,tensor_B) #torch.mm is the same as torch.matmul (it's an alias for writing less code)\n",
        "torch.matmul(tensor_A, tensor_B.T)\n"
      ],
      "metadata": {
        "colab": {
          "base_uri": "https://localhost:8080/"
        },
        "id": "ehnumnLNftEC",
        "outputId": "22d1229d-389d-4a19-a0dd-d90fea7b0415"
      },
      "execution_count": 54,
      "outputs": [
        {
          "output_type": "execute_result",
          "data": {
            "text/plain": [
              "tensor([[ 27,  30,  33],\n",
              "        [ 61,  68,  75],\n",
              "        [ 95, 106, 117]])"
            ]
          },
          "metadata": {},
          "execution_count": 54
        }
      ]
    },
    {
      "cell_type": "code",
      "source": [
        "tensor_A.shape, tensor_B.shape"
      ],
      "metadata": {
        "id": "R8P8pkSiCWp_",
        "outputId": "501374b8-0391-46e6-f098-60986f7c482f",
        "colab": {
          "base_uri": "https://localhost:8080/"
        }
      },
      "execution_count": 55,
      "outputs": [
        {
          "output_type": "execute_result",
          "data": {
            "text/plain": [
              "(torch.Size([3, 2]), torch.Size([3, 2]))"
            ]
          },
          "metadata": {},
          "execution_count": 55
        }
      ]
    },
    {
      "cell_type": "markdown",
      "source": [
        "To fix our tensor shape issues, we can manipulate the shape of one of our tensors using a **transpose**.\n",
        "\n",
        "A **transpose** switches the axes or dimensions of a given tensor tensor"
      ],
      "metadata": {
        "id": "t2VnFdGFC3qf"
      }
    },
    {
      "cell_type": "code",
      "source": [
        "tensor_B,tensor_B.shape"
      ],
      "metadata": {
        "id": "sCtMDn2LCtaY",
        "outputId": "e92c49c1-67a6-400f-d23b-f2f0d89fc2e7",
        "colab": {
          "base_uri": "https://localhost:8080/"
        }
      },
      "execution_count": 56,
      "outputs": [
        {
          "output_type": "execute_result",
          "data": {
            "text/plain": [
              "(tensor([[ 7, 10],\n",
              "         [ 8, 11],\n",
              "         [ 9, 12]]),\n",
              " torch.Size([3, 2]))"
            ]
          },
          "metadata": {},
          "execution_count": 56
        }
      ]
    },
    {
      "cell_type": "code",
      "source": [
        "tensor_B.T, tensor_B.T.shape"
      ],
      "metadata": {
        "id": "nkOUlHm5D3yV",
        "outputId": "6f071363-2e06-41fe-a722-c6f07da42d76",
        "colab": {
          "base_uri": "https://localhost:8080/"
        }
      },
      "execution_count": 57,
      "outputs": [
        {
          "output_type": "execute_result",
          "data": {
            "text/plain": [
              "(tensor([[ 7,  8,  9],\n",
              "         [10, 11, 12]]),\n",
              " torch.Size([2, 3]))"
            ]
          },
          "metadata": {},
          "execution_count": 57
        }
      ]
    },
    {
      "cell_type": "markdown",
      "source": [],
      "metadata": {
        "id": "KwVKsdSK2EDw"
      }
    },
    {
      "cell_type": "code",
      "source": [
        "# The matrix multiplication operation works when tensor_B is transposed\n",
        "print(f\"Original shapes: tensor_A = {tensor_A.shape} , tensor_B = {tensor_B.shape}\")\n",
        "print(f\"New shapes: tensor_A = {tensor_A.shape} (same shape as above), tensor_B.T = {tensor_B.T.shape}\")\n",
        "print(f\"Multiplying : {tensor_A.shape} @ {tensor_B.T.shape} <- inner dimensions must match\")\n",
        "print(\"Output:\\n\")\n",
        "output = torch.matmul(tensor_A, tensor_B.T)\n",
        "print(output)\n",
        "torch.matmul(tensor_A, tensor_B.T)"
      ],
      "metadata": {
        "id": "4yOhfn5yD_6r",
        "colab": {
          "base_uri": "https://localhost:8080/"
        },
        "outputId": "e35342fe-60ab-4477-9c1f-5e5f497146e1"
      },
      "execution_count": 58,
      "outputs": [
        {
          "output_type": "stream",
          "name": "stdout",
          "text": [
            "Original shapes: tensor_A = torch.Size([3, 2]) , tensor_B = torch.Size([3, 2])\n",
            "New shapes: tensor_A = torch.Size([3, 2]) (same shape as above), tensor_B.T = torch.Size([2, 3])\n",
            "Multiplying : torch.Size([3, 2]) @ torch.Size([2, 3]) <- inner dimensions must match\n",
            "Output:\n",
            "\n",
            "tensor([[ 27,  30,  33],\n",
            "        [ 61,  68,  75],\n",
            "        [ 95, 106, 117]])\n"
          ]
        },
        {
          "output_type": "execute_result",
          "data": {
            "text/plain": [
              "tensor([[ 27,  30,  33],\n",
              "        [ 61,  68,  75],\n",
              "        [ 95, 106, 117]])"
            ]
          },
          "metadata": {},
          "execution_count": 58
        }
      ]
    },
    {
      "cell_type": "code",
      "source": [
        "print(f\"Original shapes : tensor_A = {tensor_A.shape} ,tensor_B = {tensor_B.shape}\")\n",
        "print(f\"New shapes:tensorA.T = {tensor_A.shape} (same shape as above), tensor_B = {tensor_B.T.shape}\")\n",
        "print(f\"Multiplying : {tensor_A.T.shape} @ {tensor_B.shape} <- inner dimension must match\")\n",
        "print(\"Output:\\n\")\n",
        "out = torch.matmul(tensor_A.T, tensor_B)\n",
        "print(output)"
      ],
      "metadata": {
        "colab": {
          "base_uri": "https://localhost:8080/"
        },
        "id": "nIU2dhAJds2N",
        "outputId": "131d171d-2765-499a-a621-5636a3e0f924"
      },
      "execution_count": 59,
      "outputs": [
        {
          "output_type": "stream",
          "name": "stdout",
          "text": [
            "Original shapes : tensor_A = torch.Size([3, 2]) ,tensor_B = torch.Size([3, 2])\n",
            "New shapes:tensorA.T = torch.Size([3, 2]) (same shape as above), tensor_B = torch.Size([2, 3])\n",
            "Multiplying : torch.Size([2, 3]) @ torch.Size([3, 2]) <- inner dimension must match\n",
            "Output:\n",
            "\n",
            "tensor([[ 27,  30,  33],\n",
            "        [ 61,  68,  75],\n",
            "        [ 95, 106, 117]])\n"
          ]
        }
      ]
    },
    {
      "cell_type": "markdown",
      "source": [
        "Finding the min ,max , mean, sum,etc (tensor aggregation)"
      ],
      "metadata": {
        "id": "OeDIFF7jiSNL"
      }
    },
    {
      "cell_type": "code",
      "source": [
        "#create a tensor\n",
        "x= torch.arange(1,100,10)\n",
        "x , x.dtype"
      ],
      "metadata": {
        "colab": {
          "base_uri": "https://localhost:8080/"
        },
        "id": "dqblxNC7hsaL",
        "outputId": "cb5d9248-dbf3-40c8-ff76-71ce24ef9d99"
      },
      "execution_count": 60,
      "outputs": [
        {
          "output_type": "execute_result",
          "data": {
            "text/plain": [
              "(tensor([ 1, 11, 21, 31, 41, 51, 61, 71, 81, 91]), torch.int64)"
            ]
          },
          "metadata": {},
          "execution_count": 60
        }
      ]
    },
    {
      "cell_type": "code",
      "source": [
        "# Find the main\n",
        "torch.min(x) , x.min()"
      ],
      "metadata": {
        "colab": {
          "base_uri": "https://localhost:8080/"
        },
        "id": "8zcBK01Wil1w",
        "outputId": "13089240-28a1-43d3-827e-8d0f332af87a"
      },
      "execution_count": 61,
      "outputs": [
        {
          "output_type": "execute_result",
          "data": {
            "text/plain": [
              "(tensor(1), tensor(1))"
            ]
          },
          "metadata": {},
          "execution_count": 61
        }
      ]
    },
    {
      "cell_type": "code",
      "source": [
        "#Find the mean - note: the torch.mean() function requires a tensor of float32 datatype to work\n",
        "torch.mean(x.type(torch.float32)) ,x.type(torch.float32).mean()"
      ],
      "metadata": {
        "colab": {
          "base_uri": "https://localhost:8080/"
        },
        "id": "mrqRwNeDitw9",
        "outputId": "e82d1865-a27c-468c-b9ea-e1162610ec88"
      },
      "execution_count": 62,
      "outputs": [
        {
          "output_type": "execute_result",
          "data": {
            "text/plain": [
              "(tensor(46.), tensor(46.))"
            ]
          },
          "metadata": {},
          "execution_count": 62
        }
      ]
    },
    {
      "cell_type": "code",
      "source": [
        "#find the sum\n",
        "torch.sum(x), x.sum()"
      ],
      "metadata": {
        "colab": {
          "base_uri": "https://localhost:8080/"
        },
        "id": "sbK1VcxrjVzK",
        "outputId": "3e604d77-80e8-47a0-dcfa-21a52114c7c6"
      },
      "execution_count": 63,
      "outputs": [
        {
          "output_type": "execute_result",
          "data": {
            "text/plain": [
              "(tensor(460), tensor(460))"
            ]
          },
          "metadata": {},
          "execution_count": 63
        }
      ]
    },
    {
      "cell_type": "markdown",
      "source": [
        "## Finding the positional min max"
      ],
      "metadata": {
        "id": "-MLTVKaBkrxZ"
      }
    },
    {
      "cell_type": "code",
      "source": [
        "x"
      ],
      "metadata": {
        "colab": {
          "base_uri": "https://localhost:8080/"
        },
        "id": "Fx9mnnA0kJnm",
        "outputId": "33ff7702-2382-42a6-b552-d574ba445454"
      },
      "execution_count": 64,
      "outputs": [
        {
          "output_type": "execute_result",
          "data": {
            "text/plain": [
              "tensor([ 1, 11, 21, 31, 41, 51, 61, 71, 81, 91])"
            ]
          },
          "metadata": {},
          "execution_count": 64
        }
      ]
    },
    {
      "cell_type": "code",
      "source": [
        "# find the position that has the min value with argminn() -> returns index position of the target tensor where the minimum value occurs\n",
        "x.argmin()"
      ],
      "metadata": {
        "id": "K4TT-4c2kwX2",
        "outputId": "e29f1a99-5a47-4de1-d500-455b44abcf77",
        "colab": {
          "base_uri": "https://localhost:8080/"
        }
      },
      "execution_count": 65,
      "outputs": [
        {
          "output_type": "execute_result",
          "data": {
            "text/plain": [
              "tensor(0)"
            ]
          },
          "metadata": {},
          "execution_count": 65
        }
      ]
    },
    {
      "cell_type": "code",
      "source": [
        "#find the position in tensor that has the maximum value with argmax\n",
        "x.argmax()"
      ],
      "metadata": {
        "id": "-0y6J-PAk0y2",
        "colab": {
          "base_uri": "https://localhost:8080/"
        },
        "outputId": "6120300f-d2f0-4218-ae36-a206a9cc19b4"
      },
      "execution_count": 66,
      "outputs": [
        {
          "output_type": "execute_result",
          "data": {
            "text/plain": [
              "tensor(9)"
            ]
          },
          "metadata": {},
          "execution_count": 66
        }
      ]
    },
    {
      "cell_type": "code",
      "source": [
        "x[9]"
      ],
      "metadata": {
        "colab": {
          "base_uri": "https://localhost:8080/"
        },
        "id": "Kltx_9bwJpKc",
        "outputId": "a0da5145-d802-4f69-f86f-2513c26e1c5e"
      },
      "execution_count": 67,
      "outputs": [
        {
          "output_type": "execute_result",
          "data": {
            "text/plain": [
              "tensor(91)"
            ]
          },
          "metadata": {},
          "execution_count": 67
        }
      ]
    },
    {
      "cell_type": "markdown",
      "source": [
        "# reshaping ,stacking , squeezing and unsquezzing tensore"
      ],
      "metadata": {
        "id": "VzwEA9NlKhjd"
      }
    },
    {
      "cell_type": "markdown",
      "source": [
        "* Reshaping - reshape an input tensor to a defined shape\n",
        "\n",
        "* view  - return a view of an input tensor of certain shape but keep the same memory as the original tensor\n",
        "\n",
        "* stacking - combine muultiple tensors on top of each other (vstack) or side by side (hstack)\n",
        "\n",
        "* squeeze - remove all dimension from a tensor\n",
        "\n",
        "* unsqueeze - add a dimension to a target tensor\n",
        "\n",
        "* permute - return a view of the input with dimension permute(swapped) in a certain way"
      ],
      "metadata": {
        "id": "zaWNMGEMKsiP"
      }
    },
    {
      "cell_type": "code",
      "source": [
        "# lets create a tesor\n",
        "import torch\n",
        "x = torch.arange(1.,10.)\n",
        "x, x.shape"
      ],
      "metadata": {
        "colab": {
          "base_uri": "https://localhost:8080/"
        },
        "id": "Df4_jNzTKiPh",
        "outputId": "07a0e18c-f677-4885-da57-7a4462f81cb2"
      },
      "execution_count": 68,
      "outputs": [
        {
          "output_type": "execute_result",
          "data": {
            "text/plain": [
              "(tensor([1., 2., 3., 4., 5., 6., 7., 8., 9.]), torch.Size([9]))"
            ]
          },
          "metadata": {},
          "execution_count": 68
        }
      ]
    },
    {
      "cell_type": "code",
      "source": [
        "# add a extra dimension\n",
        "x_reshaped = x.reshape(1,9)\n",
        "x_reshaped, x_reshaped.shape"
      ],
      "metadata": {
        "colab": {
          "base_uri": "https://localhost:8080/"
        },
        "id": "9UQpnZykMKyu",
        "outputId": "93ff9642-65bf-416a-aae2-f031a544dca5"
      },
      "execution_count": 69,
      "outputs": [
        {
          "output_type": "execute_result",
          "data": {
            "text/plain": [
              "(tensor([[1., 2., 3., 4., 5., 6., 7., 8., 9.]]), torch.Size([1, 9]))"
            ]
          },
          "metadata": {},
          "execution_count": 69
        }
      ]
    },
    {
      "cell_type": "code",
      "source": [
        "# change the view\n",
        "z = x.view(1,9)\n",
        "z, z.shape"
      ],
      "metadata": {
        "colab": {
          "base_uri": "https://localhost:8080/"
        },
        "id": "sG9tK8J_MjXl",
        "outputId": "4939893f-77d5-4583-8b04-125b44062792"
      },
      "execution_count": 70,
      "outputs": [
        {
          "output_type": "execute_result",
          "data": {
            "text/plain": [
              "(tensor([[1., 2., 3., 4., 5., 6., 7., 8., 9.]]), torch.Size([1, 9]))"
            ]
          },
          "metadata": {},
          "execution_count": 70
        }
      ]
    },
    {
      "cell_type": "code",
      "source": [
        "#changing z changes x ( because a view of a tensor shares the saame memory as the original input)\n",
        "z[:,0] =5\n",
        "z, x"
      ],
      "metadata": {
        "colab": {
          "base_uri": "https://localhost:8080/"
        },
        "id": "VRhlgCX_NYvT",
        "outputId": "17847b4b-dbe0-48c0-8dd0-2d0772013135"
      },
      "execution_count": 71,
      "outputs": [
        {
          "output_type": "execute_result",
          "data": {
            "text/plain": [
              "(tensor([[5., 2., 3., 4., 5., 6., 7., 8., 9.]]),\n",
              " tensor([5., 2., 3., 4., 5., 6., 7., 8., 9.]))"
            ]
          },
          "metadata": {},
          "execution_count": 71
        }
      ]
    },
    {
      "cell_type": "code",
      "source": [
        "# stack tensors on top of eachother\n",
        "x_stacked = torch.stack([x,x,x,x],dim=0 )\n",
        "x_stacked"
      ],
      "metadata": {
        "colab": {
          "base_uri": "https://localhost:8080/"
        },
        "id": "H9q-DJAMNtdb",
        "outputId": "4d06ec8e-c3a0-4b03-9e11-6fe7bc23f62e"
      },
      "execution_count": 72,
      "outputs": [
        {
          "output_type": "execute_result",
          "data": {
            "text/plain": [
              "tensor([[5., 2., 3., 4., 5., 6., 7., 8., 9.],\n",
              "        [5., 2., 3., 4., 5., 6., 7., 8., 9.],\n",
              "        [5., 2., 3., 4., 5., 6., 7., 8., 9.],\n",
              "        [5., 2., 3., 4., 5., 6., 7., 8., 9.]])"
            ]
          },
          "metadata": {},
          "execution_count": 72
        }
      ]
    },
    {
      "cell_type": "markdown",
      "source": [
        "squeeze"
      ],
      "metadata": {
        "id": "df_m41NaPtRR"
      }
    },
    {
      "cell_type": "code",
      "source": [
        "#tourch.squeeze() -- remove  all single dimensions from a target tensor\n",
        "print(f\"previous tensor: {x_reshaped}\")\n",
        "print(f\"previous shape: {x_reshaped.shape}\")\n",
        "\n",
        "#remove extra dimension from x_shaped\n",
        "x_squeezed = x_reshaped.squeeze()\n",
        "print(f\"\\nNew  tensor: {x_squeezed}\")\n",
        "print(f\"New shape: {x_squeezed.shape}\")"
      ],
      "metadata": {
        "colab": {
          "base_uri": "https://localhost:8080/"
        },
        "id": "NDfP79HXQmXl",
        "outputId": "da182304-1b10-405d-b0b2-15a34c6bfa7a"
      },
      "execution_count": 73,
      "outputs": [
        {
          "output_type": "stream",
          "name": "stdout",
          "text": [
            "previous tensor: tensor([[5., 2., 3., 4., 5., 6., 7., 8., 9.]])\n",
            "previous shape: torch.Size([1, 9])\n",
            "\n",
            "New  tensor: tensor([5., 2., 3., 4., 5., 6., 7., 8., 9.])\n",
            "New shape: torch.Size([9])\n"
          ]
        }
      ]
    },
    {
      "cell_type": "code",
      "source": [
        "#tourch.unsqueeze() -- remove  all single dimensions from a target tensor\n",
        "print(f\"previous target: {x_squeezed}\")\n",
        "print(f\"previous shape: {x_squeezed.shape}\")\n",
        "\n",
        "#add extra dimension from x_shaped\n",
        "x_unsqueezed = x_squeezed.unsqueeze(dim=0)\n",
        "print(f\"\\nNew  tensor: {x_unsqueezed}\")\n",
        "print(f\"New shape: {x_unsqueezed.shape}\")"
      ],
      "metadata": {
        "colab": {
          "base_uri": "https://localhost:8080/"
        },
        "id": "ZI1U9MhXUEUo",
        "outputId": "e9e1c56b-0422-418c-d6bd-759ff6031518"
      },
      "execution_count": 74,
      "outputs": [
        {
          "output_type": "stream",
          "name": "stdout",
          "text": [
            "previous target: tensor([5., 2., 3., 4., 5., 6., 7., 8., 9.])\n",
            "previous shape: torch.Size([9])\n",
            "\n",
            "New  tensor: tensor([[5., 2., 3., 4., 5., 6., 7., 8., 9.]])\n",
            "New shape: torch.Size([1, 9])\n"
          ]
        }
      ]
    },
    {
      "cell_type": "code",
      "source": [
        "#torch.permute - reaarabges the dimensions of a target tensor in a specified order\n",
        "x_original = torch.rand(size=(224,224,3)) #[height,width,color_channels]\n",
        "\n",
        "# permute the original tensor to rearrange the axis (or dim) oredr\n",
        "x_permuted = x_original.permute(2,0,1) # shifts axis 0->1, 1->2,2->0\n",
        "\n",
        "print(f\"previous shape: {x_original.shape}\")\n",
        "print(f\"new shape: {x_permuted.shape}\") #[color_channel,height,width]"
      ],
      "metadata": {
        "colab": {
          "base_uri": "https://localhost:8080/"
        },
        "id": "R3pi1TXWUERR",
        "outputId": "83e8ccab-8394-47cb-ef82-193e6520e2f5"
      },
      "execution_count": 75,
      "outputs": [
        {
          "output_type": "stream",
          "name": "stdout",
          "text": [
            "previous shape: torch.Size([224, 224, 3])\n",
            "new shape: torch.Size([3, 224, 224])\n"
          ]
        }
      ]
    },
    {
      "cell_type": "code",
      "source": [
        "x_original[0,0,0] = 728218\n",
        "x_original[0,0,0], x_permuted[0,0,0]"
      ],
      "metadata": {
        "colab": {
          "base_uri": "https://localhost:8080/"
        },
        "id": "DfB-pca2UEPA",
        "outputId": "a3c121f8-df16-4f4b-ca87-58c021b1a131"
      },
      "execution_count": 76,
      "outputs": [
        {
          "output_type": "execute_result",
          "data": {
            "text/plain": [
              "(tensor(728218.), tensor(728218.))"
            ]
          },
          "metadata": {},
          "execution_count": 76
        }
      ]
    },
    {
      "cell_type": "markdown",
      "source": [
        "## Indexing (selecting data from tensors)\n",
        "\n",
        "Indexing with Pytorch is similar to indexing with numpy"
      ],
      "metadata": {
        "id": "Pvl5HbYwZFiE"
      }
    },
    {
      "cell_type": "code",
      "source": [
        "# create a tensor\n",
        "import torch\n",
        "x = torch.arange(1,10).reshape(1,3,3)\n",
        "x, x.shape"
      ],
      "metadata": {
        "colab": {
          "base_uri": "https://localhost:8080/"
        },
        "id": "RqwhHzaoYns1",
        "outputId": "d614576c-2df2-462a-833f-143d3148c171"
      },
      "execution_count": 77,
      "outputs": [
        {
          "output_type": "execute_result",
          "data": {
            "text/plain": [
              "(tensor([[[1, 2, 3],\n",
              "          [4, 5, 6],\n",
              "          [7, 8, 9]]]),\n",
              " torch.Size([1, 3, 3]))"
            ]
          },
          "metadata": {},
          "execution_count": 77
        }
      ]
    },
    {
      "cell_type": "code",
      "source": [
        "# lets a index on our new tensor\n",
        "x[0]"
      ],
      "metadata": {
        "colab": {
          "base_uri": "https://localhost:8080/"
        },
        "id": "D1rkx9_VZifp",
        "outputId": "e8db4d0e-961f-4ab1-e094-1f6fdeaba026"
      },
      "execution_count": 78,
      "outputs": [
        {
          "output_type": "execute_result",
          "data": {
            "text/plain": [
              "tensor([[1, 2, 3],\n",
              "        [4, 5, 6],\n",
              "        [7, 8, 9]])"
            ]
          },
          "metadata": {},
          "execution_count": 78
        }
      ]
    },
    {
      "cell_type": "code",
      "source": [
        "#lets index in middle bracket\n",
        "x[0,0]\n",
        "#x[0][0]"
      ],
      "metadata": {
        "colab": {
          "base_uri": "https://localhost:8080/"
        },
        "id": "WmoZvtlGZxKj",
        "outputId": "e28ec4f0-41b3-4381-fd6b-e18367a682dd"
      },
      "execution_count": 79,
      "outputs": [
        {
          "output_type": "execute_result",
          "data": {
            "text/plain": [
              "tensor([1, 2, 3])"
            ]
          },
          "metadata": {},
          "execution_count": 79
        }
      ]
    },
    {
      "cell_type": "code",
      "source": [
        "# Lets index on the most innefr barcket (last dimension)\n",
        "x[0][1][1]"
      ],
      "metadata": {
        "colab": {
          "base_uri": "https://localhost:8080/"
        },
        "id": "_0WeZ7vPZ3Za",
        "outputId": "a03dcd2b-28a2-4394-dabe-04e798150e98"
      },
      "execution_count": 80,
      "outputs": [
        {
          "output_type": "execute_result",
          "data": {
            "text/plain": [
              "tensor(5)"
            ]
          },
          "metadata": {},
          "execution_count": 80
        }
      ]
    },
    {
      "cell_type": "code",
      "source": [
        "# you can also use \":\" to select \"all\" of a target dimension\n",
        "x[:,0]"
      ],
      "metadata": {
        "colab": {
          "base_uri": "https://localhost:8080/"
        },
        "id": "DzddBoLDaIdb",
        "outputId": "41ec90da-84fd-41ca-bfb8-489dfeb97064"
      },
      "execution_count": 81,
      "outputs": [
        {
          "output_type": "execute_result",
          "data": {
            "text/plain": [
              "tensor([[1, 2, 3]])"
            ]
          },
          "metadata": {},
          "execution_count": 81
        }
      ]
    },
    {
      "cell_type": "code",
      "source": [
        "# get all values of 0th and 1st dimension but only index 1 of the 2nd dimension\n",
        "x[:,:,1]"
      ],
      "metadata": {
        "colab": {
          "base_uri": "https://localhost:8080/"
        },
        "id": "D5VFe4qPapst",
        "outputId": "b5b8ef9b-a62d-4721-be0f-6608c31cfd55"
      },
      "execution_count": 82,
      "outputs": [
        {
          "output_type": "execute_result",
          "data": {
            "text/plain": [
              "tensor([[2, 5, 8]])"
            ]
          },
          "metadata": {},
          "execution_count": 82
        }
      ]
    },
    {
      "cell_type": "code",
      "source": [
        "# get all values of the 0 dimension but only the 1 index value of 1st and 2nd dimension\n",
        "x[:,1,1]"
      ],
      "metadata": {
        "colab": {
          "base_uri": "https://localhost:8080/"
        },
        "id": "oeZyfrcxa3oC",
        "outputId": "41c2c0a8-bbb0-4924-ed3c-22765445baed"
      },
      "execution_count": 83,
      "outputs": [
        {
          "output_type": "execute_result",
          "data": {
            "text/plain": [
              "tensor([5])"
            ]
          },
          "metadata": {},
          "execution_count": 83
        }
      ]
    },
    {
      "cell_type": "code",
      "source": [
        "# get index o of 0th 1st dimension and all values of 2nd dimension\n",
        "x[0,0,:]"
      ],
      "metadata": {
        "colab": {
          "base_uri": "https://localhost:8080/"
        },
        "id": "ScMkThU3bQ4j",
        "outputId": "6a839908-136a-4781-a646-8864512fd914"
      },
      "execution_count": 84,
      "outputs": [
        {
          "output_type": "execute_result",
          "data": {
            "text/plain": [
              "tensor([1, 2, 3])"
            ]
          },
          "metadata": {},
          "execution_count": 84
        }
      ]
    },
    {
      "cell_type": "code",
      "source": [
        "# index on x to return 9\n",
        "x[:,2,2]\n",
        "\n"
      ],
      "metadata": {
        "colab": {
          "base_uri": "https://localhost:8080/"
        },
        "id": "X6KMHEKYbkxE",
        "outputId": "87ef70ca-6b8f-47bf-82bf-20e2ceac5285"
      },
      "execution_count": 85,
      "outputs": [
        {
          "output_type": "execute_result",
          "data": {
            "text/plain": [
              "tensor([9])"
            ]
          },
          "metadata": {},
          "execution_count": 85
        }
      ]
    },
    {
      "cell_type": "code",
      "source": [
        "# index on x to return 3\n",
        "x[:,0,2]\n"
      ],
      "metadata": {
        "colab": {
          "base_uri": "https://localhost:8080/"
        },
        "id": "sjmkaH-gdWpe",
        "outputId": "c70d51c4-4117-4d1d-88ba-92f8f08f770a"
      },
      "execution_count": 86,
      "outputs": [
        {
          "output_type": "execute_result",
          "data": {
            "text/plain": [
              "tensor([3])"
            ]
          },
          "metadata": {},
          "execution_count": 86
        }
      ]
    },
    {
      "cell_type": "code",
      "source": [
        "# index on x return 6\n",
        "x[:,1,2]"
      ],
      "metadata": {
        "colab": {
          "base_uri": "https://localhost:8080/"
        },
        "id": "WfhuzuO8eSyM",
        "outputId": "7e4a6282-def4-4655-9462-caea38c0fed2"
      },
      "execution_count": 87,
      "outputs": [
        {
          "output_type": "execute_result",
          "data": {
            "text/plain": [
              "tensor([6])"
            ]
          },
          "metadata": {},
          "execution_count": 87
        }
      ]
    },
    {
      "cell_type": "markdown",
      "source": [
        "## Pytorch tensor & Numpy\n",
        "\n",
        "Numpy is a popular scientific python numerical computing library.\n",
        "\n",
        "and because of this ,pytorch has functionality to  intercat with it.\n",
        "\n",
        "* Data in Numpy want in Pytorch tensor -> torch.form_numpy(ndarray)\n",
        "\n",
        "* PyTorch tensor -> Numpy -> torch.Tensor.numpy()"
      ],
      "metadata": {
        "id": "GbgvRazcfdK1"
      }
    },
    {
      "cell_type": "code",
      "source": [
        "# Numpy array to tensor\n",
        "import torch\n",
        "import numpy as np\n",
        "\n",
        "array = np.arange(1.0,8.0)\n",
        "tensor = torch.from_numpy(array)\n",
        "#tensor = torch.from_numpy(array).type(torch.float32)\n",
        "#warning : when converting from numpy -> pytorch , pytorch reflects numpy's default datatype of float64 unless specified otherwise\n",
        "array, tensor\n"
      ],
      "metadata": {
        "colab": {
          "base_uri": "https://localhost:8080/"
        },
        "id": "fvwXppUMetsX",
        "outputId": "b9311309-7554-426e-972c-ce1dc337963f"
      },
      "execution_count": 88,
      "outputs": [
        {
          "output_type": "execute_result",
          "data": {
            "text/plain": [
              "(array([1., 2., 3., 4., 5., 6., 7.]),\n",
              " tensor([1., 2., 3., 4., 5., 6., 7.], dtype=torch.float64))"
            ]
          },
          "metadata": {},
          "execution_count": 88
        }
      ]
    },
    {
      "cell_type": "code",
      "source": [
        "array.dtype"
      ],
      "metadata": {
        "colab": {
          "base_uri": "https://localhost:8080/"
        },
        "id": "Hnec7KKChPUG",
        "outputId": "5a7680ec-2cbf-4020-e1b1-40ae67719592"
      },
      "execution_count": 89,
      "outputs": [
        {
          "output_type": "execute_result",
          "data": {
            "text/plain": [
              "dtype('float64')"
            ]
          },
          "metadata": {},
          "execution_count": 89
        }
      ]
    },
    {
      "cell_type": "code",
      "source": [
        " #torch.arange(1.0,8.0).dtype"
      ],
      "metadata": {
        "id": "LqCng9mthVfa"
      },
      "execution_count": 90,
      "outputs": []
    },
    {
      "cell_type": "code",
      "source": [
        "# change the value of array, what will this do to 'tensor'?\n",
        "array = array + 1\n",
        "array, tensor"
      ],
      "metadata": {
        "colab": {
          "base_uri": "https://localhost:8080/"
        },
        "id": "Eg13cJvkhcEb",
        "outputId": "27156042-4266-42b2-fb61-be6cf9a50445"
      },
      "execution_count": 91,
      "outputs": [
        {
          "output_type": "execute_result",
          "data": {
            "text/plain": [
              "(array([2., 3., 4., 5., 6., 7., 8.]),\n",
              " tensor([1., 2., 3., 4., 5., 6., 7.], dtype=torch.float64))"
            ]
          },
          "metadata": {},
          "execution_count": 91
        }
      ]
    },
    {
      "cell_type": "code",
      "source": [
        "# tensor to numpy array\n",
        "tensor= torch.ones(7)\n",
        "numpy_tensor = tensor.numpy()\n",
        "tensor,numpy_tensor"
      ],
      "metadata": {
        "colab": {
          "base_uri": "https://localhost:8080/"
        },
        "id": "WqJTiL_rhmaN",
        "outputId": "e5add23f-9d90-41b0-af5c-fb2a843bf753"
      },
      "execution_count": 92,
      "outputs": [
        {
          "output_type": "execute_result",
          "data": {
            "text/plain": [
              "(tensor([1., 1., 1., 1., 1., 1., 1.]),\n",
              " array([1., 1., 1., 1., 1., 1., 1.], dtype=float32))"
            ]
          },
          "metadata": {},
          "execution_count": 92
        }
      ]
    },
    {
      "cell_type": "code",
      "source": [
        "# change the tensor , what happens to 'numpy_tensor'\n",
        "tensor = tensor +1\n",
        "tensor, numpy_tensor"
      ],
      "metadata": {
        "colab": {
          "base_uri": "https://localhost:8080/"
        },
        "id": "rtKZfGMWipkS",
        "outputId": "239eb649-9cda-49bc-991f-c3d8d750a661"
      },
      "execution_count": 93,
      "outputs": [
        {
          "output_type": "execute_result",
          "data": {
            "text/plain": [
              "(tensor([2., 2., 2., 2., 2., 2., 2.]),\n",
              " array([1., 1., 1., 1., 1., 1., 1.], dtype=float32))"
            ]
          },
          "metadata": {},
          "execution_count": 93
        }
      ]
    },
    {
      "cell_type": "markdown",
      "source": [
        "## Reproducbility (trying to take random out of random)\n",
        "\n",
        "In short how a neural network learns:\n",
        "\n",
        "start with random numbers -> tensor operations -> update random no.s to try and make them representations of the data -> again -> again p> again ...\n",
        "\n",
        "To reduce the randomness in neural networks and Pytorch comes the concept of random seed\n",
        "\n",
        "Esentially what the random seed does in the 'flavor' the randomness"
      ],
      "metadata": {
        "id": "OHgIDRpljmpS"
      }
    },
    {
      "cell_type": "code",
      "source": [
        "import torch\n",
        "# create two rand tensores\n",
        "random_tensor_A = torch.rand(3,4)\n",
        "random_tensor_B = torch.rand(3,4)\n",
        "\n",
        "print(random_tensor_A)\n",
        "print(random_tensor_B)\n",
        "print(random_tensor_A == random_tensor_B)"
      ],
      "metadata": {
        "colab": {
          "base_uri": "https://localhost:8080/"
        },
        "id": "NILNP_VRjN2h",
        "outputId": "5cf72353-5c7d-4895-87e8-03216f75b268"
      },
      "execution_count": 94,
      "outputs": [
        {
          "output_type": "stream",
          "name": "stdout",
          "text": [
            "tensor([[0.4813, 0.0429, 0.4311, 0.2998],\n",
            "        [0.4829, 0.9780, 0.2900, 0.7177],\n",
            "        [0.2778, 0.2688, 0.9033, 0.3276]])\n",
            "tensor([[6.8982e-01, 2.3983e-01, 6.3322e-01, 7.3278e-02],\n",
            "        [7.9779e-01, 6.4859e-01, 1.6420e-01, 8.2885e-03],\n",
            "        [4.0082e-02, 6.1325e-01, 2.3823e-02, 6.2144e-04]])\n",
            "tensor([[False, False, False, False],\n",
            "        [False, False, False, False],\n",
            "        [False, False, False, False]])\n"
          ]
        }
      ]
    },
    {
      "cell_type": "code",
      "source": [
        "# lets make rand but reproducable tensors\n",
        "import torch\n",
        "\n",
        "RANDOM_SEED = 42\n",
        "torch.manual_seed(RANDOM_SEED)\n",
        "random_tensor_C = torch.rand(3,4)   # first tensor\n",
        "\n",
        "\n",
        "torch.manual_seed(RANDOM_SEED)\n",
        "random_tensor_D = torch.rand(3,4)   # second tensor continues RNG\n",
        "\n",
        "print(random_tensor_C)\n",
        "print(random_tensor_D)\n",
        "print(random_tensor_C == random_tensor_D)\n"
      ],
      "metadata": {
        "colab": {
          "base_uri": "https://localhost:8080/"
        },
        "id": "OZQ7Z_4RkJyp",
        "outputId": "7f7da95f-a143-4335-e8f7-232f3408a774"
      },
      "execution_count": 95,
      "outputs": [
        {
          "output_type": "stream",
          "name": "stdout",
          "text": [
            "tensor([[0.8823, 0.9150, 0.3829, 0.9593],\n",
            "        [0.3904, 0.6009, 0.2566, 0.7936],\n",
            "        [0.9408, 0.1332, 0.9346, 0.5936]])\n",
            "tensor([[0.8823, 0.9150, 0.3829, 0.9593],\n",
            "        [0.3904, 0.6009, 0.2566, 0.7936],\n",
            "        [0.9408, 0.1332, 0.9346, 0.5936]])\n",
            "tensor([[True, True, True, True],\n",
            "        [True, True, True, True],\n",
            "        [True, True, True, True]])\n"
          ]
        }
      ]
    },
    {
      "cell_type": "markdown",
      "source": [
        "## Running tensors and Pytorch objects on the GPUs (and making faster computations)\n",
        "\n",
        "GPU = faster computation on nos\n"
      ],
      "metadata": {
        "id": "UJtoz7F7v7xS"
      }
    },
    {
      "cell_type": "markdown",
      "source": [
        "### 1. Getting a GPU\n",
        "\n",
        "Easiest - User Google collab fo1 a free GPU\n",
        "\n",
        "Use your own GPU - investment req\n",
        "\n",
        "use cloud comuting- GCP, AWS,Azure these services allow you to rent computers on the cloud and access them"
      ],
      "metadata": {
        "id": "tkNx8JEewM79"
      }
    },
    {
      "cell_type": "code",
      "source": [
        "! nvidia-smi"
      ],
      "metadata": {
        "colab": {
          "base_uri": "https://localhost:8080/"
        },
        "id": "0AOOWGOowMnC",
        "outputId": "c95128f8-3522-4ee2-ca95-2cccd44a3fdb"
      },
      "execution_count": 96,
      "outputs": [
        {
          "output_type": "stream",
          "name": "stdout",
          "text": [
            "Sun Aug 24 17:49:24 2025       \n",
            "+-----------------------------------------------------------------------------------------+\n",
            "| NVIDIA-SMI 550.54.15              Driver Version: 550.54.15      CUDA Version: 12.4     |\n",
            "|-----------------------------------------+------------------------+----------------------+\n",
            "| GPU  Name                 Persistence-M | Bus-Id          Disp.A | Volatile Uncorr. ECC |\n",
            "| Fan  Temp   Perf          Pwr:Usage/Cap |           Memory-Usage | GPU-Util  Compute M. |\n",
            "|                                         |                        |               MIG M. |\n",
            "|=========================================+========================+======================|\n",
            "|   0  Tesla T4                       Off |   00000000:00:04.0 Off |                    0 |\n",
            "| N/A   41C    P8              9W /   70W |       0MiB /  15360MiB |      0%      Default |\n",
            "|                                         |                        |                  N/A |\n",
            "+-----------------------------------------+------------------------+----------------------+\n",
            "                                                                                         \n",
            "+-----------------------------------------------------------------------------------------+\n",
            "| Processes:                                                                              |\n",
            "|  GPU   GI   CI        PID   Type   Process name                              GPU Memory |\n",
            "|        ID   ID                                                               Usage      |\n",
            "|=========================================================================================|\n",
            "|  No running processes found                                                             |\n",
            "+-----------------------------------------------------------------------------------------+\n"
          ]
        }
      ]
    },
    {
      "cell_type": "markdown",
      "source": [
        "### 2. check GPU with Pytorch"
      ],
      "metadata": {
        "id": "-yhqBA1e1yIg"
      }
    },
    {
      "cell_type": "code",
      "source": [
        "# check for GPU access with Pytorch\n",
        "import torch\n",
        "torch.cuda.is_available()"
      ],
      "metadata": {
        "colab": {
          "base_uri": "https://localhost:8080/"
        },
        "id": "i6pXzua6lytH",
        "outputId": "dc8a6e55-44f6-4770-a7b9-d1316cd6cc15"
      },
      "execution_count": 97,
      "outputs": [
        {
          "output_type": "execute_result",
          "data": {
            "text/plain": [
              "True"
            ]
          },
          "metadata": {},
          "execution_count": 97
        }
      ]
    },
    {
      "cell_type": "code",
      "source": [
        "# Setup device agnostic code\n",
        "device = \"cuda\" if torch.cuda.is_available() else \"cpu\"\n",
        "device"
      ],
      "metadata": {
        "colab": {
          "base_uri": "https://localhost:8080/",
          "height": 36
        },
        "id": "tL5diZpn2Iv2",
        "outputId": "392fb097-612e-45ec-a534-62a9e53b9cca"
      },
      "execution_count": 98,
      "outputs": [
        {
          "output_type": "execute_result",
          "data": {
            "text/plain": [
              "'cuda'"
            ],
            "application/vnd.google.colaboratory.intrinsic+json": {
              "type": "string"
            }
          },
          "metadata": {},
          "execution_count": 98
        }
      ]
    },
    {
      "cell_type": "markdown",
      "source": [
        "device agnostic code"
      ],
      "metadata": {
        "id": "rN9agLrc2pgB"
      }
    },
    {
      "cell_type": "markdown",
      "source": [
        "for pytorch its capable of running computeon the GPU or CPU,its best pratices to setup device agnostic code"
      ],
      "metadata": {
        "id": "dJ_8Kg_92tW3"
      }
    },
    {
      "cell_type": "code",
      "source": [
        "# Count number of devices\n",
        "torch.cuda.device_count()"
      ],
      "metadata": {
        "colab": {
          "base_uri": "https://localhost:8080/"
        },
        "id": "66Pfp30x2XwB",
        "outputId": "a48f0614-2d70-4974-cbd2-ea4df559d980"
      },
      "execution_count": 99,
      "outputs": [
        {
          "output_type": "execute_result",
          "data": {
            "text/plain": [
              "1"
            ]
          },
          "metadata": {},
          "execution_count": 99
        }
      ]
    },
    {
      "cell_type": "markdown",
      "source": [
        "## 3. putting tensors (and models) on the GPU"
      ],
      "metadata": {
        "id": "Oy0vLas33RG6"
      }
    },
    {
      "cell_type": "code",
      "source": [
        "# Create a tensor (default on the CPU)\n",
        "tensor = torch.tensor([1,2,3])\n",
        "\n",
        "# Tensor not on GPU\n",
        "print(tensor,tensor.device)"
      ],
      "metadata": {
        "colab": {
          "base_uri": "https://localhost:8080/"
        },
        "id": "hnUZT9lA2mtR",
        "outputId": "38387d83-02e9-4f19-e798-6ef91834adb4"
      },
      "execution_count": 100,
      "outputs": [
        {
          "output_type": "stream",
          "name": "stdout",
          "text": [
            "tensor([1, 2, 3]) cpu\n"
          ]
        }
      ]
    },
    {
      "cell_type": "code",
      "source": [
        "# move tensor to GPU (if available)\n",
        "tensor_on_gpu = tensor.to(device)\n",
        "tensor_on_gpu"
      ],
      "metadata": {
        "colab": {
          "base_uri": "https://localhost:8080/"
        },
        "id": "oTt1IHrf-izj",
        "outputId": "da92263c-dbc2-4da9-a0ca-2452f9bc3c0c"
      },
      "execution_count": 101,
      "outputs": [
        {
          "output_type": "execute_result",
          "data": {
            "text/plain": [
              "tensor([1, 2, 3], device='cuda:0')"
            ]
          },
          "metadata": {},
          "execution_count": 101
        }
      ]
    },
    {
      "cell_type": "markdown",
      "source": [
        "### 4. Moving tensor back to cpu"
      ],
      "metadata": {
        "id": "sTQntSn0IofN"
      }
    },
    {
      "cell_type": "code",
      "source": [
        "# if tensor in GPU , cant transform it to numpy\n",
        "# tensor_on_gpu.numpy()\n"
      ],
      "metadata": {
        "id": "gN7PA8L3-1WR"
      },
      "execution_count": 102,
      "outputs": []
    },
    {
      "cell_type": "code",
      "source": [
        "# to fix the GPU tensor with numpy issue ,we can first set it to the cpu\n",
        "tensor_back_on_cpu = tensor_on_gpu.cpu().numpy()\n",
        "tensor_back_on_cpu"
      ],
      "metadata": {
        "colab": {
          "base_uri": "https://localhost:8080/"
        },
        "id": "MldIpvl7IzEM",
        "outputId": "beb84276-f78c-42a7-b2c3-dfdfb2d0ab82"
      },
      "execution_count": 103,
      "outputs": [
        {
          "output_type": "execute_result",
          "data": {
            "text/plain": [
              "array([1, 2, 3])"
            ]
          },
          "metadata": {},
          "execution_count": 103
        }
      ]
    },
    {
      "cell_type": "code",
      "source": [],
      "metadata": {
        "id": "1ohyyBmPJSQk"
      },
      "execution_count": 103,
      "outputs": []
    }
  ]
}