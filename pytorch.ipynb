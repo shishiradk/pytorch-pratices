{
  "nbformat": 4,
  "nbformat_minor": 0,
  "metadata": {
    "colab": {
      "provenance": [],
      "gpuType": "T4",
      "authorship_tag": "ABX9TyNvJP/MrsDkMLfz+l8WBEAg",
      "include_colab_link": true
    },
    "kernelspec": {
      "name": "python3",
      "display_name": "Python 3"
    },
    "language_info": {
      "name": "python"
    },
    "accelerator": "GPU"
  },
  "cells": [
    {
      "cell_type": "markdown",
      "metadata": {
        "id": "view-in-github",
        "colab_type": "text"
      },
      "source": [
        "<a href=\"https://colab.research.google.com/github/shishiradk/pytorch-pratices/blob/main/pytorch.ipynb\" target=\"_parent\"><img src=\"https://colab.research.google.com/assets/colab-badge.svg\" alt=\"Open In Colab\"/></a>"
      ]
    },
    {
      "cell_type": "code",
      "execution_count": 2,
      "metadata": {
        "colab": {
          "base_uri": "https://localhost:8080/"
        },
        "id": "Ipxmmm-BuHoq",
        "outputId": "5106daf9-0fbd-4554-a541-5b709bacfea2"
      },
      "outputs": [
        {
          "output_type": "stream",
          "name": "stdout",
          "text": [
            "Sat Mar  8 07:14:31 2025       \n",
            "+-----------------------------------------------------------------------------------------+\n",
            "| NVIDIA-SMI 550.54.15              Driver Version: 550.54.15      CUDA Version: 12.4     |\n",
            "|-----------------------------------------+------------------------+----------------------+\n",
            "| GPU  Name                 Persistence-M | Bus-Id          Disp.A | Volatile Uncorr. ECC |\n",
            "| Fan  Temp   Perf          Pwr:Usage/Cap |           Memory-Usage | GPU-Util  Compute M. |\n",
            "|                                         |                        |               MIG M. |\n",
            "|=========================================+========================+======================|\n",
            "|   0  Tesla T4                       Off |   00000000:00:04.0 Off |                    0 |\n",
            "| N/A   47C    P8             10W /   70W |       0MiB /  15360MiB |      0%      Default |\n",
            "|                                         |                        |                  N/A |\n",
            "+-----------------------------------------+------------------------+----------------------+\n",
            "                                                                                         \n",
            "+-----------------------------------------------------------------------------------------+\n",
            "| Processes:                                                                              |\n",
            "|  GPU   GI   CI        PID   Type   Process name                              GPU Memory |\n",
            "|        ID   ID                                                               Usage      |\n",
            "|=========================================================================================|\n",
            "|  No running processes found                                                             |\n",
            "+-----------------------------------------------------------------------------------------+\n"
          ]
        }
      ],
      "source": [
        "!nvidia-smi\n"
      ]
    },
    {
      "cell_type": "code",
      "source": [
        "import numpy as np\n",
        "import pandas as pd\n",
        "import matplotlib.pyplot as plt\n",
        "import torch\n",
        "print(torch.__version__)"
      ],
      "metadata": {
        "colab": {
          "base_uri": "https://localhost:8080/"
        },
        "id": "eZa8yggluhDq",
        "outputId": "b2897e95-1533-4c9f-d029-feda69f462f1"
      },
      "execution_count": 3,
      "outputs": [
        {
          "output_type": "stream",
          "name": "stdout",
          "text": [
            "2.5.1+cu124\n"
          ]
        }
      ]
    },
    {
      "cell_type": "markdown",
      "source": [
        "introduction to tensors\n",
        "creating tensor"
      ],
      "metadata": {
        "id": "0T04eZk0w0gf"
      }
    },
    {
      "cell_type": "markdown",
      "source": [],
      "metadata": {
        "id": "BRYigiaOw3Fh"
      }
    },
    {
      "cell_type": "code",
      "source": [
        "#scalar\n",
        "scalar = torch.tensor(7)\n",
        "scalar\n"
      ],
      "metadata": {
        "colab": {
          "base_uri": "https://localhost:8080/"
        },
        "id": "E78psR9bwJyK",
        "outputId": "d44f6aee-4da1-4440-a6c6-35019efc0c93"
      },
      "execution_count": 4,
      "outputs": [
        {
          "output_type": "execute_result",
          "data": {
            "text/plain": [
              "tensor(7)"
            ]
          },
          "metadata": {},
          "execution_count": 4
        }
      ]
    },
    {
      "cell_type": "code",
      "source": [
        "scalar.ndim"
      ],
      "metadata": {
        "colab": {
          "base_uri": "https://localhost:8080/"
        },
        "id": "IqIfhYWywrSG",
        "outputId": "bf499f4f-cfe1-4883-9c3d-f70e6e447639"
      },
      "execution_count": 5,
      "outputs": [
        {
          "output_type": "execute_result",
          "data": {
            "text/plain": [
              "0"
            ]
          },
          "metadata": {},
          "execution_count": 5
        }
      ]
    },
    {
      "cell_type": "code",
      "source": [
        "#get tensor back as python int\n",
        "scalar.item()"
      ],
      "metadata": {
        "colab": {
          "base_uri": "https://localhost:8080/"
        },
        "id": "g57NNznbyB6a",
        "outputId": "c95cbdf7-53ea-41b1-99ae-cc17175c4054"
      },
      "execution_count": 6,
      "outputs": [
        {
          "output_type": "execute_result",
          "data": {
            "text/plain": [
              "7"
            ]
          },
          "metadata": {},
          "execution_count": 6
        }
      ]
    },
    {
      "cell_type": "code",
      "source": [
        "#vector\n",
        "vector = torch.tensor([7,7])\n",
        "vector"
      ],
      "metadata": {
        "colab": {
          "base_uri": "https://localhost:8080/"
        },
        "id": "am4C3NNzyOLN",
        "outputId": "a2f95447-e8ef-4356-8f04-6a76be90da5a"
      },
      "execution_count": 7,
      "outputs": [
        {
          "output_type": "execute_result",
          "data": {
            "text/plain": [
              "tensor([7, 7])"
            ]
          },
          "metadata": {},
          "execution_count": 7
        }
      ]
    },
    {
      "cell_type": "code",
      "source": [
        "vector.ndim"
      ],
      "metadata": {
        "colab": {
          "base_uri": "https://localhost:8080/"
        },
        "id": "UG3w44iRyh9b",
        "outputId": "c34f2eaa-b571-4fcc-f874-3f22f6c7a67f"
      },
      "execution_count": 8,
      "outputs": [
        {
          "output_type": "execute_result",
          "data": {
            "text/plain": [
              "1"
            ]
          },
          "metadata": {},
          "execution_count": 8
        }
      ]
    },
    {
      "cell_type": "code",
      "source": [
        "vector.shape"
      ],
      "metadata": {
        "colab": {
          "base_uri": "https://localhost:8080/"
        },
        "id": "T4ieiQRyymB1",
        "outputId": "9e0368a5-3be2-4e7f-9f59-342b9c1c5e4c"
      },
      "execution_count": 9,
      "outputs": [
        {
          "output_type": "execute_result",
          "data": {
            "text/plain": [
              "torch.Size([2])"
            ]
          },
          "metadata": {},
          "execution_count": 9
        }
      ]
    },
    {
      "cell_type": "code",
      "source": [
        "#matrix\n",
        "MATRIX = torch.tensor([[7,8],\n",
        "                      [9,10]])\n",
        "MATRIX\n"
      ],
      "metadata": {
        "colab": {
          "base_uri": "https://localhost:8080/"
        },
        "id": "wexINEwqyolb",
        "outputId": "099928c3-2870-4647-8ab0-4764ff2805fe"
      },
      "execution_count": 10,
      "outputs": [
        {
          "output_type": "execute_result",
          "data": {
            "text/plain": [
              "tensor([[ 7,  8],\n",
              "        [ 9, 10]])"
            ]
          },
          "metadata": {},
          "execution_count": 10
        }
      ]
    },
    {
      "cell_type": "code",
      "source": [
        "MATRIX.ndim"
      ],
      "metadata": {
        "colab": {
          "base_uri": "https://localhost:8080/"
        },
        "id": "Xm7PGAG1zEBZ",
        "outputId": "9d2861a1-1d59-4faf-f6de-b17ae02b9c16"
      },
      "execution_count": 11,
      "outputs": [
        {
          "output_type": "execute_result",
          "data": {
            "text/plain": [
              "2"
            ]
          },
          "metadata": {},
          "execution_count": 11
        }
      ]
    },
    {
      "cell_type": "code",
      "source": [
        "MATRIX[1]"
      ],
      "metadata": {
        "colab": {
          "base_uri": "https://localhost:8080/"
        },
        "id": "EvoOzPJdzIgd",
        "outputId": "3b6c89f3-6e77-4d68-a49f-3ebb6accfc77"
      },
      "execution_count": 12,
      "outputs": [
        {
          "output_type": "execute_result",
          "data": {
            "text/plain": [
              "tensor([ 9, 10])"
            ]
          },
          "metadata": {},
          "execution_count": 12
        }
      ]
    },
    {
      "cell_type": "code",
      "source": [
        "MATRIX.shape"
      ],
      "metadata": {
        "colab": {
          "base_uri": "https://localhost:8080/"
        },
        "id": "6eSRxHX2zOS4",
        "outputId": "b7dedc69-2189-4f5d-841f-a94596d0e42b"
      },
      "execution_count": 13,
      "outputs": [
        {
          "output_type": "execute_result",
          "data": {
            "text/plain": [
              "torch.Size([2, 2])"
            ]
          },
          "metadata": {},
          "execution_count": 13
        }
      ]
    },
    {
      "cell_type": "code",
      "source": [
        "#TENSOR\n",
        "TENSOR = torch.tensor([[[1,2,4],\n",
        "                         [2,3,4],\n",
        "                         [4,5,6]]])"
      ],
      "metadata": {
        "id": "8950TfPczRPv"
      },
      "execution_count": 14,
      "outputs": []
    },
    {
      "cell_type": "code",
      "source": [
        "TENSOR"
      ],
      "metadata": {
        "colab": {
          "base_uri": "https://localhost:8080/"
        },
        "id": "SJ2MSdj7zqLW",
        "outputId": "05280377-4ead-4655-b8ec-c80f60a7f412"
      },
      "execution_count": 15,
      "outputs": [
        {
          "output_type": "execute_result",
          "data": {
            "text/plain": [
              "tensor([[[1, 2, 4],\n",
              "         [2, 3, 4],\n",
              "         [4, 5, 6]]])"
            ]
          },
          "metadata": {},
          "execution_count": 15
        }
      ]
    },
    {
      "cell_type": "code",
      "source": [
        "TENSOR.ndim"
      ],
      "metadata": {
        "colab": {
          "base_uri": "https://localhost:8080/"
        },
        "id": "LUFlW-blztOy",
        "outputId": "98d2f2e2-1a37-4ee8-8a31-88994db4685a"
      },
      "execution_count": 16,
      "outputs": [
        {
          "output_type": "execute_result",
          "data": {
            "text/plain": [
              "3"
            ]
          },
          "metadata": {},
          "execution_count": 16
        }
      ]
    },
    {
      "cell_type": "code",
      "source": [
        "TENSOR.shape"
      ],
      "metadata": {
        "colab": {
          "base_uri": "https://localhost:8080/"
        },
        "id": "NOi9qPb9zvmF",
        "outputId": "dd21f2f4-24b9-4513-ea87-75ad76868c54"
      },
      "execution_count": 17,
      "outputs": [
        {
          "output_type": "execute_result",
          "data": {
            "text/plain": [
              "torch.Size([1, 3, 3])"
            ]
          },
          "metadata": {},
          "execution_count": 17
        }
      ]
    },
    {
      "cell_type": "code",
      "source": [
        "TENSOR[0]"
      ],
      "metadata": {
        "colab": {
          "base_uri": "https://localhost:8080/"
        },
        "id": "6eeTCFwtzyJi",
        "outputId": "2e6278b1-fed7-4586-9b96-fb8da5daf8de"
      },
      "execution_count": 18,
      "outputs": [
        {
          "output_type": "execute_result",
          "data": {
            "text/plain": [
              "tensor([[1, 2, 4],\n",
              "        [2, 3, 4],\n",
              "        [4, 5, 6]])"
            ]
          },
          "metadata": {},
          "execution_count": 18
        }
      ]
    },
    {
      "cell_type": "code",
      "source": [
        "TENSOR = torch.tensor([[[6,7,8],\n",
        "                        [5,6,7],\n",
        "                        [4,5,6]]])\n",
        "TENSOR"
      ],
      "metadata": {
        "colab": {
          "base_uri": "https://localhost:8080/"
        },
        "id": "ET2lqt--z0gu",
        "outputId": "f3674ae2-f777-4a68-bfab-445c51a8db0f"
      },
      "execution_count": 19,
      "outputs": [
        {
          "output_type": "execute_result",
          "data": {
            "text/plain": [
              "tensor([[[6, 7, 8],\n",
              "         [5, 6, 7],\n",
              "         [4, 5, 6]]])"
            ]
          },
          "metadata": {},
          "execution_count": 19
        }
      ]
    },
    {
      "cell_type": "code",
      "source": [
        "TENSOR.ndim"
      ],
      "metadata": {
        "colab": {
          "base_uri": "https://localhost:8080/"
        },
        "id": "CsuKrOcMz27a",
        "outputId": "b53e9c90-93fe-4019-f463-6d6b89507a27"
      },
      "execution_count": 20,
      "outputs": [
        {
          "output_type": "execute_result",
          "data": {
            "text/plain": [
              "3"
            ]
          },
          "metadata": {},
          "execution_count": 20
        }
      ]
    },
    {
      "cell_type": "code",
      "source": [
        "TENSOR.shape"
      ],
      "metadata": {
        "colab": {
          "base_uri": "https://localhost:8080/"
        },
        "id": "B0LmokBZ_UwJ",
        "outputId": "127ce95a-e552-4638-fd3b-3b1b8b68b077"
      },
      "execution_count": 21,
      "outputs": [
        {
          "output_type": "execute_result",
          "data": {
            "text/plain": [
              "torch.Size([1, 3, 3])"
            ]
          },
          "metadata": {},
          "execution_count": 21
        }
      ]
    },
    {
      "cell_type": "code",
      "source": [
        "TENSOR[0]"
      ],
      "metadata": {
        "colab": {
          "base_uri": "https://localhost:8080/"
        },
        "id": "xUU7BC75_YAa",
        "outputId": "810245b0-98d0-4d96-ca41-a461d87dd683"
      },
      "execution_count": 22,
      "outputs": [
        {
          "output_type": "execute_result",
          "data": {
            "text/plain": [
              "tensor([[6, 7, 8],\n",
              "        [5, 6, 7],\n",
              "        [4, 5, 6]])"
            ]
          },
          "metadata": {},
          "execution_count": 22
        }
      ]
    },
    {
      "cell_type": "code",
      "source": [
        "#create a random tensor of size (3,4)\n",
        "random_tensor = torch.rand(10,10,10)\n",
        "random_tensor"
      ],
      "metadata": {
        "colab": {
          "base_uri": "https://localhost:8080/"
        },
        "id": "gTsFrcdZ_coi",
        "outputId": "0745dfe4-c338-46db-e196-ed79e5ee9e87"
      },
      "execution_count": 23,
      "outputs": [
        {
          "output_type": "execute_result",
          "data": {
            "text/plain": [
              "tensor([[[0.3370, 0.7600, 0.2792, 0.9081, 0.0522, 0.0245, 0.3914, 0.5066,\n",
              "          0.7308, 0.2967],\n",
              "         [0.6687, 0.5039, 0.2939, 0.5409, 0.0275, 0.0615, 0.0472, 0.8147,\n",
              "          0.8043, 0.8135],\n",
              "         [0.8542, 0.6446, 0.6135, 0.6707, 0.3892, 0.8496, 0.0911, 0.9563,\n",
              "          0.0211, 0.4423],\n",
              "         [0.8938, 0.0538, 0.2690, 0.4919, 0.4933, 0.5879, 0.3374, 0.7893,\n",
              "          0.2986, 0.3308],\n",
              "         [0.7462, 0.2572, 0.7426, 0.5952, 0.4130, 0.3130, 0.0802, 0.0499,\n",
              "          0.1747, 0.4030],\n",
              "         [0.6322, 0.3224, 0.6212, 0.0691, 0.2253, 0.3566, 0.1806, 0.7505,\n",
              "          0.6745, 0.6805],\n",
              "         [0.8239, 0.8753, 0.1310, 0.8521, 0.6515, 0.7606, 0.0999, 0.4796,\n",
              "          0.0683, 0.8222],\n",
              "         [0.8751, 0.1757, 0.4550, 0.1096, 0.4501, 0.6786, 0.4091, 0.8974,\n",
              "          0.7571, 0.8096],\n",
              "         [0.6615, 0.5323, 0.8216, 0.2551, 0.9771, 0.2166, 0.3295, 0.4107,\n",
              "          0.9396, 0.9083],\n",
              "         [0.1047, 0.8083, 0.8805, 0.3062, 0.1953, 0.9181, 0.4488, 0.8499,\n",
              "          0.9865, 0.5996]],\n",
              "\n",
              "        [[0.4934, 0.1160, 0.9020, 0.6914, 0.2530, 0.6058, 0.4851, 0.2654,\n",
              "          0.4894, 0.1122],\n",
              "         [0.1940, 0.1992, 0.0164, 0.6154, 0.6472, 0.8408, 0.2783, 0.0322,\n",
              "          0.2873, 0.6262],\n",
              "         [0.5354, 0.5463, 0.6511, 0.6482, 0.4683, 0.3744, 0.7034, 0.2638,\n",
              "          0.7304, 0.8188],\n",
              "         [0.5455, 0.9189, 0.3209, 0.3770, 0.5718, 0.5499, 0.6092, 0.1231,\n",
              "          0.7886, 0.0252],\n",
              "         [0.6009, 0.7045, 0.1348, 0.6716, 0.3095, 0.5631, 0.9530, 0.4026,\n",
              "          0.2583, 0.8436],\n",
              "         [0.8944, 0.8525, 0.0054, 0.7374, 0.1177, 0.6715, 0.1992, 0.3293,\n",
              "          0.2104, 0.2869],\n",
              "         [0.6904, 0.3903, 0.0025, 0.5861, 0.0842, 0.6176, 0.3509, 0.8329,\n",
              "          0.1133, 0.9460],\n",
              "         [0.8478, 0.6838, 0.8568, 0.2233, 0.6456, 0.1742, 0.6860, 0.0196,\n",
              "          0.0652, 0.5815],\n",
              "         [0.5356, 0.0046, 0.9803, 0.4271, 0.3918, 0.8362, 0.5391, 0.5511,\n",
              "          0.6226, 0.1852],\n",
              "         [0.6410, 0.1106, 0.9587, 0.3443, 0.2299, 0.3656, 0.3416, 0.5465,\n",
              "          0.3708, 0.2916]],\n",
              "\n",
              "        [[0.5885, 0.0260, 0.8208, 0.9287, 0.9223, 0.7659, 0.1552, 0.5403,\n",
              "          0.7203, 0.6297],\n",
              "         [0.1545, 0.6669, 0.7957, 0.5243, 0.7071, 0.0543, 0.5765, 0.4882,\n",
              "          0.2891, 0.8958],\n",
              "         [0.5053, 0.1799, 0.7095, 0.5228, 0.0985, 0.3012, 0.6712, 0.1887,\n",
              "          0.8151, 0.4191],\n",
              "         [0.9095, 0.3506, 0.0227, 0.5557, 0.8422, 0.7212, 0.0208, 0.3338,\n",
              "          0.2079, 0.0338],\n",
              "         [0.9758, 0.9118, 0.4434, 0.3443, 0.7902, 0.3596, 0.4865, 0.7432,\n",
              "          0.7564, 0.5947],\n",
              "         [0.1204, 0.6492, 0.5396, 0.1832, 0.1394, 0.3765, 0.6121, 0.6502,\n",
              "          0.9044, 0.0883],\n",
              "         [0.8132, 0.6418, 0.2263, 0.4996, 0.6599, 0.6403, 0.7021, 0.6025,\n",
              "          0.2277, 0.9060],\n",
              "         [0.3643, 0.7142, 0.1858, 0.5599, 0.7775, 0.6233, 0.6360, 0.1289,\n",
              "          0.5300, 0.8936],\n",
              "         [0.5201, 0.8987, 0.6197, 0.5611, 0.3283, 0.4232, 0.7776, 0.6879,\n",
              "          0.6865, 0.1117],\n",
              "         [0.8694, 0.6007, 0.3508, 0.5987, 0.8865, 0.4586, 0.1850, 0.1991,\n",
              "          0.0962, 0.1439]],\n",
              "\n",
              "        [[0.8341, 0.7880, 0.0104, 0.8403, 0.3712, 0.1635, 0.4731, 0.3498,\n",
              "          0.3755, 0.0471],\n",
              "         [0.6580, 0.5093, 0.6653, 0.8509, 0.0865, 0.6172, 0.9162, 0.1236,\n",
              "          0.0519, 0.1610],\n",
              "         [0.3421, 0.9625, 0.9325, 0.7119, 0.6093, 0.8944, 0.5625, 0.9725,\n",
              "          0.3098, 0.6659],\n",
              "         [0.0834, 0.6681, 0.4299, 0.9580, 0.7004, 0.4808, 0.2213, 0.3817,\n",
              "          0.0990, 0.8657],\n",
              "         [0.9844, 0.5813, 0.1990, 0.2767, 0.6998, 0.7862, 0.9960, 0.2644,\n",
              "          0.1502, 0.0675],\n",
              "         [0.9736, 0.3819, 0.4386, 0.1393, 0.0101, 0.2053, 0.3873, 0.3853,\n",
              "          0.9776, 0.8371],\n",
              "         [0.9233, 0.3527, 0.7650, 0.6808, 0.3451, 0.7254, 0.5473, 0.4947,\n",
              "          0.0732, 0.8872],\n",
              "         [0.5605, 0.8703, 0.8744, 0.3481, 0.4289, 0.1999, 0.9215, 0.0167,\n",
              "          0.2050, 0.9476],\n",
              "         [0.7056, 0.9032, 0.8324, 0.1018, 0.8733, 0.0484, 0.3538, 0.8994,\n",
              "          0.1239, 0.4535],\n",
              "         [0.3726, 0.1096, 0.5602, 0.7180, 0.9623, 0.6816, 0.9887, 0.6477,\n",
              "          0.1002, 0.7009]],\n",
              "\n",
              "        [[0.7931, 0.4322, 0.9455, 0.1240, 0.5149, 0.7704, 0.2293, 0.6222,\n",
              "          0.9980, 0.0829],\n",
              "         [0.4590, 0.6554, 0.8344, 0.7995, 0.1293, 0.8399, 0.8690, 0.6007,\n",
              "          0.3527, 0.4703],\n",
              "         [0.3420, 0.8470, 0.3678, 0.7162, 0.5358, 0.5642, 0.5856, 0.9734,\n",
              "          0.2918, 0.1870],\n",
              "         [0.8551, 0.0704, 0.6996, 0.5983, 0.0030, 0.0620, 0.2912, 0.7721,\n",
              "          0.0185, 0.5970],\n",
              "         [0.8173, 0.0728, 0.0625, 0.1238, 0.7722, 0.1426, 0.7689, 0.4510,\n",
              "          0.2222, 0.9818],\n",
              "         [0.2896, 0.9580, 0.8387, 0.1269, 0.6550, 0.3734, 0.2189, 0.6697,\n",
              "          0.6847, 0.8724],\n",
              "         [0.4747, 0.2027, 0.8705, 0.1438, 0.6298, 0.8071, 0.5151, 0.3376,\n",
              "          0.3480, 0.3780],\n",
              "         [0.1790, 0.6502, 0.6618, 0.2122, 0.3176, 0.3499, 0.9691, 0.4364,\n",
              "          0.3179, 0.4790],\n",
              "         [0.7694, 0.9190, 0.8731, 0.1521, 0.1019, 0.8494, 0.6011, 0.5374,\n",
              "          0.4899, 0.6827],\n",
              "         [0.2444, 0.2155, 0.8550, 0.6632, 0.1347, 0.7315, 0.4306, 0.8267,\n",
              "          0.4005, 0.0404]],\n",
              "\n",
              "        [[0.6937, 0.5585, 0.6882, 0.8336, 0.4881, 0.9243, 0.6124, 0.6293,\n",
              "          0.0768, 0.0486],\n",
              "         [0.7087, 0.8675, 0.8618, 0.9098, 0.5404, 0.1098, 0.5819, 0.8543,\n",
              "          0.8185, 0.5920],\n",
              "         [0.9031, 0.9938, 0.8423, 0.8119, 0.7383, 0.7281, 0.6978, 0.6251,\n",
              "          0.7290, 0.3289],\n",
              "         [0.3614, 0.1061, 0.6115, 0.0530, 0.5380, 0.8401, 0.5960, 0.7280,\n",
              "          0.0061, 0.1420],\n",
              "         [0.3147, 0.2348, 0.5206, 0.6618, 0.6525, 0.6065, 0.7692, 0.7895,\n",
              "          0.8090, 0.8350],\n",
              "         [0.2916, 0.6433, 0.0796, 0.6396, 0.8324, 0.2610, 0.2950, 0.3148,\n",
              "          0.8597, 0.4438],\n",
              "         [0.2013, 0.9256, 0.2352, 0.4993, 0.8028, 0.1298, 0.0629, 0.2294,\n",
              "          0.3629, 0.6356],\n",
              "         [0.0820, 0.0893, 0.6858, 0.1214, 0.5389, 0.3292, 0.6102, 0.1624,\n",
              "          0.2051, 0.1395],\n",
              "         [0.4346, 0.7743, 0.7258, 0.8784, 0.1061, 0.4001, 0.4798, 0.5954,\n",
              "          0.9524, 0.2282],\n",
              "         [0.7385, 0.9872, 0.6323, 0.4589, 0.2950, 0.0424, 0.3846, 0.2912,\n",
              "          0.3107, 0.7384]],\n",
              "\n",
              "        [[0.7486, 0.5603, 0.5676, 0.5021, 0.8126, 0.7101, 0.2828, 0.4037,\n",
              "          0.5885, 0.8982],\n",
              "         [0.3171, 0.5618, 0.7938, 0.2465, 0.0591, 0.6393, 0.8538, 0.0412,\n",
              "          0.6102, 0.0366],\n",
              "         [0.8334, 0.6864, 0.5375, 0.6294, 0.0482, 0.3678, 0.1341, 0.3303,\n",
              "          0.3717, 0.7835],\n",
              "         [0.0201, 0.9016, 0.7188, 0.4481, 0.5924, 0.6367, 0.1348, 0.4013,\n",
              "          0.2468, 0.4802],\n",
              "         [0.2120, 0.5901, 0.5482, 0.3879, 0.2885, 0.1993, 0.5221, 0.4910,\n",
              "          0.7591, 0.7357],\n",
              "         [0.6458, 0.4958, 0.2831, 0.1833, 0.7099, 0.6646, 0.8234, 0.6799,\n",
              "          0.5885, 0.7837],\n",
              "         [0.2954, 0.0747, 0.8213, 0.0442, 0.0512, 0.1755, 0.3824, 0.6464,\n",
              "          0.4914, 0.5445],\n",
              "         [0.4895, 0.4740, 0.9157, 0.9777, 0.7732, 0.9752, 0.4149, 0.8168,\n",
              "          0.8925, 0.8774],\n",
              "         [0.8430, 0.9210, 0.7303, 0.0532, 0.9580, 0.2999, 0.8579, 0.3936,\n",
              "          0.3789, 0.7793],\n",
              "         [0.5449, 0.7861, 0.8910, 0.2106, 0.0734, 0.8094, 0.9045, 0.8659,\n",
              "          0.1517, 0.2375]],\n",
              "\n",
              "        [[0.1579, 0.3690, 0.7270, 0.9560, 0.1837, 0.0449, 0.3399, 0.0030,\n",
              "          0.5252, 0.8866],\n",
              "         [0.1992, 0.9758, 0.0073, 0.4704, 0.2373, 0.0938, 0.7681, 0.9470,\n",
              "          0.0344, 0.4593],\n",
              "         [0.8816, 0.3073, 0.5957, 0.9132, 0.1539, 0.7796, 0.2449, 0.7804,\n",
              "          0.5883, 0.0865],\n",
              "         [0.5355, 0.9944, 0.6006, 0.0109, 0.9920, 0.7162, 0.4366, 0.0310,\n",
              "          0.9304, 0.9800],\n",
              "         [0.8818, 0.2896, 0.4949, 0.3868, 0.5537, 0.2275, 0.0431, 0.9008,\n",
              "          0.1668, 0.9982],\n",
              "         [0.1967, 0.4514, 0.9752, 0.6737, 0.1929, 0.9219, 0.3942, 0.9534,\n",
              "          0.9318, 0.5312],\n",
              "         [0.2485, 0.9566, 0.8377, 0.8854, 0.7886, 0.9049, 0.5776, 0.0096,\n",
              "          0.6591, 0.6021],\n",
              "         [0.7409, 0.5970, 0.6863, 0.5375, 0.3474, 0.8735, 0.9426, 0.3183,\n",
              "          0.0805, 0.4143],\n",
              "         [0.9520, 0.3995, 0.5834, 0.9350, 0.6732, 0.3431, 0.0284, 0.6280,\n",
              "          0.0966, 0.2600],\n",
              "         [0.0425, 0.6489, 0.2914, 0.9535, 0.8409, 0.2780, 0.3887, 0.2854,\n",
              "          0.8061, 0.6690]],\n",
              "\n",
              "        [[0.7703, 0.6274, 0.5630, 0.2217, 0.9222, 0.9961, 0.6633, 0.6246,\n",
              "          0.6640, 0.4877],\n",
              "         [0.2021, 0.0252, 0.6796, 0.8493, 0.9579, 0.2272, 0.3733, 0.8638,\n",
              "          0.7570, 0.2688],\n",
              "         [0.8874, 0.6928, 0.4516, 0.4021, 0.7898, 0.6986, 0.3571, 0.7407,\n",
              "          0.6473, 0.4450],\n",
              "         [0.8888, 0.0737, 0.7422, 0.7294, 0.8020, 0.1691, 0.7095, 0.5160,\n",
              "          0.0630, 0.8211],\n",
              "         [0.2009, 0.8399, 0.7358, 0.9343, 0.6963, 0.9908, 0.1197, 0.9865,\n",
              "          0.9152, 0.7117],\n",
              "         [0.4463, 0.1373, 0.6666, 0.1027, 0.3834, 0.3047, 0.9366, 0.6844,\n",
              "          0.2341, 0.7510],\n",
              "         [0.6499, 0.4762, 0.6615, 0.5519, 0.4622, 0.0888, 0.5749, 0.8465,\n",
              "          0.0523, 0.1208],\n",
              "         [0.1024, 0.7793, 0.7929, 0.0935, 0.5713, 0.9394, 0.6577, 0.7950,\n",
              "          0.7669, 0.3382],\n",
              "         [0.4900, 0.0109, 0.5110, 0.7249, 0.4915, 0.3071, 0.8249, 0.6731,\n",
              "          0.1802, 0.3115],\n",
              "         [0.0369, 0.2368, 0.1965, 0.1141, 0.1199, 0.8381, 0.3629, 0.4014,\n",
              "          0.0247, 0.1659]],\n",
              "\n",
              "        [[0.9784, 0.0216, 0.8895, 0.8552, 0.0199, 0.2288, 0.6637, 0.2020,\n",
              "          0.1265, 0.1120],\n",
              "         [0.6558, 0.2326, 0.4864, 0.8875, 0.0798, 0.4287, 0.1161, 0.1624,\n",
              "          0.6887, 0.2820],\n",
              "         [0.8511, 0.1532, 0.1716, 0.8057, 0.6424, 0.6717, 0.4740, 0.8845,\n",
              "          0.1196, 0.2145],\n",
              "         [0.1911, 0.8441, 0.4206, 0.7865, 0.5620, 0.5237, 0.1100, 0.1825,\n",
              "          0.4636, 0.6246],\n",
              "         [0.9283, 0.6814, 0.8141, 0.8119, 0.9266, 0.0751, 0.8710, 0.1468,\n",
              "          0.0691, 0.3446],\n",
              "         [0.1998, 0.6143, 0.4113, 0.1558, 0.3371, 0.8365, 0.4784, 0.4381,\n",
              "          0.8079, 0.9893],\n",
              "         [0.7185, 0.6364, 0.9040, 0.8622, 0.7987, 0.1658, 0.5707, 0.2589,\n",
              "          0.5755, 0.4846],\n",
              "         [0.5605, 0.2708, 0.5621, 0.7153, 0.8219, 0.2499, 0.7194, 0.9749,\n",
              "          0.8579, 0.3491],\n",
              "         [0.4906, 0.2095, 0.7387, 0.1484, 0.9944, 0.1624, 0.9746, 0.6383,\n",
              "          0.8256, 0.4257],\n",
              "         [0.8171, 0.7354, 0.2729, 0.1221, 0.1402, 0.1540, 0.9398, 0.3747,\n",
              "          0.4510, 0.4657]]])"
            ]
          },
          "metadata": {},
          "execution_count": 23
        }
      ]
    },
    {
      "cell_type": "code",
      "source": [
        "random_tensor.ndim"
      ],
      "metadata": {
        "colab": {
          "base_uri": "https://localhost:8080/"
        },
        "id": "-RxQZRQXDZT3",
        "outputId": "10355788-f95a-49df-c65d-79e6df5d2f15"
      },
      "execution_count": 24,
      "outputs": [
        {
          "output_type": "execute_result",
          "data": {
            "text/plain": [
              "3"
            ]
          },
          "metadata": {},
          "execution_count": 24
        }
      ]
    },
    {
      "cell_type": "code",
      "source": [
        "#create a random tensor with similar shape to an image tensor\n",
        "random_image_size_tensor = torch.rand(size=(3,224,224))#height,width,color channel\n",
        "random_image_size_tensor.shape, random_image_size_tensor.ndim"
      ],
      "metadata": {
        "colab": {
          "base_uri": "https://localhost:8080/"
        },
        "id": "2lE6FB17DpMe",
        "outputId": "63b5e0e1-e5b4-4389-a2a6-a40804d703bf"
      },
      "execution_count": 25,
      "outputs": [
        {
          "output_type": "execute_result",
          "data": {
            "text/plain": [
              "(torch.Size([3, 224, 224]), 3)"
            ]
          },
          "metadata": {},
          "execution_count": 25
        }
      ]
    },
    {
      "cell_type": "code",
      "source": [
        "torch.rand(3,3)"
      ],
      "metadata": {
        "colab": {
          "base_uri": "https://localhost:8080/"
        },
        "id": "RcRkAqzqHZIe",
        "outputId": "a8c274e8-12e9-4150-e8c7-a54aca856b59"
      },
      "execution_count": 26,
      "outputs": [
        {
          "output_type": "execute_result",
          "data": {
            "text/plain": [
              "tensor([[0.1791, 0.2634, 0.1611],\n",
              "        [0.2643, 0.3949, 0.7721],\n",
              "        [0.1823, 0.2467, 0.9315]])"
            ]
          },
          "metadata": {},
          "execution_count": 26
        }
      ]
    },
    {
      "cell_type": "code",
      "source": [
        "#zeros and ones\n",
        "zero = torch.zeros(size=(3,4))\n",
        "zero"
      ],
      "metadata": {
        "colab": {
          "base_uri": "https://localhost:8080/"
        },
        "id": "iSZZDYqWIVsz",
        "outputId": "7334b0e7-77a9-4bf6-ae1d-222ee04fb66f"
      },
      "execution_count": 27,
      "outputs": [
        {
          "output_type": "execute_result",
          "data": {
            "text/plain": [
              "tensor([[0., 0., 0., 0.],\n",
              "        [0., 0., 0., 0.],\n",
              "        [0., 0., 0., 0.]])"
            ]
          },
          "metadata": {},
          "execution_count": 27
        }
      ]
    },
    {
      "cell_type": "code",
      "source": [
        "#create a tensor of all ones\n",
        "ones = torch.ones(size=(3,4))\n",
        "ones"
      ],
      "metadata": {
        "colab": {
          "base_uri": "https://localhost:8080/"
        },
        "id": "uZNjgqG0IrqQ",
        "outputId": "469401a9-eeb2-4bde-e90d-d6ea28d9ae0d"
      },
      "execution_count": 28,
      "outputs": [
        {
          "output_type": "execute_result",
          "data": {
            "text/plain": [
              "tensor([[1., 1., 1., 1.],\n",
              "        [1., 1., 1., 1.],\n",
              "        [1., 1., 1., 1.]])"
            ]
          },
          "metadata": {},
          "execution_count": 28
        }
      ]
    },
    {
      "cell_type": "code",
      "source": [
        "#use torch.range()\n",
        "one_to_ten = torch.arange(1,11)\n",
        "one_to_ten"
      ],
      "metadata": {
        "colab": {
          "base_uri": "https://localhost:8080/"
        },
        "id": "pbHnsIQFI3N9",
        "outputId": "279ceacf-a107-4c26-c9e5-c5323291cabd"
      },
      "execution_count": 29,
      "outputs": [
        {
          "output_type": "execute_result",
          "data": {
            "text/plain": [
              "tensor([ 1,  2,  3,  4,  5,  6,  7,  8,  9, 10])"
            ]
          },
          "metadata": {},
          "execution_count": 29
        }
      ]
    },
    {
      "cell_type": "code",
      "source": [
        "one_to_ten = torch.arange(start=1, end=11, step=1)\n",
        "one_to_ten"
      ],
      "metadata": {
        "colab": {
          "base_uri": "https://localhost:8080/"
        },
        "id": "40k8u2g-JdPJ",
        "outputId": "537cd964-a624-4464-ceb9-c525802bba77"
      },
      "execution_count": 30,
      "outputs": [
        {
          "output_type": "execute_result",
          "data": {
            "text/plain": [
              "tensor([ 1,  2,  3,  4,  5,  6,  7,  8,  9, 10])"
            ]
          },
          "metadata": {},
          "execution_count": 30
        }
      ]
    },
    {
      "cell_type": "code",
      "source": [
        "one_to_ten.shape"
      ],
      "metadata": {
        "id": "q-tCvr99Jsld",
        "outputId": "398bc947-92bb-403d-8c48-105cbc3d5fa0",
        "colab": {
          "base_uri": "https://localhost:8080/"
        }
      },
      "execution_count": 31,
      "outputs": [
        {
          "output_type": "execute_result",
          "data": {
            "text/plain": [
              "torch.Size([10])"
            ]
          },
          "metadata": {},
          "execution_count": 31
        }
      ]
    },
    {
      "cell_type": "code",
      "source": [
        "ten_zero = torch.zeros_like(input=one_to_ten)\n",
        "ten_zero"
      ],
      "metadata": {
        "id": "c3cUuCvlJv0p",
        "outputId": "82fc995c-8349-4eb4-c2e4-4c3a5d812c1d",
        "colab": {
          "base_uri": "https://localhost:8080/"
        }
      },
      "execution_count": 32,
      "outputs": [
        {
          "output_type": "execute_result",
          "data": {
            "text/plain": [
              "tensor([0, 0, 0, 0, 0, 0, 0, 0, 0, 0])"
            ]
          },
          "metadata": {},
          "execution_count": 32
        }
      ]
    },
    {
      "cell_type": "markdown",
      "source": [
        "Tensor Datatype"
      ],
      "metadata": {
        "id": "EmxeZbwijYMV"
      }
    },
    {
      "cell_type": "code",
      "source": [
        "#float 32 tensor\n",
        "float_32_tensor = torch.tensor([3.0,6.0,9.0],\n",
        "                               dtype=None,\n",
        "                               device=None,\n",
        "                               requires_grad=False)\n",
        "float_32_tensor"
      ],
      "metadata": {
        "id": "SIUx2GVLjUdQ",
        "outputId": "1c62f5b1-2532-4414-add0-d7bfd842a3d9",
        "colab": {
          "base_uri": "https://localhost:8080/"
        }
      },
      "execution_count": 34,
      "outputs": [
        {
          "output_type": "execute_result",
          "data": {
            "text/plain": [
              "tensor([3., 6., 9.])"
            ]
          },
          "metadata": {},
          "execution_count": 34
        }
      ]
    },
    {
      "cell_type": "code",
      "source": [],
      "metadata": {
        "id": "Ek7hBuaZm4_z"
      },
      "execution_count": 32,
      "outputs": []
    }
  ]
}