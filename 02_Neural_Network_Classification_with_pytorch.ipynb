{
  "nbformat": 4,
  "nbformat_minor": 0,
  "metadata": {
    "colab": {
      "provenance": [],
      "gpuType": "T4",
      "include_colab_link": true
    },
    "kernelspec": {
      "name": "python3",
      "display_name": "Python 3"
    },
    "language_info": {
      "name": "python"
    },
    "accelerator": "GPU"
  },
  "cells": [
    {
      "cell_type": "markdown",
      "metadata": {
        "id": "view-in-github",
        "colab_type": "text"
      },
      "source": [
        "<a href=\"https://colab.research.google.com/github/shishiradk/pytorch-pratices/blob/main/02_Neural_Network_Classification_with_pytorch.ipynb\" target=\"_parent\"><img src=\"https://colab.research.google.com/assets/colab-badge.svg\" alt=\"Open In Colab\"/></a>"
      ]
    },
    {
      "cell_type": "markdown",
      "source": [
        "### Neural Network Classification with Pytorch"
      ],
      "metadata": {
        "id": "0Bm7rM2JiCMT"
      }
    },
    {
      "cell_type": "markdown",
      "source": [
        "## 1. Make classification Data and get it ready"
      ],
      "metadata": {
        "id": "FS-ap-IdZJkL"
      }
    },
    {
      "cell_type": "code",
      "execution_count": 159,
      "metadata": {
        "id": "bIsySMo2Y73c"
      },
      "outputs": [],
      "source": [
        "import sklearn"
      ]
    },
    {
      "cell_type": "code",
      "source": [
        "from sklearn.datasets import make_circles\n",
        "\n",
        "#make 1000 samples\n",
        "n_samples = 1000\n",
        "\n",
        "# create circles\n",
        "X,y = make_circles(n_samples,\n",
        "                   noise = 0.03,\n",
        "                   random_state =42)"
      ],
      "metadata": {
        "id": "9hxVDgxMZPkD"
      },
      "execution_count": 160,
      "outputs": []
    },
    {
      "cell_type": "code",
      "source": [
        "len(X),len(y)"
      ],
      "metadata": {
        "id": "ia75QNe0Z-9I",
        "colab": {
          "base_uri": "https://localhost:8080/"
        },
        "outputId": "ecaa98e0-1cb3-4094-a0b4-eaf0b96625e7"
      },
      "execution_count": 161,
      "outputs": [
        {
          "output_type": "execute_result",
          "data": {
            "text/plain": [
              "(1000, 1000)"
            ]
          },
          "metadata": {},
          "execution_count": 161
        }
      ]
    },
    {
      "cell_type": "code",
      "source": [
        "print(f\"First 5 samples of X:\\n {X[:5]}\")\n",
        "print(f\"First 5 ssamples of y:\\n {y[:5]}\")"
      ],
      "metadata": {
        "id": "oULk-SAXaC0-",
        "colab": {
          "base_uri": "https://localhost:8080/"
        },
        "outputId": "da672fd1-102c-4bf6-d53c-dd5e087fb30f"
      },
      "execution_count": 162,
      "outputs": [
        {
          "output_type": "stream",
          "name": "stdout",
          "text": [
            "First 5 samples of X:\n",
            " [[ 0.75424625  0.23148074]\n",
            " [-0.75615888  0.15325888]\n",
            " [-0.81539193  0.17328203]\n",
            " [-0.39373073  0.69288277]\n",
            " [ 0.44220765 -0.89672343]]\n",
            "First 5 ssamples of y:\n",
            " [1 1 1 1 0]\n"
          ]
        }
      ]
    },
    {
      "cell_type": "code",
      "source": [
        "# Make DataFrame of circle data\n",
        "import pandas as pd\n",
        "circles = pd.DataFrame({\"X1\": X[:,0],\n",
        "                        \"X2\": X[:,1],\n",
        "                        \"label\":y})\n",
        "circles.head(10)"
      ],
      "metadata": {
        "id": "AHq1ddqVaoAi",
        "outputId": "97498d04-a8d8-4849-c6da-56f83950af07",
        "colab": {
          "base_uri": "https://localhost:8080/",
          "height": 363
        }
      },
      "execution_count": 163,
      "outputs": [
        {
          "output_type": "execute_result",
          "data": {
            "text/plain": [
              "         X1        X2  label\n",
              "0  0.754246  0.231481      1\n",
              "1 -0.756159  0.153259      1\n",
              "2 -0.815392  0.173282      1\n",
              "3 -0.393731  0.692883      1\n",
              "4  0.442208 -0.896723      0\n",
              "5 -0.479646  0.676435      1\n",
              "6 -0.013648  0.803349      1\n",
              "7  0.771513  0.147760      1\n",
              "8 -0.169322 -0.793456      1\n",
              "9 -0.121486  1.021509      0"
            ],
            "text/html": [
              "\n",
              "  <div id=\"df-c59b9efe-e60c-41b7-ac43-67bb724d32bb\" class=\"colab-df-container\">\n",
              "    <div>\n",
              "<style scoped>\n",
              "    .dataframe tbody tr th:only-of-type {\n",
              "        vertical-align: middle;\n",
              "    }\n",
              "\n",
              "    .dataframe tbody tr th {\n",
              "        vertical-align: top;\n",
              "    }\n",
              "\n",
              "    .dataframe thead th {\n",
              "        text-align: right;\n",
              "    }\n",
              "</style>\n",
              "<table border=\"1\" class=\"dataframe\">\n",
              "  <thead>\n",
              "    <tr style=\"text-align: right;\">\n",
              "      <th></th>\n",
              "      <th>X1</th>\n",
              "      <th>X2</th>\n",
              "      <th>label</th>\n",
              "    </tr>\n",
              "  </thead>\n",
              "  <tbody>\n",
              "    <tr>\n",
              "      <th>0</th>\n",
              "      <td>0.754246</td>\n",
              "      <td>0.231481</td>\n",
              "      <td>1</td>\n",
              "    </tr>\n",
              "    <tr>\n",
              "      <th>1</th>\n",
              "      <td>-0.756159</td>\n",
              "      <td>0.153259</td>\n",
              "      <td>1</td>\n",
              "    </tr>\n",
              "    <tr>\n",
              "      <th>2</th>\n",
              "      <td>-0.815392</td>\n",
              "      <td>0.173282</td>\n",
              "      <td>1</td>\n",
              "    </tr>\n",
              "    <tr>\n",
              "      <th>3</th>\n",
              "      <td>-0.393731</td>\n",
              "      <td>0.692883</td>\n",
              "      <td>1</td>\n",
              "    </tr>\n",
              "    <tr>\n",
              "      <th>4</th>\n",
              "      <td>0.442208</td>\n",
              "      <td>-0.896723</td>\n",
              "      <td>0</td>\n",
              "    </tr>\n",
              "    <tr>\n",
              "      <th>5</th>\n",
              "      <td>-0.479646</td>\n",
              "      <td>0.676435</td>\n",
              "      <td>1</td>\n",
              "    </tr>\n",
              "    <tr>\n",
              "      <th>6</th>\n",
              "      <td>-0.013648</td>\n",
              "      <td>0.803349</td>\n",
              "      <td>1</td>\n",
              "    </tr>\n",
              "    <tr>\n",
              "      <th>7</th>\n",
              "      <td>0.771513</td>\n",
              "      <td>0.147760</td>\n",
              "      <td>1</td>\n",
              "    </tr>\n",
              "    <tr>\n",
              "      <th>8</th>\n",
              "      <td>-0.169322</td>\n",
              "      <td>-0.793456</td>\n",
              "      <td>1</td>\n",
              "    </tr>\n",
              "    <tr>\n",
              "      <th>9</th>\n",
              "      <td>-0.121486</td>\n",
              "      <td>1.021509</td>\n",
              "      <td>0</td>\n",
              "    </tr>\n",
              "  </tbody>\n",
              "</table>\n",
              "</div>\n",
              "    <div class=\"colab-df-buttons\">\n",
              "\n",
              "  <div class=\"colab-df-container\">\n",
              "    <button class=\"colab-df-convert\" onclick=\"convertToInteractive('df-c59b9efe-e60c-41b7-ac43-67bb724d32bb')\"\n",
              "            title=\"Convert this dataframe to an interactive table.\"\n",
              "            style=\"display:none;\">\n",
              "\n",
              "  <svg xmlns=\"http://www.w3.org/2000/svg\" height=\"24px\" viewBox=\"0 -960 960 960\">\n",
              "    <path d=\"M120-120v-720h720v720H120Zm60-500h600v-160H180v160Zm220 220h160v-160H400v160Zm0 220h160v-160H400v160ZM180-400h160v-160H180v160Zm440 0h160v-160H620v160ZM180-180h160v-160H180v160Zm440 0h160v-160H620v160Z\"/>\n",
              "  </svg>\n",
              "    </button>\n",
              "\n",
              "  <style>\n",
              "    .colab-df-container {\n",
              "      display:flex;\n",
              "      gap: 12px;\n",
              "    }\n",
              "\n",
              "    .colab-df-convert {\n",
              "      background-color: #E8F0FE;\n",
              "      border: none;\n",
              "      border-radius: 50%;\n",
              "      cursor: pointer;\n",
              "      display: none;\n",
              "      fill: #1967D2;\n",
              "      height: 32px;\n",
              "      padding: 0 0 0 0;\n",
              "      width: 32px;\n",
              "    }\n",
              "\n",
              "    .colab-df-convert:hover {\n",
              "      background-color: #E2EBFA;\n",
              "      box-shadow: 0px 1px 2px rgba(60, 64, 67, 0.3), 0px 1px 3px 1px rgba(60, 64, 67, 0.15);\n",
              "      fill: #174EA6;\n",
              "    }\n",
              "\n",
              "    .colab-df-buttons div {\n",
              "      margin-bottom: 4px;\n",
              "    }\n",
              "\n",
              "    [theme=dark] .colab-df-convert {\n",
              "      background-color: #3B4455;\n",
              "      fill: #D2E3FC;\n",
              "    }\n",
              "\n",
              "    [theme=dark] .colab-df-convert:hover {\n",
              "      background-color: #434B5C;\n",
              "      box-shadow: 0px 1px 3px 1px rgba(0, 0, 0, 0.15);\n",
              "      filter: drop-shadow(0px 1px 2px rgba(0, 0, 0, 0.3));\n",
              "      fill: #FFFFFF;\n",
              "    }\n",
              "  </style>\n",
              "\n",
              "    <script>\n",
              "      const buttonEl =\n",
              "        document.querySelector('#df-c59b9efe-e60c-41b7-ac43-67bb724d32bb button.colab-df-convert');\n",
              "      buttonEl.style.display =\n",
              "        google.colab.kernel.accessAllowed ? 'block' : 'none';\n",
              "\n",
              "      async function convertToInteractive(key) {\n",
              "        const element = document.querySelector('#df-c59b9efe-e60c-41b7-ac43-67bb724d32bb');\n",
              "        const dataTable =\n",
              "          await google.colab.kernel.invokeFunction('convertToInteractive',\n",
              "                                                    [key], {});\n",
              "        if (!dataTable) return;\n",
              "\n",
              "        const docLinkHtml = 'Like what you see? Visit the ' +\n",
              "          '<a target=\"_blank\" href=https://colab.research.google.com/notebooks/data_table.ipynb>data table notebook</a>'\n",
              "          + ' to learn more about interactive tables.';\n",
              "        element.innerHTML = '';\n",
              "        dataTable['output_type'] = 'display_data';\n",
              "        await google.colab.output.renderOutput(dataTable, element);\n",
              "        const docLink = document.createElement('div');\n",
              "        docLink.innerHTML = docLinkHtml;\n",
              "        element.appendChild(docLink);\n",
              "      }\n",
              "    </script>\n",
              "  </div>\n",
              "\n",
              "\n",
              "    <div id=\"df-c5888c0d-cdb9-4105-98f4-16280a757801\">\n",
              "      <button class=\"colab-df-quickchart\" onclick=\"quickchart('df-c5888c0d-cdb9-4105-98f4-16280a757801')\"\n",
              "                title=\"Suggest charts\"\n",
              "                style=\"display:none;\">\n",
              "\n",
              "<svg xmlns=\"http://www.w3.org/2000/svg\" height=\"24px\"viewBox=\"0 0 24 24\"\n",
              "     width=\"24px\">\n",
              "    <g>\n",
              "        <path d=\"M19 3H5c-1.1 0-2 .9-2 2v14c0 1.1.9 2 2 2h14c1.1 0 2-.9 2-2V5c0-1.1-.9-2-2-2zM9 17H7v-7h2v7zm4 0h-2V7h2v10zm4 0h-2v-4h2v4z\"/>\n",
              "    </g>\n",
              "</svg>\n",
              "      </button>\n",
              "\n",
              "<style>\n",
              "  .colab-df-quickchart {\n",
              "      --bg-color: #E8F0FE;\n",
              "      --fill-color: #1967D2;\n",
              "      --hover-bg-color: #E2EBFA;\n",
              "      --hover-fill-color: #174EA6;\n",
              "      --disabled-fill-color: #AAA;\n",
              "      --disabled-bg-color: #DDD;\n",
              "  }\n",
              "\n",
              "  [theme=dark] .colab-df-quickchart {\n",
              "      --bg-color: #3B4455;\n",
              "      --fill-color: #D2E3FC;\n",
              "      --hover-bg-color: #434B5C;\n",
              "      --hover-fill-color: #FFFFFF;\n",
              "      --disabled-bg-color: #3B4455;\n",
              "      --disabled-fill-color: #666;\n",
              "  }\n",
              "\n",
              "  .colab-df-quickchart {\n",
              "    background-color: var(--bg-color);\n",
              "    border: none;\n",
              "    border-radius: 50%;\n",
              "    cursor: pointer;\n",
              "    display: none;\n",
              "    fill: var(--fill-color);\n",
              "    height: 32px;\n",
              "    padding: 0;\n",
              "    width: 32px;\n",
              "  }\n",
              "\n",
              "  .colab-df-quickchart:hover {\n",
              "    background-color: var(--hover-bg-color);\n",
              "    box-shadow: 0 1px 2px rgba(60, 64, 67, 0.3), 0 1px 3px 1px rgba(60, 64, 67, 0.15);\n",
              "    fill: var(--button-hover-fill-color);\n",
              "  }\n",
              "\n",
              "  .colab-df-quickchart-complete:disabled,\n",
              "  .colab-df-quickchart-complete:disabled:hover {\n",
              "    background-color: var(--disabled-bg-color);\n",
              "    fill: var(--disabled-fill-color);\n",
              "    box-shadow: none;\n",
              "  }\n",
              "\n",
              "  .colab-df-spinner {\n",
              "    border: 2px solid var(--fill-color);\n",
              "    border-color: transparent;\n",
              "    border-bottom-color: var(--fill-color);\n",
              "    animation:\n",
              "      spin 1s steps(1) infinite;\n",
              "  }\n",
              "\n",
              "  @keyframes spin {\n",
              "    0% {\n",
              "      border-color: transparent;\n",
              "      border-bottom-color: var(--fill-color);\n",
              "      border-left-color: var(--fill-color);\n",
              "    }\n",
              "    20% {\n",
              "      border-color: transparent;\n",
              "      border-left-color: var(--fill-color);\n",
              "      border-top-color: var(--fill-color);\n",
              "    }\n",
              "    30% {\n",
              "      border-color: transparent;\n",
              "      border-left-color: var(--fill-color);\n",
              "      border-top-color: var(--fill-color);\n",
              "      border-right-color: var(--fill-color);\n",
              "    }\n",
              "    40% {\n",
              "      border-color: transparent;\n",
              "      border-right-color: var(--fill-color);\n",
              "      border-top-color: var(--fill-color);\n",
              "    }\n",
              "    60% {\n",
              "      border-color: transparent;\n",
              "      border-right-color: var(--fill-color);\n",
              "    }\n",
              "    80% {\n",
              "      border-color: transparent;\n",
              "      border-right-color: var(--fill-color);\n",
              "      border-bottom-color: var(--fill-color);\n",
              "    }\n",
              "    90% {\n",
              "      border-color: transparent;\n",
              "      border-bottom-color: var(--fill-color);\n",
              "    }\n",
              "  }\n",
              "</style>\n",
              "\n",
              "      <script>\n",
              "        async function quickchart(key) {\n",
              "          const quickchartButtonEl =\n",
              "            document.querySelector('#' + key + ' button');\n",
              "          quickchartButtonEl.disabled = true;  // To prevent multiple clicks.\n",
              "          quickchartButtonEl.classList.add('colab-df-spinner');\n",
              "          try {\n",
              "            const charts = await google.colab.kernel.invokeFunction(\n",
              "                'suggestCharts', [key], {});\n",
              "          } catch (error) {\n",
              "            console.error('Error during call to suggestCharts:', error);\n",
              "          }\n",
              "          quickchartButtonEl.classList.remove('colab-df-spinner');\n",
              "          quickchartButtonEl.classList.add('colab-df-quickchart-complete');\n",
              "        }\n",
              "        (() => {\n",
              "          let quickchartButtonEl =\n",
              "            document.querySelector('#df-c5888c0d-cdb9-4105-98f4-16280a757801 button');\n",
              "          quickchartButtonEl.style.display =\n",
              "            google.colab.kernel.accessAllowed ? 'block' : 'none';\n",
              "        })();\n",
              "      </script>\n",
              "    </div>\n",
              "\n",
              "    </div>\n",
              "  </div>\n"
            ],
            "application/vnd.google.colaboratory.intrinsic+json": {
              "type": "dataframe",
              "variable_name": "circles",
              "summary": "{\n  \"name\": \"circles\",\n  \"rows\": 1000,\n  \"fields\": [\n    {\n      \"column\": \"X1\",\n      \"properties\": {\n        \"dtype\": \"number\",\n        \"std\": 0.6398365674574611,\n        \"min\": -1.0595024599098635,\n        \"max\": 1.0337117525463373,\n        \"num_unique_values\": 1000,\n        \"samples\": [\n          -0.3751930206933384,\n          0.015380346701456493,\n          -0.7027835978832848\n        ],\n        \"semantic_type\": \"\",\n        \"description\": \"\"\n      }\n    },\n    {\n      \"column\": \"X2\",\n      \"properties\": {\n        \"dtype\": \"number\",\n        \"std\": 0.6411559581015379,\n        \"min\": -1.0677683182718436,\n        \"max\": 1.0360036756154805,\n        \"num_unique_values\": 1000,\n        \"samples\": [\n          0.6826597225888621,\n          0.9600260220697324,\n          -0.3147169925147762\n        ],\n        \"semantic_type\": \"\",\n        \"description\": \"\"\n      }\n    },\n    {\n      \"column\": \"label\",\n      \"properties\": {\n        \"dtype\": \"number\",\n        \"std\": 0,\n        \"min\": 0,\n        \"max\": 1,\n        \"num_unique_values\": 2,\n        \"samples\": [\n          0,\n          1\n        ],\n        \"semantic_type\": \"\",\n        \"description\": \"\"\n      }\n    }\n  ]\n}"
            }
          },
          "metadata": {},
          "execution_count": 163
        }
      ]
    },
    {
      "cell_type": "code",
      "source": [
        "# Visualize\n",
        "import matplotlib.pyplot as plt\n",
        "plt.scatter(x =X[:,0],\n",
        "            y=X[:,1],\n",
        "            c=y,\n",
        "            cmap=plt.cm.RdYlBu)"
      ],
      "metadata": {
        "id": "NnycgC2Xbnxk",
        "outputId": "903f6fab-7def-4ed5-cad4-e0dbae4c8e80",
        "colab": {
          "base_uri": "https://localhost:8080/",
          "height": 447
        }
      },
      "execution_count": 164,
      "outputs": [
        {
          "output_type": "execute_result",
          "data": {
            "text/plain": [
              "<matplotlib.collections.PathCollection at 0x7a651539b650>"
            ]
          },
          "metadata": {},
          "execution_count": 164
        },
        {
          "output_type": "display_data",
          "data": {
            "text/plain": [
              "<Figure size 640x480 with 1 Axes>"
            ],
            "image/png": "[encoded data removed]"
          },
          "metadata": {}
        }
      ]
    },
    {
      "cell_type": "markdown",
      "source": [
        "Note: The data we're working with is often referred to as a toy dataset that is small enough to experiment but still sizable enough to pratice the fundamentals"
      ],
      "metadata": {
        "id": "hgR3NmbFdYOo"
      }
    },
    {
      "cell_type": "markdown",
      "source": [
        "###1.1 Check input and output shapes"
      ],
      "metadata": {
        "id": "-JKxlIdlvRnT"
      }
    },
    {
      "cell_type": "code",
      "source": [
        "X.shape,y.shape"
      ],
      "metadata": {
        "id": "aR0s2AyFcvLX",
        "colab": {
          "base_uri": "https://localhost:8080/"
        },
        "outputId": "d287e18f-8dc1-40ed-88bf-3f1bcfa11f40"
      },
      "execution_count": 165,
      "outputs": [
        {
          "output_type": "execute_result",
          "data": {
            "text/plain": [
              "((1000, 2), (1000,))"
            ]
          },
          "metadata": {},
          "execution_count": 165
        }
      ]
    },
    {
      "cell_type": "code",
      "source": [
        "X"
      ],
      "metadata": {
        "colab": {
          "base_uri": "https://localhost:8080/"
        },
        "id": "BzdqUDNQvZkb",
        "outputId": "2ec00017-85a1-434b-9f47-b1939fc495e2"
      },
      "execution_count": 166,
      "outputs": [
        {
          "output_type": "execute_result",
          "data": {
            "text/plain": [
              "array([[ 0.75424625,  0.23148074],\n",
              "       [-0.75615888,  0.15325888],\n",
              "       [-0.81539193,  0.17328203],\n",
              "       ...,\n",
              "       [-0.13690036, -0.81001183],\n",
              "       [ 0.67036156, -0.76750154],\n",
              "       [ 0.28105665,  0.96382443]])"
            ]
          },
          "metadata": {},
          "execution_count": 166
        }
      ]
    },
    {
      "cell_type": "code",
      "source": [
        "# view the first example of feauture and labels\n",
        "X_sample = X[0]\n",
        "y_sample = y[0]\n",
        "\n",
        "print(f\"Values for one sample of X: {X_sample} and the same for y:\")\n",
        "print(f\"Shapes for one sample of X: {X_sample.shape} and the same for y: {y_sample.shape}\")"
      ],
      "metadata": {
        "colab": {
          "base_uri": "https://localhost:8080/"
        },
        "id": "KQcbRjsVvdW7",
        "outputId": "2989ddf4-39c2-4126-e292-55c98f545e0c"
      },
      "execution_count": 167,
      "outputs": [
        {
          "output_type": "stream",
          "name": "stdout",
          "text": [
            "Values for one sample of X: [0.75424625 0.23148074] and the same for y:\n",
            "Shapes for one sample of X: (2,) and the same for y: ()\n"
          ]
        }
      ]
    },
    {
      "cell_type": "markdown",
      "source": [
        "# 1.2 Turn data into tensor and create train and test splits"
      ],
      "metadata": {
        "id": "-ASccNW04CHH"
      }
    },
    {
      "cell_type": "code",
      "source": [
        "import torch\n",
        "torch.__version__"
      ],
      "metadata": {
        "colab": {
          "base_uri": "https://localhost:8080/",
          "height": 35
        },
        "id": "P8tkqr5t4Him",
        "outputId": "49007cae-e01e-47b1-a04b-718bbc5d5b7b"
      },
      "execution_count": 168,
      "outputs": [
        {
          "output_type": "execute_result",
          "data": {
            "text/plain": [
              "'2.8.0+cu126'"
            ],
            "application/vnd.google.colaboratory.intrinsic+json": {
              "type": "string"
            }
          },
          "metadata": {},
          "execution_count": 168
        }
      ]
    },
    {
      "cell_type": "code",
      "source": [
        "type(X), X.dtype"
      ],
      "metadata": {
        "colab": {
          "base_uri": "https://localhost:8080/"
        },
        "id": "SrJXimId4PF1",
        "outputId": "e31bbac0-fe83-47ee-c0f1-b4c29c048afe"
      },
      "execution_count": 169,
      "outputs": [
        {
          "output_type": "execute_result",
          "data": {
            "text/plain": [
              "(numpy.ndarray, dtype('float64'))"
            ]
          },
          "metadata": {},
          "execution_count": 169
        }
      ]
    },
    {
      "cell_type": "code",
      "source": [
        "# Turn data into tensor\n",
        "X = torch.from_numpy(X).type(torch.float)\n",
        "y = torch.from_numpy(y).type(torch.float)\n",
        "\n",
        "X[:5],  y[:5]"
      ],
      "metadata": {
        "colab": {
          "base_uri": "https://localhost:8080/"
        },
        "id": "kyqvVh313zOJ",
        "outputId": "3445c6d6-8762-4a9c-b8ce-834e46552ebb"
      },
      "execution_count": 170,
      "outputs": [
        {
          "output_type": "execute_result",
          "data": {
            "text/plain": [
              "(tensor([[ 0.7542,  0.2315],\n",
              "         [-0.7562,  0.1533],\n",
              "         [-0.8154,  0.1733],\n",
              "         [-0.3937,  0.6929],\n",
              "         [ 0.4422, -0.8967]]),\n",
              " tensor([1., 1., 1., 1., 0.]))"
            ]
          },
          "metadata": {},
          "execution_count": 170
        }
      ]
    },
    {
      "cell_type": "code",
      "source": [
        "# Split data into training and test data\n",
        "from sklearn.model_selection import train_test_split\n",
        "\n",
        "X_train, X_test , y_train, y_test = train_test_split(X,\n",
        "                                                     y,\n",
        "                                                     test_size= 0.2,  # 0.2 = 20% of data will be test & 80% will be train\n",
        "                                                     random_state=42)"
      ],
      "metadata": {
        "id": "OGT_husF4QVa"
      },
      "execution_count": 171,
      "outputs": []
    },
    {
      "cell_type": "code",
      "source": [
        "len(X_train) , len(X_test),len(y_train), len(y_test)"
      ],
      "metadata": {
        "colab": {
          "base_uri": "https://localhost:8080/"
        },
        "id": "h7pijXkU7TuB",
        "outputId": "b664cab4-835c-46dd-ae4f-cc08144be6af"
      },
      "execution_count": 172,
      "outputs": [
        {
          "output_type": "execute_result",
          "data": {
            "text/plain": [
              "(800, 200, 800, 200)"
            ]
          },
          "metadata": {},
          "execution_count": 172
        }
      ]
    },
    {
      "cell_type": "code",
      "source": [
        "n_samples"
      ],
      "metadata": {
        "colab": {
          "base_uri": "https://localhost:8080/"
        },
        "id": "PxiFKyKR771I",
        "outputId": "5f956135-4561-4ef3-e7a1-00c3f47d0c5f"
      },
      "execution_count": 173,
      "outputs": [
        {
          "output_type": "execute_result",
          "data": {
            "text/plain": [
              "1000"
            ]
          },
          "metadata": {},
          "execution_count": 173
        }
      ]
    },
    {
      "cell_type": "markdown",
      "source": [
        "##2. Building a model\n",
        "\n",
        "Lets build a model to classify our blue and red dots.\n",
        "\n",
        "To do we want to:\n",
        "1. Setup device agnostic code so code will run on an accelator(GPU) if there is one\n",
        "2. Construct a model (by subclassing `nn.Module`)\n",
        "3. Define a loss function and optimizer\n",
        "4. Create a traing and test loop\n",
        "\n"
      ],
      "metadata": {
        "id": "r_WAWFQFCl4g"
      }
    },
    {
      "cell_type": "code",
      "source": [
        "# Import Pytorch and nn\n",
        "import torch\n",
        "from torch import nn\n",
        "\n",
        "\n",
        "# Make device agnostic code\n",
        "device = \"cuda\" if torch.cuda.is_available() else \"cpu\"\n",
        "device"
      ],
      "metadata": {
        "colab": {
          "base_uri": "https://localhost:8080/",
          "height": 35
        },
        "id": "d9F4avYT8B6f",
        "outputId": "64076f71-cfcd-43e1-fb0b-ebce6fe3488a"
      },
      "execution_count": 174,
      "outputs": [
        {
          "output_type": "execute_result",
          "data": {
            "text/plain": [
              "'cuda'"
            ],
            "application/vnd.google.colaboratory.intrinsic+json": {
              "type": "string"
            }
          },
          "metadata": {},
          "execution_count": 174
        }
      ]
    },
    {
      "cell_type": "code",
      "source": [
        "X_train"
      ],
      "metadata": {
        "id": "dmGwgo9FENrY",
        "outputId": "53d297c6-e4cd-4e5d-98de-06dcf512ac91",
        "colab": {
          "base_uri": "https://localhost:8080/"
        }
      },
      "execution_count": 175,
      "outputs": [
        {
          "output_type": "execute_result",
          "data": {
            "text/plain": [
              "tensor([[ 0.6579, -0.4651],\n",
              "        [ 0.6319, -0.7347],\n",
              "        [-1.0086, -0.1240],\n",
              "        ...,\n",
              "        [ 0.0157, -1.0300],\n",
              "        [ 1.0110,  0.1680],\n",
              "        [ 0.5578, -0.5709]])"
            ]
          },
          "metadata": {},
          "execution_count": 175
        }
      ]
    },
    {
      "cell_type": "markdown",
      "source": [
        "Now we've setup device agnostic code, lets create a model that:\n",
        "\n",
        "1. Subclasses `nn.module` (almost all models in Pytorch subclass `nn.Module`)\n",
        "2. Create 2 `nn.Linear()` layers that are capable of handling the shapes  of our data\n",
        "3. Defnes a `forward()` method that outlines the forward pass (or forward computation) of the model\n",
        "4. Instatiate an instance of our model class and send it to the target `device`"
      ],
      "metadata": {
        "id": "2cx8tiinFIFE"
      }
    },
    {
      "cell_type": "code",
      "source": [
        "X_train.shape"
      ],
      "metadata": {
        "id": "UPFcnqV1RjW8",
        "outputId": "41bdfd52-6889-4000-fa9e-19893bfb5fa1",
        "colab": {
          "base_uri": "https://localhost:8080/"
        }
      },
      "execution_count": 176,
      "outputs": [
        {
          "output_type": "execute_result",
          "data": {
            "text/plain": [
              "torch.Size([800, 2])"
            ]
          },
          "metadata": {},
          "execution_count": 176
        }
      ]
    },
    {
      "cell_type": "code",
      "source": [
        "y_train[:5]"
      ],
      "metadata": {
        "id": "kLxBTVFfRkpq",
        "outputId": "97e2bc25-1cbc-4b2e-bea1-40948034a94e",
        "colab": {
          "base_uri": "https://localhost:8080/"
        }
      },
      "execution_count": 177,
      "outputs": [
        {
          "output_type": "execute_result",
          "data": {
            "text/plain": [
              "tensor([1., 0., 0., 0., 1.])"
            ]
          },
          "metadata": {},
          "execution_count": 177
        }
      ]
    },
    {
      "cell_type": "code",
      "source": [
        "#1. Construct a model that subclass nn.Module\n",
        "class CircleModelV0(nn.Module):\n",
        "  def __init__(self):\n",
        "    super().__init__()\n",
        "    #2. create 2 nn.Linear\n",
        "\n",
        "    self.layer_1 = nn.Linear(in_features=2,out_features=5)# takes in 2 features (X), produces 5 features\n",
        "    self.layer_2 = nn.Linear(in_features=5, out_features=1)# takes in 5 features, produces 1 feature (y)\n",
        "\n",
        "  def forward(self, x):\n",
        "    return self.layer_2(self.layer_1(x)) # x -> layer_1 -> layer_2 -> output\n",
        "\n",
        "#4. Instantiate an instance of our model class and send it to the target ddevice\n",
        "model_0 = CircleModelV0().to(device)\n",
        "model_0"
      ],
      "metadata": {
        "id": "-Cvhpt7zEvoR",
        "colab": {
          "base_uri": "https://localhost:8080/"
        },
        "outputId": "8dfc071e-6fb3-4ecd-a02a-38a9b42a27ff"
      },
      "execution_count": 178,
      "outputs": [
        {
          "output_type": "execute_result",
          "data": {
            "text/plain": [
              "CircleModelV0(\n",
              "  (layer_1): Linear(in_features=2, out_features=5, bias=True)\n",
              "  (layer_2): Linear(in_features=5, out_features=1, bias=True)\n",
              ")"
            ]
          },
          "metadata": {},
          "execution_count": 178
        }
      ]
    },
    {
      "cell_type": "code",
      "source": [
        "device"
      ],
      "metadata": {
        "id": "j6g7JnweKhIp",
        "outputId": "478b1a75-912e-44d3-f5e4-02e02d3bf79b",
        "colab": {
          "base_uri": "https://localhost:8080/",
          "height": 35
        }
      },
      "execution_count": 179,
      "outputs": [
        {
          "output_type": "execute_result",
          "data": {
            "text/plain": [
              "'cuda'"
            ],
            "application/vnd.google.colaboratory.intrinsic+json": {
              "type": "string"
            }
          },
          "metadata": {},
          "execution_count": 179
        }
      ]
    },
    {
      "cell_type": "code",
      "source": [
        "next(model_0.parameters()).device"
      ],
      "metadata": {
        "id": "ABNz1d8PRPtZ",
        "colab": {
          "base_uri": "https://localhost:8080/"
        },
        "outputId": "00bf9a16-73cc-4845-fc27-40f429a7991f"
      },
      "execution_count": 180,
      "outputs": [
        {
          "output_type": "execute_result",
          "data": {
            "text/plain": [
              "device(type='cuda', index=0)"
            ]
          },
          "metadata": {},
          "execution_count": 180
        }
      ]
    },
    {
      "cell_type": "code",
      "source": [
        "# Lets replicate the model above using nn.Sequential()\n",
        "model_0 = nn.Sequential(\n",
        "    nn.Linear(in_features=2, out_features=5),\n",
        "    nn.Linear(in_features=5, out_features=1)\n",
        ").to(device)\n",
        "\n",
        "model_0"
      ],
      "metadata": {
        "colab": {
          "base_uri": "https://localhost:8080/"
        },
        "id": "drVdAwukNs_S",
        "outputId": "48d85cea-a4af-4b06-b142-525be33d5d3a"
      },
      "execution_count": 181,
      "outputs": [
        {
          "output_type": "execute_result",
          "data": {
            "text/plain": [
              "Sequential(\n",
              "  (0): Linear(in_features=2, out_features=5, bias=True)\n",
              "  (1): Linear(in_features=5, out_features=1, bias=True)\n",
              ")"
            ]
          },
          "metadata": {},
          "execution_count": 181
        }
      ]
    },
    {
      "cell_type": "code",
      "source": [
        "#Make prediction\n",
        "model_0.state_dict()"
      ],
      "metadata": {
        "colab": {
          "base_uri": "https://localhost:8080/"
        },
        "id": "SAvOfeSCOWqB",
        "outputId": "ef50846a-2c38-490d-d988-023ebe7384e9"
      },
      "execution_count": 182,
      "outputs": [
        {
          "output_type": "execute_result",
          "data": {
            "text/plain": [
              "OrderedDict([('0.weight',\n",
              "              tensor([[-0.0829, -0.2872],\n",
              "                      [ 0.4691, -0.5582],\n",
              "                      [-0.3260, -0.1997],\n",
              "                      [-0.4252,  0.0667],\n",
              "                      [-0.6984,  0.6386]], device='cuda:0')),\n",
              "             ('0.bias',\n",
              "              tensor([-0.6007,  0.5459,  0.1177, -0.2296,  0.4370], device='cuda:0')),\n",
              "             ('1.weight',\n",
              "              tensor([[ 0.0697,  0.3613,  0.0489, -0.1410,  0.1202]], device='cuda:0')),\n",
              "             ('1.bias', tensor([-0.1213], device='cuda:0'))])"
            ]
          },
          "metadata": {},
          "execution_count": 182
        }
      ]
    },
    {
      "cell_type": "code",
      "source": [
        "# Make predictions\n",
        "with torch.inference_mode():\n",
        "  untrained_preds = model_0(X_test.to(device))\n",
        "print(f\"Length of predictions:{ len(untrained_preds)},shape: {untrained_preds.shape}\")\n",
        "print(f\"Length of test samples: {len(X_test)}, Shape: {X_test.shape}\" )\n",
        "print(f\"\\nFirst 10 predictions: \\n{torch.round(untrained_preds[:10])}\")\n",
        "print(f\"\\nFirst 10 labels:\\n{y_test[:10]}\")"
      ],
      "metadata": {
        "id": "5smugEPmQo6v",
        "outputId": "e67df822-4d92-4bbd-8102-58fb67560dd6",
        "colab": {
          "base_uri": "https://localhost:8080/"
        }
      },
      "execution_count": 183,
      "outputs": [
        {
          "output_type": "stream",
          "name": "stdout",
          "text": [
            "Length of predictions:200,shape: torch.Size([200, 1])\n",
            "Length of test samples: 200, Shape: torch.Size([200, 2])\n",
            "\n",
            "First 10 predictions: \n",
            "tensor([[-0.],\n",
            "        [-0.],\n",
            "        [0.],\n",
            "        [-0.],\n",
            "        [0.],\n",
            "        [0.],\n",
            "        [0.],\n",
            "        [0.],\n",
            "        [0.],\n",
            "        [-0.]], device='cuda:0')\n",
            "\n",
            "First 10 labels:\n",
            "tensor([1., 0., 1., 0., 1., 1., 0., 0., 1., 0.])\n"
          ]
        }
      ]
    },
    {
      "cell_type": "code",
      "source": [
        "y_test[:10],X_test[:10]"
      ],
      "metadata": {
        "id": "4ELQPjSdTMCV",
        "colab": {
          "base_uri": "https://localhost:8080/"
        },
        "outputId": "91dda84b-e8d6-4978-f862-20163ae88f93"
      },
      "execution_count": 184,
      "outputs": [
        {
          "output_type": "execute_result",
          "data": {
            "text/plain": [
              "(tensor([1., 0., 1., 0., 1., 1., 0., 0., 1., 0.]),\n",
              " tensor([[-0.3752,  0.6827],\n",
              "         [ 0.0154,  0.9600],\n",
              "         [-0.7028, -0.3147],\n",
              "         [-0.2853,  0.9664],\n",
              "         [ 0.4024, -0.7438],\n",
              "         [ 0.6323, -0.5711],\n",
              "         [ 0.8561,  0.5499],\n",
              "         [ 1.0034,  0.1903],\n",
              "         [-0.7489, -0.2951],\n",
              "         [ 0.0538,  0.9739]]))"
            ]
          },
          "metadata": {},
          "execution_count": 184
        }
      ]
    },
    {
      "cell_type": "markdown",
      "source": [
        "### 2.1 Setup loss function and optimizer\n",
        "\n",
        "But different problem types require different loss functions.\n",
        "\n",
        "For example, for a regression problem (predicting a number) you might use mean absolute error (MAE) or mean squared error(MSE) loss.\n",
        "\n",
        "for classification you might use binary cross entropy or classification cross entropy (cross entropy)\n",
        "\n",
        "As a reminder a loss function is used to determine how wrong your model is.\n",
        "\n",
        "And for optimizer, two of the most common are SGD and Adam, however Pytorch has many built-in options.\n",
        "\n",
        "**For the loss functon we''re going to use `torch.nn.BCEWithLogitsLoss()`,for more on what binary cross entropy (BCE)"
      ],
      "metadata": {
        "id": "-b-cdmRsHfUP"
      }
    },
    {
      "cell_type": "code",
      "source": [
        "# setup the loss function\n",
        "#loss_fn = nn.BCELoss() # BCELoss = requires inputs to have gone through the sigmoid  activation functin prior to input to BCELoss\n",
        "loss_fn = nn.BCEWithLogitsLoss() #BCEWithLogitsLoss = sigmoid activation function\n",
        "\n",
        "optimizer = torch.optim.SGD(params=model_0.parameters(),\n",
        "                            lr=0.1)"
      ],
      "metadata": {
        "id": "9mEx0gLWTctE"
      },
      "execution_count": 185,
      "outputs": []
    },
    {
      "cell_type": "code",
      "source": [
        "# Calculate accuracy - out of 100 example eg, what percentage does our model get ri\\ght ?\n",
        "def acuracy_fn(y_true, y_pred):\n",
        "    correct = torch.eq(y_true, y_pred).sum().item()\n",
        "    acc = (correct/len(y_pred)) * 100\n",
        "    return acc"
      ],
      "metadata": {
        "id": "Rj-2G7y3TxNT"
      },
      "execution_count": 186,
      "outputs": []
    },
    {
      "cell_type": "markdown",
      "source": [
        "## 3. Train Model\n",
        "\n",
        "To train our model, we're going to need to build a  training loop:\n",
        "\n",
        "1. forward pass\n",
        "\n",
        "2. Calculate the loss\n",
        "\n",
        "3. Optimizer zero grad\n",
        "\n",
        "4. Loss backward(backpropagation)\n",
        "\n",
        "5. Optimiaer step(gradient desecent)"
      ],
      "metadata": {
        "id": "HCrf3Rd9VIeA"
      }
    },
    {
      "cell_type": "markdown",
      "source": [
        "### 3.1 Going from raw logits -. prediction prob -> pred labels\n",
        "\n",
        "Our model outputs are going to be raw **logits**\n",
        "\n",
        "We can conver these **logts** into **prediction probabilities** by passing them to some kind of activation function(e.g. sigmoid for binary classification and sofmax for multiclass classification)\n",
        "\n",
        "Ten we can convert our model's prediction probabilities to prediction labels by either rounding them or taking the `argmax()`"
      ],
      "metadata": {
        "id": "8ICB8oRLWNbJ"
      }
    },
    {
      "cell_type": "code",
      "source": [
        "model_0"
      ],
      "metadata": {
        "colab": {
          "base_uri": "https://localhost:8080/"
        },
        "id": "UeNxe_8lUwli",
        "outputId": "60165358-93b0-49e2-aad7-bbdd11c2c155"
      },
      "execution_count": 187,
      "outputs": [
        {
          "output_type": "execute_result",
          "data": {
            "text/plain": [
              "Sequential(\n",
              "  (0): Linear(in_features=2, out_features=5, bias=True)\n",
              "  (1): Linear(in_features=5, out_features=1, bias=True)\n",
              ")"
            ]
          },
          "metadata": {},
          "execution_count": 187
        }
      ]
    },
    {
      "cell_type": "code",
      "source": [
        "# view the first 5 outputs  of the forward pass on the test data\n",
        "model_0.eval()\n",
        "with torch.no_grad():\n",
        "  y_logits = model_0(X_test.to(device))[:5]\n",
        "y_logits"
      ],
      "metadata": {
        "colab": {
          "base_uri": "https://localhost:8080/"
        },
        "id": "6McOS2DKXCpf",
        "outputId": "ceff189c-7de8-4b8c-fba6-60a201645b47"
      },
      "execution_count": 188,
      "outputs": [
        {
          "output_type": "execute_result",
          "data": {
            "text/plain": [
              "tensor([[-0.0338],\n",
              "        [-0.0309],\n",
              "        [ 0.0894],\n",
              "        [-0.0692],\n",
              "        [ 0.2967]], device='cuda:0')"
            ]
          },
          "metadata": {},
          "execution_count": 188
        }
      ]
    },
    {
      "cell_type": "code",
      "source": [
        "y_test[:5]"
      ],
      "metadata": {
        "colab": {
          "base_uri": "https://localhost:8080/"
        },
        "id": "X4a-m_j7Xt4m",
        "outputId": "da3a9eff-7b77-4c8e-a82c-ed6501dd078f"
      },
      "execution_count": 189,
      "outputs": [
        {
          "output_type": "execute_result",
          "data": {
            "text/plain": [
              "tensor([1., 0., 1., 0., 1.])"
            ]
          },
          "metadata": {},
          "execution_count": 189
        }
      ]
    },
    {
      "cell_type": "code",
      "source": [
        "#Use the sigmoid activation function on our model logits  to turn them into prediction probabilities\n",
        "y_pred_probs = torch.sigmoid(y_logits)\n",
        "y_pred_probs"
      ],
      "metadata": {
        "colab": {
          "base_uri": "https://localhost:8080/"
        },
        "id": "HLngumzQY8T8",
        "outputId": "ec053da5-e7d8-4f57-b4c0-4246bb3735ce"
      },
      "execution_count": 190,
      "outputs": [
        {
          "output_type": "execute_result",
          "data": {
            "text/plain": [
              "tensor([[0.4916],\n",
              "        [0.4923],\n",
              "        [0.5223],\n",
              "        [0.4827],\n",
              "        [0.5736]], device='cuda:0')"
            ]
          },
          "metadata": {},
          "execution_count": 190
        }
      ]
    },
    {
      "cell_type": "markdown",
      "source": [
        "For our pred prob values , we need to peform a range - style rounding on them:\n",
        "* `y_pred_probs` >0.5, y=1 (class 1)\n",
        "* `y_pred_probs` < ).5, y=0 (class 0)"
      ],
      "metadata": {
        "id": "n3zWC2lgZq7L"
      }
    },
    {
      "cell_type": "code",
      "source": [
        "# find the pred\n",
        "y_preds = torch.round(y_pred_probs)\n",
        "\n",
        "# in full (logits -> pred  probs -> pred labels)\n",
        "y_pred_labels =- torch.round(torch.sigmoid(model_0(X_test.to(device))[:5]))\n",
        "\n",
        "# CHeck for equality\n",
        "print(torch.eq(y_preds.squeeze(),y_pred_labels.squeeze()))\n",
        "\n",
        "# Get rid of  extra dimension\n",
        "y_preds.squeeze()"
      ],
      "metadata": {
        "colab": {
          "base_uri": "https://localhost:8080/"
        },
        "id": "Vvzzrm61Y_ZD",
        "outputId": "edf80ab5-f674-4603-8606-adb61d5bb7f0"
      },
      "execution_count": 191,
      "outputs": [
        {
          "output_type": "stream",
          "name": "stdout",
          "text": [
            "tensor([ True,  True, False,  True, False], device='cuda:0')\n"
          ]
        },
        {
          "output_type": "execute_result",
          "data": {
            "text/plain": [
              "tensor([0., 0., 1., 0., 1.], device='cuda:0')"
            ]
          },
          "metadata": {},
          "execution_count": 191
        }
      ]
    },
    {
      "cell_type": "code",
      "source": [
        "y_test[:5]"
      ],
      "metadata": {
        "colab": {
          "base_uri": "https://localhost:8080/"
        },
        "id": "a8mj_rHBY_Vn",
        "outputId": "2b625787-c5cb-4c1f-e21d-a724f94ca28c"
      },
      "execution_count": 192,
      "outputs": [
        {
          "output_type": "execute_result",
          "data": {
            "text/plain": [
              "tensor([1., 0., 1., 0., 1.])"
            ]
          },
          "metadata": {},
          "execution_count": 192
        }
      ]
    },
    {
      "cell_type": "markdown",
      "source": [
        "### 4.3 Training and Test loop"
      ],
      "metadata": {
        "id": "JPa0LvY1qIl8"
      }
    },
    {
      "cell_type": "code",
      "source": [
        "device"
      ],
      "metadata": {
        "colab": {
          "base_uri": "https://localhost:8080/",
          "height": 35
        },
        "id": "yx-yC3RBY_ST",
        "outputId": "28e9bf44-2b29-40be-c361-4b7783388546"
      },
      "execution_count": 193,
      "outputs": [
        {
          "output_type": "execute_result",
          "data": {
            "text/plain": [
              "'cuda'"
            ],
            "application/vnd.google.colaboratory.intrinsic+json": {
              "type": "string"
            }
          },
          "metadata": {},
          "execution_count": 193
        }
      ]
    },
    {
      "cell_type": "code",
      "source": [
        "!nvidia-smi"
      ],
      "metadata": {
        "colab": {
          "base_uri": "https://localhost:8080/"
        },
        "id": "0FCmyM2oY_PV",
        "outputId": "71e59492-acf5-4c92-efc3-38f3dc81c7f4"
      },
      "execution_count": 194,
      "outputs": [
        {
          "output_type": "stream",
          "name": "stdout",
          "text": [
            "Sat Oct  4 12:08:14 2025       \n",
            "+-----------------------------------------------------------------------------------------+\n",
            "| NVIDIA-SMI 550.54.15              Driver Version: 550.54.15      CUDA Version: 12.4     |\n",
            "|-----------------------------------------+------------------------+----------------------+\n",
            "| GPU  Name                 Persistence-M | Bus-Id          Disp.A | Volatile Uncorr. ECC |\n",
            "| Fan  Temp   Perf          Pwr:Usage/Cap |           Memory-Usage | GPU-Util  Compute M. |\n",
            "|                                         |                        |               MIG M. |\n",
            "|=========================================+========================+======================|\n",
            "|   0  Tesla T4                       Off |   00000000:00:04.0 Off |                    0 |\n",
            "| N/A   69C    P0             31W /   70W |     158MiB /  15360MiB |      0%      Default |\n",
            "|                                         |                        |                  N/A |\n",
            "+-----------------------------------------+------------------------+----------------------+\n",
            "                                                                                         \n",
            "+-----------------------------------------------------------------------------------------+\n",
            "| Processes:                                                                              |\n",
            "|  GPU   GI   CI        PID   Type   Process name                              GPU Memory |\n",
            "|        ID   ID                                                               Usage      |\n",
            "|=========================================================================================|\n",
            "+-----------------------------------------------------------------------------------------+\n"
          ]
        }
      ]
    },
    {
      "cell_type": "code",
      "source": [
        "import torch\n",
        "from torch import nn\n",
        "\n",
        "# Calculate accuracy - out of 100 example eg, what percentage does our model get ri\\ght ?\n",
        "def acuracy_fn(y_true, y_pred):\n",
        "    correct = torch.eq(y_true, y_pred).sum().item()\n",
        "    acc = (correct/len(y_pred)) * 100\n",
        "    return acc\n",
        "\n",
        "torch.manual_seed(42)\n",
        "\n",
        "# Set the number of epochs\n",
        "epochs = 100\n",
        "\n",
        "# Put data to target device\n",
        "X_train, y_train = X_train.to(device), y_train.to(device)\n",
        "X_test, y_test = X_test.to(device), y_test.to(device)\n",
        "\n",
        "# Build training and evaluation loop\n",
        "for epoch in range(epochs):\n",
        "    ### Training\n",
        "    model_0.train()\n",
        "\n",
        "    # 1. Forward pass (model outputs raw logits)\n",
        "    y_logits = model_0(X_train).squeeze() # squeeze to remove extra `1` dimensions, this won't work unless model and data are on same device\n",
        "    y_pred = torch.round(torch.sigmoid(y_logits)) # turn logits -> pred probs -> pred labls\n",
        "\n",
        "    # 2. Calculate loss/accuracy\n",
        "    # loss = loss_fn(torch.sigmoid(y_logits), # Using nn.BCELoss you need torch.sigmoid()\n",
        "    #                y_train)\n",
        "    loss = loss_fn(y_logits, # Using nn.BCEWithLogitsLoss works with raw logits\n",
        "                   y_train)\n",
        "    acc = acuracy_fn(y_true=y_train,\n",
        "                      y_pred=y_pred)\n",
        "\n",
        "    # 3. Optimizer zero grad\n",
        "    optimizer.zero_grad()\n",
        "\n",
        "    # 4. Loss backwards\n",
        "    loss.backward()\n",
        "\n",
        "    # 5. Optimizer step\n",
        "    optimizer.step()\n",
        "\n",
        "    ### Testing\n",
        "    model_0.eval()\n",
        "    with torch.inference_mode():\n",
        "        # 1. Forward pass\n",
        "        test_logits = model_0(X_test).squeeze()\n",
        "        test_pred = torch.round(torch.sigmoid(test_logits))\n",
        "        # 2. Caculate loss/accuracy\n",
        "        test_loss = loss_fn(test_logits,\n",
        "                            y_test)\n",
        "        test_acc = acuracy_fn(y_true=y_test,\n",
        "                               y_pred=test_pred)\n",
        "\n",
        "    # Print out what's happening every 10 epochs\n",
        "    if epoch % 10 == 0:\n",
        "        print(f\"Epoch: {epoch} | Loss: {loss:.5f}, Accuracy: {acc:.2f}% | Test loss: {test_loss:.5f}, Test acc: {test_acc:.2f}%\")"
      ],
      "metadata": {
        "colab": {
          "base_uri": "https://localhost:8080/"
        },
        "id": "9GrQ-eByIEAx",
        "outputId": "06a5b54b-997a-46f2-e6fa-477f59ddeb76"
      },
      "execution_count": 200,
      "outputs": [
        {
          "output_type": "stream",
          "name": "stdout",
          "text": [
            "Epoch: 0 | Loss: 0.69331, Accuracy: 49.25% | Test loss: 0.69271, Test acc: 53.00%\n",
            "Epoch: 10 | Loss: 0.69327, Accuracy: 49.75% | Test loss: 0.69279, Test acc: 54.00%\n",
            "Epoch: 20 | Loss: 0.69324, Accuracy: 50.25% | Test loss: 0.69286, Test acc: 53.00%\n",
            "Epoch: 30 | Loss: 0.69321, Accuracy: 49.75% | Test loss: 0.69294, Test acc: 55.00%\n",
            "Epoch: 40 | Loss: 0.69319, Accuracy: 50.62% | Test loss: 0.69301, Test acc: 54.00%\n",
            "Epoch: 50 | Loss: 0.69317, Accuracy: 52.25% | Test loss: 0.69307, Test acc: 51.00%\n",
            "Epoch: 60 | Loss: 0.69315, Accuracy: 51.38% | Test loss: 0.69314, Test acc: 56.00%\n",
            "Epoch: 70 | Loss: 0.69314, Accuracy: 51.12% | Test loss: 0.69320, Test acc: 52.00%\n",
            "Epoch: 80 | Loss: 0.69313, Accuracy: 51.25% | Test loss: 0.69325, Test acc: 48.50%\n",
            "Epoch: 90 | Loss: 0.69311, Accuracy: 51.00% | Test loss: 0.69331, Test acc: 50.00%\n"
          ]
        }
      ]
    },
    {
      "cell_type": "markdown",
      "source": [
        "##4. make prediction and  evaluate the model\n",
        "\n",
        "From the metrices it lookn like our model isn't learning anythng...\n",
        "\n",
        "So to inspect it lets make some predictions and make them visual!\n",
        "\n",
        "In other words \"Visualize\"\n",
        "\n",
        "To do so , we're going to import a function `https://github.com/mrdbourke/pytorch-deep-learning/blob/main/helper_functions.py`"
      ],
      "metadata": {
        "id": "P2J-t9yBLwFw"
      }
    },
    {
      "cell_type": "code",
      "source": [
        "import requests\n",
        "from pathlib import Path\n",
        "\n",
        "# Download helper functions from Learn PyTorch repo (if not already downloaded)\n",
        "if Path(\"helper_functions.py\").is_file():\n",
        "  print(\"helper_functions.py already exists, skipping download\")\n",
        "else:\n",
        "  print(\"Downloading helper_functions.py\")\n",
        "  request = requests.get(\"https://raw.githubusercontent.com/mrdbourke/pytorch-deep-learning/main/helper_functions.py\")\n",
        "  with open(\"helper_functions.py\", \"wb\") as f:\n",
        "    f.write(request.content)\n",
        "\n",
        "from helper_functions import plot_predictions, plot_decision_boundary"
      ],
      "metadata": {
        "colab": {
          "base_uri": "https://localhost:8080/"
        },
        "id": "J2qZ7DnCLNNf",
        "outputId": "bbc83ef1-5f08-4420-c75c-031aa75f05e1"
      },
      "execution_count": 202,
      "outputs": [
        {
          "output_type": "stream",
          "name": "stdout",
          "text": [
            "Downloading helper_functions.py\n"
          ]
        }
      ]
    },
    {
      "cell_type": "code",
      "source": [
        "# Plot decision boundaries for training and test sets\n",
        "plt.figure(figsize=(12, 6))\n",
        "plt.subplot(1, 2, 1)\n",
        "plt.title(\"Train\")\n",
        "plot_decision_boundary(model_0, X_train, y_train)\n",
        "plt.subplot(1, 2, 2)\n",
        "plt.title(\"Test\")\n",
        "plot_decision_boundary(model_0, X_test, y_test)"
      ],
      "metadata": {
        "colab": {
          "base_uri": "https://localhost:8080/",
          "height": 545
        },
        "id": "2QTd0S9fLNKn",
        "outputId": "4039a28b-524b-4cb1-84aa-a6b0c3a8c21b"
      },
      "execution_count": 203,
      "outputs": [
        {
          "output_type": "display_data",
          "data": {
            "text/plain": [
              "<Figure size 1200x600 with 2 Axes>"
            ],
            "image/png": "[encoded data removed]"
          },
          "metadata": {}
        }
      ]
    },
    {
      "cell_type": "code",
      "source": [],
      "metadata": {
        "id": "SnYdegLhLNHQ"
      },
      "execution_count": null,
      "outputs": []
    },
    {
      "cell_type": "code",
      "source": [],
      "metadata": {
        "id": "6--R6vXgLND2"
      },
      "execution_count": null,
      "outputs": []
    },
    {
      "cell_type": "code",
      "source": [
        "loss_fn"
      ],
      "metadata": {
        "colab": {
          "base_uri": "https://localhost:8080/"
        },
        "id": "8DiLotphY_Fj",
        "outputId": "a76134d7-342f-4d91-f1a9-60e4793c74b6"
      },
      "execution_count": 196,
      "outputs": [
        {
          "output_type": "execute_result",
          "data": {
            "text/plain": [
              "BCEWithLogitsLoss()"
            ]
          },
          "metadata": {},
          "execution_count": 196
        }
      ]
    },
    {
      "cell_type": "code",
      "source": [
        "loss_fn_wihout_logits = nn.BCELoss()"
      ],
      "metadata": {
        "id": "d6lBc3Rh6e_P"
      },
      "execution_count": 197,
      "outputs": []
    },
    {
      "cell_type": "code",
      "source": [],
      "metadata": {
        "id": "_rXayKP_6e8n"
      },
      "execution_count": 197,
      "outputs": []
    },
    {
      "cell_type": "code",
      "source": [],
      "metadata": {
        "id": "koNL38_a6e5w"
      },
      "execution_count": 197,
      "outputs": []
    },
    {
      "cell_type": "code",
      "source": [],
      "metadata": {
        "id": "6F9gj69p6e0v"
      },
      "execution_count": 197,
      "outputs": []
    },
    {
      "cell_type": "code",
      "source": [],
      "metadata": {
        "id": "WA9aPxNv6eyA"
      },
      "execution_count": 197,
      "outputs": []
    },
    {
      "cell_type": "code",
      "source": [],
      "metadata": {
        "id": "D4ENe7k-Y_Cl"
      },
      "execution_count": 197,
      "outputs": []
    }
  ]
}